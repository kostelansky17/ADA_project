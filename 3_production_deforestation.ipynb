{
 "nbformat": 4,
 "nbformat_minor": 2,
 "metadata": {
  "language_info": {
   "name": "python",
   "codemirror_mode": {
    "name": "ipython",
    "version": 3
   },
   "version": "3.7.3"
  },
  "orig_nbformat": 2,
  "file_extension": ".py",
  "mimetype": "text/x-python",
  "name": "python",
  "npconvert_exporter": "python",
  "pygments_lexer": "ipython3",
  "version": 3
 },
 "cells": [
  {
   "cell_type": "code",
   "execution_count": 1,
   "metadata": {},
   "outputs": [],
   "source": [
    "import pandas as pd\n",
    "import plotly.graph_objects as go\n",
    "from plotly.subplots import make_subplots\n",
    "\n",
    "CONTINENTS = ['Africa', 'Asia', 'Oceania', 'Europe', 'Northern America', 'South America', 'Antarctic Region']\n",
    "TOP_PRODUCERS = ['United States of America',\n",
    " 'India',\n",
    " 'China',\n",
    " 'Brazil',\n",
    " 'Russian Federation',\n",
    " 'Canada',\n",
    " 'Indonesia',\n",
    " 'Ethiopia',\n",
    " 'Democratic Republic of the Congo',\n",
    " 'Nigeria',\n",
    " 'Sweden',\n",
    " 'Chile',\n",
    " 'Finland',\n",
    " 'Germany',\n",
    " 'France',\n",
    " 'Uganda',\n",
    " 'Ghana',\n",
    " 'Mexico',\n",
    " 'Myanmar',\n",
    " 'Poland',\n",
    " 'Viet Nam',\n",
    " 'Pakistan',\n",
    " 'Thailand',\n",
    " 'Australia',\n",
    " 'New Zealand',\n",
    " 'Kenya',\n",
    " 'South Africa',\n",
    " 'United Republic of Tanzania',\n",
    " 'Bangladesh',\n",
    " 'Turkey']"
   ]
  },
  {
   "cell_type": "code",
   "execution_count": 2,
   "metadata": {},
   "outputs": [],
   "source": [
    "FAOSTAT_country_data = pd.read_csv(\"/home/martin/Documents/school/EPFL/ws/ada/disappearing_forests/data/faostat/FAOSTAT_countries.csv\", engine='python')"
   ]
  },
  {
   "cell_type": "code",
   "execution_count": 3,
   "metadata": {},
   "outputs": [],
   "source": [
    "FAOSTAT_country_data = FAOSTAT_country_data[FAOSTAT_country_data.Country.isin(TOP_PRODUCERS) & FAOSTAT_country_data[\"Country Group\"].isin(CONTINENTS)]"
   ]
  },
  {
   "cell_type": "code",
   "execution_count": 4,
   "metadata": {},
   "outputs": [],
   "source": [
    "FAOSTAT_country_data = FAOSTAT_country_data[[\"Country\", \"Country Group\"]]"
   ]
  },
  {
   "cell_type": "code",
   "execution_count": 5,
   "metadata": {},
   "outputs": [],
   "source": [
    "# load datasets\n",
    "forest_all = pd.read_csv(\"/home/martin/Documents/school/EPFL/ws/ada/disappearing_forests/data/faostat/Forestry_E_All_Data_cleared.csv\", engine='python')\n",
    "\n",
    "land = pd.read_csv(\"/home/martin/Documents/school/EPFL/ws/ada/disappearing_forests/data/faostat/Inputs_LandUse_E_All_Data_cleared.csv\",engine='python')"
   ]
  },
  {
   "cell_type": "code",
   "execution_count": 6,
   "metadata": {},
   "outputs": [],
   "source": [
    "forest_area = land[land.Item.isin(['Forestry']) & \n",
    "                   land.Area.isin(TOP_PRODUCERS) & \n",
    "                   land.Year.isin([1995, 2015])][[\"Area\", \"Year\", \"Unit\", \"Value\", \"Item\"]]"
   ]
  },
  {
   "cell_type": "code",
   "execution_count": 7,
   "metadata": {},
   "outputs": [],
   "source": [
    "country_area = land[land.Item.isin(['Country area']) & \n",
    "                   land.Area.isin(TOP_PRODUCERS) & \n",
    "                   land.Year.isin([2015])][[\"Area\", \"Year\", \"Unit\", \"Value\", \"Item\"]]"
   ]
  },
  {
   "cell_type": "code",
   "execution_count": 8,
   "metadata": {},
   "outputs": [],
   "source": [
    "forest_area.loc[forest_area.Year == 1995, 'Value'] = forest_area[forest_area.Year == 1995].Value.apply(lambda x: x*-1)\n"
   ]
  },
  {
   "cell_type": "code",
   "execution_count": 9,
   "metadata": {},
   "outputs": [],
   "source": [
    "forest_area = forest_area.groupby([\"Area\"]).Value.sum().reset_index()"
   ]
  },
  {
   "cell_type": "code",
   "execution_count": 10,
   "metadata": {},
   "outputs": [],
   "source": [
    "forest_area = forest_area.merge(FAOSTAT_country_data,left_on=\"Area\", right_on=\"Country\")"
   ]
  },
  {
   "cell_type": "code",
   "execution_count": 11,
   "metadata": {},
   "outputs": [],
   "source": [
    "forest_area = forest_area.merge(country_area[[\"Area\", \"Value\"]], left_on=[\"Area\"], right_on=[\"Area\"], suffixes=('_forest', '_country'))\n",
    " "
   ]
  },
  {
   "cell_type": "code",
   "execution_count": 12,
   "metadata": {},
   "outputs": [],
   "source": [
    "forest_area[\"Decrease\"] = forest_area[\"Value_forest\"] / forest_area[\"Value_country\"] "
   ]
  },
  {
   "cell_type": "code",
   "execution_count": 13,
   "metadata": {},
   "outputs": [],
   "source": [
    "forest_area = forest_area[[\"Area\", \"Decrease\", \"Country Group\"]]"
   ]
  },
  {
   "cell_type": "code",
   "execution_count": 31,
   "metadata": {},
   "outputs": [],
   "source": [
    "forest_area = forest_area.sort_values(by=\"Decrease\")"
   ]
  },
  {
   "cell_type": "code",
   "execution_count": 32,
   "metadata": {},
   "outputs": [
    {
     "data": {
      "text/plain": "array(['Myanmar', 'Indonesia', 'Uganda', 'Nigeria',\n       'United Republic of Tanzania', 'Brazil',\n       'Democratic Republic of the Congo', 'Ethiopia', 'Pakistan',\n       'Australia', 'Bangladesh', 'Canada', 'Sweden', 'South Africa',\n       'Finland', 'Germany', 'Russian Federation', 'Kenya',\n       'United States of America', 'New Zealand', 'Poland', 'Thailand',\n       'India', 'Turkey', 'Ghana', 'Chile', 'France', 'Viet Nam'],\n      dtype=object)"
     },
     "execution_count": 32,
     "metadata": {},
     "output_type": "execute_result"
    }
   ],
   "source": [
    "forest_area.Area.unique()"
   ]
  },
  {
   "cell_type": "code",
   "execution_count": 33,
   "metadata": {},
   "outputs": [
    {
     "data": {
      "application/vnd.plotly.v1+json": {
       "config": {
        "plotlyServerURL": "https://plot.ly"
       },
       "data": [
        {
         "alignmentgroup": "True",
         "hoverlabel": {
          "namelength": 0
         },
         "hovertemplate": "Continent=Asia<br>Country=%{x}<br>Increase of forested area since 1995 (%)=%{y}",
         "legendgroup": "Continent=Asia",
         "marker": {
          "color": "#636efa"
         },
         "name": "Continent=Asia",
         "offsetgroup": "Continent=Asia",
         "orientation": "v",
         "showlegend": true,
         "textposition": "auto",
         "type": "bar",
         "x": [
          "Myanmar",
          "Indonesia",
          "Pakistan",
          "Bangladesh",
          "Thailand",
          "India",
          "Turkey",
          "Viet Nam"
         ],
         "xaxis": "x",
         "y": [
          -0.11826955763460885,
          -0.0938920766312357,
          -0.01067077000376837,
          -0.003522319311792996,
          0.017364359214218895,
          0.018305524450613717,
          0.023078882027121665,
          0.12764544274371284
         ],
         "yaxis": "y"
        },
        {
         "alignmentgroup": "True",
         "hoverlabel": {
          "namelength": 0
         },
         "hovertemplate": "Continent=Africa<br>Country=%{x}<br>Increase of forested area since 1995 (%)=%{y}",
         "legendgroup": "Continent=Africa",
         "marker": {
          "color": "#EF553B"
         },
         "name": "Continent=Africa",
         "offsetgroup": "Continent=Africa",
         "orientation": "v",
         "showlegend": true,
         "textposition": "auto",
         "type": "bar",
         "x": [
          "Uganda",
          "Nigeria",
          "United Republic of Tanzania",
          "Democratic Republic of the Congo",
          "Ethiopia",
          "South Africa",
          "Kenya",
          "Ghana"
         ],
         "xaxis": "x",
         "y": [
          -0.0924446284413165,
          -0.08868549530727346,
          -0.0829726591364932,
          -0.026560221079296845,
          -0.017300552386126957,
          0,
          0.004695280596860623,
          0.0238534417707722
         ],
         "yaxis": "y"
        },
        {
         "alignmentgroup": "True",
         "hoverlabel": {
          "namelength": 0
         },
         "hovertemplate": "Continent=South America<br>Country=%{x}<br>Increase of forested area since 1995 (%)=%{y}",
         "legendgroup": "Continent=South America",
         "marker": {
          "color": "#00cc96"
         },
         "name": "Continent=South America",
         "offsetgroup": "Continent=South America",
         "orientation": "v",
         "showlegend": true,
         "textposition": "auto",
         "type": "bar",
         "x": [
          "Brazil",
          "Chile"
         ],
         "xaxis": "x",
         "y": [
          -0.047501870059900635,
          0.02891828550871847
         ],
         "yaxis": "y"
        },
        {
         "alignmentgroup": "True",
         "hoverlabel": {
          "namelength": 0
         },
         "hovertemplate": "Continent=Oceania<br>Country=%{x}<br>Increase of forested area since 1995 (%)=%{y}",
         "legendgroup": "Continent=Oceania",
         "marker": {
          "color": "#ab63fa"
         },
         "name": "Continent=Oceania",
         "offsetgroup": "Continent=Oceania",
         "orientation": "v",
         "showlegend": true,
         "textposition": "auto",
         "type": "bar",
         "x": [
          "Australia",
          "New Zealand"
         ],
         "xaxis": "x",
         "y": [
          -0.005089637033955888,
          0.009469201748160322
         ],
         "yaxis": "y"
        },
        {
         "alignmentgroup": "True",
         "hoverlabel": {
          "namelength": 0
         },
         "hovertemplate": "Continent=Northern America<br>Country=%{x}<br>Increase of forested area since 1995 (%)=%{y}",
         "legendgroup": "Continent=Northern America",
         "marker": {
          "color": "#FFA15A"
         },
         "name": "Continent=Northern America",
         "offsetgroup": "Continent=Northern America",
         "orientation": "v",
         "showlegend": true,
         "textposition": "auto",
         "type": "bar",
         "x": [
          "Canada",
          "United States of America"
         ],
         "xaxis": "x",
         "y": [
          -0.000980287962752094,
          0.0072237123290318575
         ],
         "yaxis": "y"
        },
        {
         "alignmentgroup": "True",
         "hoverlabel": {
          "namelength": 0
         },
         "hovertemplate": "Continent=Europe<br>Country=%{x}<br>Increase of forested area since 1995 (%)=%{y}",
         "legendgroup": "Continent=Europe",
         "marker": {
          "color": "#19d3f3"
         },
         "name": "Continent=Europe",
         "offsetgroup": "Continent=Europe",
         "orientation": "v",
         "showlegend": true,
         "textposition": "auto",
         "type": "bar",
         "x": [
          "Sweden",
          "Finland",
          "Germany",
          "Russian Federation",
          "Poland",
          "France"
         ],
         "xaxis": "x",
         "y": [
          -0.0008939945913327224,
          0.0017137150387358693,
          0.002574081794246927,
          0.0034046174316085254,
          0.014871434053984904,
          0.03872792471866936
         ],
         "yaxis": "y"
        }
       ],
       "layout": {
        "barmode": "relative",
        "height": 800,
        "legend": {
         "tracegroupgap": 0
        },
        "margin": {
         "t": 60
        },
        "showlegend": true,
        "template": {
         "data": {
          "bar": [
           {
            "error_x": {
             "color": "#2a3f5f"
            },
            "error_y": {
             "color": "#2a3f5f"
            },
            "marker": {
             "line": {
              "color": "#E5ECF6",
              "width": 0.5
             }
            },
            "type": "bar"
           }
          ],
          "barpolar": [
           {
            "marker": {
             "line": {
              "color": "#E5ECF6",
              "width": 0.5
             }
            },
            "type": "barpolar"
           }
          ],
          "carpet": [
           {
            "aaxis": {
             "endlinecolor": "#2a3f5f",
             "gridcolor": "white",
             "linecolor": "white",
             "minorgridcolor": "white",
             "startlinecolor": "#2a3f5f"
            },
            "baxis": {
             "endlinecolor": "#2a3f5f",
             "gridcolor": "white",
             "linecolor": "white",
             "minorgridcolor": "white",
             "startlinecolor": "#2a3f5f"
            },
            "type": "carpet"
           }
          ],
          "choropleth": [
           {
            "colorbar": {
             "outlinewidth": 0,
             "ticks": ""
            },
            "type": "choropleth"
           }
          ],
          "contour": [
           {
            "colorbar": {
             "outlinewidth": 0,
             "ticks": ""
            },
            "colorscale": [
             [
              0,
              "#0d0887"
             ],
             [
              0.1111111111111111,
              "#46039f"
             ],
             [
              0.2222222222222222,
              "#7201a8"
             ],
             [
              0.3333333333333333,
              "#9c179e"
             ],
             [
              0.4444444444444444,
              "#bd3786"
             ],
             [
              0.5555555555555556,
              "#d8576b"
             ],
             [
              0.6666666666666666,
              "#ed7953"
             ],
             [
              0.7777777777777778,
              "#fb9f3a"
             ],
             [
              0.8888888888888888,
              "#fdca26"
             ],
             [
              1,
              "#f0f921"
             ]
            ],
            "type": "contour"
           }
          ],
          "contourcarpet": [
           {
            "colorbar": {
             "outlinewidth": 0,
             "ticks": ""
            },
            "type": "contourcarpet"
           }
          ],
          "heatmap": [
           {
            "colorbar": {
             "outlinewidth": 0,
             "ticks": ""
            },
            "colorscale": [
             [
              0,
              "#0d0887"
             ],
             [
              0.1111111111111111,
              "#46039f"
             ],
             [
              0.2222222222222222,
              "#7201a8"
             ],
             [
              0.3333333333333333,
              "#9c179e"
             ],
             [
              0.4444444444444444,
              "#bd3786"
             ],
             [
              0.5555555555555556,
              "#d8576b"
             ],
             [
              0.6666666666666666,
              "#ed7953"
             ],
             [
              0.7777777777777778,
              "#fb9f3a"
             ],
             [
              0.8888888888888888,
              "#fdca26"
             ],
             [
              1,
              "#f0f921"
             ]
            ],
            "type": "heatmap"
           }
          ],
          "heatmapgl": [
           {
            "colorbar": {
             "outlinewidth": 0,
             "ticks": ""
            },
            "colorscale": [
             [
              0,
              "#0d0887"
             ],
             [
              0.1111111111111111,
              "#46039f"
             ],
             [
              0.2222222222222222,
              "#7201a8"
             ],
             [
              0.3333333333333333,
              "#9c179e"
             ],
             [
              0.4444444444444444,
              "#bd3786"
             ],
             [
              0.5555555555555556,
              "#d8576b"
             ],
             [
              0.6666666666666666,
              "#ed7953"
             ],
             [
              0.7777777777777778,
              "#fb9f3a"
             ],
             [
              0.8888888888888888,
              "#fdca26"
             ],
             [
              1,
              "#f0f921"
             ]
            ],
            "type": "heatmapgl"
           }
          ],
          "histogram": [
           {
            "marker": {
             "colorbar": {
              "outlinewidth": 0,
              "ticks": ""
             }
            },
            "type": "histogram"
           }
          ],
          "histogram2d": [
           {
            "colorbar": {
             "outlinewidth": 0,
             "ticks": ""
            },
            "colorscale": [
             [
              0,
              "#0d0887"
             ],
             [
              0.1111111111111111,
              "#46039f"
             ],
             [
              0.2222222222222222,
              "#7201a8"
             ],
             [
              0.3333333333333333,
              "#9c179e"
             ],
             [
              0.4444444444444444,
              "#bd3786"
             ],
             [
              0.5555555555555556,
              "#d8576b"
             ],
             [
              0.6666666666666666,
              "#ed7953"
             ],
             [
              0.7777777777777778,
              "#fb9f3a"
             ],
             [
              0.8888888888888888,
              "#fdca26"
             ],
             [
              1,
              "#f0f921"
             ]
            ],
            "type": "histogram2d"
           }
          ],
          "histogram2dcontour": [
           {
            "colorbar": {
             "outlinewidth": 0,
             "ticks": ""
            },
            "colorscale": [
             [
              0,
              "#0d0887"
             ],
             [
              0.1111111111111111,
              "#46039f"
             ],
             [
              0.2222222222222222,
              "#7201a8"
             ],
             [
              0.3333333333333333,
              "#9c179e"
             ],
             [
              0.4444444444444444,
              "#bd3786"
             ],
             [
              0.5555555555555556,
              "#d8576b"
             ],
             [
              0.6666666666666666,
              "#ed7953"
             ],
             [
              0.7777777777777778,
              "#fb9f3a"
             ],
             [
              0.8888888888888888,
              "#fdca26"
             ],
             [
              1,
              "#f0f921"
             ]
            ],
            "type": "histogram2dcontour"
           }
          ],
          "mesh3d": [
           {
            "colorbar": {
             "outlinewidth": 0,
             "ticks": ""
            },
            "type": "mesh3d"
           }
          ],
          "parcoords": [
           {
            "line": {
             "colorbar": {
              "outlinewidth": 0,
              "ticks": ""
             }
            },
            "type": "parcoords"
           }
          ],
          "pie": [
           {
            "automargin": true,
            "type": "pie"
           }
          ],
          "scatter": [
           {
            "marker": {
             "colorbar": {
              "outlinewidth": 0,
              "ticks": ""
             }
            },
            "type": "scatter"
           }
          ],
          "scatter3d": [
           {
            "line": {
             "colorbar": {
              "outlinewidth": 0,
              "ticks": ""
             }
            },
            "marker": {
             "colorbar": {
              "outlinewidth": 0,
              "ticks": ""
             }
            },
            "type": "scatter3d"
           }
          ],
          "scattercarpet": [
           {
            "marker": {
             "colorbar": {
              "outlinewidth": 0,
              "ticks": ""
             }
            },
            "type": "scattercarpet"
           }
          ],
          "scattergeo": [
           {
            "marker": {
             "colorbar": {
              "outlinewidth": 0,
              "ticks": ""
             }
            },
            "type": "scattergeo"
           }
          ],
          "scattergl": [
           {
            "marker": {
             "colorbar": {
              "outlinewidth": 0,
              "ticks": ""
             }
            },
            "type": "scattergl"
           }
          ],
          "scattermapbox": [
           {
            "marker": {
             "colorbar": {
              "outlinewidth": 0,
              "ticks": ""
             }
            },
            "type": "scattermapbox"
           }
          ],
          "scatterpolar": [
           {
            "marker": {
             "colorbar": {
              "outlinewidth": 0,
              "ticks": ""
             }
            },
            "type": "scatterpolar"
           }
          ],
          "scatterpolargl": [
           {
            "marker": {
             "colorbar": {
              "outlinewidth": 0,
              "ticks": ""
             }
            },
            "type": "scatterpolargl"
           }
          ],
          "scatterternary": [
           {
            "marker": {
             "colorbar": {
              "outlinewidth": 0,
              "ticks": ""
             }
            },
            "type": "scatterternary"
           }
          ],
          "surface": [
           {
            "colorbar": {
             "outlinewidth": 0,
             "ticks": ""
            },
            "colorscale": [
             [
              0,
              "#0d0887"
             ],
             [
              0.1111111111111111,
              "#46039f"
             ],
             [
              0.2222222222222222,
              "#7201a8"
             ],
             [
              0.3333333333333333,
              "#9c179e"
             ],
             [
              0.4444444444444444,
              "#bd3786"
             ],
             [
              0.5555555555555556,
              "#d8576b"
             ],
             [
              0.6666666666666666,
              "#ed7953"
             ],
             [
              0.7777777777777778,
              "#fb9f3a"
             ],
             [
              0.8888888888888888,
              "#fdca26"
             ],
             [
              1,
              "#f0f921"
             ]
            ],
            "type": "surface"
           }
          ],
          "table": [
           {
            "cells": {
             "fill": {
              "color": "#EBF0F8"
             },
             "line": {
              "color": "white"
             }
            },
            "header": {
             "fill": {
              "color": "#C8D4E3"
             },
             "line": {
              "color": "white"
             }
            },
            "type": "table"
           }
          ]
         },
         "layout": {
          "annotationdefaults": {
           "arrowcolor": "#2a3f5f",
           "arrowhead": 0,
           "arrowwidth": 1
          },
          "coloraxis": {
           "colorbar": {
            "outlinewidth": 0,
            "ticks": ""
           }
          },
          "colorscale": {
           "diverging": [
            [
             0,
             "#8e0152"
            ],
            [
             0.1,
             "#c51b7d"
            ],
            [
             0.2,
             "#de77ae"
            ],
            [
             0.3,
             "#f1b6da"
            ],
            [
             0.4,
             "#fde0ef"
            ],
            [
             0.5,
             "#f7f7f7"
            ],
            [
             0.6,
             "#e6f5d0"
            ],
            [
             0.7,
             "#b8e186"
            ],
            [
             0.8,
             "#7fbc41"
            ],
            [
             0.9,
             "#4d9221"
            ],
            [
             1,
             "#276419"
            ]
           ],
           "sequential": [
            [
             0,
             "#0d0887"
            ],
            [
             0.1111111111111111,
             "#46039f"
            ],
            [
             0.2222222222222222,
             "#7201a8"
            ],
            [
             0.3333333333333333,
             "#9c179e"
            ],
            [
             0.4444444444444444,
             "#bd3786"
            ],
            [
             0.5555555555555556,
             "#d8576b"
            ],
            [
             0.6666666666666666,
             "#ed7953"
            ],
            [
             0.7777777777777778,
             "#fb9f3a"
            ],
            [
             0.8888888888888888,
             "#fdca26"
            ],
            [
             1,
             "#f0f921"
            ]
           ],
           "sequentialminus": [
            [
             0,
             "#0d0887"
            ],
            [
             0.1111111111111111,
             "#46039f"
            ],
            [
             0.2222222222222222,
             "#7201a8"
            ],
            [
             0.3333333333333333,
             "#9c179e"
            ],
            [
             0.4444444444444444,
             "#bd3786"
            ],
            [
             0.5555555555555556,
             "#d8576b"
            ],
            [
             0.6666666666666666,
             "#ed7953"
            ],
            [
             0.7777777777777778,
             "#fb9f3a"
            ],
            [
             0.8888888888888888,
             "#fdca26"
            ],
            [
             1,
             "#f0f921"
            ]
           ]
          },
          "colorway": [
           "#636efa",
           "#EF553B",
           "#00cc96",
           "#ab63fa",
           "#FFA15A",
           "#19d3f3",
           "#FF6692",
           "#B6E880",
           "#FF97FF",
           "#FECB52"
          ],
          "font": {
           "color": "#2a3f5f"
          },
          "geo": {
           "bgcolor": "white",
           "lakecolor": "white",
           "landcolor": "#E5ECF6",
           "showlakes": true,
           "showland": true,
           "subunitcolor": "white"
          },
          "hoverlabel": {
           "align": "left"
          },
          "hovermode": "closest",
          "mapbox": {
           "style": "light"
          },
          "paper_bgcolor": "white",
          "plot_bgcolor": "#E5ECF6",
          "polar": {
           "angularaxis": {
            "gridcolor": "white",
            "linecolor": "white",
            "ticks": ""
           },
           "bgcolor": "#E5ECF6",
           "radialaxis": {
            "gridcolor": "white",
            "linecolor": "white",
            "ticks": ""
           }
          },
          "scene": {
           "xaxis": {
            "backgroundcolor": "#E5ECF6",
            "gridcolor": "white",
            "gridwidth": 2,
            "linecolor": "white",
            "showbackground": true,
            "ticks": "",
            "zerolinecolor": "white"
           },
           "yaxis": {
            "backgroundcolor": "#E5ECF6",
            "gridcolor": "white",
            "gridwidth": 2,
            "linecolor": "white",
            "showbackground": true,
            "ticks": "",
            "zerolinecolor": "white"
           },
           "zaxis": {
            "backgroundcolor": "#E5ECF6",
            "gridcolor": "white",
            "gridwidth": 2,
            "linecolor": "white",
            "showbackground": true,
            "ticks": "",
            "zerolinecolor": "white"
           }
          },
          "shapedefaults": {
           "line": {
            "color": "#2a3f5f"
           }
          },
          "ternary": {
           "aaxis": {
            "gridcolor": "white",
            "linecolor": "white",
            "ticks": ""
           },
           "baxis": {
            "gridcolor": "white",
            "linecolor": "white",
            "ticks": ""
           },
           "bgcolor": "#E5ECF6",
           "caxis": {
            "gridcolor": "white",
            "linecolor": "white",
            "ticks": ""
           }
          },
          "title": {
           "x": 0.05
          },
          "xaxis": {
           "automargin": true,
           "gridcolor": "white",
           "linecolor": "white",
           "ticks": "",
           "title": {
            "standoff": 15
           },
           "zerolinecolor": "white",
           "zerolinewidth": 2
          },
          "yaxis": {
           "automargin": true,
           "gridcolor": "white",
           "linecolor": "white",
           "ticks": "",
           "title": {
            "standoff": 15
           },
           "zerolinecolor": "white",
           "zerolinewidth": 2
          }
         }
        },
        "width": 700,
        "xaxis": {
         "anchor": "y",
         "domain": [
          0,
          1
         ],
         "title": {}
        },
        "yaxis": {
         "anchor": "x",
         "domain": [
          0,
          1
         ],
         "title": {
          "text": "Increase of forested area since 1995 (%)"
         }
        }
       }
      }
     },
     "metadata": {},
     "output_type": "display_data"
    }
   ],
   "source": [
    "import plotly.express as px\n",
    "\n",
    "\n",
    "fig = px.bar(forest_area, x='Area', y='Decrease', color='Country Group',\n",
    "             labels={'Decrease':'Increase of forested area since 1995 (%)', 'Area': 'Country', 'Country Group': \"Continent\"})\n",
    "\n",
    "fig.update_layout(\n",
    "    showlegend=True,\n",
    "    xaxis_title=None,\n",
    "    width=700,\n",
    "    height=800,\n",
    ") \n",
    "\n",
    "fig.show()"
   ]
  },
  {
   "cell_type": "markdown",
   "execution_count": 52,
   "metadata": {},
   "outputs": [
    {
     "data": {
      "text/html": "<div>\n<style scoped>\n    .dataframe tbody tr th:only-of-type {\n        vertical-align: middle;\n    }\n\n    .dataframe tbody tr th {\n        vertical-align: top;\n    }\n\n    .dataframe thead th {\n        text-align: right;\n    }\n</style>\n<table border=\"1\" class=\"dataframe\">\n  <thead>\n    <tr style=\"text-align: right;\">\n      <th></th>\n      <th>Area</th>\n      <th>Value_forest</th>\n      <th>Country</th>\n      <th>Country Group</th>\n      <th>Value_country</th>\n      <th>Decrease</th>\n    </tr>\n  </thead>\n  <tbody>\n    <tr>\n      <th>14</th>\n      <td>Myanmar</td>\n      <td>-8002.0</td>\n      <td>Myanmar</td>\n      <td>Asia</td>\n      <td>67659.0</td>\n      <td>-0.118270</td>\n    </tr>\n    <tr>\n      <th>12</th>\n      <td>Indonesia</td>\n      <td>-17967.0</td>\n      <td>Indonesia</td>\n      <td>Asia</td>\n      <td>191358.0</td>\n      <td>-0.093892</td>\n    </tr>\n    <tr>\n      <th>24</th>\n      <td>Uganda</td>\n      <td>-2233.0</td>\n      <td>Uganda</td>\n      <td>Africa</td>\n      <td>24155.0</td>\n      <td>-0.092445</td>\n    </tr>\n    <tr>\n      <th>16</th>\n      <td>Nigeria</td>\n      <td>-8192.5</td>\n      <td>Nigeria</td>\n      <td>Africa</td>\n      <td>92377.0</td>\n      <td>-0.088685</td>\n    </tr>\n    <tr>\n      <th>25</th>\n      <td>United Republic of Tanzania</td>\n      <td>-7860.0</td>\n      <td>United Republic of Tanzania</td>\n      <td>Africa</td>\n      <td>94730.0</td>\n      <td>-0.082973</td>\n    </tr>\n    <tr>\n      <th>2</th>\n      <td>Brazil</td>\n      <td>-40451.5</td>\n      <td>Brazil</td>\n      <td>South America</td>\n      <td>851577.0</td>\n      <td>-0.047502</td>\n    </tr>\n    <tr>\n      <th>5</th>\n      <td>Democratic Republic of the Congo</td>\n      <td>-6228.0</td>\n      <td>Democratic Republic of the Congo</td>\n      <td>Africa</td>\n      <td>234486.0</td>\n      <td>-0.026560</td>\n    </tr>\n    <tr>\n      <th>6</th>\n      <td>Ethiopia</td>\n      <td>-1910.5</td>\n      <td>Ethiopia</td>\n      <td>Africa</td>\n      <td>110430.0</td>\n      <td>-0.017301</td>\n    </tr>\n    <tr>\n      <th>17</th>\n      <td>Pakistan</td>\n      <td>-849.5</td>\n      <td>Pakistan</td>\n      <td>Asia</td>\n      <td>79610.0</td>\n      <td>-0.010671</td>\n    </tr>\n    <tr>\n      <th>0</th>\n      <td>Australia</td>\n      <td>-3940.0</td>\n      <td>Australia</td>\n      <td>Oceania</td>\n      <td>774122.0</td>\n      <td>-0.005090</td>\n    </tr>\n    <tr>\n      <th>1</th>\n      <td>Bangladesh</td>\n      <td>-52.0</td>\n      <td>Bangladesh</td>\n      <td>Asia</td>\n      <td>14763.0</td>\n      <td>-0.003522</td>\n    </tr>\n    <tr>\n      <th>3</th>\n      <td>Canada</td>\n      <td>-968.5</td>\n      <td>Canada</td>\n      <td>Northern America</td>\n      <td>987975.0</td>\n      <td>-0.000980</td>\n    </tr>\n    <tr>\n      <th>21</th>\n      <td>Sweden</td>\n      <td>-40.0</td>\n      <td>Sweden</td>\n      <td>Europe</td>\n      <td>44743.0</td>\n      <td>-0.000894</td>\n    </tr>\n    <tr>\n      <th>20</th>\n      <td>South Africa</td>\n      <td>0.0</td>\n      <td>South Africa</td>\n      <td>Africa</td>\n      <td>121909.0</td>\n      <td>0.000000</td>\n    </tr>\n    <tr>\n      <th>7</th>\n      <td>Finland</td>\n      <td>58.0</td>\n      <td>Finland</td>\n      <td>Europe</td>\n      <td>33844.6</td>\n      <td>0.001714</td>\n    </tr>\n    <tr>\n      <th>9</th>\n      <td>Germany</td>\n      <td>92.0</td>\n      <td>Germany</td>\n      <td>Europe</td>\n      <td>35740.9</td>\n      <td>0.002574</td>\n    </tr>\n    <tr>\n      <th>19</th>\n      <td>Russian Federation</td>\n      <td>5821.3</td>\n      <td>Russian Federation</td>\n      <td>Europe</td>\n      <td>1709825.0</td>\n      <td>0.003405</td>\n    </tr>\n    <tr>\n      <th>13</th>\n      <td>Kenya</td>\n      <td>272.5</td>\n      <td>Kenya</td>\n      <td>Africa</td>\n      <td>58037.0</td>\n      <td>0.004695</td>\n    </tr>\n    <tr>\n      <th>26</th>\n      <td>United States of America</td>\n      <td>7102.0</td>\n      <td>United States of America</td>\n      <td>Northern America</td>\n      <td>983151.0</td>\n      <td>0.007224</td>\n    </tr>\n    <tr>\n      <th>15</th>\n      <td>New Zealand</td>\n      <td>253.5</td>\n      <td>New Zealand</td>\n      <td>Oceania</td>\n      <td>26771.0</td>\n      <td>0.009469</td>\n    </tr>\n    <tr>\n      <th>18</th>\n      <td>Poland</td>\n      <td>465.0</td>\n      <td>Poland</td>\n      <td>Europe</td>\n      <td>31268.0</td>\n      <td>0.014871</td>\n    </tr>\n    <tr>\n      <th>22</th>\n      <td>Thailand</td>\n      <td>891.0</td>\n      <td>Thailand</td>\n      <td>Asia</td>\n      <td>51312.0</td>\n      <td>0.017364</td>\n    </tr>\n    <tr>\n      <th>11</th>\n      <td>India</td>\n      <td>6017.5</td>\n      <td>India</td>\n      <td>Asia</td>\n      <td>328725.9</td>\n      <td>0.018306</td>\n    </tr>\n    <tr>\n      <th>23</th>\n      <td>Turkey</td>\n      <td>1812.5</td>\n      <td>Turkey</td>\n      <td>Asia</td>\n      <td>78535.0</td>\n      <td>0.023079</td>\n    </tr>\n    <tr>\n      <th>10</th>\n      <td>Ghana</td>\n      <td>569.0</td>\n      <td>Ghana</td>\n      <td>Africa</td>\n      <td>23854.0</td>\n      <td>0.023853</td>\n    </tr>\n    <tr>\n      <th>4</th>\n      <td>Chile</td>\n      <td>2186.5</td>\n      <td>Chile</td>\n      <td>South America</td>\n      <td>75609.6</td>\n      <td>0.028918</td>\n    </tr>\n    <tr>\n      <th>8</th>\n      <td>France</td>\n      <td>2126.5</td>\n      <td>France</td>\n      <td>Europe</td>\n      <td>54908.7</td>\n      <td>0.038728</td>\n    </tr>\n    <tr>\n      <th>27</th>\n      <td>Viet Nam</td>\n      <td>4228.0</td>\n      <td>Viet Nam</td>\n      <td>Asia</td>\n      <td>33123.0</td>\n      <td>0.127645</td>\n    </tr>\n  </tbody>\n</table>\n</div>",
      "text/plain": "                                Area  Value_forest  \\\n14                           Myanmar       -8002.0   \n12                         Indonesia      -17967.0   \n24                            Uganda       -2233.0   \n16                           Nigeria       -8192.5   \n25       United Republic of Tanzania       -7860.0   \n2                             Brazil      -40451.5   \n5   Democratic Republic of the Congo       -6228.0   \n6                           Ethiopia       -1910.5   \n17                          Pakistan        -849.5   \n0                          Australia       -3940.0   \n1                         Bangladesh         -52.0   \n3                             Canada        -968.5   \n21                            Sweden         -40.0   \n20                      South Africa           0.0   \n7                            Finland          58.0   \n9                            Germany          92.0   \n19                Russian Federation        5821.3   \n13                             Kenya         272.5   \n26          United States of America        7102.0   \n15                       New Zealand         253.5   \n18                            Poland         465.0   \n22                          Thailand         891.0   \n11                             India        6017.5   \n23                            Turkey        1812.5   \n10                             Ghana         569.0   \n4                              Chile        2186.5   \n8                             France        2126.5   \n27                          Viet Nam        4228.0   \n\n                             Country     Country Group  Value_country  \\\n14                           Myanmar              Asia        67659.0   \n12                         Indonesia              Asia       191358.0   \n24                            Uganda            Africa        24155.0   \n16                           Nigeria            Africa        92377.0   \n25       United Republic of Tanzania            Africa        94730.0   \n2                             Brazil     South America       851577.0   \n5   Democratic Republic of the Congo            Africa       234486.0   \n6                           Ethiopia            Africa       110430.0   \n17                          Pakistan              Asia        79610.0   \n0                          Australia           Oceania       774122.0   \n1                         Bangladesh              Asia        14763.0   \n3                             Canada  Northern America       987975.0   \n21                            Sweden            Europe        44743.0   \n20                      South Africa            Africa       121909.0   \n7                            Finland            Europe        33844.6   \n9                            Germany            Europe        35740.9   \n19                Russian Federation            Europe      1709825.0   \n13                             Kenya            Africa        58037.0   \n26          United States of America  Northern America       983151.0   \n15                       New Zealand           Oceania        26771.0   \n18                            Poland            Europe        31268.0   \n22                          Thailand              Asia        51312.0   \n11                             India              Asia       328725.9   \n23                            Turkey              Asia        78535.0   \n10                             Ghana            Africa        23854.0   \n4                              Chile     South America        75609.6   \n8                             France            Europe        54908.7   \n27                          Viet Nam              Asia        33123.0   \n\n    Decrease  \n14 -0.118270  \n12 -0.093892  \n24 -0.092445  \n16 -0.088685  \n25 -0.082973  \n2  -0.047502  \n5  -0.026560  \n6  -0.017301  \n17 -0.010671  \n0  -0.005090  \n1  -0.003522  \n3  -0.000980  \n21 -0.000894  \n20  0.000000  \n7   0.001714  \n9   0.002574  \n19  0.003405  \n13  0.004695  \n26  0.007224  \n15  0.009469  \n18  0.014871  \n22  0.017364  \n11  0.018306  \n23  0.023079  \n10  0.023853  \n4   0.028918  \n8   0.038728  \n27  0.127645  "
     },
     "execution_count": 52,
     "metadata": {},
     "output_type": "execute_result"
    }
   ],
   "source": [
    "## Wood producers and deforestation\n",
    "\n",
    "All of therese countries lied in the production of roundwood in the world, but the effects of wood logging on the forested area are diferent in every country. All of the european natios were able not to decrease share of the forrested areas even trough the fact that this group of 6 countries produces 13% of the world roundwood. The complete opposit trend can be observed in Africa where in some of the countires forsted are decreased by more than 8% in last 20 years. "
   ]
  },
  {
   "cell_type": "code",
   "execution_count": 34,
   "metadata": {},
   "outputs": [
    {
     "data": {
      "text/plain": "'3_production_deforestation.html'"
     },
     "execution_count": 34,
     "metadata": {},
     "output_type": "execute_result"
    }
   ],
   "source": [
    "# export the plot to html\n",
    "from plotly.offline import download_plotlyjs, init_notebook_mode, iplot, plot\n",
    "import plotly.graph_objs as go\n",
    "from IPython.core.display import display, HTML\n",
    "\n",
    "plot(fig, filename = '3_production_deforestation.html')\n"
   ]
  },
  {
   "cell_type": "code",
   "execution_count": null,
   "metadata": {},
   "outputs": [],
   "source": []
  }
 ]
}