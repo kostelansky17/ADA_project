{
 "nbformat": 4,
 "nbformat_minor": 2,
 "metadata": {
  "language_info": {
   "name": "python",
   "codemirror_mode": {
    "name": "ipython",
    "version": 3
   },
   "version": "3.7.3"
  },
  "orig_nbformat": 2,
  "file_extension": ".py",
  "mimetype": "text/x-python",
  "name": "python",
  "npconvert_exporter": "python",
  "pygments_lexer": "ipython3",
  "version": 3
 },
 "cells": [
  {
   "cell_type": "code",
   "execution_count": 2,
   "metadata": {},
   "outputs": [],
   "source": [
    "import pandas as pd\n",
    "import plotly.graph_objects as go\n",
    "from plotly.subplots import make_subplots\n"
   ]
  },
  {
   "cell_type": "code",
   "execution_count": 3,
   "metadata": {},
   "outputs": [],
   "source": [
    "PRIMARY_FORREST_PRODUCTS = ['Roundwood', 'Sawnwood', 'Wood-based panels', 'Paper and paperboard', 'Pulpwood:round and split:all species (production)']"
   ]
  },
  {
   "cell_type": "code",
   "execution_count": 4,
   "metadata": {},
   "outputs": [],
   "source": [
    "forest_all = pd.read_csv(\"/home/martin/Documents/school/EPFL/ws/ada/disappearing_forests/data/faostat/Forestry_E_All_Data_cleared.csv\", engine='python')\n"
   ]
  },
  {
   "cell_type": "code",
   "execution_count": 5,
   "metadata": {},
   "outputs": [],
   "source": [
    "world_production = forest_all[forest_all.Element.str.match(\"Production\") & \n",
    "                                    forest_all.Area.isin([\"World\"]) &\n",
    "                                    forest_all.Item.isin(PRIMARY_FORREST_PRODUCTS)]\n"
   ]
  },
  {
   "cell_type": "code",
   "execution_count": 6,
   "metadata": {},
   "outputs": [
    {
     "data": {
      "text/plain": "array(['Roundwood', 'Pulpwood:round and split:all species (production)',\n       'Sawnwood', 'Wood-based panels', 'Paper and paperboard'],\n      dtype=object)"
     },
     "execution_count": 6,
     "metadata": {},
     "output_type": "execute_result"
    }
   ],
   "source": [
    "world_production.Item.unique()"
   ]
  },
  {
   "cell_type": "code",
   "execution_count": 7,
   "metadata": {},
   "outputs": [],
   "source": [
    "world_production = world_production[world_production.Year >= 1995]\n",
    "world_production = world_production[world_production.Year <= 2015]"
   ]
  },
  {
   "cell_type": "code",
   "execution_count": 8,
   "metadata": {},
   "outputs": [],
   "source": [
    "world_production = world_production.groupby([\"Item\", \"Year\"]).Value.sum()"
   ]
  },
  {
   "cell_type": "code",
   "execution_count": 9,
   "metadata": {},
   "outputs": [],
   "source": [
    "world_production = world_production.reset_index()"
   ]
  },
  {
   "cell_type": "code",
   "execution_count": 10,
   "metadata": {},
   "outputs": [],
   "source": [
    "world_production.loc[world_production.Item.isin(['Paper and paperboard']), \"Value\"] = world_production.loc[world_production.Item.isin(['Paper and paperboard'])].Value.values * 1.2"
   ]
  },
  {
   "cell_type": "code",
   "execution_count": 11,
   "metadata": {},
   "outputs": [],
   "source": [
    "for prod in PRIMARY_FORREST_PRODUCTS:\n",
    "    year_min = world_production[world_production.Item.isin([prod])].Year.min()\n",
    "    start_prod = world_production[(world_production.Item.isin([prod])) & (world_production.Year == year_min)].Value.values[0]\n",
    "    world_production.loc[world_production.Item.isin([prod]), \"Value\"] = world_production[world_production.Item.isin([prod])].Value.values - start_prod\n",
    "\n",
    "\n"
   ]
  },
  {
   "cell_type": "code",
   "execution_count": 12,
   "metadata": {},
   "outputs": [
    {
     "data": {
      "text/plain": "['Roundwood',\n 'Sawnwood',\n 'Wood-based panels',\n 'Paper and paperboard',\n 'Pulpwood:round and split:all species (production)']"
     },
     "execution_count": 12,
     "metadata": {},
     "output_type": "execute_result"
    }
   ],
   "source": [
    "['Roundwood', 'Sawnwood', 'Wood-based panels', 'Paper and paperboard', 'Pulpwood:round and split:all species (production)']"
   ]
  },
  {
   "cell_type": "code",
   "execution_count": 13,
   "metadata": {},
   "outputs": [],
   "source": [
    "import plotly.graph_objects as go\n",
    "\n",
    "fig = go.Figure()\n",
    "fig = go.Figure()\n",
    "fig.add_trace(go.Scatter(\n",
    "                    x=world_production[world_production.Item.isin(['Roundwood'])].Year.values, \n",
    "                    y=world_production[world_production.Item.isin(['Roundwood'])].Value.values,\n",
    "                    mode='lines+markers',\n",
    "                    name='Roundwood'))\n",
    "fig.add_trace(go.Scatter(\n",
    "                    x=world_production[world_production.Item.isin(['Sawnwood'])].Year.values, \n",
    "                    y=world_production[world_production.Item.isin(['Sawnwood'])].Value.values,\n",
    "                    mode='lines+markers',\n",
    "                    name='Sawnwood'))\n",
    "fig.add_trace(go.Scatter(\n",
    "                    x=world_production[world_production.Item.isin(['Wood-based panels'])].Year.values, \n",
    "                    y=world_production[world_production.Item.isin(['Wood-based panels'])].Value.values,\n",
    "                    mode='lines+markers',\n",
    "                    name='Wood-based panels'))\n",
    "fig.add_trace(go.Scatter(\n",
    "                    x=world_production[world_production.Item.isin(['Paper and paperboard'])].Year.values, \n",
    "                    y=world_production[world_production.Item.isin(['Paper and paperboard'])].Value.values,\n",
    "                    mode='lines+markers',\n",
    "                    name='Paper and paperboard'))\n",
    "fig.add_trace(go.Scatter(\n",
    "                    x=world_production[world_production.Item.isin(['Pulpwood:round and split:all species (production)'])].Year.values, \n",
    "                    y=world_production[world_production.Item.isin(['Pulpwood:round and split:all species (production)'])].Value.values,\n",
    "                    mode='lines+markers',\n",
    "                    name='Pulpwood'))\n",
    "\n",
    "fig.update_layout(\n",
    "    yaxis_title=\"Change in Production (m3)\"\n",
    ")\n",
    "fig.show()"
   ]
  },
  {
   "cell_type": "markdown",
   "execution_count": null,
   "metadata": {},
   "outputs": [],
   "source": [
    "## Forests as a product\n",
    "\n",
    "Wood products are integral part of our daily lives. We have been usig this material from begining of our kind, but the demand has never been this big. The production of primary wood products has increased by 20 percents in the past 20 years. And this trend doesn't seem to stop. The forests  Co2 on our planet and with every sawn tree this number decreases. The production of wood-based panel has increased by alarming 160 percent from 1995. The growth is steady, only singifacant influence which was able the affect the wood production in the world was the econominc crisis in 2007-2009."
   ]
  },
  {
   "cell_type": "code",
   "execution_count": 0,
   "metadata": {},
   "outputs": [],
   "source": [
    "# export the plot to html\n",
    "from plotly.offline import download_plotlyjs, init_notebook_mode, iplot, plot\n",
    "import plotly.graph_objs as go\n",
    "from IPython.core.display import display, HTML\n",
    "\n",
    "plot(fig, filename = '0_world_prod.html')"
   ]
  },
  {
   "cell_type": "code",
   "execution_count": null,
   "metadata": {},
   "outputs": [],
   "source": []
  }
 ]
}