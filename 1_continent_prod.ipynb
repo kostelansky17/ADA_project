{
 "nbformat": 4,
 "nbformat_minor": 2,
 "metadata": {
  "language_info": {
   "name": "python",
   "codemirror_mode": {
    "name": "ipython",
    "version": 3
   },
   "version": "3.7.3"
  },
  "orig_nbformat": 2,
  "file_extension": ".py",
  "mimetype": "text/x-python",
  "name": "python",
  "npconvert_exporter": "python",
  "pygments_lexer": "ipython3",
  "version": 3
 },
 "cells": [
  {
   "cell_type": "code",
   "execution_count": 15,
   "metadata": {},
   "outputs": [],
   "source": [
    "import pandas as pd\n",
    "import plotly.graph_objects as go\n",
    "from plotly.subplots import make_subplots\n",
    "\n",
    "CONTINENTS = ['Africa', 'Asia', 'Oceania', 'Europe', 'Northern America', 'South America', 'Antarctic Region']\n",
    "PRIMARY_FORREST_PRODUCTS = ['Roundwood', 'Sawnwood', 'Wood-based panels', 'Paper and paperboard',  'Pulpwood:round and split:all species (production)']\n",
    "LAND_USE_FOREST_ITEMS = ['Forestry']\n"
   ]
  },
  {
   "cell_type": "code",
   "execution_count": 16,
   "metadata": {},
   "outputs": [],
   "source": [
    "# load forestry dataset\n",
    "forest_all = pd.read_csv(\"/home/martin/Documents/school/EPFL/ws/ada/disappearing_forests/data/faostat/Forestry_E_All_Data_cleared.csv\", engine='python')\n"
   ]
  },
  {
   "cell_type": "code",
   "execution_count": 17,
   "metadata": {},
   "outputs": [],
   "source": [
    "# filter continets\n",
    "continent_production = forest_all[forest_all.Element.str.match(\"Production\") & \n",
    "                                    forest_all.Area.isin(CONTINENTS) &\n",
    "                                    forest_all.Item.isin(PRIMARY_FORREST_PRODUCTS)]\n"
   ]
  },
  {
   "cell_type": "code",
   "execution_count": 19,
   "metadata": {},
   "outputs": [],
   "source": [
    "# load landuse dataset\n",
    "land_use_all = pd.read_csv(\"data/faostat/Inputs_LandUse_E_All_Data_cleared.csv\", engine='python')\n",
    "land_use = land_use_all[land_use_all.Item.isin(LAND_USE_FOREST_ITEMS) &\n",
    "                        land_use_all.Element.str.match('Area') &\n",
    "                        land_use_all.Area.isin(CONTINENTS)]"
   ]
  },
  {
   "cell_type": "code",
   "execution_count": 20,
   "metadata": {},
   "outputs": [],
   "source": [
    "# compute the range of years in the plot\n",
    "year_min = int(max(max(continent_production.Year.min(), land_use.Year.min()), 1995))\n",
    "year_max = int(min(min(continent_production.Year.max(), land_use.Year.max()), 2015))\n"
   ]
  },
  {
   "cell_type": "code",
   "execution_count": 23,
   "metadata": {},
   "outputs": [
    {
     "data": {
      "text/plain": "array(['Roundwood', 'Pulpwood:round and split:all species (production)',\n       'Sawnwood', 'Wood-based panels', 'Paper and paperboard'],\n      dtype=object)"
     },
     "execution_count": 23,
     "metadata": {},
     "output_type": "execute_result"
    }
   ],
   "source": [
    "continent_production.Item.unique()"
   ]
  },
  {
   "cell_type": "code",
   "execution_count": 27,
   "metadata": {},
   "outputs": [],
   "source": [
    "# add traces of each of the production/ forested area\n",
    "\n",
    "ig = go.Figure()\n",
    "\n",
    "fig = make_subplots(\n",
    "    rows=1, \n",
    "    cols=2,\n",
    "    subplot_titles=(\"Production (m3)\", \"Forested area (1000 ha)\"),\n",
    "    shared_yaxes=True\n",
    ")\n",
    "\n",
    "for year in range(year_min, year_max +1):\n",
    "    a = continent_production[continent_production.Year == year].groupby([\"Area\", \"Item\"]).Value.sum()\n",
    "    a = a.reset_index()\n",
    "    a = a[a.Area.str.match(\"Oceania\")].append(a[a.Area.str.match(\"South America\")])\\\n",
    "                                      .append(a[a.Area.str.match(\"Africa\")])\\\n",
    "                                      .append(a[a.Area.str.match(\"Northern America\")])\\\n",
    "                                      .append(a[a.Area.str.match(\"Europe\")])\\\n",
    "                                      .append(a[a.Area.str.match(\"Asia\")])\n",
    "    fig.add_trace(\n",
    "        go.Bar(\n",
    "            y=a[a.Item.str.match(\"Roundwood\")].Area.values,\n",
    "            x=a[a.Item.str.match(\"Roundwood\")].Value.values,\n",
    "            name='Roundwood, ' + str(year),\n",
    "            orientation='h',\n",
    "            visible=False,\n",
    "        ),    \n",
    "        row=1,\n",
    "        col=1, \n",
    "    )\n",
    "    \n",
    "    fig.add_trace(\n",
    "        go.Bar(\n",
    "            y=a[a.Item.str.match(\"Wood-based panels\")].Area.values,\n",
    "            x=a[a.Item.str.match(\"Wood-based panels\")].Value.values,\n",
    "            name='Wood-based panels, ' + str(year),\n",
    "            orientation='h',\n",
    "            visible=False,\n",
    "        ),    \n",
    "        row=1,\n",
    "        col=1,\n",
    "    )\n",
    "\n",
    "    fig.add_trace(\n",
    "        go.Bar(\n",
    "            y=a[a.Item.str.match(\"Sawnwood\")].Area.values,\n",
    "            x=a[a.Item.str.match(\"Sawnwood\")].Value.values,\n",
    "            name='Sawnwood, ' + str(year),\n",
    "            orientation='h',\n",
    "            visible=False,\n",
    "        ),    \n",
    "        row=1,\n",
    "        col=1,\n",
    "    )\n",
    "\n",
    "    fig.add_trace(\n",
    "        go.Bar(\n",
    "            y=a[a.Item.isin([\"Pulpwood:round and split:all species (production)\"])].Area.values,\n",
    "            x=a[a.Item.isin([\"Pulpwood:round and split:all species (production)\"])].Value.values,\n",
    "            name='Pulpwood, ' + str(year),\n",
    "            orientation='h',\n",
    "            visible=False,\n",
    "        ),    \n",
    "        row=1,\n",
    "        col=1,\n",
    "    )\n",
    "\n",
    "    fig.add_trace(\n",
    "        go.Bar(\n",
    "            y=a[a.Item.str.match('Paper and paperboard')].Area.values,\n",
    "            x=a[a.Item.str.match('Paper and paperboard')].Value.values * 1.2,\n",
    "            name='Paper and paperboard, ' + str(year),\n",
    "            orientation='h',\n",
    "            visible=False,\n",
    "        ),    \n",
    "        row=1,\n",
    "        col=1,\n",
    "    )\n",
    "\n",
    "    b = land_use[land_use.Year == year].groupby([\"Area\", \"Item\"]).Value.sum()\n",
    "    b = b.reset_index()\n",
    "    b = b[b.Area.str.match(\"Oceania\")].append(b[b.Area.str.match(\"South America\")])\\\n",
    "                                      .append(b[b.Area.str.match(\"Africa\")])\\\n",
    "                                      .append(b[b.Area.str.match(\"Northern America\")])\\\n",
    "                                      .append(b[b.Area.str.match(\"Europe\")])\\\n",
    "                                      .append(b[b.Area.str.match(\"Asia\")])\n",
    "    fig.add_trace(\n",
    "        go.Bar(\n",
    "            y=b.Area.values,\n",
    "            x=b.Value.values,\n",
    "            name='Forested area, ' + str(year),\n",
    "            orientation='h',\n",
    "            visible=False,\n",
    "        ),\n",
    "        row=1,\n",
    "        col=2,\n",
    "    )\n",
    " "
   ]
  },
  {
   "cell_type": "code",
   "execution_count": 28,
   "metadata": {},
   "outputs": [
    {
     "data": {
      "application/vnd.plotly.v1+json": {
       "config": {
        "plotlyServerURL": "https://plot.ly"
       },
       "data": [
        {
         "name": "Roundwood, 1995",
         "orientation": "h",
         "type": "bar",
         "visible": true,
         "x": [
          51414597,
          308126837,
          580116736,
          658262000,
          518981433,
          1125296109
         ],
         "xaxis": "x",
         "y": [
          "Oceania",
          "South America",
          "Africa",
          "Northern America",
          "Europe",
          "Asia"
         ],
         "yaxis": "y"
        },
        {
         "name": "Wood-based panels, 1995",
         "orientation": "h",
         "type": "bar",
         "visible": true,
         "x": [
          2112426,
          5007196,
          1286260,
          45933000,
          44297600,
          41894500
         ],
         "xaxis": "x",
         "y": [
          "Oceania",
          "South America",
          "Africa",
          "Northern America",
          "Europe",
          "Asia"
         ],
         "yaxis": "y"
        },
        {
         "name": "Sawnwood, 1995",
         "orientation": "h",
         "type": "bar",
         "visible": true,
         "x": [
          7005789,
          27399000,
          8243100,
          129584132,
          117916600,
          96418100
         ],
         "xaxis": "x",
         "y": [
          "Oceania",
          "South America",
          "Africa",
          "Northern America",
          "Europe",
          "Asia"
         ],
         "yaxis": "y"
        },
        {
         "name": "Pulpwood, 1995",
         "orientation": "h",
         "type": "bar",
         "visible": true,
         "x": [],
         "xaxis": "x",
         "y": [],
         "yaxis": "y"
        },
        {
         "name": "Paper and paperboard, 1995",
         "orientation": "h",
         "type": "bar",
         "visible": true,
         "x": [
          3786000,
          11035440,
          3218191.1999999997,
          125086800,
          98724000,
          92948720.39999999
         ],
         "xaxis": "x",
         "y": [
          "Oceania",
          "South America",
          "Africa",
          "Northern America",
          "Europe",
          "Asia"
         ],
         "yaxis": "y"
        },
        {
         "name": "Forested area, 1995",
         "orientation": "h",
         "type": "bar",
         "visible": true,
         "x": [
          177233.167,
          910815.3515,
          688056.124,
          651035.02,
          998286.2315,
          567016.5435
         ],
         "xaxis": "x2",
         "y": [
          "Oceania",
          "South America",
          "Africa",
          "Northern America",
          "Europe",
          "Asia"
         ],
         "yaxis": "y2"
        },
        {
         "name": "Roundwood, 1996",
         "orientation": "h",
         "type": "bar",
         "visible": false,
         "x": [
          51346258,
          305650685,
          589920958,
          650961000,
          487335100,
          1117580548
         ],
         "xaxis": "x",
         "y": [
          "Oceania",
          "South America",
          "Africa",
          "Northern America",
          "Europe",
          "Asia"
         ],
         "yaxis": "y"
        },
        {
         "name": "Wood-based panels, 1996",
         "orientation": "h",
         "type": "bar",
         "visible": false,
         "x": [
          2298154,
          5503196,
          1275560,
          48837000,
          43768300,
          39189500
         ],
         "xaxis": "x",
         "y": [
          "Oceania",
          "South America",
          "Africa",
          "Northern America",
          "Europe",
          "Asia"
         ],
         "yaxis": "y"
        },
        {
         "name": "Sawnwood, 1996",
         "orientation": "h",
         "type": "bar",
         "visible": false,
         "x": [
          6926789,
          29729000,
          7867100,
          133227209,
          112605800,
          91862300
         ],
         "xaxis": "x",
         "y": [
          "Oceania",
          "South America",
          "Africa",
          "Northern America",
          "Europe",
          "Asia"
         ],
         "yaxis": "y"
        },
        {
         "name": "Pulpwood, 1996",
         "orientation": "h",
         "type": "bar",
         "visible": false,
         "x": [],
         "xaxis": "x",
         "y": [],
         "yaxis": "y"
        },
        {
         "name": "Paper and paperboard, 1996",
         "orientation": "h",
         "type": "bar",
         "visible": false,
         "x": [
          3822000,
          11082360,
          3208890,
          123132000,
          97931268,
          98063914.8
         ],
         "xaxis": "x",
         "y": [
          "Oceania",
          "South America",
          "Africa",
          "Northern America",
          "Europe",
          "Asia"
         ],
         "yaxis": "y"
        },
        {
         "name": "Forested area, 1996",
         "orientation": "h",
         "type": "bar",
         "visible": false,
         "x": [
          177314.7642,
          906815.6924,
          684519.329,
          651096.5,
          999089.3014,
          566795.5566
         ],
         "xaxis": "x2",
         "y": [
          "Oceania",
          "South America",
          "Africa",
          "Northern America",
          "Europe",
          "Asia"
         ],
         "yaxis": "y2"
        },
        {
         "name": "Roundwood, 1997",
         "orientation": "h",
         "type": "bar",
         "visible": false,
         "x": [
          54093196,
          309019949,
          597881649,
          655289008,
          550870701,
          1106941507
         ],
         "xaxis": "x",
         "y": [
          "Oceania",
          "South America",
          "Africa",
          "Northern America",
          "Europe",
          "Asia"
         ],
         "yaxis": "y"
        },
        {
         "name": "Wood-based panels, 1997",
         "orientation": "h",
         "type": "bar",
         "visible": false,
         "x": [
          2411077,
          5793578,
          1421860,
          50882000,
          46902300,
          44251700
         ],
         "xaxis": "x",
         "y": [
          "Oceania",
          "South America",
          "Africa",
          "Northern America",
          "Europe",
          "Asia"
         ],
         "yaxis": "y"
        },
        {
         "name": "Sawnwood, 1997",
         "orientation": "h",
         "type": "bar",
         "visible": false,
         "x": [
          7075789,
          30145000,
          7504600,
          136570484,
          117607700,
          89863700
         ],
         "xaxis": "x",
         "y": [
          "Oceania",
          "South America",
          "Africa",
          "Northern America",
          "Europe",
          "Asia"
         ],
         "yaxis": "y"
        },
        {
         "name": "Pulpwood, 1997",
         "orientation": "h",
         "type": "bar",
         "visible": false,
         "x": [],
         "xaxis": "x",
         "y": [],
         "yaxis": "y"
        },
        {
         "name": "Paper and paperboard, 1997",
         "orientation": "h",
         "type": "bar",
         "visible": false,
         "x": [
          3969600,
          11939280,
          3507816,
          129156000,
          106101000,
          102433766.39999999
         ],
         "xaxis": "x",
         "y": [
          "Oceania",
          "South America",
          "Africa",
          "Northern America",
          "Europe",
          "Asia"
         ],
         "yaxis": "y"
        },
        {
         "name": "Forested area, 1997",
         "orientation": "h",
         "type": "bar",
         "visible": false,
         "x": [
          177396.3614,
          902816.0333,
          680982.534,
          651157.98,
          999892.3713,
          566574.5697
         ],
         "xaxis": "x2",
         "y": [
          "Oceania",
          "South America",
          "Africa",
          "Northern America",
          "Europe",
          "Asia"
         ],
         "yaxis": "y2"
        },
        {
         "name": "Roundwood, 1998",
         "orientation": "h",
         "type": "bar",
         "visible": false,
         "x": [
          53550200,
          312819674,
          601379111,
          646692000,
          535436790,
          1095354039
         ],
         "xaxis": "x",
         "y": [
          "Oceania",
          "South America",
          "Africa",
          "Northern America",
          "Europe",
          "Asia"
         ],
         "yaxis": "y"
        },
        {
         "name": "Wood-based panels, 1998",
         "orientation": "h",
         "type": "bar",
         "visible": false,
         "x": [
          2501000,
          5969837,
          1384660,
          54447028,
          51209711,
          35216700
         ],
         "xaxis": "x",
         "y": [
          "Oceania",
          "South America",
          "Africa",
          "Northern America",
          "Europe",
          "Asia"
         ],
         "yaxis": "y"
        },
        {
         "name": "Sawnwood, 1998",
         "orientation": "h",
         "type": "bar",
         "visible": false,
         "x": [
          7369309,
          30728000,
          7422800,
          136176176,
          120119426,
          71784590
         ],
         "xaxis": "x",
         "y": [
          "Oceania",
          "South America",
          "Africa",
          "Northern America",
          "Europe",
          "Asia"
         ],
         "yaxis": "y"
        },
        {
         "name": "Pulpwood, 1998",
         "orientation": "h",
         "type": "bar",
         "visible": false,
         "x": [
          13883000,
          47122000,
          11898000,
          204284000,
          151643276,
          34418282
         ],
         "xaxis": "x",
         "y": [
          "Oceania",
          "South America",
          "Africa",
          "Northern America",
          "Europe",
          "Asia"
         ],
         "yaxis": "y"
        },
        {
         "name": "Paper and paperboard, 1998",
         "orientation": "h",
         "type": "bar",
         "visible": false,
         "x": [
          4062000,
          11493985.2,
          3632138.4,
          126412800,
          109047841.2,
          102828765.6
         ],
         "xaxis": "x",
         "y": [
          "Oceania",
          "South America",
          "Africa",
          "Northern America",
          "Europe",
          "Asia"
         ],
         "yaxis": "y"
        },
        {
         "name": "Forested area, 1998",
         "orientation": "h",
         "type": "bar",
         "visible": false,
         "x": [
          177477.9586,
          898816.3742,
          677445.739,
          651219.46,
          1000695.4412,
          566353.5828
         ],
         "xaxis": "x2",
         "y": [
          "Oceania",
          "South America",
          "Africa",
          "Northern America",
          "Europe",
          "Asia"
         ],
         "yaxis": "y2"
        },
        {
         "name": "Roundwood, 1999",
         "orientation": "h",
         "type": "bar",
         "visible": false,
         "x": [
          55570650,
          325182366,
          605483491,
          663203000,
          563465297,
          1086451356
         ],
         "xaxis": "x",
         "y": [
          "Oceania",
          "South America",
          "Africa",
          "Northern America",
          "Europe",
          "Asia"
         ],
         "yaxis": "y"
        },
        {
         "name": "Wood-based panels, 1999",
         "orientation": "h",
         "type": "bar",
         "visible": false,
         "x": [
          2705000,
          7007300,
          1388160,
          59600162,
          53630154,
          39601300
         ],
         "xaxis": "x",
         "y": [
          "Oceania",
          "South America",
          "Africa",
          "Northern America",
          "Europe",
          "Asia"
         ],
         "yaxis": "y"
        },
        {
         "name": "Sawnwood, 1999",
         "orientation": "h",
         "type": "bar",
         "visible": false,
         "x": [
          7556309,
          31733900,
          7414800,
          143026464,
          123306357,
          71194050
         ],
         "xaxis": "x",
         "y": [
          "Oceania",
          "South America",
          "Africa",
          "Northern America",
          "Europe",
          "Asia"
         ],
         "yaxis": "y"
        },
        {
         "name": "Pulpwood, 1999",
         "orientation": "h",
         "type": "bar",
         "visible": false,
         "x": [
          13266000,
          60677000,
          11730400,
          193324000,
          161608800,
          36666492
         ],
         "xaxis": "x",
         "y": [
          "Oceania",
          "South America",
          "Africa",
          "Northern America",
          "Europe",
          "Asia"
         ],
         "yaxis": "y"
        },
        {
         "name": "Paper and paperboard, 1999",
         "orientation": "h",
         "type": "bar",
         "visible": false,
         "x": [
          4057200,
          12372480,
          3523804.8,
          130740000,
          113687762.39999999,
          109714584
         ],
         "xaxis": "x",
         "y": [
          "Oceania",
          "South America",
          "Africa",
          "Northern America",
          "Europe",
          "Asia"
         ],
         "yaxis": "y"
        },
        {
         "name": "Forested area, 1999",
         "orientation": "h",
         "type": "bar",
         "visible": false,
         "x": [
          177559.5558,
          894816.7151,
          673908.944,
          651280.94,
          1001498.5111,
          566132.5959
         ],
         "xaxis": "x2",
         "y": [
          "Oceania",
          "South America",
          "Africa",
          "Northern America",
          "Europe",
          "Asia"
         ],
         "yaxis": "y2"
        },
        {
         "name": "Roundwood, 2000",
         "orientation": "h",
         "type": "bar",
         "visible": false,
         "x": [
          59751256,
          332303001,
          622595544,
          668394000,
          623927883,
          1076936047
         ],
         "xaxis": "x",
         "y": [
          "Oceania",
          "South America",
          "Africa",
          "Northern America",
          "Europe",
          "Asia"
         ],
         "yaxis": "y"
        },
        {
         "name": "Wood-based panels, 2000",
         "orientation": "h",
         "type": "bar",
         "visible": false,
         "x": [
          3064000,
          7813170,
          1334868,
          59863440,
          59204726,
          45863320
         ],
         "xaxis": "x",
         "y": [
          "Oceania",
          "South America",
          "Africa",
          "Northern America",
          "Europe",
          "Asia"
         ],
         "yaxis": "y"
        },
        {
         "name": "Sawnwood, 2000",
         "orientation": "h",
         "type": "bar",
         "visible": false,
         "x": [
          8155509,
          31652100,
          7886900,
          141540607,
          129893835,
          61267740
         ],
         "xaxis": "x",
         "y": [
          "Oceania",
          "South America",
          "Africa",
          "Northern America",
          "Europe",
          "Asia"
         ],
         "yaxis": "y"
        },
        {
         "name": "Pulpwood, 2000",
         "orientation": "h",
         "type": "bar",
         "visible": false,
         "x": [
          16517000,
          64072000,
          14127900,
          198125000,
          165142409,
          39761232
         ],
         "xaxis": "x",
         "y": [
          "Oceania",
          "South America",
          "Africa",
          "Northern America",
          "Europe",
          "Asia"
         ],
         "yaxis": "y"
        },
        {
         "name": "Paper and paperboard, 2000",
         "orientation": "h",
         "type": "bar",
         "visible": false,
         "x": [
          4455600,
          12691680,
          4211127.6,
          128607790.8,
          120209978.39999999,
          114223681.2
         ],
         "xaxis": "x",
         "y": [
          "Oceania",
          "South America",
          "Africa",
          "Northern America",
          "Europe",
          "Asia"
         ],
         "yaxis": "y"
        },
        {
         "name": "Forested area, 2000",
         "orientation": "h",
         "type": "bar",
         "visible": false,
         "x": [
          177641.153,
          890817.056,
          670372.149,
          651342.42,
          1002301.581,
          565911.609
         ],
         "xaxis": "x2",
         "y": [
          "Oceania",
          "South America",
          "Africa",
          "Northern America",
          "Europe",
          "Asia"
         ],
         "yaxis": "y2"
        },
        {
         "name": "Roundwood, 2001",
         "orientation": "h",
         "type": "bar",
         "visible": false,
         "x": [
          60556296,
          319510237,
          631089103,
          634967000,
          595636067,
          1059527210
         ],
         "xaxis": "x",
         "y": [
          "Oceania",
          "South America",
          "Africa",
          "Northern America",
          "Europe",
          "Asia"
         ],
         "yaxis": "y"
        },
        {
         "name": "Wood-based panels, 2001",
         "orientation": "h",
         "type": "bar",
         "visible": false,
         "x": [
          3060000,
          8290044,
          1791850,
          54566607,
          59680066,
          48080000
         ],
         "xaxis": "x",
         "y": [
          "Oceania",
          "South America",
          "Africa",
          "Northern America",
          "Europe",
          "Asia"
         ],
         "yaxis": "y"
        },
        {
         "name": "Sawnwood, 2001",
         "orientation": "h",
         "type": "bar",
         "visible": false,
         "x": [
          7905509,
          32566000,
          7564400,
          139722900,
          128254837,
          58810700
         ],
         "xaxis": "x",
         "y": [
          "Oceania",
          "South America",
          "Africa",
          "Northern America",
          "Europe",
          "Asia"
         ],
         "yaxis": "y"
        },
        {
         "name": "Pulpwood, 2001",
         "orientation": "h",
         "type": "bar",
         "visible": false,
         "x": [
          16861000,
          59331328,
          14356600,
          186760000,
          165751987,
          41911169
         ],
         "xaxis": "x",
         "y": [
          "Oceania",
          "South America",
          "Africa",
          "Northern America",
          "Europe",
          "Asia"
         ],
         "yaxis": "y"
        },
        {
         "name": "Paper and paperboard, 2001",
         "orientation": "h",
         "type": "bar",
         "visible": false,
         "x": [
          4213200,
          12809446.799999999,
          4386984,
          121299393.6,
          118843148.39999999,
          115850697.6
         ],
         "xaxis": "x",
         "y": [
          "Oceania",
          "South America",
          "Africa",
          "Northern America",
          "Europe",
          "Asia"
         ],
         "yaxis": "y"
        },
        {
         "name": "Forested area, 2001",
         "orientation": "h",
         "type": "bar",
         "visible": false,
         "x": [
          177409.9894,
          886375.924,
          667233.5,
          651541.38,
          1002670.6678,
          568902.8084
         ],
         "xaxis": "x2",
         "y": [
          "Oceania",
          "South America",
          "Africa",
          "Northern America",
          "Europe",
          "Asia"
         ],
         "yaxis": "y2"
        },
        {
         "name": "Roundwood, 2002",
         "orientation": "h",
         "type": "bar",
         "visible": false,
         "x": [
          60945041,
          329540182,
          636073752,
          646077000,
          608172571,
          1081473146
         ],
         "xaxis": "x",
         "y": [
          "Oceania",
          "South America",
          "Africa",
          "Northern America",
          "Europe",
          "Asia"
         ],
         "yaxis": "y"
        },
        {
         "name": "Wood-based panels, 2002",
         "orientation": "h",
         "type": "bar",
         "visible": false,
         "x": [
          3289056,
          9192496,
          1897604,
          56042713,
          62097102,
          57228270
         ],
         "xaxis": "x",
         "y": [
          "Oceania",
          "South America",
          "Africa",
          "Northern America",
          "Europe",
          "Asia"
         ],
         "yaxis": "y"
        },
        {
         "name": "Sawnwood, 2002",
         "orientation": "h",
         "type": "bar",
         "visible": false,
         "x": [
          8707709,
          33998900,
          7438500,
          147123976,
          127958345,
          63000760
         ],
         "xaxis": "x",
         "y": [
          "Oceania",
          "South America",
          "Africa",
          "Northern America",
          "Europe",
          "Asia"
         ],
         "yaxis": "y"
        },
        {
         "name": "Pulpwood, 2002",
         "orientation": "h",
         "type": "bar",
         "visible": false,
         "x": [
          15770000,
          62885277,
          14001500,
          188917000,
          168397689,
          43409549
         ],
         "xaxis": "x",
         "y": [
          "Oceania",
          "South America",
          "Africa",
          "Northern America",
          "Europe",
          "Asia"
         ],
         "yaxis": "y"
        },
        {
         "name": "Paper and paperboard, 2002",
         "orientation": "h",
         "type": "bar",
         "visible": false,
         "x": [
          4222302,
          13359970.799999999,
          4447527.6,
          122342486.39999999,
          122599262.39999999,
          123541225.19999999
         ],
         "xaxis": "x",
         "y": [
          "Oceania",
          "South America",
          "Africa",
          "Northern America",
          "Europe",
          "Asia"
         ],
         "yaxis": "y"
        },
        {
         "name": "Forested area, 2002",
         "orientation": "h",
         "type": "bar",
         "visible": false,
         "x": [
          177178.8258,
          881934.792,
          664094.851,
          651740.34,
          1003039.7546,
          571894.0078
         ],
         "xaxis": "x2",
         "y": [
          "Oceania",
          "South America",
          "Africa",
          "Northern America",
          "Europe",
          "Asia"
         ],
         "yaxis": "y2"
        },
        {
         "name": "Roundwood, 2003",
         "orientation": "h",
         "type": "bar",
         "visible": false,
         "x": [
          62438052,
          355601793,
          649479835,
          628155255,
          635646486,
          1087553852
         ],
         "xaxis": "x",
         "y": [
          "Oceania",
          "South America",
          "Africa",
          "Northern America",
          "Europe",
          "Asia"
         ],
         "yaxis": "y"
        },
        {
         "name": "Wood-based panels, 2003",
         "orientation": "h",
         "type": "bar",
         "visible": false,
         "x": [
          3484714,
          10810955,
          1835962,
          58129260,
          64999907,
          73717135
         ],
         "xaxis": "x",
         "y": [
          "Oceania",
          "South America",
          "Africa",
          "Northern America",
          "Europe",
          "Asia"
         ],
         "yaxis": "y"
        },
        {
         "name": "Sawnwood, 2003",
         "orientation": "h",
         "type": "bar",
         "visible": false,
         "x": [
          8879409,
          35498500,
          8081650,
          143050562,
          132212450,
          67552729
         ],
         "xaxis": "x",
         "y": [
          "Oceania",
          "South America",
          "Africa",
          "Northern America",
          "Europe",
          "Asia"
         ],
         "yaxis": "y"
        },
        {
         "name": "Pulpwood, 2003",
         "orientation": "h",
         "type": "bar",
         "visible": false,
         "x": [
          16589000,
          69742661,
          16915300,
          193231000,
          171050933,
          44827259
         ],
         "xaxis": "x",
         "y": [
          "Oceania",
          "South America",
          "Africa",
          "Northern America",
          "Europe",
          "Asia"
         ],
         "yaxis": "y"
        },
        {
         "name": "Paper and paperboard, 2003",
         "orientation": "h",
         "type": "bar",
         "visible": false,
         "x": [
          4680156,
          13915076.4,
          4518302.399999999,
          120811399.19999999,
          125828424,
          131432280
         ],
         "xaxis": "x",
         "y": [
          "Oceania",
          "South America",
          "Africa",
          "Northern America",
          "Europe",
          "Asia"
         ],
         "yaxis": "y"
        },
        {
         "name": "Forested area, 2003",
         "orientation": "h",
         "type": "bar",
         "visible": false,
         "x": [
          176947.6622,
          877493.66,
          660956.202,
          651939.3,
          1003408.8414,
          574885.2072
         ],
         "xaxis": "x2",
         "y": [
          "Oceania",
          "South America",
          "Africa",
          "Northern America",
          "Europe",
          "Asia"
         ],
         "yaxis": "y2"
        },
        {
         "name": "Roundwood, 2004",
         "orientation": "h",
         "type": "bar",
         "visible": false,
         "x": [
          61079934,
          351988312,
          659168100,
          669812180,
          649209335,
          1082093507
         ],
         "xaxis": "x",
         "y": [
          "Oceania",
          "South America",
          "Africa",
          "Northern America",
          "Europe",
          "Asia"
         ],
         "yaxis": "y"
        },
        {
         "name": "Wood-based panels, 2004",
         "orientation": "h",
         "type": "bar",
         "visible": false,
         "x": [
          3579946,
          12607519,
          1848378,
          59873255,
          70444656,
          84584171
         ],
         "xaxis": "x",
         "y": [
          "Oceania",
          "South America",
          "Africa",
          "Northern America",
          "Europe",
          "Asia"
         ],
         "yaxis": "y"
        },
        {
         "name": "Sawnwood, 2004",
         "orientation": "h",
         "type": "bar",
         "visible": false,
         "x": [
          9298909,
          36897800,
          8152550,
          154019090,
          138649360,
          73629953
         ],
         "xaxis": "x",
         "y": [
          "Oceania",
          "South America",
          "Africa",
          "Northern America",
          "Europe",
          "Asia"
         ],
         "yaxis": "y"
        },
        {
         "name": "Pulpwood, 2004",
         "orientation": "h",
         "type": "bar",
         "visible": false,
         "x": [
          16985000,
          70835000,
          18192057,
          189751000,
          177523365,
          47664369
         ],
         "xaxis": "x",
         "y": [
          "Oceania",
          "South America",
          "Africa",
          "Northern America",
          "Europe",
          "Asia"
         ],
         "yaxis": "y"
        },
        {
         "name": "Paper and paperboard, 2004",
         "orientation": "h",
         "type": "bar",
         "visible": false,
         "x": [
          4816695.6,
          14901576,
          4942915.2,
          123055641.6,
          131789534.39999999,
          141375720
         ],
         "xaxis": "x",
         "y": [
          "Oceania",
          "South America",
          "Africa",
          "Northern America",
          "Europe",
          "Asia"
         ],
         "yaxis": "y"
        },
        {
         "name": "Forested area, 2004",
         "orientation": "h",
         "type": "bar",
         "visible": false,
         "x": [
          176716.4986,
          873052.528,
          657817.553,
          652138.26,
          1003777.9282,
          577876.4066
         ],
         "xaxis": "x2",
         "y": [
          "Oceania",
          "South America",
          "Africa",
          "Northern America",
          "Europe",
          "Asia"
         ],
         "yaxis": "y2"
        },
        {
         "name": "Roundwood, 2005",
         "orientation": "h",
         "type": "bar",
         "visible": false,
         "x": [
          61018791,
          345194162,
          674530387,
          670468950,
          680615535,
          1077663338
         ],
         "xaxis": "x",
         "y": [
          "Oceania",
          "South America",
          "Africa",
          "Northern America",
          "Europe",
          "Asia"
         ],
         "yaxis": "y"
        },
        {
         "name": "Wood-based panels, 2005",
         "orientation": "h",
         "type": "bar",
         "visible": false,
         "x": [
          3473386,
          13413959,
          1532552,
          61090051,
          73131712,
          93583713
         ],
         "xaxis": "x",
         "y": [
          "Oceania",
          "South America",
          "Africa",
          "Northern America",
          "Europe",
          "Asia"
         ],
         "yaxis": "y"
        },
        {
         "name": "Sawnwood, 2005",
         "orientation": "h",
         "type": "bar",
         "visible": false,
         "x": [
          9179979,
          37426400,
          7953068,
          157206232,
          143648132,
          77996455
         ],
         "xaxis": "x",
         "y": [
          "Oceania",
          "South America",
          "Africa",
          "Northern America",
          "Europe",
          "Asia"
         ],
         "yaxis": "y"
        },
        {
         "name": "Pulpwood, 2005",
         "orientation": "h",
         "type": "bar",
         "visible": false,
         "x": [
          16981000,
          80393000,
          18450054,
          184258000,
          187518197,
          47992469
         ],
         "xaxis": "x",
         "y": [
          "Oceania",
          "South America",
          "Africa",
          "Northern America",
          "Europe",
          "Asia"
         ],
         "yaxis": "y"
        },
        {
         "name": "Paper and paperboard, 2005",
         "orientation": "h",
         "type": "bar",
         "visible": false,
         "x": [
          5034217.2,
          15949244.399999999,
          4551644.399999999,
          123834402,
          133035776.39999999,
          149576354.4
         ],
         "xaxis": "x",
         "y": [
          "Oceania",
          "South America",
          "Africa",
          "Northern America",
          "Europe",
          "Asia"
         ],
         "yaxis": "y"
        },
        {
         "name": "Forested area, 2005",
         "orientation": "h",
         "type": "bar",
         "visible": false,
         "x": [
          176485.335,
          868611.396,
          654678.904,
          652337.22,
          1004147.015,
          580867.606
         ],
         "xaxis": "x2",
         "y": [
          "Oceania",
          "South America",
          "Africa",
          "Northern America",
          "Europe",
          "Asia"
         ],
         "yaxis": "y2"
        },
        {
         "name": "Roundwood, 2006",
         "orientation": "h",
         "type": "bar",
         "visible": false,
         "x": [
          62275896,
          343485399,
          687476749,
          640979600,
          665587237,
          1070049516
         ],
         "xaxis": "x",
         "y": [
          "Oceania",
          "South America",
          "Africa",
          "Northern America",
          "Europe",
          "Asia"
         ],
         "yaxis": "y"
        },
        {
         "name": "Wood-based panels, 2006",
         "orientation": "h",
         "type": "bar",
         "visible": false,
         "x": [
          3573889,
          14518365,
          1712293,
          60691721,
          77636908,
          103603327
         ],
         "xaxis": "x",
         "y": [
          "Oceania",
          "South America",
          "Africa",
          "Northern America",
          "Europe",
          "Asia"
         ],
         "yaxis": "y"
        },
        {
         "name": "Sawnwood, 2006",
         "orientation": "h",
         "type": "bar",
         "visible": false,
         "x": [
          9259479,
          38517800,
          8037874,
          151612568,
          149880462,
          84496350
         ],
         "xaxis": "x",
         "y": [
          "Oceania",
          "South America",
          "Africa",
          "Northern America",
          "Europe",
          "Asia"
         ],
         "yaxis": "y"
        },
        {
         "name": "Pulpwood, 2006",
         "orientation": "h",
         "type": "bar",
         "visible": false,
         "x": [
          17191320,
          80610040,
          19022040,
          184236000,
          179935278,
          49087169
         ],
         "xaxis": "x",
         "y": [
          "Oceania",
          "South America",
          "Africa",
          "Northern America",
          "Europe",
          "Asia"
         ],
         "yaxis": "y"
        },
        {
         "name": "Paper and paperboard, 2006",
         "orientation": "h",
         "type": "bar",
         "visible": false,
         "x": [
          4922878.8,
          16011559.2,
          4736924.399999999,
          123007124.39999999,
          137514295.2,
          165982554
         ],
         "xaxis": "x",
         "y": [
          "Oceania",
          "South America",
          "Africa",
          "Northern America",
          "Europe",
          "Asia"
         ],
         "yaxis": "y"
        },
        {
         "name": "Forested area, 2006",
         "orientation": "h",
         "type": "bar",
         "visible": false,
         "x": [
          175588.593,
          865315.752,
          651399.5548,
          653075,
          1006032.017,
          582575.1584
         ],
         "xaxis": "x2",
         "y": [
          "Oceania",
          "South America",
          "Africa",
          "Northern America",
          "Europe",
          "Asia"
         ],
         "yaxis": "y2"
        },
        {
         "name": "Roundwood, 2007",
         "orientation": "h",
         "type": "bar",
         "visible": false,
         "x": [
          63644362,
          355956356,
          693101800,
          589728360,
          723805471,
          1080427325
         ],
         "xaxis": "x",
         "y": [
          "Oceania",
          "South America",
          "Africa",
          "Northern America",
          "Europe",
          "Asia"
         ],
         "yaxis": "y"
        },
        {
         "name": "Wood-based panels, 2007",
         "orientation": "h",
         "type": "bar",
         "visible": false,
         "x": [
          3327859,
          14212651,
          1813392,
          57548145,
          81953139,
          116491554
         ],
         "xaxis": "x",
         "y": [
          "Oceania",
          "South America",
          "Africa",
          "Northern America",
          "Europe",
          "Asia"
         ],
         "yaxis": "y"
        },
        {
         "name": "Sawnwood, 2007",
         "orientation": "h",
         "type": "bar",
         "visible": false,
         "x": [
          9713479,
          38082180,
          8160375,
          137661393,
          156253356,
          80118317
         ],
         "xaxis": "x",
         "y": [
          "Oceania",
          "South America",
          "Africa",
          "Northern America",
          "Europe",
          "Asia"
         ],
         "yaxis": "y"
        },
        {
         "name": "Pulpwood, 2007",
         "orientation": "h",
         "type": "bar",
         "visible": false,
         "x": [
          17984191,
          93338558,
          16004187,
          170487000,
          197814584,
          57670069
         ],
         "xaxis": "x",
         "y": [
          "Oceania",
          "South America",
          "Africa",
          "Northern America",
          "Europe",
          "Asia"
         ],
         "yaxis": "y"
        },
        {
         "name": "Paper and paperboard, 2007",
         "orientation": "h",
         "type": "bar",
         "visible": false,
         "x": [
          4867741.2,
          16561862.399999999,
          4995404.399999999,
          121539558,
          137972808,
          178665327.6
         ],
         "xaxis": "x",
         "y": [
          "Oceania",
          "South America",
          "Africa",
          "Northern America",
          "Europe",
          "Asia"
         ],
         "yaxis": "y"
        },
        {
         "name": "Forested area, 2007",
         "orientation": "h",
         "type": "bar",
         "visible": false,
         "x": [
          174691.851,
          862020.108,
          648120.2056,
          653812.78,
          1007917.019,
          584282.7108
         ],
         "xaxis": "x2",
         "y": [
          "Oceania",
          "South America",
          "Africa",
          "Northern America",
          "Europe",
          "Asia"
         ],
         "yaxis": "y2"
        },
        {
         "name": "Roundwood, 2008",
         "orientation": "h",
         "type": "bar",
         "visible": false,
         "x": [
          63181186,
          354430895,
          702469662,
          519745444,
          637293375,
          1107115377
         ],
         "xaxis": "x",
         "y": [
          "Oceania",
          "South America",
          "Africa",
          "Northern America",
          "Europe",
          "Asia"
         ],
         "yaxis": "y"
        },
        {
         "name": "Wood-based panels, 2008",
         "orientation": "h",
         "type": "bar",
         "visible": false,
         "x": [
          3248030,
          14617446,
          2025172,
          46996450,
          75050433,
          118643212
         ],
         "xaxis": "x",
         "y": [
          "Oceania",
          "South America",
          "Africa",
          "Northern America",
          "Europe",
          "Asia"
         ],
         "yaxis": "y"
        },
        {
         "name": "Sawnwood, 2008",
         "orientation": "h",
         "type": "bar",
         "visible": false,
         "x": [
          9357479,
          34217500,
          8521682,
          114416902,
          137694499,
          78310057
         ],
         "xaxis": "x",
         "y": [
          "Oceania",
          "South America",
          "Africa",
          "Northern America",
          "Europe",
          "Asia"
         ],
         "yaxis": "y"
        },
        {
         "name": "Pulpwood, 2008",
         "orientation": "h",
         "type": "bar",
         "visible": false,
         "x": [
          18607885,
          95999000,
          16105484,
          162683000,
          182733956,
          67635069
         ],
         "xaxis": "x",
         "y": [
          "Oceania",
          "South America",
          "Africa",
          "Northern America",
          "Europe",
          "Asia"
         ],
         "yaxis": "y"
        },
        {
         "name": "Paper and paperboard, 2008",
         "orientation": "h",
         "type": "bar",
         "visible": false,
         "x": [
          4984856.399999999,
          17525344.8,
          4985684.399999999,
          115160858.39999999,
          133574932.8,
          185647539.6
         ],
         "xaxis": "x",
         "y": [
          "Oceania",
          "South America",
          "Africa",
          "Northern America",
          "Europe",
          "Asia"
         ],
         "yaxis": "y"
        },
        {
         "name": "Forested area, 2008",
         "orientation": "h",
         "type": "bar",
         "visible": false,
         "x": [
          173795.109,
          858724.464,
          644840.8564,
          654550.56,
          1009802.021,
          585990.2632
         ],
         "xaxis": "x2",
         "y": [
          "Oceania",
          "South America",
          "Africa",
          "Northern America",
          "Europe",
          "Asia"
         ],
         "yaxis": "y2"
        },
        {
         "name": "Roundwood, 2009",
         "orientation": "h",
         "type": "bar",
         "visible": false,
         "x": [
          62951805,
          350268905,
          707586578,
          448834276,
          596671380,
          1114404466
         ],
         "xaxis": "x",
         "y": [
          "Oceania",
          "South America",
          "Africa",
          "Northern America",
          "Europe",
          "Asia"
         ],
         "yaxis": "y"
        },
        {
         "name": "Wood-based panels, 2009",
         "orientation": "h",
         "type": "bar",
         "visible": false,
         "x": [
          2790803,
          13350129,
          1621666,
          42392789,
          66079897,
          126187396
         ],
         "xaxis": "x",
         "y": [
          "Oceania",
          "South America",
          "Africa",
          "Northern America",
          "Europe",
          "Asia"
         ],
         "yaxis": "y"
        },
        {
         "name": "Sawnwood, 2009",
         "orientation": "h",
         "type": "bar",
         "visible": false,
         "x": [
          8545479,
          28969800,
          8435363,
          87095530,
          127925524,
          79513199
         ],
         "xaxis": "x",
         "y": [
          "Oceania",
          "South America",
          "Africa",
          "Northern America",
          "Europe",
          "Asia"
         ],
         "yaxis": "y"
        },
        {
         "name": "Pulpwood, 2009",
         "orientation": "h",
         "type": "bar",
         "visible": false,
         "x": [
          17553885,
          100230000,
          15063306,
          158318000,
          166985068,
          66716269
         ],
         "xaxis": "x",
         "y": [
          "Oceania",
          "South America",
          "Africa",
          "Northern America",
          "Europe",
          "Asia"
         ],
         "yaxis": "y"
        },
        {
         "name": "Paper and paperboard, 2009",
         "orientation": "h",
         "type": "bar",
         "visible": false,
         "x": [
          4995166.8,
          17306155.2,
          4127235.5999999996,
          101014146,
          121182733.19999999,
          190187755.2
         ],
         "xaxis": "x",
         "y": [
          "Oceania",
          "South America",
          "Africa",
          "Northern America",
          "Europe",
          "Asia"
         ],
         "yaxis": "y"
        },
        {
         "name": "Forested area, 2009",
         "orientation": "h",
         "type": "bar",
         "visible": false,
         "x": [
          172898.367,
          855428.82,
          641561.5072,
          655288.34,
          1011687.023,
          587697.8156
         ],
         "xaxis": "x2",
         "y": [
          "Oceania",
          "South America",
          "Africa",
          "Northern America",
          "Europe",
          "Asia"
         ],
         "yaxis": "y2"
        },
        {
         "name": "Roundwood, 2010",
         "orientation": "h",
         "type": "bar",
         "visible": false,
         "x": [
          68394098,
          359318849,
          715136685,
          518585276,
          666718045,
          1134196377
         ],
         "xaxis": "x",
         "y": [
          "Oceania",
          "South America",
          "Africa",
          "Northern America",
          "Europe",
          "Asia"
         ],
         "yaxis": "y"
        },
        {
         "name": "Wood-based panels, 2010",
         "orientation": "h",
         "type": "bar",
         "visible": false,
         "x": [
          2837773,
          14750457,
          1525003,
          41238280,
          70567256,
          143195667
         ],
         "xaxis": "x",
         "y": [
          "Oceania",
          "South America",
          "Africa",
          "Northern America",
          "Europe",
          "Asia"
         ],
         "yaxis": "y"
        },
        {
         "name": "Sawnwood, 2010",
         "orientation": "h",
         "type": "bar",
         "visible": false,
         "x": [
          9425479,
          30302400,
          8681873,
          98680400,
          139108844,
          85674471
         ],
         "xaxis": "x",
         "y": [
          "Oceania",
          "South America",
          "Africa",
          "Northern America",
          "Europe",
          "Asia"
         ],
         "yaxis": "y"
        },
        {
         "name": "Pulpwood, 2010",
         "orientation": "h",
         "type": "bar",
         "visible": false,
         "x": [
          17294000,
          105351000,
          13685120,
          203114000,
          186983554,
          74960269
         ],
         "xaxis": "x",
         "y": [
          "Oceania",
          "South America",
          "Africa",
          "Northern America",
          "Europe",
          "Asia"
         ],
         "yaxis": "y"
        },
        {
         "name": "Paper and paperboard, 2010",
         "orientation": "h",
         "type": "bar",
         "visible": false,
         "x": [
          4910186.399999999,
          17749376.4,
          4483772.399999999,
          106233414,
          127499881.19999999,
          203962798.79999998
         ],
         "xaxis": "x",
         "y": [
          "Oceania",
          "South America",
          "Africa",
          "Northern America",
          "Europe",
          "Asia"
         ],
         "yaxis": "y"
        },
        {
         "name": "Forested area, 2010",
         "orientation": "h",
         "type": "bar",
         "visible": false,
         "x": [
          172001.625,
          852133.176,
          638282.158,
          656026.12,
          1013572.025,
          589405.368
         ],
         "xaxis": "x2",
         "y": [
          "Oceania",
          "South America",
          "Africa",
          "Northern America",
          "Europe",
          "Asia"
         ],
         "yaxis": "y2"
        },
        {
         "name": "Roundwood, 2011",
         "orientation": "h",
         "type": "bar",
         "visible": false,
         "x": [
          70322444,
          383346712,
          702479553,
          543319426,
          690733005,
          1138749244
         ],
         "xaxis": "x",
         "y": [
          "Oceania",
          "South America",
          "Africa",
          "Northern America",
          "Europe",
          "Asia"
         ],
         "yaxis": "y"
        },
        {
         "name": "Wood-based panels, 2011",
         "orientation": "h",
         "type": "bar",
         "visible": false,
         "x": [
          3009106,
          15220400,
          1567713,
          41264823,
          72408446,
          168396580
         ],
         "xaxis": "x",
         "y": [
          "Oceania",
          "South America",
          "Africa",
          "Northern America",
          "Europe",
          "Asia"
         ],
         "yaxis": "y"
        },
        {
         "name": "Sawnwood, 2011",
         "orientation": "h",
         "type": "bar",
         "visible": false,
         "x": [
          8689479,
          29455500,
          8936748,
          102053580,
          142856055,
          93038709
         ],
         "xaxis": "x",
         "y": [
          "Oceania",
          "South America",
          "Africa",
          "Northern America",
          "Europe",
          "Asia"
         ],
         "yaxis": "y"
        },
        {
         "name": "Pulpwood, 2011",
         "orientation": "h",
         "type": "bar",
         "visible": false,
         "x": [
          19100000,
          112879000,
          12260412,
          209741663,
          196524059,
          86543400
         ],
         "xaxis": "x",
         "y": [
          "Oceania",
          "South America",
          "Africa",
          "Northern America",
          "Europe",
          "Asia"
         ],
         "yaxis": "y"
        },
        {
         "name": "Paper and paperboard, 2011",
         "orientation": "h",
         "type": "bar",
         "visible": false,
         "x": [
          4756412.399999999,
          18109117.2,
          4075772.4,
          106185386.39999999,
          128699563.19999999,
          212246850
         ],
         "xaxis": "x",
         "y": [
          "Oceania",
          "South America",
          "Africa",
          "Northern America",
          "Europe",
          "Asia"
         ],
         "yaxis": "y"
        },
        {
         "name": "Forested area, 2011",
         "orientation": "h",
         "type": "bar",
         "visible": false,
         "x": [
          172306.0156,
          850108.664,
          635446.2518,
          656254.5,
          1013954.1152,
          590196.6142
         ],
         "xaxis": "x2",
         "y": [
          "Oceania",
          "South America",
          "Africa",
          "Northern America",
          "Europe",
          "Asia"
         ],
         "yaxis": "y2"
        },
        {
         "name": "Roundwood, 2012",
         "orientation": "h",
         "type": "bar",
         "visible": false,
         "x": [
          68982882,
          398455538,
          729515357,
          535695600,
          690806215,
          1134094683
         ],
         "xaxis": "x",
         "y": [
          "Oceania",
          "South America",
          "Africa",
          "Northern America",
          "Europe",
          "Asia"
         ],
         "yaxis": "y"
        },
        {
         "name": "Wood-based panels, 2012",
         "orientation": "h",
         "type": "bar",
         "visible": false,
         "x": [
          2778821,
          15731674,
          1951463,
          41189000,
          72397365,
          185506921
         ],
         "xaxis": "x",
         "y": [
          "Oceania",
          "South America",
          "Africa",
          "Northern America",
          "Europe",
          "Asia"
         ],
         "yaxis": "y"
        },
        {
         "name": "Sawnwood, 2012",
         "orientation": "h",
         "type": "bar",
         "visible": false,
         "x": [
          8706479,
          30044500,
          9018735,
          108038043,
          140038417,
          105001028
         ],
         "xaxis": "x",
         "y": [
          "Oceania",
          "South America",
          "Africa",
          "Northern America",
          "Europe",
          "Asia"
         ],
         "yaxis": "y"
        },
        {
         "name": "Pulpwood, 2012",
         "orientation": "h",
         "type": "bar",
         "visible": false,
         "x": [
          16599000,
          109503000,
          14078240,
          210369000,
          192554321,
          89580400
         ],
         "xaxis": "x",
         "y": [
          "Oceania",
          "South America",
          "Africa",
          "Northern America",
          "Europe",
          "Asia"
         ],
         "yaxis": "y"
        },
        {
         "name": "Paper and paperboard, 2012",
         "orientation": "h",
         "type": "bar",
         "visible": false,
         "x": [
          4845826.8,
          18024498,
          4369995.6,
          102297600,
          126450369.6,
          216781003.2
         ],
         "xaxis": "x",
         "y": [
          "Oceania",
          "South America",
          "Africa",
          "Northern America",
          "Europe",
          "Asia"
         ],
         "yaxis": "y"
        },
        {
         "name": "Forested area, 2012",
         "orientation": "h",
         "type": "bar",
         "visible": false,
         "x": [
          172610.4062,
          848084.152,
          632610.3456,
          656482.88,
          1014336.2054,
          590987.8604
         ],
         "xaxis": "x2",
         "y": [
          "Oceania",
          "South America",
          "Africa",
          "Northern America",
          "Europe",
          "Asia"
         ],
         "yaxis": "y2"
        },
        {
         "name": "Roundwood, 2013",
         "orientation": "h",
         "type": "bar",
         "visible": false,
         "x": [
          70538916,
          397525687,
          735844724,
          548894489,
          702420622,
          1151248761
         ],
         "xaxis": "x",
         "y": [
          "Oceania",
          "South America",
          "Africa",
          "Northern America",
          "Europe",
          "Asia"
         ],
         "yaxis": "y"
        },
        {
         "name": "Wood-based panels, 2013",
         "orientation": "h",
         "type": "bar",
         "visible": false,
         "x": [
          2654052,
          16394735,
          1921952,
          43713823,
          73399690,
          212958608
         ],
         "xaxis": "x",
         "y": [
          "Oceania",
          "South America",
          "Africa",
          "Northern America",
          "Europe",
          "Asia"
         ],
         "yaxis": "y"
        },
        {
         "name": "Sawnwood, 2013",
         "orientation": "h",
         "type": "bar",
         "visible": false,
         "x": [
          8793479,
          30952500,
          9562155,
          113928453,
          142534192,
          113786341
         ],
         "xaxis": "x",
         "y": [
          "Oceania",
          "South America",
          "Africa",
          "Northern America",
          "Europe",
          "Asia"
         ],
         "yaxis": "y"
        },
        {
         "name": "Pulpwood, 2013",
         "orientation": "h",
         "type": "bar",
         "visible": false,
         "x": [
          15800000,
          109602000,
          11954135,
          206192449,
          196990030,
          108059740
         ],
         "xaxis": "x",
         "y": [
          "Oceania",
          "South America",
          "Africa",
          "Northern America",
          "Europe",
          "Asia"
         ],
         "yaxis": "y"
        },
        {
         "name": "Paper and paperboard, 2013",
         "orientation": "h",
         "type": "bar",
         "visible": false,
         "x": [
          4547424,
          18211924.8,
          4380163.2,
          99487557.6,
          125452227.6,
          217922658
         ],
         "xaxis": "x",
         "y": [
          "Oceania",
          "South America",
          "Africa",
          "Northern America",
          "Europe",
          "Asia"
         ],
         "yaxis": "y"
        },
        {
         "name": "Forested area, 2013",
         "orientation": "h",
         "type": "bar",
         "visible": false,
         "x": [
          172914.7968,
          846059.64,
          629774.4394,
          656711.26,
          1014718.2956,
          591779.1066
         ],
         "xaxis": "x2",
         "y": [
          "Oceania",
          "South America",
          "Africa",
          "Northern America",
          "Europe",
          "Asia"
         ],
         "yaxis": "y2"
        },
        {
         "name": "Roundwood, 2014",
         "orientation": "h",
         "type": "bar",
         "visible": false,
         "x": [
          73377175,
          396596576,
          744778399,
          552157722,
          729841152,
          1147516147
         ],
         "xaxis": "x",
         "y": [
          "Oceania",
          "South America",
          "Africa",
          "Northern America",
          "Europe",
          "Asia"
         ],
         "yaxis": "y"
        },
        {
         "name": "Wood-based panels, 2014",
         "orientation": "h",
         "type": "bar",
         "visible": false,
         "x": [
          2767297,
          16428230,
          2152515,
          46387540,
          75800315,
          228720951
         ],
         "xaxis": "x",
         "y": [
          "Oceania",
          "South America",
          "Africa",
          "Northern America",
          "Europe",
          "Asia"
         ],
         "yaxis": "y"
        },
        {
         "name": "Sawnwood, 2014",
         "orientation": "h",
         "type": "bar",
         "visible": false,
         "x": [
          9118479,
          30638780,
          10282050,
          119184300,
          147366287,
          118987211
         ],
         "xaxis": "x",
         "y": [
          "Oceania",
          "South America",
          "Africa",
          "Northern America",
          "Europe",
          "Asia"
         ],
         "yaxis": "y"
        },
        {
         "name": "Pulpwood, 2014",
         "orientation": "h",
         "type": "bar",
         "visible": false,
         "x": [
          17646000,
          108927662,
          10751471,
          205142806,
          198946274,
          101182568
         ],
         "xaxis": "x",
         "y": [
          "Oceania",
          "South America",
          "Africa",
          "Northern America",
          "Europe",
          "Asia"
         ],
         "yaxis": "y"
        },
        {
         "name": "Paper and paperboard, 2014",
         "orientation": "h",
         "type": "bar",
         "visible": false,
         "x": [
          4572026.399999999,
          18167928,
          4290506.399999999,
          100641600,
          125070426,
          225605827.2
         ],
         "xaxis": "x",
         "y": [
          "Oceania",
          "South America",
          "Africa",
          "Northern America",
          "Europe",
          "Asia"
         ],
         "yaxis": "y"
        },
        {
         "name": "Forested area, 2014",
         "orientation": "h",
         "type": "bar",
         "visible": false,
         "x": [
          173219.1874,
          844035.128,
          626938.5332,
          656939.64,
          1015100.3858,
          592570.3528
         ],
         "xaxis": "x2",
         "y": [
          "Oceania",
          "South America",
          "Africa",
          "Northern America",
          "Europe",
          "Asia"
         ],
         "yaxis": "y2"
        },
        {
         "name": "Roundwood, 2015",
         "orientation": "h",
         "type": "bar",
         "visible": false,
         "x": [
          73447694,
          388446542,
          754202285,
          555020552,
          736069226,
          1124505449
         ],
         "xaxis": "x",
         "y": [
          "Oceania",
          "South America",
          "Africa",
          "Northern America",
          "Europe",
          "Asia"
         ],
         "yaxis": "y"
        },
        {
         "name": "Wood-based panels, 2015",
         "orientation": "h",
         "type": "bar",
         "visible": false,
         "x": [
          2998446,
          16384820,
          2257077,
          47037505,
          79450572,
          237792206
         ],
         "xaxis": "x",
         "y": [
          "Oceania",
          "South America",
          "Africa",
          "Northern America",
          "Europe",
          "Asia"
         ],
         "yaxis": "y"
        },
        {
         "name": "Sawnwood, 2015",
         "orientation": "h",
         "type": "bar",
         "visible": false,
         "x": [
          9374443,
          30547503,
          10360092,
          123476860,
          150304552,
          124074379
         ],
         "xaxis": "x",
         "y": [
          "Oceania",
          "South America",
          "Africa",
          "Northern America",
          "Europe",
          "Asia"
         ],
         "yaxis": "y"
        },
        {
         "name": "Pulpwood, 2015",
         "orientation": "h",
         "type": "bar",
         "visible": false,
         "x": [
          18666255,
          115518000,
          11372582,
          199642312,
          202589229,
          106023568
         ],
         "xaxis": "x",
         "y": [
          "Oceania",
          "South America",
          "Africa",
          "Northern America",
          "Europe",
          "Asia"
         ],
         "yaxis": "y"
        },
        {
         "name": "Paper and paperboard, 2015",
         "orientation": "h",
         "type": "bar",
         "visible": false,
         "x": [
          4682478,
          18399444,
          4310347.2,
          99236400,
          124677890.39999999,
          229333149.6
         ],
         "xaxis": "x",
         "y": [
          "Oceania",
          "South America",
          "Africa",
          "Northern America",
          "Europe",
          "Asia"
         ],
         "yaxis": "y"
        },
        {
         "name": "Forested area, 2015",
         "orientation": "h",
         "type": "bar",
         "visible": false,
         "x": [
          173523.578,
          842010.616,
          624102.627,
          657168.02,
          1015482.476,
          593361.599
         ],
         "xaxis": "x2",
         "y": [
          "Oceania",
          "South America",
          "Africa",
          "Northern America",
          "Europe",
          "Asia"
         ],
         "yaxis": "y2"
        }
       ],
       "layout": {
        "annotations": [
         {
          "font": {
           "size": 16
          },
          "showarrow": false,
          "text": "Production (m3)",
          "x": 0.225,
          "xanchor": "center",
          "xref": "paper",
          "y": 1,
          "yanchor": "bottom",
          "yref": "paper"
         },
         {
          "font": {
           "size": 16
          },
          "showarrow": false,
          "text": "Forested area (1000 ha)",
          "x": 0.775,
          "xanchor": "center",
          "xref": "paper",
          "y": 1,
          "yanchor": "bottom",
          "yref": "paper"
         }
        ],
        "autosize": false,
        "barmode": "stack",
        "height": 600,
        "sliders": [
         {
          "active": 1991,
          "currentvalue": {
           "prefix": "Year: "
          },
          "steps": [
           {
            "args": [
             "visible",
             [
              true,
              true,
              true,
              true,
              true,
              true,
              false,
              false,
              false,
              false,
              false,
              false,
              false,
              false,
              false,
              false,
              false,
              false,
              false,
              false,
              false,
              false,
              false,
              false,
              false,
              false,
              false,
              false,
              false,
              false,
              false,
              false,
              false,
              false,
              false,
              false,
              false,
              false,
              false,
              false,
              false,
              false,
              false,
              false,
              false,
              false,
              false,
              false,
              false,
              false,
              false,
              false,
              false,
              false,
              false,
              false,
              false,
              false,
              false,
              false,
              false,
              false,
              false,
              false,
              false,
              false,
              false,
              false,
              false,
              false,
              false,
              false,
              false,
              false,
              false,
              false,
              false,
              false,
              false,
              false,
              false,
              false,
              false,
              false,
              false,
              false,
              false,
              false,
              false,
              false,
              false,
              false,
              false,
              false,
              false,
              false,
              false,
              false,
              false,
              false,
              false,
              false,
              false,
              false,
              false,
              false,
              false,
              false,
              false,
              false,
              false,
              false,
              false,
              false,
              false,
              false,
              false,
              false,
              false,
              false,
              false,
              false,
              false,
              false,
              false,
              false
             ]
            ],
            "label": "1995",
            "method": "restyle"
           },
           {
            "args": [
             "visible",
             [
              false,
              false,
              false,
              false,
              false,
              false,
              true,
              true,
              true,
              true,
              true,
              true,
              false,
              false,
              false,
              false,
              false,
              false,
              false,
              false,
              false,
              false,
              false,
              false,
              false,
              false,
              false,
              false,
              false,
              false,
              false,
              false,
              false,
              false,
              false,
              false,
              false,
              false,
              false,
              false,
              false,
              false,
              false,
              false,
              false,
              false,
              false,
              false,
              false,
              false,
              false,
              false,
              false,
              false,
              false,
              false,
              false,
              false,
              false,
              false,
              false,
              false,
              false,
              false,
              false,
              false,
              false,
              false,
              false,
              false,
              false,
              false,
              false,
              false,
              false,
              false,
              false,
              false,
              false,
              false,
              false,
              false,
              false,
              false,
              false,
              false,
              false,
              false,
              false,
              false,
              false,
              false,
              false,
              false,
              false,
              false,
              false,
              false,
              false,
              false,
              false,
              false,
              false,
              false,
              false,
              false,
              false,
              false,
              false,
              false,
              false,
              false,
              false,
              false,
              false,
              false,
              false,
              false,
              false,
              false,
              false,
              false,
              false,
              false,
              false,
              false
             ]
            ],
            "label": "1996",
            "method": "restyle"
           },
           {
            "args": [
             "visible",
             [
              false,
              false,
              false,
              false,
              false,
              false,
              false,
              false,
              false,
              false,
              false,
              false,
              true,
              true,
              true,
              true,
              true,
              true,
              false,
              false,
              false,
              false,
              false,
              false,
              false,
              false,
              false,
              false,
              false,
              false,
              false,
              false,
              false,
              false,
              false,
              false,
              false,
              false,
              false,
              false,
              false,
              false,
              false,
              false,
              false,
              false,
              false,
              false,
              false,
              false,
              false,
              false,
              false,
              false,
              false,
              false,
              false,
              false,
              false,
              false,
              false,
              false,
              false,
              false,
              false,
              false,
              false,
              false,
              false,
              false,
              false,
              false,
              false,
              false,
              false,
              false,
              false,
              false,
              false,
              false,
              false,
              false,
              false,
              false,
              false,
              false,
              false,
              false,
              false,
              false,
              false,
              false,
              false,
              false,
              false,
              false,
              false,
              false,
              false,
              false,
              false,
              false,
              false,
              false,
              false,
              false,
              false,
              false,
              false,
              false,
              false,
              false,
              false,
              false,
              false,
              false,
              false,
              false,
              false,
              false,
              false,
              false,
              false,
              false,
              false,
              false
             ]
            ],
            "label": "1997",
            "method": "restyle"
           },
           {
            "args": [
             "visible",
             [
              false,
              false,
              false,
              false,
              false,
              false,
              false,
              false,
              false,
              false,
              false,
              false,
              false,
              false,
              false,
              false,
              false,
              false,
              true,
              true,
              true,
              true,
              true,
              true,
              false,
              false,
              false,
              false,
              false,
              false,
              false,
              false,
              false,
              false,
              false,
              false,
              false,
              false,
              false,
              false,
              false,
              false,
              false,
              false,
              false,
              false,
              false,
              false,
              false,
              false,
              false,
              false,
              false,
              false,
              false,
              false,
              false,
              false,
              false,
              false,
              false,
              false,
              false,
              false,
              false,
              false,
              false,
              false,
              false,
              false,
              false,
              false,
              false,
              false,
              false,
              false,
              false,
              false,
              false,
              false,
              false,
              false,
              false,
              false,
              false,
              false,
              false,
              false,
              false,
              false,
              false,
              false,
              false,
              false,
              false,
              false,
              false,
              false,
              false,
              false,
              false,
              false,
              false,
              false,
              false,
              false,
              false,
              false,
              false,
              false,
              false,
              false,
              false,
              false,
              false,
              false,
              false,
              false,
              false,
              false,
              false,
              false,
              false,
              false,
              false,
              false
             ]
            ],
            "label": "1998",
            "method": "restyle"
           },
           {
            "args": [
             "visible",
             [
              false,
              false,
              false,
              false,
              false,
              false,
              false,
              false,
              false,
              false,
              false,
              false,
              false,
              false,
              false,
              false,
              false,
              false,
              false,
              false,
              false,
              false,
              false,
              false,
              true,
              true,
              true,
              true,
              true,
              true,
              false,
              false,
              false,
              false,
              false,
              false,
              false,
              false,
              false,
              false,
              false,
              false,
              false,
              false,
              false,
              false,
              false,
              false,
              false,
              false,
              false,
              false,
              false,
              false,
              false,
              false,
              false,
              false,
              false,
              false,
              false,
              false,
              false,
              false,
              false,
              false,
              false,
              false,
              false,
              false,
              false,
              false,
              false,
              false,
              false,
              false,
              false,
              false,
              false,
              false,
              false,
              false,
              false,
              false,
              false,
              false,
              false,
              false,
              false,
              false,
              false,
              false,
              false,
              false,
              false,
              false,
              false,
              false,
              false,
              false,
              false,
              false,
              false,
              false,
              false,
              false,
              false,
              false,
              false,
              false,
              false,
              false,
              false,
              false,
              false,
              false,
              false,
              false,
              false,
              false,
              false,
              false,
              false,
              false,
              false,
              false
             ]
            ],
            "label": "1999",
            "method": "restyle"
           },
           {
            "args": [
             "visible",
             [
              false,
              false,
              false,
              false,
              false,
              false,
              false,
              false,
              false,
              false,
              false,
              false,
              false,
              false,
              false,
              false,
              false,
              false,
              false,
              false,
              false,
              false,
              false,
              false,
              false,
              false,
              false,
              false,
              false,
              false,
              true,
              true,
              true,
              true,
              true,
              true,
              false,
              false,
              false,
              false,
              false,
              false,
              false,
              false,
              false,
              false,
              false,
              false,
              false,
              false,
              false,
              false,
              false,
              false,
              false,
              false,
              false,
              false,
              false,
              false,
              false,
              false,
              false,
              false,
              false,
              false,
              false,
              false,
              false,
              false,
              false,
              false,
              false,
              false,
              false,
              false,
              false,
              false,
              false,
              false,
              false,
              false,
              false,
              false,
              false,
              false,
              false,
              false,
              false,
              false,
              false,
              false,
              false,
              false,
              false,
              false,
              false,
              false,
              false,
              false,
              false,
              false,
              false,
              false,
              false,
              false,
              false,
              false,
              false,
              false,
              false,
              false,
              false,
              false,
              false,
              false,
              false,
              false,
              false,
              false,
              false,
              false,
              false,
              false,
              false,
              false
             ]
            ],
            "label": "2000",
            "method": "restyle"
           },
           {
            "args": [
             "visible",
             [
              false,
              false,
              false,
              false,
              false,
              false,
              false,
              false,
              false,
              false,
              false,
              false,
              false,
              false,
              false,
              false,
              false,
              false,
              false,
              false,
              false,
              false,
              false,
              false,
              false,
              false,
              false,
              false,
              false,
              false,
              false,
              false,
              false,
              false,
              false,
              false,
              true,
              true,
              true,
              true,
              true,
              true,
              false,
              false,
              false,
              false,
              false,
              false,
              false,
              false,
              false,
              false,
              false,
              false,
              false,
              false,
              false,
              false,
              false,
              false,
              false,
              false,
              false,
              false,
              false,
              false,
              false,
              false,
              false,
              false,
              false,
              false,
              false,
              false,
              false,
              false,
              false,
              false,
              false,
              false,
              false,
              false,
              false,
              false,
              false,
              false,
              false,
              false,
              false,
              false,
              false,
              false,
              false,
              false,
              false,
              false,
              false,
              false,
              false,
              false,
              false,
              false,
              false,
              false,
              false,
              false,
              false,
              false,
              false,
              false,
              false,
              false,
              false,
              false,
              false,
              false,
              false,
              false,
              false,
              false,
              false,
              false,
              false,
              false,
              false,
              false
             ]
            ],
            "label": "2001",
            "method": "restyle"
           },
           {
            "args": [
             "visible",
             [
              false,
              false,
              false,
              false,
              false,
              false,
              false,
              false,
              false,
              false,
              false,
              false,
              false,
              false,
              false,
              false,
              false,
              false,
              false,
              false,
              false,
              false,
              false,
              false,
              false,
              false,
              false,
              false,
              false,
              false,
              false,
              false,
              false,
              false,
              false,
              false,
              false,
              false,
              false,
              false,
              false,
              false,
              true,
              true,
              true,
              true,
              true,
              true,
              false,
              false,
              false,
              false,
              false,
              false,
              false,
              false,
              false,
              false,
              false,
              false,
              false,
              false,
              false,
              false,
              false,
              false,
              false,
              false,
              false,
              false,
              false,
              false,
              false,
              false,
              false,
              false,
              false,
              false,
              false,
              false,
              false,
              false,
              false,
              false,
              false,
              false,
              false,
              false,
              false,
              false,
              false,
              false,
              false,
              false,
              false,
              false,
              false,
              false,
              false,
              false,
              false,
              false,
              false,
              false,
              false,
              false,
              false,
              false,
              false,
              false,
              false,
              false,
              false,
              false,
              false,
              false,
              false,
              false,
              false,
              false,
              false,
              false,
              false,
              false,
              false,
              false
             ]
            ],
            "label": "2002",
            "method": "restyle"
           },
           {
            "args": [
             "visible",
             [
              false,
              false,
              false,
              false,
              false,
              false,
              false,
              false,
              false,
              false,
              false,
              false,
              false,
              false,
              false,
              false,
              false,
              false,
              false,
              false,
              false,
              false,
              false,
              false,
              false,
              false,
              false,
              false,
              false,
              false,
              false,
              false,
              false,
              false,
              false,
              false,
              false,
              false,
              false,
              false,
              false,
              false,
              false,
              false,
              false,
              false,
              false,
              false,
              true,
              true,
              true,
              true,
              true,
              true,
              false,
              false,
              false,
              false,
              false,
              false,
              false,
              false,
              false,
              false,
              false,
              false,
              false,
              false,
              false,
              false,
              false,
              false,
              false,
              false,
              false,
              false,
              false,
              false,
              false,
              false,
              false,
              false,
              false,
              false,
              false,
              false,
              false,
              false,
              false,
              false,
              false,
              false,
              false,
              false,
              false,
              false,
              false,
              false,
              false,
              false,
              false,
              false,
              false,
              false,
              false,
              false,
              false,
              false,
              false,
              false,
              false,
              false,
              false,
              false,
              false,
              false,
              false,
              false,
              false,
              false,
              false,
              false,
              false,
              false,
              false,
              false
             ]
            ],
            "label": "2003",
            "method": "restyle"
           },
           {
            "args": [
             "visible",
             [
              false,
              false,
              false,
              false,
              false,
              false,
              false,
              false,
              false,
              false,
              false,
              false,
              false,
              false,
              false,
              false,
              false,
              false,
              false,
              false,
              false,
              false,
              false,
              false,
              false,
              false,
              false,
              false,
              false,
              false,
              false,
              false,
              false,
              false,
              false,
              false,
              false,
              false,
              false,
              false,
              false,
              false,
              false,
              false,
              false,
              false,
              false,
              false,
              false,
              false,
              false,
              false,
              false,
              false,
              true,
              true,
              true,
              true,
              true,
              true,
              false,
              false,
              false,
              false,
              false,
              false,
              false,
              false,
              false,
              false,
              false,
              false,
              false,
              false,
              false,
              false,
              false,
              false,
              false,
              false,
              false,
              false,
              false,
              false,
              false,
              false,
              false,
              false,
              false,
              false,
              false,
              false,
              false,
              false,
              false,
              false,
              false,
              false,
              false,
              false,
              false,
              false,
              false,
              false,
              false,
              false,
              false,
              false,
              false,
              false,
              false,
              false,
              false,
              false,
              false,
              false,
              false,
              false,
              false,
              false,
              false,
              false,
              false,
              false,
              false,
              false
             ]
            ],
            "label": "2004",
            "method": "restyle"
           },
           {
            "args": [
             "visible",
             [
              false,
              false,
              false,
              false,
              false,
              false,
              false,
              false,
              false,
              false,
              false,
              false,
              false,
              false,
              false,
              false,
              false,
              false,
              false,
              false,
              false,
              false,
              false,
              false,
              false,
              false,
              false,
              false,
              false,
              false,
              false,
              false,
              false,
              false,
              false,
              false,
              false,
              false,
              false,
              false,
              false,
              false,
              false,
              false,
              false,
              false,
              false,
              false,
              false,
              false,
              false,
              false,
              false,
              false,
              false,
              false,
              false,
              false,
              false,
              false,
              true,
              true,
              true,
              true,
              true,
              true,
              false,
              false,
              false,
              false,
              false,
              false,
              false,
              false,
              false,
              false,
              false,
              false,
              false,
              false,
              false,
              false,
              false,
              false,
              false,
              false,
              false,
              false,
              false,
              false,
              false,
              false,
              false,
              false,
              false,
              false,
              false,
              false,
              false,
              false,
              false,
              false,
              false,
              false,
              false,
              false,
              false,
              false,
              false,
              false,
              false,
              false,
              false,
              false,
              false,
              false,
              false,
              false,
              false,
              false,
              false,
              false,
              false,
              false,
              false,
              false
             ]
            ],
            "label": "2005",
            "method": "restyle"
           },
           {
            "args": [
             "visible",
             [
              false,
              false,
              false,
              false,
              false,
              false,
              false,
              false,
              false,
              false,
              false,
              false,
              false,
              false,
              false,
              false,
              false,
              false,
              false,
              false,
              false,
              false,
              false,
              false,
              false,
              false,
              false,
              false,
              false,
              false,
              false,
              false,
              false,
              false,
              false,
              false,
              false,
              false,
              false,
              false,
              false,
              false,
              false,
              false,
              false,
              false,
              false,
              false,
              false,
              false,
              false,
              false,
              false,
              false,
              false,
              false,
              false,
              false,
              false,
              false,
              false,
              false,
              false,
              false,
              false,
              false,
              true,
              true,
              true,
              true,
              true,
              true,
              false,
              false,
              false,
              false,
              false,
              false,
              false,
              false,
              false,
              false,
              false,
              false,
              false,
              false,
              false,
              false,
              false,
              false,
              false,
              false,
              false,
              false,
              false,
              false,
              false,
              false,
              false,
              false,
              false,
              false,
              false,
              false,
              false,
              false,
              false,
              false,
              false,
              false,
              false,
              false,
              false,
              false,
              false,
              false,
              false,
              false,
              false,
              false,
              false,
              false,
              false,
              false,
              false,
              false
             ]
            ],
            "label": "2006",
            "method": "restyle"
           },
           {
            "args": [
             "visible",
             [
              false,
              false,
              false,
              false,
              false,
              false,
              false,
              false,
              false,
              false,
              false,
              false,
              false,
              false,
              false,
              false,
              false,
              false,
              false,
              false,
              false,
              false,
              false,
              false,
              false,
              false,
              false,
              false,
              false,
              false,
              false,
              false,
              false,
              false,
              false,
              false,
              false,
              false,
              false,
              false,
              false,
              false,
              false,
              false,
              false,
              false,
              false,
              false,
              false,
              false,
              false,
              false,
              false,
              false,
              false,
              false,
              false,
              false,
              false,
              false,
              false,
              false,
              false,
              false,
              false,
              false,
              false,
              false,
              false,
              false,
              false,
              false,
              true,
              true,
              true,
              true,
              true,
              true,
              false,
              false,
              false,
              false,
              false,
              false,
              false,
              false,
              false,
              false,
              false,
              false,
              false,
              false,
              false,
              false,
              false,
              false,
              false,
              false,
              false,
              false,
              false,
              false,
              false,
              false,
              false,
              false,
              false,
              false,
              false,
              false,
              false,
              false,
              false,
              false,
              false,
              false,
              false,
              false,
              false,
              false,
              false,
              false,
              false,
              false,
              false,
              false
             ]
            ],
            "label": "2007",
            "method": "restyle"
           },
           {
            "args": [
             "visible",
             [
              false,
              false,
              false,
              false,
              false,
              false,
              false,
              false,
              false,
              false,
              false,
              false,
              false,
              false,
              false,
              false,
              false,
              false,
              false,
              false,
              false,
              false,
              false,
              false,
              false,
              false,
              false,
              false,
              false,
              false,
              false,
              false,
              false,
              false,
              false,
              false,
              false,
              false,
              false,
              false,
              false,
              false,
              false,
              false,
              false,
              false,
              false,
              false,
              false,
              false,
              false,
              false,
              false,
              false,
              false,
              false,
              false,
              false,
              false,
              false,
              false,
              false,
              false,
              false,
              false,
              false,
              false,
              false,
              false,
              false,
              false,
              false,
              false,
              false,
              false,
              false,
              false,
              false,
              true,
              true,
              true,
              true,
              true,
              true,
              false,
              false,
              false,
              false,
              false,
              false,
              false,
              false,
              false,
              false,
              false,
              false,
              false,
              false,
              false,
              false,
              false,
              false,
              false,
              false,
              false,
              false,
              false,
              false,
              false,
              false,
              false,
              false,
              false,
              false,
              false,
              false,
              false,
              false,
              false,
              false,
              false,
              false,
              false,
              false,
              false,
              false
             ]
            ],
            "label": "2008",
            "method": "restyle"
           },
           {
            "args": [
             "visible",
             [
              false,
              false,
              false,
              false,
              false,
              false,
              false,
              false,
              false,
              false,
              false,
              false,
              false,
              false,
              false,
              false,
              false,
              false,
              false,
              false,
              false,
              false,
              false,
              false,
              false,
              false,
              false,
              false,
              false,
              false,
              false,
              false,
              false,
              false,
              false,
              false,
              false,
              false,
              false,
              false,
              false,
              false,
              false,
              false,
              false,
              false,
              false,
              false,
              false,
              false,
              false,
              false,
              false,
              false,
              false,
              false,
              false,
              false,
              false,
              false,
              false,
              false,
              false,
              false,
              false,
              false,
              false,
              false,
              false,
              false,
              false,
              false,
              false,
              false,
              false,
              false,
              false,
              false,
              false,
              false,
              false,
              false,
              false,
              false,
              true,
              true,
              true,
              true,
              true,
              true,
              false,
              false,
              false,
              false,
              false,
              false,
              false,
              false,
              false,
              false,
              false,
              false,
              false,
              false,
              false,
              false,
              false,
              false,
              false,
              false,
              false,
              false,
              false,
              false,
              false,
              false,
              false,
              false,
              false,
              false,
              false,
              false,
              false,
              false,
              false,
              false
             ]
            ],
            "label": "2009",
            "method": "restyle"
           },
           {
            "args": [
             "visible",
             [
              false,
              false,
              false,
              false,
              false,
              false,
              false,
              false,
              false,
              false,
              false,
              false,
              false,
              false,
              false,
              false,
              false,
              false,
              false,
              false,
              false,
              false,
              false,
              false,
              false,
              false,
              false,
              false,
              false,
              false,
              false,
              false,
              false,
              false,
              false,
              false,
              false,
              false,
              false,
              false,
              false,
              false,
              false,
              false,
              false,
              false,
              false,
              false,
              false,
              false,
              false,
              false,
              false,
              false,
              false,
              false,
              false,
              false,
              false,
              false,
              false,
              false,
              false,
              false,
              false,
              false,
              false,
              false,
              false,
              false,
              false,
              false,
              false,
              false,
              false,
              false,
              false,
              false,
              false,
              false,
              false,
              false,
              false,
              false,
              false,
              false,
              false,
              false,
              false,
              false,
              true,
              true,
              true,
              true,
              true,
              true,
              false,
              false,
              false,
              false,
              false,
              false,
              false,
              false,
              false,
              false,
              false,
              false,
              false,
              false,
              false,
              false,
              false,
              false,
              false,
              false,
              false,
              false,
              false,
              false,
              false,
              false,
              false,
              false,
              false,
              false
             ]
            ],
            "label": "2010",
            "method": "restyle"
           },
           {
            "args": [
             "visible",
             [
              false,
              false,
              false,
              false,
              false,
              false,
              false,
              false,
              false,
              false,
              false,
              false,
              false,
              false,
              false,
              false,
              false,
              false,
              false,
              false,
              false,
              false,
              false,
              false,
              false,
              false,
              false,
              false,
              false,
              false,
              false,
              false,
              false,
              false,
              false,
              false,
              false,
              false,
              false,
              false,
              false,
              false,
              false,
              false,
              false,
              false,
              false,
              false,
              false,
              false,
              false,
              false,
              false,
              false,
              false,
              false,
              false,
              false,
              false,
              false,
              false,
              false,
              false,
              false,
              false,
              false,
              false,
              false,
              false,
              false,
              false,
              false,
              false,
              false,
              false,
              false,
              false,
              false,
              false,
              false,
              false,
              false,
              false,
              false,
              false,
              false,
              false,
              false,
              false,
              false,
              false,
              false,
              false,
              false,
              false,
              false,
              true,
              true,
              true,
              true,
              true,
              true,
              false,
              false,
              false,
              false,
              false,
              false,
              false,
              false,
              false,
              false,
              false,
              false,
              false,
              false,
              false,
              false,
              false,
              false,
              false,
              false,
              false,
              false,
              false,
              false
             ]
            ],
            "label": "2011",
            "method": "restyle"
           },
           {
            "args": [
             "visible",
             [
              false,
              false,
              false,
              false,
              false,
              false,
              false,
              false,
              false,
              false,
              false,
              false,
              false,
              false,
              false,
              false,
              false,
              false,
              false,
              false,
              false,
              false,
              false,
              false,
              false,
              false,
              false,
              false,
              false,
              false,
              false,
              false,
              false,
              false,
              false,
              false,
              false,
              false,
              false,
              false,
              false,
              false,
              false,
              false,
              false,
              false,
              false,
              false,
              false,
              false,
              false,
              false,
              false,
              false,
              false,
              false,
              false,
              false,
              false,
              false,
              false,
              false,
              false,
              false,
              false,
              false,
              false,
              false,
              false,
              false,
              false,
              false,
              false,
              false,
              false,
              false,
              false,
              false,
              false,
              false,
              false,
              false,
              false,
              false,
              false,
              false,
              false,
              false,
              false,
              false,
              false,
              false,
              false,
              false,
              false,
              false,
              false,
              false,
              false,
              false,
              false,
              false,
              true,
              true,
              true,
              true,
              true,
              true,
              false,
              false,
              false,
              false,
              false,
              false,
              false,
              false,
              false,
              false,
              false,
              false,
              false,
              false,
              false,
              false,
              false,
              false
             ]
            ],
            "label": "2012",
            "method": "restyle"
           },
           {
            "args": [
             "visible",
             [
              false,
              false,
              false,
              false,
              false,
              false,
              false,
              false,
              false,
              false,
              false,
              false,
              false,
              false,
              false,
              false,
              false,
              false,
              false,
              false,
              false,
              false,
              false,
              false,
              false,
              false,
              false,
              false,
              false,
              false,
              false,
              false,
              false,
              false,
              false,
              false,
              false,
              false,
              false,
              false,
              false,
              false,
              false,
              false,
              false,
              false,
              false,
              false,
              false,
              false,
              false,
              false,
              false,
              false,
              false,
              false,
              false,
              false,
              false,
              false,
              false,
              false,
              false,
              false,
              false,
              false,
              false,
              false,
              false,
              false,
              false,
              false,
              false,
              false,
              false,
              false,
              false,
              false,
              false,
              false,
              false,
              false,
              false,
              false,
              false,
              false,
              false,
              false,
              false,
              false,
              false,
              false,
              false,
              false,
              false,
              false,
              false,
              false,
              false,
              false,
              false,
              false,
              false,
              false,
              false,
              false,
              false,
              false,
              true,
              true,
              true,
              true,
              true,
              true,
              false,
              false,
              false,
              false,
              false,
              false,
              false,
              false,
              false,
              false,
              false,
              false
             ]
            ],
            "label": "2013",
            "method": "restyle"
           },
           {
            "args": [
             "visible",
             [
              false,
              false,
              false,
              false,
              false,
              false,
              false,
              false,
              false,
              false,
              false,
              false,
              false,
              false,
              false,
              false,
              false,
              false,
              false,
              false,
              false,
              false,
              false,
              false,
              false,
              false,
              false,
              false,
              false,
              false,
              false,
              false,
              false,
              false,
              false,
              false,
              false,
              false,
              false,
              false,
              false,
              false,
              false,
              false,
              false,
              false,
              false,
              false,
              false,
              false,
              false,
              false,
              false,
              false,
              false,
              false,
              false,
              false,
              false,
              false,
              false,
              false,
              false,
              false,
              false,
              false,
              false,
              false,
              false,
              false,
              false,
              false,
              false,
              false,
              false,
              false,
              false,
              false,
              false,
              false,
              false,
              false,
              false,
              false,
              false,
              false,
              false,
              false,
              false,
              false,
              false,
              false,
              false,
              false,
              false,
              false,
              false,
              false,
              false,
              false,
              false,
              false,
              false,
              false,
              false,
              false,
              false,
              false,
              false,
              false,
              false,
              false,
              false,
              false,
              true,
              true,
              true,
              true,
              true,
              true,
              false,
              false,
              false,
              false,
              false,
              false
             ]
            ],
            "label": "2014",
            "method": "restyle"
           },
           {
            "args": [
             "visible",
             [
              false,
              false,
              false,
              false,
              false,
              false,
              false,
              false,
              false,
              false,
              false,
              false,
              false,
              false,
              false,
              false,
              false,
              false,
              false,
              false,
              false,
              false,
              false,
              false,
              false,
              false,
              false,
              false,
              false,
              false,
              false,
              false,
              false,
              false,
              false,
              false,
              false,
              false,
              false,
              false,
              false,
              false,
              false,
              false,
              false,
              false,
              false,
              false,
              false,
              false,
              false,
              false,
              false,
              false,
              false,
              false,
              false,
              false,
              false,
              false,
              false,
              false,
              false,
              false,
              false,
              false,
              false,
              false,
              false,
              false,
              false,
              false,
              false,
              false,
              false,
              false,
              false,
              false,
              false,
              false,
              false,
              false,
              false,
              false,
              false,
              false,
              false,
              false,
              false,
              false,
              false,
              false,
              false,
              false,
              false,
              false,
              false,
              false,
              false,
              false,
              false,
              false,
              false,
              false,
              false,
              false,
              false,
              false,
              false,
              false,
              false,
              false,
              false,
              false,
              false,
              false,
              false,
              false,
              false,
              false,
              true,
              true,
              true,
              true,
              true,
              true
             ]
            ],
            "label": "2015",
            "method": "restyle"
           }
          ]
         }
        ],
        "template": {
         "data": {
          "bar": [
           {
            "error_x": {
             "color": "#2a3f5f"
            },
            "error_y": {
             "color": "#2a3f5f"
            },
            "marker": {
             "line": {
              "color": "#E5ECF6",
              "width": 0.5
             }
            },
            "type": "bar"
           }
          ],
          "barpolar": [
           {
            "marker": {
             "line": {
              "color": "#E5ECF6",
              "width": 0.5
             }
            },
            "type": "barpolar"
           }
          ],
          "carpet": [
           {
            "aaxis": {
             "endlinecolor": "#2a3f5f",
             "gridcolor": "white",
             "linecolor": "white",
             "minorgridcolor": "white",
             "startlinecolor": "#2a3f5f"
            },
            "baxis": {
             "endlinecolor": "#2a3f5f",
             "gridcolor": "white",
             "linecolor": "white",
             "minorgridcolor": "white",
             "startlinecolor": "#2a3f5f"
            },
            "type": "carpet"
           }
          ],
          "choropleth": [
           {
            "colorbar": {
             "outlinewidth": 0,
             "ticks": ""
            },
            "type": "choropleth"
           }
          ],
          "contour": [
           {
            "colorbar": {
             "outlinewidth": 0,
             "ticks": ""
            },
            "colorscale": [
             [
              0,
              "#0d0887"
             ],
             [
              0.1111111111111111,
              "#46039f"
             ],
             [
              0.2222222222222222,
              "#7201a8"
             ],
             [
              0.3333333333333333,
              "#9c179e"
             ],
             [
              0.4444444444444444,
              "#bd3786"
             ],
             [
              0.5555555555555556,
              "#d8576b"
             ],
             [
              0.6666666666666666,
              "#ed7953"
             ],
             [
              0.7777777777777778,
              "#fb9f3a"
             ],
             [
              0.8888888888888888,
              "#fdca26"
             ],
             [
              1,
              "#f0f921"
             ]
            ],
            "type": "contour"
           }
          ],
          "contourcarpet": [
           {
            "colorbar": {
             "outlinewidth": 0,
             "ticks": ""
            },
            "type": "contourcarpet"
           }
          ],
          "heatmap": [
           {
            "colorbar": {
             "outlinewidth": 0,
             "ticks": ""
            },
            "colorscale": [
             [
              0,
              "#0d0887"
             ],
             [
              0.1111111111111111,
              "#46039f"
             ],
             [
              0.2222222222222222,
              "#7201a8"
             ],
             [
              0.3333333333333333,
              "#9c179e"
             ],
             [
              0.4444444444444444,
              "#bd3786"
             ],
             [
              0.5555555555555556,
              "#d8576b"
             ],
             [
              0.6666666666666666,
              "#ed7953"
             ],
             [
              0.7777777777777778,
              "#fb9f3a"
             ],
             [
              0.8888888888888888,
              "#fdca26"
             ],
             [
              1,
              "#f0f921"
             ]
            ],
            "type": "heatmap"
           }
          ],
          "heatmapgl": [
           {
            "colorbar": {
             "outlinewidth": 0,
             "ticks": ""
            },
            "colorscale": [
             [
              0,
              "#0d0887"
             ],
             [
              0.1111111111111111,
              "#46039f"
             ],
             [
              0.2222222222222222,
              "#7201a8"
             ],
             [
              0.3333333333333333,
              "#9c179e"
             ],
             [
              0.4444444444444444,
              "#bd3786"
             ],
             [
              0.5555555555555556,
              "#d8576b"
             ],
             [
              0.6666666666666666,
              "#ed7953"
             ],
             [
              0.7777777777777778,
              "#fb9f3a"
             ],
             [
              0.8888888888888888,
              "#fdca26"
             ],
             [
              1,
              "#f0f921"
             ]
            ],
            "type": "heatmapgl"
           }
          ],
          "histogram": [
           {
            "marker": {
             "colorbar": {
              "outlinewidth": 0,
              "ticks": ""
             }
            },
            "type": "histogram"
           }
          ],
          "histogram2d": [
           {
            "colorbar": {
             "outlinewidth": 0,
             "ticks": ""
            },
            "colorscale": [
             [
              0,
              "#0d0887"
             ],
             [
              0.1111111111111111,
              "#46039f"
             ],
             [
              0.2222222222222222,
              "#7201a8"
             ],
             [
              0.3333333333333333,
              "#9c179e"
             ],
             [
              0.4444444444444444,
              "#bd3786"
             ],
             [
              0.5555555555555556,
              "#d8576b"
             ],
             [
              0.6666666666666666,
              "#ed7953"
             ],
             [
              0.7777777777777778,
              "#fb9f3a"
             ],
             [
              0.8888888888888888,
              "#fdca26"
             ],
             [
              1,
              "#f0f921"
             ]
            ],
            "type": "histogram2d"
           }
          ],
          "histogram2dcontour": [
           {
            "colorbar": {
             "outlinewidth": 0,
             "ticks": ""
            },
            "colorscale": [
             [
              0,
              "#0d0887"
             ],
             [
              0.1111111111111111,
              "#46039f"
             ],
             [
              0.2222222222222222,
              "#7201a8"
             ],
             [
              0.3333333333333333,
              "#9c179e"
             ],
             [
              0.4444444444444444,
              "#bd3786"
             ],
             [
              0.5555555555555556,
              "#d8576b"
             ],
             [
              0.6666666666666666,
              "#ed7953"
             ],
             [
              0.7777777777777778,
              "#fb9f3a"
             ],
             [
              0.8888888888888888,
              "#fdca26"
             ],
             [
              1,
              "#f0f921"
             ]
            ],
            "type": "histogram2dcontour"
           }
          ],
          "mesh3d": [
           {
            "colorbar": {
             "outlinewidth": 0,
             "ticks": ""
            },
            "type": "mesh3d"
           }
          ],
          "parcoords": [
           {
            "line": {
             "colorbar": {
              "outlinewidth": 0,
              "ticks": ""
             }
            },
            "type": "parcoords"
           }
          ],
          "pie": [
           {
            "automargin": true,
            "type": "pie"
           }
          ],
          "scatter": [
           {
            "marker": {
             "colorbar": {
              "outlinewidth": 0,
              "ticks": ""
             }
            },
            "type": "scatter"
           }
          ],
          "scatter3d": [
           {
            "line": {
             "colorbar": {
              "outlinewidth": 0,
              "ticks": ""
             }
            },
            "marker": {
             "colorbar": {
              "outlinewidth": 0,
              "ticks": ""
             }
            },
            "type": "scatter3d"
           }
          ],
          "scattercarpet": [
           {
            "marker": {
             "colorbar": {
              "outlinewidth": 0,
              "ticks": ""
             }
            },
            "type": "scattercarpet"
           }
          ],
          "scattergeo": [
           {
            "marker": {
             "colorbar": {
              "outlinewidth": 0,
              "ticks": ""
             }
            },
            "type": "scattergeo"
           }
          ],
          "scattergl": [
           {
            "marker": {
             "colorbar": {
              "outlinewidth": 0,
              "ticks": ""
             }
            },
            "type": "scattergl"
           }
          ],
          "scattermapbox": [
           {
            "marker": {
             "colorbar": {
              "outlinewidth": 0,
              "ticks": ""
             }
            },
            "type": "scattermapbox"
           }
          ],
          "scatterpolar": [
           {
            "marker": {
             "colorbar": {
              "outlinewidth": 0,
              "ticks": ""
             }
            },
            "type": "scatterpolar"
           }
          ],
          "scatterpolargl": [
           {
            "marker": {
             "colorbar": {
              "outlinewidth": 0,
              "ticks": ""
             }
            },
            "type": "scatterpolargl"
           }
          ],
          "scatterternary": [
           {
            "marker": {
             "colorbar": {
              "outlinewidth": 0,
              "ticks": ""
             }
            },
            "type": "scatterternary"
           }
          ],
          "surface": [
           {
            "colorbar": {
             "outlinewidth": 0,
             "ticks": ""
            },
            "colorscale": [
             [
              0,
              "#0d0887"
             ],
             [
              0.1111111111111111,
              "#46039f"
             ],
             [
              0.2222222222222222,
              "#7201a8"
             ],
             [
              0.3333333333333333,
              "#9c179e"
             ],
             [
              0.4444444444444444,
              "#bd3786"
             ],
             [
              0.5555555555555556,
              "#d8576b"
             ],
             [
              0.6666666666666666,
              "#ed7953"
             ],
             [
              0.7777777777777778,
              "#fb9f3a"
             ],
             [
              0.8888888888888888,
              "#fdca26"
             ],
             [
              1,
              "#f0f921"
             ]
            ],
            "type": "surface"
           }
          ],
          "table": [
           {
            "cells": {
             "fill": {
              "color": "#EBF0F8"
             },
             "line": {
              "color": "white"
             }
            },
            "header": {
             "fill": {
              "color": "#C8D4E3"
             },
             "line": {
              "color": "white"
             }
            },
            "type": "table"
           }
          ]
         },
         "layout": {
          "annotationdefaults": {
           "arrowcolor": "#2a3f5f",
           "arrowhead": 0,
           "arrowwidth": 1
          },
          "coloraxis": {
           "colorbar": {
            "outlinewidth": 0,
            "ticks": ""
           }
          },
          "colorscale": {
           "diverging": [
            [
             0,
             "#8e0152"
            ],
            [
             0.1,
             "#c51b7d"
            ],
            [
             0.2,
             "#de77ae"
            ],
            [
             0.3,
             "#f1b6da"
            ],
            [
             0.4,
             "#fde0ef"
            ],
            [
             0.5,
             "#f7f7f7"
            ],
            [
             0.6,
             "#e6f5d0"
            ],
            [
             0.7,
             "#b8e186"
            ],
            [
             0.8,
             "#7fbc41"
            ],
            [
             0.9,
             "#4d9221"
            ],
            [
             1,
             "#276419"
            ]
           ],
           "sequential": [
            [
             0,
             "#0d0887"
            ],
            [
             0.1111111111111111,
             "#46039f"
            ],
            [
             0.2222222222222222,
             "#7201a8"
            ],
            [
             0.3333333333333333,
             "#9c179e"
            ],
            [
             0.4444444444444444,
             "#bd3786"
            ],
            [
             0.5555555555555556,
             "#d8576b"
            ],
            [
             0.6666666666666666,
             "#ed7953"
            ],
            [
             0.7777777777777778,
             "#fb9f3a"
            ],
            [
             0.8888888888888888,
             "#fdca26"
            ],
            [
             1,
             "#f0f921"
            ]
           ],
           "sequentialminus": [
            [
             0,
             "#0d0887"
            ],
            [
             0.1111111111111111,
             "#46039f"
            ],
            [
             0.2222222222222222,
             "#7201a8"
            ],
            [
             0.3333333333333333,
             "#9c179e"
            ],
            [
             0.4444444444444444,
             "#bd3786"
            ],
            [
             0.5555555555555556,
             "#d8576b"
            ],
            [
             0.6666666666666666,
             "#ed7953"
            ],
            [
             0.7777777777777778,
             "#fb9f3a"
            ],
            [
             0.8888888888888888,
             "#fdca26"
            ],
            [
             1,
             "#f0f921"
            ]
           ]
          },
          "colorway": [
           "#636efa",
           "#EF553B",
           "#00cc96",
           "#ab63fa",
           "#FFA15A",
           "#19d3f3",
           "#FF6692",
           "#B6E880",
           "#FF97FF",
           "#FECB52"
          ],
          "font": {
           "color": "#2a3f5f"
          },
          "geo": {
           "bgcolor": "white",
           "lakecolor": "white",
           "landcolor": "#E5ECF6",
           "showlakes": true,
           "showland": true,
           "subunitcolor": "white"
          },
          "hoverlabel": {
           "align": "left"
          },
          "hovermode": "closest",
          "mapbox": {
           "style": "light"
          },
          "paper_bgcolor": "white",
          "plot_bgcolor": "#E5ECF6",
          "polar": {
           "angularaxis": {
            "gridcolor": "white",
            "linecolor": "white",
            "ticks": ""
           },
           "bgcolor": "#E5ECF6",
           "radialaxis": {
            "gridcolor": "white",
            "linecolor": "white",
            "ticks": ""
           }
          },
          "scene": {
           "xaxis": {
            "backgroundcolor": "#E5ECF6",
            "gridcolor": "white",
            "gridwidth": 2,
            "linecolor": "white",
            "showbackground": true,
            "ticks": "",
            "zerolinecolor": "white"
           },
           "yaxis": {
            "backgroundcolor": "#E5ECF6",
            "gridcolor": "white",
            "gridwidth": 2,
            "linecolor": "white",
            "showbackground": true,
            "ticks": "",
            "zerolinecolor": "white"
           },
           "zaxis": {
            "backgroundcolor": "#E5ECF6",
            "gridcolor": "white",
            "gridwidth": 2,
            "linecolor": "white",
            "showbackground": true,
            "ticks": "",
            "zerolinecolor": "white"
           }
          },
          "shapedefaults": {
           "line": {
            "color": "#2a3f5f"
           }
          },
          "ternary": {
           "aaxis": {
            "gridcolor": "white",
            "linecolor": "white",
            "ticks": ""
           },
           "baxis": {
            "gridcolor": "white",
            "linecolor": "white",
            "ticks": ""
           },
           "bgcolor": "#E5ECF6",
           "caxis": {
            "gridcolor": "white",
            "linecolor": "white",
            "ticks": ""
           }
          },
          "title": {
           "x": 0.05
          },
          "xaxis": {
           "automargin": true,
           "gridcolor": "white",
           "linecolor": "white",
           "ticks": "",
           "title": {
            "standoff": 15
           },
           "zerolinecolor": "white",
           "zerolinewidth": 2
          },
          "yaxis": {
           "automargin": true,
           "gridcolor": "white",
           "linecolor": "white",
           "ticks": "",
           "title": {
            "standoff": 15
           },
           "zerolinecolor": "white",
           "zerolinewidth": 2
          }
         }
        },
        "width": 1000,
        "xaxis": {
         "anchor": "y",
         "domain": [
          0,
          0.45
         ],
         "range": [
          0,
          2000000000
         ],
         "showgrid": true
        },
        "xaxis2": {
         "anchor": "y2",
         "domain": [
          0.55,
          1
         ],
         "range": [
          0,
          1100000
         ],
         "showgrid": true
        },
        "yaxis": {
         "anchor": "x",
         "domain": [
          0,
          1
         ]
        },
        "yaxis2": {
         "anchor": "x2",
         "domain": [
          0,
          1
         ],
         "matches": "y",
         "showticklabels": false
        }
       }
      }
     },
     "metadata": {},
     "output_type": "display_data"
    }
   ],
   "source": [
    "# plot the graph\n",
    "fig.data[0].visible = True\n",
    "fig.data[1].visible = True\n",
    "fig.data[2].visible = True\n",
    "fig.data[3].visible = True\n",
    "fig.data[4].visible = True\n",
    "fig.data[5].visible = True\n",
    "\n",
    "\n",
    "steps = []\n",
    "for i in range(int(len(fig.data)/6)):\n",
    "    step = dict(\n",
    "        method=\"restyle\",\n",
    "        args=[\"visible\", [False] * len(fig.data)],\n",
    "        label='{}'.format(i + year_min),\n",
    "    )\n",
    "    step[\"args\"][1][i*6] = True  # Toggle i'th trace to \"visible\"\n",
    "    step[\"args\"][1][i*6+1] = True  # Toggle i'th trace to \"visible\"\n",
    "    step[\"args\"][1][i*6+2] = True  # Toggle i'th trace to \"visible\"\n",
    "    step[\"args\"][1][i*6+3] = True  # Toggle i'th trace to \"visible\"\n",
    "    step[\"args\"][1][i*6+4] = True  # Toggle i'th trace to \"visible\"\n",
    "    step[\"args\"][1][i*6+5] = True  # Toggle i'th trace to \"visible\"\n",
    "    steps.append(step)\n",
    "\n",
    "sliders = [dict(\n",
    "    active=1991,\n",
    "    currentvalue={\"prefix\": \"Year: \"},\n",
    "    steps=steps\n",
    ")]\n",
    "fig.update_layout(\n",
    "    sliders=sliders,\n",
    "    barmode='stack',\n",
    "    autosize=False,\n",
    "    width=1000,\n",
    "    height=600,\n",
    ")\n",
    "\n",
    "fig.update_xaxes(range=[0, 2000000000], showgrid=True, row=1, col=1)\n",
    "fig.update_xaxes(range=[0, 1100000], showgrid=True, row=1, col=2)\n",
    "\n",
    "fig.show()"
   ]
  },
  {
   "cell_type": "markdown",
   "execution_count": null,
   "metadata": {},
   "outputs": [],
   "source": [
    "## Cut down all over the world\n",
    "The leadning continent in production primary forest products have been in Asia followed by Northern America nad Europe, but the impact of wood production on defrestation is clearest in South America and Africa. In these two continents has the production increased by almost 30 percent and the area of forested areas decreased by 7, respectively 6 percent. "
   ]
  },
  {
   "cell_type": "code",
   "execution_count": 29,
   "metadata": {},
   "outputs": [
    {
     "data": {
      "text/plain": "'1_continent_prod.html'"
     },
     "execution_count": 29,
     "metadata": {},
     "output_type": "execute_result"
    }
   ],
   "source": [
    "# export the plot to html\n",
    "from plotly.offline import download_plotlyjs, init_notebook_mode, iplot, plot\n",
    "import plotly.graph_objs as go\n",
    "from IPython.core.display import display, HTML\n",
    "\n",
    "plot(fig, filename = '1_continent_prod.html')\n"
   ]
  },
  {
   "cell_type": "code",
   "execution_count": null,
   "metadata": {},
   "outputs": [],
   "source": []
  }
 ]
}