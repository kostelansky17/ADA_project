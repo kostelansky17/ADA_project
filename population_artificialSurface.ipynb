{
 "cells": [
  {
   "cell_type": "code",
   "execution_count": 2,
   "metadata": {},
   "outputs": [],
   "source": [
    "import numpy as np\n",
    "import pandas as pd\n",
    "FAOSTAT_country_data = pd.read_csv(\"global-food-agriculture-statistics/FAOSTAT_countries.csv\", engine='python')\n",
    "FAOSTAT_countries = FAOSTAT_country_data[\"Country\"].unique()\n",
    "CONTINENTS = ['Africa', 'Asia', 'Australia and New Zealand', 'Europe', 'Northern America', 'South America']\n"
   ]
  },
  {
   "cell_type": "markdown",
   "metadata": {},
   "source": [
    "#### Population Growth vs Deforestation"
   ]
  },
  {
   "cell_type": "code",
   "execution_count": 48,
   "metadata": {},
   "outputs": [],
   "source": [
    "df = pd.read_csv(\"global-food-agriculture-statistics/current_FAO/raw_files/Population_E_All_Data_(Normalized).csv\", engine='python')"
   ]
  },
  {
   "cell_type": "code",
   "execution_count": 49,
   "metadata": {},
   "outputs": [
    {
     "data": {
      "text/html": [
       "<div>\n",
       "<style scoped>\n",
       "    .dataframe tbody tr th:only-of-type {\n",
       "        vertical-align: middle;\n",
       "    }\n",
       "\n",
       "    .dataframe tbody tr th {\n",
       "        vertical-align: top;\n",
       "    }\n",
       "\n",
       "    .dataframe thead th {\n",
       "        text-align: right;\n",
       "    }\n",
       "</style>\n",
       "<table border=\"1\" class=\"dataframe\">\n",
       "  <thead>\n",
       "    <tr style=\"text-align: right;\">\n",
       "      <th></th>\n",
       "      <th>Area Code</th>\n",
       "      <th>Area</th>\n",
       "      <th>Item Code</th>\n",
       "      <th>Item</th>\n",
       "      <th>Element Code</th>\n",
       "      <th>Element</th>\n",
       "      <th>Year Code</th>\n",
       "      <th>Year</th>\n",
       "      <th>Unit</th>\n",
       "      <th>Value</th>\n",
       "      <th>Flag</th>\n",
       "    </tr>\n",
       "  </thead>\n",
       "  <tbody>\n",
       "    <tr>\n",
       "      <th>0</th>\n",
       "      <td>2</td>\n",
       "      <td>Afghanistan</td>\n",
       "      <td>3010</td>\n",
       "      <td>Population - Est. &amp; Proj.</td>\n",
       "      <td>511</td>\n",
       "      <td>Total Population - Both sexes</td>\n",
       "      <td>1950</td>\n",
       "      <td>1950</td>\n",
       "      <td>1000 persons</td>\n",
       "      <td>7752.12</td>\n",
       "      <td>XU</td>\n",
       "    </tr>\n",
       "    <tr>\n",
       "      <th>1</th>\n",
       "      <td>2</td>\n",
       "      <td>Afghanistan</td>\n",
       "      <td>3010</td>\n",
       "      <td>Population - Est. &amp; Proj.</td>\n",
       "      <td>511</td>\n",
       "      <td>Total Population - Both sexes</td>\n",
       "      <td>1951</td>\n",
       "      <td>1951</td>\n",
       "      <td>1000 persons</td>\n",
       "      <td>7839.51</td>\n",
       "      <td>XU</td>\n",
       "    </tr>\n",
       "    <tr>\n",
       "      <th>2</th>\n",
       "      <td>2</td>\n",
       "      <td>Afghanistan</td>\n",
       "      <td>3010</td>\n",
       "      <td>Population - Est. &amp; Proj.</td>\n",
       "      <td>511</td>\n",
       "      <td>Total Population - Both sexes</td>\n",
       "      <td>1952</td>\n",
       "      <td>1952</td>\n",
       "      <td>1000 persons</td>\n",
       "      <td>7934.98</td>\n",
       "      <td>XU</td>\n",
       "    </tr>\n",
       "    <tr>\n",
       "      <th>3</th>\n",
       "      <td>2</td>\n",
       "      <td>Afghanistan</td>\n",
       "      <td>3010</td>\n",
       "      <td>Population - Est. &amp; Proj.</td>\n",
       "      <td>511</td>\n",
       "      <td>Total Population - Both sexes</td>\n",
       "      <td>1953</td>\n",
       "      <td>1953</td>\n",
       "      <td>1000 persons</td>\n",
       "      <td>8038.60</td>\n",
       "      <td>XU</td>\n",
       "    </tr>\n",
       "    <tr>\n",
       "      <th>4</th>\n",
       "      <td>2</td>\n",
       "      <td>Afghanistan</td>\n",
       "      <td>3010</td>\n",
       "      <td>Population - Est. &amp; Proj.</td>\n",
       "      <td>511</td>\n",
       "      <td>Total Population - Both sexes</td>\n",
       "      <td>1954</td>\n",
       "      <td>1954</td>\n",
       "      <td>1000 persons</td>\n",
       "      <td>8150.45</td>\n",
       "      <td>XU</td>\n",
       "    </tr>\n",
       "  </tbody>\n",
       "</table>\n",
       "</div>"
      ],
      "text/plain": [
       "   Area Code         Area  Item Code                       Item  Element Code  \\\n",
       "0          2  Afghanistan       3010  Population - Est. & Proj.           511   \n",
       "1          2  Afghanistan       3010  Population - Est. & Proj.           511   \n",
       "2          2  Afghanistan       3010  Population - Est. & Proj.           511   \n",
       "3          2  Afghanistan       3010  Population - Est. & Proj.           511   \n",
       "4          2  Afghanistan       3010  Population - Est. & Proj.           511   \n",
       "\n",
       "                         Element  Year Code  Year          Unit    Value Flag  \n",
       "0  Total Population - Both sexes       1950  1950  1000 persons  7752.12   XU  \n",
       "1  Total Population - Both sexes       1951  1951  1000 persons  7839.51   XU  \n",
       "2  Total Population - Both sexes       1952  1952  1000 persons  7934.98   XU  \n",
       "3  Total Population - Both sexes       1953  1953  1000 persons  8038.60   XU  \n",
       "4  Total Population - Both sexes       1954  1954  1000 persons  8150.45   XU  "
      ]
     },
     "execution_count": 49,
     "metadata": {},
     "output_type": "execute_result"
    }
   ],
   "source": [
    "df.head()"
   ]
  },
  {
   "cell_type": "code",
   "execution_count": 50,
   "metadata": {},
   "outputs": [
    {
     "data": {
      "text/plain": [
       "array(['Total Population - Both sexes', 'Total Population - Male',\n",
       "       'Total Population - Female', 'Rural population',\n",
       "       'Urban population'], dtype=object)"
      ]
     },
     "execution_count": 50,
     "metadata": {},
     "output_type": "execute_result"
    }
   ],
   "source": [
    "df.Element.unique()"
   ]
  },
  {
   "cell_type": "code",
   "execution_count": 51,
   "metadata": {},
   "outputs": [
    {
     "data": {
      "text/plain": [
       "array(['Afghanistan', 'Albania', 'Algeria', 'American Samoa', 'Andorra',\n",
       "       'Angola', 'Anguilla', 'Antigua and Barbuda', 'Argentina',\n",
       "       'Armenia', 'Aruba', 'Australia', 'Austria', 'Azerbaijan',\n",
       "       'Bahamas', 'Bahrain', 'Bangladesh', 'Barbados', 'Belarus',\n",
       "       'Belgium', 'Belgium-Luxembourg', 'Belize', 'Benin', 'Bermuda',\n",
       "       'Bhutan', 'Bolivia (Plurinational State of)',\n",
       "       'Bosnia and Herzegovina', 'Botswana', 'Brazil',\n",
       "       'British Virgin Islands', 'Brunei Darussalam', 'Bulgaria',\n",
       "       'Burkina Faso', 'Burundi', 'Cabo Verde', 'Cambodia', 'Cameroon',\n",
       "       'Canada', 'Cayman Islands', 'Central African Republic', 'Chad',\n",
       "       'Channel Islands', 'Chile', 'China', 'China, Hong Kong SAR',\n",
       "       'China, Macao SAR', 'China, mainland', 'China, Taiwan Province of',\n",
       "       'Colombia', 'Comoros', 'Congo', 'Cook Islands', 'Costa Rica',\n",
       "       \"C�te d'Ivoire\", 'Croatia', 'Cuba', 'Cyprus', 'Czechia',\n",
       "       'Czechoslovakia', \"Democratic People's Republic of Korea\",\n",
       "       'Democratic Republic of the Congo', 'Denmark', 'Djibouti',\n",
       "       'Dominica', 'Dominican Republic', 'Ecuador', 'Egypt',\n",
       "       'El Salvador', 'Equatorial Guinea', 'Eritrea', 'Estonia',\n",
       "       'Ethiopia', 'Ethiopia PDR', 'Falkland Islands (Malvinas)',\n",
       "       'Faroe Islands', 'Fiji', 'Finland', 'France', 'French Guiana',\n",
       "       'French Polynesia', 'Gabon', 'Gambia', 'Georgia', 'Germany',\n",
       "       'Ghana', 'Gibraltar', 'Greece', 'Greenland', 'Grenada',\n",
       "       'Guadeloupe', 'Guam', 'Guatemala', 'Guinea', 'Guinea-Bissau',\n",
       "       'Guyana', 'Haiti', 'Holy See', 'Honduras', 'Hungary', 'Iceland',\n",
       "       'India', 'Indonesia', 'Iran (Islamic Republic of)', 'Iraq',\n",
       "       'Ireland', 'Isle of Man', 'Israel', 'Italy', 'Jamaica', 'Japan',\n",
       "       'Jordan', 'Kazakhstan', 'Kenya', 'Kiribati', 'Kuwait',\n",
       "       'Kyrgyzstan', \"Lao People's Democratic Republic\", 'Latvia',\n",
       "       'Lebanon', 'Lesotho', 'Liberia', 'Libya', 'Liechtenstein',\n",
       "       'Lithuania', 'Luxembourg', 'Madagascar', 'Malawi', 'Malaysia',\n",
       "       'Maldives', 'Mali', 'Malta', 'Marshall Islands', 'Martinique',\n",
       "       'Mauritania', 'Mauritius', 'Mayotte', 'Mexico',\n",
       "       'Micronesia (Federated States of)', 'Monaco', 'Mongolia',\n",
       "       'Montenegro', 'Montserrat', 'Morocco', 'Mozambique', 'Myanmar',\n",
       "       'Namibia', 'Nauru', 'Nepal', 'Netherlands',\n",
       "       'Netherlands Antilles (former)', 'New Caledonia', 'New Zealand',\n",
       "       'Nicaragua', 'Niger', 'Nigeria', 'Niue',\n",
       "       'Northern Mariana Islands', 'Norway',\n",
       "       'Occupied Palestinian Territory', 'Oman',\n",
       "       'Pacific Islands Trust Territory', 'Pakistan', 'Palau', 'Panama',\n",
       "       'Papua New Guinea', 'Paraguay', 'Peru', 'Philippines', 'Poland',\n",
       "       'Portugal', 'Puerto Rico', 'Qatar', 'Republic of Korea',\n",
       "       'Republic of Moldova', 'R�union', 'Romania', 'Russian Federation',\n",
       "       'Rwanda', 'Saint Helena, Ascension and Tristan da Cunha',\n",
       "       'Saint Kitts and Nevis', 'Saint Lucia',\n",
       "       'Saint Pierre and Miquelon', 'Saint Vincent and the Grenadines',\n",
       "       'Samoa', 'San Marino', 'Sao Tome and Principe', 'Saudi Arabia',\n",
       "       'Senegal', 'Serbia', 'Serbia and Montenegro', 'Seychelles',\n",
       "       'Sierra Leone', 'Singapore', 'Slovakia', 'Slovenia',\n",
       "       'Solomon Islands', 'Somalia', 'South Africa', 'South Sudan',\n",
       "       'Spain', 'Sri Lanka', 'Sudan', 'Sudan (former)', 'Suriname',\n",
       "       'Swaziland', 'Sweden', 'Switzerland', 'Syrian Arab Republic',\n",
       "       'Tajikistan', 'Thailand',\n",
       "       'The former Yugoslav Republic of Macedonia', 'Timor-Leste', 'Togo',\n",
       "       'Tokelau', 'Tonga', 'Trinidad and Tobago', 'Tunisia', 'Turkey',\n",
       "       'Turkmenistan', 'Turks and Caicos Islands', 'Tuvalu', 'Uganda',\n",
       "       'Ukraine', 'United Arab Emirates', 'United Kingdom',\n",
       "       'United Republic of Tanzania', 'United States of America',\n",
       "       'United States Virgin Islands', 'Uruguay', 'USSR', 'Uzbekistan',\n",
       "       'Vanuatu', 'Venezuela (Bolivarian Republic of)', 'Viet Nam',\n",
       "       'Wallis and Futuna Islands', 'Western Sahara', 'Yemen',\n",
       "       'Yugoslav SFR', 'Zambia', 'Zimbabwe', 'World', 'Africa',\n",
       "       'Eastern Africa', 'Middle Africa', 'Northern Africa',\n",
       "       'Southern Africa', 'Western Africa', 'Americas',\n",
       "       'Northern America', 'Central America', 'Caribbean',\n",
       "       'South America', 'Asia', 'Central Asia', 'Eastern Asia',\n",
       "       'Southern Asia', 'South-Eastern Asia', 'Western Asia', 'Europe',\n",
       "       'Eastern Europe', 'Northern Europe', 'Southern Europe',\n",
       "       'Western Europe', 'Oceania', 'Australia & New Zealand',\n",
       "       'Melanesia', 'Micronesia', 'Polynesia', 'European Union',\n",
       "       'Least Developed Countries', 'Land Locked Developing Countries',\n",
       "       'Small Island Developing States',\n",
       "       'Low Income Food Deficit Countries',\n",
       "       'Net Food Importing Developing Countries'], dtype=object)"
      ]
     },
     "execution_count": 51,
     "metadata": {},
     "output_type": "execute_result"
    }
   ],
   "source": [
    "df.Area.unique()"
   ]
  },
  {
   "cell_type": "code",
   "execution_count": 52,
   "metadata": {},
   "outputs": [],
   "source": [
    "df2 = df[(df.Element.str.contains('Total Population - Both sexes'))\n",
    "& (df.Area.isin(FAOSTAT_countries))]\\\n",
    ".groupby([\"Area\", \"Year\"])\\\n",
    ".Value.sum().unstack(\"Year\")"
   ]
  },
  {
   "cell_type": "code",
   "execution_count": 53,
   "metadata": {},
   "outputs": [
    {
     "data": {
      "text/html": [
       "<div>\n",
       "<style scoped>\n",
       "    .dataframe tbody tr th:only-of-type {\n",
       "        vertical-align: middle;\n",
       "    }\n",
       "\n",
       "    .dataframe tbody tr th {\n",
       "        vertical-align: top;\n",
       "    }\n",
       "\n",
       "    .dataframe thead th {\n",
       "        text-align: right;\n",
       "    }\n",
       "</style>\n",
       "<table border=\"1\" class=\"dataframe\">\n",
       "  <thead>\n",
       "    <tr style=\"text-align: right;\">\n",
       "      <th>Year</th>\n",
       "      <th>1950</th>\n",
       "      <th>1951</th>\n",
       "      <th>1952</th>\n",
       "      <th>1953</th>\n",
       "      <th>1954</th>\n",
       "      <th>1955</th>\n",
       "      <th>1956</th>\n",
       "      <th>1957</th>\n",
       "      <th>1958</th>\n",
       "      <th>1959</th>\n",
       "      <th>...</th>\n",
       "      <th>2091</th>\n",
       "      <th>2092</th>\n",
       "      <th>2093</th>\n",
       "      <th>2094</th>\n",
       "      <th>2095</th>\n",
       "      <th>2096</th>\n",
       "      <th>2097</th>\n",
       "      <th>2098</th>\n",
       "      <th>2099</th>\n",
       "      <th>2100</th>\n",
       "    </tr>\n",
       "    <tr>\n",
       "      <th>Area</th>\n",
       "      <th></th>\n",
       "      <th></th>\n",
       "      <th></th>\n",
       "      <th></th>\n",
       "      <th></th>\n",
       "      <th></th>\n",
       "      <th></th>\n",
       "      <th></th>\n",
       "      <th></th>\n",
       "      <th></th>\n",
       "      <th></th>\n",
       "      <th></th>\n",
       "      <th></th>\n",
       "      <th></th>\n",
       "      <th></th>\n",
       "      <th></th>\n",
       "      <th></th>\n",
       "      <th></th>\n",
       "      <th></th>\n",
       "      <th></th>\n",
       "      <th></th>\n",
       "    </tr>\n",
       "  </thead>\n",
       "  <tbody>\n",
       "    <tr>\n",
       "      <th>Afghanistan</th>\n",
       "      <td>7752.120</td>\n",
       "      <td>7839.510</td>\n",
       "      <td>7934.980</td>\n",
       "      <td>8038.600</td>\n",
       "      <td>8150.450</td>\n",
       "      <td>8270.580</td>\n",
       "      <td>8399.030</td>\n",
       "      <td>8535.810</td>\n",
       "      <td>8680.950</td>\n",
       "      <td>8834.450</td>\n",
       "      <td>...</td>\n",
       "      <td>71880.400</td>\n",
       "      <td>71755.600</td>\n",
       "      <td>71619.500</td>\n",
       "      <td>71472.800</td>\n",
       "      <td>71316.100</td>\n",
       "      <td>71150.200</td>\n",
       "      <td>70975.800</td>\n",
       "      <td>70793.70</td>\n",
       "      <td>70604.700</td>\n",
       "      <td>70409.600</td>\n",
       "    </tr>\n",
       "    <tr>\n",
       "      <th>Albania</th>\n",
       "      <td>1263.170</td>\n",
       "      <td>1287.500</td>\n",
       "      <td>1316.090</td>\n",
       "      <td>1348.100</td>\n",
       "      <td>1382.880</td>\n",
       "      <td>1419.970</td>\n",
       "      <td>1459.090</td>\n",
       "      <td>1500.150</td>\n",
       "      <td>1543.220</td>\n",
       "      <td>1588.480</td>\n",
       "      <td>...</td>\n",
       "      <td>1817.500</td>\n",
       "      <td>1798.030</td>\n",
       "      <td>1778.940</td>\n",
       "      <td>1760.230</td>\n",
       "      <td>1741.940</td>\n",
       "      <td>1724.060</td>\n",
       "      <td>1706.640</td>\n",
       "      <td>1689.69</td>\n",
       "      <td>1673.240</td>\n",
       "      <td>1657.310</td>\n",
       "    </tr>\n",
       "    <tr>\n",
       "      <th>Algeria</th>\n",
       "      <td>8872.250</td>\n",
       "      <td>9039.910</td>\n",
       "      <td>9216.400</td>\n",
       "      <td>9405.440</td>\n",
       "      <td>9609.510</td>\n",
       "      <td>9829.720</td>\n",
       "      <td>10065.800</td>\n",
       "      <td>10316.300</td>\n",
       "      <td>10578.400</td>\n",
       "      <td>10849.000</td>\n",
       "      <td>...</td>\n",
       "      <td>62825.000</td>\n",
       "      <td>62828.100</td>\n",
       "      <td>62823.800</td>\n",
       "      <td>62811.800</td>\n",
       "      <td>62791.900</td>\n",
       "      <td>62763.500</td>\n",
       "      <td>62726.400</td>\n",
       "      <td>62680.00</td>\n",
       "      <td>62623.500</td>\n",
       "      <td>62556.500</td>\n",
       "    </tr>\n",
       "    <tr>\n",
       "      <th>American Samoa</th>\n",
       "      <td>18.940</td>\n",
       "      <td>19.296</td>\n",
       "      <td>19.540</td>\n",
       "      <td>19.677</td>\n",
       "      <td>19.729</td>\n",
       "      <td>19.702</td>\n",
       "      <td>19.652</td>\n",
       "      <td>19.598</td>\n",
       "      <td>19.602</td>\n",
       "      <td>19.734</td>\n",
       "      <td>...</td>\n",
       "      <td>44.333</td>\n",
       "      <td>43.890</td>\n",
       "      <td>43.440</td>\n",
       "      <td>42.988</td>\n",
       "      <td>42.534</td>\n",
       "      <td>42.082</td>\n",
       "      <td>41.625</td>\n",
       "      <td>41.17</td>\n",
       "      <td>40.714</td>\n",
       "      <td>40.263</td>\n",
       "    </tr>\n",
       "    <tr>\n",
       "      <th>Andorra</th>\n",
       "      <td>6.196</td>\n",
       "      <td>6.689</td>\n",
       "      <td>7.247</td>\n",
       "      <td>7.865</td>\n",
       "      <td>8.525</td>\n",
       "      <td>9.232</td>\n",
       "      <td>9.989</td>\n",
       "      <td>10.779</td>\n",
       "      <td>11.615</td>\n",
       "      <td>12.498</td>\n",
       "      <td>...</td>\n",
       "      <td>64.333</td>\n",
       "      <td>64.197</td>\n",
       "      <td>64.071</td>\n",
       "      <td>63.940</td>\n",
       "      <td>63.809</td>\n",
       "      <td>63.679</td>\n",
       "      <td>63.544</td>\n",
       "      <td>63.41</td>\n",
       "      <td>63.267</td>\n",
       "      <td>63.125</td>\n",
       "    </tr>\n",
       "  </tbody>\n",
       "</table>\n",
       "<p>5 rows × 151 columns</p>\n",
       "</div>"
      ],
      "text/plain": [
       "Year                1950      1951      1952      1953      1954      1955  \\\n",
       "Area                                                                         \n",
       "Afghanistan     7752.120  7839.510  7934.980  8038.600  8150.450  8270.580   \n",
       "Albania         1263.170  1287.500  1316.090  1348.100  1382.880  1419.970   \n",
       "Algeria         8872.250  9039.910  9216.400  9405.440  9609.510  9829.720   \n",
       "American Samoa    18.940    19.296    19.540    19.677    19.729    19.702   \n",
       "Andorra            6.196     6.689     7.247     7.865     8.525     9.232   \n",
       "\n",
       "Year                 1956       1957       1958       1959  ...       2091  \\\n",
       "Area                                                        ...              \n",
       "Afghanistan      8399.030   8535.810   8680.950   8834.450  ...  71880.400   \n",
       "Albania          1459.090   1500.150   1543.220   1588.480  ...   1817.500   \n",
       "Algeria         10065.800  10316.300  10578.400  10849.000  ...  62825.000   \n",
       "American Samoa     19.652     19.598     19.602     19.734  ...     44.333   \n",
       "Andorra             9.989     10.779     11.615     12.498  ...     64.333   \n",
       "\n",
       "Year                 2092       2093       2094       2095       2096  \\\n",
       "Area                                                                    \n",
       "Afghanistan     71755.600  71619.500  71472.800  71316.100  71150.200   \n",
       "Albania          1798.030   1778.940   1760.230   1741.940   1724.060   \n",
       "Algeria         62828.100  62823.800  62811.800  62791.900  62763.500   \n",
       "American Samoa     43.890     43.440     42.988     42.534     42.082   \n",
       "Andorra            64.197     64.071     63.940     63.809     63.679   \n",
       "\n",
       "Year                 2097      2098       2099       2100  \n",
       "Area                                                       \n",
       "Afghanistan     70975.800  70793.70  70604.700  70409.600  \n",
       "Albania          1706.640   1689.69   1673.240   1657.310  \n",
       "Algeria         62726.400  62680.00  62623.500  62556.500  \n",
       "American Samoa     41.625     41.17     40.714     40.263  \n",
       "Andorra            63.544     63.41     63.267     63.125  \n",
       "\n",
       "[5 rows x 151 columns]"
      ]
     },
     "execution_count": 53,
     "metadata": {},
     "output_type": "execute_result"
    }
   ],
   "source": [
    "df2.head()"
   ]
  },
  {
   "cell_type": "code",
   "execution_count": 54,
   "metadata": {},
   "outputs": [],
   "source": [
    "p_diff =df2.iloc[:, 65] - df2.iloc[:, 40] #difference between year 2016 -1990\n",
    "p_diff = p_diff.sort_values(ascending=False)"
   ]
  },
  {
   "cell_type": "code",
   "execution_count": 55,
   "metadata": {},
   "outputs": [
    {
     "data": {
      "text/plain": [
       "Area\n",
       "India                               438917.0\n",
       "Nigeria                              85912.0\n",
       "Pakistan                             81702.0\n",
       "Indonesia                            76725.0\n",
       "United States of America             67399.0\n",
       "Brazil                               56610.0\n",
       "Bangladesh                           55012.0\n",
       "Democratic Republic of the Congo     41582.0\n",
       "Mexico                               40533.1\n",
       "Philippines                          39768.7\n",
       "Egypt                                36366.0\n",
       "United Republic of Tanzania          28420.4\n",
       "Viet Nam                             25362.0\n",
       "Turkey                               24349.8\n",
       "Kenya                                23833.8\n",
       "Iran (Islamic Republic of)           23134.3\n",
       "Uganda                               22706.0\n",
       "Afghanistan                          21487.4\n",
       "Iraq                                 18646.6\n",
       "South Africa                         17730.7\n",
       "dtype: float64"
      ]
     },
     "execution_count": 55,
     "metadata": {},
     "output_type": "execute_result"
    }
   ],
   "source": [
    "p_diff[:20]"
   ]
  },
  {
   "cell_type": "code",
   "execution_count": 56,
   "metadata": {},
   "outputs": [
    {
     "data": {
      "text/plain": [
       "<matplotlib.axes._subplots.AxesSubplot at 0x7ffa81878780>"
      ]
     },
     "execution_count": 56,
     "metadata": {},
     "output_type": "execute_result"
    },
    {
     "data": {
      "image/png": "[encoded data removed]",
      "text/plain": [
       "<Figure size 1080x432 with 1 Axes>"
      ]
     },
     "metadata": {
      "needs_background": "light"
     },
     "output_type": "display_data"
    }
   ],
   "source": [
    "# By conparing following figure and figure in main.py, we found that correlation between population growth and deforestation are limited\n",
    "df2.loc[p_diff[:10].index].T.plot.area(figsize=(15,6))"
   ]
  },
  {
   "cell_type": "markdown",
   "metadata": {},
   "source": [
    "#### Artificial surface growth vs deforestation"
   ]
  },
  {
   "cell_type": "code",
   "execution_count": 58,
   "metadata": {},
   "outputs": [],
   "source": [
    "df = pd.read_csv(\"global-food-agriculture-statistics/current_FAO/raw_files/Environment_LandCover_E_All_Data_(Normalized).csv\", engine='python')"
   ]
  },
  {
   "cell_type": "code",
   "execution_count": 59,
   "metadata": {},
   "outputs": [
    {
     "data": {
      "text/html": [
       "<div>\n",
       "<style scoped>\n",
       "    .dataframe tbody tr th:only-of-type {\n",
       "        vertical-align: middle;\n",
       "    }\n",
       "\n",
       "    .dataframe tbody tr th {\n",
       "        vertical-align: top;\n",
       "    }\n",
       "\n",
       "    .dataframe thead th {\n",
       "        text-align: right;\n",
       "    }\n",
       "</style>\n",
       "<table border=\"1\" class=\"dataframe\">\n",
       "  <thead>\n",
       "    <tr style=\"text-align: right;\">\n",
       "      <th></th>\n",
       "      <th>Area Code</th>\n",
       "      <th>Area</th>\n",
       "      <th>Item Code</th>\n",
       "      <th>Item</th>\n",
       "      <th>Element Code</th>\n",
       "      <th>Element</th>\n",
       "      <th>Year Code</th>\n",
       "      <th>Year</th>\n",
       "      <th>Unit</th>\n",
       "      <th>Value</th>\n",
       "      <th>Flag</th>\n",
       "    </tr>\n",
       "  </thead>\n",
       "  <tbody>\n",
       "    <tr>\n",
       "      <th>0</th>\n",
       "      <td>2</td>\n",
       "      <td>Afghanistan</td>\n",
       "      <td>6970</td>\n",
       "      <td>Artificial surfaces (including urban and assoc...</td>\n",
       "      <td>5007</td>\n",
       "      <td>Area from MODIS</td>\n",
       "      <td>2001</td>\n",
       "      <td>2001</td>\n",
       "      <td>1000 ha</td>\n",
       "      <td>71.0899</td>\n",
       "      <td>FC</td>\n",
       "    </tr>\n",
       "    <tr>\n",
       "      <th>1</th>\n",
       "      <td>2</td>\n",
       "      <td>Afghanistan</td>\n",
       "      <td>6970</td>\n",
       "      <td>Artificial surfaces (including urban and assoc...</td>\n",
       "      <td>5007</td>\n",
       "      <td>Area from MODIS</td>\n",
       "      <td>2002</td>\n",
       "      <td>2002</td>\n",
       "      <td>1000 ha</td>\n",
       "      <td>71.0770</td>\n",
       "      <td>FC</td>\n",
       "    </tr>\n",
       "    <tr>\n",
       "      <th>2</th>\n",
       "      <td>2</td>\n",
       "      <td>Afghanistan</td>\n",
       "      <td>6970</td>\n",
       "      <td>Artificial surfaces (including urban and assoc...</td>\n",
       "      <td>5007</td>\n",
       "      <td>Area from MODIS</td>\n",
       "      <td>2003</td>\n",
       "      <td>2003</td>\n",
       "      <td>1000 ha</td>\n",
       "      <td>71.0749</td>\n",
       "      <td>FC</td>\n",
       "    </tr>\n",
       "    <tr>\n",
       "      <th>3</th>\n",
       "      <td>2</td>\n",
       "      <td>Afghanistan</td>\n",
       "      <td>6970</td>\n",
       "      <td>Artificial surfaces (including urban and assoc...</td>\n",
       "      <td>5007</td>\n",
       "      <td>Area from MODIS</td>\n",
       "      <td>2004</td>\n",
       "      <td>2004</td>\n",
       "      <td>1000 ha</td>\n",
       "      <td>71.0563</td>\n",
       "      <td>FC</td>\n",
       "    </tr>\n",
       "    <tr>\n",
       "      <th>4</th>\n",
       "      <td>2</td>\n",
       "      <td>Afghanistan</td>\n",
       "      <td>6970</td>\n",
       "      <td>Artificial surfaces (including urban and assoc...</td>\n",
       "      <td>5007</td>\n",
       "      <td>Area from MODIS</td>\n",
       "      <td>2005</td>\n",
       "      <td>2005</td>\n",
       "      <td>1000 ha</td>\n",
       "      <td>71.0749</td>\n",
       "      <td>FC</td>\n",
       "    </tr>\n",
       "  </tbody>\n",
       "</table>\n",
       "</div>"
      ],
      "text/plain": [
       "   Area Code         Area  Item Code  \\\n",
       "0          2  Afghanistan       6970   \n",
       "1          2  Afghanistan       6970   \n",
       "2          2  Afghanistan       6970   \n",
       "3          2  Afghanistan       6970   \n",
       "4          2  Afghanistan       6970   \n",
       "\n",
       "                                                Item  Element Code  \\\n",
       "0  Artificial surfaces (including urban and assoc...          5007   \n",
       "1  Artificial surfaces (including urban and assoc...          5007   \n",
       "2  Artificial surfaces (including urban and assoc...          5007   \n",
       "3  Artificial surfaces (including urban and assoc...          5007   \n",
       "4  Artificial surfaces (including urban and assoc...          5007   \n",
       "\n",
       "           Element  Year Code  Year     Unit    Value Flag  \n",
       "0  Area from MODIS       2001  2001  1000 ha  71.0899   FC  \n",
       "1  Area from MODIS       2002  2002  1000 ha  71.0770   FC  \n",
       "2  Area from MODIS       2003  2003  1000 ha  71.0749   FC  \n",
       "3  Area from MODIS       2004  2004  1000 ha  71.0563   FC  \n",
       "4  Area from MODIS       2005  2005  1000 ha  71.0749   FC  "
      ]
     },
     "execution_count": 59,
     "metadata": {},
     "output_type": "execute_result"
    }
   ],
   "source": [
    "df.head()"
   ]
  },
  {
   "cell_type": "code",
   "execution_count": 60,
   "metadata": {},
   "outputs": [
    {
     "data": {
      "text/plain": [
       "array(['Artificial surfaces (including urban and associated areas)',\n",
       "       'Herbaceous crops', 'Woody crops', 'Multiple or layered crops',\n",
       "       'Grassland', 'Tree-covered areas', 'Mangroves',\n",
       "       'Shrub-covered areas',\n",
       "       'Shrubs and/or herbaceous vegetation, aquatic or regularly flooded',\n",
       "       'Sparsely natural vegetated areas', 'Terrestrial barren land',\n",
       "       'Permanent snow and glaciers', 'Inland water bodies',\n",
       "       'Coastal water bodies and intertidal areas'], dtype=object)"
      ]
     },
     "execution_count": 60,
     "metadata": {},
     "output_type": "execute_result"
    }
   ],
   "source": [
    "df.Item.unique()"
   ]
  },
  {
   "cell_type": "code",
   "execution_count": 61,
   "metadata": {},
   "outputs": [
    {
     "data": {
      "text/plain": [
       "array(['Area from MODIS', 'Area from CCI_LC'], dtype=object)"
      ]
     },
     "execution_count": 61,
     "metadata": {},
     "output_type": "execute_result"
    }
   ],
   "source": [
    "df[df.Item == 'Artificial surfaces (including urban and associated areas)'].Element.unique()"
   ]
  },
  {
   "cell_type": "code",
   "execution_count": 62,
   "metadata": {},
   "outputs": [],
   "source": [
    "df2 = df[df.Item == 'Artificial surfaces (including urban and associated areas)']"
   ]
  },
  {
   "cell_type": "code",
   "execution_count": 63,
   "metadata": {},
   "outputs": [
    {
     "name": "stderr",
     "output_type": "stream",
     "text": [
      "/mnt/c/linux_home/anaconda3/lib/python3.7/site-packages/ipykernel_launcher.py:2: UserWarning: Boolean Series key will be reindexed to match DataFrame index.\n",
      "  \n"
     ]
    }
   ],
   "source": [
    "df2 = df2[(df.Element.str.contains('Area from MODIS'))\n",
    "& (df2.Area.isin(FAOSTAT_countries))]\\\n",
    ".groupby([\"Area\", \"Year\"])\\\n",
    ".Value.sum().unstack(\"Year\")"
   ]
  },
  {
   "cell_type": "code",
   "execution_count": 64,
   "metadata": {},
   "outputs": [
    {
     "data": {
      "text/html": [
       "<div>\n",
       "<style scoped>\n",
       "    .dataframe tbody tr th:only-of-type {\n",
       "        vertical-align: middle;\n",
       "    }\n",
       "\n",
       "    .dataframe tbody tr th {\n",
       "        vertical-align: top;\n",
       "    }\n",
       "\n",
       "    .dataframe thead th {\n",
       "        text-align: right;\n",
       "    }\n",
       "</style>\n",
       "<table border=\"1\" class=\"dataframe\">\n",
       "  <thead>\n",
       "    <tr style=\"text-align: right;\">\n",
       "      <th>Year</th>\n",
       "      <th>2001</th>\n",
       "      <th>2002</th>\n",
       "      <th>2003</th>\n",
       "      <th>2004</th>\n",
       "      <th>2005</th>\n",
       "      <th>2006</th>\n",
       "      <th>2007</th>\n",
       "      <th>2008</th>\n",
       "      <th>2009</th>\n",
       "      <th>2010</th>\n",
       "      <th>2011</th>\n",
       "      <th>2012</th>\n",
       "    </tr>\n",
       "    <tr>\n",
       "      <th>Area</th>\n",
       "      <th></th>\n",
       "      <th></th>\n",
       "      <th></th>\n",
       "      <th></th>\n",
       "      <th></th>\n",
       "      <th></th>\n",
       "      <th></th>\n",
       "      <th></th>\n",
       "      <th></th>\n",
       "      <th></th>\n",
       "      <th></th>\n",
       "      <th></th>\n",
       "    </tr>\n",
       "  </thead>\n",
       "  <tbody>\n",
       "    <tr>\n",
       "      <th>Afghanistan</th>\n",
       "      <td>71.0899</td>\n",
       "      <td>71.0770</td>\n",
       "      <td>71.0749</td>\n",
       "      <td>71.0563</td>\n",
       "      <td>71.0749</td>\n",
       "      <td>71.0372</td>\n",
       "      <td>71.0846</td>\n",
       "      <td>71.0310</td>\n",
       "      <td>71.0523</td>\n",
       "      <td>71.0295</td>\n",
       "      <td>71.0306</td>\n",
       "      <td>71.0331</td>\n",
       "    </tr>\n",
       "    <tr>\n",
       "      <th>Albania</th>\n",
       "      <td>18.7318</td>\n",
       "      <td>18.7320</td>\n",
       "      <td>18.7377</td>\n",
       "      <td>18.7352</td>\n",
       "      <td>18.7350</td>\n",
       "      <td>18.7225</td>\n",
       "      <td>18.7241</td>\n",
       "      <td>18.7171</td>\n",
       "      <td>18.7304</td>\n",
       "      <td>18.7320</td>\n",
       "      <td>18.7377</td>\n",
       "      <td>18.7330</td>\n",
       "    </tr>\n",
       "    <tr>\n",
       "      <th>Algeria</th>\n",
       "      <td>301.0938</td>\n",
       "      <td>301.0922</td>\n",
       "      <td>301.0880</td>\n",
       "      <td>301.1057</td>\n",
       "      <td>301.0934</td>\n",
       "      <td>301.0994</td>\n",
       "      <td>301.0886</td>\n",
       "      <td>301.0970</td>\n",
       "      <td>301.1103</td>\n",
       "      <td>300.9938</td>\n",
       "      <td>301.1224</td>\n",
       "      <td>301.0043</td>\n",
       "    </tr>\n",
       "    <tr>\n",
       "      <th>American Samoa</th>\n",
       "      <td>0.0000</td>\n",
       "      <td>0.0000</td>\n",
       "      <td>0.0000</td>\n",
       "      <td>0.0000</td>\n",
       "      <td>0.0000</td>\n",
       "      <td>0.0000</td>\n",
       "      <td>0.0000</td>\n",
       "      <td>0.0000</td>\n",
       "      <td>0.0000</td>\n",
       "      <td>0.0000</td>\n",
       "      <td>0.0000</td>\n",
       "      <td>0.0000</td>\n",
       "    </tr>\n",
       "    <tr>\n",
       "      <th>Andorra</th>\n",
       "      <td>1.4851</td>\n",
       "      <td>1.4838</td>\n",
       "      <td>1.4855</td>\n",
       "      <td>1.5216</td>\n",
       "      <td>1.5262</td>\n",
       "      <td>1.5211</td>\n",
       "      <td>1.4833</td>\n",
       "      <td>1.5211</td>\n",
       "      <td>1.4798</td>\n",
       "      <td>1.5216</td>\n",
       "      <td>1.5266</td>\n",
       "      <td>1.5252</td>\n",
       "    </tr>\n",
       "  </tbody>\n",
       "</table>\n",
       "</div>"
      ],
      "text/plain": [
       "Year                2001      2002      2003      2004      2005      2006  \\\n",
       "Area                                                                         \n",
       "Afghanistan      71.0899   71.0770   71.0749   71.0563   71.0749   71.0372   \n",
       "Albania          18.7318   18.7320   18.7377   18.7352   18.7350   18.7225   \n",
       "Algeria         301.0938  301.0922  301.0880  301.1057  301.0934  301.0994   \n",
       "American Samoa    0.0000    0.0000    0.0000    0.0000    0.0000    0.0000   \n",
       "Andorra           1.4851    1.4838    1.4855    1.5216    1.5262    1.5211   \n",
       "\n",
       "Year                2007      2008      2009      2010      2011      2012  \n",
       "Area                                                                        \n",
       "Afghanistan      71.0846   71.0310   71.0523   71.0295   71.0306   71.0331  \n",
       "Albania          18.7241   18.7171   18.7304   18.7320   18.7377   18.7330  \n",
       "Algeria         301.0886  301.0970  301.1103  300.9938  301.1224  301.0043  \n",
       "American Samoa    0.0000    0.0000    0.0000    0.0000    0.0000    0.0000  \n",
       "Andorra           1.4833    1.5211    1.4798    1.5216    1.5266    1.5252  "
      ]
     },
     "execution_count": 64,
     "metadata": {},
     "output_type": "execute_result"
    }
   ],
   "source": [
    "df2.head()"
   ]
  },
  {
   "cell_type": "code",
   "execution_count": 65,
   "metadata": {},
   "outputs": [
    {
     "data": {
      "text/plain": [
       "Year\n",
       "2001    1869.9430\n",
       "2002    1868.3569\n",
       "2003    1869.3215\n",
       "2004    1869.8328\n",
       "2005    1870.6500\n",
       "2006    1868.8959\n",
       "2007    1869.0325\n",
       "2008    1867.5417\n",
       "2009    1868.8052\n",
       "2010    1870.2912\n",
       "2011    1871.2701\n",
       "2012    1870.2925\n",
       "Name: Japan, dtype: float64"
      ]
     },
     "execution_count": 65,
     "metadata": {},
     "output_type": "execute_result"
    }
   ],
   "source": [
    "# this figure is close to JPN Gov. data, area of housing\n",
    "df2.loc['Japan']"
   ]
  },
  {
   "cell_type": "code",
   "execution_count": 67,
   "metadata": {},
   "outputs": [],
   "source": [
    "p_diff =df2.iloc[:, 11] - df2.iloc[:, 0] #difference between year 2012 -2001\n",
    "p_diff = p_diff.sort_values(ascending=False)"
   ]
  },
  {
   "cell_type": "code",
   "execution_count": 68,
   "metadata": {},
   "outputs": [
    {
     "data": {
      "text/plain": [
       "Area\n",
       "Hungary                          3.6865\n",
       "Republic of Korea                3.3520\n",
       "India                            2.1570\n",
       "Spain                            1.4227\n",
       "Singapore                        1.3507\n",
       "Bahrain                          1.2114\n",
       "Romania                          1.1982\n",
       "Austria                          0.9909\n",
       "Turkey                           0.9358\n",
       "Ghana                            0.5951\n",
       "France                           0.5171\n",
       "Jordan                           0.4618\n",
       "Mexico                           0.4568\n",
       "Netherlands                      0.4275\n",
       "Japan                            0.3495\n",
       "Portugal                         0.3360\n",
       "Ukraine                          0.3281\n",
       "Netherlands Antilles (former)    0.2704\n",
       "Slovakia                         0.2177\n",
       "Belgium                          0.2123\n",
       "dtype: float64"
      ]
     },
     "execution_count": 68,
     "metadata": {},
     "output_type": "execute_result"
    }
   ],
   "source": [
    "# growth of artificial area is small\n",
    "p_diff[:20]"
   ]
  },
  {
   "cell_type": "code",
   "execution_count": 69,
   "metadata": {},
   "outputs": [
    {
     "data": {
      "text/plain": [
       "<matplotlib.axes._subplots.AxesSubplot at 0x7ffa92bba828>"
      ]
     },
     "execution_count": 69,
     "metadata": {},
     "output_type": "execute_result"
    },
    {
     "data": {
      "image/png": "[encoded data removed]",
      "text/plain": [
       "<Figure size 1080x432 with 1 Axes>"
      ]
     },
     "metadata": {
      "needs_background": "light"
     },
     "output_type": "display_data"
    }
   ],
   "source": [
    "# growth of artificial area is small, so its impact on deforestation is negligible\n",
    "df2.loc[p_diff[:10].index].T.plot.area(figsize=(15,6))"
   ]
  },
  {
   "cell_type": "markdown",
   "metadata": {},
   "source": [
    "#### Growth of Tree-covered areas match to deforestation trend? "
   ]
  },
  {
   "cell_type": "code",
   "execution_count": 28,
   "metadata": {},
   "outputs": [],
   "source": [
    "df3 = df[df.Item == 'Tree-covered areas']"
   ]
  },
  {
   "cell_type": "code",
   "execution_count": 29,
   "metadata": {},
   "outputs": [
    {
     "name": "stderr",
     "output_type": "stream",
     "text": [
      "/mnt/c/linux_home/anaconda3/lib/python3.7/site-packages/ipykernel_launcher.py:2: UserWarning: Boolean Series key will be reindexed to match DataFrame index.\n",
      "  \n"
     ]
    }
   ],
   "source": [
    "df3 = df3[(df.Element.str.contains('Area from MODIS'))\n",
    "& (df3.Area.isin(FAOSTAT_countries))]\\\n",
    ".groupby([\"Area\", \"Year\"])\\\n",
    ".Value.sum().unstack(\"Year\")"
   ]
  },
  {
   "cell_type": "code",
   "execution_count": 30,
   "metadata": {},
   "outputs": [
    {
     "data": {
      "text/html": [
       "<div>\n",
       "<style scoped>\n",
       "    .dataframe tbody tr th:only-of-type {\n",
       "        vertical-align: middle;\n",
       "    }\n",
       "\n",
       "    .dataframe tbody tr th {\n",
       "        vertical-align: top;\n",
       "    }\n",
       "\n",
       "    .dataframe thead th {\n",
       "        text-align: right;\n",
       "    }\n",
       "</style>\n",
       "<table border=\"1\" class=\"dataframe\">\n",
       "  <thead>\n",
       "    <tr style=\"text-align: right;\">\n",
       "      <th>Year</th>\n",
       "      <th>2001</th>\n",
       "      <th>2002</th>\n",
       "      <th>2003</th>\n",
       "      <th>2004</th>\n",
       "      <th>2005</th>\n",
       "      <th>2006</th>\n",
       "      <th>2007</th>\n",
       "      <th>2008</th>\n",
       "      <th>2009</th>\n",
       "      <th>2010</th>\n",
       "      <th>2011</th>\n",
       "      <th>2012</th>\n",
       "    </tr>\n",
       "    <tr>\n",
       "      <th>Area</th>\n",
       "      <th></th>\n",
       "      <th></th>\n",
       "      <th></th>\n",
       "      <th></th>\n",
       "      <th></th>\n",
       "      <th></th>\n",
       "      <th></th>\n",
       "      <th></th>\n",
       "      <th></th>\n",
       "      <th></th>\n",
       "      <th></th>\n",
       "      <th></th>\n",
       "    </tr>\n",
       "  </thead>\n",
       "  <tbody>\n",
       "    <tr>\n",
       "      <th>Afghanistan</th>\n",
       "      <td>277.8579</td>\n",
       "      <td>257.0200</td>\n",
       "      <td>231.4933</td>\n",
       "      <td>219.8316</td>\n",
       "      <td>234.2625</td>\n",
       "      <td>230.6606</td>\n",
       "      <td>254.0050</td>\n",
       "      <td>237.3392</td>\n",
       "      <td>325.2375</td>\n",
       "      <td>325.6402</td>\n",
       "      <td>372.6691</td>\n",
       "      <td>385.0191</td>\n",
       "    </tr>\n",
       "    <tr>\n",
       "      <th>Albania</th>\n",
       "      <td>445.3538</td>\n",
       "      <td>481.3801</td>\n",
       "      <td>420.6624</td>\n",
       "      <td>496.9820</td>\n",
       "      <td>399.5119</td>\n",
       "      <td>531.2831</td>\n",
       "      <td>586.5037</td>\n",
       "      <td>721.3579</td>\n",
       "      <td>760.7334</td>\n",
       "      <td>790.5335</td>\n",
       "      <td>813.6812</td>\n",
       "      <td>758.7507</td>\n",
       "    </tr>\n",
       "    <tr>\n",
       "      <th>Algeria</th>\n",
       "      <td>1007.2961</td>\n",
       "      <td>961.4381</td>\n",
       "      <td>884.2037</td>\n",
       "      <td>913.2712</td>\n",
       "      <td>948.4441</td>\n",
       "      <td>973.3383</td>\n",
       "      <td>893.1138</td>\n",
       "      <td>952.0809</td>\n",
       "      <td>830.2515</td>\n",
       "      <td>1083.5742</td>\n",
       "      <td>895.4800</td>\n",
       "      <td>1022.4781</td>\n",
       "    </tr>\n",
       "    <tr>\n",
       "      <th>American Samoa</th>\n",
       "      <td>15.6778</td>\n",
       "      <td>14.5878</td>\n",
       "      <td>14.7643</td>\n",
       "      <td>13.0864</td>\n",
       "      <td>14.0231</td>\n",
       "      <td>14.5090</td>\n",
       "      <td>13.8411</td>\n",
       "      <td>14.5132</td>\n",
       "      <td>13.2618</td>\n",
       "      <td>14.1558</td>\n",
       "      <td>13.2383</td>\n",
       "      <td>13.5248</td>\n",
       "    </tr>\n",
       "    <tr>\n",
       "      <th>Andorra</th>\n",
       "      <td>0.0000</td>\n",
       "      <td>0.0000</td>\n",
       "      <td>0.0000</td>\n",
       "      <td>0.0000</td>\n",
       "      <td>0.0000</td>\n",
       "      <td>0.0000</td>\n",
       "      <td>0.0000</td>\n",
       "      <td>0.0000</td>\n",
       "      <td>0.0000</td>\n",
       "      <td>0.0000</td>\n",
       "      <td>0.0000</td>\n",
       "      <td>0.0000</td>\n",
       "    </tr>\n",
       "  </tbody>\n",
       "</table>\n",
       "</div>"
      ],
      "text/plain": [
       "Year                 2001      2002      2003      2004      2005      2006  \\\n",
       "Area                                                                          \n",
       "Afghanistan      277.8579  257.0200  231.4933  219.8316  234.2625  230.6606   \n",
       "Albania          445.3538  481.3801  420.6624  496.9820  399.5119  531.2831   \n",
       "Algeria         1007.2961  961.4381  884.2037  913.2712  948.4441  973.3383   \n",
       "American Samoa    15.6778   14.5878   14.7643   13.0864   14.0231   14.5090   \n",
       "Andorra            0.0000    0.0000    0.0000    0.0000    0.0000    0.0000   \n",
       "\n",
       "Year                2007      2008      2009       2010      2011       2012  \n",
       "Area                                                                          \n",
       "Afghanistan     254.0050  237.3392  325.2375   325.6402  372.6691   385.0191  \n",
       "Albania         586.5037  721.3579  760.7334   790.5335  813.6812   758.7507  \n",
       "Algeria         893.1138  952.0809  830.2515  1083.5742  895.4800  1022.4781  \n",
       "American Samoa   13.8411   14.5132   13.2618    14.1558   13.2383    13.5248  \n",
       "Andorra           0.0000    0.0000    0.0000     0.0000    0.0000     0.0000  "
      ]
     },
     "execution_count": 30,
     "metadata": {},
     "output_type": "execute_result"
    }
   ],
   "source": [
    "df3.head()"
   ]
  },
  {
   "cell_type": "code",
   "execution_count": 34,
   "metadata": {},
   "outputs": [],
   "source": [
    "p_diff =df3.iloc[:, 11] - df3.iloc[:, 0] #difference between year 2012 -2001\n",
    "p_diff = p_diff.sort_values(ascending=False)"
   ]
  },
  {
   "cell_type": "code",
   "execution_count": 35,
   "metadata": {},
   "outputs": [
    {
     "data": {
      "text/plain": [
       "Area\n",
       "Canada                                   28937.2791\n",
       "Brazil                                   17876.2240\n",
       "Russian Federation                       15986.9831\n",
       "Democratic Republic of the Congo          4501.9781\n",
       "United States of America                  4455.4586\n",
       "Venezuela (Bolivarian Republic of)        4113.5631\n",
       "Philippines                               3702.2337\n",
       "Spain                                     2324.8984\n",
       "Mozambique                                2244.0904\n",
       "United Republic of Tanzania               1906.5988\n",
       "Zimbabwe                                  1788.7810\n",
       "Italy                                     1529.5486\n",
       "Angola                                    1274.5022\n",
       "Greece                                    1246.7949\n",
       "Finland                                   1213.6261\n",
       "Japan                                     1141.4283\n",
       "Belarus                                   1131.6412\n",
       "Democratic People's Republic of Korea     1035.7589\n",
       "Ukraine                                   1033.9311\n",
       "Liberia                                   1010.8019\n",
       "dtype: float64"
      ]
     },
     "execution_count": 35,
     "metadata": {},
     "output_type": "execute_result"
    }
   ],
   "source": [
    "# the number of tree covered area in the dataset are much smaller. \n",
    "# the tree-covered area has different definition from forest areas.\n",
    "p_diff[:20]"
   ]
  },
  {
   "cell_type": "code",
   "execution_count": 37,
   "metadata": {},
   "outputs": [
    {
     "data": {
      "text/plain": [
       "<matplotlib.axes._subplots.AxesSubplot at 0x7ffa9774fe80>"
      ]
     },
     "execution_count": 37,
     "metadata": {},
     "output_type": "execute_result"
    },
    {
     "data": {
      "image/png": "[encoded data removed]",
      "text/plain": [
       "<Figure size 1080x432 with 1 Axes>"
      ]
     },
     "metadata": {
      "needs_background": "light"
     },
     "output_type": "display_data"
    }
   ],
   "source": [
    "df3.loc[p_diff[:10].index].T.plot.area(figsize=(15,6))"
   ]
  },
  {
   "cell_type": "code",
   "execution_count": 46,
   "metadata": {},
   "outputs": [
    {
     "data": {
      "text/plain": [
       "Year\n",
       "2001    685469.5644\n",
       "2002    692677.7111\n",
       "2003    698455.3295\n",
       "2004    694022.4639\n",
       "2005    700465.8199\n",
       "2006    699923.3961\n",
       "2007    709080.7868\n",
       "2008    707793.9751\n",
       "2009    707654.8192\n",
       "2010    709549.5345\n",
       "2011    704056.5881\n",
       "2012    703345.7884\n",
       "Name: Brazil, dtype: float64"
      ]
     },
     "execution_count": 46,
     "metadata": {},
     "output_type": "execute_result"
    }
   ],
   "source": [
    "df3.loc['Brazil']"
   ]
  },
  {
   "cell_type": "code",
   "execution_count": 41,
   "metadata": {},
   "outputs": [
    {
     "data": {
      "text/plain": [
       "<matplotlib.axes._subplots.AxesSubplot at 0x7ffa5ced81d0>"
      ]
     },
     "execution_count": 41,
     "metadata": {},
     "output_type": "execute_result"
    },
    {
     "data": {
      "image/png": "[encoded data removed]",
      "text/plain": [
       "<Figure size 1080x432 with 1 Axes>"
      ]
     },
     "metadata": {
      "needs_background": "light"
     },
     "output_type": "display_data"
    }
   ],
   "source": [
    "df3.loc[p_diff[-10:].index].T.plot.area(figsize=(15,6))"
   ]
  },
  {
   "cell_type": "code",
   "execution_count": 3,
   "metadata": {},
   "outputs": [],
   "source": [
    "df = pd.read_csv(\"global-food-agriculture-statistics/current_FAO/raw_files/Forestry_Trade_Flows_E_All_Data_(Normalized).csv\", engine='python')"
   ]
  },
  {
   "cell_type": "code",
   "execution_count": 4,
   "metadata": {},
   "outputs": [
    {
     "data": {
      "text/html": [
       "<div>\n",
       "<style scoped>\n",
       "    .dataframe tbody tr th:only-of-type {\n",
       "        vertical-align: middle;\n",
       "    }\n",
       "\n",
       "    .dataframe tbody tr th {\n",
       "        vertical-align: top;\n",
       "    }\n",
       "\n",
       "    .dataframe thead th {\n",
       "        text-align: right;\n",
       "    }\n",
       "</style>\n",
       "<table border=\"1\" class=\"dataframe\">\n",
       "  <thead>\n",
       "    <tr style=\"text-align: right;\">\n",
       "      <th></th>\n",
       "      <th>Reporter Country Code</th>\n",
       "      <th>Reporter Countries</th>\n",
       "      <th>Partner Country Code</th>\n",
       "      <th>Partner Countries</th>\n",
       "      <th>Item Code</th>\n",
       "      <th>Item</th>\n",
       "      <th>Element Code</th>\n",
       "      <th>Element</th>\n",
       "      <th>Year Code</th>\n",
       "      <th>Year</th>\n",
       "      <th>Unit</th>\n",
       "      <th>Value</th>\n",
       "      <th>Flag</th>\n",
       "    </tr>\n",
       "  </thead>\n",
       "  <tbody>\n",
       "    <tr>\n",
       "      <th>0</th>\n",
       "      <td>2</td>\n",
       "      <td>Afghanistan</td>\n",
       "      <td>10</td>\n",
       "      <td>Australia</td>\n",
       "      <td>1640</td>\n",
       "      <td>Plywood</td>\n",
       "      <td>5616</td>\n",
       "      <td>Import Quantity</td>\n",
       "      <td>1999</td>\n",
       "      <td>1999</td>\n",
       "      <td>m3</td>\n",
       "      <td>5.0</td>\n",
       "      <td>R</td>\n",
       "    </tr>\n",
       "    <tr>\n",
       "      <th>1</th>\n",
       "      <td>2</td>\n",
       "      <td>Afghanistan</td>\n",
       "      <td>10</td>\n",
       "      <td>Australia</td>\n",
       "      <td>1640</td>\n",
       "      <td>Plywood</td>\n",
       "      <td>5622</td>\n",
       "      <td>Import Value</td>\n",
       "      <td>1999</td>\n",
       "      <td>1999</td>\n",
       "      <td>1000 US$</td>\n",
       "      <td>5.0</td>\n",
       "      <td>NaN</td>\n",
       "    </tr>\n",
       "    <tr>\n",
       "      <th>2</th>\n",
       "      <td>2</td>\n",
       "      <td>Afghanistan</td>\n",
       "      <td>10</td>\n",
       "      <td>Australia</td>\n",
       "      <td>1646</td>\n",
       "      <td>Particle board and OSB</td>\n",
       "      <td>5616</td>\n",
       "      <td>Import Quantity</td>\n",
       "      <td>1999</td>\n",
       "      <td>1999</td>\n",
       "      <td>m3</td>\n",
       "      <td>65.0</td>\n",
       "      <td>R</td>\n",
       "    </tr>\n",
       "    <tr>\n",
       "      <th>3</th>\n",
       "      <td>2</td>\n",
       "      <td>Afghanistan</td>\n",
       "      <td>10</td>\n",
       "      <td>Australia</td>\n",
       "      <td>1646</td>\n",
       "      <td>Particle board and OSB</td>\n",
       "      <td>5622</td>\n",
       "      <td>Import Value</td>\n",
       "      <td>1999</td>\n",
       "      <td>1999</td>\n",
       "      <td>1000 US$</td>\n",
       "      <td>1.0</td>\n",
       "      <td>NaN</td>\n",
       "    </tr>\n",
       "    <tr>\n",
       "      <th>4</th>\n",
       "      <td>2</td>\n",
       "      <td>Afghanistan</td>\n",
       "      <td>10</td>\n",
       "      <td>Australia</td>\n",
       "      <td>1877</td>\n",
       "      <td>Forest products (export/import)</td>\n",
       "      <td>5622</td>\n",
       "      <td>Import Value</td>\n",
       "      <td>1999</td>\n",
       "      <td>1999</td>\n",
       "      <td>1000 US$</td>\n",
       "      <td>6.0</td>\n",
       "      <td>NaN</td>\n",
       "    </tr>\n",
       "  </tbody>\n",
       "</table>\n",
       "</div>"
      ],
      "text/plain": [
       "   Reporter Country Code Reporter Countries  Partner Country Code  \\\n",
       "0                      2        Afghanistan                    10   \n",
       "1                      2        Afghanistan                    10   \n",
       "2                      2        Afghanistan                    10   \n",
       "3                      2        Afghanistan                    10   \n",
       "4                      2        Afghanistan                    10   \n",
       "\n",
       "  Partner Countries  Item Code                             Item  Element Code  \\\n",
       "0         Australia       1640                          Plywood          5616   \n",
       "1         Australia       1640                          Plywood          5622   \n",
       "2         Australia       1646           Particle board and OSB          5616   \n",
       "3         Australia       1646           Particle board and OSB          5622   \n",
       "4         Australia       1877  Forest products (export/import)          5622   \n",
       "\n",
       "           Element  Year Code  Year      Unit  Value Flag  \n",
       "0  Import Quantity       1999  1999        m3    5.0    R  \n",
       "1     Import Value       1999  1999  1000 US$    5.0  NaN  \n",
       "2  Import Quantity       1999  1999        m3   65.0    R  \n",
       "3     Import Value       1999  1999  1000 US$    1.0  NaN  \n",
       "4     Import Value       1999  1999  1000 US$    6.0  NaN  "
      ]
     },
     "execution_count": 4,
     "metadata": {},
     "output_type": "execute_result"
    }
   ],
   "source": [
    "df.head()"
   ]
  },
  {
   "cell_type": "code",
   "execution_count": null,
   "metadata": {},
   "outputs": [],
   "source": []
  }
 ],
 "metadata": {
  "kernelspec": {
   "display_name": "Python 3",
   "language": "python",
   "name": "python3"
  },
  "language_info": {
   "codemirror_mode": {
    "name": "ipython",
    "version": 3
   },
   "file_extension": ".py",
   "mimetype": "text/x-python",
   "name": "python",
   "nbconvert_exporter": "python",
   "pygments_lexer": "ipython3",
   "version": "3.7.3"
  }
 },
 "nbformat": 4,
 "nbformat_minor": 4
}
