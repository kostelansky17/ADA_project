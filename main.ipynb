{
 "nbformat": 4,
 "nbformat_minor": 2,
 "metadata": {
  "language_info": {
   "name": "python",
   "codemirror_mode": {
    "name": "ipython",
    "version": 3
   }
  },
  "orig_nbformat": 2,
  "file_extension": ".py",
  "mimetype": "text/x-python",
  "name": "python",
  "npconvert_exporter": "python",
  "pygments_lexer": "ipython3",
  "version": 3
 },
 "cells": [
  {
   "cell_type": "code",
   "execution_count": 1,
   "metadata": {},
   "outputs": [],
   "source": [
    "import pandas as pd\n"
   ]
  },
  {
   "cell_type": "code",
   "execution_count": 2,
   "metadata": {},
   "outputs": [],
   "source": [
    "livestock = pd.read_csv(\"data/faostat/Environment_LivestockPatterns_E_All_Data_cleared.csv\", engine='python')\n"
   ]
  },
  {
   "cell_type": "code",
   "execution_count": 3,
   "metadata": {},
   "outputs": [],
   "source": [
    "env_land_cover = pd.read_csv(\"data/faostat/Environment_LandCover_E_All_Data_cleared.csv\", engine='python')\n",
    "env_land_use = pd.read_csv(\"data/faostat/Environment_LandUse_E_All_Data_cleared.csv\", engine='python')\n"
   ]
  },
  {
   "cell_type": "code",
   "execution_count": 4,
   "metadata": {},
   "outputs": [],
   "source": [
    "for_all = pd.read_csv(\"data/faostat/Forestry_E_All_Data_cleared.csv\", engine='python')\n",
    "for_trade = pd.read_csv(\"data/faostat/Forestry_Trade_Flows_E_All_Data_cleared.csv\", engine='python')\n"
   ]
  },
  {
   "cell_type": "code",
   "execution_count": 5,
   "metadata": {},
   "outputs": [],
   "source": [
    "inp_land_use = pd.read_csv(\"data/faostat/Inputs_LandUse_E_All_Data_cleared.csv\", engine='python')\n"
   ]
  }
 ]
}