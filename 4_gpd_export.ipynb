{
 "nbformat": 4,
 "nbformat_minor": 2,
 "metadata": {
  "language_info": {
   "name": "python",
   "codemirror_mode": {
    "name": "ipython",
    "version": 3
   },
   "version": "3.7.3"
  },
  "orig_nbformat": 2,
  "file_extension": ".py",
  "mimetype": "text/x-python",
  "name": "python",
  "npconvert_exporter": "python",
  "pygments_lexer": "ipython3",
  "version": 3
 },
 "cells": [
  {
   "cell_type": "code",
   "execution_count": 1,
   "metadata": {},
   "outputs": [],
   "source": [
    "import pandas as pd\n",
    "\n",
    "FAOSTAT_country_data = pd.read_csv(\"/home/martin/Documents/school/EPFL/ws/ada/disappearing_forests/data/faostat/FAOSTAT_countries.csv\", engine='python')\n",
    "FAOSTAT_country_groups = FAOSTAT_country_data[\"Country Group\"].unique()\n",
    "FAOSTAT_countries = FAOSTAT_country_data[\"Country\"].unique()\n",
    "CONTINENTS = ['Africa', 'Asia', 'Oceania', 'Europe', 'Northern America', 'South America', 'Antarctic Region']\n",
    "PLOT_PROD = ['Roundwood', 'Sawnwood', 'Paper and paperboard', 'Wood fuel']\n",
    "PRIM_PROD = ['Roundwood', 'Sawnwood']\n"
   ]
  },
  {
   "cell_type": "code",
   "execution_count": 2,
   "metadata": {},
   "outputs": [],
   "source": [
    "forest_trade = pd.read_csv(\"/home/martin/Documents/school/EPFL/ws/ada/disappearing_forests/data/faostat/Forestry_Trade_Flows_E_All_Data_cleared.csv\", engine='python')\n"
   ]
  },
  {
   "cell_type": "code",
   "execution_count": 3,
   "metadata": {},
   "outputs": [],
   "source": [
    "trade_all = forest_trade[forest_trade.Element.str.match(\"Export Value\") & forest_trade.Item.str.startswith(\"Forest products\")][[\"Reporter Countries\", \"Partner Countries\", \"Item\", \"Year\", \"Unit\", \"Value\"]].rename(columns={\"Reporter Countries\": \"Exporting Country\", \"Partner Countries\": \"Importing Country\"})\n"
   ]
  },
  {
   "cell_type": "code",
   "execution_count": 4,
   "metadata": {},
   "outputs": [],
   "source": [
    "trade_all = trade_all[trade_all[\"Exporting Country\"].isin(FAOSTAT_countries) & trade_all[\"Importing Country\"].isin(FAOSTAT_countries)]"
   ]
  },
  {
   "cell_type": "code",
   "execution_count": 5,
   "metadata": {},
   "outputs": [],
   "source": [
    "exports = trade_all.groupby([\"Exporting Country\", \"Year\"]).sum().reset_index()\n",
    "imports = trade_all.groupby([\"Importing Country\", \"Year\"]).sum().reset_index()\n",
    "\n",
    "export_net = pd.merge(exports, imports, how='inner', left_on=['Exporting Country','Year'], right_on = ['Importing Country','Year'], suffixes=(\"_Export\", \"_Import\"))\n",
    "\n",
    "export_net[\"Net_export\"] = export_net[\"Value_Export\"] - export_net[\"Value_Import\"]\n",
    "export_net = export_net[[\"Exporting Country\", \"Year\", \"Net_export\"]].rename(columns={\"Exporting Country\": \"Country\"})"
   ]
  },
  {
   "cell_type": "code",
   "execution_count": 6,
   "metadata": {},
   "outputs": [],
   "source": [
    "top_net_select = ['Canada', 'Sweden', 'Finland', 'Brazil', 'Russian Federation',\n",
    "                  'Indonesia', 'Chile', 'Austria', 'Malaysia', 'New Zealand',\n",
    "                  'Portugal', 'Latvia', 'Uruguay', 'Germany', 'Romania', 'Czechia',\n",
    "                  'Cameroon', 'Slovakia', \"Lao People's Democratic Republic\", 'Norway',\n",
    "                  'Gabon', 'Cambodia', 'Papua New Guinea', 'Solomon Islands', 'Congo',\n",
    "                  'Myanmar', 'Ghana', 'South Africa',\n",
    "                  'Suriname', 'Central African Republic',\n",
    "                  'Democratic Republic of the Congo', 'Guyana', 'Equatorial Guinea',\n",
    "                  'Malawi', 'United Republic of Tanzania', 'Fiji', 'Djibouti',\n",
    "                  'Benin', 'Liberia', 'Timor-Leste', 'Guinea-Bissau', 'Chad',\n",
    "                  'Guinea', 'Gambia', 'Dominica', 'Burundi', 'Mauritania',\n",
    "                  \"Democratic People's Republic of Korea\", 'Tonga', 'Mali',\n",
    "                  'Vanuatu', 'Bhutan', 'Burkina Faso', 'Cabo Verde', 'Somalia',\n",
    "                  'Saint Vincent and the Grenadines', 'Sierra Leone', 'Belize',\n",
    "                  'Togo', 'Samoa', 'Lithuania', 'Niger', 'Brunei Darussalam',\n",
    "                  'Rwanda', 'Madagascar', 'French Polynesia']"
   ]
  },
  {
   "cell_type": "code",
   "execution_count": 7,
   "metadata": {},
   "outputs": [],
   "source": [
    "top_net_producers = export_net[export_net.Year == 2015].sort_values(by=\"Net_export\", ascending=False).head(75).Country.values\n",
    "export_net = export_net[export_net[\"Country\"].isin(top_net_producers)][[\"Country\", \"Year\",\"Net_export\"]]\n",
    "export_net['Year'] = export_net['Year'].astype(str)"
   ]
  },
  {
   "cell_type": "code",
   "execution_count": 8,
   "metadata": {},
   "outputs": [],
   "source": [
    "gdp = pd.read_csv(\"/home/martin/Documents/school/EPFL/ws/ada/disappearing_forests/data/other/gdp_per_capita.csv\", skiprows=3, engine='python')\n",
    "\n",
    "gdp.loc[gdp[\"Country Name\"].str.startswith(\"Czech Republic\"), \"Country Name\"]= \"Czechia\"\n",
    "gdp.loc[gdp[\"Country Name\"].str.startswith(\"Congo, Rep\"), \"Country Name\"] = \"Congo\"\n",
    "gdp.loc[gdp[\"Country Name\"].str.startswith(\"Congo, Dem. Rep.\"), \"Country Name\"] = \"Democratic Republic of the Congo\"\n",
    "gdp.loc[gdp[\"Country Name\"].str.startswith(\"Lao PDR\"), \"Country Name\"] = \"Lao People's Democratic Republic\"\n",
    "gdp.loc[gdp[\"Country Name\"].str.startswith(\"Slovak Republic\"), \"Country Name\"] = \"Slovakia\"\n",
    "\n",
    "gdp = gdp.melt(id_vars=[\"Country Name\", \"Country Code\", \"Indicator Name\",\t\"Indicator Code\"], \n",
    "                var_name=\"Year\", \n",
    "                value_name=\"GDP\")"
   ]
  },
  {
   "cell_type": "code",
   "execution_count": 9,
   "metadata": {},
   "outputs": [],
   "source": [
    "gdp = gdp[gdp[\"Country Name\"].isin(top_net_producers)][[\"Country Name\", \"Year\", \"GDP\"]]\n",
    "gdp['Year'] = gdp['Year'].astype(str)\n",
    "\n",
    "gdp_net = pd.merge(export_net, gdp, how='inner', left_on=[\"Country\", \"Year\"], right_on=[\"Country Name\", \"Year\"], suffixes=(\"_net\", \"_gdp\"))\n",
    "gdp_net = gdp_net[[\"Country\", \"Year\", \"Net_export\", \"GDP\"]]\n"
   ]
  },
  {
   "cell_type": "code",
   "execution_count": 11,
   "metadata": {},
   "outputs": [],
   "source": [
    "land = pd.read_csv(\"/home/martin/Documents/school/EPFL/ws/ada/disappearing_forests/data/faostat/Inputs_LandUse_E_All_Data_cleared.csv\",engine='python')\n",
    "\n",
    "plant_for = land[land.Item.isin(['Planted Forest']) & land.Area.isin(top_net_producers)][[\"Area\", \"Year\", \"Value\"]]\n",
    "\n",
    "area = land[land.Item.isin(['Land area']) & land.Area.isin(top_net_producers)][[\"Area\", \"Year\", \"Value\"]]"
   ]
  },
  {
   "cell_type": "code",
   "execution_count": 12,
   "metadata": {},
   "outputs": [],
   "source": [
    "fores_area = pd.merge(plant_for, area, how=\"left\", left_on=[\"Area\", \"Year\"], right_on=[\"Area\", \"Year\"], suffixes=(\"_pl_for\", \"_land_ar\"))[[\"Area\", \"Year\", \"Value_pl_for\", \"Value_land_ar\"]]\n",
    "fores_area[\"pl_percentage\"] = fores_area[\"Value_pl_for\"] / fores_area[\"Value_land_ar\"]\n",
    "fores_area['Year'] = fores_area['Year'].astype(str)\n"
   ]
  },
  {
   "cell_type": "code",
   "execution_count": 13,
   "metadata": {},
   "outputs": [],
   "source": [
    "all_data = pd.merge(gdp_net, fores_area,  how='inner', left_on=[\"Country\", \"Year\"], right_on = [\"Area\", \"Year\"])\n",
    "all_data = all_data[[\"Country\", \"Year\", \"pl_percentage\", \"Net_export\", \"GDP\"]]\n",
    "all_data[\"Year\"] = all_data[\"Year\"].astype(int)\n",
    "all_data[\"pl_percentage\"] = all_data[\"pl_percentage\"].apply(lambda x: x*100)\n",
    "all_data = all_data[all_data.Net_export > 0]"
   ]
  },
  {
   "cell_type": "code",
   "execution_count": 14,
   "metadata": {},
   "outputs": [],
   "source": [
    "data_year_select = all_data[all_data.Year > 2006]\n",
    "data_year_select = data_year_select[data_year_select.Year <= 2015]\n",
    "data_year_select = data_year_select.rename(columns={\"pl_percentage\": \"Planted Forest(%)\", \"Net_export\":\"Net Export(1000 USD)\"})\n"
   ]
  },
  {
   "cell_type": "code",
   "execution_count": 16,
   "metadata": {},
   "outputs": [
    {
     "data": {
      "application/vnd.plotly.v1+json": {
       "config": {
        "plotlyServerURL": "https://plot.ly"
       },
       "data": [
        {
         "hoverlabel": {
          "namelength": 0
         },
         "hovertemplate": "Country=Austria<br>Year=2007<br>GDP=%{x}<br>Planted Forest(%)=%{y}<br>Net Export(1000 USD)=%{marker.size}",
         "ids": [
          "Austria"
         ],
         "legendgroup": "Country=Austria",
         "marker": {
          "color": "#636efa",
          "size": [
           3890724
          ],
          "sizemode": "area",
          "sizeref": 11638.6725,
          "symbol": "circle"
         },
         "mode": "markers",
         "name": "Country=Austria",
         "showlegend": true,
         "type": "scatter",
         "x": [
          46855.7717452095
         ],
         "xaxis": "x",
         "y": [
          20.56722129380707
         ],
         "yaxis": "y"
        },
        {
         "hoverlabel": {
          "namelength": 0
         },
         "hovertemplate": "Country=Belarus<br>Year=2007<br>GDP=%{x}<br>Planted Forest(%)=%{y}<br>Net Export(1000 USD)=%{marker.size}",
         "ids": [
          "Belarus"
         ],
         "legendgroup": "Country=Belarus",
         "marker": {
          "color": "#EF553B",
          "size": [
           17376
          ],
          "sizemode": "area",
          "sizeref": 11638.6725,
          "symbol": "circle"
         },
         "mode": "markers",
         "name": "Country=Belarus",
         "showlegend": true,
         "type": "scatter",
         "x": [
          4735.657607939989
         ],
         "xaxis": "x",
         "y": [
          8.85657959586003
         ],
         "yaxis": "y"
        },
        {
         "hoverlabel": {
          "namelength": 0
         },
         "hovertemplate": "Country=Belgium<br>Year=2007<br>GDP=%{x}<br>Planted Forest(%)=%{y}<br>Net Export(1000 USD)=%{marker.size}",
         "ids": [
          "Belgium"
         ],
         "legendgroup": "Country=Belgium",
         "marker": {
          "color": "#00cc96",
          "size": [
           536939
          ],
          "sizemode": "area",
          "sizeref": 11638.6725,
          "symbol": "circle"
         },
         "mode": "markers",
         "name": "Country=Belgium",
         "showlegend": true,
         "type": "scatter",
         "x": [
          44403.7668991523
         ],
         "xaxis": "x",
         "y": [
          13.110303830911493
         ],
         "yaxis": "y"
        },
        {
         "hoverlabel": {
          "namelength": 0
         },
         "hovertemplate": "Country=Benin<br>Year=2007<br>GDP=%{x}<br>Planted Forest(%)=%{y}<br>Net Export(1000 USD)=%{marker.size}",
         "ids": [
          "Benin"
         ],
         "legendgroup": "Country=Benin",
         "marker": {
          "color": "#FFA15A",
          "size": [
           856
          ],
          "sizemode": "area",
          "sizeref": 11638.6725,
          "symbol": "circle"
         },
         "mode": "markers",
         "name": "Country=Benin",
         "showlegend": true,
         "type": "scatter",
         "x": [
          706.053374882171
         ],
         "xaxis": "x",
         "y": [
          0.14721532458318554
         ],
         "yaxis": "y"
        },
        {
         "hoverlabel": {
          "namelength": 0
         },
         "hovertemplate": "Country=Bhutan<br>Year=2007<br>GDP=%{x}<br>Planted Forest(%)=%{y}<br>Net Export(1000 USD)=%{marker.size}",
         "ids": [
          "Bhutan"
         ],
         "legendgroup": "Country=Bhutan",
         "marker": {
          "color": "#19d3f3",
          "size": [
           4221
          ],
          "sizemode": "area",
          "sizeref": 11638.6725,
          "symbol": "circle"
         },
         "mode": "markers",
         "name": "Country=Bhutan",
         "showlegend": true,
         "type": "scatter",
         "x": [
          1798.96974025707
         ],
         "xaxis": "x",
         "y": [
          0.5561822808720519
         ],
         "yaxis": "y"
        },
        {
         "hoverlabel": {
          "namelength": 0
         },
         "hovertemplate": "Country=Bosnia and Herzegovina<br>Year=2007<br>GDP=%{x}<br>Planted Forest(%)=%{y}<br>Net Export(1000 USD)=%{marker.size}",
         "ids": [
          "Bosnia and Herzegovina"
         ],
         "legendgroup": "Country=Bosnia and Herzegovina",
         "marker": {
          "color": "#FF6692",
          "size": [
           76850
          ],
          "sizemode": "area",
          "sizeref": 11638.6725,
          "symbol": "circle"
         },
         "mode": "markers",
         "name": "Country=Bosnia and Herzegovina",
         "showlegend": true,
         "type": "scatter",
         "x": [
          4193.3736517833
         ],
         "xaxis": "x",
         "y": [
          19.51171875
         ],
         "yaxis": "y"
        },
        {
         "hoverlabel": {
          "namelength": 0
         },
         "hovertemplate": "Country=Brazil<br>Year=2007<br>GDP=%{x}<br>Planted Forest(%)=%{y}<br>Net Export(1000 USD)=%{marker.size}",
         "ids": [
          "Brazil"
         ],
         "legendgroup": "Country=Brazil",
         "marker": {
          "color": "#B6E880",
          "size": [
           5153702
          ],
          "sizemode": "area",
          "sizeref": 11638.6725,
          "symbol": "circle"
         },
         "mode": "markers",
         "name": "Country=Brazil",
         "showlegend": true,
         "type": "scatter",
         "x": [
          7348.03079355548
         ],
         "xaxis": "x",
         "y": [
          0.7371496529132079
         ],
         "yaxis": "y"
        },
        {
         "hoverlabel": {
          "namelength": 0
         },
         "hovertemplate": "Country=Cameroon<br>Year=2007<br>GDP=%{x}<br>Planted Forest(%)=%{y}<br>Net Export(1000 USD)=%{marker.size}",
         "ids": [
          "Cameroon"
         ],
         "legendgroup": "Country=Cameroon",
         "marker": {
          "color": "#636efa",
          "size": [
           447093
          ],
          "sizemode": "area",
          "sizeref": 11638.6725,
          "symbol": "circle"
         },
         "mode": "markers",
         "name": "Country=Cameroon",
         "showlegend": true,
         "type": "scatter",
         "x": [
          1194.06985039841
         ],
         "xaxis": "x",
         "y": [
          0.03418586448350998
         ],
         "yaxis": "y"
        },
        {
         "hoverlabel": {
          "namelength": 0
         },
         "hovertemplate": "Country=Canada<br>Year=2007<br>GDP=%{x}<br>Planted Forest(%)=%{y}<br>Net Export(1000 USD)=%{marker.size}",
         "ids": [
          "Canada"
         ],
         "legendgroup": "Country=Canada",
         "marker": {
          "color": "#EF553B",
          "size": [
           17572346
          ],
          "sizemode": "area",
          "sizeref": 11638.6725,
          "symbol": "circle"
         },
         "mode": "markers",
         "name": "Country=Canada",
         "showlegend": true,
         "type": "scatter",
         "x": [
          44543.0410359004
         ],
         "xaxis": "x",
         "y": [
          1.4071578111423788
         ],
         "yaxis": "y"
        },
        {
         "hoverlabel": {
          "namelength": 0
         },
         "hovertemplate": "Country=Central African Republic<br>Year=2007<br>GDP=%{x}<br>Planted Forest(%)=%{y}<br>Net Export(1000 USD)=%{marker.size}",
         "ids": [
          "Central African Republic"
         ],
         "legendgroup": "Country=Central African Republic",
         "marker": {
          "color": "#00cc96",
          "size": [
           49334
          ],
          "sizemode": "area",
          "sizeref": 11638.6725,
          "symbol": "circle"
         },
         "mode": "markers",
         "name": "Country=Central African Republic",
         "showlegend": true,
         "type": "scatter",
         "x": [
          404.373964962741
         ],
         "xaxis": "x",
         "y": [
          0.003210375935021991
         ],
         "yaxis": "y"
        },
        {
         "hoverlabel": {
          "namelength": 0
         },
         "hovertemplate": "Country=Chile<br>Year=2007<br>GDP=%{x}<br>Planted Forest(%)=%{y}<br>Net Export(1000 USD)=%{marker.size}",
         "ids": [
          "Chile"
         ],
         "legendgroup": "Country=Chile",
         "marker": {
          "color": "#FFA15A",
          "size": [
           2578070
          ],
          "sizemode": "area",
          "sizeref": 11638.6725,
          "symbol": "circle"
         },
         "mode": "markers",
         "name": "Country=Chile",
         "showlegend": true,
         "type": "scatter",
         "x": [
          10502.3545202737
         ],
         "xaxis": "x",
         "y": [
          2.9472840442644035
         ],
         "yaxis": "y"
        },
        {
         "hoverlabel": {
          "namelength": 0
         },
         "hovertemplate": "Country=Congo<br>Year=2007<br>GDP=%{x}<br>Planted Forest(%)=%{y}<br>Net Export(1000 USD)=%{marker.size}",
         "ids": [
          "Congo"
         ],
         "legendgroup": "Country=Congo",
         "marker": {
          "color": "#19d3f3",
          "size": [
           101692
          ],
          "sizemode": "area",
          "sizeref": 11638.6725,
          "symbol": "circle"
         },
         "mode": "markers",
         "name": "Country=Congo",
         "showlegend": true,
         "type": "scatter",
         "x": [
          2165.74575859571
         ],
         "xaxis": "x",
         "y": [
          0.17745241581259152
         ],
         "yaxis": "y"
        },
        {
         "hoverlabel": {
          "namelength": 0
         },
         "hovertemplate": "Country=Czechia<br>Year=2007<br>GDP=%{x}<br>Planted Forest(%)=%{y}<br>Net Export(1000 USD)=%{marker.size}",
         "ids": [
          "Czechia"
         ],
         "legendgroup": "Country=Czechia",
         "marker": {
          "color": "#B6E880",
          "size": [
           609077
          ],
          "sizemode": "area",
          "sizeref": 11638.6725,
          "symbol": "circle"
         },
         "mode": "markers",
         "name": "Country=Czechia",
         "showlegend": true,
         "type": "scatter",
         "x": [
          18373.6489976913
         ],
         "xaxis": "x",
         "y": [
          34.029773462783176
         ],
         "yaxis": "y"
        },
        {
         "hoverlabel": {
          "namelength": 0
         },
         "hovertemplate": "Country=Democratic Republic of the Congo<br>Year=2007<br>GDP=%{x}<br>Planted Forest(%)=%{y}<br>Net Export(1000 USD)=%{marker.size}",
         "ids": [
          "Democratic Republic of the Congo"
         ],
         "legendgroup": "Country=Democratic Republic of the Congo",
         "marker": {
          "color": "#FF97FF",
          "size": [
           138103
          ],
          "sizemode": "area",
          "sizeref": 11638.6725,
          "symbol": "circle"
         },
         "mode": "markers",
         "name": "Country=Democratic Republic of the Congo",
         "showlegend": true,
         "type": "scatter",
         "x": [
          286.330492065307
         ],
         "xaxis": "x",
         "y": [
          0.025509627048366817
         ],
         "yaxis": "y"
        },
        {
         "hoverlabel": {
          "namelength": 0
         },
         "hovertemplate": "Country=Equatorial Guinea<br>Year=2007<br>GDP=%{x}<br>Planted Forest(%)=%{y}<br>Net Export(1000 USD)=%{marker.size}",
         "ids": [
          "Equatorial Guinea"
         ],
         "legendgroup": "Country=Equatorial Guinea",
         "marker": {
          "color": "#636efa",
          "size": [
           47000
          ],
          "sizemode": "area",
          "sizeref": 11638.6725,
          "symbol": "circle"
         },
         "mode": "markers",
         "name": "Country=Equatorial Guinea",
         "showlegend": true,
         "type": "scatter",
         "x": [
          15908.3918313632
         ],
         "xaxis": "x",
         "y": [
          0.004456327985739751
         ],
         "yaxis": "y"
        },
        {
         "hoverlabel": {
          "namelength": 0
         },
         "hovertemplate": "Country=Estonia<br>Year=2007<br>GDP=%{x}<br>Planted Forest(%)=%{y}<br>Net Export(1000 USD)=%{marker.size}",
         "ids": [
          "Estonia"
         ],
         "legendgroup": "Country=Estonia",
         "marker": {
          "color": "#EF553B",
          "size": [
           173054
          ],
          "sizemode": "area",
          "sizeref": 11638.6725,
          "symbol": "circle"
         },
         "mode": "markers",
         "name": "Country=Estonia",
         "showlegend": true,
         "type": "scatter",
         "x": [
          16586.4052048847
         ],
         "xaxis": "x",
         "y": [
          4.133050247699929
         ],
         "yaxis": "y"
        },
        {
         "hoverlabel": {
          "namelength": 0
         },
         "hovertemplate": "Country=Finland<br>Year=2007<br>GDP=%{x}<br>Planted Forest(%)=%{y}<br>Net Export(1000 USD)=%{marker.size}",
         "ids": [
          "Finland"
         ],
         "legendgroup": "Country=Finland",
         "marker": {
          "color": "#ab63fa",
          "size": [
           10180842
          ],
          "sizemode": "area",
          "sizeref": 11638.6725,
          "symbol": "circle"
         },
         "mode": "markers",
         "name": "Country=Finland",
         "showlegend": true,
         "type": "scatter",
         "x": [
          48288.549097818606
         ],
         "xaxis": "x",
         "y": [
          20.555359926337598
         ],
         "yaxis": "y"
        },
        {
         "hoverlabel": {
          "namelength": 0
         },
         "hovertemplate": "Country=Gabon<br>Year=2007<br>GDP=%{x}<br>Planted Forest(%)=%{y}<br>Net Export(1000 USD)=%{marker.size}",
         "ids": [
          "Gabon"
         ],
         "legendgroup": "Country=Gabon",
         "marker": {
          "color": "#FFA15A",
          "size": [
           446496
          ],
          "sizemode": "area",
          "sizeref": 11638.6725,
          "symbol": "circle"
         },
         "mode": "markers",
         "name": "Country=Gabon",
         "showlegend": true,
         "type": "scatter",
         "x": [
          8447.0785912062
         ],
         "xaxis": "x",
         "y": [
          0.11642798928862498
         ],
         "yaxis": "y"
        },
        {
         "hoverlabel": {
          "namelength": 0
         },
         "hovertemplate": "Country=Germany<br>Year=2007<br>GDP=%{x}<br>Planted Forest(%)=%{y}<br>Net Export(1000 USD)=%{marker.size}",
         "ids": [
          "Germany"
         ],
         "legendgroup": "Country=Germany",
         "marker": {
          "color": "#19d3f3",
          "size": [
           3809450
          ],
          "sizemode": "area",
          "sizeref": 11638.6725,
          "symbol": "circle"
         },
         "mode": "markers",
         "name": "Country=Germany",
         "showlegend": true,
         "type": "scatter",
         "x": [
          41814.8190965222
         ],
         "xaxis": "x",
         "y": [
          15.151289184615827
         ],
         "yaxis": "y"
        },
        {
         "hoverlabel": {
          "namelength": 0
         },
         "hovertemplate": "Country=Ghana<br>Year=2007<br>GDP=%{x}<br>Planted Forest(%)=%{y}<br>Net Export(1000 USD)=%{marker.size}",
         "ids": [
          "Ghana"
         ],
         "legendgroup": "Country=Ghana",
         "marker": {
          "color": "#FF6692",
          "size": [
           272437
          ],
          "sizemode": "area",
          "sizeref": 11638.6725,
          "symbol": "circle"
         },
         "mode": "markers",
         "name": "Country=Ghana",
         "showlegend": true,
         "type": "scatter",
         "x": [
          1078.16050942235
         ],
         "xaxis": "x",
         "y": [
          0.8789663355893469
         ],
         "yaxis": "y"
        },
        {
         "hoverlabel": {
          "namelength": 0
         },
         "hovertemplate": "Country=Guinea<br>Year=2007<br>GDP=%{x}<br>Planted Forest(%)=%{y}<br>Net Export(1000 USD)=%{marker.size}",
         "ids": [
          "Guinea"
         ],
         "legendgroup": "Country=Guinea",
         "marker": {
          "color": "#B6E880",
          "size": [
           7016
          ],
          "sizemode": "area",
          "sizeref": 11638.6725,
          "symbol": "circle"
         },
         "mode": "markers",
         "name": "Country=Guinea",
         "showlegend": true,
         "type": "scatter",
         "x": [
          659.992722953488
         ],
         "xaxis": "x",
         "y": [
          0.35161972977372624
         ],
         "yaxis": "y"
        },
        {
         "hoverlabel": {
          "namelength": 0
         },
         "hovertemplate": "Country=Guyana<br>Year=2007<br>GDP=%{x}<br>Planted Forest(%)=%{y}<br>Net Export(1000 USD)=%{marker.size}",
         "ids": [
          "Guyana"
         ],
         "legendgroup": "Country=Guyana",
         "marker": {
          "color": "#FF97FF",
          "size": [
           25185
          ],
          "sizemode": "area",
          "sizeref": 11638.6725,
          "symbol": "circle"
         },
         "mode": "markers",
         "name": "Country=Guyana",
         "showlegend": true,
         "type": "scatter",
         "x": [
          2331.20034221863
         ],
         "xaxis": "x",
         "y": [
          0
         ],
         "yaxis": "y"
        },
        {
         "hoverlabel": {
          "namelength": 0
         },
         "hovertemplate": "Country=Indonesia<br>Year=2007<br>GDP=%{x}<br>Planted Forest(%)=%{y}<br>Net Export(1000 USD)=%{marker.size}",
         "ids": [
          "Indonesia"
         ],
         "legendgroup": "Country=Indonesia",
         "marker": {
          "color": "#FECB52",
          "size": [
           1885261
          ],
          "sizemode": "area",
          "sizeref": 11638.6725,
          "symbol": "circle"
         },
         "mode": "markers",
         "name": "Country=Indonesia",
         "showlegend": true,
         "type": "scatter",
         "x": [
          1860.00276310682
         ],
         "xaxis": "x",
         "y": [
          2.6035979840690673
         ],
         "yaxis": "y"
        },
        {
         "hoverlabel": {
          "namelength": 0
         },
         "hovertemplate": "Country=Lao People's Democratic Republic<br>Year=2007<br>GDP=%{x}<br>Planted Forest(%)=%{y}<br>Net Export(1000 USD)=%{marker.size}",
         "ids": [
          "Lao People's Democratic Republic"
         ],
         "legendgroup": "Country=Lao People's Democratic Republic",
         "marker": {
          "color": "#636efa",
          "size": [
           16133
          ],
          "sizemode": "area",
          "sizeref": 11638.6725,
          "symbol": "circle"
         },
         "mode": "markers",
         "name": "Country=Lao People's Democratic Republic",
         "showlegend": true,
         "type": "scatter",
         "x": [
          710.344815049449
         ],
         "xaxis": "x",
         "y": [
          0.19129116117850953
         ],
         "yaxis": "y"
        },
        {
         "hoverlabel": {
          "namelength": 0
         },
         "hovertemplate": "Country=Latvia<br>Year=2007<br>GDP=%{x}<br>Planted Forest(%)=%{y}<br>Net Export(1000 USD)=%{marker.size}",
         "ids": [
          "Latvia"
         ],
         "legendgroup": "Country=Latvia",
         "marker": {
          "color": "#EF553B",
          "size": [
           756337
          ],
          "sizemode": "area",
          "sizeref": 11638.6725,
          "symbol": "circle"
         },
         "mode": "markers",
         "name": "Country=Latvia",
         "showlegend": true,
         "type": "scatter",
         "x": [
          14044.0158891923
         ],
         "xaxis": "x",
         "y": [
          10.70486848028812
         ],
         "yaxis": "y"
        },
        {
         "hoverlabel": {
          "namelength": 0
         },
         "hovertemplate": "Country=Luxembourg<br>Year=2007<br>GDP=%{x}<br>Planted Forest(%)=%{y}<br>Net Export(1000 USD)=%{marker.size}",
         "ids": [
          "Luxembourg"
         ],
         "legendgroup": "Country=Luxembourg",
         "marker": {
          "color": "#FFA15A",
          "size": [
           297600
          ],
          "sizemode": "area",
          "sizeref": 11638.6725,
          "symbol": "circle"
         },
         "mode": "markers",
         "name": "Country=Luxembourg",
         "showlegend": true,
         "type": "scatter",
         "x": [
          106018.492790674
         ],
         "xaxis": "x",
         "y": [
          11.646090534979423
         ],
         "yaxis": "y"
        },
        {
         "hoverlabel": {
          "namelength": 0
         },
         "hovertemplate": "Country=Malaysia<br>Year=2007<br>GDP=%{x}<br>Planted Forest(%)=%{y}<br>Net Export(1000 USD)=%{marker.size}",
         "ids": [
          "Malaysia"
         ],
         "legendgroup": "Country=Malaysia",
         "marker": {
          "color": "#FF6692",
          "size": [
           1968018
          ],
          "sizemode": "area",
          "sizeref": 11638.6725,
          "symbol": "circle"
         },
         "mode": "markers",
         "name": "Country=Malaysia",
         "showlegend": true,
         "type": "scatter",
         "x": [
          7243.45598744703
         ],
         "xaxis": "x",
         "y": [
          4.848577081113985
         ],
         "yaxis": "y"
        },
        {
         "hoverlabel": {
          "namelength": 0
         },
         "hovertemplate": "Country=Myanmar<br>Year=2007<br>GDP=%{x}<br>Planted Forest(%)=%{y}<br>Net Export(1000 USD)=%{marker.size}",
         "ids": [
          "Myanmar"
         ],
         "legendgroup": "Country=Myanmar",
         "marker": {
          "color": "#B6E880",
          "size": [
           345738
          ],
          "sizemode": "area",
          "sizeref": 11638.6725,
          "symbol": "circle"
         },
         "mode": "markers",
         "name": "Country=Myanmar",
         "showlegend": true,
         "type": "scatter",
         "x": [
          406.72868915225195
         ],
         "xaxis": "x",
         "y": [
          1.3841963520626759
         ],
         "yaxis": "y"
        },
        {
         "hoverlabel": {
          "namelength": 0
         },
         "hovertemplate": "Country=New Zealand<br>Year=2007<br>GDP=%{x}<br>Planted Forest(%)=%{y}<br>Net Export(1000 USD)=%{marker.size}",
         "ids": [
          "New Zealand"
         ],
         "legendgroup": "Country=New Zealand",
         "marker": {
          "color": "#FF97FF",
          "size": [
           1406610
          ],
          "sizemode": "area",
          "sizeref": 11638.6725,
          "symbol": "circle"
         },
         "mode": "markers",
         "name": "Country=New Zealand",
         "showlegend": true,
         "type": "scatter",
         "x": [
          32510.082699939197
         ],
         "xaxis": "x",
         "y": [
          7.963996809843909
         ],
         "yaxis": "y"
        },
        {
         "hoverlabel": {
          "namelength": 0
         },
         "hovertemplate": "Country=Norway<br>Year=2007<br>GDP=%{x}<br>Planted Forest(%)=%{y}<br>Net Export(1000 USD)=%{marker.size}",
         "ids": [
          "Norway"
         ],
         "legendgroup": "Country=Norway",
         "marker": {
          "color": "#FECB52",
          "size": [
           569490
          ],
          "sizemode": "area",
          "sizeref": 11638.6725,
          "symbol": "circle"
         },
         "mode": "markers",
         "name": "Country=Norway",
         "showlegend": true,
         "type": "scatter",
         "x": [
          85170.86216621571
         ],
         "xaxis": "x",
         "y": [
          3.902049041188904
         ],
         "yaxis": "y"
        },
        {
         "hoverlabel": {
          "namelength": 0
         },
         "hovertemplate": "Country=Papua New Guinea<br>Year=2007<br>GDP=%{x}<br>Planted Forest(%)=%{y}<br>Net Export(1000 USD)=%{marker.size}",
         "ids": [
          "Papua New Guinea"
         ],
         "legendgroup": "Country=Papua New Guinea",
         "marker": {
          "color": "#636efa",
          "size": [
           101956
          ],
          "sizemode": "area",
          "sizeref": 11638.6725,
          "symbol": "circle"
         },
         "mode": "markers",
         "name": "Country=Papua New Guinea",
         "showlegend": true,
         "type": "scatter",
         "x": [
          1401.9316586545
         ],
         "xaxis": "x",
         "y": [
          0
         ],
         "yaxis": "y"
        },
        {
         "hoverlabel": {
          "namelength": 0
         },
         "hovertemplate": "Country=Portugal<br>Year=2007<br>GDP=%{x}<br>Planted Forest(%)=%{y}<br>Net Export(1000 USD)=%{marker.size}",
         "ids": [
          "Portugal"
         ],
         "legendgroup": "Country=Portugal",
         "marker": {
          "color": "#EF553B",
          "size": [
           353167
          ],
          "sizemode": "area",
          "sizeref": 11638.6725,
          "symbol": "circle"
         },
         "mode": "markers",
         "name": "Country=Portugal",
         "showlegend": true,
         "type": "scatter",
         "x": [
          22780.0584505513
         ],
         "xaxis": "x",
         "y": [
          9.286104733792499
         ],
         "yaxis": "y"
        },
        {
         "hoverlabel": {
          "namelength": 0
         },
         "hovertemplate": "Country=Romania<br>Year=2007<br>GDP=%{x}<br>Planted Forest(%)=%{y}<br>Net Export(1000 USD)=%{marker.size}",
         "ids": [
          "Romania"
         ],
         "legendgroup": "Country=Romania",
         "marker": {
          "color": "#00cc96",
          "size": [
           160913
          ],
          "sizemode": "area",
          "sizeref": 11638.6725,
          "symbol": "circle"
         },
         "mode": "markers",
         "name": "Country=Romania",
         "showlegend": true,
         "type": "scatter",
         "x": [
          8360.16632132485
         ],
         "xaxis": "x",
         "y": [
          2.3228500587237377
         ],
         "yaxis": "y"
        },
        {
         "hoverlabel": {
          "namelength": 0
         },
         "hovertemplate": "Country=Russian Federation<br>Year=2007<br>GDP=%{x}<br>Planted Forest(%)=%{y}<br>Net Export(1000 USD)=%{marker.size}",
         "ids": [
          "Russian Federation"
         ],
         "legendgroup": "Country=Russian Federation",
         "marker": {
          "color": "#ab63fa",
          "size": [
           5494154
          ],
          "sizemode": "area",
          "sizeref": 11638.6725,
          "symbol": "circle"
         },
         "mode": "markers",
         "name": "Country=Russian Federation",
         "showlegend": true,
         "type": "scatter",
         "x": [
          9101.25670609495
         ],
         "xaxis": "x",
         "y": [
          1.1004363239372466
         ],
         "yaxis": "y"
        },
        {
         "hoverlabel": {
          "namelength": 0
         },
         "hovertemplate": "Country=Slovakia<br>Year=2007<br>GDP=%{x}<br>Planted Forest(%)=%{y}<br>Net Export(1000 USD)=%{marker.size}",
         "ids": [
          "Slovakia"
         ],
         "legendgroup": "Country=Slovakia",
         "marker": {
          "color": "#19d3f3",
          "size": [
           501211
          ],
          "sizemode": "area",
          "sizeref": 11638.6725,
          "symbol": "circle"
         },
         "mode": "markers",
         "name": "Country=Slovakia",
         "showlegend": true,
         "type": "scatter",
         "x": [
          16057.7331439028
         ],
         "xaxis": "x",
         "y": [
          20.037422037422036
         ],
         "yaxis": "y"
        },
        {
         "hoverlabel": {
          "namelength": 0
         },
         "hovertemplate": "Country=Slovenia<br>Year=2007<br>GDP=%{x}<br>Planted Forest(%)=%{y}<br>Net Export(1000 USD)=%{marker.size}",
         "ids": [
          "Slovenia"
         ],
         "legendgroup": "Country=Slovenia",
         "marker": {
          "color": "#FF6692",
          "size": [
           126781
          ],
          "sizemode": "area",
          "sizeref": 11638.6725,
          "symbol": "circle"
         },
         "mode": "markers",
         "name": "Country=Slovenia",
         "showlegend": true,
         "type": "scatter",
         "x": [
          23841.317919074398
         ],
         "xaxis": "x",
         "y": [
          1.737835153922542
         ],
         "yaxis": "y"
        },
        {
         "hoverlabel": {
          "namelength": 0
         },
         "hovertemplate": "Country=Solomon Islands<br>Year=2007<br>GDP=%{x}<br>Planted Forest(%)=%{y}<br>Net Export(1000 USD)=%{marker.size}",
         "ids": [
          "Solomon Islands"
         ],
         "legendgroup": "Country=Solomon Islands",
         "marker": {
          "color": "#B6E880",
          "size": [
           35147
          ],
          "sizemode": "area",
          "sizeref": 11638.6725,
          "symbol": "circle"
         },
         "mode": "markers",
         "name": "Country=Solomon Islands",
         "showlegend": true,
         "type": "scatter",
         "x": [
          1048.6500145484301
         ],
         "xaxis": "x",
         "y": [
          0.961057520543051
         ],
         "yaxis": "y"
        },
        {
         "hoverlabel": {
          "namelength": 0
         },
         "hovertemplate": "Country=Somalia<br>Year=2007<br>GDP=%{x}<br>Planted Forest(%)=%{y}<br>Net Export(1000 USD)=%{marker.size}",
         "ids": [
          "Somalia"
         ],
         "legendgroup": "Country=Somalia",
         "marker": {
          "color": "#FF97FF",
          "size": [
           6589
          ],
          "sizemode": "area",
          "sizeref": 11638.6725,
          "symbol": "circle"
         },
         "mode": "markers",
         "name": "Country=Somalia",
         "showlegend": true,
         "type": "scatter",
         "x": [
          null
         ],
         "xaxis": "x",
         "y": [
          0.004782095833200497
         ],
         "yaxis": "y"
        },
        {
         "hoverlabel": {
          "namelength": 0
         },
         "hovertemplate": "Country=South Africa<br>Year=2007<br>GDP=%{x}<br>Planted Forest(%)=%{y}<br>Net Export(1000 USD)=%{marker.size}",
         "ids": [
          "South Africa"
         ],
         "legendgroup": "Country=South Africa",
         "marker": {
          "color": "#FECB52",
          "size": [
           340885
          ],
          "sizemode": "area",
          "sizeref": 11638.6725,
          "symbol": "circle"
         },
         "mode": "markers",
         "name": "Country=South Africa",
         "showlegend": true,
         "type": "scatter",
         "x": [
          6095.65272073432
         ],
         "xaxis": "x",
         "y": [
          1.4468835783000438
         ],
         "yaxis": "y"
        },
        {
         "hoverlabel": {
          "namelength": 0
         },
         "hovertemplate": "Country=Sweden<br>Year=2007<br>GDP=%{x}<br>Planted Forest(%)=%{y}<br>Net Export(1000 USD)=%{marker.size}",
         "ids": [
          "Sweden"
         ],
         "legendgroup": "Country=Sweden",
         "marker": {
          "color": "#EF553B",
          "size": [
           13271647
          ],
          "sizemode": "area",
          "sizeref": 11638.6725,
          "symbol": "circle"
         },
         "mode": "markers",
         "name": "Country=Sweden",
         "showlegend": true,
         "type": "scatter",
         "x": [
          53387.94062276
         ],
         "xaxis": "x",
         "y": [
          28.47638543646732
         ],
         "yaxis": "y"
        },
        {
         "hoverlabel": {
          "namelength": 0
         },
         "hovertemplate": "Country=Uruguay<br>Year=2007<br>GDP=%{x}<br>Planted Forest(%)=%{y}<br>Net Export(1000 USD)=%{marker.size}",
         "ids": [
          "Uruguay"
         ],
         "legendgroup": "Country=Uruguay",
         "marker": {
          "color": "#19d3f3",
          "size": [
           102242
          ],
          "sizemode": "area",
          "sizeref": 11638.6725,
          "symbol": "circle"
         },
         "mode": "markers",
         "name": "Country=Uruguay",
         "showlegend": true,
         "type": "scatter",
         "x": [
          7026.511491206179
         ],
         "xaxis": "x",
         "y": [
          4.918295051994058
         ],
         "yaxis": "y"
        }
       ],
       "frames": [
        {
         "data": [
          {
           "hoverlabel": {
            "namelength": 0
           },
           "hovertemplate": "Country=Austria<br>Year=2007<br>GDP=%{x}<br>Planted Forest(%)=%{y}<br>Net Export(1000 USD)=%{marker.size}",
           "ids": [
            "Austria"
           ],
           "legendgroup": "Country=Austria",
           "marker": {
            "color": "#636efa",
            "size": [
             3890724
            ],
            "sizemode": "area",
            "sizeref": 11638.6725,
            "symbol": "circle"
           },
           "mode": "markers",
           "name": "Country=Austria",
           "showlegend": true,
           "type": "scatter",
           "x": [
            46855.7717452095
           ],
           "xaxis": "x",
           "y": [
            20.56722129380707
           ],
           "yaxis": "y"
          },
          {
           "hoverlabel": {
            "namelength": 0
           },
           "hovertemplate": "Country=Belarus<br>Year=2007<br>GDP=%{x}<br>Planted Forest(%)=%{y}<br>Net Export(1000 USD)=%{marker.size}",
           "ids": [
            "Belarus"
           ],
           "legendgroup": "Country=Belarus",
           "marker": {
            "color": "#EF553B",
            "size": [
             17376
            ],
            "sizemode": "area",
            "sizeref": 11638.6725,
            "symbol": "circle"
           },
           "mode": "markers",
           "name": "Country=Belarus",
           "showlegend": true,
           "type": "scatter",
           "x": [
            4735.657607939989
           ],
           "xaxis": "x",
           "y": [
            8.85657959586003
           ],
           "yaxis": "y"
          },
          {
           "hoverlabel": {
            "namelength": 0
           },
           "hovertemplate": "Country=Belgium<br>Year=2007<br>GDP=%{x}<br>Planted Forest(%)=%{y}<br>Net Export(1000 USD)=%{marker.size}",
           "ids": [
            "Belgium"
           ],
           "legendgroup": "Country=Belgium",
           "marker": {
            "color": "#00cc96",
            "size": [
             536939
            ],
            "sizemode": "area",
            "sizeref": 11638.6725,
            "symbol": "circle"
           },
           "mode": "markers",
           "name": "Country=Belgium",
           "showlegend": true,
           "type": "scatter",
           "x": [
            44403.7668991523
           ],
           "xaxis": "x",
           "y": [
            13.110303830911493
           ],
           "yaxis": "y"
          },
          {
           "hoverlabel": {
            "namelength": 0
           },
           "hovertemplate": "Country=Benin<br>Year=2007<br>GDP=%{x}<br>Planted Forest(%)=%{y}<br>Net Export(1000 USD)=%{marker.size}",
           "ids": [
            "Benin"
           ],
           "legendgroup": "Country=Benin",
           "marker": {
            "color": "#FFA15A",
            "size": [
             856
            ],
            "sizemode": "area",
            "sizeref": 11638.6725,
            "symbol": "circle"
           },
           "mode": "markers",
           "name": "Country=Benin",
           "showlegend": true,
           "type": "scatter",
           "x": [
            706.053374882171
           ],
           "xaxis": "x",
           "y": [
            0.14721532458318554
           ],
           "yaxis": "y"
          },
          {
           "hoverlabel": {
            "namelength": 0
           },
           "hovertemplate": "Country=Bhutan<br>Year=2007<br>GDP=%{x}<br>Planted Forest(%)=%{y}<br>Net Export(1000 USD)=%{marker.size}",
           "ids": [
            "Bhutan"
           ],
           "legendgroup": "Country=Bhutan",
           "marker": {
            "color": "#19d3f3",
            "size": [
             4221
            ],
            "sizemode": "area",
            "sizeref": 11638.6725,
            "symbol": "circle"
           },
           "mode": "markers",
           "name": "Country=Bhutan",
           "showlegend": true,
           "type": "scatter",
           "x": [
            1798.96974025707
           ],
           "xaxis": "x",
           "y": [
            0.5561822808720519
           ],
           "yaxis": "y"
          },
          {
           "hoverlabel": {
            "namelength": 0
           },
           "hovertemplate": "Country=Bosnia and Herzegovina<br>Year=2007<br>GDP=%{x}<br>Planted Forest(%)=%{y}<br>Net Export(1000 USD)=%{marker.size}",
           "ids": [
            "Bosnia and Herzegovina"
           ],
           "legendgroup": "Country=Bosnia and Herzegovina",
           "marker": {
            "color": "#FF6692",
            "size": [
             76850
            ],
            "sizemode": "area",
            "sizeref": 11638.6725,
            "symbol": "circle"
           },
           "mode": "markers",
           "name": "Country=Bosnia and Herzegovina",
           "showlegend": true,
           "type": "scatter",
           "x": [
            4193.3736517833
           ],
           "xaxis": "x",
           "y": [
            19.51171875
           ],
           "yaxis": "y"
          },
          {
           "hoverlabel": {
            "namelength": 0
           },
           "hovertemplate": "Country=Brazil<br>Year=2007<br>GDP=%{x}<br>Planted Forest(%)=%{y}<br>Net Export(1000 USD)=%{marker.size}",
           "ids": [
            "Brazil"
           ],
           "legendgroup": "Country=Brazil",
           "marker": {
            "color": "#B6E880",
            "size": [
             5153702
            ],
            "sizemode": "area",
            "sizeref": 11638.6725,
            "symbol": "circle"
           },
           "mode": "markers",
           "name": "Country=Brazil",
           "showlegend": true,
           "type": "scatter",
           "x": [
            7348.03079355548
           ],
           "xaxis": "x",
           "y": [
            0.7371496529132079
           ],
           "yaxis": "y"
          },
          {
           "hoverlabel": {
            "namelength": 0
           },
           "hovertemplate": "Country=Cameroon<br>Year=2007<br>GDP=%{x}<br>Planted Forest(%)=%{y}<br>Net Export(1000 USD)=%{marker.size}",
           "ids": [
            "Cameroon"
           ],
           "legendgroup": "Country=Cameroon",
           "marker": {
            "color": "#636efa",
            "size": [
             447093
            ],
            "sizemode": "area",
            "sizeref": 11638.6725,
            "symbol": "circle"
           },
           "mode": "markers",
           "name": "Country=Cameroon",
           "showlegend": true,
           "type": "scatter",
           "x": [
            1194.06985039841
           ],
           "xaxis": "x",
           "y": [
            0.03418586448350998
           ],
           "yaxis": "y"
          },
          {
           "hoverlabel": {
            "namelength": 0
           },
           "hovertemplate": "Country=Canada<br>Year=2007<br>GDP=%{x}<br>Planted Forest(%)=%{y}<br>Net Export(1000 USD)=%{marker.size}",
           "ids": [
            "Canada"
           ],
           "legendgroup": "Country=Canada",
           "marker": {
            "color": "#EF553B",
            "size": [
             17572346
            ],
            "sizemode": "area",
            "sizeref": 11638.6725,
            "symbol": "circle"
           },
           "mode": "markers",
           "name": "Country=Canada",
           "showlegend": true,
           "type": "scatter",
           "x": [
            44543.0410359004
           ],
           "xaxis": "x",
           "y": [
            1.4071578111423788
           ],
           "yaxis": "y"
          },
          {
           "hoverlabel": {
            "namelength": 0
           },
           "hovertemplate": "Country=Central African Republic<br>Year=2007<br>GDP=%{x}<br>Planted Forest(%)=%{y}<br>Net Export(1000 USD)=%{marker.size}",
           "ids": [
            "Central African Republic"
           ],
           "legendgroup": "Country=Central African Republic",
           "marker": {
            "color": "#00cc96",
            "size": [
             49334
            ],
            "sizemode": "area",
            "sizeref": 11638.6725,
            "symbol": "circle"
           },
           "mode": "markers",
           "name": "Country=Central African Republic",
           "showlegend": true,
           "type": "scatter",
           "x": [
            404.373964962741
           ],
           "xaxis": "x",
           "y": [
            0.003210375935021991
           ],
           "yaxis": "y"
          },
          {
           "hoverlabel": {
            "namelength": 0
           },
           "hovertemplate": "Country=Chile<br>Year=2007<br>GDP=%{x}<br>Planted Forest(%)=%{y}<br>Net Export(1000 USD)=%{marker.size}",
           "ids": [
            "Chile"
           ],
           "legendgroup": "Country=Chile",
           "marker": {
            "color": "#FFA15A",
            "size": [
             2578070
            ],
            "sizemode": "area",
            "sizeref": 11638.6725,
            "symbol": "circle"
           },
           "mode": "markers",
           "name": "Country=Chile",
           "showlegend": true,
           "type": "scatter",
           "x": [
            10502.3545202737
           ],
           "xaxis": "x",
           "y": [
            2.9472840442644035
           ],
           "yaxis": "y"
          },
          {
           "hoverlabel": {
            "namelength": 0
           },
           "hovertemplate": "Country=Congo<br>Year=2007<br>GDP=%{x}<br>Planted Forest(%)=%{y}<br>Net Export(1000 USD)=%{marker.size}",
           "ids": [
            "Congo"
           ],
           "legendgroup": "Country=Congo",
           "marker": {
            "color": "#19d3f3",
            "size": [
             101692
            ],
            "sizemode": "area",
            "sizeref": 11638.6725,
            "symbol": "circle"
           },
           "mode": "markers",
           "name": "Country=Congo",
           "showlegend": true,
           "type": "scatter",
           "x": [
            2165.74575859571
           ],
           "xaxis": "x",
           "y": [
            0.17745241581259152
           ],
           "yaxis": "y"
          },
          {
           "hoverlabel": {
            "namelength": 0
           },
           "hovertemplate": "Country=Czechia<br>Year=2007<br>GDP=%{x}<br>Planted Forest(%)=%{y}<br>Net Export(1000 USD)=%{marker.size}",
           "ids": [
            "Czechia"
           ],
           "legendgroup": "Country=Czechia",
           "marker": {
            "color": "#B6E880",
            "size": [
             609077
            ],
            "sizemode": "area",
            "sizeref": 11638.6725,
            "symbol": "circle"
           },
           "mode": "markers",
           "name": "Country=Czechia",
           "showlegend": true,
           "type": "scatter",
           "x": [
            18373.6489976913
           ],
           "xaxis": "x",
           "y": [
            34.029773462783176
           ],
           "yaxis": "y"
          },
          {
           "hoverlabel": {
            "namelength": 0
           },
           "hovertemplate": "Country=Democratic Republic of the Congo<br>Year=2007<br>GDP=%{x}<br>Planted Forest(%)=%{y}<br>Net Export(1000 USD)=%{marker.size}",
           "ids": [
            "Democratic Republic of the Congo"
           ],
           "legendgroup": "Country=Democratic Republic of the Congo",
           "marker": {
            "color": "#FF97FF",
            "size": [
             138103
            ],
            "sizemode": "area",
            "sizeref": 11638.6725,
            "symbol": "circle"
           },
           "mode": "markers",
           "name": "Country=Democratic Republic of the Congo",
           "showlegend": true,
           "type": "scatter",
           "x": [
            286.330492065307
           ],
           "xaxis": "x",
           "y": [
            0.025509627048366817
           ],
           "yaxis": "y"
          },
          {
           "hoverlabel": {
            "namelength": 0
           },
           "hovertemplate": "Country=Equatorial Guinea<br>Year=2007<br>GDP=%{x}<br>Planted Forest(%)=%{y}<br>Net Export(1000 USD)=%{marker.size}",
           "ids": [
            "Equatorial Guinea"
           ],
           "legendgroup": "Country=Equatorial Guinea",
           "marker": {
            "color": "#636efa",
            "size": [
             47000
            ],
            "sizemode": "area",
            "sizeref": 11638.6725,
            "symbol": "circle"
           },
           "mode": "markers",
           "name": "Country=Equatorial Guinea",
           "showlegend": true,
           "type": "scatter",
           "x": [
            15908.3918313632
           ],
           "xaxis": "x",
           "y": [
            0.004456327985739751
           ],
           "yaxis": "y"
          },
          {
           "hoverlabel": {
            "namelength": 0
           },
           "hovertemplate": "Country=Estonia<br>Year=2007<br>GDP=%{x}<br>Planted Forest(%)=%{y}<br>Net Export(1000 USD)=%{marker.size}",
           "ids": [
            "Estonia"
           ],
           "legendgroup": "Country=Estonia",
           "marker": {
            "color": "#EF553B",
            "size": [
             173054
            ],
            "sizemode": "area",
            "sizeref": 11638.6725,
            "symbol": "circle"
           },
           "mode": "markers",
           "name": "Country=Estonia",
           "showlegend": true,
           "type": "scatter",
           "x": [
            16586.4052048847
           ],
           "xaxis": "x",
           "y": [
            4.133050247699929
           ],
           "yaxis": "y"
          },
          {
           "hoverlabel": {
            "namelength": 0
           },
           "hovertemplate": "Country=Finland<br>Year=2007<br>GDP=%{x}<br>Planted Forest(%)=%{y}<br>Net Export(1000 USD)=%{marker.size}",
           "ids": [
            "Finland"
           ],
           "legendgroup": "Country=Finland",
           "marker": {
            "color": "#ab63fa",
            "size": [
             10180842
            ],
            "sizemode": "area",
            "sizeref": 11638.6725,
            "symbol": "circle"
           },
           "mode": "markers",
           "name": "Country=Finland",
           "showlegend": true,
           "type": "scatter",
           "x": [
            48288.549097818606
           ],
           "xaxis": "x",
           "y": [
            20.555359926337598
           ],
           "yaxis": "y"
          },
          {
           "hoverlabel": {
            "namelength": 0
           },
           "hovertemplate": "Country=Gabon<br>Year=2007<br>GDP=%{x}<br>Planted Forest(%)=%{y}<br>Net Export(1000 USD)=%{marker.size}",
           "ids": [
            "Gabon"
           ],
           "legendgroup": "Country=Gabon",
           "marker": {
            "color": "#FFA15A",
            "size": [
             446496
            ],
            "sizemode": "area",
            "sizeref": 11638.6725,
            "symbol": "circle"
           },
           "mode": "markers",
           "name": "Country=Gabon",
           "showlegend": true,
           "type": "scatter",
           "x": [
            8447.0785912062
           ],
           "xaxis": "x",
           "y": [
            0.11642798928862498
           ],
           "yaxis": "y"
          },
          {
           "hoverlabel": {
            "namelength": 0
           },
           "hovertemplate": "Country=Germany<br>Year=2007<br>GDP=%{x}<br>Planted Forest(%)=%{y}<br>Net Export(1000 USD)=%{marker.size}",
           "ids": [
            "Germany"
           ],
           "legendgroup": "Country=Germany",
           "marker": {
            "color": "#19d3f3",
            "size": [
             3809450
            ],
            "sizemode": "area",
            "sizeref": 11638.6725,
            "symbol": "circle"
           },
           "mode": "markers",
           "name": "Country=Germany",
           "showlegend": true,
           "type": "scatter",
           "x": [
            41814.8190965222
           ],
           "xaxis": "x",
           "y": [
            15.151289184615827
           ],
           "yaxis": "y"
          },
          {
           "hoverlabel": {
            "namelength": 0
           },
           "hovertemplate": "Country=Ghana<br>Year=2007<br>GDP=%{x}<br>Planted Forest(%)=%{y}<br>Net Export(1000 USD)=%{marker.size}",
           "ids": [
            "Ghana"
           ],
           "legendgroup": "Country=Ghana",
           "marker": {
            "color": "#FF6692",
            "size": [
             272437
            ],
            "sizemode": "area",
            "sizeref": 11638.6725,
            "symbol": "circle"
           },
           "mode": "markers",
           "name": "Country=Ghana",
           "showlegend": true,
           "type": "scatter",
           "x": [
            1078.16050942235
           ],
           "xaxis": "x",
           "y": [
            0.8789663355893469
           ],
           "yaxis": "y"
          },
          {
           "hoverlabel": {
            "namelength": 0
           },
           "hovertemplate": "Country=Guinea<br>Year=2007<br>GDP=%{x}<br>Planted Forest(%)=%{y}<br>Net Export(1000 USD)=%{marker.size}",
           "ids": [
            "Guinea"
           ],
           "legendgroup": "Country=Guinea",
           "marker": {
            "color": "#B6E880",
            "size": [
             7016
            ],
            "sizemode": "area",
            "sizeref": 11638.6725,
            "symbol": "circle"
           },
           "mode": "markers",
           "name": "Country=Guinea",
           "showlegend": true,
           "type": "scatter",
           "x": [
            659.992722953488
           ],
           "xaxis": "x",
           "y": [
            0.35161972977372624
           ],
           "yaxis": "y"
          },
          {
           "hoverlabel": {
            "namelength": 0
           },
           "hovertemplate": "Country=Guyana<br>Year=2007<br>GDP=%{x}<br>Planted Forest(%)=%{y}<br>Net Export(1000 USD)=%{marker.size}",
           "ids": [
            "Guyana"
           ],
           "legendgroup": "Country=Guyana",
           "marker": {
            "color": "#FF97FF",
            "size": [
             25185
            ],
            "sizemode": "area",
            "sizeref": 11638.6725,
            "symbol": "circle"
           },
           "mode": "markers",
           "name": "Country=Guyana",
           "showlegend": true,
           "type": "scatter",
           "x": [
            2331.20034221863
           ],
           "xaxis": "x",
           "y": [
            0
           ],
           "yaxis": "y"
          },
          {
           "hoverlabel": {
            "namelength": 0
           },
           "hovertemplate": "Country=Indonesia<br>Year=2007<br>GDP=%{x}<br>Planted Forest(%)=%{y}<br>Net Export(1000 USD)=%{marker.size}",
           "ids": [
            "Indonesia"
           ],
           "legendgroup": "Country=Indonesia",
           "marker": {
            "color": "#FECB52",
            "size": [
             1885261
            ],
            "sizemode": "area",
            "sizeref": 11638.6725,
            "symbol": "circle"
           },
           "mode": "markers",
           "name": "Country=Indonesia",
           "showlegend": true,
           "type": "scatter",
           "x": [
            1860.00276310682
           ],
           "xaxis": "x",
           "y": [
            2.6035979840690673
           ],
           "yaxis": "y"
          },
          {
           "hoverlabel": {
            "namelength": 0
           },
           "hovertemplate": "Country=Lao People's Democratic Republic<br>Year=2007<br>GDP=%{x}<br>Planted Forest(%)=%{y}<br>Net Export(1000 USD)=%{marker.size}",
           "ids": [
            "Lao People's Democratic Republic"
           ],
           "legendgroup": "Country=Lao People's Democratic Republic",
           "marker": {
            "color": "#636efa",
            "size": [
             16133
            ],
            "sizemode": "area",
            "sizeref": 11638.6725,
            "symbol": "circle"
           },
           "mode": "markers",
           "name": "Country=Lao People's Democratic Republic",
           "showlegend": true,
           "type": "scatter",
           "x": [
            710.344815049449
           ],
           "xaxis": "x",
           "y": [
            0.19129116117850953
           ],
           "yaxis": "y"
          },
          {
           "hoverlabel": {
            "namelength": 0
           },
           "hovertemplate": "Country=Latvia<br>Year=2007<br>GDP=%{x}<br>Planted Forest(%)=%{y}<br>Net Export(1000 USD)=%{marker.size}",
           "ids": [
            "Latvia"
           ],
           "legendgroup": "Country=Latvia",
           "marker": {
            "color": "#EF553B",
            "size": [
             756337
            ],
            "sizemode": "area",
            "sizeref": 11638.6725,
            "symbol": "circle"
           },
           "mode": "markers",
           "name": "Country=Latvia",
           "showlegend": true,
           "type": "scatter",
           "x": [
            14044.0158891923
           ],
           "xaxis": "x",
           "y": [
            10.70486848028812
           ],
           "yaxis": "y"
          },
          {
           "hoverlabel": {
            "namelength": 0
           },
           "hovertemplate": "Country=Luxembourg<br>Year=2007<br>GDP=%{x}<br>Planted Forest(%)=%{y}<br>Net Export(1000 USD)=%{marker.size}",
           "ids": [
            "Luxembourg"
           ],
           "legendgroup": "Country=Luxembourg",
           "marker": {
            "color": "#FFA15A",
            "size": [
             297600
            ],
            "sizemode": "area",
            "sizeref": 11638.6725,
            "symbol": "circle"
           },
           "mode": "markers",
           "name": "Country=Luxembourg",
           "showlegend": true,
           "type": "scatter",
           "x": [
            106018.492790674
           ],
           "xaxis": "x",
           "y": [
            11.646090534979423
           ],
           "yaxis": "y"
          },
          {
           "hoverlabel": {
            "namelength": 0
           },
           "hovertemplate": "Country=Malaysia<br>Year=2007<br>GDP=%{x}<br>Planted Forest(%)=%{y}<br>Net Export(1000 USD)=%{marker.size}",
           "ids": [
            "Malaysia"
           ],
           "legendgroup": "Country=Malaysia",
           "marker": {
            "color": "#FF6692",
            "size": [
             1968018
            ],
            "sizemode": "area",
            "sizeref": 11638.6725,
            "symbol": "circle"
           },
           "mode": "markers",
           "name": "Country=Malaysia",
           "showlegend": true,
           "type": "scatter",
           "x": [
            7243.45598744703
           ],
           "xaxis": "x",
           "y": [
            4.848577081113985
           ],
           "yaxis": "y"
          },
          {
           "hoverlabel": {
            "namelength": 0
           },
           "hovertemplate": "Country=Myanmar<br>Year=2007<br>GDP=%{x}<br>Planted Forest(%)=%{y}<br>Net Export(1000 USD)=%{marker.size}",
           "ids": [
            "Myanmar"
           ],
           "legendgroup": "Country=Myanmar",
           "marker": {
            "color": "#B6E880",
            "size": [
             345738
            ],
            "sizemode": "area",
            "sizeref": 11638.6725,
            "symbol": "circle"
           },
           "mode": "markers",
           "name": "Country=Myanmar",
           "showlegend": true,
           "type": "scatter",
           "x": [
            406.72868915225195
           ],
           "xaxis": "x",
           "y": [
            1.3841963520626759
           ],
           "yaxis": "y"
          },
          {
           "hoverlabel": {
            "namelength": 0
           },
           "hovertemplate": "Country=New Zealand<br>Year=2007<br>GDP=%{x}<br>Planted Forest(%)=%{y}<br>Net Export(1000 USD)=%{marker.size}",
           "ids": [
            "New Zealand"
           ],
           "legendgroup": "Country=New Zealand",
           "marker": {
            "color": "#FF97FF",
            "size": [
             1406610
            ],
            "sizemode": "area",
            "sizeref": 11638.6725,
            "symbol": "circle"
           },
           "mode": "markers",
           "name": "Country=New Zealand",
           "showlegend": true,
           "type": "scatter",
           "x": [
            32510.082699939197
           ],
           "xaxis": "x",
           "y": [
            7.963996809843909
           ],
           "yaxis": "y"
          },
          {
           "hoverlabel": {
            "namelength": 0
           },
           "hovertemplate": "Country=Norway<br>Year=2007<br>GDP=%{x}<br>Planted Forest(%)=%{y}<br>Net Export(1000 USD)=%{marker.size}",
           "ids": [
            "Norway"
           ],
           "legendgroup": "Country=Norway",
           "marker": {
            "color": "#FECB52",
            "size": [
             569490
            ],
            "sizemode": "area",
            "sizeref": 11638.6725,
            "symbol": "circle"
           },
           "mode": "markers",
           "name": "Country=Norway",
           "showlegend": true,
           "type": "scatter",
           "x": [
            85170.86216621571
           ],
           "xaxis": "x",
           "y": [
            3.902049041188904
           ],
           "yaxis": "y"
          },
          {
           "hoverlabel": {
            "namelength": 0
           },
           "hovertemplate": "Country=Papua New Guinea<br>Year=2007<br>GDP=%{x}<br>Planted Forest(%)=%{y}<br>Net Export(1000 USD)=%{marker.size}",
           "ids": [
            "Papua New Guinea"
           ],
           "legendgroup": "Country=Papua New Guinea",
           "marker": {
            "color": "#636efa",
            "size": [
             101956
            ],
            "sizemode": "area",
            "sizeref": 11638.6725,
            "symbol": "circle"
           },
           "mode": "markers",
           "name": "Country=Papua New Guinea",
           "showlegend": true,
           "type": "scatter",
           "x": [
            1401.9316586545
           ],
           "xaxis": "x",
           "y": [
            0
           ],
           "yaxis": "y"
          },
          {
           "hoverlabel": {
            "namelength": 0
           },
           "hovertemplate": "Country=Portugal<br>Year=2007<br>GDP=%{x}<br>Planted Forest(%)=%{y}<br>Net Export(1000 USD)=%{marker.size}",
           "ids": [
            "Portugal"
           ],
           "legendgroup": "Country=Portugal",
           "marker": {
            "color": "#EF553B",
            "size": [
             353167
            ],
            "sizemode": "area",
            "sizeref": 11638.6725,
            "symbol": "circle"
           },
           "mode": "markers",
           "name": "Country=Portugal",
           "showlegend": true,
           "type": "scatter",
           "x": [
            22780.0584505513
           ],
           "xaxis": "x",
           "y": [
            9.286104733792499
           ],
           "yaxis": "y"
          },
          {
           "hoverlabel": {
            "namelength": 0
           },
           "hovertemplate": "Country=Romania<br>Year=2007<br>GDP=%{x}<br>Planted Forest(%)=%{y}<br>Net Export(1000 USD)=%{marker.size}",
           "ids": [
            "Romania"
           ],
           "legendgroup": "Country=Romania",
           "marker": {
            "color": "#00cc96",
            "size": [
             160913
            ],
            "sizemode": "area",
            "sizeref": 11638.6725,
            "symbol": "circle"
           },
           "mode": "markers",
           "name": "Country=Romania",
           "showlegend": true,
           "type": "scatter",
           "x": [
            8360.16632132485
           ],
           "xaxis": "x",
           "y": [
            2.3228500587237377
           ],
           "yaxis": "y"
          },
          {
           "hoverlabel": {
            "namelength": 0
           },
           "hovertemplate": "Country=Russian Federation<br>Year=2007<br>GDP=%{x}<br>Planted Forest(%)=%{y}<br>Net Export(1000 USD)=%{marker.size}",
           "ids": [
            "Russian Federation"
           ],
           "legendgroup": "Country=Russian Federation",
           "marker": {
            "color": "#ab63fa",
            "size": [
             5494154
            ],
            "sizemode": "area",
            "sizeref": 11638.6725,
            "symbol": "circle"
           },
           "mode": "markers",
           "name": "Country=Russian Federation",
           "showlegend": true,
           "type": "scatter",
           "x": [
            9101.25670609495
           ],
           "xaxis": "x",
           "y": [
            1.1004363239372466
           ],
           "yaxis": "y"
          },
          {
           "hoverlabel": {
            "namelength": 0
           },
           "hovertemplate": "Country=Slovakia<br>Year=2007<br>GDP=%{x}<br>Planted Forest(%)=%{y}<br>Net Export(1000 USD)=%{marker.size}",
           "ids": [
            "Slovakia"
           ],
           "legendgroup": "Country=Slovakia",
           "marker": {
            "color": "#19d3f3",
            "size": [
             501211
            ],
            "sizemode": "area",
            "sizeref": 11638.6725,
            "symbol": "circle"
           },
           "mode": "markers",
           "name": "Country=Slovakia",
           "showlegend": true,
           "type": "scatter",
           "x": [
            16057.7331439028
           ],
           "xaxis": "x",
           "y": [
            20.037422037422036
           ],
           "yaxis": "y"
          },
          {
           "hoverlabel": {
            "namelength": 0
           },
           "hovertemplate": "Country=Slovenia<br>Year=2007<br>GDP=%{x}<br>Planted Forest(%)=%{y}<br>Net Export(1000 USD)=%{marker.size}",
           "ids": [
            "Slovenia"
           ],
           "legendgroup": "Country=Slovenia",
           "marker": {
            "color": "#FF6692",
            "size": [
             126781
            ],
            "sizemode": "area",
            "sizeref": 11638.6725,
            "symbol": "circle"
           },
           "mode": "markers",
           "name": "Country=Slovenia",
           "showlegend": true,
           "type": "scatter",
           "x": [
            23841.317919074398
           ],
           "xaxis": "x",
           "y": [
            1.737835153922542
           ],
           "yaxis": "y"
          },
          {
           "hoverlabel": {
            "namelength": 0
           },
           "hovertemplate": "Country=Solomon Islands<br>Year=2007<br>GDP=%{x}<br>Planted Forest(%)=%{y}<br>Net Export(1000 USD)=%{marker.size}",
           "ids": [
            "Solomon Islands"
           ],
           "legendgroup": "Country=Solomon Islands",
           "marker": {
            "color": "#B6E880",
            "size": [
             35147
            ],
            "sizemode": "area",
            "sizeref": 11638.6725,
            "symbol": "circle"
           },
           "mode": "markers",
           "name": "Country=Solomon Islands",
           "showlegend": true,
           "type": "scatter",
           "x": [
            1048.6500145484301
           ],
           "xaxis": "x",
           "y": [
            0.961057520543051
           ],
           "yaxis": "y"
          },
          {
           "hoverlabel": {
            "namelength": 0
           },
           "hovertemplate": "Country=Somalia<br>Year=2007<br>GDP=%{x}<br>Planted Forest(%)=%{y}<br>Net Export(1000 USD)=%{marker.size}",
           "ids": [
            "Somalia"
           ],
           "legendgroup": "Country=Somalia",
           "marker": {
            "color": "#FF97FF",
            "size": [
             6589
            ],
            "sizemode": "area",
            "sizeref": 11638.6725,
            "symbol": "circle"
           },
           "mode": "markers",
           "name": "Country=Somalia",
           "showlegend": true,
           "type": "scatter",
           "x": [
            null
           ],
           "xaxis": "x",
           "y": [
            0.004782095833200497
           ],
           "yaxis": "y"
          },
          {
           "hoverlabel": {
            "namelength": 0
           },
           "hovertemplate": "Country=South Africa<br>Year=2007<br>GDP=%{x}<br>Planted Forest(%)=%{y}<br>Net Export(1000 USD)=%{marker.size}",
           "ids": [
            "South Africa"
           ],
           "legendgroup": "Country=South Africa",
           "marker": {
            "color": "#FECB52",
            "size": [
             340885
            ],
            "sizemode": "area",
            "sizeref": 11638.6725,
            "symbol": "circle"
           },
           "mode": "markers",
           "name": "Country=South Africa",
           "showlegend": true,
           "type": "scatter",
           "x": [
            6095.65272073432
           ],
           "xaxis": "x",
           "y": [
            1.4468835783000438
           ],
           "yaxis": "y"
          },
          {
           "hoverlabel": {
            "namelength": 0
           },
           "hovertemplate": "Country=Sweden<br>Year=2007<br>GDP=%{x}<br>Planted Forest(%)=%{y}<br>Net Export(1000 USD)=%{marker.size}",
           "ids": [
            "Sweden"
           ],
           "legendgroup": "Country=Sweden",
           "marker": {
            "color": "#EF553B",
            "size": [
             13271647
            ],
            "sizemode": "area",
            "sizeref": 11638.6725,
            "symbol": "circle"
           },
           "mode": "markers",
           "name": "Country=Sweden",
           "showlegend": true,
           "type": "scatter",
           "x": [
            53387.94062276
           ],
           "xaxis": "x",
           "y": [
            28.47638543646732
           ],
           "yaxis": "y"
          },
          {
           "hoverlabel": {
            "namelength": 0
           },
           "hovertemplate": "Country=Uruguay<br>Year=2007<br>GDP=%{x}<br>Planted Forest(%)=%{y}<br>Net Export(1000 USD)=%{marker.size}",
           "ids": [
            "Uruguay"
           ],
           "legendgroup": "Country=Uruguay",
           "marker": {
            "color": "#19d3f3",
            "size": [
             102242
            ],
            "sizemode": "area",
            "sizeref": 11638.6725,
            "symbol": "circle"
           },
           "mode": "markers",
           "name": "Country=Uruguay",
           "showlegend": true,
           "type": "scatter",
           "x": [
            7026.511491206179
           ],
           "xaxis": "x",
           "y": [
            4.918295051994058
           ],
           "yaxis": "y"
          }
         ],
         "name": "2007"
        },
        {
         "data": [
          {
           "hoverlabel": {
            "namelength": 0
           },
           "hovertemplate": "Country=Austria<br>Year=2008<br>GDP=%{x}<br>Planted Forest(%)=%{y}<br>Net Export(1000 USD)=%{marker.size}",
           "ids": [
            "Austria"
           ],
           "legendgroup": "Country=Austria",
           "marker": {
            "color": "#636efa",
            "size": [
             3814837
            ],
            "sizemode": "area",
            "sizeref": 11638.6725,
            "symbol": "circle"
           },
           "mode": "markers",
           "name": "Country=Austria",
           "showlegend": true,
           "type": "scatter",
           "x": [
            51708.7657541758
           ],
           "xaxis": "x",
           "y": [
            20.557533483494396
           ],
           "yaxis": "y"
          },
          {
           "hoverlabel": {
            "namelength": 0
           },
           "hovertemplate": "Country=Belize<br>Year=2008<br>GDP=%{x}<br>Planted Forest(%)=%{y}<br>Net Export(1000 USD)=%{marker.size}",
           "ids": [
            "Belize"
           ],
           "legendgroup": "Country=Belize",
           "marker": {
            "color": "#ab63fa",
            "size": [
             17508
            ],
            "sizemode": "area",
            "sizeref": 11638.6725,
            "symbol": "circle"
           },
           "mode": "markers",
           "name": "Country=Belize",
           "showlegend": true,
           "type": "scatter",
           "x": [
            4460.63414411566
           ],
           "xaxis": "x",
           "y": [
            0.10346339324857519
           ],
           "yaxis": "y"
          },
          {
           "hoverlabel": {
            "namelength": 0
           },
           "hovertemplate": "Country=Benin<br>Year=2008<br>GDP=%{x}<br>Planted Forest(%)=%{y}<br>Net Export(1000 USD)=%{marker.size}",
           "ids": [
            "Benin"
           ],
           "legendgroup": "Country=Benin",
           "marker": {
            "color": "#FFA15A",
            "size": [
             1024
            ],
            "sizemode": "area",
            "sizeref": 11638.6725,
            "symbol": "circle"
           },
           "mode": "markers",
           "name": "Country=Benin",
           "showlegend": true,
           "type": "scatter",
           "x": [
            820.150878301122
           ],
           "xaxis": "x",
           "y": [
            0.15431003902092938
           ],
           "yaxis": "y"
          },
          {
           "hoverlabel": {
            "namelength": 0
           },
           "hovertemplate": "Country=Bhutan<br>Year=2008<br>GDP=%{x}<br>Planted Forest(%)=%{y}<br>Net Export(1000 USD)=%{marker.size}",
           "ids": [
            "Bhutan"
           ],
           "legendgroup": "Country=Bhutan",
           "marker": {
            "color": "#19d3f3",
            "size": [
             1161
            ],
            "sizemode": "area",
            "sizeref": 11638.6725,
            "symbol": "circle"
           },
           "mode": "markers",
           "name": "Country=Bhutan",
           "showlegend": true,
           "type": "scatter",
           "x": [
            1873.5973503845498
           ],
           "xaxis": "x",
           "y": [
            0.55880578219692
           ],
           "yaxis": "y"
          },
          {
           "hoverlabel": {
            "namelength": 0
           },
           "hovertemplate": "Country=Bosnia and Herzegovina<br>Year=2008<br>GDP=%{x}<br>Planted Forest(%)=%{y}<br>Net Export(1000 USD)=%{marker.size}",
           "ids": [
            "Bosnia and Herzegovina"
           ],
           "legendgroup": "Country=Bosnia and Herzegovina",
           "marker": {
            "color": "#FF6692",
            "size": [
             37976
            ],
            "sizemode": "area",
            "sizeref": 11638.6725,
            "symbol": "circle"
           },
           "mode": "markers",
           "name": "Country=Bosnia and Herzegovina",
           "showlegend": true,
           "type": "scatter",
           "x": [
            5090.93234464687
           ],
           "xaxis": "x",
           "y": [
            19.51171875
           ],
           "yaxis": "y"
          },
          {
           "hoverlabel": {
            "namelength": 0
           },
           "hovertemplate": "Country=Brazil<br>Year=2008<br>GDP=%{x}<br>Planted Forest(%)=%{y}<br>Net Export(1000 USD)=%{marker.size}",
           "ids": [
            "Brazil"
           ],
           "legendgroup": "Country=Brazil",
           "marker": {
            "color": "#B6E880",
            "size": [
             5512854
            ],
            "sizemode": "area",
            "sizeref": 11638.6725,
            "symbol": "circle"
           },
           "mode": "markers",
           "name": "Country=Brazil",
           "showlegend": true,
           "type": "scatter",
           "x": [
            8831.023116975659
           ],
           "xaxis": "x",
           "y": [
            0.7695252771549651
           ],
           "yaxis": "y"
          },
          {
           "hoverlabel": {
            "namelength": 0
           },
           "hovertemplate": "Country=Cameroon<br>Year=2008<br>GDP=%{x}<br>Planted Forest(%)=%{y}<br>Net Export(1000 USD)=%{marker.size}",
           "ids": [
            "Cameroon"
           ],
           "legendgroup": "Country=Cameroon",
           "marker": {
            "color": "#636efa",
            "size": [
             325439
            ],
            "sizemode": "area",
            "sizeref": 11638.6725,
            "symbol": "circle"
           },
           "mode": "markers",
           "name": "Country=Cameroon",
           "showlegend": true,
           "type": "scatter",
           "x": [
            1371.7467084913999
           ],
           "xaxis": "x",
           "y": [
            0.03668210953861776
           ],
           "yaxis": "y"
          },
          {
           "hoverlabel": {
            "namelength": 0
           },
           "hovertemplate": "Country=Canada<br>Year=2008<br>GDP=%{x}<br>Planted Forest(%)=%{y}<br>Net Export(1000 USD)=%{marker.size}",
           "ids": [
            "Canada"
           ],
           "legendgroup": "Country=Canada",
           "marker": {
            "color": "#EF553B",
            "size": [
             18621876
            ],
            "sizemode": "area",
            "sizeref": 11638.6725,
            "symbol": "circle"
           },
           "mode": "markers",
           "name": "Country=Canada",
           "showlegend": true,
           "type": "scatter",
           "x": [
            46594.450953528896
           ],
           "xaxis": "x",
           "y": [
            1.4576843241772153
           ],
           "yaxis": "y"
          },
          {
           "hoverlabel": {
            "namelength": 0
           },
           "hovertemplate": "Country=Central African Republic<br>Year=2008<br>GDP=%{x}<br>Planted Forest(%)=%{y}<br>Net Export(1000 USD)=%{marker.size}",
           "ids": [
            "Central African Republic"
           ],
           "legendgroup": "Country=Central African Republic",
           "marker": {
            "color": "#00cc96",
            "size": [
             40435
            ],
            "sizemode": "area",
            "sizeref": 11638.6725,
            "symbol": "circle"
           },
           "mode": "markers",
           "name": "Country=Central African Republic",
           "showlegend": true,
           "type": "scatter",
           "x": [
            464.561422116684
           ],
           "xaxis": "x",
           "y": [
            0.003210375935021991
           ],
           "yaxis": "y"
          },
          {
           "hoverlabel": {
            "namelength": 0
           },
           "hovertemplate": "Country=Chile<br>Year=2008<br>GDP=%{x}<br>Planted Forest(%)=%{y}<br>Net Export(1000 USD)=%{marker.size}",
           "ids": [
            "Chile"
           ],
           "legendgroup": "Country=Chile",
           "marker": {
            "color": "#FFA15A",
            "size": [
             3056401
            ],
            "sizemode": "area",
            "sizeref": 11638.6725,
            "symbol": "circle"
           },
           "mode": "markers",
           "name": "Country=Chile",
           "showlegend": true,
           "type": "scatter",
           "x": [
            10751.479674217
           ],
           "xaxis": "x",
           "y": [
            3.0336286804064923
           ],
           "yaxis": "y"
          },
          {
           "hoverlabel": {
            "namelength": 0
           },
           "hovertemplate": "Country=Congo<br>Year=2008<br>GDP=%{x}<br>Planted Forest(%)=%{y}<br>Net Export(1000 USD)=%{marker.size}",
           "ids": [
            "Congo"
           ],
           "legendgroup": "Country=Congo",
           "marker": {
            "color": "#19d3f3",
            "size": [
             115567
            ],
            "sizemode": "area",
            "sizeref": 11638.6725,
            "symbol": "circle"
           },
           "mode": "markers",
           "name": "Country=Congo",
           "showlegend": true,
           "type": "scatter",
           "x": [
            2956.2644070040697
           ],
           "xaxis": "x",
           "y": [
            0.19150805270863838
           ],
           "yaxis": "y"
          },
          {
           "hoverlabel": {
            "namelength": 0
           },
           "hovertemplate": "Country=Croatia<br>Year=2008<br>GDP=%{x}<br>Planted Forest(%)=%{y}<br>Net Export(1000 USD)=%{marker.size}",
           "ids": [
            "Croatia"
           ],
           "legendgroup": "Country=Croatia",
           "marker": {
            "color": "#FF6692",
            "size": [
             11131
            ],
            "sizemode": "area",
            "sizeref": 11638.6725,
            "symbol": "circle"
           },
           "mode": "markers",
           "name": "Country=Croatia",
           "showlegend": true,
           "type": "scatter",
           "x": [
            16357.1760634314
           ],
           "xaxis": "x",
           "y": [
            1.293781272337384
           ],
           "yaxis": "y"
          },
          {
           "hoverlabel": {
            "namelength": 0
           },
           "hovertemplate": "Country=Czechia<br>Year=2008<br>GDP=%{x}<br>Planted Forest(%)=%{y}<br>Net Export(1000 USD)=%{marker.size}",
           "ids": [
            "Czechia"
           ],
           "legendgroup": "Country=Czechia",
           "marker": {
            "color": "#B6E880",
            "size": [
             496052
            ],
            "sizemode": "area",
            "sizeref": 11638.6725,
            "symbol": "circle"
           },
           "mode": "markers",
           "name": "Country=Czechia",
           "showlegend": true,
           "type": "scatter",
           "x": [
            22698.853957260497
           ],
           "xaxis": "x",
           "y": [
            34.05177993527508
           ],
           "yaxis": "y"
          },
          {
           "hoverlabel": {
            "namelength": 0
           },
           "hovertemplate": "Country=Democratic Republic of the Congo<br>Year=2008<br>GDP=%{x}<br>Planted Forest(%)=%{y}<br>Net Export(1000 USD)=%{marker.size}",
           "ids": [
            "Democratic Republic of the Congo"
           ],
           "legendgroup": "Country=Democratic Republic of the Congo",
           "marker": {
            "color": "#FF97FF",
            "size": [
             96389
            ],
            "sizemode": "area",
            "sizeref": 11638.6725,
            "symbol": "circle"
           },
           "mode": "markers",
           "name": "Country=Democratic Republic of the Congo",
           "showlegend": true,
           "type": "scatter",
           "x": [
            327.563721822924
           ],
           "xaxis": "x",
           "y": [
            0.0256489270196952
           ],
           "yaxis": "y"
          },
          {
           "hoverlabel": {
            "namelength": 0
           },
           "hovertemplate": "Country=Equatorial Guinea<br>Year=2008<br>GDP=%{x}<br>Planted Forest(%)=%{y}<br>Net Export(1000 USD)=%{marker.size}",
           "ids": [
            "Equatorial Guinea"
           ],
           "legendgroup": "Country=Equatorial Guinea",
           "marker": {
            "color": "#636efa",
            "size": [
             19835
            ],
            "sizemode": "area",
            "sizeref": 11638.6725,
            "symbol": "circle"
           },
           "mode": "markers",
           "name": "Country=Equatorial Guinea",
           "showlegend": true,
           "type": "scatter",
           "x": [
            22942.5834490967
           ],
           "xaxis": "x",
           "y": [
            0.004456327985739751
           ],
           "yaxis": "y"
          },
          {
           "hoverlabel": {
            "namelength": 0
           },
           "hovertemplate": "Country=Estonia<br>Year=2008<br>GDP=%{x}<br>Planted Forest(%)=%{y}<br>Net Export(1000 USD)=%{marker.size}",
           "ids": [
            "Estonia"
           ],
           "legendgroup": "Country=Estonia",
           "marker": {
            "color": "#EF553B",
            "size": [
             325602
            ],
            "sizemode": "area",
            "sizeref": 11638.6725,
            "symbol": "circle"
           },
           "mode": "markers",
           "name": "Country=Estonia",
           "showlegend": true,
           "type": "scatter",
           "x": [
            18094.548052783102
           ],
           "xaxis": "x",
           "y": [
            4.123614059919793
           ],
           "yaxis": "y"
          },
          {
           "hoverlabel": {
            "namelength": 0
           },
           "hovertemplate": "Country=Fiji<br>Year=2008<br>GDP=%{x}<br>Planted Forest(%)=%{y}<br>Net Export(1000 USD)=%{marker.size}",
           "ids": [
            "Fiji"
           ],
           "legendgroup": "Country=Fiji",
           "marker": {
            "color": "#00cc96",
            "size": [
             2404
            ],
            "sizemode": "area",
            "sizeref": 11638.6725,
            "symbol": "circle"
           },
           "mode": "markers",
           "name": "Country=Fiji",
           "showlegend": true,
           "type": "scatter",
           "x": [
            4167.67028471654
           ],
           "xaxis": "x",
           "y": [
            7.975522714833059
           ],
           "yaxis": "y"
          },
          {
           "hoverlabel": {
            "namelength": 0
           },
           "hovertemplate": "Country=Finland<br>Year=2008<br>GDP=%{x}<br>Planted Forest(%)=%{y}<br>Net Export(1000 USD)=%{marker.size}",
           "ids": [
            "Finland"
           ],
           "legendgroup": "Country=Finland",
           "marker": {
            "color": "#ab63fa",
            "size": [
             11011146
            ],
            "sizemode": "area",
            "sizeref": 11638.6725,
            "symbol": "circle"
           },
           "mode": "markers",
           "name": "Country=Finland",
           "showlegend": true,
           "type": "scatter",
           "x": [
            53401.314872519804
           ],
           "xaxis": "x",
           "y": [
            21.1437532082922
           ],
           "yaxis": "y"
          },
          {
           "hoverlabel": {
            "namelength": 0
           },
           "hovertemplate": "Country=Gabon<br>Year=2008<br>GDP=%{x}<br>Planted Forest(%)=%{y}<br>Net Export(1000 USD)=%{marker.size}",
           "ids": [
            "Gabon"
           ],
           "legendgroup": "Country=Gabon",
           "marker": {
            "color": "#FFA15A",
            "size": [
             422580
            ],
            "sizemode": "area",
            "sizeref": 11638.6725,
            "symbol": "circle"
           },
           "mode": "markers",
           "name": "Country=Gabon",
           "showlegend": true,
           "type": "scatter",
           "x": [
            10212.8194320542
           ],
           "xaxis": "x",
           "y": [
            0.11642798928862498
           ],
           "yaxis": "y"
          },
          {
           "hoverlabel": {
            "namelength": 0
           },
           "hovertemplate": "Country=Germany<br>Year=2008<br>GDP=%{x}<br>Planted Forest(%)=%{y}<br>Net Export(1000 USD)=%{marker.size}",
           "ids": [
            "Germany"
           ],
           "legendgroup": "Country=Germany",
           "marker": {
            "color": "#19d3f3",
            "size": [
             2129658
            ],
            "sizemode": "area",
            "sizeref": 11638.6725,
            "symbol": "circle"
           },
           "mode": "markers",
           "name": "Country=Germany",
           "showlegend": true,
           "type": "scatter",
           "x": [
            45699.1983232962
           ],
           "xaxis": "x",
           "y": [
            15.159911654189253
           ],
           "yaxis": "y"
          },
          {
           "hoverlabel": {
            "namelength": 0
           },
           "hovertemplate": "Country=Ghana<br>Year=2008<br>GDP=%{x}<br>Planted Forest(%)=%{y}<br>Net Export(1000 USD)=%{marker.size}",
           "ids": [
            "Ghana"
           ],
           "legendgroup": "Country=Ghana",
           "marker": {
            "color": "#FF6692",
            "size": [
             336118
            ],
            "sizemode": "area",
            "sizeref": 11638.6725,
            "symbol": "circle"
           },
           "mode": "markers",
           "name": "Country=Ghana",
           "showlegend": true,
           "type": "scatter",
           "x": [
            1210.62225723084
           ],
           "xaxis": "x",
           "y": [
            0.9668629691482817
           ],
           "yaxis": "y"
          },
          {
           "hoverlabel": {
            "namelength": 0
           },
           "hovertemplate": "Country=Guinea<br>Year=2008<br>GDP=%{x}<br>Planted Forest(%)=%{y}<br>Net Export(1000 USD)=%{marker.size}",
           "ids": [
            "Guinea"
           ],
           "legendgroup": "Country=Guinea",
           "marker": {
            "color": "#B6E880",
            "size": [
             12884
            ],
            "sizemode": "area",
            "sizeref": 11638.6725,
            "symbol": "circle"
           },
           "mode": "markers",
           "name": "Country=Guinea",
           "showlegend": true,
           "type": "scatter",
           "x": [
            715.096820410967
           ],
           "xaxis": "x",
           "y": [
            0.36057300993000163
           ],
           "yaxis": "y"
          },
          {
           "hoverlabel": {
            "namelength": 0
           },
           "hovertemplate": "Country=Guyana<br>Year=2008<br>GDP=%{x}<br>Planted Forest(%)=%{y}<br>Net Export(1000 USD)=%{marker.size}",
           "ids": [
            "Guyana"
           ],
           "legendgroup": "Country=Guyana",
           "marker": {
            "color": "#FF97FF",
            "size": [
             37856
            ],
            "sizemode": "area",
            "sizeref": 11638.6725,
            "symbol": "circle"
           },
           "mode": "markers",
           "name": "Country=Guyana",
           "showlegend": true,
           "type": "scatter",
           "x": [
            2566.8870846973
           ],
           "xaxis": "x",
           "y": [
            0
           ],
           "yaxis": "y"
          },
          {
           "hoverlabel": {
            "namelength": 0
           },
           "hovertemplate": "Country=Indonesia<br>Year=2008<br>GDP=%{x}<br>Planted Forest(%)=%{y}<br>Net Export(1000 USD)=%{marker.size}",
           "ids": [
            "Indonesia"
           ],
           "legendgroup": "Country=Indonesia",
           "marker": {
            "color": "#FECB52",
            "size": [
             1754989
            ],
            "sizemode": "area",
            "sizeref": 11638.6725,
            "symbol": "circle"
           },
           "mode": "markers",
           "name": "Country=Indonesia",
           "showlegend": true,
           "type": "scatter",
           "x": [
            2166.85416700025
           ],
           "xaxis": "x",
           "y": [
            2.6194957964638403
           ],
           "yaxis": "y"
          },
          {
           "hoverlabel": {
            "namelength": 0
           },
           "hovertemplate": "Country=Lao People's Democratic Republic<br>Year=2008<br>GDP=%{x}<br>Planted Forest(%)=%{y}<br>Net Export(1000 USD)=%{marker.size}",
           "ids": [
            "Lao People's Democratic Republic"
           ],
           "legendgroup": "Country=Lao People's Democratic Republic",
           "marker": {
            "color": "#636efa",
            "size": [
             49643
            ],
            "sizemode": "area",
            "sizeref": 11638.6725,
            "symbol": "circle"
           },
           "mode": "markers",
           "name": "Country=Lao People's Democratic Republic",
           "showlegend": true,
           "type": "scatter",
           "x": [
            900.323671821273
           ],
           "xaxis": "x",
           "y": [
            0.22863951473136918
           ],
           "yaxis": "y"
          },
          {
           "hoverlabel": {
            "namelength": 0
           },
           "hovertemplate": "Country=Latvia<br>Year=2008<br>GDP=%{x}<br>Planted Forest(%)=%{y}<br>Net Export(1000 USD)=%{marker.size}",
           "ids": [
            "Latvia"
           ],
           "legendgroup": "Country=Latvia",
           "marker": {
            "color": "#EF553B",
            "size": [
             749807
            ],
            "sizemode": "area",
            "sizeref": 11638.6725,
            "symbol": "circle"
           },
           "mode": "markers",
           "name": "Country=Latvia",
           "showlegend": true,
           "type": "scatter",
           "x": [
            16348.53120679
           ],
           "xaxis": "x",
           "y": [
            10.502283105022832
           ],
           "yaxis": "y"
          },
          {
           "hoverlabel": {
            "namelength": 0
           },
           "hovertemplate": "Country=Luxembourg<br>Year=2008<br>GDP=%{x}<br>Planted Forest(%)=%{y}<br>Net Export(1000 USD)=%{marker.size}",
           "ids": [
            "Luxembourg"
           ],
           "legendgroup": "Country=Luxembourg",
           "marker": {
            "color": "#FFA15A",
            "size": [
             335765
            ],
            "sizemode": "area",
            "sizeref": 11638.6725,
            "symbol": "circle"
           },
           "mode": "markers",
           "name": "Country=Luxembourg",
           "showlegend": true,
           "type": "scatter",
           "x": [
            114293.84332087
           ],
           "xaxis": "x",
           "y": [
            11.646090534979423
           ],
           "yaxis": "y"
          },
          {
           "hoverlabel": {
            "namelength": 0
           },
           "hovertemplate": "Country=Malaysia<br>Year=2008<br>GDP=%{x}<br>Planted Forest(%)=%{y}<br>Net Export(1000 USD)=%{marker.size}",
           "ids": [
            "Malaysia"
           ],
           "legendgroup": "Country=Malaysia",
           "marker": {
            "color": "#FF6692",
            "size": [
             2421645
            ],
            "sizemode": "area",
            "sizeref": 11638.6725,
            "symbol": "circle"
           },
           "mode": "markers",
           "name": "Country=Malaysia",
           "showlegend": true,
           "type": "scatter",
           "x": [
            8474.57582207634
           ],
           "xaxis": "x",
           "y": [
            4.879013848729265
           ],
           "yaxis": "y"
          },
          {
           "hoverlabel": {
            "namelength": 0
           },
           "hovertemplate": "Country=Myanmar<br>Year=2008<br>GDP=%{x}<br>Planted Forest(%)=%{y}<br>Net Export(1000 USD)=%{marker.size}",
           "ids": [
            "Myanmar"
           ],
           "legendgroup": "Country=Myanmar",
           "marker": {
            "color": "#B6E880",
            "size": [
             383526
            ],
            "sizemode": "area",
            "sizeref": 11638.6725,
            "symbol": "circle"
           },
           "mode": "markers",
           "name": "Country=Myanmar",
           "showlegend": true,
           "type": "scatter",
           "x": [
            638.149059869843
           ],
           "xaxis": "x",
           "y": [
            1.4271938283510124
           ],
           "yaxis": "y"
          },
          {
           "hoverlabel": {
            "namelength": 0
           },
           "hovertemplate": "Country=New Zealand<br>Year=2008<br>GDP=%{x}<br>Planted Forest(%)=%{y}<br>Net Export(1000 USD)=%{marker.size}",
           "ids": [
            "New Zealand"
           ],
           "legendgroup": "Country=New Zealand",
           "marker": {
            "color": "#FF97FF",
            "size": [
             1442299
            ],
            "sizemode": "area",
            "sizeref": 11638.6725,
            "symbol": "circle"
           },
           "mode": "markers",
           "name": "Country=New Zealand",
           "showlegend": true,
           "type": "scatter",
           "x": [
            31287.9436526473
           ],
           "xaxis": "x",
           "y": [
            7.945007785499982
           ],
           "yaxis": "y"
          },
          {
           "hoverlabel": {
            "namelength": 0
           },
           "hovertemplate": "Country=Norway<br>Year=2008<br>GDP=%{x}<br>Planted Forest(%)=%{y}<br>Net Export(1000 USD)=%{marker.size}",
           "ids": [
            "Norway"
           ],
           "legendgroup": "Country=Norway",
           "marker": {
            "color": "#FECB52",
            "size": [
             734118
            ],
            "sizemode": "area",
            "sizeref": 11638.6725,
            "symbol": "circle"
           },
           "mode": "markers",
           "name": "Country=Norway",
           "showlegend": true,
           "type": "scatter",
           "x": [
            97007.9418918692
           ],
           "xaxis": "x",
           "y": [
            3.9365465278005933
           ],
           "yaxis": "y"
          },
          {
           "hoverlabel": {
            "namelength": 0
           },
           "hovertemplate": "Country=Papua New Guinea<br>Year=2008<br>GDP=%{x}<br>Planted Forest(%)=%{y}<br>Net Export(1000 USD)=%{marker.size}",
           "ids": [
            "Papua New Guinea"
           ],
           "legendgroup": "Country=Papua New Guinea",
           "marker": {
            "color": "#636efa",
            "size": [
             77871
            ],
            "sizemode": "area",
            "sizeref": 11638.6725,
            "symbol": "circle"
           },
           "mode": "markers",
           "name": "Country=Papua New Guinea",
           "showlegend": true,
           "type": "scatter",
           "x": [
            1672.9275523663598
           ],
           "xaxis": "x",
           "y": [
            0
           ],
           "yaxis": "y"
          },
          {
           "hoverlabel": {
            "namelength": 0
           },
           "hovertemplate": "Country=Portugal<br>Year=2008<br>GDP=%{x}<br>Planted Forest(%)=%{y}<br>Net Export(1000 USD)=%{marker.size}",
           "ids": [
            "Portugal"
           ],
           "legendgroup": "Country=Portugal",
           "marker": {
            "color": "#EF553B",
            "size": [
             62231
            ],
            "sizemode": "area",
            "sizeref": 11638.6725,
            "symbol": "circle"
           },
           "mode": "markers",
           "name": "Country=Portugal",
           "showlegend": true,
           "type": "scatter",
           "x": [
            24815.608835662202
           ],
           "xaxis": "x",
           "y": [
            9.34295397398054
           ],
           "yaxis": "y"
          },
          {
           "hoverlabel": {
            "namelength": 0
           },
           "hovertemplate": "Country=Romania<br>Year=2008<br>GDP=%{x}<br>Planted Forest(%)=%{y}<br>Net Export(1000 USD)=%{marker.size}",
           "ids": [
            "Romania"
           ],
           "legendgroup": "Country=Romania",
           "marker": {
            "color": "#00cc96",
            "size": [
             100605
            ],
            "sizemode": "area",
            "sizeref": 11638.6725,
            "symbol": "circle"
           },
           "mode": "markers",
           "name": "Country=Romania",
           "showlegend": true,
           "type": "scatter",
           "x": [
            10435.0439841037
           ],
           "xaxis": "x",
           "y": [
            2.33144845585037
           ],
           "yaxis": "y"
          },
          {
           "hoverlabel": {
            "namelength": 0
           },
           "hovertemplate": "Country=Russian Federation<br>Year=2008<br>GDP=%{x}<br>Planted Forest(%)=%{y}<br>Net Export(1000 USD)=%{marker.size}",
           "ids": [
            "Russian Federation"
           ],
           "legendgroup": "Country=Russian Federation",
           "marker": {
            "color": "#ab63fa",
            "size": [
             4932029
            ],
            "sizemode": "area",
            "sizeref": 11638.6725,
            "symbol": "circle"
           },
           "mode": "markers",
           "name": "Country=Russian Federation",
           "showlegend": true,
           "type": "scatter",
           "x": [
            11635.274237995902
           ],
           "xaxis": "x",
           "y": [
            1.132862384570434
           ],
           "yaxis": "y"
          },
          {
           "hoverlabel": {
            "namelength": 0
           },
           "hovertemplate": "Country=Slovakia<br>Year=2008<br>GDP=%{x}<br>Planted Forest(%)=%{y}<br>Net Export(1000 USD)=%{marker.size}",
           "ids": [
            "Slovakia"
           ],
           "legendgroup": "Country=Slovakia",
           "marker": {
            "color": "#19d3f3",
            "size": [
             605740
            ],
            "sizemode": "area",
            "sizeref": 11638.6725,
            "symbol": "circle"
           },
           "mode": "markers",
           "name": "Country=Slovakia",
           "showlegend": true,
           "type": "scatter",
           "x": [
            18650.3591154107
           ],
           "xaxis": "x",
           "y": [
            20.024948024948024
           ],
           "yaxis": "y"
          },
          {
           "hoverlabel": {
            "namelength": 0
           },
           "hovertemplate": "Country=Slovenia<br>Year=2008<br>GDP=%{x}<br>Planted Forest(%)=%{y}<br>Net Export(1000 USD)=%{marker.size}",
           "ids": [
            "Slovenia"
           ],
           "legendgroup": "Country=Slovenia",
           "marker": {
            "color": "#FF6692",
            "size": [
             152562
            ],
            "sizemode": "area",
            "sizeref": 11638.6725,
            "symbol": "circle"
           },
           "mode": "markers",
           "name": "Country=Slovenia",
           "showlegend": true,
           "type": "scatter",
           "x": [
            27501.8102703687
           ],
           "xaxis": "x",
           "y": [
            1.687663182138567
           ],
           "yaxis": "y"
          },
          {
           "hoverlabel": {
            "namelength": 0
           },
           "hovertemplate": "Country=Solomon Islands<br>Year=2008<br>GDP=%{x}<br>Planted Forest(%)=%{y}<br>Net Export(1000 USD)=%{marker.size}",
           "ids": [
            "Solomon Islands"
           ],
           "legendgroup": "Country=Solomon Islands",
           "marker": {
            "color": "#B6E880",
            "size": [
             20867
            ],
            "sizemode": "area",
            "sizeref": 11638.6725,
            "symbol": "circle"
           },
           "mode": "markers",
           "name": "Country=Solomon Islands",
           "showlegend": true,
           "type": "scatter",
           "x": [
            1208.33861780089
           ],
           "xaxis": "x",
           "y": [
            0.961057520543051
           ],
           "yaxis": "y"
          },
          {
           "hoverlabel": {
            "namelength": 0
           },
           "hovertemplate": "Country=Somalia<br>Year=2008<br>GDP=%{x}<br>Planted Forest(%)=%{y}<br>Net Export(1000 USD)=%{marker.size}",
           "ids": [
            "Somalia"
           ],
           "legendgroup": "Country=Somalia",
           "marker": {
            "color": "#FF97FF",
            "size": [
             5986
            ],
            "sizemode": "area",
            "sizeref": 11638.6725,
            "symbol": "circle"
           },
           "mode": "markers",
           "name": "Country=Somalia",
           "showlegend": true,
           "type": "scatter",
           "x": [
            null
           ],
           "xaxis": "x",
           "y": [
            0.004782095833200497
           ],
           "yaxis": "y"
          },
          {
           "hoverlabel": {
            "namelength": 0
           },
           "hovertemplate": "Country=South Africa<br>Year=2008<br>GDP=%{x}<br>Planted Forest(%)=%{y}<br>Net Export(1000 USD)=%{marker.size}",
           "ids": [
            "South Africa"
           ],
           "legendgroup": "Country=South Africa",
           "marker": {
            "color": "#FECB52",
            "size": [
             309169
            ],
            "sizemode": "area",
            "sizeref": 11638.6725,
            "symbol": "circle"
           },
           "mode": "markers",
           "name": "Country=South Africa",
           "showlegend": true,
           "type": "scatter",
           "x": [
            5760.789016186851
           ],
           "xaxis": "x",
           "y": [
            1.4490268652779266
           ],
           "yaxis": "y"
          },
          {
           "hoverlabel": {
            "namelength": 0
           },
           "hovertemplate": "Country=Sweden<br>Year=2008<br>GDP=%{x}<br>Planted Forest(%)=%{y}<br>Net Export(1000 USD)=%{marker.size}",
           "ids": [
            "Sweden"
           ],
           "legendgroup": "Country=Sweden",
           "marker": {
            "color": "#EF553B",
            "size": [
             14052317
            ],
            "sizemode": "area",
            "sizeref": 11638.6725,
            "symbol": "circle"
           },
           "mode": "markers",
           "name": "Country=Sweden",
           "showlegend": true,
           "type": "scatter",
           "x": [
            55814.0163915596
           ],
           "xaxis": "x",
           "y": [
            29.19042745040698
           ],
           "yaxis": "y"
          },
          {
           "hoverlabel": {
            "namelength": 0
           },
           "hovertemplate": "Country=Togo<br>Year=2008<br>GDP=%{x}<br>Planted Forest(%)=%{y}<br>Net Export(1000 USD)=%{marker.size}",
           "ids": [
            "Togo"
           ],
           "legendgroup": "Country=Togo",
           "marker": {
            "color": "#ab63fa",
            "size": [
             11957
            ],
            "sizemode": "area",
            "sizeref": 11638.6725,
            "symbol": "circle"
           },
           "mode": "markers",
           "name": "Country=Togo",
           "showlegend": true,
           "type": "scatter",
           "x": [
            544.147523365142
           ],
           "xaxis": "x",
           "y": [
            0.742783599926457
           ],
           "yaxis": "y"
          },
          {
           "hoverlabel": {
            "namelength": 0
           },
           "hovertemplate": "Country=Uruguay<br>Year=2008<br>GDP=%{x}<br>Planted Forest(%)=%{y}<br>Net Export(1000 USD)=%{marker.size}",
           "ids": [
            "Uruguay"
           ],
           "legendgroup": "Country=Uruguay",
           "marker": {
            "color": "#19d3f3",
            "size": [
             295000
            ],
            "sizemode": "area",
            "sizeref": 11638.6725,
            "symbol": "circle"
           },
           "mode": "markers",
           "name": "Country=Uruguay",
           "showlegend": true,
           "type": "scatter",
           "x": [
            9091.0790391692
           ],
           "xaxis": "x",
           "y": [
            5.143412181464976
           ],
           "yaxis": "y"
          }
         ],
         "name": "2008"
        },
        {
         "data": [
          {
           "hoverlabel": {
            "namelength": 0
           },
           "hovertemplate": "Country=Austria<br>Year=2009<br>GDP=%{x}<br>Planted Forest(%)=%{y}<br>Net Export(1000 USD)=%{marker.size}",
           "ids": [
            "Austria"
           ],
           "legendgroup": "Country=Austria",
           "marker": {
            "color": "#636efa",
            "size": [
             2931776
            ],
            "sizemode": "area",
            "sizeref": 11638.6725,
            "symbol": "circle"
           },
           "mode": "markers",
           "name": "Country=Austria",
           "showlegend": true,
           "type": "scatter",
           "x": [
            47963.1794023217
           ],
           "xaxis": "x",
           "y": [
            20.54784567318172
           ],
           "yaxis": "y"
          },
          {
           "hoverlabel": {
            "namelength": 0
           },
           "hovertemplate": "Country=Belgium<br>Year=2009<br>GDP=%{x}<br>Planted Forest(%)=%{y}<br>Net Export(1000 USD)=%{marker.size}",
           "ids": [
            "Belgium"
           ],
           "legendgroup": "Country=Belgium",
           "marker": {
            "color": "#00cc96",
            "size": [
             589101
            ],
            "sizemode": "area",
            "sizeref": 11638.6725,
            "symbol": "circle"
           },
           "mode": "markers",
           "name": "Country=Belgium",
           "showlegend": true,
           "type": "scatter",
           "x": [
            44880.573019622694
           ],
           "xaxis": "x",
           "y": [
            13.126155878467635
           ],
           "yaxis": "y"
          },
          {
           "hoverlabel": {
            "namelength": 0
           },
           "hovertemplate": "Country=Belize<br>Year=2009<br>GDP=%{x}<br>Planted Forest(%)=%{y}<br>Net Export(1000 USD)=%{marker.size}",
           "ids": [
            "Belize"
           ],
           "legendgroup": "Country=Belize",
           "marker": {
            "color": "#ab63fa",
            "size": [
             11101
            ],
            "sizemode": "area",
            "sizeref": 11638.6725,
            "symbol": "circle"
           },
           "mode": "markers",
           "name": "Country=Belize",
           "showlegend": true,
           "type": "scatter",
           "x": [
            4243.433284073029
           ],
           "xaxis": "x",
           "y": [
            0.10434020166593598
           ],
           "yaxis": "y"
          },
          {
           "hoverlabel": {
            "namelength": 0
           },
           "hovertemplate": "Country=Benin<br>Year=2009<br>GDP=%{x}<br>Planted Forest(%)=%{y}<br>Net Export(1000 USD)=%{marker.size}",
           "ids": [
            "Benin"
           ],
           "legendgroup": "Country=Benin",
           "marker": {
            "color": "#FFA15A",
            "size": [
             5387
            ],
            "sizemode": "area",
            "sizeref": 11638.6725,
            "symbol": "circle"
           },
           "mode": "markers",
           "name": "Country=Benin",
           "showlegend": true,
           "type": "scatter",
           "x": [
            793.452252617998
           ],
           "xaxis": "x",
           "y": [
            0.16140475345867328
           ],
           "yaxis": "y"
          },
          {
           "hoverlabel": {
            "namelength": 0
           },
           "hovertemplate": "Country=Bosnia and Herzegovina<br>Year=2009<br>GDP=%{x}<br>Planted Forest(%)=%{y}<br>Net Export(1000 USD)=%{marker.size}",
           "ids": [
            "Bosnia and Herzegovina"
           ],
           "legendgroup": "Country=Bosnia and Herzegovina",
           "marker": {
            "color": "#FF6692",
            "size": [
             12065
            ],
            "sizemode": "area",
            "sizeref": 11638.6725,
            "symbol": "circle"
           },
           "mode": "markers",
           "name": "Country=Bosnia and Herzegovina",
           "showlegend": true,
           "type": "scatter",
           "x": [
            4714.7024950516
           ],
           "xaxis": "x",
           "y": [
            19.51171875
           ],
           "yaxis": "y"
          },
          {
           "hoverlabel": {
            "namelength": 0
           },
           "hovertemplate": "Country=Brazil<br>Year=2009<br>GDP=%{x}<br>Planted Forest(%)=%{y}<br>Net Export(1000 USD)=%{marker.size}",
           "ids": [
            "Brazil"
           ],
           "legendgroup": "Country=Brazil",
           "marker": {
            "color": "#B6E880",
            "size": [
             3752857
            ],
            "sizemode": "area",
            "sizeref": 11638.6725,
            "symbol": "circle"
           },
           "mode": "markers",
           "name": "Country=Brazil",
           "showlegend": true,
           "type": "scatter",
           "x": [
            8597.915351516229
           ],
           "xaxis": "x",
           "y": [
            0.8019009013967222
           ],
           "yaxis": "y"
          },
          {
           "hoverlabel": {
            "namelength": 0
           },
           "hovertemplate": "Country=Cameroon<br>Year=2009<br>GDP=%{x}<br>Planted Forest(%)=%{y}<br>Net Export(1000 USD)=%{marker.size}",
           "ids": [
            "Cameroon"
           ],
           "legendgroup": "Country=Cameroon",
           "marker": {
            "color": "#636efa",
            "size": [
             202103
            ],
            "sizemode": "area",
            "sizeref": 11638.6725,
            "symbol": "circle"
           },
           "mode": "markers",
           "name": "Country=Cameroon",
           "showlegend": true,
           "type": "scatter",
           "x": [
            1314.70601531227
           ],
           "xaxis": "x",
           "y": [
            0.03917835459372554
           ],
           "yaxis": "y"
          },
          {
           "hoverlabel": {
            "namelength": 0
           },
           "hovertemplate": "Country=Canada<br>Year=2009<br>GDP=%{x}<br>Planted Forest(%)=%{y}<br>Net Export(1000 USD)=%{marker.size}",
           "ids": [
            "Canada"
           ],
           "legendgroup": "Country=Canada",
           "marker": {
            "color": "#EF553B",
            "size": [
             10621957
            ],
            "sizemode": "area",
            "sizeref": 11638.6725,
            "symbol": "circle"
           },
           "mode": "markers",
           "name": "Country=Canada",
           "showlegend": true,
           "type": "scatter",
           "x": [
            40773.061528975
           ],
           "xaxis": "x",
           "y": [
            1.508210837212052
           ],
           "yaxis": "y"
          },
          {
           "hoverlabel": {
            "namelength": 0
           },
           "hovertemplate": "Country=Central African Republic<br>Year=2009<br>GDP=%{x}<br>Planted Forest(%)=%{y}<br>Net Export(1000 USD)=%{marker.size}",
           "ids": [
            "Central African Republic"
           ],
           "legendgroup": "Country=Central African Republic",
           "marker": {
            "color": "#00cc96",
            "size": [
             34298
            ],
            "sizemode": "area",
            "sizeref": 11638.6725,
            "symbol": "circle"
           },
           "mode": "markers",
           "name": "Country=Central African Republic",
           "showlegend": true,
           "type": "scatter",
           "x": [
            474.705408664923
           ],
           "xaxis": "x",
           "y": [
            0.003210375935021991
           ],
           "yaxis": "y"
          },
          {
           "hoverlabel": {
            "namelength": 0
           },
           "hovertemplate": "Country=Chad<br>Year=2009<br>GDP=%{x}<br>Planted Forest(%)=%{y}<br>Net Export(1000 USD)=%{marker.size}",
           "ids": [
            "Chad"
           ],
           "legendgroup": "Country=Chad",
           "marker": {
            "color": "#ab63fa",
            "size": [
             5933
            ],
            "sizemode": "area",
            "sizeref": 11638.6725,
            "symbol": "circle"
           },
           "mode": "markers",
           "name": "Country=Chad",
           "showlegend": true,
           "type": "scatter",
           "x": [
            800.4642249356351
           ],
           "xaxis": "x",
           "y": [
            0.013182973316391362
           ],
           "yaxis": "y"
          },
          {
           "hoverlabel": {
            "namelength": 0
           },
           "hovertemplate": "Country=Chile<br>Year=2009<br>GDP=%{x}<br>Planted Forest(%)=%{y}<br>Net Export(1000 USD)=%{marker.size}",
           "ids": [
            "Chile"
           ],
           "legendgroup": "Country=Chile",
           "marker": {
            "color": "#FFA15A",
            "size": [
             2052105
            ],
            "sizemode": "area",
            "sizeref": 11638.6725,
            "symbol": "circle"
           },
           "mode": "markers",
           "name": "Country=Chile",
           "showlegend": true,
           "type": "scatter",
           "x": [
            10208.9067622861
           ],
           "xaxis": "x",
           "y": [
            3.119973316548582
           ],
           "yaxis": "y"
          },
          {
           "hoverlabel": {
            "namelength": 0
           },
           "hovertemplate": "Country=Congo<br>Year=2009<br>GDP=%{x}<br>Planted Forest(%)=%{y}<br>Net Export(1000 USD)=%{marker.size}",
           "ids": [
            "Congo"
           ],
           "legendgroup": "Country=Congo",
           "marker": {
            "color": "#19d3f3",
            "size": [
             66683
            ],
            "sizemode": "area",
            "sizeref": 11638.6725,
            "symbol": "circle"
           },
           "mode": "markers",
           "name": "Country=Congo",
           "showlegend": true,
           "type": "scatter",
           "x": [
            2314.2660247852696
           ],
           "xaxis": "x",
           "y": [
            0.2055636896046852
           ],
           "yaxis": "y"
          },
          {
           "hoverlabel": {
            "namelength": 0
           },
           "hovertemplate": "Country=Czechia<br>Year=2009<br>GDP=%{x}<br>Planted Forest(%)=%{y}<br>Net Export(1000 USD)=%{marker.size}",
           "ids": [
            "Czechia"
           ],
           "legendgroup": "Country=Czechia",
           "marker": {
            "color": "#B6E880",
            "size": [
             360102
            ],
            "sizemode": "area",
            "sizeref": 11638.6725,
            "symbol": "circle"
           },
           "mode": "markers",
           "name": "Country=Czechia",
           "showlegend": true,
           "type": "scatter",
           "x": [
            19741.5976279826
           ],
           "xaxis": "x",
           "y": [
            34.07378640776699
           ],
           "yaxis": "y"
          },
          {
           "hoverlabel": {
            "namelength": 0
           },
           "hovertemplate": "Country=Democratic Republic of the Congo<br>Year=2009<br>GDP=%{x}<br>Planted Forest(%)=%{y}<br>Net Export(1000 USD)=%{marker.size}",
           "ids": [
            "Democratic Republic of the Congo"
           ],
           "legendgroup": "Country=Democratic Republic of the Congo",
           "marker": {
            "color": "#FF97FF",
            "size": [
             42144
            ],
            "sizemode": "area",
            "sizeref": 11638.6725,
            "symbol": "circle"
           },
           "mode": "markers",
           "name": "Country=Democratic Republic of the Congo",
           "showlegend": true,
           "type": "scatter",
           "x": [
            298.619682050521
           ],
           "xaxis": "x",
           "y": [
            0.02578822699102358
           ],
           "yaxis": "y"
          },
          {
           "hoverlabel": {
            "namelength": 0
           },
           "hovertemplate": "Country=Equatorial Guinea<br>Year=2009<br>GDP=%{x}<br>Planted Forest(%)=%{y}<br>Net Export(1000 USD)=%{marker.size}",
           "ids": [
            "Equatorial Guinea"
           ],
           "legendgroup": "Country=Equatorial Guinea",
           "marker": {
            "color": "#636efa",
            "size": [
             8177
            ],
            "sizemode": "area",
            "sizeref": 11638.6725,
            "symbol": "circle"
           },
           "mode": "markers",
           "name": "Country=Equatorial Guinea",
           "showlegend": true,
           "type": "scatter",
           "x": [
            16667.9368247067
           ],
           "xaxis": "x",
           "y": [
            0.004456327985739751
           ],
           "yaxis": "y"
          },
          {
           "hoverlabel": {
            "namelength": 0
           },
           "hovertemplate": "Country=Estonia<br>Year=2009<br>GDP=%{x}<br>Planted Forest(%)=%{y}<br>Net Export(1000 USD)=%{marker.size}",
           "ids": [
            "Estonia"
           ],
           "legendgroup": "Country=Estonia",
           "marker": {
            "color": "#EF553B",
            "size": [
             240948
            ],
            "sizemode": "area",
            "sizeref": 11638.6725,
            "symbol": "circle"
           },
           "mode": "markers",
           "name": "Country=Estonia",
           "showlegend": true,
           "type": "scatter",
           "x": [
            14726.318278058701
           ],
           "xaxis": "x",
           "y": [
            4.114177872139655
           ],
           "yaxis": "y"
          },
          {
           "hoverlabel": {
            "namelength": 0
           },
           "hovertemplate": "Country=Fiji<br>Year=2009<br>GDP=%{x}<br>Planted Forest(%)=%{y}<br>Net Export(1000 USD)=%{marker.size}",
           "ids": [
            "Fiji"
           ],
           "legendgroup": "Country=Fiji",
           "marker": {
            "color": "#00cc96",
            "size": [
             1141
            ],
            "sizemode": "area",
            "sizeref": 11638.6725,
            "symbol": "circle"
           },
           "mode": "markers",
           "name": "Country=Fiji",
           "showlegend": true,
           "type": "scatter",
           "x": [
            3362.81655514032
           ],
           "xaxis": "x",
           "y": [
            7.834614121510673
           ],
           "yaxis": "y"
          },
          {
           "hoverlabel": {
            "namelength": 0
           },
           "hovertemplate": "Country=Finland<br>Year=2009<br>GDP=%{x}<br>Planted Forest(%)=%{y}<br>Net Export(1000 USD)=%{marker.size}",
           "ids": [
            "Finland"
           ],
           "legendgroup": "Country=Finland",
           "marker": {
            "color": "#ab63fa",
            "size": [
             7185218
            ],
            "sizemode": "area",
            "sizeref": 11638.6725,
            "symbol": "circle"
           },
           "mode": "markers",
           "name": "Country=Finland",
           "showlegend": true,
           "type": "scatter",
           "x": [
            47107.155709070496
           ],
           "xaxis": "x",
           "y": [
            21.719295162882528
           ],
           "yaxis": "y"
          },
          {
           "hoverlabel": {
            "namelength": 0
           },
           "hovertemplate": "Country=Gabon<br>Year=2009<br>GDP=%{x}<br>Planted Forest(%)=%{y}<br>Net Export(1000 USD)=%{marker.size}",
           "ids": [
            "Gabon"
           ],
           "legendgroup": "Country=Gabon",
           "marker": {
            "color": "#FFA15A",
            "size": [
             307922
            ],
            "sizemode": "area",
            "sizeref": 11638.6725,
            "symbol": "circle"
           },
           "mode": "markers",
           "name": "Country=Gabon",
           "showlegend": true,
           "type": "scatter",
           "x": [
            7690.05223487234
           ],
           "xaxis": "x",
           "y": [
            0.11642798928862498
           ],
           "yaxis": "y"
          },
          {
           "hoverlabel": {
            "namelength": 0
           },
           "hovertemplate": "Country=Germany<br>Year=2009<br>GDP=%{x}<br>Planted Forest(%)=%{y}<br>Net Export(1000 USD)=%{marker.size}",
           "ids": [
            "Germany"
           ],
           "legendgroup": "Country=Germany",
           "marker": {
            "color": "#19d3f3",
            "size": [
             2445152
            ],
            "sizemode": "area",
            "sizeref": 11638.6725,
            "symbol": "circle"
           },
           "mode": "markers",
           "name": "Country=Germany",
           "showlegend": true,
           "type": "scatter",
           "x": [
            41732.707253158
           ],
           "xaxis": "x",
           "y": [
            15.167665873038642
           ],
           "yaxis": "y"
          },
          {
           "hoverlabel": {
            "namelength": 0
           },
           "hovertemplate": "Country=Ghana<br>Year=2009<br>GDP=%{x}<br>Planted Forest(%)=%{y}<br>Net Export(1000 USD)=%{marker.size}",
           "ids": [
            "Ghana"
           ],
           "legendgroup": "Country=Ghana",
           "marker": {
            "color": "#FF6692",
            "size": [
             90527
            ],
            "sizemode": "area",
            "sizeref": 11638.6725,
            "symbol": "circle"
           },
           "mode": "markers",
           "name": "Country=Ghana",
           "showlegend": true,
           "type": "scatter",
           "x": [
            1074.7553803758599
           ],
           "xaxis": "x",
           "y": [
            1.0547596027072164
           ],
           "yaxis": "y"
          },
          {
           "hoverlabel": {
            "namelength": 0
           },
           "hovertemplate": "Country=Guinea<br>Year=2009<br>GDP=%{x}<br>Planted Forest(%)=%{y}<br>Net Export(1000 USD)=%{marker.size}",
           "ids": [
            "Guinea"
           ],
           "legendgroup": "Country=Guinea",
           "marker": {
            "color": "#B6E880",
            "size": [
             1117
            ],
            "sizemode": "area",
            "sizeref": 11638.6725,
            "symbol": "circle"
           },
           "mode": "markers",
           "name": "Country=Guinea",
           "showlegend": true,
           "type": "scatter",
           "x": [
            674.085550244342
           ],
           "xaxis": "x",
           "y": [
            0.3695262900862771
           ],
           "yaxis": "y"
          },
          {
           "hoverlabel": {
            "namelength": 0
           },
           "hovertemplate": "Country=Guyana<br>Year=2009<br>GDP=%{x}<br>Planted Forest(%)=%{y}<br>Net Export(1000 USD)=%{marker.size}",
           "ids": [
            "Guyana"
           ],
           "legendgroup": "Country=Guyana",
           "marker": {
            "color": "#FF97FF",
            "size": [
             26888
            ],
            "sizemode": "area",
            "sizeref": 11638.6725,
            "symbol": "circle"
           },
           "mode": "markers",
           "name": "Country=Guyana",
           "showlegend": true,
           "type": "scatter",
           "x": [
            2756.8198891637703
           ],
           "xaxis": "x",
           "y": [
            0
           ],
           "yaxis": "y"
          },
          {
           "hoverlabel": {
            "namelength": 0
           },
           "hovertemplate": "Country=Indonesia<br>Year=2009<br>GDP=%{x}<br>Planted Forest(%)=%{y}<br>Net Export(1000 USD)=%{marker.size}",
           "ids": [
            "Indonesia"
           ],
           "legendgroup": "Country=Indonesia",
           "marker": {
            "color": "#FECB52",
            "size": [
             2084845
            ],
            "sizemode": "area",
            "sizeref": 11638.6725,
            "symbol": "circle"
           },
           "mode": "markers",
           "name": "Country=Indonesia",
           "showlegend": true,
           "type": "scatter",
           "x": [
            2261.24722374577
           ],
           "xaxis": "x",
           "y": [
            2.6353936088586143
           ],
           "yaxis": "y"
          },
          {
           "hoverlabel": {
            "namelength": 0
           },
           "hovertemplate": "Country=Lao People's Democratic Republic<br>Year=2009<br>GDP=%{x}<br>Planted Forest(%)=%{y}<br>Net Export(1000 USD)=%{marker.size}",
           "ids": [
            "Lao People's Democratic Republic"
           ],
           "legendgroup": "Country=Lao People's Democratic Republic",
           "marker": {
            "color": "#636efa",
            "size": [
             47904
            ],
            "sizemode": "area",
            "sizeref": 11638.6725,
            "symbol": "circle"
           },
           "mode": "markers",
           "name": "Country=Lao People's Democratic Republic",
           "showlegend": true,
           "type": "scatter",
           "x": [
            948.653932285177
           ],
           "xaxis": "x",
           "y": [
            0.26598786828422877
           ],
           "yaxis": "y"
          },
          {
           "hoverlabel": {
            "namelength": 0
           },
           "hovertemplate": "Country=Latvia<br>Year=2009<br>GDP=%{x}<br>Planted Forest(%)=%{y}<br>Net Export(1000 USD)=%{marker.size}",
           "ids": [
            "Latvia"
           ],
           "legendgroup": "Country=Latvia",
           "marker": {
            "color": "#EF553B",
            "size": [
             618478
            ],
            "sizemode": "area",
            "sizeref": 11638.6725,
            "symbol": "circle"
           },
           "mode": "markers",
           "name": "Country=Latvia",
           "showlegend": true,
           "type": "scatter",
           "x": [
            12219.3737898048
           ],
           "xaxis": "x",
           "y": [
            10.302348021871985
           ],
           "yaxis": "y"
          },
          {
           "hoverlabel": {
            "namelength": 0
           },
           "hovertemplate": "Country=Luxembourg<br>Year=2009<br>GDP=%{x}<br>Planted Forest(%)=%{y}<br>Net Export(1000 USD)=%{marker.size}",
           "ids": [
            "Luxembourg"
           ],
           "legendgroup": "Country=Luxembourg",
           "marker": {
            "color": "#FFA15A",
            "size": [
             247789
            ],
            "sizemode": "area",
            "sizeref": 11638.6725,
            "symbol": "circle"
           },
           "mode": "markers",
           "name": "Country=Luxembourg",
           "showlegend": true,
           "type": "scatter",
           "x": [
            103198.669312625
           ],
           "xaxis": "x",
           "y": [
            11.646090534979423
           ],
           "yaxis": "y"
          },
          {
           "hoverlabel": {
            "namelength": 0
           },
           "hovertemplate": "Country=Malaysia<br>Year=2009<br>GDP=%{x}<br>Planted Forest(%)=%{y}<br>Net Export(1000 USD)=%{marker.size}",
           "ids": [
            "Malaysia"
           ],
           "legendgroup": "Country=Malaysia",
           "marker": {
            "color": "#FF6692",
            "size": [
             1619970
            ],
            "sizemode": "area",
            "sizeref": 11638.6725,
            "symbol": "circle"
           },
           "mode": "markers",
           "name": "Country=Malaysia",
           "showlegend": true,
           "type": "scatter",
           "x": [
            7292.493043729359
           ],
           "xaxis": "x",
           "y": [
            4.909450616344544
           ],
           "yaxis": "y"
          },
          {
           "hoverlabel": {
            "namelength": 0
           },
           "hovertemplate": "Country=Myanmar<br>Year=2009<br>GDP=%{x}<br>Planted Forest(%)=%{y}<br>Net Export(1000 USD)=%{marker.size}",
           "ids": [
            "Myanmar"
           ],
           "legendgroup": "Country=Myanmar",
           "marker": {
            "color": "#B6E880",
            "size": [
             388857
            ],
            "sizemode": "area",
            "sizeref": 11638.6725,
            "symbol": "circle"
           },
           "mode": "markers",
           "name": "Country=Myanmar",
           "showlegend": true,
           "type": "scatter",
           "x": [
            734.4460067488201
           ],
           "xaxis": "x",
           "y": [
            1.469768865758457
           ],
           "yaxis": "y"
          },
          {
           "hoverlabel": {
            "namelength": 0
           },
           "hovertemplate": "Country=New Zealand<br>Year=2009<br>GDP=%{x}<br>Planted Forest(%)=%{y}<br>Net Export(1000 USD)=%{marker.size}",
           "ids": [
            "New Zealand"
           ],
           "legendgroup": "Country=New Zealand",
           "marker": {
            "color": "#FF97FF",
            "size": [
             1030594
            ],
            "sizemode": "area",
            "sizeref": 11638.6725,
            "symbol": "circle"
           },
           "mode": "markers",
           "name": "Country=New Zealand",
           "showlegend": true,
           "type": "scatter",
           "x": [
            28201.2322839936
           ],
           "xaxis": "x",
           "y": [
            7.926018761156052
           ],
           "yaxis": "y"
          },
          {
           "hoverlabel": {
            "namelength": 0
           },
           "hovertemplate": "Country=Norway<br>Year=2009<br>GDP=%{x}<br>Planted Forest(%)=%{y}<br>Net Export(1000 USD)=%{marker.size}",
           "ids": [
            "Norway"
           ],
           "legendgroup": "Country=Norway",
           "marker": {
            "color": "#FECB52",
            "size": [
             585959
            ],
            "sizemode": "area",
            "sizeref": 11638.6725,
            "symbol": "circle"
           },
           "mode": "markers",
           "name": "Country=Norway",
           "showlegend": true,
           "type": "scatter",
           "x": [
            80067.1766382996
           ],
           "xaxis": "x",
           "y": [
            3.971044014412283
           ],
           "yaxis": "y"
          },
          {
           "hoverlabel": {
            "namelength": 0
           },
           "hovertemplate": "Country=Papua New Guinea<br>Year=2009<br>GDP=%{x}<br>Planted Forest(%)=%{y}<br>Net Export(1000 USD)=%{marker.size}",
           "ids": [
            "Papua New Guinea"
           ],
           "legendgroup": "Country=Papua New Guinea",
           "marker": {
            "color": "#636efa",
            "size": [
             57969
            ],
            "sizemode": "area",
            "sizeref": 11638.6725,
            "symbol": "circle"
           },
           "mode": "markers",
           "name": "Country=Papua New Guinea",
           "showlegend": true,
           "type": "scatter",
           "x": [
            1626.29898269749
           ],
           "xaxis": "x",
           "y": [
            0
           ],
           "yaxis": "y"
          },
          {
           "hoverlabel": {
            "namelength": 0
           },
           "hovertemplate": "Country=Portugal<br>Year=2009<br>GDP=%{x}<br>Planted Forest(%)=%{y}<br>Net Export(1000 USD)=%{marker.size}",
           "ids": [
            "Portugal"
           ],
           "legendgroup": "Country=Portugal",
           "marker": {
            "color": "#EF553B",
            "size": [
             596377
            ],
            "sizemode": "area",
            "sizeref": 11638.6725,
            "symbol": "circle"
           },
           "mode": "markers",
           "name": "Country=Portugal",
           "showlegend": true,
           "type": "scatter",
           "x": [
            23063.9716141302
           ],
           "xaxis": "x",
           "y": [
            9.387487716999672
           ],
           "yaxis": "y"
          },
          {
           "hoverlabel": {
            "namelength": 0
           },
           "hovertemplate": "Country=Romania<br>Year=2009<br>GDP=%{x}<br>Planted Forest(%)=%{y}<br>Net Export(1000 USD)=%{marker.size}",
           "ids": [
            "Romania"
           ],
           "legendgroup": "Country=Romania",
           "marker": {
            "color": "#00cc96",
            "size": [
             211041
            ],
            "sizemode": "area",
            "sizeref": 11638.6725,
            "symbol": "circle"
           },
           "mode": "markers",
           "name": "Country=Romania",
           "showlegend": true,
           "type": "scatter",
           "x": [
            8548.11867218639
           ],
           "xaxis": "x",
           "y": [
            2.338520385986264
           ],
           "yaxis": "y"
          },
          {
           "hoverlabel": {
            "namelength": 0
           },
           "hovertemplate": "Country=Russian Federation<br>Year=2009<br>GDP=%{x}<br>Planted Forest(%)=%{y}<br>Net Export(1000 USD)=%{marker.size}",
           "ids": [
            "Russian Federation"
           ],
           "legendgroup": "Country=Russian Federation",
           "marker": {
            "color": "#ab63fa",
            "size": [
             2973544
            ],
            "sizemode": "area",
            "sizeref": 11638.6725,
            "symbol": "circle"
           },
           "mode": "markers",
           "name": "Country=Russian Federation",
           "showlegend": true,
           "type": "scatter",
           "x": [
            8562.81369694433
           ],
           "xaxis": "x",
           "y": [
            1.1652299859496962
           ],
           "yaxis": "y"
          },
          {
           "hoverlabel": {
            "namelength": 0
           },
           "hovertemplate": "Country=Sierra Leone<br>Year=2009<br>GDP=%{x}<br>Planted Forest(%)=%{y}<br>Net Export(1000 USD)=%{marker.size}",
           "ids": [
            "Sierra Leone"
           ],
           "legendgroup": "Country=Sierra Leone",
           "marker": {
            "color": "#FFA15A",
            "size": [
             84
            ],
            "sizemode": "area",
            "sizeref": 11638.6725,
            "symbol": "circle"
           },
           "mode": "markers",
           "name": "Country=Sierra Leone",
           "showlegend": true,
           "type": "scatter",
           "x": [
            391.20100531652804
           ],
           "xaxis": "x",
           "y": [
            0.19174286505957328
           ],
           "yaxis": "y"
          },
          {
           "hoverlabel": {
            "namelength": 0
           },
           "hovertemplate": "Country=Slovakia<br>Year=2009<br>GDP=%{x}<br>Planted Forest(%)=%{y}<br>Net Export(1000 USD)=%{marker.size}",
           "ids": [
            "Slovakia"
           ],
           "legendgroup": "Country=Slovakia",
           "marker": {
            "color": "#19d3f3",
            "size": [
             346003
            ],
            "sizemode": "area",
            "sizeref": 11638.6725,
            "symbol": "circle"
           },
           "mode": "markers",
           "name": "Country=Slovakia",
           "showlegend": true,
           "type": "scatter",
           "x": [
            16512.981972331698
           ],
           "xaxis": "x",
           "y": [
            20.01663547515076
           ],
           "yaxis": "y"
          },
          {
           "hoverlabel": {
            "namelength": 0
           },
           "hovertemplate": "Country=Slovenia<br>Year=2009<br>GDP=%{x}<br>Planted Forest(%)=%{y}<br>Net Export(1000 USD)=%{marker.size}",
           "ids": [
            "Slovenia"
           ],
           "legendgroup": "Country=Slovenia",
           "marker": {
            "color": "#FF6692",
            "size": [
             179864
            ],
            "sizemode": "area",
            "sizeref": 11638.6725,
            "symbol": "circle"
           },
           "mode": "markers",
           "name": "Country=Slovenia",
           "showlegend": true,
           "type": "scatter",
           "x": [
            24633.7978523083
           ],
           "xaxis": "x",
           "y": [
            1.6380585531475544
           ],
           "yaxis": "y"
          },
          {
           "hoverlabel": {
            "namelength": 0
           },
           "hovertemplate": "Country=Solomon Islands<br>Year=2009<br>GDP=%{x}<br>Planted Forest(%)=%{y}<br>Net Export(1000 USD)=%{marker.size}",
           "ids": [
            "Solomon Islands"
           ],
           "legendgroup": "Country=Solomon Islands",
           "marker": {
            "color": "#B6E880",
            "size": [
             27500
            ],
            "sizemode": "area",
            "sizeref": 11638.6725,
            "symbol": "circle"
           },
           "mode": "markers",
           "name": "Country=Solomon Islands",
           "showlegend": true,
           "type": "scatter",
           "x": [
            1160.30164763159
           ],
           "xaxis": "x",
           "y": [
            0.961057520543051
           ],
           "yaxis": "y"
          },
          {
           "hoverlabel": {
            "namelength": 0
           },
           "hovertemplate": "Country=Somalia<br>Year=2009<br>GDP=%{x}<br>Planted Forest(%)=%{y}<br>Net Export(1000 USD)=%{marker.size}",
           "ids": [
            "Somalia"
           ],
           "legendgroup": "Country=Somalia",
           "marker": {
            "color": "#FF97FF",
            "size": [
             14539
            ],
            "sizemode": "area",
            "sizeref": 11638.6725,
            "symbol": "circle"
           },
           "mode": "markers",
           "name": "Country=Somalia",
           "showlegend": true,
           "type": "scatter",
           "x": [
            null
           ],
           "xaxis": "x",
           "y": [
            0.004782095833200497
           ],
           "yaxis": "y"
          },
          {
           "hoverlabel": {
            "namelength": 0
           },
           "hovertemplate": "Country=South Africa<br>Year=2009<br>GDP=%{x}<br>Planted Forest(%)=%{y}<br>Net Export(1000 USD)=%{marker.size}",
           "ids": [
            "South Africa"
           ],
           "legendgroup": "Country=South Africa",
           "marker": {
            "color": "#FECB52",
            "size": [
             294613
            ],
            "sizemode": "area",
            "sizeref": 11638.6725,
            "symbol": "circle"
           },
           "mode": "markers",
           "name": "Country=South Africa",
           "showlegend": true,
           "type": "scatter",
           "x": [
            5862.815219699
           ],
           "xaxis": "x",
           "y": [
            1.4511701522558096
           ],
           "yaxis": "y"
          },
          {
           "hoverlabel": {
            "namelength": 0
           },
           "hovertemplate": "Country=Sweden<br>Year=2009<br>GDP=%{x}<br>Planted Forest(%)=%{y}<br>Net Export(1000 USD)=%{marker.size}",
           "ids": [
            "Sweden"
           ],
           "legendgroup": "Country=Sweden",
           "marker": {
            "color": "#EF553B",
            "size": [
             11048693
            ],
            "sizemode": "area",
            "sizeref": 11638.6725,
            "symbol": "circle"
           },
           "mode": "markers",
           "name": "Country=Sweden",
           "showlegend": true,
           "type": "scatter",
           "x": [
            46256.2379366405
           ],
           "xaxis": "x",
           "y": [
            29.90446946434664
           ],
           "yaxis": "y"
          },
          {
           "hoverlabel": {
            "namelength": 0
           },
           "hovertemplate": "Country=Togo<br>Year=2009<br>GDP=%{x}<br>Planted Forest(%)=%{y}<br>Net Export(1000 USD)=%{marker.size}",
           "ids": [
            "Togo"
           ],
           "legendgroup": "Country=Togo",
           "marker": {
            "color": "#ab63fa",
            "size": [
             756
            ],
            "sizemode": "area",
            "sizeref": 11638.6725,
            "symbol": "circle"
           },
           "mode": "markers",
           "name": "Country=Togo",
           "showlegend": true,
           "type": "scatter",
           "x": [
            538.441951576399
           ],
           "xaxis": "x",
           "y": [
            0.7574921860636147
           ],
           "yaxis": "y"
          },
          {
           "hoverlabel": {
            "namelength": 0
           },
           "hovertemplate": "Country=Uruguay<br>Year=2009<br>GDP=%{x}<br>Planted Forest(%)=%{y}<br>Net Export(1000 USD)=%{marker.size}",
           "ids": [
            "Uruguay"
           ],
           "legendgroup": "Country=Uruguay",
           "marker": {
            "color": "#19d3f3",
            "size": [
             236813
            ],
            "sizemode": "area",
            "sizeref": 11638.6725,
            "symbol": "circle"
           },
           "mode": "markers",
           "name": "Country=Uruguay",
           "showlegend": true,
           "type": "scatter",
           "x": [
            9451.932448699341
           ],
           "xaxis": "x",
           "y": [
            5.368529310935894
           ],
           "yaxis": "y"
          }
         ],
         "name": "2009"
        },
        {
         "data": [
          {
           "hoverlabel": {
            "namelength": 0
           },
           "hovertemplate": "Country=Austria<br>Year=2010<br>GDP=%{x}<br>Planted Forest(%)=%{y}<br>Net Export(1000 USD)=%{marker.size}",
           "ids": [
            "Austria"
           ],
           "legendgroup": "Country=Austria",
           "marker": {
            "color": "#636efa",
            "size": [
             2718844
            ],
            "sizemode": "area",
            "sizeref": 11638.6725,
            "symbol": "circle"
           },
           "mode": "markers",
           "name": "Country=Austria",
           "showlegend": true,
           "type": "scatter",
           "x": [
            46858.0432733717
           ],
           "xaxis": "x",
           "y": [
            20.53989899601555
           ],
           "yaxis": "y"
          },
          {
           "hoverlabel": {
            "namelength": 0
           },
           "hovertemplate": "Country=Belgium<br>Year=2010<br>GDP=%{x}<br>Planted Forest(%)=%{y}<br>Net Export(1000 USD)=%{marker.size}",
           "ids": [
            "Belgium"
           ],
           "legendgroup": "Country=Belgium",
           "marker": {
            "color": "#00cc96",
            "size": [
             356795
            ],
            "sizemode": "area",
            "sizeref": 11638.6725,
            "symbol": "circle"
           },
           "mode": "markers",
           "name": "Country=Belgium",
           "showlegend": true,
           "type": "scatter",
           "x": [
            44380.1766327308
           ],
           "xaxis": "x",
           "y": [
            13.134081902245706
           ],
           "yaxis": "y"
          },
          {
           "hoverlabel": {
            "namelength": 0
           },
           "hovertemplate": "Country=Bhutan<br>Year=2010<br>GDP=%{x}<br>Planted Forest(%)=%{y}<br>Net Export(1000 USD)=%{marker.size}",
           "ids": [
            "Bhutan"
           ],
           "legendgroup": "Country=Bhutan",
           "marker": {
            "color": "#19d3f3",
            "size": [
             4513
            ],
            "sizemode": "area",
            "sizeref": 11638.6725,
            "symbol": "circle"
           },
           "mode": "markers",
           "name": "Country=Bhutan",
           "showlegend": true,
           "type": "scatter",
           "x": [
            2312.86009558743
           ],
           "xaxis": "x",
           "y": [
            0.5640527848466563
           ],
           "yaxis": "y"
          },
          {
           "hoverlabel": {
            "namelength": 0
           },
           "hovertemplate": "Country=Bosnia and Herzegovina<br>Year=2010<br>GDP=%{x}<br>Planted Forest(%)=%{y}<br>Net Export(1000 USD)=%{marker.size}",
           "ids": [
            "Bosnia and Herzegovina"
           ],
           "legendgroup": "Country=Bosnia and Herzegovina",
           "marker": {
            "color": "#FF6692",
            "size": [
             77946
            ],
            "sizemode": "area",
            "sizeref": 11638.6725,
            "symbol": "circle"
           },
           "mode": "markers",
           "name": "Country=Bosnia and Herzegovina",
           "showlegend": true,
           "type": "scatter",
           "x": [
            4635.51777931783
           ],
           "xaxis": "x",
           "y": [
            19.51171875
           ],
           "yaxis": "y"
          },
          {
           "hoverlabel": {
            "namelength": 0
           },
           "hovertemplate": "Country=Brazil<br>Year=2010<br>GDP=%{x}<br>Planted Forest(%)=%{y}<br>Net Export(1000 USD)=%{marker.size}",
           "ids": [
            "Brazil"
           ],
           "legendgroup": "Country=Brazil",
           "marker": {
            "color": "#B6E880",
            "size": [
             4870317
            ],
            "sizemode": "area",
            "sizeref": 11638.6725,
            "symbol": "circle"
           },
           "mode": "markers",
           "name": "Country=Brazil",
           "showlegend": true,
           "type": "scatter",
           "x": [
            11286.2430162457
           ],
           "xaxis": "x",
           "y": [
            0.8342765256384794
           ],
           "yaxis": "y"
          },
          {
           "hoverlabel": {
            "namelength": 0
           },
           "hovertemplate": "Country=Cameroon<br>Year=2010<br>GDP=%{x}<br>Planted Forest(%)=%{y}<br>Net Export(1000 USD)=%{marker.size}",
           "ids": [
            "Cameroon"
           ],
           "legendgroup": "Country=Cameroon",
           "marker": {
            "color": "#636efa",
            "size": [
             355232
            ],
            "sizemode": "area",
            "sizeref": 11638.6725,
            "symbol": "circle"
           },
           "mode": "markers",
           "name": "Country=Cameroon",
           "showlegend": true,
           "type": "scatter",
           "x": [
            1285.2617256558801
           ],
           "xaxis": "x",
           "y": [
            0.04167459964883332
           ],
           "yaxis": "y"
          },
          {
           "hoverlabel": {
            "namelength": 0
           },
           "hovertemplate": "Country=Canada<br>Year=2010<br>GDP=%{x}<br>Planted Forest(%)=%{y}<br>Net Export(1000 USD)=%{marker.size}",
           "ids": [
            "Canada"
           ],
           "legendgroup": "Country=Canada",
           "marker": {
            "color": "#EF553B",
            "size": [
             13124220
            ],
            "sizemode": "area",
            "sizeref": 11638.6725,
            "symbol": "circle"
           },
           "mode": "markers",
           "name": "Country=Canada",
           "showlegend": true,
           "type": "scatter",
           "x": [
            47450.318470070306
           ],
           "xaxis": "x",
           "y": [
            1.5587373502468884
           ],
           "yaxis": "y"
          },
          {
           "hoverlabel": {
            "namelength": 0
           },
           "hovertemplate": "Country=Central African Republic<br>Year=2010<br>GDP=%{x}<br>Planted Forest(%)=%{y}<br>Net Export(1000 USD)=%{marker.size}",
           "ids": [
            "Central African Republic"
           ],
           "legendgroup": "Country=Central African Republic",
           "marker": {
            "color": "#00cc96",
            "size": [
             31385
            ],
            "sizemode": "area",
            "sizeref": 11638.6725,
            "symbol": "circle"
           },
           "mode": "markers",
           "name": "Country=Central African Republic",
           "showlegend": true,
           "type": "scatter",
           "x": [
            487.945383289614
           ],
           "xaxis": "x",
           "y": [
            0.003210375935021991
           ],
           "yaxis": "y"
          },
          {
           "hoverlabel": {
            "namelength": 0
           },
           "hovertemplate": "Country=Chile<br>Year=2010<br>GDP=%{x}<br>Planted Forest(%)=%{y}<br>Net Export(1000 USD)=%{marker.size}",
           "ids": [
            "Chile"
           ],
           "legendgroup": "Country=Chile",
           "marker": {
            "color": "#FFA15A",
            "size": [
             2512608
            ],
            "sizemode": "area",
            "sizeref": 11638.6725,
            "symbol": "circle"
           },
           "mode": "markers",
           "name": "Country=Chile",
           "showlegend": true,
           "type": "scatter",
           "x": [
            12808.034586422
           ],
           "xaxis": "x",
           "y": [
            3.206317952690671
           ],
           "yaxis": "y"
          },
          {
           "hoverlabel": {
            "namelength": 0
           },
           "hovertemplate": "Country=Congo<br>Year=2010<br>GDP=%{x}<br>Planted Forest(%)=%{y}<br>Net Export(1000 USD)=%{marker.size}",
           "ids": [
            "Congo"
           ],
           "legendgroup": "Country=Congo",
           "marker": {
            "color": "#19d3f3",
            "size": [
             83318
            ],
            "sizemode": "area",
            "sizeref": 11638.6725,
            "symbol": "circle"
           },
           "mode": "markers",
           "name": "Country=Congo",
           "showlegend": true,
           "type": "scatter",
           "x": [
            2809.69495708158
           ],
           "xaxis": "x",
           "y": [
            0.21961932650073207
           ],
           "yaxis": "y"
          },
          {
           "hoverlabel": {
            "namelength": 0
           },
           "hovertemplate": "Country=Croatia<br>Year=2010<br>GDP=%{x}<br>Planted Forest(%)=%{y}<br>Net Export(1000 USD)=%{marker.size}",
           "ids": [
            "Croatia"
           ],
           "legendgroup": "Country=Croatia",
           "marker": {
            "color": "#FF6692",
            "size": [
             123599
            ],
            "sizemode": "area",
            "sizeref": 11638.6725,
            "symbol": "circle"
           },
           "mode": "markers",
           "name": "Country=Croatia",
           "showlegend": true,
           "type": "scatter",
           "x": [
            13937.1422658809
           ],
           "xaxis": "x",
           "y": [
            1.250893495353824
           ],
           "yaxis": "y"
          },
          {
           "hoverlabel": {
            "namelength": 0
           },
           "hovertemplate": "Country=Czechia<br>Year=2010<br>GDP=%{x}<br>Planted Forest(%)=%{y}<br>Net Export(1000 USD)=%{marker.size}",
           "ids": [
            "Czechia"
           ],
           "legendgroup": "Country=Czechia",
           "marker": {
            "color": "#B6E880",
            "size": [
             445866
            ],
            "sizemode": "area",
            "sizeref": 11638.6725,
            "symbol": "circle"
           },
           "mode": "markers",
           "name": "Country=Czechia",
           "showlegend": true,
           "type": "scatter",
           "x": [
            19808.0710912518
           ],
           "xaxis": "x",
           "y": [
            34.10020714655619
           ],
           "yaxis": "y"
          },
          {
           "hoverlabel": {
            "namelength": 0
           },
           "hovertemplate": "Country=Democratic Republic of the Congo<br>Year=2010<br>GDP=%{x}<br>Planted Forest(%)=%{y}<br>Net Export(1000 USD)=%{marker.size}",
           "ids": [
            "Democratic Republic of the Congo"
           ],
           "legendgroup": "Country=Democratic Republic of the Congo",
           "marker": {
            "color": "#FF97FF",
            "size": [
             42475
            ],
            "sizemode": "area",
            "sizeref": 11638.6725,
            "symbol": "circle"
           },
           "mode": "markers",
           "name": "Country=Democratic Republic of the Congo",
           "showlegend": true,
           "type": "scatter",
           "x": [
            334.02157257299
           ],
           "xaxis": "x",
           "y": [
            0.025927526962351958
           ],
           "yaxis": "y"
          },
          {
           "hoverlabel": {
            "namelength": 0
           },
           "hovertemplate": "Country=Equatorial Guinea<br>Year=2010<br>GDP=%{x}<br>Planted Forest(%)=%{y}<br>Net Export(1000 USD)=%{marker.size}",
           "ids": [
            "Equatorial Guinea"
           ],
           "legendgroup": "Country=Equatorial Guinea",
           "marker": {
            "color": "#636efa",
            "size": [
             14684
            ],
            "sizemode": "area",
            "sizeref": 11638.6725,
            "symbol": "circle"
           },
           "mode": "markers",
           "name": "Country=Equatorial Guinea",
           "showlegend": true,
           "type": "scatter",
           "x": [
            17272.0097706819
           ],
           "xaxis": "x",
           "y": [
            0.004456327985739751
           ],
           "yaxis": "y"
          },
          {
           "hoverlabel": {
            "namelength": 0
           },
           "hovertemplate": "Country=Estonia<br>Year=2010<br>GDP=%{x}<br>Planted Forest(%)=%{y}<br>Net Export(1000 USD)=%{marker.size}",
           "ids": [
            "Estonia"
           ],
           "legendgroup": "Country=Estonia",
           "marker": {
            "color": "#EF553B",
            "size": [
             391182
            ],
            "sizemode": "area",
            "sizeref": 11638.6725,
            "symbol": "circle"
           },
           "mode": "markers",
           "name": "Country=Estonia",
           "showlegend": true,
           "type": "scatter",
           "x": [
            14638.6048173457
           ],
           "xaxis": "x",
           "y": [
            4.104741684359519
           ],
           "yaxis": "y"
          },
          {
           "hoverlabel": {
            "namelength": 0
           },
           "hovertemplate": "Country=Fiji<br>Year=2010<br>GDP=%{x}<br>Planted Forest(%)=%{y}<br>Net Export(1000 USD)=%{marker.size}",
           "ids": [
            "Fiji"
           ],
           "legendgroup": "Country=Fiji",
           "marker": {
            "color": "#00cc96",
            "size": [
             9274
            ],
            "sizemode": "area",
            "sizeref": 11638.6725,
            "symbol": "circle"
           },
           "mode": "markers",
           "name": "Country=Fiji",
           "showlegend": true,
           "type": "scatter",
           "x": [
            3652.52743714193
           ],
           "xaxis": "x",
           "y": [
            7.6937055281882865
           ],
           "yaxis": "y"
          },
          {
           "hoverlabel": {
            "namelength": 0
           },
           "hovertemplate": "Country=Finland<br>Year=2010<br>GDP=%{x}<br>Planted Forest(%)=%{y}<br>Net Export(1000 USD)=%{marker.size}",
           "ids": [
            "Finland"
           ],
           "legendgroup": "Country=Finland",
           "marker": {
            "color": "#ab63fa",
            "size": [
             8497059
            ],
            "sizemode": "area",
            "sizeref": 11638.6725,
            "symbol": "circle"
           },
           "mode": "markers",
           "name": "Country=Finland",
           "showlegend": true,
           "type": "scatter",
           "x": [
            46202.4151628454
           ],
           "xaxis": "x",
           "y": [
            22.294837117472852
           ],
           "yaxis": "y"
          },
          {
           "hoverlabel": {
            "namelength": 0
           },
           "hovertemplate": "Country=Gabon<br>Year=2010<br>GDP=%{x}<br>Planted Forest(%)=%{y}<br>Net Export(1000 USD)=%{marker.size}",
           "ids": [
            "Gabon"
           ],
           "legendgroup": "Country=Gabon",
           "marker": {
            "color": "#FFA15A",
            "size": [
             257371
            ],
            "sizemode": "area",
            "sizeref": 11638.6725,
            "symbol": "circle"
           },
           "mode": "markers",
           "name": "Country=Gabon",
           "showlegend": true,
           "type": "scatter",
           "x": [
            8840.73066379785
           ],
           "xaxis": "x",
           "y": [
            0.11642798928862498
           ],
           "yaxis": "y"
          },
          {
           "hoverlabel": {
            "namelength": 0
           },
           "hovertemplate": "Country=Germany<br>Year=2010<br>GDP=%{x}<br>Planted Forest(%)=%{y}<br>Net Export(1000 USD)=%{marker.size}",
           "ids": [
            "Germany"
           ],
           "legendgroup": "Country=Germany",
           "marker": {
            "color": "#19d3f3",
            "size": [
             1786387
            ],
            "sizemode": "area",
            "sizeref": 11638.6725,
            "symbol": "circle"
           },
           "mode": "markers",
           "name": "Country=Germany",
           "showlegend": true,
           "type": "scatter",
           "x": [
            41785.556912554
           ],
           "xaxis": "x",
           "y": [
            15.176291706113549
           ],
           "yaxis": "y"
          },
          {
           "hoverlabel": {
            "namelength": 0
           },
           "hovertemplate": "Country=Ghana<br>Year=2010<br>GDP=%{x}<br>Planted Forest(%)=%{y}<br>Net Export(1000 USD)=%{marker.size}",
           "ids": [
            "Ghana"
           ],
           "legendgroup": "Country=Ghana",
           "marker": {
            "color": "#FF6692",
            "size": [
             132307
            ],
            "sizemode": "area",
            "sizeref": 11638.6725,
            "symbol": "circle"
           },
           "mode": "markers",
           "name": "Country=Ghana",
           "showlegend": true,
           "type": "scatter",
           "x": [
            1298.4369515921499
           ],
           "xaxis": "x",
           "y": [
            1.142656236266151
           ],
           "yaxis": "y"
          },
          {
           "hoverlabel": {
            "namelength": 0
           },
           "hovertemplate": "Country=Guinea<br>Year=2010<br>GDP=%{x}<br>Planted Forest(%)=%{y}<br>Net Export(1000 USD)=%{marker.size}",
           "ids": [
            "Guinea"
           ],
           "legendgroup": "Country=Guinea",
           "marker": {
            "color": "#B6E880",
            "size": [
             2082
            ],
            "sizemode": "area",
            "sizeref": 11638.6725,
            "symbol": "circle"
           },
           "mode": "markers",
           "name": "Country=Guinea",
           "showlegend": true,
           "type": "scatter",
           "x": [
            672.42440256326
           ],
           "xaxis": "x",
           "y": [
            0.3784795702425525
           ],
           "yaxis": "y"
          },
          {
           "hoverlabel": {
            "namelength": 0
           },
           "hovertemplate": "Country=Guyana<br>Year=2010<br>GDP=%{x}<br>Planted Forest(%)=%{y}<br>Net Export(1000 USD)=%{marker.size}",
           "ids": [
            "Guyana"
           ],
           "legendgroup": "Country=Guyana",
           "marker": {
            "color": "#FF97FF",
            "size": [
             33548
            ],
            "sizemode": "area",
            "sizeref": 11638.6725,
            "symbol": "circle"
           },
           "mode": "markers",
           "name": "Country=Guyana",
           "showlegend": true,
           "type": "scatter",
           "x": [
            3033.24772490536
           ],
           "xaxis": "x",
           "y": [
            0
           ],
           "yaxis": "y"
          },
          {
           "hoverlabel": {
            "namelength": 0
           },
           "hovertemplate": "Country=Indonesia<br>Year=2010<br>GDP=%{x}<br>Planted Forest(%)=%{y}<br>Net Export(1000 USD)=%{marker.size}",
           "ids": [
            "Indonesia"
           ],
           "legendgroup": "Country=Indonesia",
           "marker": {
            "color": "#FECB52",
            "size": [
             2407687
            ],
            "sizemode": "area",
            "sizeref": 11638.6725,
            "symbol": "circle"
           },
           "mode": "markers",
           "name": "Country=Indonesia",
           "showlegend": true,
           "type": "scatter",
           "x": [
            3122.3628152165
           ],
           "xaxis": "x",
           "y": [
            2.651291421253388
           ],
           "yaxis": "y"
          },
          {
           "hoverlabel": {
            "namelength": 0
           },
           "hovertemplate": "Country=Lao People's Democratic Republic<br>Year=2010<br>GDP=%{x}<br>Planted Forest(%)=%{y}<br>Net Export(1000 USD)=%{marker.size}",
           "ids": [
            "Lao People's Democratic Republic"
           ],
           "legendgroup": "Country=Lao People's Democratic Republic",
           "marker": {
            "color": "#636efa",
            "size": [
             42769
            ],
            "sizemode": "area",
            "sizeref": 11638.6725,
            "symbol": "circle"
           },
           "mode": "markers",
           "name": "Country=Lao People's Democratic Republic",
           "showlegend": true,
           "type": "scatter",
           "x": [
            1140.59920478703
           ],
           "xaxis": "x",
           "y": [
            0.3033362218370884
           ],
           "yaxis": "y"
          },
          {
           "hoverlabel": {
            "namelength": 0
           },
           "hovertemplate": "Country=Latvia<br>Year=2010<br>GDP=%{x}<br>Planted Forest(%)=%{y}<br>Net Export(1000 USD)=%{marker.size}",
           "ids": [
            "Latvia"
           ],
           "legendgroup": "Country=Latvia",
           "marker": {
            "color": "#EF553B",
            "size": [
             1004053
            ],
            "sizemode": "area",
            "sizeref": 11638.6725,
            "symbol": "circle"
           },
           "mode": "markers",
           "name": "Country=Latvia",
           "showlegend": true,
           "type": "scatter",
           "x": [
            11326.219474624299
           ],
           "xaxis": "x",
           "y": [
            10.089974293059125
           ],
           "yaxis": "y"
          },
          {
           "hoverlabel": {
            "namelength": 0
           },
           "hovertemplate": "Country=Lithuania<br>Year=2010<br>GDP=%{x}<br>Planted Forest(%)=%{y}<br>Net Export(1000 USD)=%{marker.size}",
           "ids": [
            "Lithuania"
           ],
           "legendgroup": "Country=Lithuania",
           "marker": {
            "color": "#ab63fa",
            "size": [
             27210
            ],
            "sizemode": "area",
            "sizeref": 11638.6725,
            "symbol": "circle"
           },
           "mode": "markers",
           "name": "Country=Lithuania",
           "showlegend": true,
           "type": "scatter",
           "x": [
            11984.8685698823
           ],
           "xaxis": "x",
           "y": [
            8.456322297566812
           ],
           "yaxis": "y"
          },
          {
           "hoverlabel": {
            "namelength": 0
           },
           "hovertemplate": "Country=Luxembourg<br>Year=2010<br>GDP=%{x}<br>Planted Forest(%)=%{y}<br>Net Export(1000 USD)=%{marker.size}",
           "ids": [
            "Luxembourg"
           ],
           "legendgroup": "Country=Luxembourg",
           "marker": {
            "color": "#FFA15A",
            "size": [
             265456
            ],
            "sizemode": "area",
            "sizeref": 11638.6725,
            "symbol": "circle"
           },
           "mode": "markers",
           "name": "Country=Luxembourg",
           "showlegend": true,
           "type": "scatter",
           "x": [
            104965.30607826699
           ],
           "xaxis": "x",
           "y": [
            11.646090534979423
           ],
           "yaxis": "y"
          },
          {
           "hoverlabel": {
            "namelength": 0
           },
           "hovertemplate": "Country=Malaysia<br>Year=2010<br>GDP=%{x}<br>Planted Forest(%)=%{y}<br>Net Export(1000 USD)=%{marker.size}",
           "ids": [
            "Malaysia"
           ],
           "legendgroup": "Country=Malaysia",
           "marker": {
            "color": "#FF6692",
            "size": [
             1373402
            ],
            "sizemode": "area",
            "sizeref": 11638.6725,
            "symbol": "circle"
           },
           "mode": "markers",
           "name": "Country=Malaysia",
           "showlegend": true,
           "type": "scatter",
           "x": [
            9040.56625117172
           ],
           "xaxis": "x",
           "y": [
            4.939887383959824
           ],
           "yaxis": "y"
          },
          {
           "hoverlabel": {
            "namelength": 0
           },
           "hovertemplate": "Country=Myanmar<br>Year=2010<br>GDP=%{x}<br>Planted Forest(%)=%{y}<br>Net Export(1000 USD)=%{marker.size}",
           "ids": [
            "Myanmar"
           ],
           "legendgroup": "Country=Myanmar",
           "marker": {
            "color": "#B6E880",
            "size": [
             236630
            ],
            "sizemode": "area",
            "sizeref": 11638.6725,
            "symbol": "circle"
           },
           "mode": "markers",
           "name": "Country=Myanmar",
           "showlegend": true,
           "type": "scatter",
           "x": [
            979.051630004942
           ],
           "xaxis": "x",
           "y": [
            1.5124146587882314
           ],
           "yaxis": "y"
          },
          {
           "hoverlabel": {
            "namelength": 0
           },
           "hovertemplate": "Country=New Zealand<br>Year=2010<br>GDP=%{x}<br>Planted Forest(%)=%{y}<br>Net Export(1000 USD)=%{marker.size}",
           "ids": [
            "New Zealand"
           ],
           "legendgroup": "Country=New Zealand",
           "marker": {
            "color": "#FF97FF",
            "size": [
             1471848
            ],
            "sizemode": "area",
            "sizeref": 11638.6725,
            "symbol": "circle"
           },
           "mode": "markers",
           "name": "Country=New Zealand",
           "showlegend": true,
           "type": "scatter",
           "x": [
            33692.0108346543
           ],
           "xaxis": "x",
           "y": [
            7.907029736812123
           ],
           "yaxis": "y"
          },
          {
           "hoverlabel": {
            "namelength": 0
           },
           "hovertemplate": "Country=Norway<br>Year=2010<br>GDP=%{x}<br>Planted Forest(%)=%{y}<br>Net Export(1000 USD)=%{marker.size}",
           "ids": [
            "Norway"
           ],
           "legendgroup": "Country=Norway",
           "marker": {
            "color": "#FECB52",
            "size": [
             656680
            ],
            "sizemode": "area",
            "sizeref": 11638.6725,
            "symbol": "circle"
           },
           "mode": "markers",
           "name": "Country=Norway",
           "showlegend": true,
           "type": "scatter",
           "x": [
            87770.26684434009
           ],
           "xaxis": "x",
           "y": [
            4.0055415010239726
           ],
           "yaxis": "y"
          },
          {
           "hoverlabel": {
            "namelength": 0
           },
           "hovertemplate": "Country=Papua New Guinea<br>Year=2010<br>GDP=%{x}<br>Planted Forest(%)=%{y}<br>Net Export(1000 USD)=%{marker.size}",
           "ids": [
            "Papua New Guinea"
           ],
           "legendgroup": "Country=Papua New Guinea",
           "marker": {
            "color": "#636efa",
            "size": [
             65931
            ],
            "sizemode": "area",
            "sizeref": 11638.6725,
            "symbol": "circle"
           },
           "mode": "markers",
           "name": "Country=Papua New Guinea",
           "showlegend": true,
           "type": "scatter",
           "x": [
            1949.3485595258999
           ],
           "xaxis": "x",
           "y": [
            0
           ],
           "yaxis": "y"
          },
          {
           "hoverlabel": {
            "namelength": 0
           },
           "hovertemplate": "Country=Portugal<br>Year=2010<br>GDP=%{x}<br>Planted Forest(%)=%{y}<br>Net Export(1000 USD)=%{marker.size}",
           "ids": [
            "Portugal"
           ],
           "legendgroup": "Country=Portugal",
           "marker": {
            "color": "#EF553B",
            "size": [
             720962
            ],
            "sizemode": "area",
            "sizeref": 11638.6725,
            "symbol": "circle"
           },
           "mode": "markers",
           "name": "Country=Portugal",
           "showlegend": true,
           "type": "scatter",
           "x": [
            22538.654077348197
           ],
           "xaxis": "x",
           "y": [
            9.444262474069221
           ],
           "yaxis": "y"
          },
          {
           "hoverlabel": {
            "namelength": 0
           },
           "hovertemplate": "Country=Romania<br>Year=2010<br>GDP=%{x}<br>Planted Forest(%)=%{y}<br>Net Export(1000 USD)=%{marker.size}",
           "ids": [
            "Romania"
           ],
           "legendgroup": "Country=Romania",
           "marker": {
            "color": "#00cc96",
            "size": [
             579028
            ],
            "sizemode": "area",
            "sizeref": 11638.6725,
            "symbol": "circle"
           },
           "mode": "markers",
           "name": "Country=Romania",
           "showlegend": true,
           "type": "scatter",
           "x": [
            8209.9194562169
           ],
           "xaxis": "x",
           "y": [
            2.347315800912845
           ],
           "yaxis": "y"
          },
          {
           "hoverlabel": {
            "namelength": 0
           },
           "hovertemplate": "Country=Russian Federation<br>Year=2010<br>GDP=%{x}<br>Planted Forest(%)=%{y}<br>Net Export(1000 USD)=%{marker.size}",
           "ids": [
            "Russian Federation"
           ],
           "legendgroup": "Country=Russian Federation",
           "marker": {
            "color": "#ab63fa",
            "size": [
             3637839
            ],
            "sizemode": "area",
            "sizeref": 11638.6725,
            "symbol": "circle"
           },
           "mode": "markers",
           "name": "Country=Russian Federation",
           "showlegend": true,
           "type": "scatter",
           "x": [
            10674.9972024225
           ],
           "xaxis": "x",
           "y": [
            1.1975975873289586
           ],
           "yaxis": "y"
          },
          {
           "hoverlabel": {
            "namelength": 0
           },
           "hovertemplate": "Country=Slovakia<br>Year=2010<br>GDP=%{x}<br>Planted Forest(%)=%{y}<br>Net Export(1000 USD)=%{marker.size}",
           "ids": [
            "Slovakia"
           ],
           "legendgroup": "Country=Slovakia",
           "marker": {
            "color": "#19d3f3",
            "size": [
             523737
            ],
            "sizemode": "area",
            "sizeref": 11638.6725,
            "symbol": "circle"
           },
           "mode": "markers",
           "name": "Country=Slovakia",
           "showlegend": true,
           "type": "scatter",
           "x": [
            16600.6135880385
           ],
           "xaxis": "x",
           "y": [
            20.003742904077683
           ],
           "yaxis": "y"
          },
          {
           "hoverlabel": {
            "namelength": 0
           },
           "hovertemplate": "Country=Slovenia<br>Year=2010<br>GDP=%{x}<br>Planted Forest(%)=%{y}<br>Net Export(1000 USD)=%{marker.size}",
           "ids": [
            "Slovenia"
           ],
           "legendgroup": "Country=Slovenia",
           "marker": {
            "color": "#FF6692",
            "size": [
             128497
            ],
            "sizemode": "area",
            "sizeref": 11638.6725,
            "symbol": "circle"
           },
           "mode": "markers",
           "name": "Country=Slovenia",
           "showlegend": true,
           "type": "scatter",
           "x": [
            23437.472021138703
           ],
           "xaxis": "x",
           "y": [
            1.5883888773068868
           ],
           "yaxis": "y"
          },
          {
           "hoverlabel": {
            "namelength": 0
           },
           "hovertemplate": "Country=Solomon Islands<br>Year=2010<br>GDP=%{x}<br>Planted Forest(%)=%{y}<br>Net Export(1000 USD)=%{marker.size}",
           "ids": [
            "Solomon Islands"
           ],
           "legendgroup": "Country=Solomon Islands",
           "marker": {
            "color": "#B6E880",
            "size": [
             29847
            ],
            "sizemode": "area",
            "sizeref": 11638.6725,
            "symbol": "circle"
           },
           "mode": "markers",
           "name": "Country=Solomon Islands",
           "showlegend": true,
           "type": "scatter",
           "x": [
            1290.39877914169
           ],
           "xaxis": "x",
           "y": [
            0.961057520543051
           ],
           "yaxis": "y"
          },
          {
           "hoverlabel": {
            "namelength": 0
           },
           "hovertemplate": "Country=Somalia<br>Year=2010<br>GDP=%{x}<br>Planted Forest(%)=%{y}<br>Net Export(1000 USD)=%{marker.size}",
           "ids": [
            "Somalia"
           ],
           "legendgroup": "Country=Somalia",
           "marker": {
            "color": "#FF97FF",
            "size": [
             13134
            ],
            "sizemode": "area",
            "sizeref": 11638.6725,
            "symbol": "circle"
           },
           "mode": "markers",
           "name": "Country=Somalia",
           "showlegend": true,
           "type": "scatter",
           "x": [
            null
           ],
           "xaxis": "x",
           "y": [
            0.004782095833200497
           ],
           "yaxis": "y"
          },
          {
           "hoverlabel": {
            "namelength": 0
           },
           "hovertemplate": "Country=South Africa<br>Year=2010<br>GDP=%{x}<br>Planted Forest(%)=%{y}<br>Net Export(1000 USD)=%{marker.size}",
           "ids": [
            "South Africa"
           ],
           "legendgroup": "Country=South Africa",
           "marker": {
            "color": "#FECB52",
            "size": [
             398748
            ],
            "sizemode": "area",
            "sizeref": 11638.6725,
            "symbol": "circle"
           },
           "mode": "markers",
           "name": "Country=South Africa",
           "showlegend": true,
           "type": "scatter",
           "x": [
            7328.593645608309
           ],
           "xaxis": "x",
           "y": [
            1.4533134392336924
           ],
           "yaxis": "y"
          },
          {
           "hoverlabel": {
            "namelength": 0
           },
           "hovertemplate": "Country=Sweden<br>Year=2010<br>GDP=%{x}<br>Planted Forest(%)=%{y}<br>Net Export(1000 USD)=%{marker.size}",
           "ids": [
            "Sweden"
           ],
           "legendgroup": "Country=Sweden",
           "marker": {
            "color": "#EF553B",
            "size": [
             12490808
            ],
            "sizemode": "area",
            "sizeref": 11638.6725,
            "symbol": "circle"
           },
           "mode": "markers",
           "name": "Country=Sweden",
           "showlegend": true,
           "type": "scatter",
           "x": [
            52132.918527158094
           ],
           "xaxis": "x",
           "y": [
            30.618511478286297
           ],
           "yaxis": "y"
          },
          {
           "hoverlabel": {
            "namelength": 0
           },
           "hovertemplate": "Country=Timor-Leste<br>Year=2010<br>GDP=%{x}<br>Planted Forest(%)=%{y}<br>Net Export(1000 USD)=%{marker.size}",
           "ids": [
            "Timor-Leste"
           ],
           "legendgroup": "Country=Timor-Leste",
           "marker": {
            "color": "#00cc96",
            "size": [
             2319
            ],
            "sizemode": "area",
            "sizeref": 11638.6725,
            "symbol": "circle"
           },
           "mode": "markers",
           "name": "Country=Timor-Leste",
           "showlegend": true,
           "type": "scatter",
           "x": [
            3656.95217543315
           ],
           "xaxis": "x",
           "y": [
            2.89172831203766
           ],
           "yaxis": "y"
          },
          {
           "hoverlabel": {
            "namelength": 0
           },
           "hovertemplate": "Country=Uruguay<br>Year=2010<br>GDP=%{x}<br>Planted Forest(%)=%{y}<br>Net Export(1000 USD)=%{marker.size}",
           "ids": [
            "Uruguay"
           ],
           "legendgroup": "Country=Uruguay",
           "marker": {
            "color": "#19d3f3",
            "size": [
             422512
            ],
            "sizemode": "area",
            "sizeref": 11638.6725,
            "symbol": "circle"
           },
           "mode": "markers",
           "name": "Country=Uruguay",
           "showlegend": true,
           "type": "scatter",
           "x": [
            11992.0166261774
           ],
           "xaxis": "x",
           "y": [
            5.59364644040681
           ],
           "yaxis": "y"
          }
         ],
         "name": "2010"
        },
        {
         "data": [
          {
           "hoverlabel": {
            "namelength": 0
           },
           "hovertemplate": "Country=Austria<br>Year=2011<br>GDP=%{x}<br>Planted Forest(%)=%{y}<br>Net Export(1000 USD)=%{marker.size}",
           "ids": [
            "Austria"
           ],
           "legendgroup": "Country=Austria",
           "marker": {
            "color": "#636efa",
            "size": [
             3219653
            ],
            "sizemode": "area",
            "sizeref": 11638.6725,
            "symbol": "circle"
           },
           "mode": "markers",
           "name": "Country=Austria",
           "showlegend": true,
           "type": "scatter",
           "x": [
            51374.9584066934
           ],
           "xaxis": "x",
           "y": [
            20.53269703613086
           ],
           "yaxis": "y"
          },
          {
           "hoverlabel": {
            "namelength": 0
           },
           "hovertemplate": "Country=Belgium<br>Year=2011<br>GDP=%{x}<br>Planted Forest(%)=%{y}<br>Net Export(1000 USD)=%{marker.size}",
           "ids": [
            "Belgium"
           ],
           "legendgroup": "Country=Belgium",
           "marker": {
            "color": "#00cc96",
            "size": [
             427234
            ],
            "sizemode": "area",
            "sizeref": 11638.6725,
            "symbol": "circle"
           },
           "mode": "markers",
           "name": "Country=Belgium",
           "showlegend": true,
           "type": "scatter",
           "x": [
            47743.7805335086
           ],
           "xaxis": "x",
           "y": [
            13.110303830911493
           ],
           "yaxis": "y"
          },
          {
           "hoverlabel": {
            "namelength": 0
           },
           "hovertemplate": "Country=Belize<br>Year=2011<br>GDP=%{x}<br>Planted Forest(%)=%{y}<br>Net Export(1000 USD)=%{marker.size}",
           "ids": [
            "Belize"
           ],
           "legendgroup": "Country=Belize",
           "marker": {
            "color": "#ab63fa",
            "size": [
             8117
            ],
            "sizemode": "area",
            "sizeref": 11638.6725,
            "symbol": "circle"
           },
           "mode": "markers",
           "name": "Country=Belize",
           "showlegend": true,
           "type": "scatter",
           "x": [
            4501.60263689411
           ],
           "xaxis": "x",
           "y": [
            0.10521701008329679
           ],
           "yaxis": "y"
          },
          {
           "hoverlabel": {
            "namelength": 0
           },
           "hovertemplate": "Country=Benin<br>Year=2011<br>GDP=%{x}<br>Planted Forest(%)=%{y}<br>Net Export(1000 USD)=%{marker.size}",
           "ids": [
            "Benin"
           ],
           "legendgroup": "Country=Benin",
           "marker": {
            "color": "#FFA15A",
            "size": [
             13416
            ],
            "sizemode": "area",
            "sizeref": 11638.6725,
            "symbol": "circle"
           },
           "mode": "markers",
           "name": "Country=Benin",
           "showlegend": true,
           "type": "scatter",
           "x": [
            825.940340926735
           ],
           "xaxis": "x",
           "y": [
            0.17559418233416108
           ],
           "yaxis": "y"
          },
          {
           "hoverlabel": {
            "namelength": 0
           },
           "hovertemplate": "Country=Bosnia and Herzegovina<br>Year=2011<br>GDP=%{x}<br>Planted Forest(%)=%{y}<br>Net Export(1000 USD)=%{marker.size}",
           "ids": [
            "Bosnia and Herzegovina"
           ],
           "legendgroup": "Country=Bosnia and Herzegovina",
           "marker": {
            "color": "#FF6692",
            "size": [
             140250
            ],
            "sizemode": "area",
            "sizeref": 11638.6725,
            "symbol": "circle"
           },
           "mode": "markers",
           "name": "Country=Bosnia and Herzegovina",
           "showlegend": true,
           "type": "scatter",
           "x": [
            5092.5519432889505
           ],
           "xaxis": "x",
           "y": [
            19.51171875
           ],
           "yaxis": "y"
          },
          {
           "hoverlabel": {
            "namelength": 0
           },
           "hovertemplate": "Country=Brazil<br>Year=2011<br>GDP=%{x}<br>Planted Forest(%)=%{y}<br>Net Export(1000 USD)=%{marker.size}",
           "ids": [
            "Brazil"
           ],
           "legendgroup": "Country=Brazil",
           "marker": {
            "color": "#B6E880",
            "size": [
             4969721
            ],
            "sizemode": "area",
            "sizeref": 11638.6725,
            "symbol": "circle"
           },
           "mode": "markers",
           "name": "Country=Brazil",
           "showlegend": true,
           "type": "scatter",
           "x": [
            13245.615526158
           ],
           "xaxis": "x",
           "y": [
            0.852534176264097
           ],
           "yaxis": "y"
          },
          {
           "hoverlabel": {
            "namelength": 0
           },
           "hovertemplate": "Country=Bulgaria<br>Year=2011<br>GDP=%{x}<br>Planted Forest(%)=%{y}<br>Net Export(1000 USD)=%{marker.size}",
           "ids": [
            "Bulgaria"
           ],
           "legendgroup": "Country=Bulgaria",
           "marker": {
            "color": "#FF97FF",
            "size": [
             50391
            ],
            "sizemode": "area",
            "sizeref": 11638.6725,
            "symbol": "circle"
           },
           "mode": "markers",
           "name": "Country=Bulgaria",
           "showlegend": true,
           "type": "scatter",
           "x": [
            7813.80669236432
           ],
           "xaxis": "x",
           "y": [
            7.525792188651437
           ],
           "yaxis": "y"
          },
          {
           "hoverlabel": {
            "namelength": 0
           },
           "hovertemplate": "Country=Cameroon<br>Year=2011<br>GDP=%{x}<br>Planted Forest(%)=%{y}<br>Net Export(1000 USD)=%{marker.size}",
           "ids": [
            "Cameroon"
           ],
           "legendgroup": "Country=Cameroon",
           "marker": {
            "color": "#636efa",
            "size": [
             402327
            ],
            "sizemode": "area",
            "sizeref": 11638.6725,
            "symbol": "circle"
           },
           "mode": "markers",
           "name": "Country=Cameroon",
           "showlegend": true,
           "type": "scatter",
           "x": [
            1403.2556380893
           ],
           "xaxis": "x",
           "y": [
            0.04417084470394111
           ],
           "yaxis": "y"
          },
          {
           "hoverlabel": {
            "namelength": 0
           },
           "hovertemplate": "Country=Canada<br>Year=2011<br>GDP=%{x}<br>Planted Forest(%)=%{y}<br>Net Export(1000 USD)=%{marker.size}",
           "ids": [
            "Canada"
           ],
           "legendgroup": "Country=Canada",
           "marker": {
            "color": "#EF553B",
            "size": [
             13332882
            ],
            "sizemode": "area",
            "sizeref": 11638.6725,
            "symbol": "circle"
           },
           "mode": "markers",
           "name": "Country=Canada",
           "showlegend": true,
           "type": "scatter",
           "x": [
            52101.7960864825
           ],
           "xaxis": "x",
           "y": [
            1.5990916381409366
           ],
           "yaxis": "y"
          },
          {
           "hoverlabel": {
            "namelength": 0
           },
           "hovertemplate": "Country=Central African Republic<br>Year=2011<br>GDP=%{x}<br>Planted Forest(%)=%{y}<br>Net Export(1000 USD)=%{marker.size}",
           "ids": [
            "Central African Republic"
           ],
           "legendgroup": "Country=Central African Republic",
           "marker": {
            "color": "#00cc96",
            "size": [
             30511
            ],
            "sizemode": "area",
            "sizeref": 11638.6725,
            "symbol": "circle"
           },
           "mode": "markers",
           "name": "Country=Central African Republic",
           "showlegend": true,
           "type": "scatter",
           "x": [
            551.028057642347
           ],
           "xaxis": "x",
           "y": [
            0.003210375935021991
           ],
           "yaxis": "y"
          },
          {
           "hoverlabel": {
            "namelength": 0
           },
           "hovertemplate": "Country=Chile<br>Year=2011<br>GDP=%{x}<br>Planted Forest(%)=%{y}<br>Net Export(1000 USD)=%{marker.size}",
           "ids": [
            "Chile"
           ],
           "legendgroup": "Country=Chile",
           "marker": {
            "color": "#FFA15A",
            "size": [
             3041130
            ],
            "sizemode": "area",
            "sizeref": 11638.6725,
            "symbol": "circle"
           },
           "mode": "markers",
           "name": "Country=Chile",
           "showlegend": true,
           "type": "scatter",
           "x": [
            14637.240235540301
           ],
           "xaxis": "x",
           "y": [
            3.3838489802725373
           ],
           "yaxis": "y"
          },
          {
           "hoverlabel": {
            "namelength": 0
           },
           "hovertemplate": "Country=Congo<br>Year=2011<br>GDP=%{x}<br>Planted Forest(%)=%{y}<br>Net Export(1000 USD)=%{marker.size}",
           "ids": [
            "Congo"
           ],
           "legendgroup": "Country=Congo",
           "marker": {
            "color": "#19d3f3",
            "size": [
             91441
            ],
            "sizemode": "area",
            "sizeref": 11638.6725,
            "symbol": "circle"
           },
           "mode": "markers",
           "name": "Country=Congo",
           "showlegend": true,
           "type": "scatter",
           "x": [
            3282.39345461725
           ],
           "xaxis": "x",
           "y": [
            0.21727672035139092
           ],
           "yaxis": "y"
          },
          {
           "hoverlabel": {
            "namelength": 0
           },
           "hovertemplate": "Country=Croatia<br>Year=2011<br>GDP=%{x}<br>Planted Forest(%)=%{y}<br>Net Export(1000 USD)=%{marker.size}",
           "ids": [
            "Croatia"
           ],
           "legendgroup": "Country=Croatia",
           "marker": {
            "color": "#FF6692",
            "size": [
             164575
            ],
            "sizemode": "area",
            "sizeref": 11638.6725,
            "symbol": "circle"
           },
           "mode": "markers",
           "name": "Country=Croatia",
           "showlegend": true,
           "type": "scatter",
           "x": [
            14577.1988851678
           ],
           "xaxis": "x",
           "y": [
            1.2687634024303074
           ],
           "yaxis": "y"
          },
          {
           "hoverlabel": {
            "namelength": 0
           },
           "hovertemplate": "Country=Czechia<br>Year=2011<br>GDP=%{x}<br>Planted Forest(%)=%{y}<br>Net Export(1000 USD)=%{marker.size}",
           "ids": [
            "Czechia"
           ],
           "legendgroup": "Country=Czechia",
           "marker": {
            "color": "#B6E880",
            "size": [
             568050
            ],
            "sizemode": "area",
            "sizeref": 11638.6725,
            "symbol": "circle"
           },
           "mode": "markers",
           "name": "Country=Czechia",
           "showlegend": true,
           "type": "scatter",
           "x": [
            21717.4579392202
           ],
           "xaxis": "x",
           "y": [
            34.12454686690834
           ],
           "yaxis": "y"
          },
          {
           "hoverlabel": {
            "namelength": 0
           },
           "hovertemplate": "Country=Democratic Republic of the Congo<br>Year=2011<br>GDP=%{x}<br>Planted Forest(%)=%{y}<br>Net Export(1000 USD)=%{marker.size}",
           "ids": [
            "Democratic Republic of the Congo"
           ],
           "legendgroup": "Country=Democratic Republic of the Congo",
           "marker": {
            "color": "#FF97FF",
            "size": [
             42802
            ],
            "sizemode": "area",
            "sizeref": 11638.6725,
            "symbol": "circle"
           },
           "mode": "markers",
           "name": "Country=Democratic Republic of the Congo",
           "showlegend": true,
           "type": "scatter",
           "x": [
            387.08246536078104
           ],
           "xaxis": "x",
           "y": [
            0.026067003374429323
           ],
           "yaxis": "y"
          },
          {
           "hoverlabel": {
            "namelength": 0
           },
           "hovertemplate": "Country=Equatorial Guinea<br>Year=2011<br>GDP=%{x}<br>Planted Forest(%)=%{y}<br>Net Export(1000 USD)=%{marker.size}",
           "ids": [
            "Equatorial Guinea"
           ],
           "legendgroup": "Country=Equatorial Guinea",
           "marker": {
            "color": "#636efa",
            "size": [
             18076
            ],
            "sizemode": "area",
            "sizeref": 11638.6725,
            "symbol": "circle"
           },
           "mode": "markers",
           "name": "Country=Equatorial Guinea",
           "showlegend": true,
           "type": "scatter",
           "x": [
            21613.5492326324
           ],
           "xaxis": "x",
           "y": [
            0.004456327985739751
           ],
           "yaxis": "y"
          },
          {
           "hoverlabel": {
            "namelength": 0
           },
           "hovertemplate": "Country=Estonia<br>Year=2011<br>GDP=%{x}<br>Planted Forest(%)=%{y}<br>Net Export(1000 USD)=%{marker.size}",
           "ids": [
            "Estonia"
           ],
           "legendgroup": "Country=Estonia",
           "marker": {
            "color": "#EF553B",
            "size": [
             456928
            ],
            "sizemode": "area",
            "sizeref": 11638.6725,
            "symbol": "circle"
           },
           "mode": "markers",
           "name": "Country=Estonia",
           "showlegend": true,
           "type": "scatter",
           "x": [
            17454.843424643503
           ],
           "xaxis": "x",
           "y": [
            4.104741684359519
           ],
           "yaxis": "y"
          },
          {
           "hoverlabel": {
            "namelength": 0
           },
           "hovertemplate": "Country=Fiji<br>Year=2011<br>GDP=%{x}<br>Planted Forest(%)=%{y}<br>Net Export(1000 USD)=%{marker.size}",
           "ids": [
            "Fiji"
           ],
           "legendgroup": "Country=Fiji",
           "marker": {
            "color": "#00cc96",
            "size": [
             645
            ],
            "sizemode": "area",
            "sizeref": 11638.6725,
            "symbol": "circle"
           },
           "mode": "markers",
           "name": "Country=Fiji",
           "showlegend": true,
           "type": "scatter",
           "x": [
            4371.45751012411
           ],
           "xaxis": "x",
           "y": [
            7.8427038861521625
           ],
           "yaxis": "y"
          },
          {
           "hoverlabel": {
            "namelength": 0
           },
           "hovertemplate": "Country=Finland<br>Year=2011<br>GDP=%{x}<br>Planted Forest(%)=%{y}<br>Net Export(1000 USD)=%{marker.size}",
           "ids": [
            "Finland"
           ],
           "legendgroup": "Country=Finland",
           "marker": {
            "color": "#ab63fa",
            "size": [
             9318956
            ],
            "sizemode": "area",
            "sizeref": 11638.6725,
            "symbol": "circle"
           },
           "mode": "markers",
           "name": "Country=Finland",
           "showlegend": true,
           "type": "scatter",
           "x": [
            50790.7241454802
           ],
           "xaxis": "x",
           "y": [
            22.2955707657376
           ],
           "yaxis": "y"
          },
          {
           "hoverlabel": {
            "namelength": 0
           },
           "hovertemplate": "Country=Gabon<br>Year=2011<br>GDP=%{x}<br>Planted Forest(%)=%{y}<br>Net Export(1000 USD)=%{marker.size}",
           "ids": [
            "Gabon"
           ],
           "legendgroup": "Country=Gabon",
           "marker": {
            "color": "#FFA15A",
            "size": [
             214574
            ],
            "sizemode": "area",
            "sizeref": 11638.6725,
            "symbol": "circle"
           },
           "mode": "markers",
           "name": "Country=Gabon",
           "showlegend": true,
           "type": "scatter",
           "x": [
            10795.5005802196
           ],
           "xaxis": "x",
           "y": [
            0.11642798928862498
           ],
           "yaxis": "y"
          },
          {
           "hoverlabel": {
            "namelength": 0
           },
           "hovertemplate": "Country=Germany<br>Year=2011<br>GDP=%{x}<br>Planted Forest(%)=%{y}<br>Net Export(1000 USD)=%{marker.size}",
           "ids": [
            "Germany"
           ],
           "legendgroup": "Country=Germany",
           "marker": {
            "color": "#19d3f3",
            "size": [
             1361273
            ],
            "sizemode": "area",
            "sizeref": 11638.6725,
            "symbol": "circle"
           },
           "mode": "markers",
           "name": "Country=Germany",
           "showlegend": true,
           "type": "scatter",
           "x": [
            46810.327958805705
           ],
           "xaxis": "x",
           "y": [
            15.179596052329586
           ],
           "yaxis": "y"
          },
          {
           "hoverlabel": {
            "namelength": 0
           },
           "hovertemplate": "Country=Ghana<br>Year=2011<br>GDP=%{x}<br>Planted Forest(%)=%{y}<br>Net Export(1000 USD)=%{marker.size}",
           "ids": [
            "Ghana"
           ],
           "legendgroup": "Country=Ghana",
           "marker": {
            "color": "#FF6692",
            "size": [
             484149
            ],
            "sizemode": "area",
            "sizeref": 11638.6725,
            "symbol": "circle"
           },
           "mode": "markers",
           "name": "Country=Ghana",
           "showlegend": true,
           "type": "scatter",
           "x": [
            1558.482133003
           ],
           "xaxis": "x",
           "y": [
            1.1997890480794586
           ],
           "yaxis": "y"
          },
          {
           "hoverlabel": {
            "namelength": 0
           },
           "hovertemplate": "Country=Guyana<br>Year=2011<br>GDP=%{x}<br>Planted Forest(%)=%{y}<br>Net Export(1000 USD)=%{marker.size}",
           "ids": [
            "Guyana"
           ],
           "legendgroup": "Country=Guyana",
           "marker": {
            "color": "#FF97FF",
            "size": [
             16886
            ],
            "sizemode": "area",
            "sizeref": 11638.6725,
            "symbol": "circle"
           },
           "mode": "markers",
           "name": "Country=Guyana",
           "showlegend": true,
           "type": "scatter",
           "x": [
            3425.4364406356203
           ],
           "xaxis": "x",
           "y": [
            0
           ],
           "yaxis": "y"
          },
          {
           "hoverlabel": {
            "namelength": 0
           },
           "hovertemplate": "Country=Indonesia<br>Year=2011<br>GDP=%{x}<br>Planted Forest(%)=%{y}<br>Net Export(1000 USD)=%{marker.size}",
           "ids": [
            "Indonesia"
           ],
           "legendgroup": "Country=Indonesia",
           "marker": {
            "color": "#FECB52",
            "size": [
             3022862
            ],
            "sizemode": "area",
            "sizeref": 11638.6725,
            "symbol": "circle"
           },
           "mode": "markers",
           "name": "Country=Indonesia",
           "showlegend": true,
           "type": "scatter",
           "x": [
            3643.0439361610297
           ],
           "xaxis": "x",
           "y": [
            2.667078832173198
           ],
           "yaxis": "y"
          },
          {
           "hoverlabel": {
            "namelength": 0
           },
           "hovertemplate": "Country=Lao People's Democratic Republic<br>Year=2011<br>GDP=%{x}<br>Planted Forest(%)=%{y}<br>Net Export(1000 USD)=%{marker.size}",
           "ids": [
            "Lao People's Democratic Republic"
           ],
           "legendgroup": "Country=Lao People's Democratic Republic",
           "marker": {
            "color": "#636efa",
            "size": [
             43721
            ],
            "sizemode": "area",
            "sizeref": 11638.6725,
            "symbol": "circle"
           },
           "mode": "markers",
           "name": "Country=Lao People's Democratic Republic",
           "showlegend": true,
           "type": "scatter",
           "x": [
            1378.36136494331
           ],
           "xaxis": "x",
           "y": [
            0.34068457538994795
           ],
           "yaxis": "y"
          },
          {
           "hoverlabel": {
            "namelength": 0
           },
           "hovertemplate": "Country=Latvia<br>Year=2011<br>GDP=%{x}<br>Planted Forest(%)=%{y}<br>Net Export(1000 USD)=%{marker.size}",
           "ids": [
            "Latvia"
           ],
           "legendgroup": "Country=Latvia",
           "marker": {
            "color": "#EF553B",
            "size": [
             1122589
            ],
            "sizemode": "area",
            "sizeref": 11638.6725,
            "symbol": "circle"
           },
           "mode": "markers",
           "name": "Country=Latvia",
           "showlegend": true,
           "type": "scatter",
           "x": [
            13702.6894696051
           ],
           "xaxis": "x",
           "y": [
            10.045016077170416
           ],
           "yaxis": "y"
          },
          {
           "hoverlabel": {
            "namelength": 0
           },
           "hovertemplate": "Country=Liberia<br>Year=2011<br>GDP=%{x}<br>Planted Forest(%)=%{y}<br>Net Export(1000 USD)=%{marker.size}",
           "ids": [
            "Liberia"
           ],
           "legendgroup": "Country=Liberia",
           "marker": {
            "color": "#00cc96",
            "size": [
             4791
            ],
            "sizemode": "area",
            "sizeref": 11638.6725,
            "symbol": "circle"
           },
           "mode": "markers",
           "name": "Country=Liberia",
           "showlegend": true,
           "type": "scatter",
           "x": [
            596.897081053795
           ],
           "xaxis": "x",
           "y": [
            0.08305647840531562
           ],
           "yaxis": "y"
          },
          {
           "hoverlabel": {
            "namelength": 0
           },
           "hovertemplate": "Country=Lithuania<br>Year=2011<br>GDP=%{x}<br>Planted Forest(%)=%{y}<br>Net Export(1000 USD)=%{marker.size}",
           "ids": [
            "Lithuania"
           ],
           "legendgroup": "Country=Lithuania",
           "marker": {
            "color": "#ab63fa",
            "size": [
             18015
            ],
            "sizemode": "area",
            "sizeref": 11638.6725,
            "symbol": "circle"
           },
           "mode": "markers",
           "name": "Country=Lithuania",
           "showlegend": true,
           "type": "scatter",
           "x": [
            14357.7352289471
           ],
           "xaxis": "x",
           "y": [
            8.58410186042059
           ],
           "yaxis": "y"
          },
          {
           "hoverlabel": {
            "namelength": 0
           },
           "hovertemplate": "Country=Luxembourg<br>Year=2011<br>GDP=%{x}<br>Planted Forest(%)=%{y}<br>Net Export(1000 USD)=%{marker.size}",
           "ids": [
            "Luxembourg"
           ],
           "legendgroup": "Country=Luxembourg",
           "marker": {
            "color": "#FFA15A",
            "size": [
             244620
            ],
            "sizemode": "area",
            "sizeref": 11638.6725,
            "symbol": "circle"
           },
           "mode": "markers",
           "name": "Country=Luxembourg",
           "showlegend": true,
           "type": "scatter",
           "x": [
            115761.507705096
           ],
           "xaxis": "x",
           "y": [
            11.646090534979423
           ],
           "yaxis": "y"
          },
          {
           "hoverlabel": {
            "namelength": 0
           },
           "hovertemplate": "Country=Malaysia<br>Year=2011<br>GDP=%{x}<br>Planted Forest(%)=%{y}<br>Net Export(1000 USD)=%{marker.size}",
           "ids": [
            "Malaysia"
           ],
           "legendgroup": "Country=Malaysia",
           "marker": {
            "color": "#FF6692",
            "size": [
             1958692
            ],
            "sizemode": "area",
            "sizeref": 11638.6725,
            "symbol": "circle"
           },
           "mode": "markers",
           "name": "Country=Malaysia",
           "showlegend": true,
           "type": "scatter",
           "x": [
            10399.372753345
           ],
           "xaxis": "x",
           "y": [
            5.1486836098006385
           ],
           "yaxis": "y"
          },
          {
           "hoverlabel": {
            "namelength": 0
           },
           "hovertemplate": "Country=Myanmar<br>Year=2011<br>GDP=%{x}<br>Planted Forest(%)=%{y}<br>Net Export(1000 USD)=%{marker.size}",
           "ids": [
            "Myanmar"
           ],
           "legendgroup": "Country=Myanmar",
           "marker": {
            "color": "#B6E880",
            "size": [
             604638
            ],
            "sizemode": "area",
            "sizeref": 11638.6725,
            "symbol": "circle"
           },
           "mode": "markers",
           "name": "Country=Myanmar",
           "showlegend": true,
           "type": "scatter",
           "x": [
            1176.2424533610902
           ],
           "xaxis": "x",
           "y": [
            1.4988749253777036
           ],
           "yaxis": "y"
          },
          {
           "hoverlabel": {
            "namelength": 0
           },
           "hovertemplate": "Country=New Zealand<br>Year=2011<br>GDP=%{x}<br>Planted Forest(%)=%{y}<br>Net Export(1000 USD)=%{marker.size}",
           "ids": [
            "New Zealand"
           ],
           "legendgroup": "Country=New Zealand",
           "marker": {
            "color": "#FF97FF",
            "size": [
             1831107
            ],
            "sizemode": "area",
            "sizeref": 11638.6725,
            "symbol": "circle"
           },
           "mode": "markers",
           "name": "Country=New Zealand",
           "showlegend": true,
           "type": "scatter",
           "x": [
            38426.5508077771
           ],
           "xaxis": "x",
           "y": [
            7.9108275416809075
           ],
           "yaxis": "y"
          },
          {
           "hoverlabel": {
            "namelength": 0
           },
           "hovertemplate": "Country=Norway<br>Year=2011<br>GDP=%{x}<br>Planted Forest(%)=%{y}<br>Net Export(1000 USD)=%{marker.size}",
           "ids": [
            "Norway"
           ],
           "legendgroup": "Country=Norway",
           "marker": {
            "color": "#FECB52",
            "size": [
             641933
            ],
            "sizemode": "area",
            "sizeref": 11638.6725,
            "symbol": "circle"
           },
           "mode": "markers",
           "name": "Country=Norway",
           "showlegend": true,
           "type": "scatter",
           "x": [
            100711.224780553
           ],
           "xaxis": "x",
           "y": [
            4.041681725093362
           ],
           "yaxis": "y"
          },
          {
           "hoverlabel": {
            "namelength": 0
           },
           "hovertemplate": "Country=Papua New Guinea<br>Year=2011<br>GDP=%{x}<br>Planted Forest(%)=%{y}<br>Net Export(1000 USD)=%{marker.size}",
           "ids": [
            "Papua New Guinea"
           ],
           "legendgroup": "Country=Papua New Guinea",
           "marker": {
            "color": "#636efa",
            "size": [
             131069
            ],
            "sizemode": "area",
            "sizeref": 11638.6725,
            "symbol": "circle"
           },
           "mode": "markers",
           "name": "Country=Papua New Guinea",
           "showlegend": true,
           "type": "scatter",
           "x": [
            2406.8971030096104
           ],
           "xaxis": "x",
           "y": [
            0
           ],
           "yaxis": "y"
          },
          {
           "hoverlabel": {
            "namelength": 0
           },
           "hovertemplate": "Country=Portugal<br>Year=2011<br>GDP=%{x}<br>Planted Forest(%)=%{y}<br>Net Export(1000 USD)=%{marker.size}",
           "ids": [
            "Portugal"
           ],
           "legendgroup": "Country=Portugal",
           "marker": {
            "color": "#EF553B",
            "size": [
             1470046
            ],
            "sizemode": "area",
            "sizeref": 11638.6725,
            "symbol": "circle"
           },
           "mode": "markers",
           "name": "Country=Portugal",
           "showlegend": true,
           "type": "scatter",
           "x": [
            23196.1837500759
           ],
           "xaxis": "x",
           "y": [
            9.501037231138772
           ],
           "yaxis": "y"
          },
          {
           "hoverlabel": {
            "namelength": 0
           },
           "hovertemplate": "Country=Romania<br>Year=2011<br>GDP=%{x}<br>Planted Forest(%)=%{y}<br>Net Export(1000 USD)=%{marker.size}",
           "ids": [
            "Romania"
           ],
           "legendgroup": "Country=Romania",
           "marker": {
            "color": "#00cc96",
            "size": [
             745237
            ],
            "sizemode": "area",
            "sizeref": 11638.6725,
            "symbol": "circle"
           },
           "mode": "markers",
           "name": "Country=Romania",
           "showlegend": true,
           "type": "scatter",
           "x": [
            9104.99562203019
           ],
           "xaxis": "x",
           "y": [
            2.371290785071903
           ],
           "yaxis": "y"
          },
          {
           "hoverlabel": {
            "namelength": 0
           },
           "hovertemplate": "Country=Russian Federation<br>Year=2011<br>GDP=%{x}<br>Planted Forest(%)=%{y}<br>Net Export(1000 USD)=%{marker.size}",
           "ids": [
            "Russian Federation"
           ],
           "legendgroup": "Country=Russian Federation",
           "marker": {
            "color": "#ab63fa",
            "size": [
             4080135
            ],
            "sizemode": "area",
            "sizeref": 11638.6725,
            "symbol": "circle"
           },
           "mode": "markers",
           "name": "Country=Russian Federation",
           "showlegend": true,
           "type": "scatter",
           "x": [
            14351.2120537731
           ],
           "xaxis": "x",
           "y": [
            1.200383223412044
           ],
           "yaxis": "y"
          },
          {
           "hoverlabel": {
            "namelength": 0
           },
           "hovertemplate": "Country=Slovakia<br>Year=2011<br>GDP=%{x}<br>Planted Forest(%)=%{y}<br>Net Export(1000 USD)=%{marker.size}",
           "ids": [
            "Slovakia"
           ],
           "legendgroup": "Country=Slovakia",
           "marker": {
            "color": "#19d3f3",
            "size": [
             453940
            ],
            "sizemode": "area",
            "sizeref": 11638.6725,
            "symbol": "circle"
           },
           "mode": "markers",
           "name": "Country=Slovakia",
           "showlegend": true,
           "type": "scatter",
           "x": [
            18187.157441947802
           ],
           "xaxis": "x",
           "y": [
            19.996672766594575
           ],
           "yaxis": "y"
          },
          {
           "hoverlabel": {
            "namelength": 0
           },
           "hovertemplate": "Country=Slovenia<br>Year=2011<br>GDP=%{x}<br>Planted Forest(%)=%{y}<br>Net Export(1000 USD)=%{marker.size}",
           "ids": [
            "Slovenia"
           ],
           "legendgroup": "Country=Slovenia",
           "marker": {
            "color": "#FF6692",
            "size": [
             287171
            ],
            "sizemode": "area",
            "sizeref": 11638.6725,
            "symbol": "circle"
           },
           "mode": "markers",
           "name": "Country=Slovenia",
           "showlegend": true,
           "type": "scatter",
           "x": [
            24985.2482718393
           ],
           "xaxis": "x",
           "y": [
            1.6082597041596345
           ],
           "yaxis": "y"
          },
          {
           "hoverlabel": {
            "namelength": 0
           },
           "hovertemplate": "Country=Solomon Islands<br>Year=2011<br>GDP=%{x}<br>Planted Forest(%)=%{y}<br>Net Export(1000 USD)=%{marker.size}",
           "ids": [
            "Solomon Islands"
           ],
           "legendgroup": "Country=Solomon Islands",
           "marker": {
            "color": "#B6E880",
            "size": [
             52368
            ],
            "sizemode": "area",
            "sizeref": 11638.6725,
            "symbol": "circle"
           },
           "mode": "markers",
           "name": "Country=Solomon Islands",
           "showlegend": true,
           "type": "scatter",
           "x": [
            1722.4181126158499
           ],
           "xaxis": "x",
           "y": [
            0.961057520543051
           ],
           "yaxis": "y"
          },
          {
           "hoverlabel": {
            "namelength": 0
           },
           "hovertemplate": "Country=Somalia<br>Year=2011<br>GDP=%{x}<br>Planted Forest(%)=%{y}<br>Net Export(1000 USD)=%{marker.size}",
           "ids": [
            "Somalia"
           ],
           "legendgroup": "Country=Somalia",
           "marker": {
            "color": "#FF97FF",
            "size": [
             5411
            ],
            "sizemode": "area",
            "sizeref": 11638.6725,
            "symbol": "circle"
           },
           "mode": "markers",
           "name": "Country=Somalia",
           "showlegend": true,
           "type": "scatter",
           "x": [
            null
           ],
           "xaxis": "x",
           "y": [
            0.004782095833200497
           ],
           "yaxis": "y"
          },
          {
           "hoverlabel": {
            "namelength": 0
           },
           "hovertemplate": "Country=South Africa<br>Year=2011<br>GDP=%{x}<br>Planted Forest(%)=%{y}<br>Net Export(1000 USD)=%{marker.size}",
           "ids": [
            "South Africa"
           ],
           "legendgroup": "Country=South Africa",
           "marker": {
            "color": "#FECB52",
            "size": [
             411265
            ],
            "sizemode": "area",
            "sizeref": 11638.6725,
            "symbol": "circle"
           },
           "mode": "markers",
           "name": "Country=South Africa",
           "showlegend": true,
           "type": "scatter",
           "x": [
            8007.377411538091
           ],
           "xaxis": "x",
           "y": [
            1.4533134392336924
           ],
           "yaxis": "y"
          },
          {
           "hoverlabel": {
            "namelength": 0
           },
           "hovertemplate": "Country=Sweden<br>Year=2011<br>GDP=%{x}<br>Planted Forest(%)=%{y}<br>Net Export(1000 USD)=%{marker.size}",
           "ids": [
            "Sweden"
           ],
           "legendgroup": "Country=Sweden",
           "marker": {
            "color": "#EF553B",
            "size": [
             13461306
            ],
            "sizemode": "area",
            "sizeref": 11638.6725,
            "symbol": "circle"
           },
           "mode": "markers",
           "name": "Country=Sweden",
           "showlegend": true,
           "type": "scatter",
           "x": [
            59666.0720198904
           ],
           "xaxis": "x",
           "y": [
            31.19023249013014
           ],
           "yaxis": "y"
          },
          {
           "hoverlabel": {
            "namelength": 0
           },
           "hovertemplate": "Country=Uruguay<br>Year=2011<br>GDP=%{x}<br>Planted Forest(%)=%{y}<br>Net Export(1000 USD)=%{marker.size}",
           "ids": [
            "Uruguay"
           ],
           "legendgroup": "Country=Uruguay",
           "marker": {
            "color": "#19d3f3",
            "size": [
             372801
            ],
            "sizemode": "area",
            "sizeref": 11638.6725,
            "symbol": "circle"
           },
           "mode": "markers",
           "name": "Country=Uruguay",
           "showlegend": true,
           "type": "scatter",
           "x": [
            14236.681188686001
           ],
           "xaxis": "x",
           "y": [
            5.688492743686436
           ],
           "yaxis": "y"
          }
         ],
         "name": "2011"
        },
        {
         "data": [
          {
           "hoverlabel": {
            "namelength": 0
           },
           "hovertemplate": "Country=Austria<br>Year=2012<br>GDP=%{x}<br>Planted Forest(%)=%{y}<br>Net Export(1000 USD)=%{marker.size}",
           "ids": [
            "Austria"
           ],
           "legendgroup": "Country=Austria",
           "marker": {
            "color": "#636efa",
            "size": [
             2663459
            ],
            "sizemode": "area",
            "sizeref": 11638.6725,
            "symbol": "circle"
           },
           "mode": "markers",
           "name": "Country=Austria",
           "showlegend": true,
           "type": "scatter",
           "x": [
            48567.69528642
           ],
           "xaxis": "x",
           "y": [
            20.524747438040556
           ],
           "yaxis": "y"
          },
          {
           "hoverlabel": {
            "namelength": 0
           },
           "hovertemplate": "Country=Belarus<br>Year=2012<br>GDP=%{x}<br>Planted Forest(%)=%{y}<br>Net Export(1000 USD)=%{marker.size}",
           "ids": [
            "Belarus"
           ],
           "legendgroup": "Country=Belarus",
           "marker": {
            "color": "#EF553B",
            "size": [
             48178
            ],
            "sizemode": "area",
            "sizeref": 11638.6725,
            "symbol": "circle"
           },
           "mode": "markers",
           "name": "Country=Belarus",
           "showlegend": true,
           "type": "scatter",
           "x": [
            6940.15925359735
           ],
           "xaxis": "x",
           "y": [
            9.256714799664877
           ],
           "yaxis": "y"
          },
          {
           "hoverlabel": {
            "namelength": 0
           },
           "hovertemplate": "Country=Belgium<br>Year=2012<br>GDP=%{x}<br>Planted Forest(%)=%{y}<br>Net Export(1000 USD)=%{marker.size}",
           "ids": [
            "Belgium"
           ],
           "legendgroup": "Country=Belgium",
           "marker": {
            "color": "#00cc96",
            "size": [
             331298
            ],
            "sizemode": "area",
            "sizeref": 11638.6725,
            "symbol": "circle"
           },
           "mode": "markers",
           "name": "Country=Belgium",
           "showlegend": true,
           "type": "scatter",
           "x": [
            44826.439611664806
           ],
           "xaxis": "x",
           "y": [
            13.086525759577277
           ],
           "yaxis": "y"
          },
          {
           "hoverlabel": {
            "namelength": 0
           },
           "hovertemplate": "Country=Benin<br>Year=2012<br>GDP=%{x}<br>Planted Forest(%)=%{y}<br>Net Export(1000 USD)=%{marker.size}",
           "ids": [
            "Benin"
           ],
           "legendgroup": "Country=Benin",
           "marker": {
            "color": "#FFA15A",
            "size": [
             6584
            ],
            "sizemode": "area",
            "sizeref": 11638.6725,
            "symbol": "circle"
           },
           "mode": "markers",
           "name": "Country=Benin",
           "showlegend": true,
           "type": "scatter",
           "x": [
            837.942920903364
           ],
           "xaxis": "x",
           "y": [
            0.18268889677190495
           ],
           "yaxis": "y"
          },
          {
           "hoverlabel": {
            "namelength": 0
           },
           "hovertemplate": "Country=Bhutan<br>Year=2012<br>GDP=%{x}<br>Planted Forest(%)=%{y}<br>Net Export(1000 USD)=%{marker.size}",
           "ids": [
            "Bhutan"
           ],
           "legendgroup": "Country=Bhutan",
           "marker": {
            "color": "#19d3f3",
            "size": [
             4571
            ],
            "sizemode": "area",
            "sizeref": 11638.6725,
            "symbol": "circle"
           },
           "mode": "markers",
           "name": "Country=Bhutan",
           "showlegend": true,
           "type": "scatter",
           "x": [
            2599.3960937145303
           ],
           "xaxis": "x",
           "y": [
            0.5710837683973031
           ],
           "yaxis": "y"
          },
          {
           "hoverlabel": {
            "namelength": 0
           },
           "hovertemplate": "Country=Bosnia and Herzegovina<br>Year=2012<br>GDP=%{x}<br>Planted Forest(%)=%{y}<br>Net Export(1000 USD)=%{marker.size}",
           "ids": [
            "Bosnia and Herzegovina"
           ],
           "legendgroup": "Country=Bosnia and Herzegovina",
           "marker": {
            "color": "#FF6692",
            "size": [
             144000
            ],
            "sizemode": "area",
            "sizeref": 11638.6725,
            "symbol": "circle"
           },
           "mode": "markers",
           "name": "Country=Bosnia and Herzegovina",
           "showlegend": true,
           "type": "scatter",
           "x": [
            4778.63608845506
           ],
           "xaxis": "x",
           "y": [
            19.51171875
           ],
           "yaxis": "y"
          },
          {
           "hoverlabel": {
            "namelength": 0
           },
           "hovertemplate": "Country=Brazil<br>Year=2012<br>GDP=%{x}<br>Planted Forest(%)=%{y}<br>Net Export(1000 USD)=%{marker.size}",
           "ids": [
            "Brazil"
           ],
           "legendgroup": "Country=Brazil",
           "marker": {
            "color": "#B6E880",
            "size": [
             4693454
            ],
            "sizemode": "area",
            "sizeref": 11638.6725,
            "symbol": "circle"
           },
           "mode": "markers",
           "name": "Country=Brazil",
           "showlegend": true,
           "type": "scatter",
           "x": [
            12370.024200714899
           ],
           "xaxis": "x",
           "y": [
            0.8707918268897146
           ],
           "yaxis": "y"
          },
          {
           "hoverlabel": {
            "namelength": 0
           },
           "hovertemplate": "Country=Bulgaria<br>Year=2012<br>GDP=%{x}<br>Planted Forest(%)=%{y}<br>Net Export(1000 USD)=%{marker.size}",
           "ids": [
            "Bulgaria"
           ],
           "legendgroup": "Country=Bulgaria",
           "marker": {
            "color": "#FF97FF",
            "size": [
             62802
            ],
            "sizemode": "area",
            "sizeref": 11638.6725,
            "symbol": "circle"
           },
           "mode": "markers",
           "name": "Country=Bulgaria",
           "showlegend": true,
           "type": "scatter",
           "x": [
            7378.02473005713
           ],
           "xaxis": "x",
           "y": [
            7.525792188651437
           ],
           "yaxis": "y"
          },
          {
           "hoverlabel": {
            "namelength": 0
           },
           "hovertemplate": "Country=Cameroon<br>Year=2012<br>GDP=%{x}<br>Planted Forest(%)=%{y}<br>Net Export(1000 USD)=%{marker.size}",
           "ids": [
            "Cameroon"
           ],
           "legendgroup": "Country=Cameroon",
           "marker": {
            "color": "#636efa",
            "size": [
             354401
            ],
            "sizemode": "area",
            "sizeref": 11638.6725,
            "symbol": "circle"
           },
           "mode": "markers",
           "name": "Country=Cameroon",
           "showlegend": true,
           "type": "scatter",
           "x": [
            1354.62308705136
           ],
           "xaxis": "x",
           "y": [
            0.04666708975904888
           ],
           "yaxis": "y"
          },
          {
           "hoverlabel": {
            "namelength": 0
           },
           "hovertemplate": "Country=Canada<br>Year=2012<br>GDP=%{x}<br>Planted Forest(%)=%{y}<br>Net Export(1000 USD)=%{marker.size}",
           "ids": [
            "Canada"
           ],
           "legendgroup": "Country=Canada",
           "marker": {
            "color": "#EF553B",
            "size": [
             12996862
            ],
            "sizemode": "area",
            "sizeref": 11638.6725,
            "symbol": "circle"
           },
           "mode": "markers",
           "name": "Country=Canada",
           "showlegend": true,
           "type": "scatter",
           "x": [
            52542.346664823206
           ],
           "xaxis": "x",
           "y": [
            1.639445926034985
           ],
           "yaxis": "y"
          },
          {
           "hoverlabel": {
            "namelength": 0
           },
           "hovertemplate": "Country=Central African Republic<br>Year=2012<br>GDP=%{x}<br>Planted Forest(%)=%{y}<br>Net Export(1000 USD)=%{marker.size}",
           "ids": [
            "Central African Republic"
           ],
           "legendgroup": "Country=Central African Republic",
           "marker": {
            "color": "#00cc96",
            "size": [
             17486
            ],
            "sizemode": "area",
            "sizeref": 11638.6725,
            "symbol": "circle"
           },
           "mode": "markers",
           "name": "Country=Central African Republic",
           "showlegend": true,
           "type": "scatter",
           "x": [
            565.833058388175
           ],
           "xaxis": "x",
           "y": [
            0.003210375935021991
           ],
           "yaxis": "y"
          },
          {
           "hoverlabel": {
            "namelength": 0
           },
           "hovertemplate": "Country=Chile<br>Year=2012<br>GDP=%{x}<br>Planted Forest(%)=%{y}<br>Net Export(1000 USD)=%{marker.size}",
           "ids": [
            "Chile"
           ],
           "legendgroup": "Country=Chile",
           "marker": {
            "color": "#FFA15A",
            "size": [
             2742584
            ],
            "sizemode": "area",
            "sizeref": 11638.6725,
            "symbol": "circle"
           },
           "mode": "markers",
           "name": "Country=Chile",
           "showlegend": true,
           "type": "scatter",
           "x": [
            15351.5513257697
           ],
           "xaxis": "x",
           "y": [
            3.561380007854403
           ],
           "yaxis": "y"
          },
          {
           "hoverlabel": {
            "namelength": 0
           },
           "hovertemplate": "Country=Congo<br>Year=2012<br>GDP=%{x}<br>Planted Forest(%)=%{y}<br>Net Export(1000 USD)=%{marker.size}",
           "ids": [
            "Congo"
           ],
           "legendgroup": "Country=Congo",
           "marker": {
            "color": "#19d3f3",
            "size": [
             28651
            ],
            "sizemode": "area",
            "sizeref": 11638.6725,
            "symbol": "circle"
           },
           "mode": "markers",
           "name": "Country=Congo",
           "showlegend": true,
           "type": "scatter",
           "x": [
            3032.6673293704303
           ],
           "xaxis": "x",
           "y": [
            0.2149341142020498
           ],
           "yaxis": "y"
          },
          {
           "hoverlabel": {
            "namelength": 0
           },
           "hovertemplate": "Country=Croatia<br>Year=2012<br>GDP=%{x}<br>Planted Forest(%)=%{y}<br>Net Export(1000 USD)=%{marker.size}",
           "ids": [
            "Croatia"
           ],
           "legendgroup": "Country=Croatia",
           "marker": {
            "color": "#FF6692",
            "size": [
             196496
            ],
            "sizemode": "area",
            "sizeref": 11638.6725,
            "symbol": "circle"
           },
           "mode": "markers",
           "name": "Country=Croatia",
           "showlegend": true,
           "type": "scatter",
           "x": [
            13250.7571179806
           ],
           "xaxis": "x",
           "y": [
            1.2866333095067906
           ],
           "yaxis": "y"
          },
          {
           "hoverlabel": {
            "namelength": 0
           },
           "hovertemplate": "Country=Czechia<br>Year=2012<br>GDP=%{x}<br>Planted Forest(%)=%{y}<br>Net Export(1000 USD)=%{marker.size}",
           "ids": [
            "Czechia"
           ],
           "legendgroup": "Country=Czechia",
           "marker": {
            "color": "#B6E880",
            "size": [
             479636
            ],
            "sizemode": "area",
            "sizeref": 11638.6725,
            "symbol": "circle"
           },
           "mode": "markers",
           "name": "Country=Czechia",
           "showlegend": true,
           "type": "scatter",
           "x": [
            19729.870511176297
           ],
           "xaxis": "x",
           "y": [
            34.15330829988346
           ],
           "yaxis": "y"
          },
          {
           "hoverlabel": {
            "namelength": 0
           },
           "hovertemplate": "Country=Democratic Republic of the Congo<br>Year=2012<br>GDP=%{x}<br>Planted Forest(%)=%{y}<br>Net Export(1000 USD)=%{marker.size}",
           "ids": [
            "Democratic Republic of the Congo"
           ],
           "legendgroup": "Country=Democratic Republic of the Congo",
           "marker": {
            "color": "#FF97FF",
            "size": [
             11842
            ],
            "sizemode": "area",
            "sizeref": 11638.6725,
            "symbol": "circle"
           },
           "mode": "markers",
           "name": "Country=Democratic Republic of the Congo",
           "showlegend": true,
           "type": "scatter",
           "x": [
            424.60038611833704
           ],
           "xaxis": "x",
           "y": [
            0.026206479786506694
           ],
           "yaxis": "y"
          },
          {
           "hoverlabel": {
            "namelength": 0
           },
           "hovertemplate": "Country=Equatorial Guinea<br>Year=2012<br>GDP=%{x}<br>Planted Forest(%)=%{y}<br>Net Export(1000 USD)=%{marker.size}",
           "ids": [
            "Equatorial Guinea"
           ],
           "legendgroup": "Country=Equatorial Guinea",
           "marker": {
            "color": "#636efa",
            "size": [
             10947
            ],
            "sizemode": "area",
            "sizeref": 11638.6725,
            "symbol": "circle"
           },
           "mode": "markers",
           "name": "Country=Equatorial Guinea",
           "showlegend": true,
           "type": "scatter",
           "x": [
            21712.395016380902
           ],
           "xaxis": "x",
           "y": [
            0.004456327985739751
           ],
           "yaxis": "y"
          },
          {
           "hoverlabel": {
            "namelength": 0
           },
           "hovertemplate": "Country=Estonia<br>Year=2012<br>GDP=%{x}<br>Planted Forest(%)=%{y}<br>Net Export(1000 USD)=%{marker.size}",
           "ids": [
            "Estonia"
           ],
           "legendgroup": "Country=Estonia",
           "marker": {
            "color": "#EF553B",
            "size": [
             362903
            ],
            "sizemode": "area",
            "sizeref": 11638.6725,
            "symbol": "circle"
           },
           "mode": "markers",
           "name": "Country=Estonia",
           "showlegend": true,
           "type": "scatter",
           "x": [
            17421.890222737802
           ],
           "xaxis": "x",
           "y": [
            4.104741684359519
           ],
           "yaxis": "y"
          },
          {
           "hoverlabel": {
            "namelength": 0
           },
           "hovertemplate": "Country=Finland<br>Year=2012<br>GDP=%{x}<br>Planted Forest(%)=%{y}<br>Net Export(1000 USD)=%{marker.size}",
           "ids": [
            "Finland"
           ],
           "legendgroup": "Country=Finland",
           "marker": {
            "color": "#ab63fa",
            "size": [
             9521428
            ],
            "sizemode": "area",
            "sizeref": 11638.6725,
            "symbol": "circle"
           },
           "mode": "markers",
           "name": "Country=Finland",
           "showlegend": true,
           "type": "scatter",
           "x": [
            47415.5598711351
           ],
           "xaxis": "x",
           "y": [
            22.2955707657376
           ],
           "yaxis": "y"
          },
          {
           "hoverlabel": {
            "namelength": 0
           },
           "hovertemplate": "Country=Gabon<br>Year=2012<br>GDP=%{x}<br>Planted Forest(%)=%{y}<br>Net Export(1000 USD)=%{marker.size}",
           "ids": [
            "Gabon"
           ],
           "legendgroup": "Country=Gabon",
           "marker": {
            "color": "#FFA15A",
            "size": [
             101001
            ],
            "sizemode": "area",
            "sizeref": 11638.6725,
            "symbol": "circle"
           },
           "mode": "markers",
           "name": "Country=Gabon",
           "showlegend": true,
           "type": "scatter",
           "x": [
            9814.03899241886
           ],
           "xaxis": "x",
           "y": [
            0.11642798928862498
           ],
           "yaxis": "y"
          },
          {
           "hoverlabel": {
            "namelength": 0
           },
           "hovertemplate": "Country=Germany<br>Year=2012<br>GDP=%{x}<br>Planted Forest(%)=%{y}<br>Net Export(1000 USD)=%{marker.size}",
           "ids": [
            "Germany"
           ],
           "legendgroup": "Country=Germany",
           "marker": {
            "color": "#19d3f3",
            "size": [
             253986
            ],
            "sizemode": "area",
            "sizeref": 11638.6725,
            "symbol": "circle"
           },
           "mode": "markers",
           "name": "Country=Germany",
           "showlegend": true,
           "type": "scatter",
           "x": [
            44065.2489082767
           ],
           "xaxis": "x",
           "y": [
            15.183336202444483
           ],
           "yaxis": "y"
          },
          {
           "hoverlabel": {
            "namelength": 0
           },
           "hovertemplate": "Country=Ghana<br>Year=2012<br>GDP=%{x}<br>Planted Forest(%)=%{y}<br>Net Export(1000 USD)=%{marker.size}",
           "ids": [
            "Ghana"
           ],
           "legendgroup": "Country=Ghana",
           "marker": {
            "color": "#FF6692",
            "size": [
             376778
            ],
            "sizemode": "area",
            "sizeref": 11638.6725,
            "symbol": "circle"
           },
           "mode": "markers",
           "name": "Country=Ghana",
           "showlegend": true,
           "type": "scatter",
           "x": [
            1613.2868369340802
           ],
           "xaxis": "x",
           "y": [
            1.256921859892766
           ],
           "yaxis": "y"
          },
          {
           "hoverlabel": {
            "namelength": 0
           },
           "hovertemplate": "Country=Guyana<br>Year=2012<br>GDP=%{x}<br>Planted Forest(%)=%{y}<br>Net Export(1000 USD)=%{marker.size}",
           "ids": [
            "Guyana"
           ],
           "legendgroup": "Country=Guyana",
           "marker": {
            "color": "#FF97FF",
            "size": [
             24611
            ],
            "sizemode": "area",
            "sizeref": 11638.6725,
            "symbol": "circle"
           },
           "mode": "markers",
           "name": "Country=Guyana",
           "showlegend": true,
           "type": "scatter",
           "x": [
            3788.14674878178
           ],
           "xaxis": "x",
           "y": [
            0
           ],
           "yaxis": "y"
          },
          {
           "hoverlabel": {
            "namelength": 0
           },
           "hovertemplate": "Country=Indonesia<br>Year=2012<br>GDP=%{x}<br>Planted Forest(%)=%{y}<br>Net Export(1000 USD)=%{marker.size}",
           "ids": [
            "Indonesia"
           ],
           "legendgroup": "Country=Indonesia",
           "marker": {
            "color": "#FECB52",
            "size": [
             2989128
            ],
            "sizemode": "area",
            "sizeref": 11638.6725,
            "symbol": "circle"
           },
           "mode": "markers",
           "name": "Country=Indonesia",
           "showlegend": true,
           "type": "scatter",
           "x": [
            3694.348946032371
           ],
           "xaxis": "x",
           "y": [
            2.6828662430930077
           ],
           "yaxis": "y"
          },
          {
           "hoverlabel": {
            "namelength": 0
           },
           "hovertemplate": "Country=Lao People's Democratic Republic<br>Year=2012<br>GDP=%{x}<br>Planted Forest(%)=%{y}<br>Net Export(1000 USD)=%{marker.size}",
           "ids": [
            "Lao People's Democratic Republic"
           ],
           "legendgroup": "Country=Lao People's Democratic Republic",
           "marker": {
            "color": "#636efa",
            "size": [
             3024
            ],
            "sizemode": "area",
            "sizeref": 11638.6725,
            "symbol": "circle"
           },
           "mode": "markers",
           "name": "Country=Lao People's Democratic Republic",
           "showlegend": true,
           "type": "scatter",
           "x": [
            1581.3954034942499
           ],
           "xaxis": "x",
           "y": [
            0.37803292894280766
           ],
           "yaxis": "y"
          },
          {
           "hoverlabel": {
            "namelength": 0
           },
           "hovertemplate": "Country=Latvia<br>Year=2012<br>GDP=%{x}<br>Planted Forest(%)=%{y}<br>Net Export(1000 USD)=%{marker.size}",
           "ids": [
            "Latvia"
           ],
           "legendgroup": "Country=Latvia",
           "marker": {
            "color": "#EF553B",
            "size": [
             958799
            ],
            "sizemode": "area",
            "sizeref": 11638.6725,
            "symbol": "circle"
           },
           "mode": "markers",
           "name": "Country=Latvia",
           "showlegend": true,
           "type": "scatter",
           "x": [
            13822.8055940347
           ],
           "xaxis": "x",
           "y": [
            9.996783531682214
           ],
           "yaxis": "y"
          },
          {
           "hoverlabel": {
            "namelength": 0
           },
           "hovertemplate": "Country=Liberia<br>Year=2012<br>GDP=%{x}<br>Planted Forest(%)=%{y}<br>Net Export(1000 USD)=%{marker.size}",
           "ids": [
            "Liberia"
           ],
           "legendgroup": "Country=Liberia",
           "marker": {
            "color": "#00cc96",
            "size": [
             3546
            ],
            "sizemode": "area",
            "sizeref": 11638.6725,
            "symbol": "circle"
           },
           "mode": "markers",
           "name": "Country=Liberia",
           "showlegend": true,
           "type": "scatter",
           "x": [
            657.936256349955
           ],
           "xaxis": "x",
           "y": [
            0.08305647840531562
           ],
           "yaxis": "y"
          },
          {
           "hoverlabel": {
            "namelength": 0
           },
           "hovertemplate": "Country=Lithuania<br>Year=2012<br>GDP=%{x}<br>Planted Forest(%)=%{y}<br>Net Export(1000 USD)=%{marker.size}",
           "ids": [
            "Lithuania"
           ],
           "legendgroup": "Country=Lithuania",
           "marker": {
            "color": "#ab63fa",
            "size": [
             69564
            ],
            "sizemode": "area",
            "sizeref": 11638.6725,
            "symbol": "circle"
           },
           "mode": "markers",
           "name": "Country=Lithuania",
           "showlegend": true,
           "type": "scatter",
           "x": [
            14341.1816279932
           ],
           "xaxis": "x",
           "y": [
            8.711746497750264
           ],
           "yaxis": "y"
          },
          {
           "hoverlabel": {
            "namelength": 0
           },
           "hovertemplate": "Country=Malaysia<br>Year=2012<br>GDP=%{x}<br>Planted Forest(%)=%{y}<br>Net Export(1000 USD)=%{marker.size}",
           "ids": [
            "Malaysia"
           ],
           "legendgroup": "Country=Malaysia",
           "marker": {
            "color": "#FF6692",
            "size": [
             1998842
            ],
            "sizemode": "area",
            "sizeref": 11638.6725,
            "symbol": "circle"
           },
           "mode": "markers",
           "name": "Country=Malaysia",
           "showlegend": true,
           "type": "scatter",
           "x": [
            10817.4428742856
           ],
           "xaxis": "x",
           "y": [
            5.357479835641455
           ],
           "yaxis": "y"
          },
          {
           "hoverlabel": {
            "namelength": 0
           },
           "hovertemplate": "Country=Myanmar<br>Year=2012<br>GDP=%{x}<br>Planted Forest(%)=%{y}<br>Net Export(1000 USD)=%{marker.size}",
           "ids": [
            "Myanmar"
           ],
           "legendgroup": "Country=Myanmar",
           "marker": {
            "color": "#B6E880",
            "size": [
             309658
            ],
            "sizemode": "area",
            "sizeref": 11638.6725,
            "symbol": "circle"
           },
           "mode": "markers",
           "name": "Country=Myanmar",
           "showlegend": true,
           "type": "scatter",
           "x": [
            1165.79432896131
           ],
           "xaxis": "x",
           "y": [
            1.4857230345249943
           ],
           "yaxis": "y"
          },
          {
           "hoverlabel": {
            "namelength": 0
           },
           "hovertemplate": "Country=New Zealand<br>Year=2012<br>GDP=%{x}<br>Planted Forest(%)=%{y}<br>Net Export(1000 USD)=%{marker.size}",
           "ids": [
            "New Zealand"
           ],
           "legendgroup": "Country=New Zealand",
           "marker": {
            "color": "#FF97FF",
            "size": [
             1812807
            ],
            "sizemode": "area",
            "sizeref": 11638.6725,
            "symbol": "circle"
           },
           "mode": "markers",
           "name": "Country=New Zealand",
           "showlegend": true,
           "type": "scatter",
           "x": [
            39970.4400394577
           ],
           "xaxis": "x",
           "y": [
            7.914625346549695
           ],
           "yaxis": "y"
          },
          {
           "hoverlabel": {
            "namelength": 0
           },
           "hovertemplate": "Country=Norway<br>Year=2012<br>GDP=%{x}<br>Planted Forest(%)=%{y}<br>Net Export(1000 USD)=%{marker.size}",
           "ids": [
            "Norway"
           ],
           "legendgroup": "Country=Norway",
           "marker": {
            "color": "#FECB52",
            "size": [
             475844
            ],
            "sizemode": "area",
            "sizeref": 11638.6725,
            "symbol": "circle"
           },
           "mode": "markers",
           "name": "Country=Norway",
           "showlegend": true,
           "type": "scatter",
           "x": [
            101668.17065865199
           ],
           "xaxis": "x",
           "y": [
            4.077821949162751
           ],
           "yaxis": "y"
          },
          {
           "hoverlabel": {
            "namelength": 0
           },
           "hovertemplate": "Country=Papua New Guinea<br>Year=2012<br>GDP=%{x}<br>Planted Forest(%)=%{y}<br>Net Export(1000 USD)=%{marker.size}",
           "ids": [
            "Papua New Guinea"
           ],
           "legendgroup": "Country=Papua New Guinea",
           "marker": {
            "color": "#636efa",
            "size": [
             114689
            ],
            "sizemode": "area",
            "sizeref": 11638.6725,
            "symbol": "circle"
           },
           "mode": "markers",
           "name": "Country=Papua New Guinea",
           "showlegend": true,
           "type": "scatter",
           "x": [
            2790.69958745011
           ],
           "xaxis": "x",
           "y": [
            0
           ],
           "yaxis": "y"
          },
          {
           "hoverlabel": {
            "namelength": 0
           },
           "hovertemplate": "Country=Portugal<br>Year=2012<br>GDP=%{x}<br>Planted Forest(%)=%{y}<br>Net Export(1000 USD)=%{marker.size}",
           "ids": [
            "Portugal"
           ],
           "legendgroup": "Country=Portugal",
           "marker": {
            "color": "#EF553B",
            "size": [
             1351332
            ],
            "sizemode": "area",
            "sizeref": 11638.6725,
            "symbol": "circle"
           },
           "mode": "markers",
           "name": "Country=Portugal",
           "showlegend": true,
           "type": "scatter",
           "x": [
            20577.4026375899
           ],
           "xaxis": "x",
           "y": [
            9.55781198820832
           ],
           "yaxis": "y"
          },
          {
           "hoverlabel": {
            "namelength": 0
           },
           "hovertemplate": "Country=Romania<br>Year=2012<br>GDP=%{x}<br>Planted Forest(%)=%{y}<br>Net Export(1000 USD)=%{marker.size}",
           "ids": [
            "Romania"
           ],
           "legendgroup": "Country=Romania",
           "marker": {
            "color": "#00cc96",
            "size": [
             912373
            ],
            "sizemode": "area",
            "sizeref": 11638.6725,
            "symbol": "circle"
           },
           "mode": "markers",
           "name": "Country=Romania",
           "showlegend": true,
           "type": "scatter",
           "x": [
            8535.0468756267
           ],
           "xaxis": "x",
           "y": [
            2.398052343274498
           ],
           "yaxis": "y"
          },
          {
           "hoverlabel": {
            "namelength": 0
           },
           "hovertemplate": "Country=Russian Federation<br>Year=2012<br>GDP=%{x}<br>Planted Forest(%)=%{y}<br>Net Export(1000 USD)=%{marker.size}",
           "ids": [
            "Russian Federation"
           ],
           "legendgroup": "Country=Russian Federation",
           "marker": {
            "color": "#ab63fa",
            "size": [
             4130016
            ],
            "sizemode": "area",
            "sizeref": 11638.6725,
            "symbol": "circle"
           },
           "mode": "markers",
           "name": "Country=Russian Federation",
           "showlegend": true,
           "type": "scatter",
           "x": [
            15434.5747807082
           ],
           "xaxis": "x",
           "y": [
            1.2031688594951293
           ],
           "yaxis": "y"
          },
          {
           "hoverlabel": {
            "namelength": 0
           },
           "hovertemplate": "Country=Slovakia<br>Year=2012<br>GDP=%{x}<br>Planted Forest(%)=%{y}<br>Net Export(1000 USD)=%{marker.size}",
           "ids": [
            "Slovakia"
           ],
           "legendgroup": "Country=Slovakia",
           "marker": {
            "color": "#19d3f3",
            "size": [
             491900
            ],
            "sizemode": "area",
            "sizeref": 11638.6725,
            "symbol": "circle"
           },
           "mode": "markers",
           "name": "Country=Slovakia",
           "showlegend": true,
           "type": "scatter",
           "x": [
            17274.6423040509
           ],
           "xaxis": "x",
           "y": [
            19.98835468308102
           ],
           "yaxis": "y"
          },
          {
           "hoverlabel": {
            "namelength": 0
           },
           "hovertemplate": "Country=Slovenia<br>Year=2012<br>GDP=%{x}<br>Planted Forest(%)=%{y}<br>Net Export(1000 USD)=%{marker.size}",
           "ids": [
            "Slovenia"
           ],
           "legendgroup": "Country=Slovenia",
           "marker": {
            "color": "#FF6692",
            "size": [
             213657
            ],
            "sizemode": "area",
            "sizeref": 11638.6725,
            "symbol": "circle"
           },
           "mode": "markers",
           "name": "Country=Slovenia",
           "showlegend": true,
           "type": "scatter",
           "x": [
            22532.4356384588
           ],
           "xaxis": "x",
           "y": [
            1.6281390073315891
           ],
           "yaxis": "y"
          },
          {
           "hoverlabel": {
            "namelength": 0
           },
           "hovertemplate": "Country=Solomon Islands<br>Year=2012<br>GDP=%{x}<br>Planted Forest(%)=%{y}<br>Net Export(1000 USD)=%{marker.size}",
           "ids": [
            "Solomon Islands"
           ],
           "legendgroup": "Country=Solomon Islands",
           "marker": {
            "color": "#B6E880",
            "size": [
             51437
            ],
            "sizemode": "area",
            "sizeref": 11638.6725,
            "symbol": "circle"
           },
           "mode": "markers",
           "name": "Country=Solomon Islands",
           "showlegend": true,
           "type": "scatter",
           "x": [
            1913.23202227315
           ],
           "xaxis": "x",
           "y": [
            0.961057520543051
           ],
           "yaxis": "y"
          },
          {
           "hoverlabel": {
            "namelength": 0
           },
           "hovertemplate": "Country=Somalia<br>Year=2012<br>GDP=%{x}<br>Planted Forest(%)=%{y}<br>Net Export(1000 USD)=%{marker.size}",
           "ids": [
            "Somalia"
           ],
           "legendgroup": "Country=Somalia",
           "marker": {
            "color": "#FF97FF",
            "size": [
             2485
            ],
            "sizemode": "area",
            "sizeref": 11638.6725,
            "symbol": "circle"
           },
           "mode": "markers",
           "name": "Country=Somalia",
           "showlegend": true,
           "type": "scatter",
           "x": [
            null
           ],
           "xaxis": "x",
           "y": [
            0.004782095833200497
           ],
           "yaxis": "y"
          },
          {
           "hoverlabel": {
            "namelength": 0
           },
           "hovertemplate": "Country=South Africa<br>Year=2012<br>GDP=%{x}<br>Planted Forest(%)=%{y}<br>Net Export(1000 USD)=%{marker.size}",
           "ids": [
            "South Africa"
           ],
           "legendgroup": "Country=South Africa",
           "marker": {
            "color": "#FECB52",
            "size": [
             317523
            ],
            "sizemode": "area",
            "sizeref": 11638.6725,
            "symbol": "circle"
           },
           "mode": "markers",
           "name": "Country=South Africa",
           "showlegend": true,
           "type": "scatter",
           "x": [
            7501.40727965322
           ],
           "xaxis": "x",
           "y": [
            1.4533134392336924
           ],
           "yaxis": "y"
          },
          {
           "hoverlabel": {
            "namelength": 0
           },
           "hovertemplate": "Country=Suriname<br>Year=2012<br>GDP=%{x}<br>Planted Forest(%)=%{y}<br>Net Export(1000 USD)=%{marker.size}",
           "ids": [
            "Suriname"
           ],
           "legendgroup": "Country=Suriname",
           "marker": {
            "color": "#636efa",
            "size": [
             14293
            ],
            "sizemode": "area",
            "sizeref": 11638.6725,
            "symbol": "circle"
           },
           "mode": "markers",
           "name": "Country=Suriname",
           "showlegend": true,
           "type": "scatter",
           "x": [
            9201.008785300559
           ],
           "xaxis": "x",
           "y": [
            0.08333333333333334
           ],
           "yaxis": "y"
          },
          {
           "hoverlabel": {
            "namelength": 0
           },
           "hovertemplate": "Country=Sweden<br>Year=2012<br>GDP=%{x}<br>Planted Forest(%)=%{y}<br>Net Export(1000 USD)=%{marker.size}",
           "ids": [
            "Sweden"
           ],
           "legendgroup": "Country=Sweden",
           "marker": {
            "color": "#EF553B",
            "size": [
             12838840
            ],
            "sizemode": "area",
            "sizeref": 11638.6725,
            "symbol": "circle"
           },
           "mode": "markers",
           "name": "Country=Sweden",
           "showlegend": true,
           "type": "scatter",
           "x": [
            57197.1993076414
           ],
           "xaxis": "x",
           "y": [
            31.995875681249082
           ],
           "yaxis": "y"
          },
          {
           "hoverlabel": {
            "namelength": 0
           },
           "hovertemplate": "Country=Uruguay<br>Year=2012<br>GDP=%{x}<br>Planted Forest(%)=%{y}<br>Net Export(1000 USD)=%{marker.size}",
           "ids": [
            "Uruguay"
           ],
           "legendgroup": "Country=Uruguay",
           "marker": {
            "color": "#19d3f3",
            "size": [
             351880
            ],
            "sizemode": "area",
            "sizeref": 11638.6725,
            "symbol": "circle"
           },
           "mode": "markers",
           "name": "Country=Uruguay",
           "showlegend": true,
           "type": "scatter",
           "x": [
            15171.584663418798
           ],
           "xaxis": "x",
           "y": [
            5.783339046966061
           ],
           "yaxis": "y"
          }
         ],
         "name": "2012"
        },
        {
         "data": [
          {
           "hoverlabel": {
            "namelength": 0
           },
           "hovertemplate": "Country=Austria<br>Year=2013<br>GDP=%{x}<br>Planted Forest(%)=%{y}<br>Net Export(1000 USD)=%{marker.size}",
           "ids": [
            "Austria"
           ],
           "legendgroup": "Country=Austria",
           "marker": {
            "color": "#636efa",
            "size": [
             2029463
            ],
            "sizemode": "area",
            "sizeref": 11638.6725,
            "symbol": "circle"
           },
           "mode": "markers",
           "name": "Country=Austria",
           "showlegend": true,
           "type": "scatter",
           "x": [
            50716.708706286394
           ],
           "xaxis": "x",
           "y": [
            20.520774012189356
           ],
           "yaxis": "y"
          },
          {
           "hoverlabel": {
            "namelength": 0
           },
           "hovertemplate": "Country=Belarus<br>Year=2013<br>GDP=%{x}<br>Planted Forest(%)=%{y}<br>Net Export(1000 USD)=%{marker.size}",
           "ids": [
            "Belarus"
           ],
           "legendgroup": "Country=Belarus",
           "marker": {
            "color": "#EF553B",
            "size": [
             81112
            ],
            "sizemode": "area",
            "sizeref": 11638.6725,
            "symbol": "circle"
           },
           "mode": "markers",
           "name": "Country=Belarus",
           "showlegend": true,
           "type": "scatter",
           "x": [
            7978.872614710759
           ],
           "xaxis": "x",
           "y": [
            9.309243598083862
           ],
           "yaxis": "y"
          },
          {
           "hoverlabel": {
            "namelength": 0
           },
           "hovertemplate": "Country=Belgium<br>Year=2013<br>GDP=%{x}<br>Planted Forest(%)=%{y}<br>Net Export(1000 USD)=%{marker.size}",
           "ids": [
            "Belgium"
           ],
           "legendgroup": "Country=Belgium",
           "marker": {
            "color": "#00cc96",
            "size": [
             404461
            ],
            "sizemode": "area",
            "sizeref": 11638.6725,
            "symbol": "circle"
           },
           "mode": "markers",
           "name": "Country=Belgium",
           "showlegend": true,
           "type": "scatter",
           "x": [
            46680.3898229483
           ],
           "xaxis": "x",
           "y": [
            13.062747688243064
           ],
           "yaxis": "y"
          },
          {
           "hoverlabel": {
            "namelength": 0
           },
           "hovertemplate": "Country=Bosnia and Herzegovina<br>Year=2013<br>GDP=%{x}<br>Planted Forest(%)=%{y}<br>Net Export(1000 USD)=%{marker.size}",
           "ids": [
            "Bosnia and Herzegovina"
           ],
           "legendgroup": "Country=Bosnia and Herzegovina",
           "marker": {
            "color": "#FF6692",
            "size": [
             172441
            ],
            "sizemode": "area",
            "sizeref": 11638.6725,
            "symbol": "circle"
           },
           "mode": "markers",
           "name": "Country=Bosnia and Herzegovina",
           "showlegend": true,
           "type": "scatter",
           "x": [
            5131.39450642932
           ],
           "xaxis": "x",
           "y": [
            19.51171875
           ],
           "yaxis": "y"
          },
          {
           "hoverlabel": {
            "namelength": 0
           },
           "hovertemplate": "Country=Brazil<br>Year=2013<br>GDP=%{x}<br>Planted Forest(%)=%{y}<br>Net Export(1000 USD)=%{marker.size}",
           "ids": [
            "Brazil"
           ],
           "legendgroup": "Country=Brazil",
           "marker": {
            "color": "#B6E880",
            "size": [
             5174398
            ],
            "sizemode": "area",
            "sizeref": 11638.6725,
            "symbol": "circle"
           },
           "mode": "markers",
           "name": "Country=Brazil",
           "showlegend": true,
           "type": "scatter",
           "x": [
            12300.322575223301
           ],
           "xaxis": "x",
           "y": [
            0.8890494775153324
           ],
           "yaxis": "y"
          },
          {
           "hoverlabel": {
            "namelength": 0
           },
           "hovertemplate": "Country=Bulgaria<br>Year=2013<br>GDP=%{x}<br>Planted Forest(%)=%{y}<br>Net Export(1000 USD)=%{marker.size}",
           "ids": [
            "Bulgaria"
           ],
           "legendgroup": "Country=Bulgaria",
           "marker": {
            "color": "#FF97FF",
            "size": [
             104309
            ],
            "sizemode": "area",
            "sizeref": 11638.6725,
            "symbol": "circle"
           },
           "mode": "markers",
           "name": "Country=Bulgaria",
           "showlegend": true,
           "type": "scatter",
           "x": [
            7646.83986554542
           ],
           "xaxis": "x",
           "y": [
            7.525792188651437
           ],
           "yaxis": "y"
          },
          {
           "hoverlabel": {
            "namelength": 0
           },
           "hovertemplate": "Country=Cameroon<br>Year=2013<br>GDP=%{x}<br>Planted Forest(%)=%{y}<br>Net Export(1000 USD)=%{marker.size}",
           "ids": [
            "Cameroon"
           ],
           "legendgroup": "Country=Cameroon",
           "marker": {
            "color": "#636efa",
            "size": [
             202131
            ],
            "sizemode": "area",
            "sizeref": 11638.6725,
            "symbol": "circle"
           },
           "mode": "markers",
           "name": "Country=Cameroon",
           "showlegend": true,
           "type": "scatter",
           "x": [
            1465.2223269067001
           ],
           "xaxis": "x",
           "y": [
            0.04916333481415667
           ],
           "yaxis": "y"
          },
          {
           "hoverlabel": {
            "namelength": 0
           },
           "hovertemplate": "Country=Canada<br>Year=2013<br>GDP=%{x}<br>Planted Forest(%)=%{y}<br>Net Export(1000 USD)=%{marker.size}",
           "ids": [
            "Canada"
           ],
           "legendgroup": "Country=Canada",
           "marker": {
            "color": "#EF553B",
            "size": [
             14386881
            ],
            "sizemode": "area",
            "sizeref": 11638.6725,
            "symbol": "circle"
           },
           "mode": "markers",
           "name": "Country=Canada",
           "showlegend": true,
           "type": "scatter",
           "x": [
            52504.655704109005
           ],
           "xaxis": "x",
           "y": [
            1.6798002139290331
           ],
           "yaxis": "y"
          },
          {
           "hoverlabel": {
            "namelength": 0
           },
           "hovertemplate": "Country=Central African Republic<br>Year=2013<br>GDP=%{x}<br>Planted Forest(%)=%{y}<br>Net Export(1000 USD)=%{marker.size}",
           "ids": [
            "Central African Republic"
           ],
           "legendgroup": "Country=Central African Republic",
           "marker": {
            "color": "#00cc96",
            "size": [
             16332
            ],
            "sizemode": "area",
            "sizeref": 11638.6725,
            "symbol": "circle"
           },
           "mode": "markers",
           "name": "Country=Central African Republic",
           "showlegend": true,
           "type": "scatter",
           "x": [
            382.34030020092695
           ],
           "xaxis": "x",
           "y": [
            0.003210375935021991
           ],
           "yaxis": "y"
          },
          {
           "hoverlabel": {
            "namelength": 0
           },
           "hovertemplate": "Country=Chile<br>Year=2013<br>GDP=%{x}<br>Planted Forest(%)=%{y}<br>Net Export(1000 USD)=%{marker.size}",
           "ids": [
            "Chile"
           ],
           "legendgroup": "Country=Chile",
           "marker": {
            "color": "#FFA15A",
            "size": [
             2868512
            ],
            "sizemode": "area",
            "sizeref": 11638.6725,
            "symbol": "circle"
           },
           "mode": "markers",
           "name": "Country=Chile",
           "showlegend": true,
           "type": "scatter",
           "x": [
            15842.940090133401
           ],
           "xaxis": "x",
           "y": [
            3.7389110354362693
           ],
           "yaxis": "y"
          },
          {
           "hoverlabel": {
            "namelength": 0
           },
           "hovertemplate": "Country=Congo<br>Year=2013<br>GDP=%{x}<br>Planted Forest(%)=%{y}<br>Net Export(1000 USD)=%{marker.size}",
           "ids": [
            "Congo"
           ],
           "legendgroup": "Country=Congo",
           "marker": {
            "color": "#19d3f3",
            "size": [
             39537
            ],
            "sizemode": "area",
            "sizeref": 11638.6725,
            "symbol": "circle"
           },
           "mode": "markers",
           "name": "Country=Congo",
           "showlegend": true,
           "type": "scatter",
           "x": [
            3047.06458933719
           ],
           "xaxis": "x",
           "y": [
            0.21259150805270863
           ],
           "yaxis": "y"
          },
          {
           "hoverlabel": {
            "namelength": 0
           },
           "hovertemplate": "Country=Croatia<br>Year=2013<br>GDP=%{x}<br>Planted Forest(%)=%{y}<br>Net Export(1000 USD)=%{marker.size}",
           "ids": [
            "Croatia"
           ],
           "legendgroup": "Country=Croatia",
           "marker": {
            "color": "#FF6692",
            "size": [
             183314
            ],
            "sizemode": "area",
            "sizeref": 11638.6725,
            "symbol": "circle"
           },
           "mode": "markers",
           "name": "Country=Croatia",
           "showlegend": true,
           "type": "scatter",
           "x": [
            13665.9141789877
           ],
           "xaxis": "x",
           "y": [
            1.3045032165832737
           ],
           "yaxis": "y"
          },
          {
           "hoverlabel": {
            "namelength": 0
           },
           "hovertemplate": "Country=Czechia<br>Year=2013<br>GDP=%{x}<br>Planted Forest(%)=%{y}<br>Net Export(1000 USD)=%{marker.size}",
           "ids": [
            "Czechia"
           ],
           "legendgroup": "Country=Czechia",
           "marker": {
            "color": "#B6E880",
            "size": [
             522969
            ],
            "sizemode": "area",
            "sizeref": 11638.6725,
            "symbol": "circle"
           },
           "mode": "markers",
           "name": "Country=Czechia",
           "showlegend": true,
           "type": "scatter",
           "x": [
            19916.0193873722
           ],
           "xaxis": "x",
           "y": [
            34.18207718207718
           ],
           "yaxis": "y"
          },
          {
           "hoverlabel": {
            "namelength": 0
           },
           "hovertemplate": "Country=Democratic Republic of the Congo<br>Year=2013<br>GDP=%{x}<br>Planted Forest(%)=%{y}<br>Net Export(1000 USD)=%{marker.size}",
           "ids": [
            "Democratic Republic of the Congo"
           ],
           "legendgroup": "Country=Democratic Republic of the Congo",
           "marker": {
            "color": "#FF97FF",
            "size": [
             39321
            ],
            "sizemode": "area",
            "sizeref": 11638.6725,
            "symbol": "circle"
           },
           "mode": "markers",
           "name": "Country=Democratic Republic of the Congo",
           "showlegend": true,
           "type": "scatter",
           "x": [
            457.96372825642
           ],
           "xaxis": "x",
           "y": [
            0.026345956198584063
           ],
           "yaxis": "y"
          },
          {
           "hoverlabel": {
            "namelength": 0
           },
           "hovertemplate": "Country=Equatorial Guinea<br>Year=2013<br>GDP=%{x}<br>Planted Forest(%)=%{y}<br>Net Export(1000 USD)=%{marker.size}",
           "ids": [
            "Equatorial Guinea"
           ],
           "legendgroup": "Country=Equatorial Guinea",
           "marker": {
            "color": "#636efa",
            "size": [
             13902
            ],
            "sizemode": "area",
            "sizeref": 11638.6725,
            "symbol": "circle"
           },
           "mode": "markers",
           "name": "Country=Equatorial Guinea",
           "showlegend": true,
           "type": "scatter",
           "x": [
            20384.9245274473
           ],
           "xaxis": "x",
           "y": [
            0.004456327985739751
           ],
           "yaxis": "y"
          },
          {
           "hoverlabel": {
            "namelength": 0
           },
           "hovertemplate": "Country=Estonia<br>Year=2013<br>GDP=%{x}<br>Planted Forest(%)=%{y}<br>Net Export(1000 USD)=%{marker.size}",
           "ids": [
            "Estonia"
           ],
           "legendgroup": "Country=Estonia",
           "marker": {
            "color": "#EF553B",
            "size": [
             386397
            ],
            "sizemode": "area",
            "sizeref": 11638.6725,
            "symbol": "circle"
           },
           "mode": "markers",
           "name": "Country=Estonia",
           "showlegend": true,
           "type": "scatter",
           "x": [
            19072.2385175669
           ],
           "xaxis": "x",
           "y": [
            4.002760524499656
           ],
           "yaxis": "y"
          },
          {
           "hoverlabel": {
            "namelength": 0
           },
           "hovertemplate": "Country=Finland<br>Year=2013<br>GDP=%{x}<br>Planted Forest(%)=%{y}<br>Net Export(1000 USD)=%{marker.size}",
           "ids": [
            "Finland"
           ],
           "legendgroup": "Country=Finland",
           "marker": {
            "color": "#ab63fa",
            "size": [
             9351156
            ],
            "sizemode": "area",
            "sizeref": 11638.6725,
            "symbol": "circle"
           },
           "mode": "markers",
           "name": "Country=Finland",
           "showlegend": true,
           "type": "scatter",
           "x": [
            49638.07712981389
           ],
           "xaxis": "x",
           "y": [
            22.2955707657376
           ],
           "yaxis": "y"
          },
          {
           "hoverlabel": {
            "namelength": 0
           },
           "hovertemplate": "Country=Gabon<br>Year=2013<br>GDP=%{x}<br>Planted Forest(%)=%{y}<br>Net Export(1000 USD)=%{marker.size}",
           "ids": [
            "Gabon"
           ],
           "legendgroup": "Country=Gabon",
           "marker": {
            "color": "#FFA15A",
            "size": [
             213040
            ],
            "sizemode": "area",
            "sizeref": 11638.6725,
            "symbol": "circle"
           },
           "mode": "markers",
           "name": "Country=Gabon",
           "showlegend": true,
           "type": "scatter",
           "x": [
            9680.82433880273
           ],
           "xaxis": "x",
           "y": [
            0.11642798928862498
           ],
           "yaxis": "y"
          },
          {
           "hoverlabel": {
            "namelength": 0
           },
           "hovertemplate": "Country=Ghana<br>Year=2013<br>GDP=%{x}<br>Planted Forest(%)=%{y}<br>Net Export(1000 USD)=%{marker.size}",
           "ids": [
            "Ghana"
           ],
           "legendgroup": "Country=Ghana",
           "marker": {
            "color": "#FF6692",
            "size": [
             329052
            ],
            "sizemode": "area",
            "sizeref": 11638.6725,
            "symbol": "circle"
           },
           "mode": "markers",
           "name": "Country=Ghana",
           "showlegend": true,
           "type": "scatter",
           "x": [
            2378.1595122723
           ],
           "xaxis": "x",
           "y": [
            1.3140546717060737
           ],
           "yaxis": "y"
          },
          {
           "hoverlabel": {
            "namelength": 0
           },
           "hovertemplate": "Country=Guyana<br>Year=2013<br>GDP=%{x}<br>Planted Forest(%)=%{y}<br>Net Export(1000 USD)=%{marker.size}",
           "ids": [
            "Guyana"
           ],
           "legendgroup": "Country=Guyana",
           "marker": {
            "color": "#FF97FF",
            "size": [
             21900
            ],
            "sizemode": "area",
            "sizeref": 11638.6725,
            "symbol": "circle"
           },
           "mode": "markers",
           "name": "Country=Guyana",
           "showlegend": true,
           "type": "scatter",
           "x": [
            3934.86526171904
           ],
           "xaxis": "x",
           "y": [
            0
           ],
           "yaxis": "y"
          },
          {
           "hoverlabel": {
            "namelength": 0
           },
           "hovertemplate": "Country=Indonesia<br>Year=2013<br>GDP=%{x}<br>Planted Forest(%)=%{y}<br>Net Export(1000 USD)=%{marker.size}",
           "ids": [
            "Indonesia"
           ],
           "legendgroup": "Country=Indonesia",
           "marker": {
            "color": "#FECB52",
            "size": [
             3904906
            ],
            "sizemode": "area",
            "sizeref": 11638.6725,
            "symbol": "circle"
           },
           "mode": "markers",
           "name": "Country=Indonesia",
           "showlegend": true,
           "type": "scatter",
           "x": [
            3623.9115823513503
           ],
           "xaxis": "x",
           "y": [
            2.698653654012818
           ],
           "yaxis": "y"
          },
          {
           "hoverlabel": {
            "namelength": 0
           },
           "hovertemplate": "Country=Lao People's Democratic Republic<br>Year=2013<br>GDP=%{x}<br>Planted Forest(%)=%{y}<br>Net Export(1000 USD)=%{marker.size}",
           "ids": [
            "Lao People's Democratic Republic"
           ],
           "legendgroup": "Country=Lao People's Democratic Republic",
           "marker": {
            "color": "#636efa",
            "size": [
             55485
            ],
            "sizemode": "area",
            "sizeref": 11638.6725,
            "symbol": "circle"
           },
           "mode": "markers",
           "name": "Country=Lao People's Democratic Republic",
           "showlegend": true,
           "type": "scatter",
           "x": [
            1825.6651133067603
           ],
           "xaxis": "x",
           "y": [
            0.4153812824956673
           ],
           "yaxis": "y"
          },
          {
           "hoverlabel": {
            "namelength": 0
           },
           "hovertemplate": "Country=Latvia<br>Year=2013<br>GDP=%{x}<br>Planted Forest(%)=%{y}<br>Net Export(1000 USD)=%{marker.size}",
           "ids": [
            "Latvia"
           ],
           "legendgroup": "Country=Latvia",
           "marker": {
            "color": "#EF553B",
            "size": [
             1008173
            ],
            "sizemode": "area",
            "sizeref": 11638.6725,
            "symbol": "circle"
           },
           "mode": "markers",
           "name": "Country=Latvia",
           "showlegend": true,
           "type": "scatter",
           "x": [
            15032.282013148899
           ],
           "xaxis": "x",
           "y": [
            9.943720855442997
           ],
           "yaxis": "y"
          },
          {
           "hoverlabel": {
            "namelength": 0
           },
           "hovertemplate": "Country=Liberia<br>Year=2013<br>GDP=%{x}<br>Planted Forest(%)=%{y}<br>Net Export(1000 USD)=%{marker.size}",
           "ids": [
            "Liberia"
           ],
           "legendgroup": "Country=Liberia",
           "marker": {
            "color": "#00cc96",
            "size": [
             2804
            ],
            "sizemode": "area",
            "sizeref": 11638.6725,
            "symbol": "circle"
           },
           "mode": "markers",
           "name": "Country=Liberia",
           "showlegend": true,
           "type": "scatter",
           "x": [
            721.9300554052479
           ],
           "xaxis": "x",
           "y": [
            0.08305647840531562
           ],
           "yaxis": "y"
          },
          {
           "hoverlabel": {
            "namelength": 0
           },
           "hovertemplate": "Country=Lithuania<br>Year=2013<br>GDP=%{x}<br>Planted Forest(%)=%{y}<br>Net Export(1000 USD)=%{marker.size}",
           "ids": [
            "Lithuania"
           ],
           "legendgroup": "Country=Lithuania",
           "marker": {
            "color": "#ab63fa",
            "size": [
             62350
            ],
            "sizemode": "area",
            "sizeref": 11638.6725,
            "symbol": "circle"
           },
           "mode": "markers",
           "name": "Country=Lithuania",
           "showlegend": true,
           "type": "scatter",
           "x": [
            15693.7867282599
           ],
           "xaxis": "x",
           "y": [
            8.83925009972078
           ],
           "yaxis": "y"
          },
          {
           "hoverlabel": {
            "namelength": 0
           },
           "hovertemplate": "Country=Malawi<br>Year=2013<br>GDP=%{x}<br>Planted Forest(%)=%{y}<br>Net Export(1000 USD)=%{marker.size}",
           "ids": [
            "Malawi"
           ],
           "legendgroup": "Country=Malawi",
           "marker": {
            "color": "#19d3f3",
            "size": [
             16532
            ],
            "sizemode": "area",
            "sizeref": 11638.6725,
            "symbol": "circle"
           },
           "mode": "markers",
           "name": "Country=Malawi",
           "showlegend": true,
           "type": "scatter",
           "x": [
            348.43026964057196
           ],
           "xaxis": "x",
           "y": [
            4.215103945693678
           ],
           "yaxis": "y"
          },
          {
           "hoverlabel": {
            "namelength": 0
           },
           "hovertemplate": "Country=Malaysia<br>Year=2013<br>GDP=%{x}<br>Planted Forest(%)=%{y}<br>Net Export(1000 USD)=%{marker.size}",
           "ids": [
            "Malaysia"
           ],
           "legendgroup": "Country=Malaysia",
           "marker": {
            "color": "#FF6692",
            "size": [
             1704394
            ],
            "sizemode": "area",
            "sizeref": 11638.6725,
            "symbol": "circle"
           },
           "mode": "markers",
           "name": "Country=Malaysia",
           "showlegend": true,
           "type": "scatter",
           "x": [
            10970.1232849014
           ],
           "xaxis": "x",
           "y": [
            5.56627606148227
           ],
           "yaxis": "y"
          },
          {
           "hoverlabel": {
            "namelength": 0
           },
           "hovertemplate": "Country=Myanmar<br>Year=2013<br>GDP=%{x}<br>Planted Forest(%)=%{y}<br>Net Export(1000 USD)=%{marker.size}",
           "ids": [
            "Myanmar"
           ],
           "legendgroup": "Country=Myanmar",
           "marker": {
            "color": "#B6E880",
            "size": [
             419539
            ],
            "sizemode": "area",
            "sizeref": 11638.6725,
            "symbol": "circle"
           },
           "mode": "markers",
           "name": "Country=Myanmar",
           "showlegend": true,
           "type": "scatter",
           "x": [
            1162.33144011893
           ],
           "xaxis": "x",
           "y": [
            1.472407668279537
           ],
           "yaxis": "y"
          },
          {
           "hoverlabel": {
            "namelength": 0
           },
           "hovertemplate": "Country=New Zealand<br>Year=2013<br>GDP=%{x}<br>Planted Forest(%)=%{y}<br>Net Export(1000 USD)=%{marker.size}",
           "ids": [
            "New Zealand"
           ],
           "legendgroup": "Country=New Zealand",
           "marker": {
            "color": "#FF97FF",
            "size": [
             1798571
            ],
            "sizemode": "area",
            "sizeref": 11638.6725,
            "symbol": "circle"
           },
           "mode": "markers",
           "name": "Country=New Zealand",
           "showlegend": true,
           "type": "scatter",
           "x": [
            42949.1422285498
           ],
           "xaxis": "x",
           "y": [
            7.91842315141848
           ],
           "yaxis": "y"
          },
          {
           "hoverlabel": {
            "namelength": 0
           },
           "hovertemplate": "Country=Norway<br>Year=2013<br>GDP=%{x}<br>Planted Forest(%)=%{y}<br>Net Export(1000 USD)=%{marker.size}",
           "ids": [
            "Norway"
           ],
           "legendgroup": "Country=Norway",
           "marker": {
            "color": "#FECB52",
            "size": [
             534575
            ],
            "sizemode": "area",
            "sizeref": 11638.6725,
            "symbol": "circle"
           },
           "mode": "markers",
           "name": "Country=Norway",
           "showlegend": true,
           "type": "scatter",
           "x": [
            103059.24822759
           ],
           "xaxis": "x",
           "y": [
            4.115325971283756
           ],
           "yaxis": "y"
          },
          {
           "hoverlabel": {
            "namelength": 0
           },
           "hovertemplate": "Country=Papua New Guinea<br>Year=2013<br>GDP=%{x}<br>Planted Forest(%)=%{y}<br>Net Export(1000 USD)=%{marker.size}",
           "ids": [
            "Papua New Guinea"
           ],
           "legendgroup": "Country=Papua New Guinea",
           "marker": {
            "color": "#636efa",
            "size": [
             98955
            ],
            "sizemode": "area",
            "sizeref": 11638.6725,
            "symbol": "circle"
           },
           "mode": "markers",
           "name": "Country=Papua New Guinea",
           "showlegend": true,
           "type": "scatter",
           "x": [
            2729.87555089863
           ],
           "xaxis": "x",
           "y": [
            0
           ],
           "yaxis": "y"
          },
          {
           "hoverlabel": {
            "namelength": 0
           },
           "hovertemplate": "Country=Portugal<br>Year=2013<br>GDP=%{x}<br>Planted Forest(%)=%{y}<br>Net Export(1000 USD)=%{marker.size}",
           "ids": [
            "Portugal"
           ],
           "legendgroup": "Country=Portugal",
           "marker": {
            "color": "#EF553B",
            "size": [
             1347282
            ],
            "sizemode": "area",
            "sizeref": 11638.6725,
            "symbol": "circle"
           },
           "mode": "markers",
           "name": "Country=Portugal",
           "showlegend": true,
           "type": "scatter",
           "x": [
            21618.7353389663
           ],
           "xaxis": "x",
           "y": [
            9.612991402234808
           ],
           "yaxis": "y"
          },
          {
           "hoverlabel": {
            "namelength": 0
           },
           "hovertemplate": "Country=Romania<br>Year=2013<br>GDP=%{x}<br>Planted Forest(%)=%{y}<br>Net Export(1000 USD)=%{marker.size}",
           "ids": [
            "Romania"
           ],
           "legendgroup": "Country=Romania",
           "marker": {
            "color": "#00cc96",
            "size": [
             1023359
            ],
            "sizemode": "area",
            "sizeref": 11638.6725,
            "symbol": "circle"
           },
           "mode": "markers",
           "name": "Country=Romania",
           "showlegend": true,
           "type": "scatter",
           "x": [
            9555.2442173314
           ],
           "xaxis": "x",
           "y": [
            2.4231621962352734
           ],
           "yaxis": "y"
          },
          {
           "hoverlabel": {
            "namelength": 0
           },
           "hovertemplate": "Country=Russian Federation<br>Year=2013<br>GDP=%{x}<br>Planted Forest(%)=%{y}<br>Net Export(1000 USD)=%{marker.size}",
           "ids": [
            "Russian Federation"
           ],
           "legendgroup": "Country=Russian Federation",
           "marker": {
            "color": "#ab63fa",
            "size": [
             4903878
            ],
            "sizemode": "area",
            "sizeref": 11638.6725,
            "symbol": "circle"
           },
           "mode": "markers",
           "name": "Country=Russian Federation",
           "showlegend": true,
           "type": "scatter",
           "x": [
            16007.089993443999
           ],
           "xaxis": "x",
           "y": [
            1.2059544955782149
           ],
           "yaxis": "y"
          },
          {
           "hoverlabel": {
            "namelength": 0
           },
           "hovertemplate": "Country=Slovakia<br>Year=2013<br>GDP=%{x}<br>Planted Forest(%)=%{y}<br>Net Export(1000 USD)=%{marker.size}",
           "ids": [
            "Slovakia"
           ],
           "legendgroup": "Country=Slovakia",
           "marker": {
            "color": "#19d3f3",
            "size": [
             504127
            ],
            "sizemode": "area",
            "sizeref": 11638.6725,
            "symbol": "circle"
           },
           "mode": "markers",
           "name": "Country=Slovakia",
           "showlegend": true,
           "type": "scatter",
           "x": [
            18191.612786163
           ],
           "xaxis": "x",
           "y": [
            19.98003659956746
           ],
           "yaxis": "y"
          },
          {
           "hoverlabel": {
            "namelength": 0
           },
           "hovertemplate": "Country=Slovenia<br>Year=2013<br>GDP=%{x}<br>Planted Forest(%)=%{y}<br>Net Export(1000 USD)=%{marker.size}",
           "ids": [
            "Slovenia"
           ],
           "legendgroup": "Country=Slovenia",
           "marker": {
            "color": "#FF6692",
            "size": [
             194734
            ],
            "sizemode": "area",
            "sizeref": 11638.6725,
            "symbol": "circle"
           },
           "mode": "markers",
           "name": "Country=Slovenia",
           "showlegend": true,
           "type": "scatter",
           "x": [
            23357.939198652002
           ],
           "xaxis": "x",
           "y": [
            1.6484607745779545
           ],
           "yaxis": "y"
          },
          {
           "hoverlabel": {
            "namelength": 0
           },
           "hovertemplate": "Country=Solomon Islands<br>Year=2013<br>GDP=%{x}<br>Planted Forest(%)=%{y}<br>Net Export(1000 USD)=%{marker.size}",
           "ids": [
            "Solomon Islands"
           ],
           "legendgroup": "Country=Solomon Islands",
           "marker": {
            "color": "#B6E880",
            "size": [
             40527
            ],
            "sizemode": "area",
            "sizeref": 11638.6725,
            "symbol": "circle"
           },
           "mode": "markers",
           "name": "Country=Solomon Islands",
           "showlegend": true,
           "type": "scatter",
           "x": [
            1977.45141074327
           ],
           "xaxis": "x",
           "y": [
            0.961057520543051
           ],
           "yaxis": "y"
          },
          {
           "hoverlabel": {
            "namelength": 0
           },
           "hovertemplate": "Country=South Africa<br>Year=2013<br>GDP=%{x}<br>Planted Forest(%)=%{y}<br>Net Export(1000 USD)=%{marker.size}",
           "ids": [
            "South Africa"
           ],
           "legendgroup": "Country=South Africa",
           "marker": {
            "color": "#FECB52",
            "size": [
             84589
            ],
            "sizemode": "area",
            "sizeref": 11638.6725,
            "symbol": "circle"
           },
           "mode": "markers",
           "name": "Country=South Africa",
           "showlegend": true,
           "type": "scatter",
           "x": [
            6829.020465244711
           ],
           "xaxis": "x",
           "y": [
            1.4533134392336924
           ],
           "yaxis": "y"
          },
          {
           "hoverlabel": {
            "namelength": 0
           },
           "hovertemplate": "Country=Suriname<br>Year=2013<br>GDP=%{x}<br>Planted Forest(%)=%{y}<br>Net Export(1000 USD)=%{marker.size}",
           "ids": [
            "Suriname"
           ],
           "legendgroup": "Country=Suriname",
           "marker": {
            "color": "#636efa",
            "size": [
             22222
            ],
            "sizemode": "area",
            "sizeref": 11638.6725,
            "symbol": "circle"
           },
           "mode": "markers",
           "name": "Country=Suriname",
           "showlegend": true,
           "type": "scatter",
           "x": [
            9402.23313695562
           ],
           "xaxis": "x",
           "y": [
            0.08333333333333334
           ],
           "yaxis": "y"
          },
          {
           "hoverlabel": {
            "namelength": 0
           },
           "hovertemplate": "Country=Sweden<br>Year=2013<br>GDP=%{x}<br>Planted Forest(%)=%{y}<br>Net Export(1000 USD)=%{marker.size}",
           "ids": [
            "Sweden"
           ],
           "legendgroup": "Country=Sweden",
           "marker": {
            "color": "#EF553B",
            "size": [
             12316852
            ],
            "sizemode": "area",
            "sizeref": 11638.6725,
            "symbol": "circle"
           },
           "mode": "markers",
           "name": "Country=Sweden",
           "showlegend": true,
           "type": "scatter",
           "x": [
            60347.6874885834
           ],
           "xaxis": "x",
           "y": [
            32.57180733539549
           ],
           "yaxis": "y"
          },
          {
           "hoverlabel": {
            "namelength": 0
           },
           "hovertemplate": "Country=Uruguay<br>Year=2013<br>GDP=%{x}<br>Planted Forest(%)=%{y}<br>Net Export(1000 USD)=%{marker.size}",
           "ids": [
            "Uruguay"
           ],
           "legendgroup": "Country=Uruguay",
           "marker": {
            "color": "#19d3f3",
            "size": [
             437050
            ],
            "sizemode": "area",
            "sizeref": 11638.6725,
            "symbol": "circle"
           },
           "mode": "markers",
           "name": "Country=Uruguay",
           "showlegend": true,
           "type": "scatter",
           "x": [
            16973.6742130217
           ],
           "xaxis": "x",
           "y": [
            5.878185350245686
           ],
           "yaxis": "y"
          }
         ],
         "name": "2013"
        },
        {
         "data": [
          {
           "hoverlabel": {
            "namelength": 0
           },
           "hovertemplate": "Country=Austria<br>Year=2014<br>GDP=%{x}<br>Planted Forest(%)=%{y}<br>Net Export(1000 USD)=%{marker.size}",
           "ids": [
            "Austria"
           ],
           "legendgroup": "Country=Austria",
           "marker": {
            "color": "#636efa",
            "size": [
             2311426
            ],
            "sizemode": "area",
            "sizeref": 11638.6725,
            "symbol": "circle"
           },
           "mode": "markers",
           "name": "Country=Austria",
           "showlegend": true,
           "type": "scatter",
           "x": [
            51717.495940551504
           ],
           "xaxis": "x",
           "y": [
            20.513069083770585
           ],
           "yaxis": "y"
          },
          {
           "hoverlabel": {
            "namelength": 0
           },
           "hovertemplate": "Country=Belarus<br>Year=2014<br>GDP=%{x}<br>Planted Forest(%)=%{y}<br>Net Export(1000 USD)=%{marker.size}",
           "ids": [
            "Belarus"
           ],
           "legendgroup": "Country=Belarus",
           "marker": {
            "color": "#EF553B",
            "size": [
             55957
            ],
            "sizemode": "area",
            "sizeref": 11638.6725,
            "symbol": "circle"
           },
           "mode": "markers",
           "name": "Country=Belarus",
           "showlegend": true,
           "type": "scatter",
           "x": [
            8318.51268992675
           ],
           "xaxis": "x",
           "y": [
            9.35868317460943
           ],
           "yaxis": "y"
          },
          {
           "hoverlabel": {
            "namelength": 0
           },
           "hovertemplate": "Country=Belgium<br>Year=2014<br>GDP=%{x}<br>Planted Forest(%)=%{y}<br>Net Export(1000 USD)=%{marker.size}",
           "ids": [
            "Belgium"
           ],
           "legendgroup": "Country=Belgium",
           "marker": {
            "color": "#00cc96",
            "size": [
             44822
            ],
            "sizemode": "area",
            "sizeref": 11638.6725,
            "symbol": "circle"
           },
           "mode": "markers",
           "name": "Country=Belgium",
           "showlegend": true,
           "type": "scatter",
           "x": [
            47355.3120057387
           ],
           "xaxis": "x",
           "y": [
            13.03896961690885
           ],
           "yaxis": "y"
          },
          {
           "hoverlabel": {
            "namelength": 0
           },
           "hovertemplate": "Country=Bosnia and Herzegovina<br>Year=2014<br>GDP=%{x}<br>Planted Forest(%)=%{y}<br>Net Export(1000 USD)=%{marker.size}",
           "ids": [
            "Bosnia and Herzegovina"
           ],
           "legendgroup": "Country=Bosnia and Herzegovina",
           "marker": {
            "color": "#FF6692",
            "size": [
             162021
            ],
            "sizemode": "area",
            "sizeref": 11638.6725,
            "symbol": "circle"
           },
           "mode": "markers",
           "name": "Country=Bosnia and Herzegovina",
           "showlegend": true,
           "type": "scatter",
           "x": [
            5329.63504488766
           ],
           "xaxis": "x",
           "y": [
            19.51171875
           ],
           "yaxis": "y"
          },
          {
           "hoverlabel": {
            "namelength": 0
           },
           "hovertemplate": "Country=Brazil<br>Year=2014<br>GDP=%{x}<br>Planted Forest(%)=%{y}<br>Net Export(1000 USD)=%{marker.size}",
           "ids": [
            "Brazil"
           ],
           "legendgroup": "Country=Brazil",
           "marker": {
            "color": "#B6E880",
            "size": [
             5391330
            ],
            "sizemode": "area",
            "sizeref": 11638.6725,
            "symbol": "circle"
           },
           "mode": "markers",
           "name": "Country=Brazil",
           "showlegend": true,
           "type": "scatter",
           "x": [
            12112.5903019529
           ],
           "xaxis": "x",
           "y": [
            0.90730712814095
           ],
           "yaxis": "y"
          },
          {
           "hoverlabel": {
            "namelength": 0
           },
           "hovertemplate": "Country=Bulgaria<br>Year=2014<br>GDP=%{x}<br>Planted Forest(%)=%{y}<br>Net Export(1000 USD)=%{marker.size}",
           "ids": [
            "Bulgaria"
           ],
           "legendgroup": "Country=Bulgaria",
           "marker": {
            "color": "#FF97FF",
            "size": [
             99884
            ],
            "sizemode": "area",
            "sizeref": 11638.6725,
            "symbol": "circle"
           },
           "mode": "markers",
           "name": "Country=Bulgaria",
           "showlegend": true,
           "type": "scatter",
           "x": [
            7864.76067225524
           ],
           "xaxis": "x",
           "y": [
            7.525792188651437
           ],
           "yaxis": "y"
          },
          {
           "hoverlabel": {
            "namelength": 0
           },
           "hovertemplate": "Country=Cambodia<br>Year=2014<br>GDP=%{x}<br>Planted Forest(%)=%{y}<br>Net Export(1000 USD)=%{marker.size}",
           "ids": [
            "Cambodia"
           ],
           "legendgroup": "Country=Cambodia",
           "marker": {
            "color": "#FECB52",
            "size": [
             182628
            ],
            "sizemode": "area",
            "sizeref": 11638.6725,
            "symbol": "circle"
           },
           "mode": "markers",
           "name": "Country=Cambodia",
           "showlegend": true,
           "type": "scatter",
           "x": [
            1093.49619050796
           ],
           "xaxis": "x",
           "y": [
            0.39089055064581923
           ],
           "yaxis": "y"
          },
          {
           "hoverlabel": {
            "namelength": 0
           },
           "hovertemplate": "Country=Cameroon<br>Year=2014<br>GDP=%{x}<br>Planted Forest(%)=%{y}<br>Net Export(1000 USD)=%{marker.size}",
           "ids": [
            "Cameroon"
           ],
           "legendgroup": "Country=Cameroon",
           "marker": {
            "color": "#636efa",
            "size": [
             413091
            ],
            "sizemode": "area",
            "sizeref": 11638.6725,
            "symbol": "circle"
           },
           "mode": "markers",
           "name": "Country=Cameroon",
           "showlegend": true,
           "type": "scatter",
           "x": [
            1540.5681817334698
           ],
           "xaxis": "x",
           "y": [
            0.051659579869264456
           ],
           "yaxis": "y"
          },
          {
           "hoverlabel": {
            "namelength": 0
           },
           "hovertemplate": "Country=Canada<br>Year=2014<br>GDP=%{x}<br>Planted Forest(%)=%{y}<br>Net Export(1000 USD)=%{marker.size}",
           "ids": [
            "Canada"
           ],
           "legendgroup": "Country=Canada",
           "marker": {
            "color": "#EF553B",
            "size": [
             14727952
            ],
            "sizemode": "area",
            "sizeref": 11638.6725,
            "symbol": "circle"
           },
           "mode": "markers",
           "name": "Country=Canada",
           "showlegend": true,
           "type": "scatter",
           "x": [
            50835.5111782446
           ],
           "xaxis": "x",
           "y": [
            1.7201545018230815
           ],
           "yaxis": "y"
          },
          {
           "hoverlabel": {
            "namelength": 0
           },
           "hovertemplate": "Country=Central African Republic<br>Year=2014<br>GDP=%{x}<br>Planted Forest(%)=%{y}<br>Net Export(1000 USD)=%{marker.size}",
           "ids": [
            "Central African Republic"
           ],
           "legendgroup": "Country=Central African Republic",
           "marker": {
            "color": "#00cc96",
            "size": [
             25974
            ],
            "sizemode": "area",
            "sizeref": 11638.6725,
            "symbol": "circle"
           },
           "mode": "markers",
           "name": "Country=Central African Republic",
           "showlegend": true,
           "type": "scatter",
           "x": [
            426.68456213776903
           ],
           "xaxis": "x",
           "y": [
            0.003210375935021991
           ],
           "yaxis": "y"
          },
          {
           "hoverlabel": {
            "namelength": 0
           },
           "hovertemplate": "Country=Chile<br>Year=2014<br>GDP=%{x}<br>Planted Forest(%)=%{y}<br>Net Export(1000 USD)=%{marker.size}",
           "ids": [
            "Chile"
           ],
           "legendgroup": "Country=Chile",
           "marker": {
            "color": "#FFA15A",
            "size": [
             2927570
            ],
            "sizemode": "area",
            "sizeref": 11638.6725,
            "symbol": "circle"
           },
           "mode": "markers",
           "name": "Country=Chile",
           "showlegend": true,
           "type": "scatter",
           "x": [
            14670.9971754461
           ],
           "xaxis": "x",
           "y": [
            3.916442063018135
           ],
           "yaxis": "y"
          },
          {
           "hoverlabel": {
            "namelength": 0
           },
           "hovertemplate": "Country=Congo<br>Year=2014<br>GDP=%{x}<br>Planted Forest(%)=%{y}<br>Net Export(1000 USD)=%{marker.size}",
           "ids": [
            "Congo"
           ],
           "legendgroup": "Country=Congo",
           "marker": {
            "color": "#19d3f3",
            "size": [
             40273
            ],
            "sizemode": "area",
            "sizeref": 11638.6725,
            "symbol": "circle"
           },
           "mode": "markers",
           "name": "Country=Congo",
           "showlegend": true,
           "type": "scatter",
           "x": [
            2992.93134863351
           ],
           "xaxis": "x",
           "y": [
            0.21024890190336748
           ],
           "yaxis": "y"
          },
          {
           "hoverlabel": {
            "namelength": 0
           },
           "hovertemplate": "Country=Croatia<br>Year=2014<br>GDP=%{x}<br>Planted Forest(%)=%{y}<br>Net Export(1000 USD)=%{marker.size}",
           "ids": [
            "Croatia"
           ],
           "legendgroup": "Country=Croatia",
           "marker": {
            "color": "#FF6692",
            "size": [
             324777
            ],
            "sizemode": "area",
            "sizeref": 11638.6725,
            "symbol": "circle"
           },
           "mode": "markers",
           "name": "Country=Croatia",
           "showlegend": true,
           "type": "scatter",
           "x": [
            13609.4973131526
           ],
           "xaxis": "x",
           "y": [
            1.307651528538611
           ],
           "yaxis": "y"
          },
          {
           "hoverlabel": {
            "namelength": 0
           },
           "hovertemplate": "Country=Czechia<br>Year=2014<br>GDP=%{x}<br>Planted Forest(%)=%{y}<br>Net Export(1000 USD)=%{marker.size}",
           "ids": [
            "Czechia"
           ],
           "legendgroup": "Country=Czechia",
           "marker": {
            "color": "#B6E880",
            "size": [
             586096
            ],
            "sizemode": "area",
            "sizeref": 11638.6725,
            "symbol": "circle"
           },
           "mode": "markers",
           "name": "Country=Czechia",
           "showlegend": true,
           "type": "scatter",
           "x": [
            19744.5586092159
           ],
           "xaxis": "x",
           "y": [
            34.20642320642321
           ],
           "yaxis": "y"
          },
          {
           "hoverlabel": {
            "namelength": 0
           },
           "hovertemplate": "Country=Democratic Republic of the Congo<br>Year=2014<br>GDP=%{x}<br>Planted Forest(%)=%{y}<br>Net Export(1000 USD)=%{marker.size}",
           "ids": [
            "Democratic Republic of the Congo"
           ],
           "legendgroup": "Country=Democratic Republic of the Congo",
           "marker": {
            "color": "#FF97FF",
            "size": [
             23877
            ],
            "sizemode": "area",
            "sizeref": 11638.6725,
            "symbol": "circle"
           },
           "mode": "markers",
           "name": "Country=Democratic Republic of the Congo",
           "showlegend": true,
           "type": "scatter",
           "x": [
            486.787081921829
           ],
           "xaxis": "x",
           "y": [
            0.026485432610661434
           ],
           "yaxis": "y"
          },
          {
           "hoverlabel": {
            "namelength": 0
           },
           "hovertemplate": "Country=Equatorial Guinea<br>Year=2014<br>GDP=%{x}<br>Planted Forest(%)=%{y}<br>Net Export(1000 USD)=%{marker.size}",
           "ids": [
            "Equatorial Guinea"
           ],
           "legendgroup": "Country=Equatorial Guinea",
           "marker": {
            "color": "#636efa",
            "size": [
             11908
            ],
            "sizemode": "area",
            "sizeref": 11638.6725,
            "symbol": "circle"
           },
           "mode": "markers",
           "name": "Country=Equatorial Guinea",
           "showlegend": true,
           "type": "scatter",
           "x": [
            19368.2309101895
           ],
           "xaxis": "x",
           "y": [
            0.004456327985739751
           ],
           "yaxis": "y"
          },
          {
           "hoverlabel": {
            "namelength": 0
           },
           "hovertemplate": "Country=Estonia<br>Year=2014<br>GDP=%{x}<br>Planted Forest(%)=%{y}<br>Net Export(1000 USD)=%{marker.size}",
           "ids": [
            "Estonia"
           ],
           "legendgroup": "Country=Estonia",
           "marker": {
            "color": "#EF553B",
            "size": [
             346259
            ],
            "sizemode": "area",
            "sizeref": 11638.6725,
            "symbol": "circle"
           },
           "mode": "markers",
           "name": "Country=Estonia",
           "showlegend": true,
           "type": "scatter",
           "x": [
            20247.199301110802
           ],
           "xaxis": "x",
           "y": [
            4.002760524499656
           ],
           "yaxis": "y"
          },
          {
           "hoverlabel": {
            "namelength": 0
           },
           "hovertemplate": "Country=Finland<br>Year=2014<br>GDP=%{x}<br>Planted Forest(%)=%{y}<br>Net Export(1000 USD)=%{marker.size}",
           "ids": [
            "Finland"
           ],
           "legendgroup": "Country=Finland",
           "marker": {
            "color": "#ab63fa",
            "size": [
             9806530
            ],
            "sizemode": "area",
            "sizeref": 11638.6725,
            "symbol": "circle"
           },
           "mode": "markers",
           "name": "Country=Finland",
           "showlegend": true,
           "type": "scatter",
           "x": [
            49914.61864215889
           ],
           "xaxis": "x",
           "y": [
            22.2955707657376
           ],
           "yaxis": "y"
          },
          {
           "hoverlabel": {
            "namelength": 0
           },
           "hovertemplate": "Country=Gabon<br>Year=2014<br>GDP=%{x}<br>Planted Forest(%)=%{y}<br>Net Export(1000 USD)=%{marker.size}",
           "ids": [
            "Gabon"
           ],
           "legendgroup": "Country=Gabon",
           "marker": {
            "color": "#FFA15A",
            "size": [
             216568
            ],
            "sizemode": "area",
            "sizeref": 11638.6725,
            "symbol": "circle"
           },
           "mode": "markers",
           "name": "Country=Gabon",
           "showlegend": true,
           "type": "scatter",
           "x": [
            9650.57437612745
           ],
           "xaxis": "x",
           "y": [
            0.11642798928862498
           ],
           "yaxis": "y"
          },
          {
           "hoverlabel": {
            "namelength": 0
           },
           "hovertemplate": "Country=Germany<br>Year=2014<br>GDP=%{x}<br>Planted Forest(%)=%{y}<br>Net Export(1000 USD)=%{marker.size}",
           "ids": [
            "Germany"
           ],
           "legendgroup": "Country=Germany",
           "marker": {
            "color": "#19d3f3",
            "size": [
             1469864
            ],
            "sizemode": "area",
            "sizeref": 11638.6725,
            "symbol": "circle"
           },
           "mode": "markers",
           "name": "Country=Germany",
           "showlegend": true,
           "type": "scatter",
           "x": [
            48142.8272014491
           ],
           "xaxis": "x",
           "y": [
            15.173402120951563
           ],
           "yaxis": "y"
          },
          {
           "hoverlabel": {
            "namelength": 0
           },
           "hovertemplate": "Country=Ghana<br>Year=2014<br>GDP=%{x}<br>Planted Forest(%)=%{y}<br>Net Export(1000 USD)=%{marker.size}",
           "ids": [
            "Ghana"
           ],
           "legendgroup": "Country=Ghana",
           "marker": {
            "color": "#FF6692",
            "size": [
             51415
            ],
            "sizemode": "area",
            "sizeref": 11638.6725,
            "symbol": "circle"
           },
           "mode": "markers",
           "name": "Country=Ghana",
           "showlegend": true,
           "type": "scatter",
           "x": [
            1968.8582634455702
           ],
           "xaxis": "x",
           "y": [
            1.3711874835193811
           ],
           "yaxis": "y"
          },
          {
           "hoverlabel": {
            "namelength": 0
           },
           "hovertemplate": "Country=Guyana<br>Year=2014<br>GDP=%{x}<br>Planted Forest(%)=%{y}<br>Net Export(1000 USD)=%{marker.size}",
           "ids": [
            "Guyana"
           ],
           "legendgroup": "Country=Guyana",
           "marker": {
            "color": "#FF97FF",
            "size": [
             25533
            ],
            "sizemode": "area",
            "sizeref": 11638.6725,
            "symbol": "circle"
           },
           "mode": "markers",
           "name": "Country=Guyana",
           "showlegend": true,
           "type": "scatter",
           "x": [
            4031.6006624567403
           ],
           "xaxis": "x",
           "y": [
            0
           ],
           "yaxis": "y"
          },
          {
           "hoverlabel": {
            "namelength": 0
           },
           "hovertemplate": "Country=Indonesia<br>Year=2014<br>GDP=%{x}<br>Planted Forest(%)=%{y}<br>Net Export(1000 USD)=%{marker.size}",
           "ids": [
            "Indonesia"
           ],
           "legendgroup": "Country=Indonesia",
           "marker": {
            "color": "#FECB52",
            "size": [
             3452690
            ],
            "sizemode": "area",
            "sizeref": 11638.6725,
            "symbol": "circle"
           },
           "mode": "markers",
           "name": "Country=Indonesia",
           "showlegend": true,
           "type": "scatter",
           "x": [
            3491.6247908576697
           ],
           "xaxis": "x",
           "y": [
            2.7144410649326276
           ],
           "yaxis": "y"
          },
          {
           "hoverlabel": {
            "namelength": 0
           },
           "hovertemplate": "Country=Lao People's Democratic Republic<br>Year=2014<br>GDP=%{x}<br>Planted Forest(%)=%{y}<br>Net Export(1000 USD)=%{marker.size}",
           "ids": [
            "Lao People's Democratic Republic"
           ],
           "legendgroup": "Country=Lao People's Democratic Republic",
           "marker": {
            "color": "#636efa",
            "size": [
             478020
            ],
            "sizemode": "area",
            "sizeref": 11638.6725,
            "symbol": "circle"
           },
           "mode": "markers",
           "name": "Country=Lao People's Democratic Republic",
           "showlegend": true,
           "type": "scatter",
           "x": [
            1998.3352147169896
           ],
           "xaxis": "x",
           "y": [
            0.45272963604852684
           ],
           "yaxis": "y"
          },
          {
           "hoverlabel": {
            "namelength": 0
           },
           "hovertemplate": "Country=Latvia<br>Year=2014<br>GDP=%{x}<br>Planted Forest(%)=%{y}<br>Net Export(1000 USD)=%{marker.size}",
           "ids": [
            "Latvia"
           ],
           "legendgroup": "Country=Latvia",
           "marker": {
            "color": "#EF553B",
            "size": [
             988678
            ],
            "sizemode": "area",
            "sizeref": 11638.6725,
            "symbol": "circle"
           },
           "mode": "markers",
           "name": "Country=Latvia",
           "showlegend": true,
           "type": "scatter",
           "x": [
            15716.369067201102
           ],
           "xaxis": "x",
           "y": [
            9.900225297714837
           ],
           "yaxis": "y"
          },
          {
           "hoverlabel": {
            "namelength": 0
           },
           "hovertemplate": "Country=Liberia<br>Year=2014<br>GDP=%{x}<br>Planted Forest(%)=%{y}<br>Net Export(1000 USD)=%{marker.size}",
           "ids": [
            "Liberia"
           ],
           "legendgroup": "Country=Liberia",
           "marker": {
            "color": "#00cc96",
            "size": [
             1358
            ],
            "sizemode": "area",
            "sizeref": 11638.6725,
            "symbol": "circle"
           },
           "mode": "markers",
           "name": "Country=Liberia",
           "showlegend": true,
           "type": "scatter",
           "x": [
            721.182794835652
           ],
           "xaxis": "x",
           "y": [
            0.08305647840531562
           ],
           "yaxis": "y"
          },
          {
           "hoverlabel": {
            "namelength": 0
           },
           "hovertemplate": "Country=Malawi<br>Year=2014<br>GDP=%{x}<br>Planted Forest(%)=%{y}<br>Net Export(1000 USD)=%{marker.size}",
           "ids": [
            "Malawi"
           ],
           "legendgroup": "Country=Malawi",
           "marker": {
            "color": "#19d3f3",
            "size": [
             7246
            ],
            "sizemode": "area",
            "sizeref": 11638.6725,
            "symbol": "circle"
           },
           "mode": "markers",
           "name": "Country=Malawi",
           "showlegend": true,
           "type": "scatter",
           "x": [
            371.26974962571296
           ],
           "xaxis": "x",
           "y": [
            4.329656342808655
           ],
           "yaxis": "y"
          },
          {
           "hoverlabel": {
            "namelength": 0
           },
           "hovertemplate": "Country=Malaysia<br>Year=2014<br>GDP=%{x}<br>Planted Forest(%)=%{y}<br>Net Export(1000 USD)=%{marker.size}",
           "ids": [
            "Malaysia"
           ],
           "legendgroup": "Country=Malaysia",
           "marker": {
            "color": "#FF6692",
            "size": [
             1765226
            ],
            "sizemode": "area",
            "sizeref": 11638.6725,
            "symbol": "circle"
           },
           "mode": "markers",
           "name": "Country=Malaysia",
           "showlegend": true,
           "type": "scatter",
           "x": [
            11319.0797572756
           ],
           "xaxis": "x",
           "y": [
            5.775072287323087
           ],
           "yaxis": "y"
          },
          {
           "hoverlabel": {
            "namelength": 0
           },
           "hovertemplate": "Country=Myanmar<br>Year=2014<br>GDP=%{x}<br>Planted Forest(%)=%{y}<br>Net Export(1000 USD)=%{marker.size}",
           "ids": [
            "Myanmar"
           ],
           "legendgroup": "Country=Myanmar",
           "marker": {
            "color": "#B6E880",
            "size": [
             305718
            ],
            "sizemode": "area",
            "sizeref": 11638.6725,
            "symbol": "circle"
           },
           "mode": "markers",
           "name": "Country=Myanmar",
           "showlegend": true,
           "type": "scatter",
           "x": [
            1251.8207645081402
           ],
           "xaxis": "x",
           "y": [
            1.4589330556746494
           ],
           "yaxis": "y"
          },
          {
           "hoverlabel": {
            "namelength": 0
           },
           "hovertemplate": "Country=New Zealand<br>Year=2014<br>GDP=%{x}<br>Planted Forest(%)=%{y}<br>Net Export(1000 USD)=%{marker.size}",
           "ids": [
            "New Zealand"
           ],
           "legendgroup": "Country=New Zealand",
           "marker": {
            "color": "#FF97FF",
            "size": [
             1803614
            ],
            "sizemode": "area",
            "sizeref": 11638.6725,
            "symbol": "circle"
           },
           "mode": "markers",
           "name": "Country=New Zealand",
           "showlegend": true,
           "type": "scatter",
           "x": [
            44533.7830906379
           ],
           "xaxis": "x",
           "y": [
            7.922220956287266
           ],
           "yaxis": "y"
          },
          {
           "hoverlabel": {
            "namelength": 0
           },
           "hovertemplate": "Country=Norway<br>Year=2014<br>GDP=%{x}<br>Planted Forest(%)=%{y}<br>Net Export(1000 USD)=%{marker.size}",
           "ids": [
            "Norway"
           ],
           "legendgroup": "Country=Norway",
           "marker": {
            "color": "#FECB52",
            "size": [
             338687
            ],
            "sizemode": "area",
            "sizeref": 11638.6725,
            "symbol": "circle"
           },
           "mode": "markers",
           "name": "Country=Norway",
           "showlegend": true,
           "type": "scatter",
           "x": [
            97199.9190963458
           ],
           "xaxis": "x",
           "y": [
            4.151478176009528
           ],
           "yaxis": "y"
          },
          {
           "hoverlabel": {
            "namelength": 0
           },
           "hovertemplate": "Country=Papua New Guinea<br>Year=2014<br>GDP=%{x}<br>Planted Forest(%)=%{y}<br>Net Export(1000 USD)=%{marker.size}",
           "ids": [
            "Papua New Guinea"
           ],
           "legendgroup": "Country=Papua New Guinea",
           "marker": {
            "color": "#636efa",
            "size": [
             141462
            ],
            "sizemode": "area",
            "sizeref": 11638.6725,
            "symbol": "circle"
           },
           "mode": "markers",
           "name": "Country=Papua New Guinea",
           "showlegend": true,
           "type": "scatter",
           "x": [
            2920.77482513456
           ],
           "xaxis": "x",
           "y": [
            0
           ],
           "yaxis": "y"
          },
          {
           "hoverlabel": {
            "namelength": 0
           },
           "hovertemplate": "Country=Portugal<br>Year=2014<br>GDP=%{x}<br>Planted Forest(%)=%{y}<br>Net Export(1000 USD)=%{marker.size}",
           "ids": [
            "Portugal"
           ],
           "legendgroup": "Country=Portugal",
           "marker": {
            "color": "#EF553B",
            "size": [
             1483264
            ],
            "sizemode": "area",
            "sizeref": 11638.6725,
            "symbol": "circle"
           },
           "mode": "markers",
           "name": "Country=Portugal",
           "showlegend": true,
           "type": "scatter",
           "x": [
            22077.5361325219
           ],
           "xaxis": "x",
           "y": [
            9.669714515269808
           ],
           "yaxis": "y"
          },
          {
           "hoverlabel": {
            "namelength": 0
           },
           "hovertemplate": "Country=Romania<br>Year=2014<br>GDP=%{x}<br>Planted Forest(%)=%{y}<br>Net Export(1000 USD)=%{marker.size}",
           "ids": [
            "Romania"
           ],
           "legendgroup": "Country=Romania",
           "marker": {
            "color": "#00cc96",
            "size": [
             760434
            ],
            "sizemode": "area",
            "sizeref": 11638.6725,
            "symbol": "circle"
           },
           "mode": "markers",
           "name": "Country=Romania",
           "showlegend": true,
           "type": "scatter",
           "x": [
            10026.973578179399
           ],
           "xaxis": "x",
           "y": [
            2.447844228094576
           ],
           "yaxis": "y"
          },
          {
           "hoverlabel": {
            "namelength": 0
           },
           "hovertemplate": "Country=Russian Federation<br>Year=2014<br>GDP=%{x}<br>Planted Forest(%)=%{y}<br>Net Export(1000 USD)=%{marker.size}",
           "ids": [
            "Russian Federation"
           ],
           "legendgroup": "Country=Russian Federation",
           "marker": {
            "color": "#ab63fa",
            "size": [
             4538602
            ],
            "sizemode": "area",
            "sizeref": 11638.6725,
            "symbol": "circle"
           },
           "mode": "markers",
           "name": "Country=Russian Federation",
           "showlegend": true,
           "type": "scatter",
           "x": [
            14100.7291028658
           ],
           "xaxis": "x",
           "y": [
            1.2087401316613005
           ],
           "yaxis": "y"
          },
          {
           "hoverlabel": {
            "namelength": 0
           },
           "hovertemplate": "Country=Slovakia<br>Year=2014<br>GDP=%{x}<br>Planted Forest(%)=%{y}<br>Net Export(1000 USD)=%{marker.size}",
           "ids": [
            "Slovakia"
           ],
           "legendgroup": "Country=Slovakia",
           "marker": {
            "color": "#19d3f3",
            "size": [
             473029
            ],
            "sizemode": "area",
            "sizeref": 11638.6725,
            "symbol": "circle"
           },
           "mode": "markers",
           "name": "Country=Slovakia",
           "showlegend": true,
           "type": "scatter",
           "x": [
            18629.7796630086
           ],
           "xaxis": "x",
           "y": [
            19.97504159733777
           ],
           "yaxis": "y"
          },
          {
           "hoverlabel": {
            "namelength": 0
           },
           "hovertemplate": "Country=Slovenia<br>Year=2014<br>GDP=%{x}<br>Planted Forest(%)=%{y}<br>Net Export(1000 USD)=%{marker.size}",
           "ids": [
            "Slovenia"
           ],
           "legendgroup": "Country=Slovenia",
           "marker": {
            "color": "#FF6692",
            "size": [
             231815
            ],
            "sizemode": "area",
            "sizeref": 11638.6725,
            "symbol": "circle"
           },
           "mode": "markers",
           "name": "Country=Slovenia",
           "showlegend": true,
           "type": "scatter",
           "x": [
            24194.974352808
           ],
           "xaxis": "x",
           "y": [
            1.6683217477656405
           ],
           "yaxis": "y"
          },
          {
           "hoverlabel": {
            "namelength": 0
           },
           "hovertemplate": "Country=Solomon Islands<br>Year=2014<br>GDP=%{x}<br>Planted Forest(%)=%{y}<br>Net Export(1000 USD)=%{marker.size}",
           "ids": [
            "Solomon Islands"
           ],
           "legendgroup": "Country=Solomon Islands",
           "marker": {
            "color": "#B6E880",
            "size": [
             31955
            ],
            "sizemode": "area",
            "sizeref": 11638.6725,
            "symbol": "circle"
           },
           "mode": "markers",
           "name": "Country=Solomon Islands",
           "showlegend": true,
           "type": "scatter",
           "x": [
            1996.78117583183
           ],
           "xaxis": "x",
           "y": [
            0.961057520543051
           ],
           "yaxis": "y"
          },
          {
           "hoverlabel": {
            "namelength": 0
           },
           "hovertemplate": "Country=Sweden<br>Year=2014<br>GDP=%{x}<br>Planted Forest(%)=%{y}<br>Net Export(1000 USD)=%{marker.size}",
           "ids": [
            "Sweden"
           ],
           "legendgroup": "Country=Sweden",
           "marker": {
            "color": "#EF553B",
            "size": [
             12629797
            ],
            "sizemode": "area",
            "sizeref": 11638.6725,
            "symbol": "circle"
           },
           "mode": "markers",
           "name": "Country=Sweden",
           "showlegend": true,
           "type": "scatter",
           "x": [
            59241.606378741504
           ],
           "xaxis": "x",
           "y": [
            33.150180452235396
           ],
           "yaxis": "y"
          },
          {
           "hoverlabel": {
            "namelength": 0
           },
           "hovertemplate": "Country=Togo<br>Year=2014<br>GDP=%{x}<br>Planted Forest(%)=%{y}<br>Net Export(1000 USD)=%{marker.size}",
           "ids": [
            "Togo"
           ],
           "legendgroup": "Country=Togo",
           "marker": {
            "color": "#ab63fa",
            "size": [
             572
            ],
            "sizemode": "area",
            "sizeref": 11638.6725,
            "symbol": "circle"
           },
           "mode": "markers",
           "name": "Country=Togo",
           "showlegend": true,
           "type": "scatter",
           "x": [
            640.081611119276
           ],
           "xaxis": "x",
           "y": [
            0.8310351167494024
           ],
           "yaxis": "y"
          },
          {
           "hoverlabel": {
            "namelength": 0
           },
           "hovertemplate": "Country=Ukraine<br>Year=2014<br>GDP=%{x}<br>Planted Forest(%)=%{y}<br>Net Export(1000 USD)=%{marker.size}",
           "ids": [
            "Ukraine"
           ],
           "legendgroup": "Country=Ukraine",
           "marker": {
            "color": "#FFA15A",
            "size": [
             185812
            ],
            "sizemode": "area",
            "sizeref": 11638.6725,
            "symbol": "circle"
           },
           "mode": "markers",
           "name": "Country=Ukraine",
           "showlegend": true,
           "type": "scatter",
           "x": [
            3104.6582957544897
           ],
           "xaxis": "x",
           "y": [
            8.375079839113397
           ],
           "yaxis": "y"
          },
          {
           "hoverlabel": {
            "namelength": 0
           },
           "hovertemplate": "Country=Uruguay<br>Year=2014<br>GDP=%{x}<br>Planted Forest(%)=%{y}<br>Net Export(1000 USD)=%{marker.size}",
           "ids": [
            "Uruguay"
           ],
           "legendgroup": "Country=Uruguay",
           "marker": {
            "color": "#19d3f3",
            "size": [
             481379
            ],
            "sizemode": "area",
            "sizeref": 11638.6725,
            "symbol": "circle"
           },
           "mode": "markers",
           "name": "Country=Uruguay",
           "showlegend": true,
           "type": "scatter",
           "x": [
            16831.9729440778
           ],
           "xaxis": "x",
           "y": [
            5.973031653525312
           ],
           "yaxis": "y"
          }
         ],
         "name": "2014"
        },
        {
         "data": [
          {
           "hoverlabel": {
            "namelength": 0
           },
           "hovertemplate": "Country=Austria<br>Year=2015<br>GDP=%{x}<br>Planted Forest(%)=%{y}<br>Net Export(1000 USD)=%{marker.size}",
           "ids": [
            "Austria"
           ],
           "legendgroup": "Country=Austria",
           "marker": {
            "color": "#636efa",
            "size": [
             1939106
            ],
            "sizemode": "area",
            "sizeref": 11638.6725,
            "symbol": "circle"
           },
           "mode": "markers",
           "name": "Country=Austria",
           "showlegend": true,
           "type": "scatter",
           "x": [
            44176.6717431334
           ],
           "xaxis": "x",
           "y": [
            20.503374816717766
           ],
           "yaxis": "y"
          },
          {
           "hoverlabel": {
            "namelength": 0
           },
           "hovertemplate": "Country=Belarus<br>Year=2015<br>GDP=%{x}<br>Planted Forest(%)=%{y}<br>Net Export(1000 USD)=%{marker.size}",
           "ids": [
            "Belarus"
           ],
           "legendgroup": "Country=Belarus",
           "marker": {
            "color": "#EF553B",
            "size": [
             331504
            ],
            "sizemode": "area",
            "sizeref": 11638.6725,
            "symbol": "circle"
           },
           "mode": "markers",
           "name": "Country=Belarus",
           "showlegend": true,
           "type": "scatter",
           "x": [
            5949.106306997479
           ],
           "xaxis": "x",
           "y": [
            9.410872114219275
           ],
           "yaxis": "y"
          },
          {
           "hoverlabel": {
            "namelength": 0
           },
           "hovertemplate": "Country=Belgium<br>Year=2015<br>GDP=%{x}<br>Planted Forest(%)=%{y}<br>Net Export(1000 USD)=%{marker.size}",
           "ids": [
            "Belgium"
           ],
           "legendgroup": "Country=Belgium",
           "marker": {
            "color": "#00cc96",
            "size": [
             69575
            ],
            "sizemode": "area",
            "sizeref": 11638.6725,
            "symbol": "circle"
           },
           "mode": "markers",
           "name": "Country=Belgium",
           "showlegend": true,
           "type": "scatter",
           "x": [
            40441.0520422361
           ],
           "xaxis": "x",
           "y": [
            13.015191545574636
           ],
           "yaxis": "y"
          },
          {
           "hoverlabel": {
            "namelength": 0
           },
           "hovertemplate": "Country=Benin<br>Year=2015<br>GDP=%{x}<br>Planted Forest(%)=%{y}<br>Net Export(1000 USD)=%{marker.size}",
           "ids": [
            "Benin"
           ],
           "legendgroup": "Country=Benin",
           "marker": {
            "color": "#FFA15A",
            "size": [
             3911
            ],
            "sizemode": "area",
            "sizeref": 11638.6725,
            "symbol": "circle"
           },
           "mode": "markers",
           "name": "Country=Benin",
           "showlegend": true,
           "type": "scatter",
           "x": [
            783.963077800944
           ],
           "xaxis": "x",
           "y": [
            0.20397304008513656
           ],
           "yaxis": "y"
          },
          {
           "hoverlabel": {
            "namelength": 0
           },
           "hovertemplate": "Country=Bosnia and Herzegovina<br>Year=2015<br>GDP=%{x}<br>Planted Forest(%)=%{y}<br>Net Export(1000 USD)=%{marker.size}",
           "ids": [
            "Bosnia and Herzegovina"
           ],
           "legendgroup": "Country=Bosnia and Herzegovina",
           "marker": {
            "color": "#FF6692",
            "size": [
             182000
            ],
            "sizemode": "area",
            "sizeref": 11638.6725,
            "symbol": "circle"
           },
           "mode": "markers",
           "name": "Country=Bosnia and Herzegovina",
           "showlegend": true,
           "type": "scatter",
           "x": [
            4727.277546222071
           ],
           "xaxis": "x",
           "y": [
            19.51171875
           ],
           "yaxis": "y"
          },
          {
           "hoverlabel": {
            "namelength": 0
           },
           "hovertemplate": "Country=Brazil<br>Year=2015<br>GDP=%{x}<br>Planted Forest(%)=%{y}<br>Net Export(1000 USD)=%{marker.size}",
           "ids": [
            "Brazil"
           ],
           "legendgroup": "Country=Brazil",
           "marker": {
            "color": "#B6E880",
            "size": [
             5682812
            ],
            "sizemode": "area",
            "sizeref": 11638.6725,
            "symbol": "circle"
           },
           "mode": "markers",
           "name": "Country=Brazil",
           "showlegend": true,
           "type": "scatter",
           "x": [
            8814.000986812609
           ],
           "xaxis": "x",
           "y": [
            0.9255647787665676
           ],
           "yaxis": "y"
          },
          {
           "hoverlabel": {
            "namelength": 0
           },
           "hovertemplate": "Country=Bulgaria<br>Year=2015<br>GDP=%{x}<br>Planted Forest(%)=%{y}<br>Net Export(1000 USD)=%{marker.size}",
           "ids": [
            "Bulgaria"
           ],
           "legendgroup": "Country=Bulgaria",
           "marker": {
            "color": "#FF97FF",
            "size": [
             83434
            ],
            "sizemode": "area",
            "sizeref": 11638.6725,
            "symbol": "circle"
           },
           "mode": "markers",
           "name": "Country=Bulgaria",
           "showlegend": true,
           "type": "scatter",
           "x": [
            6993.783482673871
           ],
           "xaxis": "x",
           "y": [
            7.525792188651437
           ],
           "yaxis": "y"
          },
          {
           "hoverlabel": {
            "namelength": 0
           },
           "hovertemplate": "Country=Cambodia<br>Year=2015<br>GDP=%{x}<br>Planted Forest(%)=%{y}<br>Net Export(1000 USD)=%{marker.size}",
           "ids": [
            "Cambodia"
           ],
           "legendgroup": "Country=Cambodia",
           "marker": {
            "color": "#FECB52",
            "size": [
             170861
            ],
            "sizemode": "area",
            "sizeref": 11638.6725,
            "symbol": "circle"
           },
           "mode": "markers",
           "name": "Country=Cambodia",
           "showlegend": true,
           "type": "scatter",
           "x": [
            1162.90491997151
           ],
           "xaxis": "x",
           "y": [
            0.39089055064581923
           ],
           "yaxis": "y"
          },
          {
           "hoverlabel": {
            "namelength": 0
           },
           "hovertemplate": "Country=Cameroon<br>Year=2015<br>GDP=%{x}<br>Planted Forest(%)=%{y}<br>Net Export(1000 USD)=%{marker.size}",
           "ids": [
            "Cameroon"
           ],
           "legendgroup": "Country=Cameroon",
           "marker": {
            "color": "#636efa",
            "size": [
             451782
            ],
            "sizemode": "area",
            "sizeref": 11638.6725,
            "symbol": "circle"
           },
           "mode": "markers",
           "name": "Country=Cameroon",
           "showlegend": true,
           "type": "scatter",
           "x": [
            1326.96927718029
           ],
           "xaxis": "x",
           "y": [
            0.05415582492437224
           ],
           "yaxis": "y"
          },
          {
           "hoverlabel": {
            "namelength": 0
           },
           "hovertemplate": "Country=Canada<br>Year=2015<br>GDP=%{x}<br>Planted Forest(%)=%{y}<br>Net Export(1000 USD)=%{marker.size}",
           "ids": [
            "Canada"
           ],
           "legendgroup": "Country=Canada",
           "marker": {
            "color": "#EF553B",
            "size": [
             13843059
            ],
            "sizemode": "area",
            "sizeref": 11638.6725,
            "symbol": "circle"
           },
           "mode": "markers",
           "name": "Country=Canada",
           "showlegend": true,
           "type": "scatter",
           "x": [
            43495.0543869902
           ],
           "xaxis": "x",
           "y": [
            1.7605087897171297
           ],
           "yaxis": "y"
          },
          {
           "hoverlabel": {
            "namelength": 0
           },
           "hovertemplate": "Country=Central African Republic<br>Year=2015<br>GDP=%{x}<br>Planted Forest(%)=%{y}<br>Net Export(1000 USD)=%{marker.size}",
           "ids": [
            "Central African Republic"
           ],
           "legendgroup": "Country=Central African Republic",
           "marker": {
            "color": "#00cc96",
            "size": [
             27866
            ],
            "sizemode": "area",
            "sizeref": 11638.6725,
            "symbol": "circle"
           },
           "mode": "markers",
           "name": "Country=Central African Republic",
           "showlegend": true,
           "type": "scatter",
           "x": [
            380.404293450491
           ],
           "xaxis": "x",
           "y": [
            0.003210375935021991
           ],
           "yaxis": "y"
          },
          {
           "hoverlabel": {
            "namelength": 0
           },
           "hovertemplate": "Country=Chile<br>Year=2015<br>GDP=%{x}<br>Planted Forest(%)=%{y}<br>Net Export(1000 USD)=%{marker.size}",
           "ids": [
            "Chile"
           ],
           "legendgroup": "Country=Chile",
           "marker": {
            "color": "#FFA15A",
            "size": [
             2785764
            ],
            "sizemode": "area",
            "sizeref": 11638.6725,
            "symbol": "circle"
           },
           "mode": "markers",
           "name": "Country=Chile",
           "showlegend": true,
           "type": "scatter",
           "x": [
            13574.1715039612
           ],
           "xaxis": "x",
           "y": [
            4.093973090600001
           ],
           "yaxis": "y"
          },
          {
           "hoverlabel": {
            "namelength": 0
           },
           "hovertemplate": "Country=Congo<br>Year=2015<br>GDP=%{x}<br>Planted Forest(%)=%{y}<br>Net Export(1000 USD)=%{marker.size}",
           "ids": [
            "Congo"
           ],
           "legendgroup": "Country=Congo",
           "marker": {
            "color": "#19d3f3",
            "size": [
             111547
            ],
            "sizemode": "area",
            "sizeref": 11638.6725,
            "symbol": "circle"
           },
           "mode": "markers",
           "name": "Country=Congo",
           "showlegend": true,
           "type": "scatter",
           "x": [
            1761.32356974061
           ],
           "xaxis": "x",
           "y": [
            0.20790629575402636
           ],
           "yaxis": "y"
          },
          {
           "hoverlabel": {
            "namelength": 0
           },
           "hovertemplate": "Country=Croatia<br>Year=2015<br>GDP=%{x}<br>Planted Forest(%)=%{y}<br>Net Export(1000 USD)=%{marker.size}",
           "ids": [
            "Croatia"
           ],
           "legendgroup": "Country=Croatia",
           "marker": {
            "color": "#FF6692",
            "size": [
             347427
            ],
            "sizemode": "area",
            "sizeref": 11638.6725,
            "symbol": "circle"
           },
           "mode": "markers",
           "name": "Country=Croatia",
           "showlegend": true,
           "type": "scatter",
           "x": [
            11780.131241969399
           ],
           "xaxis": "x",
           "y": [
            1.325322495140484
           ],
           "yaxis": "y"
          },
          {
           "hoverlabel": {
            "namelength": 0
           },
           "hovertemplate": "Country=Czechia<br>Year=2015<br>GDP=%{x}<br>Planted Forest(%)=%{y}<br>Net Export(1000 USD)=%{marker.size}",
           "ids": [
            "Czechia"
           ],
           "legendgroup": "Country=Czechia",
           "marker": {
            "color": "#B6E880",
            "size": [
             489733
            ],
            "sizemode": "area",
            "sizeref": 11638.6725,
            "symbol": "circle"
           },
           "mode": "markers",
           "name": "Country=Czechia",
           "showlegend": true,
           "type": "scatter",
           "x": [
            17715.6168523009
           ],
           "xaxis": "x",
           "y": [
            34.235202693951564
           ],
           "yaxis": "y"
          },
          {
           "hoverlabel": {
            "namelength": 0
           },
           "hovertemplate": "Country=Democratic Republic of the Congo<br>Year=2015<br>GDP=%{x}<br>Planted Forest(%)=%{y}<br>Net Export(1000 USD)=%{marker.size}",
           "ids": [
            "Democratic Republic of the Congo"
           ],
           "legendgroup": "Country=Democratic Republic of the Congo",
           "marker": {
            "color": "#FF97FF",
            "size": [
             27635
            ],
            "sizemode": "area",
            "sizeref": 11638.6725,
            "symbol": "circle"
           },
           "mode": "markers",
           "name": "Country=Democratic Republic of the Congo",
           "showlegend": true,
           "type": "scatter",
           "x": [
            497.316960805998
           ],
           "xaxis": "x",
           "y": [
            0.026624909022738803
           ],
           "yaxis": "y"
          },
          {
           "hoverlabel": {
            "namelength": 0
           },
           "hovertemplate": "Country=Djibouti<br>Year=2015<br>GDP=%{x}<br>Planted Forest(%)=%{y}<br>Net Export(1000 USD)=%{marker.size}",
           "ids": [
            "Djibouti"
           ],
           "legendgroup": "Country=Djibouti",
           "marker": {
            "color": "#FECB52",
            "size": [
             3999
            ],
            "sizemode": "area",
            "sizeref": 11638.6725,
            "symbol": "circle"
           },
           "mode": "markers",
           "name": "Country=Djibouti",
           "showlegend": true,
           "type": "scatter",
           "x": [
            1787.4775000326802
           ],
           "xaxis": "x",
           "y": [
            0
           ],
           "yaxis": "y"
          },
          {
           "hoverlabel": {
            "namelength": 0
           },
           "hovertemplate": "Country=Equatorial Guinea<br>Year=2015<br>GDP=%{x}<br>Planted Forest(%)=%{y}<br>Net Export(1000 USD)=%{marker.size}",
           "ids": [
            "Equatorial Guinea"
           ],
           "legendgroup": "Country=Equatorial Guinea",
           "marker": {
            "color": "#636efa",
            "size": [
             11913
            ],
            "sizemode": "area",
            "sizeref": 11638.6725,
            "symbol": "circle"
           },
           "mode": "markers",
           "name": "Country=Equatorial Guinea",
           "showlegend": true,
           "type": "scatter",
           "x": [
            11278.928941330902
           ],
           "xaxis": "x",
           "y": [
            0.004456327985739751
           ],
           "yaxis": "y"
          },
          {
           "hoverlabel": {
            "namelength": 0
           },
           "hovertemplate": "Country=Estonia<br>Year=2015<br>GDP=%{x}<br>Planted Forest(%)=%{y}<br>Net Export(1000 USD)=%{marker.size}",
           "ids": [
            "Estonia"
           ],
           "legendgroup": "Country=Estonia",
           "marker": {
            "color": "#EF553B",
            "size": [
             280066
            ],
            "sizemode": "area",
            "sizeref": 11638.6725,
            "symbol": "circle"
           },
           "mode": "markers",
           "name": "Country=Estonia",
           "showlegend": true,
           "type": "scatter",
           "x": [
            17412.4486731613
           ],
           "xaxis": "x",
           "y": [
            4.002760524499656
           ],
           "yaxis": "y"
          },
          {
           "hoverlabel": {
            "namelength": 0
           },
           "hovertemplate": "Country=Fiji<br>Year=2015<br>GDP=%{x}<br>Planted Forest(%)=%{y}<br>Net Export(1000 USD)=%{marker.size}",
           "ids": [
            "Fiji"
           ],
           "legendgroup": "Country=Fiji",
           "marker": {
            "color": "#00cc96",
            "size": [
             5877
            ],
            "sizemode": "area",
            "sizeref": 11638.6725,
            "symbol": "circle"
           },
           "mode": "markers",
           "name": "Country=Fiji",
           "showlegend": true,
           "type": "scatter",
           "x": [
            5390.74525792812
           ],
           "xaxis": "x",
           "y": [
            8.438697318007664
           ],
           "yaxis": "y"
          },
          {
           "hoverlabel": {
            "namelength": 0
           },
           "hovertemplate": "Country=Finland<br>Year=2015<br>GDP=%{x}<br>Planted Forest(%)=%{y}<br>Net Export(1000 USD)=%{marker.size}",
           "ids": [
            "Finland"
           ],
           "legendgroup": "Country=Finland",
           "marker": {
            "color": "#ab63fa",
            "size": [
             8446411
            ],
            "sizemode": "area",
            "sizeref": 11638.6725,
            "symbol": "circle"
           },
           "mode": "markers",
           "name": "Country=Finland",
           "showlegend": true,
           "type": "scatter",
           "x": [
            42494.6566238083
           ],
           "xaxis": "x",
           "y": [
            22.294103517488733
           ],
           "yaxis": "y"
          },
          {
           "hoverlabel": {
            "namelength": 0
           },
           "hovertemplate": "Country=Gabon<br>Year=2015<br>GDP=%{x}<br>Planted Forest(%)=%{y}<br>Net Export(1000 USD)=%{marker.size}",
           "ids": [
            "Gabon"
           ],
           "legendgroup": "Country=Gabon",
           "marker": {
            "color": "#FFA15A",
            "size": [
             225244
            ],
            "sizemode": "area",
            "sizeref": 11638.6725,
            "symbol": "circle"
           },
           "mode": "markers",
           "name": "Country=Gabon",
           "showlegend": true,
           "type": "scatter",
           "x": [
            7381.74674851952
           ],
           "xaxis": "x",
           "y": [
            0.11642798928862498
           ],
           "yaxis": "y"
          },
          {
           "hoverlabel": {
            "namelength": 0
           },
           "hovertemplate": "Country=Germany<br>Year=2015<br>GDP=%{x}<br>Planted Forest(%)=%{y}<br>Net Export(1000 USD)=%{marker.size}",
           "ids": [
            "Germany"
           ],
           "legendgroup": "Country=Germany",
           "marker": {
            "color": "#19d3f3",
            "size": [
             728379
            ],
            "sizemode": "area",
            "sizeref": 11638.6725,
            "symbol": "circle"
           },
           "mode": "markers",
           "name": "Country=Germany",
           "showlegend": true,
           "type": "scatter",
           "x": [
            41394.6581607948
           ],
           "xaxis": "x",
           "y": [
            15.17800837011982
           ],
           "yaxis": "y"
          },
          {
           "hoverlabel": {
            "namelength": 0
           },
           "hovertemplate": "Country=Ghana<br>Year=2015<br>GDP=%{x}<br>Planted Forest(%)=%{y}<br>Net Export(1000 USD)=%{marker.size}",
           "ids": [
            "Ghana"
           ],
           "legendgroup": "Country=Ghana",
           "marker": {
            "color": "#FF6692",
            "size": [
             71813
            ],
            "sizemode": "area",
            "sizeref": 11638.6725,
            "symbol": "circle"
           },
           "mode": "markers",
           "name": "Country=Ghana",
           "showlegend": true,
           "type": "scatter",
           "x": [
            1766.0057008915699
           ],
           "xaxis": "x",
           "y": [
            1.4283202953326888
           ],
           "yaxis": "y"
          },
          {
           "hoverlabel": {
            "namelength": 0
           },
           "hovertemplate": "Country=Guyana<br>Year=2015<br>GDP=%{x}<br>Planted Forest(%)=%{y}<br>Net Export(1000 USD)=%{marker.size}",
           "ids": [
            "Guyana"
           ],
           "legendgroup": "Country=Guyana",
           "marker": {
            "color": "#FF97FF",
            "size": [
             25991
            ],
            "sizemode": "area",
            "sizeref": 11638.6725,
            "symbol": "circle"
           },
           "mode": "markers",
           "name": "Country=Guyana",
           "showlegend": true,
           "type": "scatter",
           "x": [
            4166.13482575402
           ],
           "xaxis": "x",
           "y": [
            0
           ],
           "yaxis": "y"
          },
          {
           "hoverlabel": {
            "namelength": 0
           },
           "hovertemplate": "Country=Indonesia<br>Year=2015<br>GDP=%{x}<br>Planted Forest(%)=%{y}<br>Net Export(1000 USD)=%{marker.size}",
           "ids": [
            "Indonesia"
           ],
           "legendgroup": "Country=Indonesia",
           "marker": {
            "color": "#FECB52",
            "size": [
             3701761
            ],
            "sizemode": "area",
            "sizeref": 11638.6725,
            "symbol": "circle"
           },
           "mode": "markers",
           "name": "Country=Indonesia",
           "showlegend": true,
           "type": "scatter",
           "x": [
            3331.69512758628
           ],
           "xaxis": "x",
           "y": [
            2.7302284758524373
           ],
           "yaxis": "y"
          },
          {
           "hoverlabel": {
            "namelength": 0
           },
           "hovertemplate": "Country=Lao People's Democratic Republic<br>Year=2015<br>GDP=%{x}<br>Planted Forest(%)=%{y}<br>Net Export(1000 USD)=%{marker.size}",
           "ids": [
            "Lao People's Democratic Republic"
           ],
           "legendgroup": "Country=Lao People's Democratic Republic",
           "marker": {
            "color": "#636efa",
            "size": [
             346435
            ],
            "sizemode": "area",
            "sizeref": 11638.6725,
            "symbol": "circle"
           },
           "mode": "markers",
           "name": "Country=Lao People's Democratic Republic",
           "showlegend": true,
           "type": "scatter",
           "x": [
            2134.7042238196104
           ],
           "xaxis": "x",
           "y": [
            0.4900779896013865
           ],
           "yaxis": "y"
          },
          {
           "hoverlabel": {
            "namelength": 0
           },
           "hovertemplate": "Country=Latvia<br>Year=2015<br>GDP=%{x}<br>Planted Forest(%)=%{y}<br>Net Export(1000 USD)=%{marker.size}",
           "ids": [
            "Latvia"
           ],
           "legendgroup": "Country=Latvia",
           "marker": {
            "color": "#EF553B",
            "size": [
             834126
            ],
            "sizemode": "area",
            "sizeref": 11638.6725,
            "symbol": "circle"
           },
           "mode": "markers",
           "name": "Country=Latvia",
           "showlegend": true,
           "type": "scatter",
           "x": [
            13639.694119796299
           ],
           "xaxis": "x",
           "y": [
            9.850313858039595
           ],
           "yaxis": "y"
          },
          {
           "hoverlabel": {
            "namelength": 0
           },
           "hovertemplate": "Country=Liberia<br>Year=2015<br>GDP=%{x}<br>Planted Forest(%)=%{y}<br>Net Export(1000 USD)=%{marker.size}",
           "ids": [
            "Liberia"
           ],
           "legendgroup": "Country=Liberia",
           "marker": {
            "color": "#00cc96",
            "size": [
             601
            ],
            "sizemode": "area",
            "sizeref": 11638.6725,
            "symbol": "circle"
           },
           "mode": "markers",
           "name": "Country=Liberia",
           "showlegend": true,
           "type": "scatter",
           "x": [
            710.383857717515
           ],
           "xaxis": "x",
           "y": [
            0.08305647840531562
           ],
           "yaxis": "y"
          },
          {
           "hoverlabel": {
            "namelength": 0
           },
           "hovertemplate": "Country=Luxembourg<br>Year=2015<br>GDP=%{x}<br>Planted Forest(%)=%{y}<br>Net Export(1000 USD)=%{marker.size}",
           "ids": [
            "Luxembourg"
           ],
           "legendgroup": "Country=Luxembourg",
           "marker": {
            "color": "#FFA15A",
            "size": [
             38799
            ],
            "sizemode": "area",
            "sizeref": 11638.6725,
            "symbol": "circle"
           },
           "mode": "markers",
           "name": "Country=Luxembourg",
           "showlegend": true,
           "type": "scatter",
           "x": [
            100428.36796268099
           ],
           "xaxis": "x",
           "y": [
            11.646090534979423
           ],
           "yaxis": "y"
          },
          {
           "hoverlabel": {
            "namelength": 0
           },
           "hovertemplate": "Country=Malawi<br>Year=2015<br>GDP=%{x}<br>Planted Forest(%)=%{y}<br>Net Export(1000 USD)=%{marker.size}",
           "ids": [
            "Malawi"
           ],
           "legendgroup": "Country=Malawi",
           "marker": {
            "color": "#19d3f3",
            "size": [
             11701
            ],
            "sizemode": "area",
            "sizeref": 11638.6725,
            "symbol": "circle"
           },
           "mode": "markers",
           "name": "Country=Malawi",
           "showlegend": true,
           "type": "scatter",
           "x": [
            380.59703314093804
           ],
           "xaxis": "x",
           "y": [
            4.444208739923631
           ],
           "yaxis": "y"
          },
          {
           "hoverlabel": {
            "namelength": 0
           },
           "hovertemplate": "Country=Malaysia<br>Year=2015<br>GDP=%{x}<br>Planted Forest(%)=%{y}<br>Net Export(1000 USD)=%{marker.size}",
           "ids": [
            "Malaysia"
           ],
           "legendgroup": "Country=Malaysia",
           "marker": {
            "color": "#FF6692",
            "size": [
             1680827
            ],
            "sizemode": "area",
            "sizeref": 11638.6725,
            "symbol": "circle"
           },
           "mode": "markers",
           "name": "Country=Malaysia",
           "showlegend": true,
           "type": "scatter",
           "x": [
            9799.36753137135
           ],
           "xaxis": "x",
           "y": [
            5.983868513163902
           ],
           "yaxis": "y"
          },
          {
           "hoverlabel": {
            "namelength": 0
           },
           "hovertemplate": "Country=Myanmar<br>Year=2015<br>GDP=%{x}<br>Planted Forest(%)=%{y}<br>Net Export(1000 USD)=%{marker.size}",
           "ids": [
            "Myanmar"
           ],
           "legendgroup": "Country=Myanmar",
           "marker": {
            "color": "#B6E880",
            "size": [
             98626
            ],
            "sizemode": "area",
            "sizeref": 11638.6725,
            "symbol": "circle"
           },
           "mode": "markers",
           "name": "Country=Myanmar",
           "showlegend": true,
           "type": "scatter",
           "x": [
            1133.00281580351
           ],
           "xaxis": "x",
           "y": [
            1.4454584430697617
           ],
           "yaxis": "y"
          },
          {
           "hoverlabel": {
            "namelength": 0
           },
           "hovertemplate": "Country=New Zealand<br>Year=2015<br>GDP=%{x}<br>Planted Forest(%)=%{y}<br>Net Export(1000 USD)=%{marker.size}",
           "ids": [
            "New Zealand"
           ],
           "legendgroup": "Country=New Zealand",
           "marker": {
            "color": "#FF97FF",
            "size": [
             1594642
            ],
            "sizemode": "area",
            "sizeref": 11638.6725,
            "symbol": "circle"
           },
           "mode": "markers",
           "name": "Country=New Zealand",
           "showlegend": true,
           "type": "scatter",
           "x": [
            38559.5470380365
           ],
           "xaxis": "x",
           "y": [
            7.926018761156052
           ],
           "yaxis": "y"
          },
          {
           "hoverlabel": {
            "namelength": 0
           },
           "hovertemplate": "Country=Norway<br>Year=2015<br>GDP=%{x}<br>Planted Forest(%)=%{y}<br>Net Export(1000 USD)=%{marker.size}",
           "ids": [
            "Norway"
           ],
           "legendgroup": "Country=Norway",
           "marker": {
            "color": "#FECB52",
            "size": [
             331478
            ],
            "sizemode": "area",
            "sizeref": 11638.6725,
            "symbol": "circle"
           },
           "mode": "markers",
           "name": "Country=Norway",
           "showlegend": true,
           "type": "scatter",
           "x": [
            74521.56993249
           ],
           "xaxis": "x",
           "y": [
            4.187630380735301
           ],
           "yaxis": "y"
          },
          {
           "hoverlabel": {
            "namelength": 0
           },
           "hovertemplate": "Country=Papua New Guinea<br>Year=2015<br>GDP=%{x}<br>Planted Forest(%)=%{y}<br>Net Export(1000 USD)=%{marker.size}",
           "ids": [
            "Papua New Guinea"
           ],
           "legendgroup": "Country=Papua New Guinea",
           "marker": {
            "color": "#636efa",
            "size": [
             147300
            ],
            "sizemode": "area",
            "sizeref": 11638.6725,
            "symbol": "circle"
           },
           "mode": "markers",
           "name": "Country=Papua New Guinea",
           "showlegend": true,
           "type": "scatter",
           "x": [
            2679.3267110333604
           ],
           "xaxis": "x",
           "y": [
            0
           ],
           "yaxis": "y"
          },
          {
           "hoverlabel": {
            "namelength": 0
           },
           "hovertemplate": "Country=Portugal<br>Year=2015<br>GDP=%{x}<br>Planted Forest(%)=%{y}<br>Net Export(1000 USD)=%{marker.size}",
           "ids": [
            "Portugal"
           ],
           "legendgroup": "Country=Portugal",
           "marker": {
            "color": "#EF553B",
            "size": [
             1253520
            ],
            "sizemode": "area",
            "sizeref": 11638.6725,
            "symbol": "circle"
           },
           "mode": "markers",
           "name": "Country=Portugal",
           "showlegend": true,
           "type": "scatter",
           "x": [
            19252.6349536042
           ],
           "xaxis": "x",
           "y": [
            9.726479603867014
           ],
           "yaxis": "y"
          },
          {
           "hoverlabel": {
            "namelength": 0
           },
           "hovertemplate": "Country=Romania<br>Year=2015<br>GDP=%{x}<br>Planted Forest(%)=%{y}<br>Net Export(1000 USD)=%{marker.size}",
           "ids": [
            "Romania"
           ],
           "legendgroup": "Country=Romania",
           "marker": {
            "color": "#00cc96",
            "size": [
             617106
            ],
            "sizemode": "area",
            "sizeref": 11638.6725,
            "symbol": "circle"
           },
           "mode": "markers",
           "name": "Country=Romania",
           "showlegend": true,
           "type": "scatter",
           "x": [
            8977.498544251372
           ],
           "xaxis": "x",
           "y": [
            2.4730528511821976
           ],
           "yaxis": "y"
          },
          {
           "hoverlabel": {
            "namelength": 0
           },
           "hovertemplate": "Country=Russian Federation<br>Year=2015<br>GDP=%{x}<br>Planted Forest(%)=%{y}<br>Net Export(1000 USD)=%{marker.size}",
           "ids": [
            "Russian Federation"
           ],
           "legendgroup": "Country=Russian Federation",
           "marker": {
            "color": "#ab63fa",
            "size": [
             4448120
            ],
            "sizemode": "area",
            "sizeref": 11638.6725,
            "symbol": "circle"
           },
           "mode": "markers",
           "name": "Country=Russian Federation",
           "showlegend": true,
           "type": "scatter",
           "x": [
            9313.787541666241
           ],
           "xaxis": "x",
           "y": [
            1.2115257677443858
           ],
           "yaxis": "y"
          },
          {
           "hoverlabel": {
            "namelength": 0
           },
           "hovertemplate": "Country=Slovakia<br>Year=2015<br>GDP=%{x}<br>Planted Forest(%)=%{y}<br>Net Export(1000 USD)=%{marker.size}",
           "ids": [
            "Slovakia"
           ],
           "legendgroup": "Country=Slovakia",
           "marker": {
            "color": "#19d3f3",
            "size": [
             371751
            ],
            "sizemode": "area",
            "sizeref": 11638.6725,
            "symbol": "circle"
           },
           "mode": "markers",
           "name": "Country=Slovakia",
           "showlegend": true,
           "type": "scatter",
           "x": [
            16182.303723988402
           ],
           "xaxis": "x",
           "y": [
            19.965891601846845
           ],
           "yaxis": "y"
          },
          {
           "hoverlabel": {
            "namelength": 0
           },
           "hovertemplate": "Country=Slovenia<br>Year=2015<br>GDP=%{x}<br>Planted Forest(%)=%{y}<br>Net Export(1000 USD)=%{marker.size}",
           "ids": [
            "Slovenia"
           ],
           "legendgroup": "Country=Slovenia",
           "marker": {
            "color": "#FF6692",
            "size": [
             182125
            ],
            "sizemode": "area",
            "sizeref": 11638.6725,
            "symbol": "circle"
           },
           "mode": "markers",
           "name": "Country=Slovenia",
           "showlegend": true,
           "type": "scatter",
           "x": [
            20887.5196403428
           ],
           "xaxis": "x",
           "y": [
            1.6879648108982952
           ],
           "yaxis": "y"
          },
          {
           "hoverlabel": {
            "namelength": 0
           },
           "hovertemplate": "Country=Solomon Islands<br>Year=2015<br>GDP=%{x}<br>Planted Forest(%)=%{y}<br>Net Export(1000 USD)=%{marker.size}",
           "ids": [
            "Solomon Islands"
           ],
           "legendgroup": "Country=Solomon Islands",
           "marker": {
            "color": "#B6E880",
            "size": [
             111681
            ],
            "sizemode": "area",
            "sizeref": 11638.6725,
            "symbol": "circle"
           },
           "mode": "markers",
           "name": "Country=Solomon Islands",
           "showlegend": true,
           "type": "scatter",
           "x": [
            1914.46792551698
           ],
           "xaxis": "x",
           "y": [
            0.961057520543051
           ],
           "yaxis": "y"
          },
          {
           "hoverlabel": {
            "namelength": 0
           },
           "hovertemplate": "Country=South Africa<br>Year=2015<br>GDP=%{x}<br>Planted Forest(%)=%{y}<br>Net Export(1000 USD)=%{marker.size}",
           "ids": [
            "South Africa"
           ],
           "legendgroup": "Country=South Africa",
           "marker": {
            "color": "#FECB52",
            "size": [
             55720
            ],
            "sizemode": "area",
            "sizeref": 11638.6725,
            "symbol": "circle"
           },
           "mode": "markers",
           "name": "Country=South Africa",
           "showlegend": true,
           "type": "scatter",
           "x": [
            5730.9341743665
           ],
           "xaxis": "x",
           "y": [
            1.4533134392336924
           ],
           "yaxis": "y"
          },
          {
           "hoverlabel": {
            "namelength": 0
           },
           "hovertemplate": "Country=Suriname<br>Year=2015<br>GDP=%{x}<br>Planted Forest(%)=%{y}<br>Net Export(1000 USD)=%{marker.size}",
           "ids": [
            "Suriname"
           ],
           "legendgroup": "Country=Suriname",
           "marker": {
            "color": "#636efa",
            "size": [
             35948
            ],
            "sizemode": "area",
            "sizeref": 11638.6725,
            "symbol": "circle"
           },
           "mode": "markers",
           "name": "Country=Suriname",
           "showlegend": true,
           "type": "scatter",
           "x": [
            8561.974178551422
           ],
           "xaxis": "x",
           "y": [
            0.08333333333333334
           ],
           "yaxis": "y"
          },
          {
           "hoverlabel": {
            "namelength": 0
           },
           "hovertemplate": "Country=Sweden<br>Year=2015<br>GDP=%{x}<br>Planted Forest(%)=%{y}<br>Net Export(1000 USD)=%{marker.size}",
           "ids": [
            "Sweden"
           ],
           "legendgroup": "Country=Sweden",
           "marker": {
            "color": "#EF553B",
            "size": [
             10592990
            ],
            "sizemode": "area",
            "sizeref": 11638.6725,
            "symbol": "circle"
           },
           "mode": "markers",
           "name": "Country=Sweden",
           "showlegend": true,
           "type": "scatter",
           "x": [
            50832.552709265496
           ],
           "xaxis": "x",
           "y": [
            33.72615452603668
           ],
           "yaxis": "y"
          },
          {
           "hoverlabel": {
            "namelength": 0
           },
           "hovertemplate": "Country=Ukraine<br>Year=2015<br>GDP=%{x}<br>Planted Forest(%)=%{y}<br>Net Export(1000 USD)=%{marker.size}",
           "ids": [
            "Ukraine"
           ],
           "legendgroup": "Country=Ukraine",
           "marker": {
            "color": "#FFA15A",
            "size": [
             281934
            ],
            "sizemode": "area",
            "sizeref": 11638.6725,
            "symbol": "circle"
           },
           "mode": "markers",
           "name": "Country=Ukraine",
           "showlegend": true,
           "type": "scatter",
           "x": [
            2124.66266591114
           ],
           "xaxis": "x",
           "y": [
            8.389580348357473
           ],
           "yaxis": "y"
          },
          {
           "hoverlabel": {
            "namelength": 0
           },
           "hovertemplate": "Country=Uruguay<br>Year=2015<br>GDP=%{x}<br>Planted Forest(%)=%{y}<br>Net Export(1000 USD)=%{marker.size}",
           "ids": [
            "Uruguay"
           ],
           "legendgroup": "Country=Uruguay",
           "marker": {
            "color": "#19d3f3",
            "size": [
             765992
            ],
            "sizemode": "area",
            "sizeref": 11638.6725,
            "symbol": "circle"
           },
           "mode": "markers",
           "name": "Country=Uruguay",
           "showlegend": true,
           "type": "scatter",
           "x": [
            15613.7642726429
           ],
           "xaxis": "x",
           "y": [
            6.067877956804937
           ],
           "yaxis": "y"
          }
         ],
         "name": "2015"
        }
       ],
       "layout": {
        "height": 700,
        "legend": {
         "itemsizing": "constant",
         "tracegroupgap": 0
        },
        "margin": {
         "t": 60
        },
        "showlegend": false,
        "sliders": [
         {
          "active": 0,
          "currentvalue": {
           "prefix": "Year="
          },
          "len": 0.9,
          "pad": {
           "b": 10,
           "t": 60
          },
          "steps": [
           {
            "args": [
             [
              "2007"
             ],
             {
              "frame": {
               "duration": 0,
               "redraw": false
              },
              "fromcurrent": true,
              "mode": "immediate",
              "transition": {
               "duration": 0,
               "easing": "linear"
              }
             }
            ],
            "label": "2007",
            "method": "animate"
           },
           {
            "args": [
             [
              "2008"
             ],
             {
              "frame": {
               "duration": 0,
               "redraw": false
              },
              "fromcurrent": true,
              "mode": "immediate",
              "transition": {
               "duration": 0,
               "easing": "linear"
              }
             }
            ],
            "label": "2008",
            "method": "animate"
           },
           {
            "args": [
             [
              "2009"
             ],
             {
              "frame": {
               "duration": 0,
               "redraw": false
              },
              "fromcurrent": true,
              "mode": "immediate",
              "transition": {
               "duration": 0,
               "easing": "linear"
              }
             }
            ],
            "label": "2009",
            "method": "animate"
           },
           {
            "args": [
             [
              "2010"
             ],
             {
              "frame": {
               "duration": 0,
               "redraw": false
              },
              "fromcurrent": true,
              "mode": "immediate",
              "transition": {
               "duration": 0,
               "easing": "linear"
              }
             }
            ],
            "label": "2010",
            "method": "animate"
           },
           {
            "args": [
             [
              "2011"
             ],
             {
              "frame": {
               "duration": 0,
               "redraw": false
              },
              "fromcurrent": true,
              "mode": "immediate",
              "transition": {
               "duration": 0,
               "easing": "linear"
              }
             }
            ],
            "label": "2011",
            "method": "animate"
           },
           {
            "args": [
             [
              "2012"
             ],
             {
              "frame": {
               "duration": 0,
               "redraw": false
              },
              "fromcurrent": true,
              "mode": "immediate",
              "transition": {
               "duration": 0,
               "easing": "linear"
              }
             }
            ],
            "label": "2012",
            "method": "animate"
           },
           {
            "args": [
             [
              "2013"
             ],
             {
              "frame": {
               "duration": 0,
               "redraw": false
              },
              "fromcurrent": true,
              "mode": "immediate",
              "transition": {
               "duration": 0,
               "easing": "linear"
              }
             }
            ],
            "label": "2013",
            "method": "animate"
           },
           {
            "args": [
             [
              "2014"
             ],
             {
              "frame": {
               "duration": 0,
               "redraw": false
              },
              "fromcurrent": true,
              "mode": "immediate",
              "transition": {
               "duration": 0,
               "easing": "linear"
              }
             }
            ],
            "label": "2014",
            "method": "animate"
           },
           {
            "args": [
             [
              "2015"
             ],
             {
              "frame": {
               "duration": 0,
               "redraw": false
              },
              "fromcurrent": true,
              "mode": "immediate",
              "transition": {
               "duration": 0,
               "easing": "linear"
              }
             }
            ],
            "label": "2015",
            "method": "animate"
           }
          ],
          "x": 0.1,
          "xanchor": "left",
          "y": 0,
          "yanchor": "top"
         }
        ],
        "template": {
         "data": {
          "bar": [
           {
            "error_x": {
             "color": "#2a3f5f"
            },
            "error_y": {
             "color": "#2a3f5f"
            },
            "marker": {
             "line": {
              "color": "#E5ECF6",
              "width": 0.5
             }
            },
            "type": "bar"
           }
          ],
          "barpolar": [
           {
            "marker": {
             "line": {
              "color": "#E5ECF6",
              "width": 0.5
             }
            },
            "type": "barpolar"
           }
          ],
          "carpet": [
           {
            "aaxis": {
             "endlinecolor": "#2a3f5f",
             "gridcolor": "white",
             "linecolor": "white",
             "minorgridcolor": "white",
             "startlinecolor": "#2a3f5f"
            },
            "baxis": {
             "endlinecolor": "#2a3f5f",
             "gridcolor": "white",
             "linecolor": "white",
             "minorgridcolor": "white",
             "startlinecolor": "#2a3f5f"
            },
            "type": "carpet"
           }
          ],
          "choropleth": [
           {
            "colorbar": {
             "outlinewidth": 0,
             "ticks": ""
            },
            "type": "choropleth"
           }
          ],
          "contour": [
           {
            "colorbar": {
             "outlinewidth": 0,
             "ticks": ""
            },
            "colorscale": [
             [
              0,
              "#0d0887"
             ],
             [
              0.1111111111111111,
              "#46039f"
             ],
             [
              0.2222222222222222,
              "#7201a8"
             ],
             [
              0.3333333333333333,
              "#9c179e"
             ],
             [
              0.4444444444444444,
              "#bd3786"
             ],
             [
              0.5555555555555556,
              "#d8576b"
             ],
             [
              0.6666666666666666,
              "#ed7953"
             ],
             [
              0.7777777777777778,
              "#fb9f3a"
             ],
             [
              0.8888888888888888,
              "#fdca26"
             ],
             [
              1,
              "#f0f921"
             ]
            ],
            "type": "contour"
           }
          ],
          "contourcarpet": [
           {
            "colorbar": {
             "outlinewidth": 0,
             "ticks": ""
            },
            "type": "contourcarpet"
           }
          ],
          "heatmap": [
           {
            "colorbar": {
             "outlinewidth": 0,
             "ticks": ""
            },
            "colorscale": [
             [
              0,
              "#0d0887"
             ],
             [
              0.1111111111111111,
              "#46039f"
             ],
             [
              0.2222222222222222,
              "#7201a8"
             ],
             [
              0.3333333333333333,
              "#9c179e"
             ],
             [
              0.4444444444444444,
              "#bd3786"
             ],
             [
              0.5555555555555556,
              "#d8576b"
             ],
             [
              0.6666666666666666,
              "#ed7953"
             ],
             [
              0.7777777777777778,
              "#fb9f3a"
             ],
             [
              0.8888888888888888,
              "#fdca26"
             ],
             [
              1,
              "#f0f921"
             ]
            ],
            "type": "heatmap"
           }
          ],
          "heatmapgl": [
           {
            "colorbar": {
             "outlinewidth": 0,
             "ticks": ""
            },
            "colorscale": [
             [
              0,
              "#0d0887"
             ],
             [
              0.1111111111111111,
              "#46039f"
             ],
             [
              0.2222222222222222,
              "#7201a8"
             ],
             [
              0.3333333333333333,
              "#9c179e"
             ],
             [
              0.4444444444444444,
              "#bd3786"
             ],
             [
              0.5555555555555556,
              "#d8576b"
             ],
             [
              0.6666666666666666,
              "#ed7953"
             ],
             [
              0.7777777777777778,
              "#fb9f3a"
             ],
             [
              0.8888888888888888,
              "#fdca26"
             ],
             [
              1,
              "#f0f921"
             ]
            ],
            "type": "heatmapgl"
           }
          ],
          "histogram": [
           {
            "marker": {
             "colorbar": {
              "outlinewidth": 0,
              "ticks": ""
             }
            },
            "type": "histogram"
           }
          ],
          "histogram2d": [
           {
            "colorbar": {
             "outlinewidth": 0,
             "ticks": ""
            },
            "colorscale": [
             [
              0,
              "#0d0887"
             ],
             [
              0.1111111111111111,
              "#46039f"
             ],
             [
              0.2222222222222222,
              "#7201a8"
             ],
             [
              0.3333333333333333,
              "#9c179e"
             ],
             [
              0.4444444444444444,
              "#bd3786"
             ],
             [
              0.5555555555555556,
              "#d8576b"
             ],
             [
              0.6666666666666666,
              "#ed7953"
             ],
             [
              0.7777777777777778,
              "#fb9f3a"
             ],
             [
              0.8888888888888888,
              "#fdca26"
             ],
             [
              1,
              "#f0f921"
             ]
            ],
            "type": "histogram2d"
           }
          ],
          "histogram2dcontour": [
           {
            "colorbar": {
             "outlinewidth": 0,
             "ticks": ""
            },
            "colorscale": [
             [
              0,
              "#0d0887"
             ],
             [
              0.1111111111111111,
              "#46039f"
             ],
             [
              0.2222222222222222,
              "#7201a8"
             ],
             [
              0.3333333333333333,
              "#9c179e"
             ],
             [
              0.4444444444444444,
              "#bd3786"
             ],
             [
              0.5555555555555556,
              "#d8576b"
             ],
             [
              0.6666666666666666,
              "#ed7953"
             ],
             [
              0.7777777777777778,
              "#fb9f3a"
             ],
             [
              0.8888888888888888,
              "#fdca26"
             ],
             [
              1,
              "#f0f921"
             ]
            ],
            "type": "histogram2dcontour"
           }
          ],
          "mesh3d": [
           {
            "colorbar": {
             "outlinewidth": 0,
             "ticks": ""
            },
            "type": "mesh3d"
           }
          ],
          "parcoords": [
           {
            "line": {
             "colorbar": {
              "outlinewidth": 0,
              "ticks": ""
             }
            },
            "type": "parcoords"
           }
          ],
          "pie": [
           {
            "automargin": true,
            "type": "pie"
           }
          ],
          "scatter": [
           {
            "marker": {
             "colorbar": {
              "outlinewidth": 0,
              "ticks": ""
             }
            },
            "type": "scatter"
           }
          ],
          "scatter3d": [
           {
            "line": {
             "colorbar": {
              "outlinewidth": 0,
              "ticks": ""
             }
            },
            "marker": {
             "colorbar": {
              "outlinewidth": 0,
              "ticks": ""
             }
            },
            "type": "scatter3d"
           }
          ],
          "scattercarpet": [
           {
            "marker": {
             "colorbar": {
              "outlinewidth": 0,
              "ticks": ""
             }
            },
            "type": "scattercarpet"
           }
          ],
          "scattergeo": [
           {
            "marker": {
             "colorbar": {
              "outlinewidth": 0,
              "ticks": ""
             }
            },
            "type": "scattergeo"
           }
          ],
          "scattergl": [
           {
            "marker": {
             "colorbar": {
              "outlinewidth": 0,
              "ticks": ""
             }
            },
            "type": "scattergl"
           }
          ],
          "scattermapbox": [
           {
            "marker": {
             "colorbar": {
              "outlinewidth": 0,
              "ticks": ""
             }
            },
            "type": "scattermapbox"
           }
          ],
          "scatterpolar": [
           {
            "marker": {
             "colorbar": {
              "outlinewidth": 0,
              "ticks": ""
             }
            },
            "type": "scatterpolar"
           }
          ],
          "scatterpolargl": [
           {
            "marker": {
             "colorbar": {
              "outlinewidth": 0,
              "ticks": ""
             }
            },
            "type": "scatterpolargl"
           }
          ],
          "scatterternary": [
           {
            "marker": {
             "colorbar": {
              "outlinewidth": 0,
              "ticks": ""
             }
            },
            "type": "scatterternary"
           }
          ],
          "surface": [
           {
            "colorbar": {
             "outlinewidth": 0,
             "ticks": ""
            },
            "colorscale": [
             [
              0,
              "#0d0887"
             ],
             [
              0.1111111111111111,
              "#46039f"
             ],
             [
              0.2222222222222222,
              "#7201a8"
             ],
             [
              0.3333333333333333,
              "#9c179e"
             ],
             [
              0.4444444444444444,
              "#bd3786"
             ],
             [
              0.5555555555555556,
              "#d8576b"
             ],
             [
              0.6666666666666666,
              "#ed7953"
             ],
             [
              0.7777777777777778,
              "#fb9f3a"
             ],
             [
              0.8888888888888888,
              "#fdca26"
             ],
             [
              1,
              "#f0f921"
             ]
            ],
            "type": "surface"
           }
          ],
          "table": [
           {
            "cells": {
             "fill": {
              "color": "#EBF0F8"
             },
             "line": {
              "color": "white"
             }
            },
            "header": {
             "fill": {
              "color": "#C8D4E3"
             },
             "line": {
              "color": "white"
             }
            },
            "type": "table"
           }
          ]
         },
         "layout": {
          "annotationdefaults": {
           "arrowcolor": "#2a3f5f",
           "arrowhead": 0,
           "arrowwidth": 1
          },
          "coloraxis": {
           "colorbar": {
            "outlinewidth": 0,
            "ticks": ""
           }
          },
          "colorscale": {
           "diverging": [
            [
             0,
             "#8e0152"
            ],
            [
             0.1,
             "#c51b7d"
            ],
            [
             0.2,
             "#de77ae"
            ],
            [
             0.3,
             "#f1b6da"
            ],
            [
             0.4,
             "#fde0ef"
            ],
            [
             0.5,
             "#f7f7f7"
            ],
            [
             0.6,
             "#e6f5d0"
            ],
            [
             0.7,
             "#b8e186"
            ],
            [
             0.8,
             "#7fbc41"
            ],
            [
             0.9,
             "#4d9221"
            ],
            [
             1,
             "#276419"
            ]
           ],
           "sequential": [
            [
             0,
             "#0d0887"
            ],
            [
             0.1111111111111111,
             "#46039f"
            ],
            [
             0.2222222222222222,
             "#7201a8"
            ],
            [
             0.3333333333333333,
             "#9c179e"
            ],
            [
             0.4444444444444444,
             "#bd3786"
            ],
            [
             0.5555555555555556,
             "#d8576b"
            ],
            [
             0.6666666666666666,
             "#ed7953"
            ],
            [
             0.7777777777777778,
             "#fb9f3a"
            ],
            [
             0.8888888888888888,
             "#fdca26"
            ],
            [
             1,
             "#f0f921"
            ]
           ],
           "sequentialminus": [
            [
             0,
             "#0d0887"
            ],
            [
             0.1111111111111111,
             "#46039f"
            ],
            [
             0.2222222222222222,
             "#7201a8"
            ],
            [
             0.3333333333333333,
             "#9c179e"
            ],
            [
             0.4444444444444444,
             "#bd3786"
            ],
            [
             0.5555555555555556,
             "#d8576b"
            ],
            [
             0.6666666666666666,
             "#ed7953"
            ],
            [
             0.7777777777777778,
             "#fb9f3a"
            ],
            [
             0.8888888888888888,
             "#fdca26"
            ],
            [
             1,
             "#f0f921"
            ]
           ]
          },
          "colorway": [
           "#636efa",
           "#EF553B",
           "#00cc96",
           "#ab63fa",
           "#FFA15A",
           "#19d3f3",
           "#FF6692",
           "#B6E880",
           "#FF97FF",
           "#FECB52"
          ],
          "font": {
           "color": "#2a3f5f"
          },
          "geo": {
           "bgcolor": "white",
           "lakecolor": "white",
           "landcolor": "#E5ECF6",
           "showlakes": true,
           "showland": true,
           "subunitcolor": "white"
          },
          "hoverlabel": {
           "align": "left"
          },
          "hovermode": "closest",
          "mapbox": {
           "style": "light"
          },
          "paper_bgcolor": "white",
          "plot_bgcolor": "#E5ECF6",
          "polar": {
           "angularaxis": {
            "gridcolor": "white",
            "linecolor": "white",
            "ticks": ""
           },
           "bgcolor": "#E5ECF6",
           "radialaxis": {
            "gridcolor": "white",
            "linecolor": "white",
            "ticks": ""
           }
          },
          "scene": {
           "xaxis": {
            "backgroundcolor": "#E5ECF6",
            "gridcolor": "white",
            "gridwidth": 2,
            "linecolor": "white",
            "showbackground": true,
            "ticks": "",
            "zerolinecolor": "white"
           },
           "yaxis": {
            "backgroundcolor": "#E5ECF6",
            "gridcolor": "white",
            "gridwidth": 2,
            "linecolor": "white",
            "showbackground": true,
            "ticks": "",
            "zerolinecolor": "white"
           },
           "zaxis": {
            "backgroundcolor": "#E5ECF6",
            "gridcolor": "white",
            "gridwidth": 2,
            "linecolor": "white",
            "showbackground": true,
            "ticks": "",
            "zerolinecolor": "white"
           }
          },
          "shapedefaults": {
           "line": {
            "color": "#2a3f5f"
           }
          },
          "ternary": {
           "aaxis": {
            "gridcolor": "white",
            "linecolor": "white",
            "ticks": ""
           },
           "baxis": {
            "gridcolor": "white",
            "linecolor": "white",
            "ticks": ""
           },
           "bgcolor": "#E5ECF6",
           "caxis": {
            "gridcolor": "white",
            "linecolor": "white",
            "ticks": ""
           }
          },
          "title": {
           "x": 0.05
          },
          "xaxis": {
           "automargin": true,
           "gridcolor": "white",
           "linecolor": "white",
           "ticks": "",
           "title": {
            "standoff": 15
           },
           "zerolinecolor": "white",
           "zerolinewidth": 2
          },
          "yaxis": {
           "automargin": true,
           "gridcolor": "white",
           "linecolor": "white",
           "ticks": "",
           "title": {
            "standoff": 15
           },
           "zerolinecolor": "white",
           "zerolinewidth": 2
          }
         }
        },
        "updatemenus": [
         {
          "buttons": [
           {
            "args": [
             null,
             {
              "frame": {
               "duration": 500,
               "redraw": false
              },
              "fromcurrent": true,
              "mode": "immediate",
              "transition": {
               "duration": 500,
               "easing": "linear"
              }
             }
            ],
            "label": "&#9654;",
            "method": "animate"
           },
           {
            "args": [
             [
              null
             ],
             {
              "frame": {
               "duration": 0,
               "redraw": false
              },
              "fromcurrent": true,
              "mode": "immediate",
              "transition": {
               "duration": 0,
               "easing": "linear"
              }
             }
            ],
            "label": "&#9724;",
            "method": "animate"
           }
          ],
          "direction": "left",
          "pad": {
           "r": 10,
           "t": 70
          },
          "showactive": false,
          "type": "buttons",
          "x": 0.1,
          "xanchor": "right",
          "y": 0,
          "yanchor": "top"
         }
        ],
        "width": 1000,
        "xaxis": {
         "anchor": "y",
         "domain": [
          0,
          1
         ],
         "range": [
          -3000,
          105059
         ],
         "title": {
          "text": "GDP (per person)"
         }
        },
        "yaxis": {
         "anchor": "x",
         "domain": [
          0,
          1
         ],
         "range": [
          -2,
          40
         ],
         "title": {
          "text": "Planted Forest (% in the land area)"
         }
        }
       }
      }
     },
     "metadata": {},
     "output_type": "display_data"
    }
   ],
   "source": [
    "import plotly.express as px\n",
    "\n",
    "fig = px.scatter(data_year_select, x=\"GDP\", y=\"Planted Forest(%)\", animation_frame=\"Year\", animation_group=\"Country\",\n",
    "        size=\"Net Export(1000 USD)\", color=\"Country\", size_max=40, range_x=[-3000,105059], range_y=[-2,40])\n",
    "\n",
    "fig.update_layout(\n",
    "    xaxis_title=\"GDP (per person)\",\n",
    "    yaxis_title=\"Planted Forest (% in the land area)\",\n",
    "    width=1000,\n",
    "    height=700,\n",
    "    showlegend=False\n",
    ")"
   ]
  },
  {
   "cell_type": "markdown",
   "execution_count": null,
   "metadata": {},
   "outputs": [],
   "source": [
    "## Description\n",
    "When we look at the top net expotres of forest products in the world, we can see that some of these countires have a big share of planted forests in their land. These countires tends to have highier GDP and lower density of population, what allows them to increase the wood areas by planting new trees. This observtion it's not true for every country, we can see that the artificial planting of forest doesn't take a place in countries as Norway or Canada, even though their high GDP or net export. On the other hand, there are the countires with low GDP from Asia or Africa in which is the share of planted forrests. Many of these countires have high density of population, what in combination with the wealth of the country results in the fact that they don't have resources to regenerate forests destroyed by the wood production.\n"
   ]
  },
  {
   "cell_type": "code",
   "execution_count": 133,
   "metadata": {},
   "outputs": [],
   "source": [
    "from plotly.offline import download_plotlyjs, init_notebook_mode, iplot, plot\n",
    "import plotly.graph_objs as go\n",
    "from IPython.core.display import display, HTML\n",
    "\n",
    "plot(fig, filename = '4_gdp_export.html')\n"
   ]
  },
  {
   "cell_type": "code",
   "execution_count": null,
   "metadata": {},
   "outputs": [],
   "source": []
  }
 ]
}