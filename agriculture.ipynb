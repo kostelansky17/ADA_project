{
 "cells": [
  {
   "cell_type": "code",
   "execution_count": 1,
   "metadata": {},
   "outputs": [],
   "source": [
    "# all the necessary imports\n",
    "from bokeh.io import output_notebook, show, output_file\n",
    "from bokeh.plotting import figure\n",
    "from bokeh.models import GeoJSONDataSource, LinearColorMapper, ColorBar\n",
    "from bokeh.palettes import brewer\n",
    "from bokeh.io import curdoc, output_notebook, export_png\n",
    "from bokeh.models import Slider, HoverTool\n",
    "import pandas as pd\n",
    "import numpy as np\n",
    "import matplotlib.pyplot as plt\n",
    "import warnings\n",
    "import seaborn as sns\n",
    "from bokeh.layouts import widgetbox, row, column\n",
    "import geopandas as gpd\n",
    "import json\n",
    "import plotly as py\n",
    "import plotly.graph_objects as go\n",
    "\n",
    "warnings.filterwarnings('ignore')\n",
    "%matplotlib inline\n",
    "sns.set()"
   ]
  },
  {
   "cell_type": "code",
   "execution_count": 2,
   "metadata": {},
   "outputs": [],
   "source": [
    "FAOSTAT_country_data = pd.read_csv(\"data/faostat/FAOSTAT_countries.csv\", engine='python')\n",
    "FAOSTAT_country_groups = FAOSTAT_country_data[\"Country Group\"].unique()\n",
    "FAOSTAT_countries = FAOSTAT_country_data[\"Country\"].unique()\n",
    "CONTINENTS = ['Africa', 'Asia', 'Oceania', 'Europe', 'Northern America', 'South America', 'Antarctic Region']"
   ]
  },
  {
   "cell_type": "markdown",
   "metadata": {},
   "source": [
    "# **Plots of area distributions from satellite data**\n",
    "In this section we used the dataset `Environment_LandCover_E_All_Data_cleared.csv` which contains two types of measurements: CCI_LC and MODIS. The land distribution is inferred from satellite images and aggregated in different (not always perfectly consistent) ways. We want to analyse **changes in different land types with respect to the \"ground level\" in 1992** (for CCI_LC, or 2001 for MODIS)."
   ]
  },
  {
   "cell_type": "code",
   "execution_count": 3,
   "metadata": {},
   "outputs": [],
   "source": [
    "env_land_cover_all = pd.read_csv(\"data/faostat/Environment_LandCover_E_All_Data_cleared.csv\", engine='python')"
   ]
  },
  {
   "cell_type": "code",
   "execution_count": 64,
   "metadata": {},
   "outputs": [],
   "source": [
    "# type of land use: comparison between different land types and deduction of \n",
    "# how the forested areas ('Tree-covered ares') transformed\n",
    "\n",
    "def plot_land_type_differentials_plotly(country, data_type, save_img=False):\n",
    "    \"\"\"\n",
    "    Plots the difference between the yearly surface change (increase or decrease) of different types of land,\n",
    "    compared to a ground value (1995)\n",
    "    :param str country:            should match with the 'Area' field\n",
    "    :param str data_type:          CCI_LC or MODIS, come from different satellite images and different aggregation criteria\n",
    "    :param bool save_img:          if True, save plot in html\n",
    "    \"\"\"\n",
    "\n",
    "    # create a DataFrame with year as only column. Years listed are from 1995 to 2015\n",
    "    country_land_types_yearly = pd.DataFrame(np.arange(1995, 2015+1), columns=['Year'])\n",
    "    \n",
    "    # fill the DataFrame columns: each column is a specific land type, each row is a year\n",
    "    land_types = env_land_cover_all.Item.unique()\n",
    "    for land_type in land_types:\n",
    "        selected_item_yearly = env_land_cover_all.loc[(env_land_cover_all['Year'] >= 1995) &\n",
    "                                                      (env_land_cover_all['Year'] <= 2015) &\n",
    "                                                      (env_land_cover_all['Item'] == land_type) &\n",
    "                                                      (env_land_cover_all.Area.str.match(country)) &\n",
    "                                                      (env_land_cover_all.Element.str.match('Area from ' + data_type)), \n",
    "                                                      'Value']\n",
    "        if selected_item_yearly.isnull().sum() == 0: # if the selected land_type is registered every year\n",
    "            country_land_types_yearly[land_type] = selected_item_yearly.values\n",
    "\n",
    "    # compute differences w.r.t. first year of measurement for every column\n",
    "    starting_year = country_land_types_yearly.iloc[0, 0]\n",
    "    country_land_types_year_diff = country_land_types_yearly - country_land_types_yearly.iloc[0, :]\n",
    "    country_land_types_year_diff['Year'] = country_land_types_year_diff['Year'] + starting_year    # restore correct year after subtraction\n",
    "\n",
    "    # set 'Year' as the new index\n",
    "    country_land_types_year_diff.set_index('Year', inplace=True)\n",
    "\n",
    "    # select classes of land type\n",
    "    selected_land_types = land_types[[1, 2, 4, 5, 7]]\n",
    "    \n",
    "    # take most important 5 land types (based on differential values) and check if they are plotted\n",
    "    top_n_land_types = country_land_types_year_diff.iloc[-1, :].abs().sort_values(ascending=False).index[0:len(selected_land_types)]\n",
    "    for land_type in top_n_land_types:\n",
    "        if land_type not in selected_land_types:\n",
    "            print(\"Warning: \" + land_type + \" was not plotted but had big differential value!\")\n",
    "            \n",
    "    # plot\n",
    "    fig = go.Figure()\n",
    "    \n",
    "    # reference horizontal line\n",
    "    fig.add_shape(\n",
    "        go.layout.Shape(type=\"line\", \n",
    "                        x0=country_land_types_year_diff.index.values[0], \n",
    "                        y0=0, \n",
    "                        x1=country_land_types_year_diff.index.values[-1], \n",
    "                        y1=0, \n",
    "                        line=dict(color=\"Black\", width=1, dash=\"dashdot\")\n",
    "        )\n",
    "    )\n",
    "    \n",
    "    for column_index, land_type in enumerate(country_land_types_year_diff.columns):\n",
    "        \n",
    "        # skip land types that were not selecte (cleaner plot!)\n",
    "        if land_type not in selected_land_types:\n",
    "            continue\n",
    "\n",
    "        fig.add_trace(go.Scatter(x=country_land_types_year_diff.index,\n",
    "                                 y=country_land_types_year_diff[land_type],\n",
    "                                 mode='lines',\n",
    "                                 name=land_type))\n",
    "\n",
    "    fig.update_layout(\n",
    "#         title=country + \" land use differentials (\" + data_type + \" data)\",  # no title for final data story\n",
    "        xaxis_title='Year',\n",
    "#         yaxis_title='Differential surface w.r.t. ' + \\\n",
    "#             str(int(country_land_types_year_diff.index[0])) + \\\n",
    "#             ' value [1000 ha]',\n",
    "        yaxis_title='Change w.r.t. 1995 [1000 ha]',\n",
    "        paper_bgcolor='rgba(0,0,0,0)',\n",
    "        plot_bgcolor='rgba(0,0,0,0)',\n",
    "        annotations=[\n",
    "        go.layout.Annotation(\n",
    "            x=2013,\n",
    "            y=0,\n",
    "            xref=\"x\",\n",
    "            yref=\"y\",\n",
    "            text=\"Reference (1995)\",\n",
    "            showarrow=True,\n",
    "            arrowsize=1,\n",
    "            arrowhead=1,\n",
    "            align=\"center\",\n",
    "            arrowwidth=1,\n",
    "            ax=-10,\n",
    "            ay=30,\n",
    "        )\n",
    "        ]\n",
    "    )\n",
    "    \n",
    "    fig.update_layout(legend_orientation=\"h\")\n",
    "    \n",
    "    fig.show()\n",
    "    \n",
    "    if save_img:\n",
    "        py.offline.plot(fig, filename='land_satellite_data_' + str(country) + '.html')"
   ]
  },
  {
   "cell_type": "code",
   "execution_count": 65,
   "metadata": {},
   "outputs": [
    {
     "name": "stdout",
     "output_type": "stream",
     "text": [
      "Warning: Sparsely natural vegetated areas was not plotted but had big differential value!\n",
      "Warning: Terrestrial barren land was not plotted but had big differential value!\n"
     ]
    },
    {
     "data": {
      "application/vnd.plotly.v1+json": {
       "config": {
        "plotlyServerURL": "https://plot.ly"
       },
       "data": [
        {
         "mode": "lines",
         "name": "Herbaceous crops",
         "type": "scatter",
         "x": [
          1995,
          1996,
          1997,
          1998,
          1999,
          2000,
          2001,
          2002,
          2003,
          2004,
          2005,
          2006,
          2007,
          2008,
          2009,
          2010,
          2011,
          2012,
          2013,
          2014,
          2015
         ],
         "y": [
          0,
          -67.44509999999991,
          -68.14449999999988,
          -66.77539999999999,
          -114.38819999999987,
          -169.32529999999997,
          -225.26489999999967,
          -280.826,
          -351.6154999999999,
          -387.8267999999998,
          -415.60189999999966,
          -486.1664999999998,
          -547.4353999999998,
          -534.5416,
          -542.1704999999997,
          -563.0418,
          -540.0921999999996,
          -557.0212999999999,
          -548.0457999999999,
          -557.9537999999998,
          -547.4925999999996
         ]
        },
        {
         "mode": "lines",
         "name": "Woody crops",
         "type": "scatter",
         "x": [
          1995,
          1996,
          1997,
          1998,
          1999,
          2000,
          2001,
          2002,
          2003,
          2004,
          2005,
          2006,
          2007,
          2008,
          2009,
          2010,
          2011,
          2012,
          2013,
          2014,
          2015
         ],
         "y": [
          0,
          64.15279999999996,
          64.70099999999996,
          65.58019999999999,
          123.19509999999997,
          172.28169999999994,
          219.91249999999997,
          265.3005,
          325.7989999999999,
          331.7041,
          347.61899999999997,
          403.99639999999994,
          448.7873,
          422.01859999999994,
          420.5687,
          437.3676,
          417.08009999999996,
          431.94689999999997,
          419.1226,
          427.7526,
          416.90659999999997
         ]
        },
        {
         "mode": "lines",
         "name": "Grassland",
         "type": "scatter",
         "x": [
          1995,
          1996,
          1997,
          1998,
          1999,
          2000,
          2001,
          2002,
          2003,
          2004,
          2005,
          2006,
          2007,
          2008,
          2009,
          2010,
          2011,
          2012,
          2013,
          2014,
          2015
         ],
         "y": [
          0,
          -4.831100000000333,
          -4.51260000000002,
          -2.3049000000000888,
          9.56840000000011,
          30.730599999999868,
          31.4387999999999,
          23.521999999999935,
          21.66399999999976,
          20.05249999999978,
          19.922899999999572,
          20.8746000000001,
          20.542599999999766,
          11.692399999999907,
          5.846499999999651,
          10.527399999999943,
          16.88130000000001,
          20.65819999999985,
          21.495600000000195,
          25.078599999999824,
          25.365200000000186
         ]
        },
        {
         "mode": "lines",
         "name": "Tree-covered areas",
         "type": "scatter",
         "x": [
          1995,
          1996,
          1997,
          1998,
          1999,
          2000,
          2001,
          2002,
          2003,
          2004,
          2005,
          2006,
          2007,
          2008,
          2009,
          2010,
          2011,
          2012,
          2013,
          2014,
          2015
         ],
         "y": [
          0,
          -8.735400000001391,
          -11.57760000000053,
          -16.88539999999921,
          -38.64110000000073,
          -23.536000000000058,
          33.65049999999974,
          73.49169999999867,
          119.56940000000031,
          234.36089999999967,
          262.47599999999875,
          300.6196999999993,
          316.6432999999997,
          331.53749999999854,
          339.3885999999984,
          336.0433000000012,
          321.32830000000104,
          319.54320000000007,
          319.6438999999991,
          304.0636000000013,
          304.1998999999996
         ]
        },
        {
         "mode": "lines",
         "name": "Shrub-covered areas",
         "type": "scatter",
         "x": [
          1995,
          1996,
          1997,
          1998,
          1999,
          2000,
          2001,
          2002,
          2003,
          2004,
          2005,
          2006,
          2007,
          2008,
          2009,
          2010,
          2011,
          2012,
          2013,
          2014,
          2015
         ],
         "y": [
          0,
          -8.219699999999648,
          -10.539899999999761,
          -13.189000000000306,
          -10.84940000000097,
          -24.679299999999785,
          -52.76879999999983,
          -74.33990000000085,
          -90.68710000000101,
          -145.39769999999953,
          -153.34870000000046,
          -175.91029999999955,
          -177.70449999999983,
          -182.4849000000013,
          -184.2403000000013,
          -184.71190000000024,
          -180.90760000000046,
          -180.40270000000055,
          -187.27289999999994,
          -178.57840000000033,
          -180.4323999999997
         ]
        }
       ],
       "layout": {
        "annotations": [
         {
          "align": "center",
          "arrowhead": 1,
          "arrowsize": 1,
          "arrowwidth": 1,
          "ax": -10,
          "ay": 30,
          "showarrow": true,
          "text": "Reference (1995)",
          "x": 2013,
          "xref": "x",
          "y": 0,
          "yref": "y"
         }
        ],
        "legend": {
         "orientation": "h"
        },
        "paper_bgcolor": "rgba(0,0,0,0)",
        "plot_bgcolor": "rgba(0,0,0,0)",
        "shapes": [
         {
          "line": {
           "color": "Black",
           "dash": "dashdot",
           "width": 1
          },
          "type": "line",
          "x0": 1995,
          "x1": 2015,
          "y0": 0,
          "y1": 0
         }
        ],
        "template": {
         "data": {
          "bar": [
           {
            "error_x": {
             "color": "#2a3f5f"
            },
            "error_y": {
             "color": "#2a3f5f"
            },
            "marker": {
             "line": {
              "color": "#E5ECF6",
              "width": 0.5
             }
            },
            "type": "bar"
           }
          ],
          "barpolar": [
           {
            "marker": {
             "line": {
              "color": "#E5ECF6",
              "width": 0.5
             }
            },
            "type": "barpolar"
           }
          ],
          "carpet": [
           {
            "aaxis": {
             "endlinecolor": "#2a3f5f",
             "gridcolor": "white",
             "linecolor": "white",
             "minorgridcolor": "white",
             "startlinecolor": "#2a3f5f"
            },
            "baxis": {
             "endlinecolor": "#2a3f5f",
             "gridcolor": "white",
             "linecolor": "white",
             "minorgridcolor": "white",
             "startlinecolor": "#2a3f5f"
            },
            "type": "carpet"
           }
          ],
          "choropleth": [
           {
            "colorbar": {
             "outlinewidth": 0,
             "ticks": ""
            },
            "type": "choropleth"
           }
          ],
          "contour": [
           {
            "colorbar": {
             "outlinewidth": 0,
             "ticks": ""
            },
            "colorscale": [
             [
              0,
              "#0d0887"
             ],
             [
              0.1111111111111111,
              "#46039f"
             ],
             [
              0.2222222222222222,
              "#7201a8"
             ],
             [
              0.3333333333333333,
              "#9c179e"
             ],
             [
              0.4444444444444444,
              "#bd3786"
             ],
             [
              0.5555555555555556,
              "#d8576b"
             ],
             [
              0.6666666666666666,
              "#ed7953"
             ],
             [
              0.7777777777777778,
              "#fb9f3a"
             ],
             [
              0.8888888888888888,
              "#fdca26"
             ],
             [
              1,
              "#f0f921"
             ]
            ],
            "type": "contour"
           }
          ],
          "contourcarpet": [
           {
            "colorbar": {
             "outlinewidth": 0,
             "ticks": ""
            },
            "type": "contourcarpet"
           }
          ],
          "heatmap": [
           {
            "colorbar": {
             "outlinewidth": 0,
             "ticks": ""
            },
            "colorscale": [
             [
              0,
              "#0d0887"
             ],
             [
              0.1111111111111111,
              "#46039f"
             ],
             [
              0.2222222222222222,
              "#7201a8"
             ],
             [
              0.3333333333333333,
              "#9c179e"
             ],
             [
              0.4444444444444444,
              "#bd3786"
             ],
             [
              0.5555555555555556,
              "#d8576b"
             ],
             [
              0.6666666666666666,
              "#ed7953"
             ],
             [
              0.7777777777777778,
              "#fb9f3a"
             ],
             [
              0.8888888888888888,
              "#fdca26"
             ],
             [
              1,
              "#f0f921"
             ]
            ],
            "type": "heatmap"
           }
          ],
          "heatmapgl": [
           {
            "colorbar": {
             "outlinewidth": 0,
             "ticks": ""
            },
            "colorscale": [
             [
              0,
              "#0d0887"
             ],
             [
              0.1111111111111111,
              "#46039f"
             ],
             [
              0.2222222222222222,
              "#7201a8"
             ],
             [
              0.3333333333333333,
              "#9c179e"
             ],
             [
              0.4444444444444444,
              "#bd3786"
             ],
             [
              0.5555555555555556,
              "#d8576b"
             ],
             [
              0.6666666666666666,
              "#ed7953"
             ],
             [
              0.7777777777777778,
              "#fb9f3a"
             ],
             [
              0.8888888888888888,
              "#fdca26"
             ],
             [
              1,
              "#f0f921"
             ]
            ],
            "type": "heatmapgl"
           }
          ],
          "histogram": [
           {
            "marker": {
             "colorbar": {
              "outlinewidth": 0,
              "ticks": ""
             }
            },
            "type": "histogram"
           }
          ],
          "histogram2d": [
           {
            "colorbar": {
             "outlinewidth": 0,
             "ticks": ""
            },
            "colorscale": [
             [
              0,
              "#0d0887"
             ],
             [
              0.1111111111111111,
              "#46039f"
             ],
             [
              0.2222222222222222,
              "#7201a8"
             ],
             [
              0.3333333333333333,
              "#9c179e"
             ],
             [
              0.4444444444444444,
              "#bd3786"
             ],
             [
              0.5555555555555556,
              "#d8576b"
             ],
             [
              0.6666666666666666,
              "#ed7953"
             ],
             [
              0.7777777777777778,
              "#fb9f3a"
             ],
             [
              0.8888888888888888,
              "#fdca26"
             ],
             [
              1,
              "#f0f921"
             ]
            ],
            "type": "histogram2d"
           }
          ],
          "histogram2dcontour": [
           {
            "colorbar": {
             "outlinewidth": 0,
             "ticks": ""
            },
            "colorscale": [
             [
              0,
              "#0d0887"
             ],
             [
              0.1111111111111111,
              "#46039f"
             ],
             [
              0.2222222222222222,
              "#7201a8"
             ],
             [
              0.3333333333333333,
              "#9c179e"
             ],
             [
              0.4444444444444444,
              "#bd3786"
             ],
             [
              0.5555555555555556,
              "#d8576b"
             ],
             [
              0.6666666666666666,
              "#ed7953"
             ],
             [
              0.7777777777777778,
              "#fb9f3a"
             ],
             [
              0.8888888888888888,
              "#fdca26"
             ],
             [
              1,
              "#f0f921"
             ]
            ],
            "type": "histogram2dcontour"
           }
          ],
          "mesh3d": [
           {
            "colorbar": {
             "outlinewidth": 0,
             "ticks": ""
            },
            "type": "mesh3d"
           }
          ],
          "parcoords": [
           {
            "line": {
             "colorbar": {
              "outlinewidth": 0,
              "ticks": ""
             }
            },
            "type": "parcoords"
           }
          ],
          "pie": [
           {
            "automargin": true,
            "type": "pie"
           }
          ],
          "scatter": [
           {
            "marker": {
             "colorbar": {
              "outlinewidth": 0,
              "ticks": ""
             }
            },
            "type": "scatter"
           }
          ],
          "scatter3d": [
           {
            "line": {
             "colorbar": {
              "outlinewidth": 0,
              "ticks": ""
             }
            },
            "marker": {
             "colorbar": {
              "outlinewidth": 0,
              "ticks": ""
             }
            },
            "type": "scatter3d"
           }
          ],
          "scattercarpet": [
           {
            "marker": {
             "colorbar": {
              "outlinewidth": 0,
              "ticks": ""
             }
            },
            "type": "scattercarpet"
           }
          ],
          "scattergeo": [
           {
            "marker": {
             "colorbar": {
              "outlinewidth": 0,
              "ticks": ""
             }
            },
            "type": "scattergeo"
           }
          ],
          "scattergl": [
           {
            "marker": {
             "colorbar": {
              "outlinewidth": 0,
              "ticks": ""
             }
            },
            "type": "scattergl"
           }
          ],
          "scattermapbox": [
           {
            "marker": {
             "colorbar": {
              "outlinewidth": 0,
              "ticks": ""
             }
            },
            "type": "scattermapbox"
           }
          ],
          "scatterpolar": [
           {
            "marker": {
             "colorbar": {
              "outlinewidth": 0,
              "ticks": ""
             }
            },
            "type": "scatterpolar"
           }
          ],
          "scatterpolargl": [
           {
            "marker": {
             "colorbar": {
              "outlinewidth": 0,
              "ticks": ""
             }
            },
            "type": "scatterpolargl"
           }
          ],
          "scatterternary": [
           {
            "marker": {
             "colorbar": {
              "outlinewidth": 0,
              "ticks": ""
             }
            },
            "type": "scatterternary"
           }
          ],
          "surface": [
           {
            "colorbar": {
             "outlinewidth": 0,
             "ticks": ""
            },
            "colorscale": [
             [
              0,
              "#0d0887"
             ],
             [
              0.1111111111111111,
              "#46039f"
             ],
             [
              0.2222222222222222,
              "#7201a8"
             ],
             [
              0.3333333333333333,
              "#9c179e"
             ],
             [
              0.4444444444444444,
              "#bd3786"
             ],
             [
              0.5555555555555556,
              "#d8576b"
             ],
             [
              0.6666666666666666,
              "#ed7953"
             ],
             [
              0.7777777777777778,
              "#fb9f3a"
             ],
             [
              0.8888888888888888,
              "#fdca26"
             ],
             [
              1,
              "#f0f921"
             ]
            ],
            "type": "surface"
           }
          ],
          "table": [
           {
            "cells": {
             "fill": {
              "color": "#EBF0F8"
             },
             "line": {
              "color": "white"
             }
            },
            "header": {
             "fill": {
              "color": "#C8D4E3"
             },
             "line": {
              "color": "white"
             }
            },
            "type": "table"
           }
          ]
         },
         "layout": {
          "annotationdefaults": {
           "arrowcolor": "#2a3f5f",
           "arrowhead": 0,
           "arrowwidth": 1
          },
          "coloraxis": {
           "colorbar": {
            "outlinewidth": 0,
            "ticks": ""
           }
          },
          "colorscale": {
           "diverging": [
            [
             0,
             "#8e0152"
            ],
            [
             0.1,
             "#c51b7d"
            ],
            [
             0.2,
             "#de77ae"
            ],
            [
             0.3,
             "#f1b6da"
            ],
            [
             0.4,
             "#fde0ef"
            ],
            [
             0.5,
             "#f7f7f7"
            ],
            [
             0.6,
             "#e6f5d0"
            ],
            [
             0.7,
             "#b8e186"
            ],
            [
             0.8,
             "#7fbc41"
            ],
            [
             0.9,
             "#4d9221"
            ],
            [
             1,
             "#276419"
            ]
           ],
           "sequential": [
            [
             0,
             "#0d0887"
            ],
            [
             0.1111111111111111,
             "#46039f"
            ],
            [
             0.2222222222222222,
             "#7201a8"
            ],
            [
             0.3333333333333333,
             "#9c179e"
            ],
            [
             0.4444444444444444,
             "#bd3786"
            ],
            [
             0.5555555555555556,
             "#d8576b"
            ],
            [
             0.6666666666666666,
             "#ed7953"
            ],
            [
             0.7777777777777778,
             "#fb9f3a"
            ],
            [
             0.8888888888888888,
             "#fdca26"
            ],
            [
             1,
             "#f0f921"
            ]
           ],
           "sequentialminus": [
            [
             0,
             "#0d0887"
            ],
            [
             0.1111111111111111,
             "#46039f"
            ],
            [
             0.2222222222222222,
             "#7201a8"
            ],
            [
             0.3333333333333333,
             "#9c179e"
            ],
            [
             0.4444444444444444,
             "#bd3786"
            ],
            [
             0.5555555555555556,
             "#d8576b"
            ],
            [
             0.6666666666666666,
             "#ed7953"
            ],
            [
             0.7777777777777778,
             "#fb9f3a"
            ],
            [
             0.8888888888888888,
             "#fdca26"
            ],
            [
             1,
             "#f0f921"
            ]
           ]
          },
          "colorway": [
           "#636efa",
           "#EF553B",
           "#00cc96",
           "#ab63fa",
           "#FFA15A",
           "#19d3f3",
           "#FF6692",
           "#B6E880",
           "#FF97FF",
           "#FECB52"
          ],
          "font": {
           "color": "#2a3f5f"
          },
          "geo": {
           "bgcolor": "white",
           "lakecolor": "white",
           "landcolor": "#E5ECF6",
           "showlakes": true,
           "showland": true,
           "subunitcolor": "white"
          },
          "hoverlabel": {
           "align": "left"
          },
          "hovermode": "closest",
          "mapbox": {
           "style": "light"
          },
          "paper_bgcolor": "white",
          "plot_bgcolor": "#E5ECF6",
          "polar": {
           "angularaxis": {
            "gridcolor": "white",
            "linecolor": "white",
            "ticks": ""
           },
           "bgcolor": "#E5ECF6",
           "radialaxis": {
            "gridcolor": "white",
            "linecolor": "white",
            "ticks": ""
           }
          },
          "scene": {
           "xaxis": {
            "backgroundcolor": "#E5ECF6",
            "gridcolor": "white",
            "gridwidth": 2,
            "linecolor": "white",
            "showbackground": true,
            "ticks": "",
            "zerolinecolor": "white"
           },
           "yaxis": {
            "backgroundcolor": "#E5ECF6",
            "gridcolor": "white",
            "gridwidth": 2,
            "linecolor": "white",
            "showbackground": true,
            "ticks": "",
            "zerolinecolor": "white"
           },
           "zaxis": {
            "backgroundcolor": "#E5ECF6",
            "gridcolor": "white",
            "gridwidth": 2,
            "linecolor": "white",
            "showbackground": true,
            "ticks": "",
            "zerolinecolor": "white"
           }
          },
          "shapedefaults": {
           "line": {
            "color": "#2a3f5f"
           }
          },
          "ternary": {
           "aaxis": {
            "gridcolor": "white",
            "linecolor": "white",
            "ticks": ""
           },
           "baxis": {
            "gridcolor": "white",
            "linecolor": "white",
            "ticks": ""
           },
           "bgcolor": "#E5ECF6",
           "caxis": {
            "gridcolor": "white",
            "linecolor": "white",
            "ticks": ""
           }
          },
          "title": {
           "x": 0.05
          },
          "xaxis": {
           "automargin": true,
           "gridcolor": "white",
           "linecolor": "white",
           "ticks": "",
           "title": {
            "standoff": 15
           },
           "zerolinecolor": "white",
           "zerolinewidth": 2
          },
          "yaxis": {
           "automargin": true,
           "gridcolor": "white",
           "linecolor": "white",
           "ticks": "",
           "title": {
            "standoff": 15
           },
           "zerolinecolor": "white",
           "zerolinewidth": 2
          }
         }
        },
        "xaxis": {
         "title": {
          "text": "Year"
         }
        },
        "yaxis": {
         "title": {
          "text": "Change w.r.t. 1995 [1000 ha]"
         }
        }
       }
      },
      "text/html": [
       "<div>\n",
       "        \n",
       "        \n",
       "            <div id=\"c633f5b5-7810-4588-8b2d-7e3f11f90585\" class=\"plotly-graph-div\" style=\"height:525px; width:100%;\"></div>\n",
       "            <script type=\"text/javascript\">\n",
       "                require([\"plotly\"], function(Plotly) {\n",
       "                    window.PLOTLYENV=window.PLOTLYENV || {};\n",
       "                    \n",
       "                if (document.getElementById(\"c633f5b5-7810-4588-8b2d-7e3f11f90585\")) {\n",
       "                    Plotly.newPlot(\n",
       "                        'c633f5b5-7810-4588-8b2d-7e3f11f90585',\n",
       "                        [{\"mode\": \"lines\", \"name\": \"Herbaceous crops\", \"type\": \"scatter\", \"x\": [1995.0, 1996.0, 1997.0, 1998.0, 1999.0, 2000.0, 2001.0, 2002.0, 2003.0, 2004.0, 2005.0, 2006.0, 2007.0, 2008.0, 2009.0, 2010.0, 2011.0, 2012.0, 2013.0, 2014.0, 2015.0], \"y\": [0.0, -67.44509999999991, -68.14449999999988, -66.77539999999999, -114.38819999999987, -169.32529999999997, -225.26489999999967, -280.826, -351.6154999999999, -387.8267999999998, -415.60189999999966, -486.1664999999998, -547.4353999999998, -534.5416, -542.1704999999997, -563.0418, -540.0921999999996, -557.0212999999999, -548.0457999999999, -557.9537999999998, -547.4925999999996]}, {\"mode\": \"lines\", \"name\": \"Woody crops\", \"type\": \"scatter\", \"x\": [1995.0, 1996.0, 1997.0, 1998.0, 1999.0, 2000.0, 2001.0, 2002.0, 2003.0, 2004.0, 2005.0, 2006.0, 2007.0, 2008.0, 2009.0, 2010.0, 2011.0, 2012.0, 2013.0, 2014.0, 2015.0], \"y\": [0.0, 64.15279999999996, 64.70099999999996, 65.58019999999999, 123.19509999999997, 172.28169999999994, 219.91249999999997, 265.3005, 325.7989999999999, 331.7041, 347.61899999999997, 403.99639999999994, 448.7873, 422.01859999999994, 420.5687, 437.3676, 417.08009999999996, 431.94689999999997, 419.1226, 427.7526, 416.90659999999997]}, {\"mode\": \"lines\", \"name\": \"Grassland\", \"type\": \"scatter\", \"x\": [1995.0, 1996.0, 1997.0, 1998.0, 1999.0, 2000.0, 2001.0, 2002.0, 2003.0, 2004.0, 2005.0, 2006.0, 2007.0, 2008.0, 2009.0, 2010.0, 2011.0, 2012.0, 2013.0, 2014.0, 2015.0], \"y\": [0.0, -4.831100000000333, -4.51260000000002, -2.3049000000000888, 9.56840000000011, 30.730599999999868, 31.4387999999999, 23.521999999999935, 21.66399999999976, 20.05249999999978, 19.922899999999572, 20.8746000000001, 20.542599999999766, 11.692399999999907, 5.846499999999651, 10.527399999999943, 16.88130000000001, 20.65819999999985, 21.495600000000195, 25.078599999999824, 25.365200000000186]}, {\"mode\": \"lines\", \"name\": \"Tree-covered areas\", \"type\": \"scatter\", \"x\": [1995.0, 1996.0, 1997.0, 1998.0, 1999.0, 2000.0, 2001.0, 2002.0, 2003.0, 2004.0, 2005.0, 2006.0, 2007.0, 2008.0, 2009.0, 2010.0, 2011.0, 2012.0, 2013.0, 2014.0, 2015.0], \"y\": [0.0, -8.735400000001391, -11.57760000000053, -16.88539999999921, -38.64110000000073, -23.536000000000058, 33.65049999999974, 73.49169999999867, 119.56940000000031, 234.36089999999967, 262.47599999999875, 300.6196999999993, 316.6432999999997, 331.53749999999854, 339.3885999999984, 336.0433000000012, 321.32830000000104, 319.54320000000007, 319.6438999999991, 304.0636000000013, 304.1998999999996]}, {\"mode\": \"lines\", \"name\": \"Shrub-covered areas\", \"type\": \"scatter\", \"x\": [1995.0, 1996.0, 1997.0, 1998.0, 1999.0, 2000.0, 2001.0, 2002.0, 2003.0, 2004.0, 2005.0, 2006.0, 2007.0, 2008.0, 2009.0, 2010.0, 2011.0, 2012.0, 2013.0, 2014.0, 2015.0], \"y\": [0.0, -8.219699999999648, -10.539899999999761, -13.189000000000306, -10.84940000000097, -24.679299999999785, -52.76879999999983, -74.33990000000085, -90.68710000000101, -145.39769999999953, -153.34870000000046, -175.91029999999955, -177.70449999999983, -182.4849000000013, -184.2403000000013, -184.71190000000024, -180.90760000000046, -180.40270000000055, -187.27289999999994, -178.57840000000033, -180.4323999999997]}],\n",
       "                        {\"annotations\": [{\"align\": \"center\", \"arrowhead\": 1, \"arrowsize\": 1, \"arrowwidth\": 1, \"ax\": -10, \"ay\": 30, \"showarrow\": true, \"text\": \"Reference (1995)\", \"x\": 2013, \"xref\": \"x\", \"y\": 0, \"yref\": \"y\"}], \"legend\": {\"orientation\": \"h\"}, \"paper_bgcolor\": \"rgba(0,0,0,0)\", \"plot_bgcolor\": \"rgba(0,0,0,0)\", \"shapes\": [{\"line\": {\"color\": \"Black\", \"dash\": \"dashdot\", \"width\": 1}, \"type\": \"line\", \"x0\": 1995.0, \"x1\": 2015.0, \"y0\": 0, \"y1\": 0}], \"template\": {\"data\": {\"bar\": [{\"error_x\": {\"color\": \"#2a3f5f\"}, \"error_y\": {\"color\": \"#2a3f5f\"}, \"marker\": {\"line\": {\"color\": \"#E5ECF6\", \"width\": 0.5}}, \"type\": \"bar\"}], \"barpolar\": [{\"marker\": {\"line\": {\"color\": \"#E5ECF6\", \"width\": 0.5}}, \"type\": \"barpolar\"}], \"carpet\": [{\"aaxis\": {\"endlinecolor\": \"#2a3f5f\", \"gridcolor\": \"white\", \"linecolor\": \"white\", \"minorgridcolor\": \"white\", \"startlinecolor\": \"#2a3f5f\"}, \"baxis\": {\"endlinecolor\": \"#2a3f5f\", \"gridcolor\": \"white\", \"linecolor\": \"white\", \"minorgridcolor\": \"white\", \"startlinecolor\": \"#2a3f5f\"}, \"type\": \"carpet\"}], \"choropleth\": [{\"colorbar\": {\"outlinewidth\": 0, \"ticks\": \"\"}, \"type\": \"choropleth\"}], \"contour\": [{\"colorbar\": {\"outlinewidth\": 0, \"ticks\": \"\"}, \"colorscale\": [[0.0, \"#0d0887\"], [0.1111111111111111, \"#46039f\"], [0.2222222222222222, \"#7201a8\"], [0.3333333333333333, \"#9c179e\"], [0.4444444444444444, \"#bd3786\"], [0.5555555555555556, \"#d8576b\"], [0.6666666666666666, \"#ed7953\"], [0.7777777777777778, \"#fb9f3a\"], [0.8888888888888888, \"#fdca26\"], [1.0, \"#f0f921\"]], \"type\": \"contour\"}], \"contourcarpet\": [{\"colorbar\": {\"outlinewidth\": 0, \"ticks\": \"\"}, \"type\": \"contourcarpet\"}], \"heatmap\": [{\"colorbar\": {\"outlinewidth\": 0, \"ticks\": \"\"}, \"colorscale\": [[0.0, \"#0d0887\"], [0.1111111111111111, \"#46039f\"], [0.2222222222222222, \"#7201a8\"], [0.3333333333333333, \"#9c179e\"], [0.4444444444444444, \"#bd3786\"], [0.5555555555555556, \"#d8576b\"], [0.6666666666666666, \"#ed7953\"], [0.7777777777777778, \"#fb9f3a\"], [0.8888888888888888, \"#fdca26\"], [1.0, \"#f0f921\"]], \"type\": \"heatmap\"}], \"heatmapgl\": [{\"colorbar\": {\"outlinewidth\": 0, \"ticks\": \"\"}, \"colorscale\": [[0.0, \"#0d0887\"], [0.1111111111111111, \"#46039f\"], [0.2222222222222222, \"#7201a8\"], [0.3333333333333333, \"#9c179e\"], [0.4444444444444444, \"#bd3786\"], [0.5555555555555556, \"#d8576b\"], [0.6666666666666666, \"#ed7953\"], [0.7777777777777778, \"#fb9f3a\"], [0.8888888888888888, \"#fdca26\"], [1.0, \"#f0f921\"]], \"type\": \"heatmapgl\"}], \"histogram\": [{\"marker\": {\"colorbar\": {\"outlinewidth\": 0, \"ticks\": \"\"}}, \"type\": \"histogram\"}], \"histogram2d\": [{\"colorbar\": {\"outlinewidth\": 0, \"ticks\": \"\"}, \"colorscale\": [[0.0, \"#0d0887\"], [0.1111111111111111, \"#46039f\"], [0.2222222222222222, \"#7201a8\"], [0.3333333333333333, \"#9c179e\"], [0.4444444444444444, \"#bd3786\"], [0.5555555555555556, \"#d8576b\"], [0.6666666666666666, \"#ed7953\"], [0.7777777777777778, \"#fb9f3a\"], [0.8888888888888888, \"#fdca26\"], [1.0, \"#f0f921\"]], \"type\": \"histogram2d\"}], \"histogram2dcontour\": [{\"colorbar\": {\"outlinewidth\": 0, \"ticks\": \"\"}, \"colorscale\": [[0.0, \"#0d0887\"], [0.1111111111111111, \"#46039f\"], [0.2222222222222222, \"#7201a8\"], [0.3333333333333333, \"#9c179e\"], [0.4444444444444444, \"#bd3786\"], [0.5555555555555556, \"#d8576b\"], [0.6666666666666666, \"#ed7953\"], [0.7777777777777778, \"#fb9f3a\"], [0.8888888888888888, \"#fdca26\"], [1.0, \"#f0f921\"]], \"type\": \"histogram2dcontour\"}], \"mesh3d\": [{\"colorbar\": {\"outlinewidth\": 0, \"ticks\": \"\"}, \"type\": \"mesh3d\"}], \"parcoords\": [{\"line\": {\"colorbar\": {\"outlinewidth\": 0, \"ticks\": \"\"}}, \"type\": \"parcoords\"}], \"pie\": [{\"automargin\": true, \"type\": \"pie\"}], \"scatter\": [{\"marker\": {\"colorbar\": {\"outlinewidth\": 0, \"ticks\": \"\"}}, \"type\": \"scatter\"}], \"scatter3d\": [{\"line\": {\"colorbar\": {\"outlinewidth\": 0, \"ticks\": \"\"}}, \"marker\": {\"colorbar\": {\"outlinewidth\": 0, \"ticks\": \"\"}}, \"type\": \"scatter3d\"}], \"scattercarpet\": [{\"marker\": {\"colorbar\": {\"outlinewidth\": 0, \"ticks\": \"\"}}, \"type\": \"scattercarpet\"}], \"scattergeo\": [{\"marker\": {\"colorbar\": {\"outlinewidth\": 0, \"ticks\": \"\"}}, \"type\": \"scattergeo\"}], \"scattergl\": [{\"marker\": {\"colorbar\": {\"outlinewidth\": 0, \"ticks\": \"\"}}, \"type\": \"scattergl\"}], \"scattermapbox\": [{\"marker\": {\"colorbar\": {\"outlinewidth\": 0, \"ticks\": \"\"}}, \"type\": \"scattermapbox\"}], \"scatterpolar\": [{\"marker\": {\"colorbar\": {\"outlinewidth\": 0, \"ticks\": \"\"}}, \"type\": \"scatterpolar\"}], \"scatterpolargl\": [{\"marker\": {\"colorbar\": {\"outlinewidth\": 0, \"ticks\": \"\"}}, \"type\": \"scatterpolargl\"}], \"scatterternary\": [{\"marker\": {\"colorbar\": {\"outlinewidth\": 0, \"ticks\": \"\"}}, \"type\": \"scatterternary\"}], \"surface\": [{\"colorbar\": {\"outlinewidth\": 0, \"ticks\": \"\"}, \"colorscale\": [[0.0, \"#0d0887\"], [0.1111111111111111, \"#46039f\"], [0.2222222222222222, \"#7201a8\"], [0.3333333333333333, \"#9c179e\"], [0.4444444444444444, \"#bd3786\"], [0.5555555555555556, \"#d8576b\"], [0.6666666666666666, \"#ed7953\"], [0.7777777777777778, \"#fb9f3a\"], [0.8888888888888888, \"#fdca26\"], [1.0, \"#f0f921\"]], \"type\": \"surface\"}], \"table\": [{\"cells\": {\"fill\": {\"color\": \"#EBF0F8\"}, \"line\": {\"color\": \"white\"}}, \"header\": {\"fill\": {\"color\": \"#C8D4E3\"}, \"line\": {\"color\": \"white\"}}, \"type\": \"table\"}]}, \"layout\": {\"annotationdefaults\": {\"arrowcolor\": \"#2a3f5f\", \"arrowhead\": 0, \"arrowwidth\": 1}, \"coloraxis\": {\"colorbar\": {\"outlinewidth\": 0, \"ticks\": \"\"}}, \"colorscale\": {\"diverging\": [[0, \"#8e0152\"], [0.1, \"#c51b7d\"], [0.2, \"#de77ae\"], [0.3, \"#f1b6da\"], [0.4, \"#fde0ef\"], [0.5, \"#f7f7f7\"], [0.6, \"#e6f5d0\"], [0.7, \"#b8e186\"], [0.8, \"#7fbc41\"], [0.9, \"#4d9221\"], [1, \"#276419\"]], \"sequential\": [[0.0, \"#0d0887\"], [0.1111111111111111, \"#46039f\"], [0.2222222222222222, \"#7201a8\"], [0.3333333333333333, \"#9c179e\"], [0.4444444444444444, \"#bd3786\"], [0.5555555555555556, \"#d8576b\"], [0.6666666666666666, \"#ed7953\"], [0.7777777777777778, \"#fb9f3a\"], [0.8888888888888888, \"#fdca26\"], [1.0, \"#f0f921\"]], \"sequentialminus\": [[0.0, \"#0d0887\"], [0.1111111111111111, \"#46039f\"], [0.2222222222222222, \"#7201a8\"], [0.3333333333333333, \"#9c179e\"], [0.4444444444444444, \"#bd3786\"], [0.5555555555555556, \"#d8576b\"], [0.6666666666666666, \"#ed7953\"], [0.7777777777777778, \"#fb9f3a\"], [0.8888888888888888, \"#fdca26\"], [1.0, \"#f0f921\"]]}, \"colorway\": [\"#636efa\", \"#EF553B\", \"#00cc96\", \"#ab63fa\", \"#FFA15A\", \"#19d3f3\", \"#FF6692\", \"#B6E880\", \"#FF97FF\", \"#FECB52\"], \"font\": {\"color\": \"#2a3f5f\"}, \"geo\": {\"bgcolor\": \"white\", \"lakecolor\": \"white\", \"landcolor\": \"#E5ECF6\", \"showlakes\": true, \"showland\": true, \"subunitcolor\": \"white\"}, \"hoverlabel\": {\"align\": \"left\"}, \"hovermode\": \"closest\", \"mapbox\": {\"style\": \"light\"}, \"paper_bgcolor\": \"white\", \"plot_bgcolor\": \"#E5ECF6\", \"polar\": {\"angularaxis\": {\"gridcolor\": \"white\", \"linecolor\": \"white\", \"ticks\": \"\"}, \"bgcolor\": \"#E5ECF6\", \"radialaxis\": {\"gridcolor\": \"white\", \"linecolor\": \"white\", \"ticks\": \"\"}}, \"scene\": {\"xaxis\": {\"backgroundcolor\": \"#E5ECF6\", \"gridcolor\": \"white\", \"gridwidth\": 2, \"linecolor\": \"white\", \"showbackground\": true, \"ticks\": \"\", \"zerolinecolor\": \"white\"}, \"yaxis\": {\"backgroundcolor\": \"#E5ECF6\", \"gridcolor\": \"white\", \"gridwidth\": 2, \"linecolor\": \"white\", \"showbackground\": true, \"ticks\": \"\", \"zerolinecolor\": \"white\"}, \"zaxis\": {\"backgroundcolor\": \"#E5ECF6\", \"gridcolor\": \"white\", \"gridwidth\": 2, \"linecolor\": \"white\", \"showbackground\": true, \"ticks\": \"\", \"zerolinecolor\": \"white\"}}, \"shapedefaults\": {\"line\": {\"color\": \"#2a3f5f\"}}, \"ternary\": {\"aaxis\": {\"gridcolor\": \"white\", \"linecolor\": \"white\", \"ticks\": \"\"}, \"baxis\": {\"gridcolor\": \"white\", \"linecolor\": \"white\", \"ticks\": \"\"}, \"bgcolor\": \"#E5ECF6\", \"caxis\": {\"gridcolor\": \"white\", \"linecolor\": \"white\", \"ticks\": \"\"}}, \"title\": {\"x\": 0.05}, \"xaxis\": {\"automargin\": true, \"gridcolor\": \"white\", \"linecolor\": \"white\", \"ticks\": \"\", \"title\": {\"standoff\": 15}, \"zerolinecolor\": \"white\", \"zerolinewidth\": 2}, \"yaxis\": {\"automargin\": true, \"gridcolor\": \"white\", \"linecolor\": \"white\", \"ticks\": \"\", \"title\": {\"standoff\": 15}, \"zerolinecolor\": \"white\", \"zerolinewidth\": 2}}}, \"xaxis\": {\"title\": {\"text\": \"Year\"}}, \"yaxis\": {\"title\": {\"text\": \"Change w.r.t. 1995 [1000 ha]\"}}},\n",
       "                        {\"responsive\": true}\n",
       "                    ).then(function(){\n",
       "                            \n",
       "var gd = document.getElementById('c633f5b5-7810-4588-8b2d-7e3f11f90585');\n",
       "var x = new MutationObserver(function (mutations, observer) {{\n",
       "        var display = window.getComputedStyle(gd).display;\n",
       "        if (!display || display === 'none') {{\n",
       "            console.log([gd, 'removed!']);\n",
       "            Plotly.purge(gd);\n",
       "            observer.disconnect();\n",
       "        }}\n",
       "}});\n",
       "\n",
       "// Listen for the removal of the full notebook cells\n",
       "var notebookContainer = gd.closest('#notebook-container');\n",
       "if (notebookContainer) {{\n",
       "    x.observe(notebookContainer, {childList: true});\n",
       "}}\n",
       "\n",
       "// Listen for the clearing of the current output cell\n",
       "var outputEl = gd.closest('.output');\n",
       "if (outputEl) {{\n",
       "    x.observe(outputEl, {childList: true});\n",
       "}}\n",
       "\n",
       "                        })\n",
       "                };\n",
       "                });\n",
       "            </script>\n",
       "        </div>"
      ]
     },
     "metadata": {},
     "output_type": "display_data"
    }
   ],
   "source": [
    "COUNTRY = 'Chile'\n",
    "plot_land_type_differentials_plotly(COUNTRY, 'CCI_LC', save_img=True)"
   ]
  },
  {
   "cell_type": "markdown",
   "metadata": {},
   "source": [
    "> #### ***Explanation***\n",
    ">\n",
    "> Here we represented plots for Brazil and Indonesia (which are among the biggest deforested countries) and USA (which, instead, increased the forest land).\n",
    ">\n",
    "> + **BRAZIL**: big decrease in tree-covered areas, compensated by creation of **new grasslands and fields of herbaceous crops** (Brazil agriculture is mostly based on **sugar cane**).\n",
    "> + **INDONESIA**: in this case also herbaceous crops fields decrease to compensate the **increase of woody crops** (cultivated trees). This is linked to the main product of indonesian agriculture: **palm oil**.\n",
    "> + **UNITED STATES OF AMERICA**: in this case tree-covered areas increased **subtracting land to shrubs** and other small vegetation lands."
   ]
  },
  {
   "cell_type": "markdown",
   "metadata": {},
   "source": [
    "# **Scatterplot of forest vs agriculture land differential**\n",
    "Here we used the datasets `Production_Crops_E_All_Data_cleared.csv` and `Inputs_LandUse_E_All_Data_cleared.csv` to try to link the deforestation to the type of agriculture performet in different countires.\n",
    "\n",
    "In this part, we see the trend of agricultural areas expansion in each countries, intending to compare the result of the reduction of the forest areas."
   ]
  },
  {
   "cell_type": "code",
   "execution_count": 6,
   "metadata": {},
   "outputs": [],
   "source": [
    "# select forestation related features from Inputs_LandUse \n",
    "land_use_all = pd.read_csv(\"data/faostat/Inputs_LandUse_E_All_Data_cleared.csv\", engine='python')\n",
    "land_use = land_use_all[land_use_all.Item.isin(['Forestry']) &\n",
    "                        land_use_all.Element.str.match('Area')]\n",
    "\n",
    "# change Area USSR to Russian Federation\n",
    "land_use.Area = np.where(land_use['Area'] == 'USSR', 'Russian Federation', land_use.Area)"
   ]
  },
  {
   "cell_type": "code",
   "execution_count": 7,
   "metadata": {},
   "outputs": [],
   "source": [
    "# agricultural area (1000 ha) for each country per year\n",
    "land_use_all.Area = np.where(land_use_all['Area'] == 'USSR', 'Russian Federation', land_use_all.Area)\n",
    "land_use_ag = land_use_all[land_use_all.Item == 'Agriculture']\n",
    "land_use_ag = land_use_ag[(land_use_ag.Area.isin(FAOSTAT_countries))]\\\n",
    ".groupby([\"Area\", \"Year\"])\\\n",
    ".Value.sum().unstack(\"Year\")"
   ]
  },
  {
   "cell_type": "code",
   "execution_count": 8,
   "metadata": {},
   "outputs": [],
   "source": [
    "# expansion of agricultural areas (2017 - 1997)\n",
    "ag_areas_diff = land_use_ag.iloc[:, 56] - land_use_ag.iloc[:,36]\n",
    "ag_areas_diff = ag_areas_diff.sort_values(ascending=False)"
   ]
  },
  {
   "cell_type": "code",
   "execution_count": 9,
   "metadata": {},
   "outputs": [
    {
     "data": {
      "text/plain": [
       "Area\n",
       "Argentina       20465.00\n",
       "Indonesia       18773.00\n",
       "Saudi Arabia    14827.00\n",
       "Niger           10600.00\n",
       "Brazil           7906.36\n",
       "dtype: float64"
      ]
     },
     "execution_count": 9,
     "metadata": {},
     "output_type": "execute_result"
    }
   ],
   "source": [
    "# top 5 countries which experienced the biggest expansion of agricultural area\n",
    "ag_areas_diff.head(5)"
   ]
  },
  {
   "cell_type": "code",
   "execution_count": 10,
   "metadata": {},
   "outputs": [
    {
     "data": {
      "text/plain": [
       "<matplotlib.axes._subplots.AxesSubplot at 0x1c1dbf67308>"
      ]
     },
     "execution_count": 10,
     "metadata": {},
     "output_type": "execute_result"
    },
    {
     "data": {
      "image/png": "[encoded data removed]",
      "text/plain": [
       "<Figure size 1080x432 with 1 Axes>"
      ]
     },
     "metadata": {
      "needs_background": "light"
     },
     "output_type": "display_data"
    }
   ],
   "source": [
    "# plot the trend of agricultural areas in the 5 nations\n",
    "land_use_ag.loc[ag_areas_diff[:5].index].T.plot.area(figsize=(15,6))"
   ]
  },
  {
   "cell_type": "code",
   "execution_count": 11,
   "metadata": {},
   "outputs": [],
   "source": [
    "# forest areas (1000 ha) for each country per year\n",
    "land_use_forest = land_use_all[land_use_all.Item == 'Forestry']\n",
    "land_use_forest = land_use_forest[(land_use_forest.Area.isin(FAOSTAT_countries))]\\\n",
    ".groupby([\"Area\", \"Year\"])\\\n",
    ".Value.sum().unstack(\"Year\")"
   ]
  },
  {
   "cell_type": "code",
   "execution_count": 12,
   "metadata": {},
   "outputs": [],
   "source": [
    "# reduction of forest areas (2017 - 1997), minus values mean reduction of forest\n",
    "forest_areas_diff = land_use_forest.iloc[:, 27] - land_use_forest.iloc[:,7]\n",
    "forest_areas_diff = forest_areas_diff.sort_values(ascending=True)"
   ]
  },
  {
   "cell_type": "code",
   "execution_count": 13,
   "metadata": {},
   "outputs": [
    {
     "data": {
      "text/plain": [
       "Area\n",
       "Brazil                        -35365.3\n",
       "Indonesia                     -14139.8\n",
       "Nigeria                        -7373.1\n",
       "Myanmar                        -7132.0\n",
       "United Republic of Tanzania    -7060.0\n",
       "dtype: float64"
      ]
     },
     "execution_count": 13,
     "metadata": {},
     "output_type": "execute_result"
    }
   ],
   "source": [
    "# top 5 countries which experienced the biggest reduction of forest area\n",
    "forest_areas_diff.head()"
   ]
  },
  {
   "cell_type": "code",
   "execution_count": 14,
   "metadata": {},
   "outputs": [
    {
     "data": {
      "text/plain": [
       "<matplotlib.axes._subplots.AxesSubplot at 0x1c1d8c43108>"
      ]
     },
     "execution_count": 14,
     "metadata": {},
     "output_type": "execute_result"
    },
    {
     "data": {
      "image/png": "[encoded data removed]",
      "text/plain": [
       "<Figure size 1080x432 with 1 Axes>"
      ]
     },
     "metadata": {
      "needs_background": "light"
     },
     "output_type": "display_data"
    }
   ],
   "source": [
    "# plot the trend of forest areas in the 5 nations\n",
    "land_use_forest.loc[forest_areas_diff[:5].index].T.plot.area(figsize=(15,6))"
   ]
  },
  {
   "cell_type": "code",
   "execution_count": 15,
   "metadata": {},
   "outputs": [
    {
     "data": {
      "text/html": [
       "<div>\n",
       "<style scoped>\n",
       "    .dataframe tbody tr th:only-of-type {\n",
       "        vertical-align: middle;\n",
       "    }\n",
       "\n",
       "    .dataframe tbody tr th {\n",
       "        vertical-align: top;\n",
       "    }\n",
       "\n",
       "    .dataframe thead th {\n",
       "        text-align: right;\n",
       "    }\n",
       "</style>\n",
       "<table border=\"1\" class=\"dataframe\">\n",
       "  <thead>\n",
       "    <tr style=\"text-align: right;\">\n",
       "      <th></th>\n",
       "      <th>d_ForestArea</th>\n",
       "      <th>d_AgriculturalArea</th>\n",
       "    </tr>\n",
       "  </thead>\n",
       "  <tbody>\n",
       "    <tr>\n",
       "      <td>Argentina</td>\n",
       "      <td>-5627.90</td>\n",
       "      <td>20465.00</td>\n",
       "    </tr>\n",
       "    <tr>\n",
       "      <td>Indonesia</td>\n",
       "      <td>-14139.80</td>\n",
       "      <td>18773.00</td>\n",
       "    </tr>\n",
       "    <tr>\n",
       "      <td>Saudi Arabia</td>\n",
       "      <td>0.00</td>\n",
       "      <td>14827.00</td>\n",
       "    </tr>\n",
       "    <tr>\n",
       "      <td>Niger</td>\n",
       "      <td>-371.10</td>\n",
       "      <td>10600.00</td>\n",
       "    </tr>\n",
       "    <tr>\n",
       "      <td>Brazil</td>\n",
       "      <td>-35365.30</td>\n",
       "      <td>7906.36</td>\n",
       "    </tr>\n",
       "    <tr>\n",
       "      <td>Ethiopia</td>\n",
       "      <td>-1628.70</td>\n",
       "      <td>7048.10</td>\n",
       "    </tr>\n",
       "    <tr>\n",
       "      <td>United Republic of Tanzania</td>\n",
       "      <td>-7060.00</td>\n",
       "      <td>5947.00</td>\n",
       "    </tr>\n",
       "    <tr>\n",
       "      <td>Democratic Republic of the Congo</td>\n",
       "      <td>-5605.20</td>\n",
       "      <td>5828.00</td>\n",
       "    </tr>\n",
       "    <tr>\n",
       "      <td>China:mainland</td>\n",
       "      <td>37278.77</td>\n",
       "      <td>4400.00</td>\n",
       "    </tr>\n",
       "    <tr>\n",
       "      <td>Viet Nam</td>\n",
       "      <td>3755.20</td>\n",
       "      <td>4324.80</td>\n",
       "    </tr>\n",
       "  </tbody>\n",
       "</table>\n",
       "</div>"
      ],
      "text/plain": [
       "                                  d_ForestArea  d_AgriculturalArea\n",
       "Argentina                             -5627.90            20465.00\n",
       "Indonesia                            -14139.80            18773.00\n",
       "Saudi Arabia                              0.00            14827.00\n",
       "Niger                                  -371.10            10600.00\n",
       "Brazil                               -35365.30             7906.36\n",
       "Ethiopia                              -1628.70             7048.10\n",
       "United Republic of Tanzania           -7060.00             5947.00\n",
       "Democratic Republic of the Congo      -5605.20             5828.00\n",
       "China:mainland                        37278.77             4400.00\n",
       "Viet Nam                               3755.20             4324.80"
      ]
     },
     "execution_count": 15,
     "metadata": {},
     "output_type": "execute_result"
    }
   ],
   "source": [
    "# dataframe to compare deforestation and expantion of agricultural area\n",
    "df_concat = pd.concat([forest_areas_diff, ag_areas_diff], axis=1, sort=False)\n",
    "df_concat.columns = ['d_ForestArea','d_AgriculturalArea']\n",
    "\n",
    "df_concat = df_concat.sort_values(by=['d_AgriculturalArea'], ascending=False)\n",
    "df_concat.head(10)"
   ]
  },
  {
   "cell_type": "code",
   "execution_count": 16,
   "metadata": {},
   "outputs": [
    {
     "data": {
      "image/png": "[encoded data removed]",
      "text/plain": [
       "<Figure size 432x288 with 1 Axes>"
      ]
     },
     "metadata": {
      "needs_background": "light"
     },
     "output_type": "display_data"
    }
   ],
   "source": [
    "# create plot to find correlation between deforestation and expansion of agricultural area\n",
    "fig = plt.figure()\n",
    "ax = plt.subplot()\n",
    "plt.scatter(df_concat.d_AgriculturalArea, df_concat.d_ForestArea)\n",
    "plt.axvline(x=0,color='black', linestyle='--')\n",
    "plt.axhline(y=0,color='black', linestyle='--')\n",
    "plt.show()"
   ]
  },
  {
   "cell_type": "code",
   "execution_count": 17,
   "metadata": {},
   "outputs": [
    {
     "data": {
      "text/plain": [
       "d_ForestArea          37278.77\n",
       "d_AgriculturalArea     4400.00\n",
       "Name: China:mainland, dtype: float64"
      ]
     },
     "execution_count": 17,
     "metadata": {},
     "output_type": "execute_result"
    }
   ],
   "source": [
    "# outlier 2: China:mainland\n",
    "df_concat.loc['China:mainland']"
   ]
  },
  {
   "cell_type": "markdown",
   "metadata": {},
   "source": [
    "As explained in part 1, China:mainland enlarges its forest area by its continuous tree planting activity. This seems to draw out the effect of agricultural area expansion. So, we exclude China:mainland from the scattered plot."
   ]
  },
  {
   "cell_type": "code",
   "execution_count": 18,
   "metadata": {},
   "outputs": [
    {
     "data": {
      "text/plain": [
       "(-10000, 5000)"
      ]
     },
     "execution_count": 18,
     "metadata": {},
     "output_type": "execute_result"
    },
    {
     "data": {
      "image/png": "[encoded data removed]",
      "text/plain": [
       "<Figure size 432x288 with 1 Axes>"
      ]
     },
     "metadata": {
      "needs_background": "light"
     },
     "output_type": "display_data"
    }
   ],
   "source": [
    "# reset xrange and yrange so that the outliers are excluded\n",
    "fig = plt.figure()\n",
    "ax = plt.subplot()\n",
    "plt.scatter(df_concat.d_AgriculturalArea, df_concat.d_ForestArea)\n",
    "plt.axvline(x=0,color='k', linestyle='--')\n",
    "plt.axhline(y=0,color='k', linestyle='--')\n",
    "ax.set_xlim(-20000,25000)\n",
    "ax.set_ylim(-10000,5000)"
   ]
  },
  {
   "cell_type": "markdown",
   "metadata": {},
   "source": [
    "> #### Explanation\n",
    "> - We found slightly negative correlation between expansion of agrecultural areas and forest areas. However, the conrrelation is not as stong as we expected.\n",
    "> - Considering only the expantion of agricultural areas is not enough to explain the main causes of deforestation. We need to consider other features such as timber production in the nation and planting activities as well."
   ]
  },
  {
   "cell_type": "markdown",
   "metadata": {},
   "source": [
    "# **Link between yield of agricultural land and deforestation**\n",
    "Here we try to check if agricultural yield can be used useful in classifying the countries in de- and re-foresting ones."
   ]
  },
  {
   "cell_type": "code",
   "execution_count": 19,
   "metadata": {},
   "outputs": [],
   "source": [
    "prod_crops_all = pd.read_csv(\"data/faostat/Production_Crops_E_All_Data_cleared.csv\", engine='python')"
   ]
  },
  {
   "cell_type": "code",
   "execution_count": 20,
   "metadata": {},
   "outputs": [],
   "source": [
    "# top 10 deforested countries (criterion: surface of forest losses)\n",
    "all_countries_forests_area_1990 = land_use_all[land_use_all.Item.str.match('Forestry') &   \n",
    "                                               land_use_all.Element.str.match('Area') &\n",
    "                                               (land_use_all.Year == 1990)]\n",
    "\n",
    "all_countries_forests_area_2017 = land_use_all[land_use_all.Item.str.match('Forestry') &   \n",
    "                                               land_use_all.Element.str.match('Area') &\n",
    "                                               (land_use_all.Year == 2017)]\n",
    "\n",
    "# drop aggregated rows\n",
    "all_countries_forests_area_1990 = all_countries_forests_area_1990[all_countries_forests_area_1990['Area Code'] < 5000]\n",
    "all_countries_forests_area_2017 = all_countries_forests_area_2017[all_countries_forests_area_2017['Area Code'] < 5000]\n",
    "\n",
    "# join dataframes\n",
    "deforestation_1990_2017 = all_countries_forests_area_1990.merge(all_countries_forests_area_2017, \n",
    "                                                                left_on=['Area Code', 'Area'], \n",
    "                                                                right_on=['Area Code', 'Area'])\n",
    "\n",
    "# TODO: check non joint countries because of different names\n",
    "\n",
    "# compute deforested areas\n",
    "deforestation_1990_2017.loc[:, 'Forest land differential'] = deforestation_1990_2017['Value_y'] - deforestation_1990_2017['Value_x']\n",
    "deforestation_1990_2017 = deforestation_1990_2017.loc[:, ['Area', 'Forest land differential']]\\\n",
    "                                                 .sort_values(by=['Forest land differential'], \n",
    "                                                              ascending=False)\n",
    "# TODO: drop China:mainland\n",
    "\n",
    "# extract name of top 10 countries for de- and re-forestation\n",
    "top_10_deforested_countries = deforestation_1990_2017.tail(10).sort_values(by=['Forest land differential']).Area\n",
    "top_10_reforested_countries = deforestation_1990_2017.head(11).Area\n",
    "top_10_reforested_countries = top_10_reforested_countries.drop(38) # drop China:mainland\n",
    "\n",
    "# get time series for those countries\n",
    "top_10_deforested_countries_yearly = land_use_all[land_use_all.Item.str.match('Forestry') &   \n",
    "                                                  land_use_all.Element.str.match('Area') &\n",
    "                                                  land_use_all.Area.isin(top_10_deforested_countries)]\n",
    "top_10_reforested_countries_yearly = land_use_all[land_use_all.Item.str.match('Forestry') &   \n",
    "                                                  land_use_all.Element.str.match('Area') &\n",
    "                                                  land_use_all.Area.isin(top_10_reforested_countries)]"
   ]
  },
  {
   "cell_type": "code",
   "execution_count": 21,
   "metadata": {},
   "outputs": [],
   "source": [
    "# # Correlation between low yield and high deforestation.\n",
    "# # The field 'Yield' in the 'Element' column of the dataframe is computed\n",
    "# # as 'Production' / 'Area Harvested' and measured in hg/ha\n",
    "# def yield_differences_in_top_10s(ITEM, YEAR):\n",
    "#     deforested_values = prod_crops_all.loc[(prod_crops_all.Area.isin(top_10_deforested_countries)) &\n",
    "#                                            (prod_crops_all.Item == ITEM) &\n",
    "#                                            (prod_crops_all.Year == YEAR) &\n",
    "#                                            (prod_crops_all.Element == 'Yield')]\\\n",
    "#                                       .loc[:, ['Value', 'Area']]\n",
    "\n",
    "#     reforested_values = prod_crops_all.loc[(prod_crops_all.Area.isin(top_10_reforested_countries)) &\n",
    "#                                            (prod_crops_all.Item == ITEM) &\n",
    "#                                            (prod_crops_all.Year == YEAR) &\n",
    "#                                            (prod_crops_all.Element == 'Yield')]\\\n",
    "#                                       .loc[:, ['Value', 'Area']]\n",
    "\n",
    "#     reforested_values['Deforested'] = 0\n",
    "#     reforested_values['Color'] = 'royalblue'\n",
    "#     deforested_values['Deforested'] = 1\n",
    "#     deforested_values['Color'] = 'orange'\n",
    "#     all_values = pd.concat([deforested_values, reforested_values], axis=0)\n",
    "#     all_values = all_values.sort_values(by=['Value'])\n",
    "\n",
    "#     # print(ITEM + ' yield:\\n' +\n",
    "#     #       str(deforested_values.Value.mean()) + ' (mean over ' + str(deforested_values.Value.count()) + ' countries in top 10 deforested)\\n' + \n",
    "#     #       str(reforested_values.Value.mean()) + ' (mean over ' + str(reforested_values.Value.count()) + ' countries in top 10 reforested)')\n",
    "\n",
    "#     plt.figure(figsize=(9, 6))\n",
    "#     for country in all_values.Area:\n",
    "#         plt.barh(country, all_values.loc[all_values.Area == country, 'Value'], color=all_values.loc[all_values.Area == country, 'Color'])\n",
    "#     plt.legend(['reforested (== blue)', 'deforested (== orange)'])\n",
    "#     plt.title(ITEM + ' yield in top 10 reforested and deforested countries (year ' + str(YEAR) + ')')\n",
    "#     plt.gca().set_xlabel('Yield [hg/ha]')\n",
    "#     plt.show()"
   ]
  },
  {
   "cell_type": "code",
   "execution_count": 22,
   "metadata": {},
   "outputs": [],
   "source": [
    "# prod_crops_all.Item.unique()"
   ]
  },
  {
   "cell_type": "code",
   "execution_count": 23,
   "metadata": {},
   "outputs": [],
   "source": [
    "# yield_differences_in_top_10s('Cocoa:beans', 2000)\n",
    "# # yield_differences_in_top_10s('Maize', 2000)"
   ]
  },
  {
   "cell_type": "markdown",
   "metadata": {},
   "source": [
    "> #### ***Explanation***\n",
    "> Countries that **increased their forest land** (USA, Chine, Thailand, France, Spain...) have usually a much **bigger yield**. Yield is computed as production over area harvested and it is than measured in hg/ha. This can be interpreted as: **better productivity means less need of agriculture land** to product the same quantity, alleviating the need of new lands to cultivate. Anyway **this conclusion is weak** since the clear correlation exibithed in the previous plots can be explained also by a more general cause: deforesting countries are on average less rich than the ones that increase tree coverage; **richer countries have access to better agricultural practices** that increase productivity (e.g. check for India, developing country, which has low productivity scores).\n",
    ">\n",
    "> (TODO: fix problem with the legend for the data story!)"
   ]
  },
  {
   "cell_type": "markdown",
   "metadata": {},
   "source": [
    "# **Clustering of the countries based on agricultural production share**\n",
    "In this section we want to **understand if the deforesting countries have similar agriculture styles**. A matrix containing countries (as rows) and **shares in agricultural production** of each type of product (each item is a column) is used as a representation of different agriculture styles.\n",
    "\n",
    "+ **PCA** is used to classify the countries based on their agricultural production in a 2D space **without satisfactory results**. \n",
    "+ A better **graph representation on map** is presented, computing the (cosine) distance between countries in the agriculture shares space. **More intuitive** interpretation is possible is this case."
   ]
  },
  {
   "cell_type": "code",
   "execution_count": 28,
   "metadata": {},
   "outputs": [],
   "source": [
    "# compute the share of each agriculture item for every country, selected year\n",
    "YEAR = 2015\n",
    "\n",
    "countries_production_total = prod_crops_all.loc[(prod_crops_all.Element == 'Production')]\\\n",
    "                                           .groupby(['Area', 'Year'])\\\n",
    "                                           .sum()\\\n",
    "                                           .rename({'Value': 'Total Yearly Production'}, axis='columns')\\\n",
    "                                           .loc[:, 'Total Yearly Production']\n",
    "\n",
    "countries_production_shares = prod_crops_all.loc[(prod_crops_all.Element == 'Production')]\\\n",
    "                                            .merge(countries_production_total, right_index=True, left_on=['Area', 'Year'])\n",
    "\n",
    "countries_production_shares['Yearly Share'] = 100 * countries_production_shares['Value'] / countries_production_shares['Total Yearly Production']\n",
    "\n",
    "# remove aggregated areas\n",
    "countries_production_shares = countries_production_shares.loc[countries_production_shares['Area Code'] < 5000]\n",
    "\n",
    "# select a single year\n",
    "shares_single_year = countries_production_shares.loc[countries_production_shares.Year == YEAR]"
   ]
  },
  {
   "cell_type": "code",
   "execution_count": 27,
   "metadata": {},
   "outputs": [],
   "source": [
    "# load agricultural share matrix from file\n",
    "production_shares_matrix = pd.read_pickle(\"./production_shares_matrix.pkl\")"
   ]
  },
  {
   "cell_type": "code",
   "execution_count": 28,
   "metadata": {},
   "outputs": [
    {
     "data": {
      "text/html": [
       "<div>\n",
       "<style scoped>\n",
       "    .dataframe tbody tr th:only-of-type {\n",
       "        vertical-align: middle;\n",
       "    }\n",
       "\n",
       "    .dataframe tbody tr th {\n",
       "        vertical-align: top;\n",
       "    }\n",
       "\n",
       "    .dataframe thead th {\n",
       "        text-align: right;\n",
       "    }\n",
       "</style>\n",
       "<table border=\"1\" class=\"dataframe\">\n",
       "  <thead>\n",
       "    <tr style=\"text-align: right;\">\n",
       "      <th></th>\n",
       "      <th>Area Code</th>\n",
       "      <th>Area</th>\n",
       "      <th>Item Code</th>\n",
       "      <th>Item</th>\n",
       "      <th>Element Code</th>\n",
       "      <th>Element</th>\n",
       "      <th>Year Code</th>\n",
       "      <th>Year</th>\n",
       "      <th>Unit</th>\n",
       "      <th>Value</th>\n",
       "      <th>Flag</th>\n",
       "    </tr>\n",
       "  </thead>\n",
       "  <tbody>\n",
       "    <tr>\n",
       "      <td>186889</td>\n",
       "      <td>21</td>\n",
       "      <td>Brazil</td>\n",
       "      <td>515</td>\n",
       "      <td>Apples</td>\n",
       "      <td>5510</td>\n",
       "      <td>Production</td>\n",
       "      <td>2015</td>\n",
       "      <td>2015</td>\n",
       "      <td>tonnes</td>\n",
       "      <td>1264651.0</td>\n",
       "      <td>NaN</td>\n",
       "    </tr>\n",
       "    <tr>\n",
       "      <td>187060</td>\n",
       "      <td>21</td>\n",
       "      <td>Brazil</td>\n",
       "      <td>572</td>\n",
       "      <td>Avocados</td>\n",
       "      <td>5510</td>\n",
       "      <td>Production</td>\n",
       "      <td>2015</td>\n",
       "      <td>2015</td>\n",
       "      <td>tonnes</td>\n",
       "      <td>180652.0</td>\n",
       "      <td>NaN</td>\n",
       "    </tr>\n",
       "    <tr>\n",
       "      <td>187231</td>\n",
       "      <td>21</td>\n",
       "      <td>Brazil</td>\n",
       "      <td>486</td>\n",
       "      <td>Bananas</td>\n",
       "      <td>5510</td>\n",
       "      <td>Production</td>\n",
       "      <td>2015</td>\n",
       "      <td>2015</td>\n",
       "      <td>tonnes</td>\n",
       "      <td>6859227.0</td>\n",
       "      <td>NaN</td>\n",
       "    </tr>\n",
       "    <tr>\n",
       "      <td>187402</td>\n",
       "      <td>21</td>\n",
       "      <td>Brazil</td>\n",
       "      <td>44</td>\n",
       "      <td>Barley</td>\n",
       "      <td>5510</td>\n",
       "      <td>Production</td>\n",
       "      <td>2015</td>\n",
       "      <td>2015</td>\n",
       "      <td>tonnes</td>\n",
       "      <td>186285.0</td>\n",
       "      <td>NaN</td>\n",
       "    </tr>\n",
       "    <tr>\n",
       "      <td>187573</td>\n",
       "      <td>21</td>\n",
       "      <td>Brazil</td>\n",
       "      <td>782</td>\n",
       "      <td>Bastfibres:other</td>\n",
       "      <td>5510</td>\n",
       "      <td>Production</td>\n",
       "      <td>2015</td>\n",
       "      <td>2015</td>\n",
       "      <td>tonnes</td>\n",
       "      <td>4917.0</td>\n",
       "      <td>NaN</td>\n",
       "    </tr>\n",
       "  </tbody>\n",
       "</table>\n",
       "</div>"
      ],
      "text/plain": [
       "        Area Code    Area  Item Code              Item  Element Code  \\\n",
       "186889         21  Brazil        515            Apples          5510   \n",
       "187060         21  Brazil        572          Avocados          5510   \n",
       "187231         21  Brazil        486           Bananas          5510   \n",
       "187402         21  Brazil         44            Barley          5510   \n",
       "187573         21  Brazil        782  Bastfibres:other          5510   \n",
       "\n",
       "           Element  Year Code  Year    Unit      Value Flag  \n",
       "186889  Production       2015  2015  tonnes  1264651.0  NaN  \n",
       "187060  Production       2015  2015  tonnes   180652.0  NaN  \n",
       "187231  Production       2015  2015  tonnes  6859227.0  NaN  \n",
       "187402  Production       2015  2015  tonnes   186285.0  NaN  \n",
       "187573  Production       2015  2015  tonnes     4917.0  NaN  "
      ]
     },
     "execution_count": 28,
     "metadata": {},
     "output_type": "execute_result"
    }
   ],
   "source": [
    "# Products for single country\n",
    "COUNTRY = 'Brazil'\n",
    "prod_crops_all.loc[(prod_crops_all.Element == 'Production') & \n",
    "                   (prod_crops_all.Area == COUNTRY) &\n",
    "                   (prod_crops_all.Year == 2015)].head(5)"
   ]
  },
  {
   "cell_type": "code",
   "execution_count": 31,
   "metadata": {},
   "outputs": [
    {
     "data": {
      "text/plain": [
       "Sugar cane                   52.0123\n",
       "Cereals:Total                7.35018\n",
       "Cereals (Rice Milled Eqv)    7.06621\n",
       "Soybeans                     6.75655\n",
       "Coarse Grain:Total           6.11556\n",
       "Maize                        5.91207\n",
       "Fruit Primary                2.76743\n",
       "Roots and Tubers:Total       1.92525\n",
       "Cassava                      1.59857\n",
       "Citrus Fruit:Total           1.33102\n",
       "Oranges                       1.1743\n",
       "Name: Share, dtype: object"
      ]
     },
     "execution_count": 31,
     "metadata": {},
     "output_type": "execute_result"
    }
   ],
   "source": [
    "# Production share for single country\n",
    "COUNTRY = 'Brazil'    # 'United States of America'\n",
    "country_shares = production_shares_matrix[production_shares_matrix.index == COUNTRY].values[0]\n",
    "country_shares_df = pd.DataFrame(country_shares, columns=['Share'], index=production_shares_matrix.columns)\n",
    "country_shares_df.loc[country_shares_df.Share > 1, 'Share'].sort_values(ascending=False)"
   ]
  },
  {
   "cell_type": "code",
   "execution_count": 33,
   "metadata": {
    "scrolled": true
   },
   "outputs": [
    {
     "data": {
      "text/html": [
       "<div>\n",
       "<style scoped>\n",
       "    .dataframe tbody tr th:only-of-type {\n",
       "        vertical-align: middle;\n",
       "    }\n",
       "\n",
       "    .dataframe tbody tr th {\n",
       "        vertical-align: top;\n",
       "    }\n",
       "\n",
       "    .dataframe thead th {\n",
       "        text-align: right;\n",
       "    }\n",
       "</style>\n",
       "<table border=\"1\" class=\"dataframe\">\n",
       "  <thead>\n",
       "    <tr style=\"text-align: right;\">\n",
       "      <th></th>\n",
       "      <th>Almonds:with shell</th>\n",
       "      <th>Anise:badian:fennel:coriander</th>\n",
       "      <th>Apples</th>\n",
       "      <th>Apricots</th>\n",
       "    </tr>\n",
       "  </thead>\n",
       "  <tbody>\n",
       "    <tr>\n",
       "      <td>Afghanistan</td>\n",
       "      <td>0.0976835</td>\n",
       "      <td>0.0725193</td>\n",
       "      <td>0.361521</td>\n",
       "      <td>0.353274</td>\n",
       "    </tr>\n",
       "    <tr>\n",
       "      <td>Albania</td>\n",
       "      <td>0</td>\n",
       "      <td>0</td>\n",
       "      <td>1.45978</td>\n",
       "      <td>0.0802803</td>\n",
       "    </tr>\n",
       "    <tr>\n",
       "      <td>Algeria</td>\n",
       "      <td>0.157873</td>\n",
       "      <td>0</td>\n",
       "      <td>0.931925</td>\n",
       "      <td>0.605811</td>\n",
       "    </tr>\n",
       "    <tr>\n",
       "      <td>American Samoa</td>\n",
       "      <td>0</td>\n",
       "      <td>0</td>\n",
       "      <td>0</td>\n",
       "      <td>0</td>\n",
       "    </tr>\n",
       "  </tbody>\n",
       "</table>\n",
       "</div>"
      ],
      "text/plain": [
       "               Almonds:with shell Anise:badian:fennel:coriander    Apples  \\\n",
       "Afghanistan             0.0976835                     0.0725193  0.361521   \n",
       "Albania                         0                             0   1.45978   \n",
       "Algeria                  0.157873                             0  0.931925   \n",
       "American Samoa                  0                             0         0   \n",
       "\n",
       "                 Apricots  \n",
       "Afghanistan      0.353274  \n",
       "Albania         0.0802803  \n",
       "Algeria          0.605811  \n",
       "American Samoa          0  "
      ]
     },
     "execution_count": 33,
     "metadata": {},
     "output_type": "execute_result"
    }
   ],
   "source": [
    "# show a sample of the matrix used for clustring\n",
    "production_shares_matrix.iloc[0:4, 0:4]"
   ]
  },
  {
   "cell_type": "code",
   "execution_count": 34,
   "metadata": {
    "scrolled": false
   },
   "outputs": [],
   "source": [
    "# distance between two countries in agricultural share space\n",
    "def compute_distance(country_1, country_2):\n",
    "    country_1_agricultural_share = np.array(production_shares_matrix.loc[country_1, :].values)\n",
    "    country_2_agricultural_share = np.array(production_shares_matrix.loc[country_2, :].values)\n",
    "    cosine_similarity = np.dot(country_1_agricultural_share, country_2_agricultural_share) / \\\n",
    "                        (np.linalg.norm(country_1_agricultural_share) * np.linalg.norm(country_2_agricultural_share))\n",
    "    return 1 - cosine_similarity"
   ]
  },
  {
   "cell_type": "code",
   "execution_count": 35,
   "metadata": {},
   "outputs": [],
   "source": [
    "# compute (cosine) distance matrix between top 10 re- and de-forested\n",
    "distance_matrix = np.zeros((20, 20))\n",
    "the_20_countries = top_10_reforested_countries.append(top_10_deforested_countries)\n",
    "for i, country_1 in enumerate(the_20_countries):\n",
    "    for j, country_2 in enumerate(the_20_countries):\n",
    "        distance_matrix[i, j] = compute_distance(country_1, country_2)\n",
    "distances = pd.DataFrame(data=distance_matrix,\n",
    "                         index=the_20_countries,\n",
    "                         columns=the_20_countries)\n",
    "# set 0 on diagonal (sometimes is 2e-16)\n",
    "for i in range(20):\n",
    "    distances.iloc[i, i] = 0"
   ]
  },
  {
   "cell_type": "code",
   "execution_count": 36,
   "metadata": {},
   "outputs": [],
   "source": [
    "# graph plot setup:\n",
    "# - baricenters of countries\n",
    "# - colors\n",
    "# - sizes of bubbles\n",
    "\n",
    "# baricenters of countries, used for plotting the graph\n",
    "countries_centers = pd.DataFrame([['China', 35.86166, 104.195397], \n",
    "                                  ['United States of America', 37.09024, -95.712891],\n",
    "                                  ['India', 20.593684, 78.96288],\n",
    "                                  ['Viet Nam', 14.058324, 108.277199], \n",
    "                                  ['Spain', 40.463667, -3.74922],\n",
    "                                  ['France', 46.227638, 2.213749], \n",
    "                                  ['Chile', -35.675147, -71.542969],\n",
    "                                  ['Thailand', 15.870032, 100.992541], \n",
    "                                  ['Turkey', 38.963745, 35.243322],\n",
    "                                  ['Italy', 41.87194, 12.56738], \n",
    "                                  ['Brazil', -14.235004, -51.92528], \n",
    "                                  ['Indonesia', -0.789275, 113.921327],\n",
    "                                  ['Nigeria', 9.081999, 8.675277],\n",
    "                                  ['Myanmar', 21.913965, 95.956223], \n",
    "                                  ['United Republic of Tanzania', -6.369028, 34.888822],\n",
    "                                  ['Zimbabwe', -19.015438, 29.154857], \n",
    "                                  ['Bolivia (Plurinational State of)', -16.290154, -63.588653],\n",
    "                                  ['Democratic Republic of the Congo', -4.038333, 21.758664], \n",
    "                                  ['Argentina', -38.416097, -63.616672],\n",
    "                                  ['Colombia', 4.570868, -74.297333]],\n",
    "                                 columns=['Area', 'Latitude', 'Longitude'])\n",
    "countries_centers = countries_centers.set_index('Area')\n",
    "\n",
    "# colors\n",
    "reforested_color = '#1f77b4'\n",
    "deforested_color = '#ff7f0e'\n",
    "colors = []\n",
    "for i in range(10):\n",
    "    colors.append(reforested_color)\n",
    "for i in range(10):\n",
    "    colors.append(deforested_color)\n",
    "\n",
    "# extract forest land differential and use it to define the scale of the bubbles\n",
    "top_10_reforested_sizes = deforestation_1990_2017.head(11)\\\n",
    "                                                 .drop(38)\\\n",
    "                                                 .loc[:, 'Forest land differential']\\\n",
    "                                                 .tolist()\n",
    "top_10_deforested_sizes = deforestation_1990_2017.tail(10)\\\n",
    "                                                 .sort_values(by=['Forest land differential'])\\\n",
    "                                                 .loc[:, 'Forest land differential']\\\n",
    "                                                 .tolist()\n",
    "top_10_deforested_sizes = np.abs(top_10_deforested_sizes).tolist()  # differentials for deforested are negative\n",
    "\n",
    "# rescale using \n",
    "sizes = top_10_reforested_sizes + top_10_deforested_sizes\n",
    "sizes = np.array(sizes) / np.max(sizes)\n",
    "sizes = np.log(sizes + 1)\n",
    "\n",
    "# final absolute scale to match plotly parameters\n",
    "scale = 50\n",
    "for i in range(len(sizes)):\n",
    "    sizes[i] = sizes[i] * scale"
   ]
  },
  {
   "cell_type": "code",
   "execution_count": 48,
   "metadata": {
    "scrolled": false
   },
   "outputs": [
    {
     "data": {
      "application/vnd.plotly.v1+json": {
       "config": {
        "plotlyServerURL": "https://plot.ly"
       },
       "data": [
        {
         "hoverinfo": "text",
         "lat": [
          35.86166
         ],
         "lon": [
          104.195397
         ],
         "marker": {
          "color": "#1f77b4",
          "line": {
           "color": "rgba(68, 68, 68, 0)",
           "width": 3
          },
          "opacity": 1,
          "size": 33.714534447160574
         },
         "mode": "markers",
         "name": "",
         "showlegend": false,
         "text": "China",
         "type": "scattergeo"
        },
        {
         "hoverinfo": "text",
         "lat": [
          37.09024
         ],
         "lon": [
          -95.712891
         ],
         "marker": {
          "color": "#1f77b4",
          "line": {
           "color": "rgba(68, 68, 68, 0)",
           "width": 3
          },
          "opacity": 1,
          "size": 6.717461739448861
         },
         "mode": "markers",
         "name": "",
         "showlegend": false,
         "text": "United States of America",
         "type": "scattergeo"
        },
        {
         "hoverinfo": "text",
         "lat": [
          20.593684
         ],
         "lon": [
          78.96288
         ],
         "marker": {
          "color": "#1f77b4",
          "line": {
           "color": "rgba(68, 68, 68, 0)",
           "width": 3
          },
          "opacity": 1,
          "size": 5.970276648311063
         },
         "mode": "markers",
         "name": "",
         "showlegend": false,
         "text": "India",
         "type": "scattergeo"
        },
        {
         "hoverinfo": "text",
         "lat": [
          14.058324
         ],
         "lon": [
          108.277199
         ],
         "marker": {
          "color": "#1f77b4",
          "line": {
           "color": "rgba(68, 68, 68, 0)",
           "width": 3
          },
          "opacity": 1,
          "size": 4.845211247042075
         },
         "mode": "markers",
         "name": "",
         "showlegend": false,
         "text": "Viet Nam",
         "type": "scattergeo"
        },
        {
         "hoverinfo": "text",
         "lat": [
          40.463667
         ],
         "lon": [
          -3.74922
         ],
         "marker": {
          "color": "#1f77b4",
          "line": {
           "color": "rgba(68, 68, 68, 0)",
           "width": 3
          },
          "opacity": 1,
          "size": 4.156241512424634
         },
         "mode": "markers",
         "name": "",
         "showlegend": false,
         "text": "Spain",
         "type": "scattergeo"
        },
        {
         "hoverinfo": "text",
         "lat": [
          46.227638
         ],
         "lon": [
          2.213749
         ],
         "marker": {
          "color": "#1f77b4",
          "line": {
           "color": "rgba(68, 68, 68, 0)",
           "width": 3
          },
          "opacity": 1,
          "size": 2.3450622890996353
         },
         "mode": "markers",
         "name": "",
         "showlegend": false,
         "text": "France",
         "type": "scattergeo"
        },
        {
         "hoverinfo": "text",
         "lat": [
          -35.675147
         ],
         "lon": [
          -71.542969
         ],
         "marker": {
          "color": "#1f77b4",
          "line": {
           "color": "rgba(68, 68, 68, 0)",
           "width": 3
          },
          "opacity": 1,
          "size": 2.272324554129759
         },
         "mode": "markers",
         "name": "",
         "showlegend": false,
         "text": "Chile",
         "type": "scattergeo"
        },
        {
         "hoverinfo": "text",
         "lat": [
          15.870032
         ],
         "lon": [
          100.992541
         ],
         "marker": {
          "color": "#1f77b4",
          "line": {
           "color": "rgba(68, 68, 68, 0)",
           "width": 3
          },
          "opacity": 1,
          "size": 2.202180657733695
         },
         "mode": "markers",
         "name": "",
         "showlegend": false,
         "text": "Thailand",
         "type": "scattergeo"
        },
        {
         "hoverinfo": "text",
         "lat": [
          38.963745
         ],
         "lon": [
          35.243322
         ],
         "marker": {
          "color": "#1f77b4",
          "line": {
           "color": "rgba(68, 68, 68, 0)",
           "width": 3
          },
          "opacity": 1,
          "size": 1.9305708182829067
         },
         "mode": "markers",
         "name": "",
         "showlegend": false,
         "text": "Turkey",
         "type": "scattergeo"
        },
        {
         "hoverinfo": "text",
         "lat": [
          41.87194
         ],
         "lon": [
          12.56738
         ],
         "marker": {
          "color": "#1f77b4",
          "line": {
           "color": "rgba(68, 68, 68, 0)",
           "width": 3
          },
          "opacity": 1,
          "size": 1.5800872432526905
         },
         "mode": "markers",
         "name": "",
         "showlegend": false,
         "text": "Italy",
         "type": "scattergeo"
        },
        {
         "hoverinfo": "text",
         "lat": [
          -14.235004
         ],
         "lon": [
          -51.92528
         ],
         "marker": {
          "color": "#ff7f0e",
          "line": {
           "color": "rgba(68, 68, 68, 0)",
           "width": 3
          },
          "opacity": 1,
          "size": 34.657359027997266
         },
         "mode": "markers",
         "name": "",
         "showlegend": false,
         "text": "Brazil",
         "type": "scattergeo"
        },
        {
         "hoverinfo": "text",
         "lat": [
          -0.789275
         ],
         "lon": [
          113.921327
         ],
         "marker": {
          "color": "#ff7f0e",
          "line": {
           "color": "rgba(68, 68, 68, 0)",
           "width": 3
          },
          "opacity": 1,
          "size": 20.86627274933267
         },
         "mode": "markers",
         "name": "",
         "showlegend": false,
         "text": "Indonesia",
         "type": "scattergeo"
        },
        {
         "hoverinfo": "text",
         "lat": [
          9.081999
         ],
         "lon": [
          8.675277
         ],
         "marker": {
          "color": "#ff7f0e",
          "line": {
           "color": "rgba(68, 68, 68, 0)",
           "width": 3
          },
          "opacity": 1,
          "size": 8.807606665923352
         },
         "mode": "markers",
         "name": "",
         "showlegend": false,
         "text": "Nigeria",
         "type": "scattergeo"
        },
        {
         "hoverinfo": "text",
         "lat": [
          21.913965
         ],
         "lon": [
          95.956223
         ],
         "marker": {
          "color": "#ff7f0e",
          "line": {
           "color": "rgba(68, 68, 68, 0)",
           "width": 3
          },
          "opacity": 1,
          "size": 8.757114361708124
         },
         "mode": "markers",
         "name": "",
         "showlegend": false,
         "text": "Myanmar",
         "type": "scattergeo"
        },
        {
         "hoverinfo": "text",
         "lat": [
          -6.369028
         ],
         "lon": [
          34.888822
         ],
         "marker": {
          "color": "#ff7f0e",
          "line": {
           "color": "rgba(68, 68, 68, 0)",
           "width": 3
          },
          "opacity": 1,
          "size": 8.506265143999391
         },
         "mode": "markers",
         "name": "",
         "showlegend": false,
         "text": "United Republic of Tanzania",
         "type": "scattergeo"
        },
        {
         "hoverinfo": "text",
         "lat": [
          -19.015438
         ],
         "lon": [
          29.154857
         ],
         "marker": {
          "color": "#ff7f0e",
          "line": {
           "color": "rgba(68, 68, 68, 0)",
           "width": 3
          },
          "opacity": 1,
          "size": 7.091805113675916
         },
         "mode": "markers",
         "name": "",
         "showlegend": false,
         "text": "Zimbabwe",
         "type": "scattergeo"
        },
        {
         "hoverinfo": "text",
         "lat": [
          -16.290154
         ],
         "lon": [
          -63.588653
         ],
         "marker": {
          "color": "#ff7f0e",
          "line": {
           "color": "rgba(68, 68, 68, 0)",
           "width": 3
          },
          "opacity": 1,
          "size": 7.033830305805592
         },
         "mode": "markers",
         "name": "",
         "showlegend": false,
         "text": "Bolivia (Plurinational State of)",
         "type": "scattergeo"
        },
        {
         "hoverinfo": "text",
         "lat": [
          -4.038333
         ],
         "lon": [
          21.758664
         ],
         "marker": {
          "color": "#ff7f0e",
          "line": {
           "color": "rgba(68, 68, 68, 0)",
           "width": 3
          },
          "opacity": 1,
          "size": 6.832438302054809
         },
         "mode": "markers",
         "name": "",
         "showlegend": false,
         "text": "Democratic Republic of the Congo",
         "type": "scattergeo"
        },
        {
         "hoverinfo": "text",
         "lat": [
          -38.416097
         ],
         "lon": [
          -63.616672
         ],
         "marker": {
          "color": "#ff7f0e",
          "line": {
           "color": "rgba(68, 68, 68, 0)",
           "width": 3
          },
          "opacity": 1,
          "size": 6.747052402814578
         },
         "mode": "markers",
         "name": "",
         "showlegend": false,
         "text": "Argentina",
         "type": "scattergeo"
        },
        {
         "hoverinfo": "text",
         "lat": [
          4.570868
         ],
         "lon": [
          -74.297333
         ],
         "marker": {
          "color": "#ff7f0e",
          "line": {
           "color": "rgba(68, 68, 68, 0)",
           "width": 3
          },
          "opacity": 1,
          "size": 5.274640350895481
         },
         "mode": "markers",
         "name": "",
         "showlegend": false,
         "text": "Colombia",
         "type": "scattergeo"
        },
        {
         "lat": [
          35.86166,
          14.058324
         ],
         "line": {
          "color": "#1f77b4",
          "width": 1.6906167817364262
         },
         "lon": [
          104.195397,
          108.277199
         ],
         "mode": "lines",
         "name": "",
         "opacity": 0.4,
         "showlegend": false,
         "type": "scattergeo"
        },
        {
         "lat": [
          35.86166,
          40.463667
         ],
         "line": {
          "color": "#1f77b4",
          "width": 2.1099374138481477
         },
         "lon": [
          104.195397,
          -3.74922
         ],
         "mode": "lines",
         "name": "",
         "opacity": 0.4,
         "showlegend": false,
         "type": "scattergeo"
        },
        {
         "lat": [
          35.86166,
          38.963745
         ],
         "line": {
          "color": "#1f77b4",
          "width": 2.5588345943712283
         },
         "lon": [
          104.195397,
          35.243322
         ],
         "mode": "lines",
         "name": "",
         "opacity": 0.4,
         "showlegend": false,
         "type": "scattergeo"
        },
        {
         "lat": [
          35.86166,
          41.87194
         ],
         "line": {
          "color": "#1f77b4",
          "width": 2.5945120576945593
         },
         "lon": [
          104.195397,
          12.56738
         ],
         "mode": "lines",
         "name": "",
         "opacity": 0.4,
         "showlegend": false,
         "type": "scattergeo"
        },
        {
         "lat": [
          37.09024,
          46.227638
         ],
         "line": {
          "color": "#1f77b4",
          "width": 1.8632047548447073
         },
         "lon": [
          -95.712891,
          2.213749
         ],
         "mode": "lines",
         "name": "",
         "opacity": 0.4,
         "showlegend": false,
         "type": "scattergeo"
        },
        {
         "lat": [
          37.09024,
          -38.416097
         ],
         "line": {
          "color": "rgb(86, 101, 115)",
          "width": 2.772680364763197
         },
         "lon": [
          -95.712891,
          -63.616672
         ],
         "mode": "lines",
         "name": "",
         "opacity": 0.2,
         "showlegend": false,
         "type": "scattergeo"
        },
        {
         "lat": [
          20.593684,
          14.058324
         ],
         "line": {
          "color": "#1f77b4",
          "width": 1.87042814146055
         },
         "lon": [
          78.96288,
          108.277199
         ],
         "mode": "lines",
         "name": "",
         "opacity": 0.4,
         "showlegend": false,
         "type": "scattergeo"
        },
        {
         "lat": [
          20.593684,
          15.870032
         ],
         "line": {
          "color": "#1f77b4",
          "width": 1.912253815082728
         },
         "lon": [
          78.96288,
          100.992541
         ],
         "mode": "lines",
         "name": "",
         "opacity": 0.4,
         "showlegend": false,
         "type": "scattergeo"
        },
        {
         "lat": [
          20.593684,
          21.913965
         ],
         "line": {
          "color": "rgb(86, 101, 115)",
          "width": 1.699026657158856
         },
         "lon": [
          78.96288,
          95.956223
         ],
         "mode": "lines",
         "name": "",
         "opacity": 0.2,
         "showlegend": false,
         "type": "scattergeo"
        },
        {
         "lat": [
          20.593684,
          -19.015438
         ],
         "line": {
          "color": "rgb(86, 101, 115)",
          "width": 1.6768265488326444
         },
         "lon": [
          78.96288,
          29.154857
         ],
         "mode": "lines",
         "name": "",
         "opacity": 0.2,
         "showlegend": false,
         "type": "scattergeo"
        },
        {
         "lat": [
          20.593684,
          -16.290154
         ],
         "line": {
          "color": "rgb(86, 101, 115)",
          "width": 2.009332184637812
         },
         "lon": [
          78.96288,
          -63.588653
         ],
         "mode": "lines",
         "name": "",
         "opacity": 0.2,
         "showlegend": false,
         "type": "scattergeo"
        },
        {
         "lat": [
          14.058324,
          35.86166
         ],
         "line": {
          "color": "#1f77b4",
          "width": 1.6906167817364262
         },
         "lon": [
          108.277199,
          104.195397
         ],
         "mode": "lines",
         "name": "",
         "opacity": 0.4,
         "showlegend": false,
         "type": "scattergeo"
        },
        {
         "lat": [
          14.058324,
          20.593684
         ],
         "line": {
          "color": "#1f77b4",
          "width": 1.87042814146055
         },
         "lon": [
          108.277199,
          78.96288
         ],
         "mode": "lines",
         "name": "",
         "opacity": 0.4,
         "showlegend": false,
         "type": "scattergeo"
        },
        {
         "lat": [
          14.058324,
          21.913965
         ],
         "line": {
          "color": "rgb(86, 101, 115)",
          "width": 7.611286836889073
         },
         "lon": [
          108.277199,
          95.956223
         ],
         "mode": "lines",
         "name": "",
         "opacity": 0.2,
         "showlegend": false,
         "type": "scattergeo"
        },
        {
         "lat": [
          40.463667,
          35.86166
         ],
         "line": {
          "color": "#1f77b4",
          "width": 2.1099374138481477
         },
         "lon": [
          -3.74922,
          104.195397
         ],
         "mode": "lines",
         "name": "",
         "opacity": 0.4,
         "showlegend": false,
         "type": "scattergeo"
        },
        {
         "lat": [
          40.463667,
          -35.675147
         ],
         "line": {
          "color": "#1f77b4",
          "width": 2.9355426752857503
         },
         "lon": [
          -3.74922,
          -71.542969
         ],
         "mode": "lines",
         "name": "",
         "opacity": 0.4,
         "showlegend": false,
         "type": "scattergeo"
        },
        {
         "lat": [
          40.463667,
          38.963745
         ],
         "line": {
          "color": "#1f77b4",
          "width": 3.9902114224516754
         },
         "lon": [
          -3.74922,
          35.243322
         ],
         "mode": "lines",
         "name": "",
         "opacity": 0.4,
         "showlegend": false,
         "type": "scattergeo"
        },
        {
         "lat": [
          40.463667,
          41.87194
         ],
         "line": {
          "color": "#1f77b4",
          "width": 8.570817651563258
         },
         "lon": [
          -3.74922,
          12.56738
         ],
         "mode": "lines",
         "name": "",
         "opacity": 0.4,
         "showlegend": false,
         "type": "scattergeo"
        },
        {
         "lat": [
          46.227638,
          37.09024
         ],
         "line": {
          "color": "#1f77b4",
          "width": 1.8632047548447073
         },
         "lon": [
          2.213749,
          -95.712891
         ],
         "mode": "lines",
         "name": "",
         "opacity": 0.4,
         "showlegend": false,
         "type": "scattergeo"
        },
        {
         "lat": [
          46.227638,
          38.963745
         ],
         "line": {
          "color": "#1f77b4",
          "width": 3.3760899756497595
         },
         "lon": [
          2.213749,
          35.243322
         ],
         "mode": "lines",
         "name": "",
         "opacity": 0.4,
         "showlegend": false,
         "type": "scattergeo"
        },
        {
         "lat": [
          -35.675147,
          40.463667
         ],
         "line": {
          "color": "#1f77b4",
          "width": 2.9355426752857503
         },
         "lon": [
          -71.542969,
          -3.74922
         ],
         "mode": "lines",
         "name": "",
         "opacity": 0.4,
         "showlegend": false,
         "type": "scattergeo"
        },
        {
         "lat": [
          -35.675147,
          38.963745
         ],
         "line": {
          "color": "#1f77b4",
          "width": 1.8801959157972898
         },
         "lon": [
          -71.542969,
          35.243322
         ],
         "mode": "lines",
         "name": "",
         "opacity": 0.4,
         "showlegend": false,
         "type": "scattergeo"
        },
        {
         "lat": [
          -35.675147,
          41.87194
         ],
         "line": {
          "color": "#1f77b4",
          "width": 4.77428639943944
         },
         "lon": [
          -71.542969,
          12.56738
         ],
         "mode": "lines",
         "name": "",
         "opacity": 0.4,
         "showlegend": false,
         "type": "scattergeo"
        },
        {
         "lat": [
          15.870032,
          20.593684
         ],
         "line": {
          "color": "#1f77b4",
          "width": 1.912253815082728
         },
         "lon": [
          100.992541,
          78.96288
         ],
         "mode": "lines",
         "name": "",
         "opacity": 0.4,
         "showlegend": false,
         "type": "scattergeo"
        },
        {
         "lat": [
          15.870032,
          -14.235004
         ],
         "line": {
          "color": "rgb(86, 101, 115)",
          "width": 2.3236680609092133
         },
         "lon": [
          100.992541,
          -51.92528
         ],
         "mode": "lines",
         "name": "",
         "opacity": 0.2,
         "showlegend": false,
         "type": "scattergeo"
        },
        {
         "lat": [
          15.870032,
          -19.015438
         ],
         "line": {
          "color": "rgb(86, 101, 115)",
          "width": 2.7516446169403634
         },
         "lon": [
          100.992541,
          29.154857
         ],
         "mode": "lines",
         "name": "",
         "opacity": 0.2,
         "showlegend": false,
         "type": "scattergeo"
        },
        {
         "lat": [
          15.870032,
          -16.290154
         ],
         "line": {
          "color": "rgb(86, 101, 115)",
          "width": 1.9204428499357444
         },
         "lon": [
          100.992541,
          -63.588653
         ],
         "mode": "lines",
         "name": "",
         "opacity": 0.2,
         "showlegend": false,
         "type": "scattergeo"
        },
        {
         "lat": [
          15.870032,
          4.570868
         ],
         "line": {
          "color": "rgb(86, 101, 115)",
          "width": 2.5378564205881737
         },
         "lon": [
          100.992541,
          -74.297333
         ],
         "mode": "lines",
         "name": "",
         "opacity": 0.2,
         "showlegend": false,
         "type": "scattergeo"
        },
        {
         "lat": [
          38.963745,
          35.86166
         ],
         "line": {
          "color": "#1f77b4",
          "width": 2.5588345943712283
         },
         "lon": [
          35.243322,
          104.195397
         ],
         "mode": "lines",
         "name": "",
         "opacity": 0.4,
         "showlegend": false,
         "type": "scattergeo"
        },
        {
         "lat": [
          38.963745,
          40.463667
         ],
         "line": {
          "color": "#1f77b4",
          "width": 3.9902114224516754
         },
         "lon": [
          35.243322,
          -3.74922
         ],
         "mode": "lines",
         "name": "",
         "opacity": 0.4,
         "showlegend": false,
         "type": "scattergeo"
        },
        {
         "lat": [
          38.963745,
          46.227638
         ],
         "line": {
          "color": "#1f77b4",
          "width": 3.3760899756497595
         },
         "lon": [
          35.243322,
          2.213749
         ],
         "mode": "lines",
         "name": "",
         "opacity": 0.4,
         "showlegend": false,
         "type": "scattergeo"
        },
        {
         "lat": [
          38.963745,
          -35.675147
         ],
         "line": {
          "color": "#1f77b4",
          "width": 1.8801959157972898
         },
         "lon": [
          35.243322,
          -71.542969
         ],
         "mode": "lines",
         "name": "",
         "opacity": 0.4,
         "showlegend": false,
         "type": "scattergeo"
        },
        {
         "lat": [
          38.963745,
          41.87194
         ],
         "line": {
          "color": "#1f77b4",
          "width": 3.950967900458759
         },
         "lon": [
          35.243322,
          12.56738
         ],
         "mode": "lines",
         "name": "",
         "opacity": 0.4,
         "showlegend": false,
         "type": "scattergeo"
        },
        {
         "lat": [
          41.87194,
          35.86166
         ],
         "line": {
          "color": "#1f77b4",
          "width": 2.5945120576945593
         },
         "lon": [
          12.56738,
          104.195397
         ],
         "mode": "lines",
         "name": "",
         "opacity": 0.4,
         "showlegend": false,
         "type": "scattergeo"
        },
        {
         "lat": [
          41.87194,
          40.463667
         ],
         "line": {
          "color": "#1f77b4",
          "width": 8.570817651563258
         },
         "lon": [
          12.56738,
          -3.74922
         ],
         "mode": "lines",
         "name": "",
         "opacity": 0.4,
         "showlegend": false,
         "type": "scattergeo"
        },
        {
         "lat": [
          41.87194,
          -35.675147
         ],
         "line": {
          "color": "#1f77b4",
          "width": 4.77428639943944
         },
         "lon": [
          12.56738,
          -71.542969
         ],
         "mode": "lines",
         "name": "",
         "opacity": 0.4,
         "showlegend": false,
         "type": "scattergeo"
        },
        {
         "lat": [
          41.87194,
          38.963745
         ],
         "line": {
          "color": "#1f77b4",
          "width": 3.950967900458759
         },
         "lon": [
          12.56738,
          35.243322
         ],
         "mode": "lines",
         "name": "",
         "opacity": 0.4,
         "showlegend": false,
         "type": "scattergeo"
        },
        {
         "lat": [
          -14.235004,
          15.870032
         ],
         "line": {
          "color": "rgb(86, 101, 115)",
          "width": 2.3236680609092133
         },
         "lon": [
          -51.92528,
          100.992541
         ],
         "mode": "lines",
         "name": "",
         "opacity": 0.2,
         "showlegend": false,
         "type": "scattergeo"
        },
        {
         "lat": [
          -14.235004,
          -19.015438
         ],
         "line": {
          "color": "#ff7f0e",
          "width": 11.161269517932844
         },
         "lon": [
          -51.92528,
          29.154857
         ],
         "mode": "lines",
         "name": "",
         "opacity": 0.4,
         "showlegend": false,
         "type": "scattergeo"
        },
        {
         "lat": [
          -14.235004,
          -16.290154
         ],
         "line": {
          "color": "#ff7f0e",
          "width": 3.052700333362475
         },
         "lon": [
          -51.92528,
          -63.588653
         ],
         "mode": "lines",
         "name": "",
         "opacity": 0.4,
         "showlegend": false,
         "type": "scattergeo"
        },
        {
         "lat": [
          -14.235004,
          4.570868
         ],
         "line": {
          "color": "#ff7f0e",
          "width": 3.8053601963848487
         },
         "lon": [
          -51.92528,
          -74.297333
         ],
         "mode": "lines",
         "name": "",
         "opacity": 0.4,
         "showlegend": false,
         "type": "scattergeo"
        },
        {
         "lat": [
          9.081999,
          -4.038333
         ],
         "line": {
          "color": "#ff7f0e",
          "width": 2.4359313123191226
         },
         "lon": [
          8.675277,
          21.758664
         ],
         "mode": "lines",
         "name": "",
         "opacity": 0.4,
         "showlegend": false,
         "type": "scattergeo"
        },
        {
         "lat": [
          21.913965,
          20.593684
         ],
         "line": {
          "color": "rgb(86, 101, 115)",
          "width": 1.699026657158856
         },
         "lon": [
          95.956223,
          78.96288
         ],
         "mode": "lines",
         "name": "",
         "opacity": 0.2,
         "showlegend": false,
         "type": "scattergeo"
        },
        {
         "lat": [
          21.913965,
          14.058324
         ],
         "line": {
          "color": "rgb(86, 101, 115)",
          "width": 7.611286836889073
         },
         "lon": [
          95.956223,
          108.277199
         ],
         "mode": "lines",
         "name": "",
         "opacity": 0.2,
         "showlegend": false,
         "type": "scattergeo"
        },
        {
         "lat": [
          -19.015438,
          20.593684
         ],
         "line": {
          "color": "rgb(86, 101, 115)",
          "width": 1.6768265488326444
         },
         "lon": [
          29.154857,
          78.96288
         ],
         "mode": "lines",
         "name": "",
         "opacity": 0.2,
         "showlegend": false,
         "type": "scattergeo"
        },
        {
         "lat": [
          -19.015438,
          15.870032
         ],
         "line": {
          "color": "rgb(86, 101, 115)",
          "width": 2.7516446169403634
         },
         "lon": [
          29.154857,
          100.992541
         ],
         "mode": "lines",
         "name": "",
         "opacity": 0.2,
         "showlegend": false,
         "type": "scattergeo"
        },
        {
         "lat": [
          -19.015438,
          -14.235004
         ],
         "line": {
          "color": "#ff7f0e",
          "width": 11.161269517932844
         },
         "lon": [
          29.154857,
          -51.92528
         ],
         "mode": "lines",
         "name": "",
         "opacity": 0.4,
         "showlegend": false,
         "type": "scattergeo"
        },
        {
         "lat": [
          -19.015438,
          -16.290154
         ],
         "line": {
          "color": "#ff7f0e",
          "width": 3.3573538999661534
         },
         "lon": [
          29.154857,
          -63.588653
         ],
         "mode": "lines",
         "name": "",
         "opacity": 0.4,
         "showlegend": false,
         "type": "scattergeo"
        },
        {
         "lat": [
          -19.015438,
          4.570868
         ],
         "line": {
          "color": "#ff7f0e",
          "width": 3.2863159516352525
         },
         "lon": [
          29.154857,
          -74.297333
         ],
         "mode": "lines",
         "name": "",
         "opacity": 0.4,
         "showlegend": false,
         "type": "scattergeo"
        },
        {
         "lat": [
          -16.290154,
          20.593684
         ],
         "line": {
          "color": "rgb(86, 101, 115)",
          "width": 2.009332184637812
         },
         "lon": [
          -63.588653,
          78.96288
         ],
         "mode": "lines",
         "name": "",
         "opacity": 0.2,
         "showlegend": false,
         "type": "scattergeo"
        },
        {
         "lat": [
          -16.290154,
          15.870032
         ],
         "line": {
          "color": "rgb(86, 101, 115)",
          "width": 1.9204428499357444
         },
         "lon": [
          -63.588653,
          100.992541
         ],
         "mode": "lines",
         "name": "",
         "opacity": 0.2,
         "showlegend": false,
         "type": "scattergeo"
        },
        {
         "lat": [
          -16.290154,
          -14.235004
         ],
         "line": {
          "color": "#ff7f0e",
          "width": 3.052700333362475
         },
         "lon": [
          -63.588653,
          -51.92528
         ],
         "mode": "lines",
         "name": "",
         "opacity": 0.4,
         "showlegend": false,
         "type": "scattergeo"
        },
        {
         "lat": [
          -16.290154,
          -19.015438
         ],
         "line": {
          "color": "#ff7f0e",
          "width": 3.3573538999661534
         },
         "lon": [
          -63.588653,
          29.154857
         ],
         "mode": "lines",
         "name": "",
         "opacity": 0.4,
         "showlegend": false,
         "type": "scattergeo"
        },
        {
         "lat": [
          -16.290154,
          4.570868
         ],
         "line": {
          "color": "#ff7f0e",
          "width": 1.8461406877319413
         },
         "lon": [
          -63.588653,
          -74.297333
         ],
         "mode": "lines",
         "name": "",
         "opacity": 0.4,
         "showlegend": false,
         "type": "scattergeo"
        },
        {
         "lat": [
          -4.038333,
          9.081999
         ],
         "line": {
          "color": "#ff7f0e",
          "width": 2.4359313123191226
         },
         "lon": [
          21.758664,
          8.675277
         ],
         "mode": "lines",
         "name": "",
         "opacity": 0.4,
         "showlegend": false,
         "type": "scattergeo"
        },
        {
         "lat": [
          -38.416097,
          37.09024
         ],
         "line": {
          "color": "rgb(86, 101, 115)",
          "width": 2.772680364763197
         },
         "lon": [
          -63.616672,
          -95.712891
         ],
         "mode": "lines",
         "name": "",
         "opacity": 0.2,
         "showlegend": false,
         "type": "scattergeo"
        },
        {
         "lat": [
          4.570868,
          15.870032
         ],
         "line": {
          "color": "rgb(86, 101, 115)",
          "width": 2.5378564205881737
         },
         "lon": [
          -74.297333,
          100.992541
         ],
         "mode": "lines",
         "name": "",
         "opacity": 0.2,
         "showlegend": false,
         "type": "scattergeo"
        },
        {
         "lat": [
          4.570868,
          -14.235004
         ],
         "line": {
          "color": "#ff7f0e",
          "width": 3.8053601963848487
         },
         "lon": [
          -74.297333,
          -51.92528
         ],
         "mode": "lines",
         "name": "",
         "opacity": 0.4,
         "showlegend": false,
         "type": "scattergeo"
        },
        {
         "lat": [
          4.570868,
          -19.015438
         ],
         "line": {
          "color": "#ff7f0e",
          "width": 3.2863159516352525
         },
         "lon": [
          -74.297333,
          29.154857
         ],
         "mode": "lines",
         "name": "",
         "opacity": 0.4,
         "showlegend": false,
         "type": "scattergeo"
        },
        {
         "lat": [
          4.570868,
          -16.290154
         ],
         "line": {
          "color": "#ff7f0e",
          "width": 1.8461406877319413
         },
         "lon": [
          -74.297333,
          -63.588653
         ],
         "mode": "lines",
         "name": "",
         "opacity": 0.4,
         "showlegend": false,
         "type": "scattergeo"
        }
       ],
       "layout": {
        "geo": {
         "countrycolor": "rgb(204, 204, 204)",
         "landcolor": "rgb(243, 243, 243)",
         "showland": true
        },
        "height": 500,
        "template": {
         "data": {
          "bar": [
           {
            "error_x": {
             "color": "#2a3f5f"
            },
            "error_y": {
             "color": "#2a3f5f"
            },
            "marker": {
             "line": {
              "color": "#E5ECF6",
              "width": 0.5
             }
            },
            "type": "bar"
           }
          ],
          "barpolar": [
           {
            "marker": {
             "line": {
              "color": "#E5ECF6",
              "width": 0.5
             }
            },
            "type": "barpolar"
           }
          ],
          "carpet": [
           {
            "aaxis": {
             "endlinecolor": "#2a3f5f",
             "gridcolor": "white",
             "linecolor": "white",
             "minorgridcolor": "white",
             "startlinecolor": "#2a3f5f"
            },
            "baxis": {
             "endlinecolor": "#2a3f5f",
             "gridcolor": "white",
             "linecolor": "white",
             "minorgridcolor": "white",
             "startlinecolor": "#2a3f5f"
            },
            "type": "carpet"
           }
          ],
          "choropleth": [
           {
            "colorbar": {
             "outlinewidth": 0,
             "ticks": ""
            },
            "type": "choropleth"
           }
          ],
          "contour": [
           {
            "colorbar": {
             "outlinewidth": 0,
             "ticks": ""
            },
            "colorscale": [
             [
              0,
              "#0d0887"
             ],
             [
              0.1111111111111111,
              "#46039f"
             ],
             [
              0.2222222222222222,
              "#7201a8"
             ],
             [
              0.3333333333333333,
              "#9c179e"
             ],
             [
              0.4444444444444444,
              "#bd3786"
             ],
             [
              0.5555555555555556,
              "#d8576b"
             ],
             [
              0.6666666666666666,
              "#ed7953"
             ],
             [
              0.7777777777777778,
              "#fb9f3a"
             ],
             [
              0.8888888888888888,
              "#fdca26"
             ],
             [
              1,
              "#f0f921"
             ]
            ],
            "type": "contour"
           }
          ],
          "contourcarpet": [
           {
            "colorbar": {
             "outlinewidth": 0,
             "ticks": ""
            },
            "type": "contourcarpet"
           }
          ],
          "heatmap": [
           {
            "colorbar": {
             "outlinewidth": 0,
             "ticks": ""
            },
            "colorscale": [
             [
              0,
              "#0d0887"
             ],
             [
              0.1111111111111111,
              "#46039f"
             ],
             [
              0.2222222222222222,
              "#7201a8"
             ],
             [
              0.3333333333333333,
              "#9c179e"
             ],
             [
              0.4444444444444444,
              "#bd3786"
             ],
             [
              0.5555555555555556,
              "#d8576b"
             ],
             [
              0.6666666666666666,
              "#ed7953"
             ],
             [
              0.7777777777777778,
              "#fb9f3a"
             ],
             [
              0.8888888888888888,
              "#fdca26"
             ],
             [
              1,
              "#f0f921"
             ]
            ],
            "type": "heatmap"
           }
          ],
          "heatmapgl": [
           {
            "colorbar": {
             "outlinewidth": 0,
             "ticks": ""
            },
            "colorscale": [
             [
              0,
              "#0d0887"
             ],
             [
              0.1111111111111111,
              "#46039f"
             ],
             [
              0.2222222222222222,
              "#7201a8"
             ],
             [
              0.3333333333333333,
              "#9c179e"
             ],
             [
              0.4444444444444444,
              "#bd3786"
             ],
             [
              0.5555555555555556,
              "#d8576b"
             ],
             [
              0.6666666666666666,
              "#ed7953"
             ],
             [
              0.7777777777777778,
              "#fb9f3a"
             ],
             [
              0.8888888888888888,
              "#fdca26"
             ],
             [
              1,
              "#f0f921"
             ]
            ],
            "type": "heatmapgl"
           }
          ],
          "histogram": [
           {
            "marker": {
             "colorbar": {
              "outlinewidth": 0,
              "ticks": ""
             }
            },
            "type": "histogram"
           }
          ],
          "histogram2d": [
           {
            "colorbar": {
             "outlinewidth": 0,
             "ticks": ""
            },
            "colorscale": [
             [
              0,
              "#0d0887"
             ],
             [
              0.1111111111111111,
              "#46039f"
             ],
             [
              0.2222222222222222,
              "#7201a8"
             ],
             [
              0.3333333333333333,
              "#9c179e"
             ],
             [
              0.4444444444444444,
              "#bd3786"
             ],
             [
              0.5555555555555556,
              "#d8576b"
             ],
             [
              0.6666666666666666,
              "#ed7953"
             ],
             [
              0.7777777777777778,
              "#fb9f3a"
             ],
             [
              0.8888888888888888,
              "#fdca26"
             ],
             [
              1,
              "#f0f921"
             ]
            ],
            "type": "histogram2d"
           }
          ],
          "histogram2dcontour": [
           {
            "colorbar": {
             "outlinewidth": 0,
             "ticks": ""
            },
            "colorscale": [
             [
              0,
              "#0d0887"
             ],
             [
              0.1111111111111111,
              "#46039f"
             ],
             [
              0.2222222222222222,
              "#7201a8"
             ],
             [
              0.3333333333333333,
              "#9c179e"
             ],
             [
              0.4444444444444444,
              "#bd3786"
             ],
             [
              0.5555555555555556,
              "#d8576b"
             ],
             [
              0.6666666666666666,
              "#ed7953"
             ],
             [
              0.7777777777777778,
              "#fb9f3a"
             ],
             [
              0.8888888888888888,
              "#fdca26"
             ],
             [
              1,
              "#f0f921"
             ]
            ],
            "type": "histogram2dcontour"
           }
          ],
          "mesh3d": [
           {
            "colorbar": {
             "outlinewidth": 0,
             "ticks": ""
            },
            "type": "mesh3d"
           }
          ],
          "parcoords": [
           {
            "line": {
             "colorbar": {
              "outlinewidth": 0,
              "ticks": ""
             }
            },
            "type": "parcoords"
           }
          ],
          "pie": [
           {
            "automargin": true,
            "type": "pie"
           }
          ],
          "scatter": [
           {
            "marker": {
             "colorbar": {
              "outlinewidth": 0,
              "ticks": ""
             }
            },
            "type": "scatter"
           }
          ],
          "scatter3d": [
           {
            "line": {
             "colorbar": {
              "outlinewidth": 0,
              "ticks": ""
             }
            },
            "marker": {
             "colorbar": {
              "outlinewidth": 0,
              "ticks": ""
             }
            },
            "type": "scatter3d"
           }
          ],
          "scattercarpet": [
           {
            "marker": {
             "colorbar": {
              "outlinewidth": 0,
              "ticks": ""
             }
            },
            "type": "scattercarpet"
           }
          ],
          "scattergeo": [
           {
            "marker": {
             "colorbar": {
              "outlinewidth": 0,
              "ticks": ""
             }
            },
            "type": "scattergeo"
           }
          ],
          "scattergl": [
           {
            "marker": {
             "colorbar": {
              "outlinewidth": 0,
              "ticks": ""
             }
            },
            "type": "scattergl"
           }
          ],
          "scattermapbox": [
           {
            "marker": {
             "colorbar": {
              "outlinewidth": 0,
              "ticks": ""
             }
            },
            "type": "scattermapbox"
           }
          ],
          "scatterpolar": [
           {
            "marker": {
             "colorbar": {
              "outlinewidth": 0,
              "ticks": ""
             }
            },
            "type": "scatterpolar"
           }
          ],
          "scatterpolargl": [
           {
            "marker": {
             "colorbar": {
              "outlinewidth": 0,
              "ticks": ""
             }
            },
            "type": "scatterpolargl"
           }
          ],
          "scatterternary": [
           {
            "marker": {
             "colorbar": {
              "outlinewidth": 0,
              "ticks": ""
             }
            },
            "type": "scatterternary"
           }
          ],
          "surface": [
           {
            "colorbar": {
             "outlinewidth": 0,
             "ticks": ""
            },
            "colorscale": [
             [
              0,
              "#0d0887"
             ],
             [
              0.1111111111111111,
              "#46039f"
             ],
             [
              0.2222222222222222,
              "#7201a8"
             ],
             [
              0.3333333333333333,
              "#9c179e"
             ],
             [
              0.4444444444444444,
              "#bd3786"
             ],
             [
              0.5555555555555556,
              "#d8576b"
             ],
             [
              0.6666666666666666,
              "#ed7953"
             ],
             [
              0.7777777777777778,
              "#fb9f3a"
             ],
             [
              0.8888888888888888,
              "#fdca26"
             ],
             [
              1,
              "#f0f921"
             ]
            ],
            "type": "surface"
           }
          ],
          "table": [
           {
            "cells": {
             "fill": {
              "color": "#EBF0F8"
             },
             "line": {
              "color": "white"
             }
            },
            "header": {
             "fill": {
              "color": "#C8D4E3"
             },
             "line": {
              "color": "white"
             }
            },
            "type": "table"
           }
          ]
         },
         "layout": {
          "annotationdefaults": {
           "arrowcolor": "#2a3f5f",
           "arrowhead": 0,
           "arrowwidth": 1
          },
          "coloraxis": {
           "colorbar": {
            "outlinewidth": 0,
            "ticks": ""
           }
          },
          "colorscale": {
           "diverging": [
            [
             0,
             "#8e0152"
            ],
            [
             0.1,
             "#c51b7d"
            ],
            [
             0.2,
             "#de77ae"
            ],
            [
             0.3,
             "#f1b6da"
            ],
            [
             0.4,
             "#fde0ef"
            ],
            [
             0.5,
             "#f7f7f7"
            ],
            [
             0.6,
             "#e6f5d0"
            ],
            [
             0.7,
             "#b8e186"
            ],
            [
             0.8,
             "#7fbc41"
            ],
            [
             0.9,
             "#4d9221"
            ],
            [
             1,
             "#276419"
            ]
           ],
           "sequential": [
            [
             0,
             "#0d0887"
            ],
            [
             0.1111111111111111,
             "#46039f"
            ],
            [
             0.2222222222222222,
             "#7201a8"
            ],
            [
             0.3333333333333333,
             "#9c179e"
            ],
            [
             0.4444444444444444,
             "#bd3786"
            ],
            [
             0.5555555555555556,
             "#d8576b"
            ],
            [
             0.6666666666666666,
             "#ed7953"
            ],
            [
             0.7777777777777778,
             "#fb9f3a"
            ],
            [
             0.8888888888888888,
             "#fdca26"
            ],
            [
             1,
             "#f0f921"
            ]
           ],
           "sequentialminus": [
            [
             0,
             "#0d0887"
            ],
            [
             0.1111111111111111,
             "#46039f"
            ],
            [
             0.2222222222222222,
             "#7201a8"
            ],
            [
             0.3333333333333333,
             "#9c179e"
            ],
            [
             0.4444444444444444,
             "#bd3786"
            ],
            [
             0.5555555555555556,
             "#d8576b"
            ],
            [
             0.6666666666666666,
             "#ed7953"
            ],
            [
             0.7777777777777778,
             "#fb9f3a"
            ],
            [
             0.8888888888888888,
             "#fdca26"
            ],
            [
             1,
             "#f0f921"
            ]
           ]
          },
          "colorway": [
           "#636efa",
           "#EF553B",
           "#00cc96",
           "#ab63fa",
           "#FFA15A",
           "#19d3f3",
           "#FF6692",
           "#B6E880",
           "#FF97FF",
           "#FECB52"
          ],
          "font": {
           "color": "#2a3f5f"
          },
          "geo": {
           "bgcolor": "white",
           "lakecolor": "white",
           "landcolor": "#E5ECF6",
           "showlakes": true,
           "showland": true,
           "subunitcolor": "white"
          },
          "hoverlabel": {
           "align": "left"
          },
          "hovermode": "closest",
          "mapbox": {
           "style": "light"
          },
          "paper_bgcolor": "white",
          "plot_bgcolor": "#E5ECF6",
          "polar": {
           "angularaxis": {
            "gridcolor": "white",
            "linecolor": "white",
            "ticks": ""
           },
           "bgcolor": "#E5ECF6",
           "radialaxis": {
            "gridcolor": "white",
            "linecolor": "white",
            "ticks": ""
           }
          },
          "scene": {
           "xaxis": {
            "backgroundcolor": "#E5ECF6",
            "gridcolor": "white",
            "gridwidth": 2,
            "linecolor": "white",
            "showbackground": true,
            "ticks": "",
            "zerolinecolor": "white"
           },
           "yaxis": {
            "backgroundcolor": "#E5ECF6",
            "gridcolor": "white",
            "gridwidth": 2,
            "linecolor": "white",
            "showbackground": true,
            "ticks": "",
            "zerolinecolor": "white"
           },
           "zaxis": {
            "backgroundcolor": "#E5ECF6",
            "gridcolor": "white",
            "gridwidth": 2,
            "linecolor": "white",
            "showbackground": true,
            "ticks": "",
            "zerolinecolor": "white"
           }
          },
          "shapedefaults": {
           "line": {
            "color": "#2a3f5f"
           }
          },
          "ternary": {
           "aaxis": {
            "gridcolor": "white",
            "linecolor": "white",
            "ticks": ""
           },
           "baxis": {
            "gridcolor": "white",
            "linecolor": "white",
            "ticks": ""
           },
           "bgcolor": "#E5ECF6",
           "caxis": {
            "gridcolor": "white",
            "linecolor": "white",
            "ticks": ""
           }
          },
          "title": {
           "x": 0.05
          },
          "xaxis": {
           "automargin": true,
           "gridcolor": "white",
           "linecolor": "white",
           "ticks": "",
           "title": {
            "standoff": 15
           },
           "zerolinecolor": "white",
           "zerolinewidth": 2
          },
          "yaxis": {
           "automargin": true,
           "gridcolor": "white",
           "linecolor": "white",
           "ticks": "",
           "title": {
            "standoff": 15
           },
           "zerolinecolor": "white",
           "zerolinewidth": 2
          }
         }
        },
        "title": {
         "text": ""
        },
        "width": 800
       }
      },
      "text/html": [
       "<div>\n",
       "        \n",
       "        \n",
       "            <div id=\"2026b535-3142-4f8a-b8f5-da6c125ecf39\" class=\"plotly-graph-div\" style=\"height:500px; width:800px;\"></div>\n",
       "            <script type=\"text/javascript\">\n",
       "                require([\"plotly\"], function(Plotly) {\n",
       "                    window.PLOTLYENV=window.PLOTLYENV || {};\n",
       "                    \n",
       "                if (document.getElementById(\"2026b535-3142-4f8a-b8f5-da6c125ecf39\")) {\n",
       "                    Plotly.newPlot(\n",
       "                        '2026b535-3142-4f8a-b8f5-da6c125ecf39',\n",
       "                        [{\"hoverinfo\": \"text\", \"lat\": [35.86166], \"lon\": [104.195397], \"marker\": {\"color\": \"#1f77b4\", \"line\": {\"color\": \"rgba(68, 68, 68, 0)\", \"width\": 3}, \"opacity\": 1, \"size\": 33.714534447160574}, \"mode\": \"markers\", \"name\": \"\", \"showlegend\": false, \"text\": \"China\", \"type\": \"scattergeo\"}, {\"hoverinfo\": \"text\", \"lat\": [37.09024], \"lon\": [-95.712891], \"marker\": {\"color\": \"#1f77b4\", \"line\": {\"color\": \"rgba(68, 68, 68, 0)\", \"width\": 3}, \"opacity\": 1, \"size\": 6.717461739448861}, \"mode\": \"markers\", \"name\": \"\", \"showlegend\": false, \"text\": \"United States of America\", \"type\": \"scattergeo\"}, {\"hoverinfo\": \"text\", \"lat\": [20.593684], \"lon\": [78.96288], \"marker\": {\"color\": \"#1f77b4\", \"line\": {\"color\": \"rgba(68, 68, 68, 0)\", \"width\": 3}, \"opacity\": 1, \"size\": 5.970276648311063}, \"mode\": \"markers\", \"name\": \"\", \"showlegend\": false, \"text\": \"India\", \"type\": \"scattergeo\"}, {\"hoverinfo\": \"text\", \"lat\": [14.058324], \"lon\": [108.277199], \"marker\": {\"color\": \"#1f77b4\", \"line\": {\"color\": \"rgba(68, 68, 68, 0)\", \"width\": 3}, \"opacity\": 1, \"size\": 4.845211247042075}, \"mode\": \"markers\", \"name\": \"\", \"showlegend\": false, \"text\": \"Viet Nam\", \"type\": \"scattergeo\"}, {\"hoverinfo\": \"text\", \"lat\": [40.463667], \"lon\": [-3.74922], \"marker\": {\"color\": \"#1f77b4\", \"line\": {\"color\": \"rgba(68, 68, 68, 0)\", \"width\": 3}, \"opacity\": 1, \"size\": 4.156241512424634}, \"mode\": \"markers\", \"name\": \"\", \"showlegend\": false, \"text\": \"Spain\", \"type\": \"scattergeo\"}, {\"hoverinfo\": \"text\", \"lat\": [46.227638], \"lon\": [2.213749], \"marker\": {\"color\": \"#1f77b4\", \"line\": {\"color\": \"rgba(68, 68, 68, 0)\", \"width\": 3}, \"opacity\": 1, \"size\": 2.3450622890996353}, \"mode\": \"markers\", \"name\": \"\", \"showlegend\": false, \"text\": \"France\", \"type\": \"scattergeo\"}, {\"hoverinfo\": \"text\", \"lat\": [-35.675147], \"lon\": [-71.542969], \"marker\": {\"color\": \"#1f77b4\", \"line\": {\"color\": \"rgba(68, 68, 68, 0)\", \"width\": 3}, \"opacity\": 1, \"size\": 2.272324554129759}, \"mode\": \"markers\", \"name\": \"\", \"showlegend\": false, \"text\": \"Chile\", \"type\": \"scattergeo\"}, {\"hoverinfo\": \"text\", \"lat\": [15.870032], \"lon\": [100.992541], \"marker\": {\"color\": \"#1f77b4\", \"line\": {\"color\": \"rgba(68, 68, 68, 0)\", \"width\": 3}, \"opacity\": 1, \"size\": 2.202180657733695}, \"mode\": \"markers\", \"name\": \"\", \"showlegend\": false, \"text\": \"Thailand\", \"type\": \"scattergeo\"}, {\"hoverinfo\": \"text\", \"lat\": [38.963745], \"lon\": [35.243322], \"marker\": {\"color\": \"#1f77b4\", \"line\": {\"color\": \"rgba(68, 68, 68, 0)\", \"width\": 3}, \"opacity\": 1, \"size\": 1.9305708182829067}, \"mode\": \"markers\", \"name\": \"\", \"showlegend\": false, \"text\": \"Turkey\", \"type\": \"scattergeo\"}, {\"hoverinfo\": \"text\", \"lat\": [41.87194], \"lon\": [12.56738], \"marker\": {\"color\": \"#1f77b4\", \"line\": {\"color\": \"rgba(68, 68, 68, 0)\", \"width\": 3}, \"opacity\": 1, \"size\": 1.5800872432526905}, \"mode\": \"markers\", \"name\": \"\", \"showlegend\": false, \"text\": \"Italy\", \"type\": \"scattergeo\"}, {\"hoverinfo\": \"text\", \"lat\": [-14.235004], \"lon\": [-51.92528], \"marker\": {\"color\": \"#ff7f0e\", \"line\": {\"color\": \"rgba(68, 68, 68, 0)\", \"width\": 3}, \"opacity\": 1, \"size\": 34.657359027997266}, \"mode\": \"markers\", \"name\": \"\", \"showlegend\": false, \"text\": \"Brazil\", \"type\": \"scattergeo\"}, {\"hoverinfo\": \"text\", \"lat\": [-0.789275], \"lon\": [113.921327], \"marker\": {\"color\": \"#ff7f0e\", \"line\": {\"color\": \"rgba(68, 68, 68, 0)\", \"width\": 3}, \"opacity\": 1, \"size\": 20.86627274933267}, \"mode\": \"markers\", \"name\": \"\", \"showlegend\": false, \"text\": \"Indonesia\", \"type\": \"scattergeo\"}, {\"hoverinfo\": \"text\", \"lat\": [9.081999], \"lon\": [8.675277], \"marker\": {\"color\": \"#ff7f0e\", \"line\": {\"color\": \"rgba(68, 68, 68, 0)\", \"width\": 3}, \"opacity\": 1, \"size\": 8.807606665923352}, \"mode\": \"markers\", \"name\": \"\", \"showlegend\": false, \"text\": \"Nigeria\", \"type\": \"scattergeo\"}, {\"hoverinfo\": \"text\", \"lat\": [21.913965], \"lon\": [95.956223], \"marker\": {\"color\": \"#ff7f0e\", \"line\": {\"color\": \"rgba(68, 68, 68, 0)\", \"width\": 3}, \"opacity\": 1, \"size\": 8.757114361708124}, \"mode\": \"markers\", \"name\": \"\", \"showlegend\": false, \"text\": \"Myanmar\", \"type\": \"scattergeo\"}, {\"hoverinfo\": \"text\", \"lat\": [-6.369028], \"lon\": [34.888822], \"marker\": {\"color\": \"#ff7f0e\", \"line\": {\"color\": \"rgba(68, 68, 68, 0)\", \"width\": 3}, \"opacity\": 1, \"size\": 8.506265143999391}, \"mode\": \"markers\", \"name\": \"\", \"showlegend\": false, \"text\": \"United Republic of Tanzania\", \"type\": \"scattergeo\"}, {\"hoverinfo\": \"text\", \"lat\": [-19.015438], \"lon\": [29.154857], \"marker\": {\"color\": \"#ff7f0e\", \"line\": {\"color\": \"rgba(68, 68, 68, 0)\", \"width\": 3}, \"opacity\": 1, \"size\": 7.091805113675916}, \"mode\": \"markers\", \"name\": \"\", \"showlegend\": false, \"text\": \"Zimbabwe\", \"type\": \"scattergeo\"}, {\"hoverinfo\": \"text\", \"lat\": [-16.290154], \"lon\": [-63.588653], \"marker\": {\"color\": \"#ff7f0e\", \"line\": {\"color\": \"rgba(68, 68, 68, 0)\", \"width\": 3}, \"opacity\": 1, \"size\": 7.033830305805592}, \"mode\": \"markers\", \"name\": \"\", \"showlegend\": false, \"text\": \"Bolivia (Plurinational State of)\", \"type\": \"scattergeo\"}, {\"hoverinfo\": \"text\", \"lat\": [-4.038333], \"lon\": [21.758664], \"marker\": {\"color\": \"#ff7f0e\", \"line\": {\"color\": \"rgba(68, 68, 68, 0)\", \"width\": 3}, \"opacity\": 1, \"size\": 6.832438302054809}, \"mode\": \"markers\", \"name\": \"\", \"showlegend\": false, \"text\": \"Democratic Republic of the Congo\", \"type\": \"scattergeo\"}, {\"hoverinfo\": \"text\", \"lat\": [-38.416097], \"lon\": [-63.616672], \"marker\": {\"color\": \"#ff7f0e\", \"line\": {\"color\": \"rgba(68, 68, 68, 0)\", \"width\": 3}, \"opacity\": 1, \"size\": 6.747052402814578}, \"mode\": \"markers\", \"name\": \"\", \"showlegend\": false, \"text\": \"Argentina\", \"type\": \"scattergeo\"}, {\"hoverinfo\": \"text\", \"lat\": [4.570868], \"lon\": [-74.297333], \"marker\": {\"color\": \"#ff7f0e\", \"line\": {\"color\": \"rgba(68, 68, 68, 0)\", \"width\": 3}, \"opacity\": 1, \"size\": 5.274640350895481}, \"mode\": \"markers\", \"name\": \"\", \"showlegend\": false, \"text\": \"Colombia\", \"type\": \"scattergeo\"}, {\"lat\": [35.86166, 14.058324], \"line\": {\"color\": \"#1f77b4\", \"width\": 1.6906167817364262}, \"lon\": [104.195397, 108.277199], \"mode\": \"lines\", \"name\": \"\", \"opacity\": 0.4, \"showlegend\": false, \"type\": \"scattergeo\"}, {\"lat\": [35.86166, 40.463667], \"line\": {\"color\": \"#1f77b4\", \"width\": 2.1099374138481477}, \"lon\": [104.195397, -3.74922], \"mode\": \"lines\", \"name\": \"\", \"opacity\": 0.4, \"showlegend\": false, \"type\": \"scattergeo\"}, {\"lat\": [35.86166, 38.963745], \"line\": {\"color\": \"#1f77b4\", \"width\": 2.5588345943712283}, \"lon\": [104.195397, 35.243322], \"mode\": \"lines\", \"name\": \"\", \"opacity\": 0.4, \"showlegend\": false, \"type\": \"scattergeo\"}, {\"lat\": [35.86166, 41.87194], \"line\": {\"color\": \"#1f77b4\", \"width\": 2.5945120576945593}, \"lon\": [104.195397, 12.56738], \"mode\": \"lines\", \"name\": \"\", \"opacity\": 0.4, \"showlegend\": false, \"type\": \"scattergeo\"}, {\"lat\": [37.09024, 46.227638], \"line\": {\"color\": \"#1f77b4\", \"width\": 1.8632047548447073}, \"lon\": [-95.712891, 2.213749], \"mode\": \"lines\", \"name\": \"\", \"opacity\": 0.4, \"showlegend\": false, \"type\": \"scattergeo\"}, {\"lat\": [37.09024, -38.416097], \"line\": {\"color\": \"rgb(86, 101, 115)\", \"width\": 2.772680364763197}, \"lon\": [-95.712891, -63.616672], \"mode\": \"lines\", \"name\": \"\", \"opacity\": 0.2, \"showlegend\": false, \"type\": \"scattergeo\"}, {\"lat\": [20.593684, 14.058324], \"line\": {\"color\": \"#1f77b4\", \"width\": 1.87042814146055}, \"lon\": [78.96288, 108.277199], \"mode\": \"lines\", \"name\": \"\", \"opacity\": 0.4, \"showlegend\": false, \"type\": \"scattergeo\"}, {\"lat\": [20.593684, 15.870032], \"line\": {\"color\": \"#1f77b4\", \"width\": 1.912253815082728}, \"lon\": [78.96288, 100.992541], \"mode\": \"lines\", \"name\": \"\", \"opacity\": 0.4, \"showlegend\": false, \"type\": \"scattergeo\"}, {\"lat\": [20.593684, 21.913965], \"line\": {\"color\": \"rgb(86, 101, 115)\", \"width\": 1.699026657158856}, \"lon\": [78.96288, 95.956223], \"mode\": \"lines\", \"name\": \"\", \"opacity\": 0.2, \"showlegend\": false, \"type\": \"scattergeo\"}, {\"lat\": [20.593684, -19.015438], \"line\": {\"color\": \"rgb(86, 101, 115)\", \"width\": 1.6768265488326444}, \"lon\": [78.96288, 29.154857], \"mode\": \"lines\", \"name\": \"\", \"opacity\": 0.2, \"showlegend\": false, \"type\": \"scattergeo\"}, {\"lat\": [20.593684, -16.290154], \"line\": {\"color\": \"rgb(86, 101, 115)\", \"width\": 2.009332184637812}, \"lon\": [78.96288, -63.588653], \"mode\": \"lines\", \"name\": \"\", \"opacity\": 0.2, \"showlegend\": false, \"type\": \"scattergeo\"}, {\"lat\": [14.058324, 35.86166], \"line\": {\"color\": \"#1f77b4\", \"width\": 1.6906167817364262}, \"lon\": [108.277199, 104.195397], \"mode\": \"lines\", \"name\": \"\", \"opacity\": 0.4, \"showlegend\": false, \"type\": \"scattergeo\"}, {\"lat\": [14.058324, 20.593684], \"line\": {\"color\": \"#1f77b4\", \"width\": 1.87042814146055}, \"lon\": [108.277199, 78.96288], \"mode\": \"lines\", \"name\": \"\", \"opacity\": 0.4, \"showlegend\": false, \"type\": \"scattergeo\"}, {\"lat\": [14.058324, 21.913965], \"line\": {\"color\": \"rgb(86, 101, 115)\", \"width\": 7.611286836889073}, \"lon\": [108.277199, 95.956223], \"mode\": \"lines\", \"name\": \"\", \"opacity\": 0.2, \"showlegend\": false, \"type\": \"scattergeo\"}, {\"lat\": [40.463667, 35.86166], \"line\": {\"color\": \"#1f77b4\", \"width\": 2.1099374138481477}, \"lon\": [-3.74922, 104.195397], \"mode\": \"lines\", \"name\": \"\", \"opacity\": 0.4, \"showlegend\": false, \"type\": \"scattergeo\"}, {\"lat\": [40.463667, -35.675147], \"line\": {\"color\": \"#1f77b4\", \"width\": 2.9355426752857503}, \"lon\": [-3.74922, -71.542969], \"mode\": \"lines\", \"name\": \"\", \"opacity\": 0.4, \"showlegend\": false, \"type\": \"scattergeo\"}, {\"lat\": [40.463667, 38.963745], \"line\": {\"color\": \"#1f77b4\", \"width\": 3.9902114224516754}, \"lon\": [-3.74922, 35.243322], \"mode\": \"lines\", \"name\": \"\", \"opacity\": 0.4, \"showlegend\": false, \"type\": \"scattergeo\"}, {\"lat\": [40.463667, 41.87194], \"line\": {\"color\": \"#1f77b4\", \"width\": 8.570817651563258}, \"lon\": [-3.74922, 12.56738], \"mode\": \"lines\", \"name\": \"\", \"opacity\": 0.4, \"showlegend\": false, \"type\": \"scattergeo\"}, {\"lat\": [46.227638, 37.09024], \"line\": {\"color\": \"#1f77b4\", \"width\": 1.8632047548447073}, \"lon\": [2.213749, -95.712891], \"mode\": \"lines\", \"name\": \"\", \"opacity\": 0.4, \"showlegend\": false, \"type\": \"scattergeo\"}, {\"lat\": [46.227638, 38.963745], \"line\": {\"color\": \"#1f77b4\", \"width\": 3.3760899756497595}, \"lon\": [2.213749, 35.243322], \"mode\": \"lines\", \"name\": \"\", \"opacity\": 0.4, \"showlegend\": false, \"type\": \"scattergeo\"}, {\"lat\": [-35.675147, 40.463667], \"line\": {\"color\": \"#1f77b4\", \"width\": 2.9355426752857503}, \"lon\": [-71.542969, -3.74922], \"mode\": \"lines\", \"name\": \"\", \"opacity\": 0.4, \"showlegend\": false, \"type\": \"scattergeo\"}, {\"lat\": [-35.675147, 38.963745], \"line\": {\"color\": \"#1f77b4\", \"width\": 1.8801959157972898}, \"lon\": [-71.542969, 35.243322], \"mode\": \"lines\", \"name\": \"\", \"opacity\": 0.4, \"showlegend\": false, \"type\": \"scattergeo\"}, {\"lat\": [-35.675147, 41.87194], \"line\": {\"color\": \"#1f77b4\", \"width\": 4.77428639943944}, \"lon\": [-71.542969, 12.56738], \"mode\": \"lines\", \"name\": \"\", \"opacity\": 0.4, \"showlegend\": false, \"type\": \"scattergeo\"}, {\"lat\": [15.870032, 20.593684], \"line\": {\"color\": \"#1f77b4\", \"width\": 1.912253815082728}, \"lon\": [100.992541, 78.96288], \"mode\": \"lines\", \"name\": \"\", \"opacity\": 0.4, \"showlegend\": false, \"type\": \"scattergeo\"}, {\"lat\": [15.870032, -14.235004], \"line\": {\"color\": \"rgb(86, 101, 115)\", \"width\": 2.3236680609092133}, \"lon\": [100.992541, -51.92528], \"mode\": \"lines\", \"name\": \"\", \"opacity\": 0.2, \"showlegend\": false, \"type\": \"scattergeo\"}, {\"lat\": [15.870032, -19.015438], \"line\": {\"color\": \"rgb(86, 101, 115)\", \"width\": 2.7516446169403634}, \"lon\": [100.992541, 29.154857], \"mode\": \"lines\", \"name\": \"\", \"opacity\": 0.2, \"showlegend\": false, \"type\": \"scattergeo\"}, {\"lat\": [15.870032, -16.290154], \"line\": {\"color\": \"rgb(86, 101, 115)\", \"width\": 1.9204428499357444}, \"lon\": [100.992541, -63.588653], \"mode\": \"lines\", \"name\": \"\", \"opacity\": 0.2, \"showlegend\": false, \"type\": \"scattergeo\"}, {\"lat\": [15.870032, 4.570868], \"line\": {\"color\": \"rgb(86, 101, 115)\", \"width\": 2.5378564205881737}, \"lon\": [100.992541, -74.297333], \"mode\": \"lines\", \"name\": \"\", \"opacity\": 0.2, \"showlegend\": false, \"type\": \"scattergeo\"}, {\"lat\": [38.963745, 35.86166], \"line\": {\"color\": \"#1f77b4\", \"width\": 2.5588345943712283}, \"lon\": [35.243322, 104.195397], \"mode\": \"lines\", \"name\": \"\", \"opacity\": 0.4, \"showlegend\": false, \"type\": \"scattergeo\"}, {\"lat\": [38.963745, 40.463667], \"line\": {\"color\": \"#1f77b4\", \"width\": 3.9902114224516754}, \"lon\": [35.243322, -3.74922], \"mode\": \"lines\", \"name\": \"\", \"opacity\": 0.4, \"showlegend\": false, \"type\": \"scattergeo\"}, {\"lat\": [38.963745, 46.227638], \"line\": {\"color\": \"#1f77b4\", \"width\": 3.3760899756497595}, \"lon\": [35.243322, 2.213749], \"mode\": \"lines\", \"name\": \"\", \"opacity\": 0.4, \"showlegend\": false, \"type\": \"scattergeo\"}, {\"lat\": [38.963745, -35.675147], \"line\": {\"color\": \"#1f77b4\", \"width\": 1.8801959157972898}, \"lon\": [35.243322, -71.542969], \"mode\": \"lines\", \"name\": \"\", \"opacity\": 0.4, \"showlegend\": false, \"type\": \"scattergeo\"}, {\"lat\": [38.963745, 41.87194], \"line\": {\"color\": \"#1f77b4\", \"width\": 3.950967900458759}, \"lon\": [35.243322, 12.56738], \"mode\": \"lines\", \"name\": \"\", \"opacity\": 0.4, \"showlegend\": false, \"type\": \"scattergeo\"}, {\"lat\": [41.87194, 35.86166], \"line\": {\"color\": \"#1f77b4\", \"width\": 2.5945120576945593}, \"lon\": [12.56738, 104.195397], \"mode\": \"lines\", \"name\": \"\", \"opacity\": 0.4, \"showlegend\": false, \"type\": \"scattergeo\"}, {\"lat\": [41.87194, 40.463667], \"line\": {\"color\": \"#1f77b4\", \"width\": 8.570817651563258}, \"lon\": [12.56738, -3.74922], \"mode\": \"lines\", \"name\": \"\", \"opacity\": 0.4, \"showlegend\": false, \"type\": \"scattergeo\"}, {\"lat\": [41.87194, -35.675147], \"line\": {\"color\": \"#1f77b4\", \"width\": 4.77428639943944}, \"lon\": [12.56738, -71.542969], \"mode\": \"lines\", \"name\": \"\", \"opacity\": 0.4, \"showlegend\": false, \"type\": \"scattergeo\"}, {\"lat\": [41.87194, 38.963745], \"line\": {\"color\": \"#1f77b4\", \"width\": 3.950967900458759}, \"lon\": [12.56738, 35.243322], \"mode\": \"lines\", \"name\": \"\", \"opacity\": 0.4, \"showlegend\": false, \"type\": \"scattergeo\"}, {\"lat\": [-14.235004, 15.870032], \"line\": {\"color\": \"rgb(86, 101, 115)\", \"width\": 2.3236680609092133}, \"lon\": [-51.92528, 100.992541], \"mode\": \"lines\", \"name\": \"\", \"opacity\": 0.2, \"showlegend\": false, \"type\": \"scattergeo\"}, {\"lat\": [-14.235004, -19.015438], \"line\": {\"color\": \"#ff7f0e\", \"width\": 11.161269517932844}, \"lon\": [-51.92528, 29.154857], \"mode\": \"lines\", \"name\": \"\", \"opacity\": 0.4, \"showlegend\": false, \"type\": \"scattergeo\"}, {\"lat\": [-14.235004, -16.290154], \"line\": {\"color\": \"#ff7f0e\", \"width\": 3.052700333362475}, \"lon\": [-51.92528, -63.588653], \"mode\": \"lines\", \"name\": \"\", \"opacity\": 0.4, \"showlegend\": false, \"type\": \"scattergeo\"}, {\"lat\": [-14.235004, 4.570868], \"line\": {\"color\": \"#ff7f0e\", \"width\": 3.8053601963848487}, \"lon\": [-51.92528, -74.297333], \"mode\": \"lines\", \"name\": \"\", \"opacity\": 0.4, \"showlegend\": false, \"type\": \"scattergeo\"}, {\"lat\": [9.081999, -4.038333], \"line\": {\"color\": \"#ff7f0e\", \"width\": 2.4359313123191226}, \"lon\": [8.675277, 21.758664], \"mode\": \"lines\", \"name\": \"\", \"opacity\": 0.4, \"showlegend\": false, \"type\": \"scattergeo\"}, {\"lat\": [21.913965, 20.593684], \"line\": {\"color\": \"rgb(86, 101, 115)\", \"width\": 1.699026657158856}, \"lon\": [95.956223, 78.96288], \"mode\": \"lines\", \"name\": \"\", \"opacity\": 0.2, \"showlegend\": false, \"type\": \"scattergeo\"}, {\"lat\": [21.913965, 14.058324], \"line\": {\"color\": \"rgb(86, 101, 115)\", \"width\": 7.611286836889073}, \"lon\": [95.956223, 108.277199], \"mode\": \"lines\", \"name\": \"\", \"opacity\": 0.2, \"showlegend\": false, \"type\": \"scattergeo\"}, {\"lat\": [-19.015438, 20.593684], \"line\": {\"color\": \"rgb(86, 101, 115)\", \"width\": 1.6768265488326444}, \"lon\": [29.154857, 78.96288], \"mode\": \"lines\", \"name\": \"\", \"opacity\": 0.2, \"showlegend\": false, \"type\": \"scattergeo\"}, {\"lat\": [-19.015438, 15.870032], \"line\": {\"color\": \"rgb(86, 101, 115)\", \"width\": 2.7516446169403634}, \"lon\": [29.154857, 100.992541], \"mode\": \"lines\", \"name\": \"\", \"opacity\": 0.2, \"showlegend\": false, \"type\": \"scattergeo\"}, {\"lat\": [-19.015438, -14.235004], \"line\": {\"color\": \"#ff7f0e\", \"width\": 11.161269517932844}, \"lon\": [29.154857, -51.92528], \"mode\": \"lines\", \"name\": \"\", \"opacity\": 0.4, \"showlegend\": false, \"type\": \"scattergeo\"}, {\"lat\": [-19.015438, -16.290154], \"line\": {\"color\": \"#ff7f0e\", \"width\": 3.3573538999661534}, \"lon\": [29.154857, -63.588653], \"mode\": \"lines\", \"name\": \"\", \"opacity\": 0.4, \"showlegend\": false, \"type\": \"scattergeo\"}, {\"lat\": [-19.015438, 4.570868], \"line\": {\"color\": \"#ff7f0e\", \"width\": 3.2863159516352525}, \"lon\": [29.154857, -74.297333], \"mode\": \"lines\", \"name\": \"\", \"opacity\": 0.4, \"showlegend\": false, \"type\": \"scattergeo\"}, {\"lat\": [-16.290154, 20.593684], \"line\": {\"color\": \"rgb(86, 101, 115)\", \"width\": 2.009332184637812}, \"lon\": [-63.588653, 78.96288], \"mode\": \"lines\", \"name\": \"\", \"opacity\": 0.2, \"showlegend\": false, \"type\": \"scattergeo\"}, {\"lat\": [-16.290154, 15.870032], \"line\": {\"color\": \"rgb(86, 101, 115)\", \"width\": 1.9204428499357444}, \"lon\": [-63.588653, 100.992541], \"mode\": \"lines\", \"name\": \"\", \"opacity\": 0.2, \"showlegend\": false, \"type\": \"scattergeo\"}, {\"lat\": [-16.290154, -14.235004], \"line\": {\"color\": \"#ff7f0e\", \"width\": 3.052700333362475}, \"lon\": [-63.588653, -51.92528], \"mode\": \"lines\", \"name\": \"\", \"opacity\": 0.4, \"showlegend\": false, \"type\": \"scattergeo\"}, {\"lat\": [-16.290154, -19.015438], \"line\": {\"color\": \"#ff7f0e\", \"width\": 3.3573538999661534}, \"lon\": [-63.588653, 29.154857], \"mode\": \"lines\", \"name\": \"\", \"opacity\": 0.4, \"showlegend\": false, \"type\": \"scattergeo\"}, {\"lat\": [-16.290154, 4.570868], \"line\": {\"color\": \"#ff7f0e\", \"width\": 1.8461406877319413}, \"lon\": [-63.588653, -74.297333], \"mode\": \"lines\", \"name\": \"\", \"opacity\": 0.4, \"showlegend\": false, \"type\": \"scattergeo\"}, {\"lat\": [-4.038333, 9.081999], \"line\": {\"color\": \"#ff7f0e\", \"width\": 2.4359313123191226}, \"lon\": [21.758664, 8.675277], \"mode\": \"lines\", \"name\": \"\", \"opacity\": 0.4, \"showlegend\": false, \"type\": \"scattergeo\"}, {\"lat\": [-38.416097, 37.09024], \"line\": {\"color\": \"rgb(86, 101, 115)\", \"width\": 2.772680364763197}, \"lon\": [-63.616672, -95.712891], \"mode\": \"lines\", \"name\": \"\", \"opacity\": 0.2, \"showlegend\": false, \"type\": \"scattergeo\"}, {\"lat\": [4.570868, 15.870032], \"line\": {\"color\": \"rgb(86, 101, 115)\", \"width\": 2.5378564205881737}, \"lon\": [-74.297333, 100.992541], \"mode\": \"lines\", \"name\": \"\", \"opacity\": 0.2, \"showlegend\": false, \"type\": \"scattergeo\"}, {\"lat\": [4.570868, -14.235004], \"line\": {\"color\": \"#ff7f0e\", \"width\": 3.8053601963848487}, \"lon\": [-74.297333, -51.92528], \"mode\": \"lines\", \"name\": \"\", \"opacity\": 0.4, \"showlegend\": false, \"type\": \"scattergeo\"}, {\"lat\": [4.570868, -19.015438], \"line\": {\"color\": \"#ff7f0e\", \"width\": 3.2863159516352525}, \"lon\": [-74.297333, 29.154857], \"mode\": \"lines\", \"name\": \"\", \"opacity\": 0.4, \"showlegend\": false, \"type\": \"scattergeo\"}, {\"lat\": [4.570868, -16.290154], \"line\": {\"color\": \"#ff7f0e\", \"width\": 1.8461406877319413}, \"lon\": [-74.297333, -63.588653], \"mode\": \"lines\", \"name\": \"\", \"opacity\": 0.4, \"showlegend\": false, \"type\": \"scattergeo\"}],\n",
       "                        {\"geo\": {\"countrycolor\": \"rgb(204, 204, 204)\", \"landcolor\": \"rgb(243, 243, 243)\", \"showland\": true}, \"height\": 500, \"template\": {\"data\": {\"bar\": [{\"error_x\": {\"color\": \"#2a3f5f\"}, \"error_y\": {\"color\": \"#2a3f5f\"}, \"marker\": {\"line\": {\"color\": \"#E5ECF6\", \"width\": 0.5}}, \"type\": \"bar\"}], \"barpolar\": [{\"marker\": {\"line\": {\"color\": \"#E5ECF6\", \"width\": 0.5}}, \"type\": \"barpolar\"}], \"carpet\": [{\"aaxis\": {\"endlinecolor\": \"#2a3f5f\", \"gridcolor\": \"white\", \"linecolor\": \"white\", \"minorgridcolor\": \"white\", \"startlinecolor\": \"#2a3f5f\"}, \"baxis\": {\"endlinecolor\": \"#2a3f5f\", \"gridcolor\": \"white\", \"linecolor\": \"white\", \"minorgridcolor\": \"white\", \"startlinecolor\": \"#2a3f5f\"}, \"type\": \"carpet\"}], \"choropleth\": [{\"colorbar\": {\"outlinewidth\": 0, \"ticks\": \"\"}, \"type\": \"choropleth\"}], \"contour\": [{\"colorbar\": {\"outlinewidth\": 0, \"ticks\": \"\"}, \"colorscale\": [[0.0, \"#0d0887\"], [0.1111111111111111, \"#46039f\"], [0.2222222222222222, \"#7201a8\"], [0.3333333333333333, \"#9c179e\"], [0.4444444444444444, \"#bd3786\"], [0.5555555555555556, \"#d8576b\"], [0.6666666666666666, \"#ed7953\"], [0.7777777777777778, \"#fb9f3a\"], [0.8888888888888888, \"#fdca26\"], [1.0, \"#f0f921\"]], \"type\": \"contour\"}], \"contourcarpet\": [{\"colorbar\": {\"outlinewidth\": 0, \"ticks\": \"\"}, \"type\": \"contourcarpet\"}], \"heatmap\": [{\"colorbar\": {\"outlinewidth\": 0, \"ticks\": \"\"}, \"colorscale\": [[0.0, \"#0d0887\"], [0.1111111111111111, \"#46039f\"], [0.2222222222222222, \"#7201a8\"], [0.3333333333333333, \"#9c179e\"], [0.4444444444444444, \"#bd3786\"], [0.5555555555555556, \"#d8576b\"], [0.6666666666666666, \"#ed7953\"], [0.7777777777777778, \"#fb9f3a\"], [0.8888888888888888, \"#fdca26\"], [1.0, \"#f0f921\"]], \"type\": \"heatmap\"}], \"heatmapgl\": [{\"colorbar\": {\"outlinewidth\": 0, \"ticks\": \"\"}, \"colorscale\": [[0.0, \"#0d0887\"], [0.1111111111111111, \"#46039f\"], [0.2222222222222222, \"#7201a8\"], [0.3333333333333333, \"#9c179e\"], [0.4444444444444444, \"#bd3786\"], [0.5555555555555556, \"#d8576b\"], [0.6666666666666666, \"#ed7953\"], [0.7777777777777778, \"#fb9f3a\"], [0.8888888888888888, \"#fdca26\"], [1.0, \"#f0f921\"]], \"type\": \"heatmapgl\"}], \"histogram\": [{\"marker\": {\"colorbar\": {\"outlinewidth\": 0, \"ticks\": \"\"}}, \"type\": \"histogram\"}], \"histogram2d\": [{\"colorbar\": {\"outlinewidth\": 0, \"ticks\": \"\"}, \"colorscale\": [[0.0, \"#0d0887\"], [0.1111111111111111, \"#46039f\"], [0.2222222222222222, \"#7201a8\"], [0.3333333333333333, \"#9c179e\"], [0.4444444444444444, \"#bd3786\"], [0.5555555555555556, \"#d8576b\"], [0.6666666666666666, \"#ed7953\"], [0.7777777777777778, \"#fb9f3a\"], [0.8888888888888888, \"#fdca26\"], [1.0, \"#f0f921\"]], \"type\": \"histogram2d\"}], \"histogram2dcontour\": [{\"colorbar\": {\"outlinewidth\": 0, \"ticks\": \"\"}, \"colorscale\": [[0.0, \"#0d0887\"], [0.1111111111111111, \"#46039f\"], [0.2222222222222222, \"#7201a8\"], [0.3333333333333333, \"#9c179e\"], [0.4444444444444444, \"#bd3786\"], [0.5555555555555556, \"#d8576b\"], [0.6666666666666666, \"#ed7953\"], [0.7777777777777778, \"#fb9f3a\"], [0.8888888888888888, \"#fdca26\"], [1.0, \"#f0f921\"]], \"type\": \"histogram2dcontour\"}], \"mesh3d\": [{\"colorbar\": {\"outlinewidth\": 0, \"ticks\": \"\"}, \"type\": \"mesh3d\"}], \"parcoords\": [{\"line\": {\"colorbar\": {\"outlinewidth\": 0, \"ticks\": \"\"}}, \"type\": \"parcoords\"}], \"pie\": [{\"automargin\": true, \"type\": \"pie\"}], \"scatter\": [{\"marker\": {\"colorbar\": {\"outlinewidth\": 0, \"ticks\": \"\"}}, \"type\": \"scatter\"}], \"scatter3d\": [{\"line\": {\"colorbar\": {\"outlinewidth\": 0, \"ticks\": \"\"}}, \"marker\": {\"colorbar\": {\"outlinewidth\": 0, \"ticks\": \"\"}}, \"type\": \"scatter3d\"}], \"scattercarpet\": [{\"marker\": {\"colorbar\": {\"outlinewidth\": 0, \"ticks\": \"\"}}, \"type\": \"scattercarpet\"}], \"scattergeo\": [{\"marker\": {\"colorbar\": {\"outlinewidth\": 0, \"ticks\": \"\"}}, \"type\": \"scattergeo\"}], \"scattergl\": [{\"marker\": {\"colorbar\": {\"outlinewidth\": 0, \"ticks\": \"\"}}, \"type\": \"scattergl\"}], \"scattermapbox\": [{\"marker\": {\"colorbar\": {\"outlinewidth\": 0, \"ticks\": \"\"}}, \"type\": \"scattermapbox\"}], \"scatterpolar\": [{\"marker\": {\"colorbar\": {\"outlinewidth\": 0, \"ticks\": \"\"}}, \"type\": \"scatterpolar\"}], \"scatterpolargl\": [{\"marker\": {\"colorbar\": {\"outlinewidth\": 0, \"ticks\": \"\"}}, \"type\": \"scatterpolargl\"}], \"scatterternary\": [{\"marker\": {\"colorbar\": {\"outlinewidth\": 0, \"ticks\": \"\"}}, \"type\": \"scatterternary\"}], \"surface\": [{\"colorbar\": {\"outlinewidth\": 0, \"ticks\": \"\"}, \"colorscale\": [[0.0, \"#0d0887\"], [0.1111111111111111, \"#46039f\"], [0.2222222222222222, \"#7201a8\"], [0.3333333333333333, \"#9c179e\"], [0.4444444444444444, \"#bd3786\"], [0.5555555555555556, \"#d8576b\"], [0.6666666666666666, \"#ed7953\"], [0.7777777777777778, \"#fb9f3a\"], [0.8888888888888888, \"#fdca26\"], [1.0, \"#f0f921\"]], \"type\": \"surface\"}], \"table\": [{\"cells\": {\"fill\": {\"color\": \"#EBF0F8\"}, \"line\": {\"color\": \"white\"}}, \"header\": {\"fill\": {\"color\": \"#C8D4E3\"}, \"line\": {\"color\": \"white\"}}, \"type\": \"table\"}]}, \"layout\": {\"annotationdefaults\": {\"arrowcolor\": \"#2a3f5f\", \"arrowhead\": 0, \"arrowwidth\": 1}, \"coloraxis\": {\"colorbar\": {\"outlinewidth\": 0, \"ticks\": \"\"}}, \"colorscale\": {\"diverging\": [[0, \"#8e0152\"], [0.1, \"#c51b7d\"], [0.2, \"#de77ae\"], [0.3, \"#f1b6da\"], [0.4, \"#fde0ef\"], [0.5, \"#f7f7f7\"], [0.6, \"#e6f5d0\"], [0.7, \"#b8e186\"], [0.8, \"#7fbc41\"], [0.9, \"#4d9221\"], [1, \"#276419\"]], \"sequential\": [[0.0, \"#0d0887\"], [0.1111111111111111, \"#46039f\"], [0.2222222222222222, \"#7201a8\"], [0.3333333333333333, \"#9c179e\"], [0.4444444444444444, \"#bd3786\"], [0.5555555555555556, \"#d8576b\"], [0.6666666666666666, \"#ed7953\"], [0.7777777777777778, \"#fb9f3a\"], [0.8888888888888888, \"#fdca26\"], [1.0, \"#f0f921\"]], \"sequentialminus\": [[0.0, \"#0d0887\"], [0.1111111111111111, \"#46039f\"], [0.2222222222222222, \"#7201a8\"], [0.3333333333333333, \"#9c179e\"], [0.4444444444444444, \"#bd3786\"], [0.5555555555555556, \"#d8576b\"], [0.6666666666666666, \"#ed7953\"], [0.7777777777777778, \"#fb9f3a\"], [0.8888888888888888, \"#fdca26\"], [1.0, \"#f0f921\"]]}, \"colorway\": [\"#636efa\", \"#EF553B\", \"#00cc96\", \"#ab63fa\", \"#FFA15A\", \"#19d3f3\", \"#FF6692\", \"#B6E880\", \"#FF97FF\", \"#FECB52\"], \"font\": {\"color\": \"#2a3f5f\"}, \"geo\": {\"bgcolor\": \"white\", \"lakecolor\": \"white\", \"landcolor\": \"#E5ECF6\", \"showlakes\": true, \"showland\": true, \"subunitcolor\": \"white\"}, \"hoverlabel\": {\"align\": \"left\"}, \"hovermode\": \"closest\", \"mapbox\": {\"style\": \"light\"}, \"paper_bgcolor\": \"white\", \"plot_bgcolor\": \"#E5ECF6\", \"polar\": {\"angularaxis\": {\"gridcolor\": \"white\", \"linecolor\": \"white\", \"ticks\": \"\"}, \"bgcolor\": \"#E5ECF6\", \"radialaxis\": {\"gridcolor\": \"white\", \"linecolor\": \"white\", \"ticks\": \"\"}}, \"scene\": {\"xaxis\": {\"backgroundcolor\": \"#E5ECF6\", \"gridcolor\": \"white\", \"gridwidth\": 2, \"linecolor\": \"white\", \"showbackground\": true, \"ticks\": \"\", \"zerolinecolor\": \"white\"}, \"yaxis\": {\"backgroundcolor\": \"#E5ECF6\", \"gridcolor\": \"white\", \"gridwidth\": 2, \"linecolor\": \"white\", \"showbackground\": true, \"ticks\": \"\", \"zerolinecolor\": \"white\"}, \"zaxis\": {\"backgroundcolor\": \"#E5ECF6\", \"gridcolor\": \"white\", \"gridwidth\": 2, \"linecolor\": \"white\", \"showbackground\": true, \"ticks\": \"\", \"zerolinecolor\": \"white\"}}, \"shapedefaults\": {\"line\": {\"color\": \"#2a3f5f\"}}, \"ternary\": {\"aaxis\": {\"gridcolor\": \"white\", \"linecolor\": \"white\", \"ticks\": \"\"}, \"baxis\": {\"gridcolor\": \"white\", \"linecolor\": \"white\", \"ticks\": \"\"}, \"bgcolor\": \"#E5ECF6\", \"caxis\": {\"gridcolor\": \"white\", \"linecolor\": \"white\", \"ticks\": \"\"}}, \"title\": {\"x\": 0.05}, \"xaxis\": {\"automargin\": true, \"gridcolor\": \"white\", \"linecolor\": \"white\", \"ticks\": \"\", \"title\": {\"standoff\": 15}, \"zerolinecolor\": \"white\", \"zerolinewidth\": 2}, \"yaxis\": {\"automargin\": true, \"gridcolor\": \"white\", \"linecolor\": \"white\", \"ticks\": \"\", \"title\": {\"standoff\": 15}, \"zerolinecolor\": \"white\", \"zerolinewidth\": 2}}}, \"title\": {\"text\": \"\"}, \"width\": 800},\n",
       "                        {\"responsive\": true}\n",
       "                    ).then(function(){\n",
       "                            \n",
       "var gd = document.getElementById('2026b535-3142-4f8a-b8f5-da6c125ecf39');\n",
       "var x = new MutationObserver(function (mutations, observer) {{\n",
       "        var display = window.getComputedStyle(gd).display;\n",
       "        if (!display || display === 'none') {{\n",
       "            console.log([gd, 'removed!']);\n",
       "            Plotly.purge(gd);\n",
       "            observer.disconnect();\n",
       "        }}\n",
       "}});\n",
       "\n",
       "// Listen for the removal of the full notebook cells\n",
       "var notebookContainer = gd.closest('#notebook-container');\n",
       "if (notebookContainer) {{\n",
       "    x.observe(notebookContainer, {childList: true});\n",
       "}}\n",
       "\n",
       "// Listen for the clearing of the current output cell\n",
       "var outputEl = gd.closest('.output');\n",
       "if (outputEl) {{\n",
       "    x.observe(outputEl, {childList: true});\n",
       "}}\n",
       "\n",
       "                        })\n",
       "                };\n",
       "                });\n",
       "            </script>\n",
       "        </div>"
      ]
     },
     "metadata": {},
     "output_type": "display_data"
    }
   ],
   "source": [
    "# plot the graph on map\n",
    "fig = go.Figure()\n",
    "\n",
    "# add bubbles representing forest land differential between 1990 and 2017 for selected countries\n",
    "for area_index, Area in enumerate(countries_centers.index):\n",
    "\n",
    "    show_legend = False\n",
    "    legend_label = ''\n",
    "    \n",
    "    fig.add_trace(go.Scattergeo(\n",
    "            lon = [countries_centers.loc[Area, 'Longitude']],\n",
    "            lat = [countries_centers.loc[Area, 'Latitude']],\n",
    "            hoverinfo = 'text',\n",
    "            text = Area,\n",
    "            mode = 'markers',\n",
    "            marker = dict(\n",
    "                size = sizes[area_index],\n",
    "                color = colors[area_index],\n",
    "                opacity = 1,\n",
    "                line = dict(\n",
    "                    width = 3,\n",
    "                    color = 'rgba(68, 68, 68, 0)'\n",
    "                    )\n",
    "                ),\n",
    "            name=legend_label,\n",
    "            showlegend=show_legend\n",
    "            )\n",
    "        )\n",
    "\n",
    "# add connections between countries based on distance in agricultural production share\n",
    "connections = []\n",
    "for i, country_1 in enumerate(the_20_countries):\n",
    "    for j, country_2 in enumerate(the_20_countries):\n",
    "        \n",
    "        # skip diagonal\n",
    "        if country_1 == country_2:\n",
    "            continue\n",
    "            \n",
    "        # threshold for distance\n",
    "        distance = distances.loc[country_1, country_2]\n",
    "        if distance > 0.2:\n",
    "            continue\n",
    "        \n",
    "        # set color for connection\n",
    "        if (country_1 in top_10_reforested_countries.tolist()) & (country_2 in top_10_reforested_countries.tolist()):\n",
    "            line_color = reforested_color\n",
    "            opacity_ = 0.4\n",
    "        elif (country_1 in top_10_deforested_countries.tolist()) & (country_2 in top_10_deforested_countries.tolist()):\n",
    "            line_color = deforested_color\n",
    "            opacity_ = 0.4\n",
    "        else:\n",
    "            line_color = 'rgb(86, 101, 115)'\n",
    "            opacity_ = 0.2\n",
    "            \n",
    "        # add connection\n",
    "        fig.add_trace(\n",
    "            go.Scattergeo(\n",
    "                lon = [countries_centers.loc[country_1].Longitude, countries_centers.loc[country_2].Longitude],\n",
    "                lat = [countries_centers.loc[country_1].Latitude, countries_centers.loc[country_2].Latitude],\n",
    "                mode = 'lines',\n",
    "                line = dict(width = 0.3/distance, color = line_color),\n",
    "                opacity = opacity_,\n",
    "                name=legend_label,\n",
    "                showlegend=show_legend\n",
    "            )\n",
    "        )\n",
    "        \n",
    "# set white background for countries      \n",
    "fig.update_layout(\n",
    "    title_text = '',\n",
    "    geo = go.layout.Geo(\n",
    "        showland = True,\n",
    "        landcolor = 'rgb(243, 243, 243)',\n",
    "        countrycolor = 'rgb(204, 204, 204)',\n",
    "    ),\n",
    "    width=800,\n",
    "    height=500,\n",
    ")\n",
    "\n",
    "fig.show()\n",
    "\n",
    "# save figure to embed it in html page\n",
    "# py.offline.plot(fig, filename='agricultural_similarity.html')  "
   ]
  },
  {
   "cell_type": "markdown",
   "metadata": {},
   "source": [
    "Can deforestation be triggered by the need of new cultivable lands? Is the typical agricultural production of a country linked to this need? Moving from the answers to these questions it would be possible to establish some guidelines for responsible developement of agriculture in emerging economies."
   ]
  },
  {
   "cell_type": "markdown",
   "metadata": {},
   "source": [
    "Land use, with particular attention to the type of products cultivated on agriculture land, can be an interesting perspective from which to look at the problem at hand. Analysing the 20 countries that had the biggest differential in forest land between 1990 and 2015 (10 positive, reforesting; 10 negative, diminishing forest land) it can be observed how the agricultural style of a country is often linked to the effort of expanding tree covered areas. China, which has the highest positive impact on reforestation all over the world, shares many agrarian products with european nations that are also expanding forested areas; similar agricultural organization and ecological policy can be found in Chile, despite being it geographically closer to Argentina, Bolivia, Brazil and Colombia. Intresting facts are that Zimbabwe has farming style particularly similar to the last three aforementioned countries, while among african nations (all characterized by a decrease in forest land in the analysed time span) only a quite weak bound can be seen between Nigeria and DRC. At last, in the Middle East area interesting facts happen: Thailand has, from the farming perspective, a profile much closer to deforesting countries, not sharing many products with first mentioned group, the european one, even if it has a positive forest land differential; Myanmar and Vietnam are very close from the agricultural point of view but far for what concerns foresting policies; Indonesia has a unique farming style."
   ]
  },
  {
   "cell_type": "code",
   "execution_count": 37,
   "metadata": {},
   "outputs": [
    {
     "data": {
      "text/plain": [
       "37                        China\n",
       "185    United States of America\n",
       "83                        India\n",
       "190                    Viet Nam\n",
       "165                       Spain\n",
       "62                       France\n",
       "36                        Chile\n",
       "171                    Thailand\n",
       "178                      Turkey\n",
       "90                        Italy\n",
       "Name: Area, dtype: object"
      ]
     },
     "execution_count": 37,
     "metadata": {},
     "output_type": "execute_result"
    }
   ],
   "source": [
    "top_10_reforested_countries"
   ]
  },
  {
   "cell_type": "code",
   "execution_count": 38,
   "metadata": {
    "scrolled": true
   },
   "outputs": [
    {
     "data": {
      "text/plain": [
       "22                               Brazil\n",
       "84                            Indonesia\n",
       "128                             Nigeria\n",
       "118                             Myanmar\n",
       "184         United Republic of Tanzania\n",
       "195                            Zimbabwe\n",
       "20     Bolivia (Plurinational State of)\n",
       "48     Democratic Republic of the Congo\n",
       "8                             Argentina\n",
       "39                             Colombia\n",
       "Name: Area, dtype: object"
      ]
     },
     "execution_count": 38,
     "metadata": {},
     "output_type": "execute_result"
    }
   ],
   "source": [
    "top_10_deforested_countries"
   ]
  },
  {
   "cell_type": "code",
   "execution_count": 39,
   "metadata": {},
   "outputs": [
    {
     "data": {
      "image/png": "[encoded data removed]",
      "text/plain": [
       "<Figure size 1080x720 with 1 Axes>"
      ]
     },
     "metadata": {
      "needs_background": "light"
     },
     "output_type": "display_data"
    }
   ],
   "source": [
    "from sklearn.decomposition import PCA\n",
    "\n",
    "# PCA on the whole agricultural share matrix (all countries)\n",
    "\n",
    "# matrix rows are countries, columns are products; values are shares (%) of total yearly production\n",
    "pca = PCA(n_components=2)\n",
    "principalComponents = pca.fit_transform(production_shares_matrix.values)\n",
    "principalDf = pd.DataFrame(data=principalComponents, columns=['PC1', 'PC2'])\n",
    "\n",
    "# plot results in 2D and look for clusters\n",
    "plt.figure(figsize=(15, 10))\n",
    "plt.scatter(principalDf.PC1, principalDf.PC2, marker='o', s=100)\n",
    "# add country names to the plot\n",
    "for i, country in enumerate(production_shares_matrix.index.values):\n",
    "    plt.annotate(country, (principalDf.PC1[i], principalDf.PC2[i]))\n",
    "for i, country in enumerate(production_shares_matrix.index.values):\n",
    "    plt.annotate(country, (principalDf.PC1[i], principalDf.PC2[i]))\n",
    "plt.title('Countries agriculture using the first two Principal Components')\n",
    "plt.gca().set_xlabel('Principal Component 1')\n",
    "plt.gca().set_ylabel('Principal Component 2')\n",
    "plt.legend(['Top 10 reforested', 'Top 10 deforested'])\n",
    "plt.show()"
   ]
  },
  {
   "cell_type": "code",
   "execution_count": 40,
   "metadata": {
    "scrolled": false
   },
   "outputs": [
    {
     "data": {
      "image/png": "[encoded data removed]",
      "text/plain": [
       "<Figure size 1080x720 with 1 Axes>"
      ]
     },
     "metadata": {
      "needs_background": "light"
     },
     "output_type": "display_data"
    }
   ],
   "source": [
    "from sklearn.decomposition import PCA\n",
    "\n",
    "# PCA on top 10 re- and de-forester countries\n",
    "\n",
    "# compute the reduced matrix (only 20 countries from the two top 10) before applying SVD\n",
    "reduced_production_shares_matrix = production_shares_matrix.loc[production_shares_matrix.index.isin(top_10_deforested_countries.values.tolist() + \n",
    "                                                                                                    top_10_reforested_countries.values.tolist())]\n",
    "\n",
    "# find top 10 re- and de-forester countries indices (rows) in the matrix\n",
    "reduced_deforester_indices = []\n",
    "reduced_reforester_indices = []\n",
    "for i in range(0, reduced_production_shares_matrix.shape[0]):\n",
    "    if reduced_production_shares_matrix.index[i] in top_10_deforested_countries.values:\n",
    "        reduced_deforester_indices.append(i)\n",
    "    elif reduced_production_shares_matrix.index[i] in top_10_reforested_countries.values:\n",
    "        reduced_reforester_indices.append(i)\n",
    "        \n",
    "# matrix rows are countries, columns are products; values are shares (%) of total yearly production\n",
    "pca = PCA(n_components=2)\n",
    "principalComponents = pca.fit_transform(reduced_production_shares_matrix.values)\n",
    "principalDf = pd.DataFrame(data=principalComponents, columns=['PC1', 'PC2'])\n",
    "\n",
    "# plot results in 2D and look for clusters\n",
    "plt.figure(figsize=(15, 10))\n",
    "plt.scatter(principalDf.PC1[reduced_reforester_indices], principalDf.PC2[reduced_reforester_indices], marker='o', s=200)\n",
    "plt.scatter(principalDf.PC1[reduced_deforester_indices], principalDf.PC2[reduced_deforester_indices], marker='o', s=200)\n",
    "# add country names to the plot\n",
    "for i, country in enumerate(reduced_production_shares_matrix.index.values[reduced_reforester_indices]):\n",
    "    plt.annotate(country, (principalDf.PC1[reduced_reforester_indices[i]], principalDf.PC2[reduced_reforester_indices[i]]))\n",
    "for i, country in enumerate(reduced_production_shares_matrix.index.values[reduced_deforester_indices]):\n",
    "    plt.annotate(country, (principalDf.PC1[reduced_deforester_indices[i]], principalDf.PC2[reduced_deforester_indices[i]]))\n",
    "plt.title('Countries agriculture using the first two Principal Components')\n",
    "plt.gca().set_xlabel('Principal Component 1')\n",
    "plt.gca().set_ylabel('Principal Component 2')\n",
    "plt.legend(['Top 10 reforested', 'Top 10 deforested'])\n",
    "plt.show()"
   ]
  },
  {
   "cell_type": "code",
   "execution_count": 41,
   "metadata": {},
   "outputs": [
    {
     "name": "stdout",
     "output_type": "stream",
     "text": [
      "First 5 singular values:\n",
      " [73.09122664 59.47589432 36.79460944 31.44658291 24.02238777]\n",
      "\n",
      "Variance explanation of the first 5 singular values:\n",
      " [0.41421918 0.27427212 0.1049707  0.07667374 0.04474372]\n"
     ]
    }
   ],
   "source": [
    "# first 10 singular values\n",
    "N = 5\n",
    "pca_singular_values = PCA(n_components=N)\n",
    "pca_singular_values.fit_transform(reduced_production_shares_matrix.values)\n",
    "print(\"First \" + str(N) + \" singular values:\\n\", pca_singular_values.singular_values_, end='\\n\\n')\n",
    "\n",
    "# variance explanation ratio for each singular value\n",
    "print(\"Variance explanation of the first \" + str(N) + \" singular values:\\n\", pca_singular_values.explained_variance_ratio_)"
   ]
  },
  {
   "cell_type": "markdown",
   "metadata": {},
   "source": [
    ">#### ***Explanation***\n",
    "> **PCA** is used to classify the countries based on their agricultural production in a 2D space.\n",
    "> + Pros:\n",
    ">\n",
    ">   + Simple **visual** clustering.\n",
    ">\n",
    ">   + **Deforesting countries** (orange) **have a more spread distribution** and are on average far from the blue cluster of countries that increase forest land. \n",
    ">\n",
    "> + Cons: \n",
    ">\n",
    ">   + **Lack of interpretability** since the dimensions does not have a physical meaning.\n",
    ">\n",
    ">   + The clustering in two classes is far from perfect.\n",
    ">   \n",
    ">   + The difference between the two biggest singular values and the others is not so high (the third is about half the second): **not-negligible variations are thrown away** with just 2 dimensions."
   ]
  },
  {
   "cell_type": "markdown",
   "metadata": {},
   "source": [
    "# Compare agriculture and forest land change in time"
   ]
  },
  {
   "cell_type": "code",
   "execution_count": 67,
   "metadata": {},
   "outputs": [],
   "source": [
    "CONTINENTS = ['Africa', 'Asia', 'Oceania', 'Europe', 'Northern America', 'South America', 'Antarctic Region']\n",
    "AGRICULTURE_LAND_USE_ITEMS = ['Agricultural land', 'Cropland', 'Land under perm. meadows and pastures']\n",
    "FOREST_LAND_USE_ITEMS = ['Forestry']"
   ]
  },
  {
   "cell_type": "code",
   "execution_count": 68,
   "metadata": {},
   "outputs": [],
   "source": [
    "land_use = land_use_all[(land_use_all.Item.isin(AGRICULTURE_LAND_USE_ITEMS) | \n",
    "                        land_use_all.Item.isin(FOREST_LAND_USE_ITEMS)) &\n",
    "                        land_use_all.Element.str.match('Area') &\n",
    "                        land_use_all.Area.isin(CONTINENTS)]\n",
    "\n"
   ]
  },
  {
   "cell_type": "code",
   "execution_count": 69,
   "metadata": {},
   "outputs": [
    {
     "data": {
      "text/html": [
       "<div>\n",
       "<style scoped>\n",
       "    .dataframe tbody tr th:only-of-type {\n",
       "        vertical-align: middle;\n",
       "    }\n",
       "\n",
       "    .dataframe tbody tr th {\n",
       "        vertical-align: top;\n",
       "    }\n",
       "\n",
       "    .dataframe thead th {\n",
       "        text-align: right;\n",
       "    }\n",
       "</style>\n",
       "<table border=\"1\" class=\"dataframe\">\n",
       "  <thead>\n",
       "    <tr style=\"text-align: right;\">\n",
       "      <th></th>\n",
       "      <th>Area Code</th>\n",
       "      <th>Area</th>\n",
       "      <th>Item Code</th>\n",
       "      <th>Item</th>\n",
       "      <th>Element Code</th>\n",
       "      <th>Element</th>\n",
       "      <th>Year Code</th>\n",
       "      <th>Year</th>\n",
       "      <th>Unit</th>\n",
       "      <th>Value</th>\n",
       "      <th>Flag</th>\n",
       "    </tr>\n",
       "  </thead>\n",
       "  <tbody>\n",
       "    <tr>\n",
       "      <td>168503</td>\n",
       "      <td>5100</td>\n",
       "      <td>Africa</td>\n",
       "      <td>6610</td>\n",
       "      <td>Agricultural land</td>\n",
       "      <td>5110</td>\n",
       "      <td>Area</td>\n",
       "      <td>2006</td>\n",
       "      <td>2006</td>\n",
       "      <td>1000 ha</td>\n",
       "      <td>1.151510e+06</td>\n",
       "      <td>A</td>\n",
       "    </tr>\n",
       "    <tr>\n",
       "      <td>168504</td>\n",
       "      <td>5100</td>\n",
       "      <td>Africa</td>\n",
       "      <td>6610</td>\n",
       "      <td>Agricultural land</td>\n",
       "      <td>5110</td>\n",
       "      <td>Area</td>\n",
       "      <td>2007</td>\n",
       "      <td>2007</td>\n",
       "      <td>1000 ha</td>\n",
       "      <td>1.155138e+06</td>\n",
       "      <td>A</td>\n",
       "    </tr>\n",
       "    <tr>\n",
       "      <td>168505</td>\n",
       "      <td>5100</td>\n",
       "      <td>Africa</td>\n",
       "      <td>6610</td>\n",
       "      <td>Agricultural land</td>\n",
       "      <td>5110</td>\n",
       "      <td>Area</td>\n",
       "      <td>2008</td>\n",
       "      <td>2008</td>\n",
       "      <td>1000 ha</td>\n",
       "      <td>1.159502e+06</td>\n",
       "      <td>A</td>\n",
       "    </tr>\n",
       "    <tr>\n",
       "      <td>168506</td>\n",
       "      <td>5100</td>\n",
       "      <td>Africa</td>\n",
       "      <td>6610</td>\n",
       "      <td>Agricultural land</td>\n",
       "      <td>5110</td>\n",
       "      <td>Area</td>\n",
       "      <td>2009</td>\n",
       "      <td>2009</td>\n",
       "      <td>1000 ha</td>\n",
       "      <td>1.124792e+06</td>\n",
       "      <td>A</td>\n",
       "    </tr>\n",
       "    <tr>\n",
       "      <td>168507</td>\n",
       "      <td>5100</td>\n",
       "      <td>Africa</td>\n",
       "      <td>6610</td>\n",
       "      <td>Agricultural land</td>\n",
       "      <td>5110</td>\n",
       "      <td>Area</td>\n",
       "      <td>2010</td>\n",
       "      <td>2010</td>\n",
       "      <td>1000 ha</td>\n",
       "      <td>1.126316e+06</td>\n",
       "      <td>A</td>\n",
       "    </tr>\n",
       "    <tr>\n",
       "      <td>168560</td>\n",
       "      <td>5100</td>\n",
       "      <td>Africa</td>\n",
       "      <td>6620</td>\n",
       "      <td>Cropland</td>\n",
       "      <td>5110</td>\n",
       "      <td>Area</td>\n",
       "      <td>2006</td>\n",
       "      <td>2006</td>\n",
       "      <td>1000 ha</td>\n",
       "      <td>2.475981e+05</td>\n",
       "      <td>A</td>\n",
       "    </tr>\n",
       "    <tr>\n",
       "      <td>168561</td>\n",
       "      <td>5100</td>\n",
       "      <td>Africa</td>\n",
       "      <td>6620</td>\n",
       "      <td>Cropland</td>\n",
       "      <td>5110</td>\n",
       "      <td>Area</td>\n",
       "      <td>2007</td>\n",
       "      <td>2007</td>\n",
       "      <td>1000 ha</td>\n",
       "      <td>2.510162e+05</td>\n",
       "      <td>A</td>\n",
       "    </tr>\n",
       "    <tr>\n",
       "      <td>168562</td>\n",
       "      <td>5100</td>\n",
       "      <td>Africa</td>\n",
       "      <td>6620</td>\n",
       "      <td>Cropland</td>\n",
       "      <td>5110</td>\n",
       "      <td>Area</td>\n",
       "      <td>2008</td>\n",
       "      <td>2008</td>\n",
       "      <td>1000 ha</td>\n",
       "      <td>2.553214e+05</td>\n",
       "      <td>A</td>\n",
       "    </tr>\n",
       "    <tr>\n",
       "      <td>168563</td>\n",
       "      <td>5100</td>\n",
       "      <td>Africa</td>\n",
       "      <td>6620</td>\n",
       "      <td>Cropland</td>\n",
       "      <td>5110</td>\n",
       "      <td>Area</td>\n",
       "      <td>2009</td>\n",
       "      <td>2009</td>\n",
       "      <td>1000 ha</td>\n",
       "      <td>2.554307e+05</td>\n",
       "      <td>A</td>\n",
       "    </tr>\n",
       "    <tr>\n",
       "      <td>168564</td>\n",
       "      <td>5100</td>\n",
       "      <td>Africa</td>\n",
       "      <td>6620</td>\n",
       "      <td>Cropland</td>\n",
       "      <td>5110</td>\n",
       "      <td>Area</td>\n",
       "      <td>2010</td>\n",
       "      <td>2010</td>\n",
       "      <td>1000 ha</td>\n",
       "      <td>2.592700e+05</td>\n",
       "      <td>A</td>\n",
       "    </tr>\n",
       "    <tr>\n",
       "      <td>168731</td>\n",
       "      <td>5100</td>\n",
       "      <td>Africa</td>\n",
       "      <td>6655</td>\n",
       "      <td>Land under perm. meadows and pastures</td>\n",
       "      <td>5110</td>\n",
       "      <td>Area</td>\n",
       "      <td>2006</td>\n",
       "      <td>2006</td>\n",
       "      <td>1000 ha</td>\n",
       "      <td>9.039118e+05</td>\n",
       "      <td>A</td>\n",
       "    </tr>\n",
       "    <tr>\n",
       "      <td>168732</td>\n",
       "      <td>5100</td>\n",
       "      <td>Africa</td>\n",
       "      <td>6655</td>\n",
       "      <td>Land under perm. meadows and pastures</td>\n",
       "      <td>5110</td>\n",
       "      <td>Area</td>\n",
       "      <td>2007</td>\n",
       "      <td>2007</td>\n",
       "      <td>1000 ha</td>\n",
       "      <td>9.041221e+05</td>\n",
       "      <td>A</td>\n",
       "    </tr>\n",
       "    <tr>\n",
       "      <td>168733</td>\n",
       "      <td>5100</td>\n",
       "      <td>Africa</td>\n",
       "      <td>6655</td>\n",
       "      <td>Land under perm. meadows and pastures</td>\n",
       "      <td>5110</td>\n",
       "      <td>Area</td>\n",
       "      <td>2008</td>\n",
       "      <td>2008</td>\n",
       "      <td>1000 ha</td>\n",
       "      <td>9.041809e+05</td>\n",
       "      <td>A</td>\n",
       "    </tr>\n",
       "    <tr>\n",
       "      <td>168734</td>\n",
       "      <td>5100</td>\n",
       "      <td>Africa</td>\n",
       "      <td>6655</td>\n",
       "      <td>Land under perm. meadows and pastures</td>\n",
       "      <td>5110</td>\n",
       "      <td>Area</td>\n",
       "      <td>2009</td>\n",
       "      <td>2009</td>\n",
       "      <td>1000 ha</td>\n",
       "      <td>8.693617e+05</td>\n",
       "      <td>A</td>\n",
       "    </tr>\n",
       "    <tr>\n",
       "      <td>168735</td>\n",
       "      <td>5100</td>\n",
       "      <td>Africa</td>\n",
       "      <td>6655</td>\n",
       "      <td>Land under perm. meadows and pastures</td>\n",
       "      <td>5110</td>\n",
       "      <td>Area</td>\n",
       "      <td>2010</td>\n",
       "      <td>2010</td>\n",
       "      <td>1000 ha</td>\n",
       "      <td>8.670456e+05</td>\n",
       "      <td>A</td>\n",
       "    </tr>\n",
       "    <tr>\n",
       "      <td>168759</td>\n",
       "      <td>5100</td>\n",
       "      <td>Africa</td>\n",
       "      <td>6663</td>\n",
       "      <td>Forestry</td>\n",
       "      <td>5110</td>\n",
       "      <td>Area</td>\n",
       "      <td>2006</td>\n",
       "      <td>2006</td>\n",
       "      <td>1000 ha</td>\n",
       "      <td>6.513996e+05</td>\n",
       "      <td>A</td>\n",
       "    </tr>\n",
       "    <tr>\n",
       "      <td>168760</td>\n",
       "      <td>5100</td>\n",
       "      <td>Africa</td>\n",
       "      <td>6663</td>\n",
       "      <td>Forestry</td>\n",
       "      <td>5110</td>\n",
       "      <td>Area</td>\n",
       "      <td>2007</td>\n",
       "      <td>2007</td>\n",
       "      <td>1000 ha</td>\n",
       "      <td>6.481202e+05</td>\n",
       "      <td>A</td>\n",
       "    </tr>\n",
       "    <tr>\n",
       "      <td>168761</td>\n",
       "      <td>5100</td>\n",
       "      <td>Africa</td>\n",
       "      <td>6663</td>\n",
       "      <td>Forestry</td>\n",
       "      <td>5110</td>\n",
       "      <td>Area</td>\n",
       "      <td>2008</td>\n",
       "      <td>2008</td>\n",
       "      <td>1000 ha</td>\n",
       "      <td>6.448409e+05</td>\n",
       "      <td>A</td>\n",
       "    </tr>\n",
       "    <tr>\n",
       "      <td>168762</td>\n",
       "      <td>5100</td>\n",
       "      <td>Africa</td>\n",
       "      <td>6663</td>\n",
       "      <td>Forestry</td>\n",
       "      <td>5110</td>\n",
       "      <td>Area</td>\n",
       "      <td>2009</td>\n",
       "      <td>2009</td>\n",
       "      <td>1000 ha</td>\n",
       "      <td>6.415615e+05</td>\n",
       "      <td>A</td>\n",
       "    </tr>\n",
       "    <tr>\n",
       "      <td>168763</td>\n",
       "      <td>5100</td>\n",
       "      <td>Africa</td>\n",
       "      <td>6663</td>\n",
       "      <td>Forestry</td>\n",
       "      <td>5110</td>\n",
       "      <td>Area</td>\n",
       "      <td>2010</td>\n",
       "      <td>2010</td>\n",
       "      <td>1000 ha</td>\n",
       "      <td>6.382822e+05</td>\n",
       "      <td>A</td>\n",
       "    </tr>\n",
       "  </tbody>\n",
       "</table>\n",
       "</div>"
      ],
      "text/plain": [
       "        Area Code    Area  Item Code                                   Item  \\\n",
       "168503       5100  Africa       6610                      Agricultural land   \n",
       "168504       5100  Africa       6610                      Agricultural land   \n",
       "168505       5100  Africa       6610                      Agricultural land   \n",
       "168506       5100  Africa       6610                      Agricultural land   \n",
       "168507       5100  Africa       6610                      Agricultural land   \n",
       "168560       5100  Africa       6620                               Cropland   \n",
       "168561       5100  Africa       6620                               Cropland   \n",
       "168562       5100  Africa       6620                               Cropland   \n",
       "168563       5100  Africa       6620                               Cropland   \n",
       "168564       5100  Africa       6620                               Cropland   \n",
       "168731       5100  Africa       6655  Land under perm. meadows and pastures   \n",
       "168732       5100  Africa       6655  Land under perm. meadows and pastures   \n",
       "168733       5100  Africa       6655  Land under perm. meadows and pastures   \n",
       "168734       5100  Africa       6655  Land under perm. meadows and pastures   \n",
       "168735       5100  Africa       6655  Land under perm. meadows and pastures   \n",
       "168759       5100  Africa       6663                               Forestry   \n",
       "168760       5100  Africa       6663                               Forestry   \n",
       "168761       5100  Africa       6663                               Forestry   \n",
       "168762       5100  Africa       6663                               Forestry   \n",
       "168763       5100  Africa       6663                               Forestry   \n",
       "\n",
       "        Element Code Element  Year Code  Year     Unit         Value Flag  \n",
       "168503          5110    Area       2006  2006  1000 ha  1.151510e+06    A  \n",
       "168504          5110    Area       2007  2007  1000 ha  1.155138e+06    A  \n",
       "168505          5110    Area       2008  2008  1000 ha  1.159502e+06    A  \n",
       "168506          5110    Area       2009  2009  1000 ha  1.124792e+06    A  \n",
       "168507          5110    Area       2010  2010  1000 ha  1.126316e+06    A  \n",
       "168560          5110    Area       2006  2006  1000 ha  2.475981e+05    A  \n",
       "168561          5110    Area       2007  2007  1000 ha  2.510162e+05    A  \n",
       "168562          5110    Area       2008  2008  1000 ha  2.553214e+05    A  \n",
       "168563          5110    Area       2009  2009  1000 ha  2.554307e+05    A  \n",
       "168564          5110    Area       2010  2010  1000 ha  2.592700e+05    A  \n",
       "168731          5110    Area       2006  2006  1000 ha  9.039118e+05    A  \n",
       "168732          5110    Area       2007  2007  1000 ha  9.041221e+05    A  \n",
       "168733          5110    Area       2008  2008  1000 ha  9.041809e+05    A  \n",
       "168734          5110    Area       2009  2009  1000 ha  8.693617e+05    A  \n",
       "168735          5110    Area       2010  2010  1000 ha  8.670456e+05    A  \n",
       "168759          5110    Area       2006  2006  1000 ha  6.513996e+05    A  \n",
       "168760          5110    Area       2007  2007  1000 ha  6.481202e+05    A  \n",
       "168761          5110    Area       2008  2008  1000 ha  6.448409e+05    A  \n",
       "168762          5110    Area       2009  2009  1000 ha  6.415615e+05    A  \n",
       "168763          5110    Area       2010  2010  1000 ha  6.382822e+05    A  "
      ]
     },
     "execution_count": 69,
     "metadata": {},
     "output_type": "execute_result"
    }
   ],
   "source": [
    "land_use[(land_use.Area == 'Africa') &\n",
    "         (land_use.Year >= 2006) &\n",
    "         (land_use.Year <= 2010)]"
   ]
  },
  {
   "cell_type": "code",
   "execution_count": 70,
   "metadata": {},
   "outputs": [],
   "source": [
    "#     agriculture_land.reset_index()\n",
    "#     agriculture_land = agriculture_land[agriculture_land.Area.str.match(\"Oceania\")]\\\n",
    "#                       .append(agriculture_land[agriculture_land.Area.str.match(\"South America\")])\\\n",
    "#                       .append(agriculture_land[agriculture_land.Area.str.match(\"Africa\")])\\\n",
    "#                       .append(agriculture_land[agriculture_land.Area.str.match(\"Northern America\")])\\\n",
    "#                       .append(agriculture_land[agriculture_land.Area.str.match(\"Europe\")])\\\n",
    "#                       .append(agriculture_land[agriculture_land.Area.str.match(\"Asia\")])"
   ]
  },
  {
   "cell_type": "code",
   "execution_count": 71,
   "metadata": {},
   "outputs": [
    {
     "data": {
      "application/vnd.plotly.v1+json": {
       "config": {
        "plotlyServerURL": "https://plot.ly"
       },
       "data": [
        {
         "name": "Cropland",
         "orientation": "h",
         "type": "bar",
         "visible": true,
         "x": [
          0,
          0,
          0,
          0,
          0,
          0
         ],
         "xaxis": "x",
         "y": [
          "Africa",
          "Northern America",
          "South America",
          "Asia",
          "Europe",
          "Oceania"
         ],
         "yaxis": "y"
        },
        {
         "name": "Meadows, pastures",
         "orientation": "h",
         "type": "bar",
         "visible": true,
         "x": [
          0,
          0,
          0,
          0,
          0,
          0
         ],
         "xaxis": "x",
         "y": [
          "Africa",
          "Northern America",
          "South America",
          "Asia",
          "Europe",
          "Oceania"
         ],
         "yaxis": "y"
        },
        {
         "name": "Forest land",
         "orientation": "h",
         "type": "bar",
         "visible": true,
         "x": [
          0,
          0,
          0,
          0,
          0,
          0
         ],
         "xaxis": "x",
         "y": [
          "Africa",
          "Northern America",
          "South America",
          "Asia",
          "Europe",
          "Oceania"
         ],
         "yaxis": "y"
        },
        {
         "name": "Cropland",
         "orientation": "h",
         "type": "bar",
         "visible": false,
         "x": [
          8703.5,
          -6179,
          5355,
          323.69999999995343,
          -4740.799999999988,
          6231.59
         ],
         "xaxis": "x",
         "y": [
          "Africa",
          "Northern America",
          "South America",
          "Asia",
          "Europe",
          "Oceania"
         ],
         "yaxis": "y"
        },
        {
         "name": "Meadows, pastures",
         "orientation": "h",
         "type": "bar",
         "visible": false,
         "x": [
          8400,
          -69.79999999998836,
          1256.7000000000116,
          42947.89999999991,
          1988.4000000000233,
          -15935.5
         ],
         "xaxis": "x",
         "y": [
          "Africa",
          "Northern America",
          "South America",
          "Asia",
          "Europe",
          "Oceania"
         ],
         "yaxis": "y"
        },
        {
         "name": "Forest land",
         "orientation": "h",
         "type": "bar",
         "visible": false,
         "x": [
          -14147.179999999935,
          245.9199999999255,
          -15998.63639999996,
          -883.9476000000723,
          3212.279600000009,
          326.3888000000152
         ],
         "xaxis": "x",
         "y": [
          "Africa",
          "Northern America",
          "South America",
          "Asia",
          "Europe",
          "Oceania"
         ],
         "yaxis": "y"
        },
        {
         "name": "Cropland",
         "orientation": "h",
         "type": "bar",
         "visible": false,
         "x": [
          19260.869999999995,
          -11499.699999999983,
          9450.5,
          -5481.160000000033,
          -14060.669999999984,
          5426.139999999999
         ],
         "xaxis": "x",
         "y": [
          "Africa",
          "Northern America",
          "South America",
          "Asia",
          "Europe",
          "Oceania"
         ],
         "yaxis": "y"
        },
        {
         "name": "Meadows, pastures",
         "orientation": "h",
         "type": "bar",
         "visible": false,
         "x": [
          15844,
          5070.400000000023,
          -5279.799999999988,
          29450,
          2358.110000000015,
          -32084
         ],
         "xaxis": "x",
         "y": [
          "Africa",
          "Northern America",
          "South America",
          "Asia",
          "Europe",
          "Oceania"
         ],
         "yaxis": "y"
        },
        {
         "name": "Forest land",
         "orientation": "h",
         "type": "bar",
         "visible": false,
         "x": [
          -27099.921999999904,
          904.2800000000279,
          -33321.69149999996,
          7868.663699999917,
          5122.6099000000395,
          -285.50479999999516
         ],
         "xaxis": "x",
         "y": [
          "Africa",
          "Northern America",
          "South America",
          "Asia",
          "Europe",
          "Oceania"
         ],
         "yaxis": "y"
        },
        {
         "name": "Cropland",
         "orientation": "h",
         "type": "bar",
         "visible": false,
         "x": [
          29510.70000000001,
          -21876,
          21349.300000000003,
          -4256.099999999977,
          -18706.160000000033,
          5445.580000000002
         ],
         "xaxis": "x",
         "y": [
          "Africa",
          "Northern America",
          "South America",
          "Asia",
          "Europe",
          "Oceania"
         ],
         "yaxis": "y"
        },
        {
         "name": "Meadows, pastures",
         "orientation": "h",
         "type": "bar",
         "visible": false,
         "x": [
          22869.099999999977,
          13345.200000000012,
          -15.599999999976717,
          10292.800000000047,
          -161.92999999999302,
          -73863
         ],
         "xaxis": "x",
         "y": [
          "Africa",
          "Northern America",
          "South America",
          "Asia",
          "Europe",
          "Oceania"
         ],
         "yaxis": "y"
        },
        {
         "name": "Forest land",
         "orientation": "h",
         "type": "bar",
         "visible": false,
         "x": [
          -39935.918399999966,
          2777.7600000000093,
          -48795.24349999998,
          17266.167299999972,
          9630.787499999977,
          -2541.3159999999916
         ],
         "xaxis": "x",
         "y": [
          "Africa",
          "Northern America",
          "South America",
          "Asia",
          "Europe",
          "Oceania"
         ],
         "yaxis": "y"
        },
        {
         "name": "Cropland",
         "orientation": "h",
         "type": "bar",
         "visible": false,
         "x": [
          44802.130000000005,
          -28883.399999999994,
          26561.800000000003,
          -935.3399999999674,
          -19764.73000000004,
          14190.750000000004
         ],
         "xaxis": "x",
         "y": [
          "Africa",
          "Northern America",
          "South America",
          "Asia",
          "Europe",
          "Oceania"
         ],
         "yaxis": "y"
        },
        {
         "name": "Meadows, pastures",
         "orientation": "h",
         "type": "bar",
         "visible": false,
         "x": [
          -20253.099999999977,
          14723.600000000035,
          2315.0999999999767,
          13081.59999999986,
          -1416.3099999999977,
          -84830
         ],
         "xaxis": "x",
         "y": [
          "Africa",
          "Northern America",
          "South America",
          "Asia",
          "Europe",
          "Oceania"
         ],
         "yaxis": "y"
        },
        {
         "name": "Forest land",
         "orientation": "h",
         "type": "bar",
         "visible": false,
         "x": [
          -52609.87219999998,
          5219.479999999981,
          -60706.6875,
          23180.070699999924,
          15667.883700000006,
          -4927.151399999973
         ],
         "xaxis": "x",
         "y": [
          "Africa",
          "Northern America",
          "South America",
          "Asia",
          "Europe",
          "Oceania"
         ],
         "yaxis": "y"
        },
        {
         "name": "Cropland",
         "orientation": "h",
         "type": "bar",
         "visible": false,
         "x": [
          56019.880000000005,
          -27604,
          28323,
          18763.66989999998,
          -21825.305500000017,
          13641.640000000003
         ],
         "xaxis": "x",
         "y": [
          "Africa",
          "Northern America",
          "South America",
          "Asia",
          "Europe",
          "Oceania"
         ],
         "yaxis": "y"
        },
        {
         "name": "Meadows, pastures",
         "orientation": "h",
         "type": "bar",
         "visible": false,
         "x": [
          -20163,
          11005.799999999988,
          5001.400000000023,
          12290.09999999986,
          -3785.876499999984,
          -132819
         ],
         "xaxis": "x",
         "y": [
          "Africa",
          "Northern America",
          "South America",
          "Asia",
          "Europe",
          "Oceania"
         ],
         "yaxis": "y"
        },
        {
         "name": "Forest land",
         "orientation": "h",
         "type": "bar",
         "visible": false,
         "x": [
          -63953.496999999974,
          6133,
          -68804.73549999995,
          26345.055500000017,
          17196.24450000003,
          -3709.588999999978
         ],
         "xaxis": "x",
         "y": [
          "Africa",
          "Northern America",
          "South America",
          "Asia",
          "Europe",
          "Oceania"
         ],
         "yaxis": "y"
        }
       ],
       "layout": {
        "autosize": false,
        "height": 600,
        "paper_bgcolor": "rgba(0,0,0,0)",
        "plot_bgcolor": "rgba(0,0,0,0)",
        "sliders": [
         {
          "active": 1992,
          "currentvalue": {
           "prefix": "Year: "
          },
          "steps": [
           {
            "args": [
             "visible",
             [
              true,
              true,
              true,
              false,
              false,
              false,
              false,
              false,
              false,
              false,
              false,
              false,
              false,
              false,
              false,
              false,
              false,
              false
             ]
            ],
            "label": "1995",
            "method": "restyle"
           },
           {
            "args": [
             "visible",
             [
              false,
              false,
              false,
              true,
              true,
              true,
              false,
              false,
              false,
              false,
              false,
              false,
              false,
              false,
              false,
              false,
              false,
              false
             ]
            ],
            "label": "1999",
            "method": "restyle"
           },
           {
            "args": [
             "visible",
             [
              false,
              false,
              false,
              false,
              false,
              false,
              true,
              true,
              true,
              false,
              false,
              false,
              false,
              false,
              false,
              false,
              false,
              false
             ]
            ],
            "label": "2003",
            "method": "restyle"
           },
           {
            "args": [
             "visible",
             [
              false,
              false,
              false,
              false,
              false,
              false,
              false,
              false,
              false,
              true,
              true,
              true,
              false,
              false,
              false,
              false,
              false,
              false
             ]
            ],
            "label": "2007",
            "method": "restyle"
           },
           {
            "args": [
             "visible",
             [
              false,
              false,
              false,
              false,
              false,
              false,
              false,
              false,
              false,
              false,
              false,
              false,
              true,
              true,
              true,
              false,
              false,
              false
             ]
            ],
            "label": "2011",
            "method": "restyle"
           },
           {
            "args": [
             "visible",
             [
              false,
              false,
              false,
              false,
              false,
              false,
              false,
              false,
              false,
              false,
              false,
              false,
              false,
              false,
              false,
              true,
              true,
              true
             ]
            ],
            "label": "2015",
            "method": "restyle"
           }
          ]
         }
        ],
        "template": {
         "data": {
          "bar": [
           {
            "error_x": {
             "color": "#2a3f5f"
            },
            "error_y": {
             "color": "#2a3f5f"
            },
            "marker": {
             "line": {
              "color": "#E5ECF6",
              "width": 0.5
             }
            },
            "type": "bar"
           }
          ],
          "barpolar": [
           {
            "marker": {
             "line": {
              "color": "#E5ECF6",
              "width": 0.5
             }
            },
            "type": "barpolar"
           }
          ],
          "carpet": [
           {
            "aaxis": {
             "endlinecolor": "#2a3f5f",
             "gridcolor": "white",
             "linecolor": "white",
             "minorgridcolor": "white",
             "startlinecolor": "#2a3f5f"
            },
            "baxis": {
             "endlinecolor": "#2a3f5f",
             "gridcolor": "white",
             "linecolor": "white",
             "minorgridcolor": "white",
             "startlinecolor": "#2a3f5f"
            },
            "type": "carpet"
           }
          ],
          "choropleth": [
           {
            "colorbar": {
             "outlinewidth": 0,
             "ticks": ""
            },
            "type": "choropleth"
           }
          ],
          "contour": [
           {
            "colorbar": {
             "outlinewidth": 0,
             "ticks": ""
            },
            "colorscale": [
             [
              0,
              "#0d0887"
             ],
             [
              0.1111111111111111,
              "#46039f"
             ],
             [
              0.2222222222222222,
              "#7201a8"
             ],
             [
              0.3333333333333333,
              "#9c179e"
             ],
             [
              0.4444444444444444,
              "#bd3786"
             ],
             [
              0.5555555555555556,
              "#d8576b"
             ],
             [
              0.6666666666666666,
              "#ed7953"
             ],
             [
              0.7777777777777778,
              "#fb9f3a"
             ],
             [
              0.8888888888888888,
              "#fdca26"
             ],
             [
              1,
              "#f0f921"
             ]
            ],
            "type": "contour"
           }
          ],
          "contourcarpet": [
           {
            "colorbar": {
             "outlinewidth": 0,
             "ticks": ""
            },
            "type": "contourcarpet"
           }
          ],
          "heatmap": [
           {
            "colorbar": {
             "outlinewidth": 0,
             "ticks": ""
            },
            "colorscale": [
             [
              0,
              "#0d0887"
             ],
             [
              0.1111111111111111,
              "#46039f"
             ],
             [
              0.2222222222222222,
              "#7201a8"
             ],
             [
              0.3333333333333333,
              "#9c179e"
             ],
             [
              0.4444444444444444,
              "#bd3786"
             ],
             [
              0.5555555555555556,
              "#d8576b"
             ],
             [
              0.6666666666666666,
              "#ed7953"
             ],
             [
              0.7777777777777778,
              "#fb9f3a"
             ],
             [
              0.8888888888888888,
              "#fdca26"
             ],
             [
              1,
              "#f0f921"
             ]
            ],
            "type": "heatmap"
           }
          ],
          "heatmapgl": [
           {
            "colorbar": {
             "outlinewidth": 0,
             "ticks": ""
            },
            "colorscale": [
             [
              0,
              "#0d0887"
             ],
             [
              0.1111111111111111,
              "#46039f"
             ],
             [
              0.2222222222222222,
              "#7201a8"
             ],
             [
              0.3333333333333333,
              "#9c179e"
             ],
             [
              0.4444444444444444,
              "#bd3786"
             ],
             [
              0.5555555555555556,
              "#d8576b"
             ],
             [
              0.6666666666666666,
              "#ed7953"
             ],
             [
              0.7777777777777778,
              "#fb9f3a"
             ],
             [
              0.8888888888888888,
              "#fdca26"
             ],
             [
              1,
              "#f0f921"
             ]
            ],
            "type": "heatmapgl"
           }
          ],
          "histogram": [
           {
            "marker": {
             "colorbar": {
              "outlinewidth": 0,
              "ticks": ""
             }
            },
            "type": "histogram"
           }
          ],
          "histogram2d": [
           {
            "colorbar": {
             "outlinewidth": 0,
             "ticks": ""
            },
            "colorscale": [
             [
              0,
              "#0d0887"
             ],
             [
              0.1111111111111111,
              "#46039f"
             ],
             [
              0.2222222222222222,
              "#7201a8"
             ],
             [
              0.3333333333333333,
              "#9c179e"
             ],
             [
              0.4444444444444444,
              "#bd3786"
             ],
             [
              0.5555555555555556,
              "#d8576b"
             ],
             [
              0.6666666666666666,
              "#ed7953"
             ],
             [
              0.7777777777777778,
              "#fb9f3a"
             ],
             [
              0.8888888888888888,
              "#fdca26"
             ],
             [
              1,
              "#f0f921"
             ]
            ],
            "type": "histogram2d"
           }
          ],
          "histogram2dcontour": [
           {
            "colorbar": {
             "outlinewidth": 0,
             "ticks": ""
            },
            "colorscale": [
             [
              0,
              "#0d0887"
             ],
             [
              0.1111111111111111,
              "#46039f"
             ],
             [
              0.2222222222222222,
              "#7201a8"
             ],
             [
              0.3333333333333333,
              "#9c179e"
             ],
             [
              0.4444444444444444,
              "#bd3786"
             ],
             [
              0.5555555555555556,
              "#d8576b"
             ],
             [
              0.6666666666666666,
              "#ed7953"
             ],
             [
              0.7777777777777778,
              "#fb9f3a"
             ],
             [
              0.8888888888888888,
              "#fdca26"
             ],
             [
              1,
              "#f0f921"
             ]
            ],
            "type": "histogram2dcontour"
           }
          ],
          "mesh3d": [
           {
            "colorbar": {
             "outlinewidth": 0,
             "ticks": ""
            },
            "type": "mesh3d"
           }
          ],
          "parcoords": [
           {
            "line": {
             "colorbar": {
              "outlinewidth": 0,
              "ticks": ""
             }
            },
            "type": "parcoords"
           }
          ],
          "pie": [
           {
            "automargin": true,
            "type": "pie"
           }
          ],
          "scatter": [
           {
            "marker": {
             "colorbar": {
              "outlinewidth": 0,
              "ticks": ""
             }
            },
            "type": "scatter"
           }
          ],
          "scatter3d": [
           {
            "line": {
             "colorbar": {
              "outlinewidth": 0,
              "ticks": ""
             }
            },
            "marker": {
             "colorbar": {
              "outlinewidth": 0,
              "ticks": ""
             }
            },
            "type": "scatter3d"
           }
          ],
          "scattercarpet": [
           {
            "marker": {
             "colorbar": {
              "outlinewidth": 0,
              "ticks": ""
             }
            },
            "type": "scattercarpet"
           }
          ],
          "scattergeo": [
           {
            "marker": {
             "colorbar": {
              "outlinewidth": 0,
              "ticks": ""
             }
            },
            "type": "scattergeo"
           }
          ],
          "scattergl": [
           {
            "marker": {
             "colorbar": {
              "outlinewidth": 0,
              "ticks": ""
             }
            },
            "type": "scattergl"
           }
          ],
          "scattermapbox": [
           {
            "marker": {
             "colorbar": {
              "outlinewidth": 0,
              "ticks": ""
             }
            },
            "type": "scattermapbox"
           }
          ],
          "scatterpolar": [
           {
            "marker": {
             "colorbar": {
              "outlinewidth": 0,
              "ticks": ""
             }
            },
            "type": "scatterpolar"
           }
          ],
          "scatterpolargl": [
           {
            "marker": {
             "colorbar": {
              "outlinewidth": 0,
              "ticks": ""
             }
            },
            "type": "scatterpolargl"
           }
          ],
          "scatterternary": [
           {
            "marker": {
             "colorbar": {
              "outlinewidth": 0,
              "ticks": ""
             }
            },
            "type": "scatterternary"
           }
          ],
          "surface": [
           {
            "colorbar": {
             "outlinewidth": 0,
             "ticks": ""
            },
            "colorscale": [
             [
              0,
              "#0d0887"
             ],
             [
              0.1111111111111111,
              "#46039f"
             ],
             [
              0.2222222222222222,
              "#7201a8"
             ],
             [
              0.3333333333333333,
              "#9c179e"
             ],
             [
              0.4444444444444444,
              "#bd3786"
             ],
             [
              0.5555555555555556,
              "#d8576b"
             ],
             [
              0.6666666666666666,
              "#ed7953"
             ],
             [
              0.7777777777777778,
              "#fb9f3a"
             ],
             [
              0.8888888888888888,
              "#fdca26"
             ],
             [
              1,
              "#f0f921"
             ]
            ],
            "type": "surface"
           }
          ],
          "table": [
           {
            "cells": {
             "fill": {
              "color": "#EBF0F8"
             },
             "line": {
              "color": "white"
             }
            },
            "header": {
             "fill": {
              "color": "#C8D4E3"
             },
             "line": {
              "color": "white"
             }
            },
            "type": "table"
           }
          ]
         },
         "layout": {
          "annotationdefaults": {
           "arrowcolor": "#2a3f5f",
           "arrowhead": 0,
           "arrowwidth": 1
          },
          "coloraxis": {
           "colorbar": {
            "outlinewidth": 0,
            "ticks": ""
           }
          },
          "colorscale": {
           "diverging": [
            [
             0,
             "#8e0152"
            ],
            [
             0.1,
             "#c51b7d"
            ],
            [
             0.2,
             "#de77ae"
            ],
            [
             0.3,
             "#f1b6da"
            ],
            [
             0.4,
             "#fde0ef"
            ],
            [
             0.5,
             "#f7f7f7"
            ],
            [
             0.6,
             "#e6f5d0"
            ],
            [
             0.7,
             "#b8e186"
            ],
            [
             0.8,
             "#7fbc41"
            ],
            [
             0.9,
             "#4d9221"
            ],
            [
             1,
             "#276419"
            ]
           ],
           "sequential": [
            [
             0,
             "#0d0887"
            ],
            [
             0.1111111111111111,
             "#46039f"
            ],
            [
             0.2222222222222222,
             "#7201a8"
            ],
            [
             0.3333333333333333,
             "#9c179e"
            ],
            [
             0.4444444444444444,
             "#bd3786"
            ],
            [
             0.5555555555555556,
             "#d8576b"
            ],
            [
             0.6666666666666666,
             "#ed7953"
            ],
            [
             0.7777777777777778,
             "#fb9f3a"
            ],
            [
             0.8888888888888888,
             "#fdca26"
            ],
            [
             1,
             "#f0f921"
            ]
           ],
           "sequentialminus": [
            [
             0,
             "#0d0887"
            ],
            [
             0.1111111111111111,
             "#46039f"
            ],
            [
             0.2222222222222222,
             "#7201a8"
            ],
            [
             0.3333333333333333,
             "#9c179e"
            ],
            [
             0.4444444444444444,
             "#bd3786"
            ],
            [
             0.5555555555555556,
             "#d8576b"
            ],
            [
             0.6666666666666666,
             "#ed7953"
            ],
            [
             0.7777777777777778,
             "#fb9f3a"
            ],
            [
             0.8888888888888888,
             "#fdca26"
            ],
            [
             1,
             "#f0f921"
            ]
           ]
          },
          "colorway": [
           "#636efa",
           "#EF553B",
           "#00cc96",
           "#ab63fa",
           "#FFA15A",
           "#19d3f3",
           "#FF6692",
           "#B6E880",
           "#FF97FF",
           "#FECB52"
          ],
          "font": {
           "color": "#2a3f5f"
          },
          "geo": {
           "bgcolor": "white",
           "lakecolor": "white",
           "landcolor": "#E5ECF6",
           "showlakes": true,
           "showland": true,
           "subunitcolor": "white"
          },
          "hoverlabel": {
           "align": "left"
          },
          "hovermode": "closest",
          "mapbox": {
           "style": "light"
          },
          "paper_bgcolor": "white",
          "plot_bgcolor": "#E5ECF6",
          "polar": {
           "angularaxis": {
            "gridcolor": "white",
            "linecolor": "white",
            "ticks": ""
           },
           "bgcolor": "#E5ECF6",
           "radialaxis": {
            "gridcolor": "white",
            "linecolor": "white",
            "ticks": ""
           }
          },
          "scene": {
           "xaxis": {
            "backgroundcolor": "#E5ECF6",
            "gridcolor": "white",
            "gridwidth": 2,
            "linecolor": "white",
            "showbackground": true,
            "ticks": "",
            "zerolinecolor": "white"
           },
           "yaxis": {
            "backgroundcolor": "#E5ECF6",
            "gridcolor": "white",
            "gridwidth": 2,
            "linecolor": "white",
            "showbackground": true,
            "ticks": "",
            "zerolinecolor": "white"
           },
           "zaxis": {
            "backgroundcolor": "#E5ECF6",
            "gridcolor": "white",
            "gridwidth": 2,
            "linecolor": "white",
            "showbackground": true,
            "ticks": "",
            "zerolinecolor": "white"
           }
          },
          "shapedefaults": {
           "line": {
            "color": "#2a3f5f"
           }
          },
          "ternary": {
           "aaxis": {
            "gridcolor": "white",
            "linecolor": "white",
            "ticks": ""
           },
           "baxis": {
            "gridcolor": "white",
            "linecolor": "white",
            "ticks": ""
           },
           "bgcolor": "#E5ECF6",
           "caxis": {
            "gridcolor": "white",
            "linecolor": "white",
            "ticks": ""
           }
          },
          "title": {
           "x": 0.05
          },
          "xaxis": {
           "automargin": true,
           "gridcolor": "white",
           "linecolor": "white",
           "ticks": "",
           "title": {
            "standoff": 15
           },
           "zerolinecolor": "white",
           "zerolinewidth": 2
          },
          "yaxis": {
           "automargin": true,
           "gridcolor": "white",
           "linecolor": "white",
           "ticks": "",
           "title": {
            "standoff": 15
           },
           "zerolinecolor": "white",
           "zerolinewidth": 2
          }
         }
        },
        "width": 700,
        "xaxis": {
         "anchor": "y",
         "domain": [
          0,
          1
         ],
         "gridcolor": "LightGray",
         "range": [
          -150000,
          150000
         ],
         "showgrid": true,
         "title": {
          "text": "Change w.r.t. 1995 (1000 ha)"
         }
        },
        "yaxis": {
         "anchor": "x",
         "domain": [
          0,
          1
         ]
        }
       }
      },
      "text/html": [
       "<div>\n",
       "        \n",
       "        \n",
       "            <div id=\"cb1583c6-811f-4247-b214-58cbadec59fb\" class=\"plotly-graph-div\" style=\"height:600px; width:700px;\"></div>\n",
       "            <script type=\"text/javascript\">\n",
       "                require([\"plotly\"], function(Plotly) {\n",
       "                    window.PLOTLYENV=window.PLOTLYENV || {};\n",
       "                    \n",
       "                if (document.getElementById(\"cb1583c6-811f-4247-b214-58cbadec59fb\")) {\n",
       "                    Plotly.newPlot(\n",
       "                        'cb1583c6-811f-4247-b214-58cbadec59fb',\n",
       "                        [{\"name\": \"Cropland\", \"orientation\": \"h\", \"type\": \"bar\", \"visible\": true, \"x\": [0.0, 0.0, 0.0, 0.0, 0.0, 0.0], \"xaxis\": \"x\", \"y\": [\"Africa\", \"Northern America\", \"South America\", \"Asia\", \"Europe\", \"Oceania\"], \"yaxis\": \"y\"}, {\"name\": \"Meadows, pastures\", \"orientation\": \"h\", \"type\": \"bar\", \"visible\": true, \"x\": [0.0, 0.0, 0.0, 0.0, 0.0, 0.0], \"xaxis\": \"x\", \"y\": [\"Africa\", \"Northern America\", \"South America\", \"Asia\", \"Europe\", \"Oceania\"], \"yaxis\": \"y\"}, {\"name\": \"Forest land\", \"orientation\": \"h\", \"type\": \"bar\", \"visible\": true, \"x\": [0.0, 0.0, 0.0, 0.0, 0.0, 0.0], \"xaxis\": \"x\", \"y\": [\"Africa\", \"Northern America\", \"South America\", \"Asia\", \"Europe\", \"Oceania\"], \"yaxis\": \"y\"}, {\"name\": \"Cropland\", \"orientation\": \"h\", \"type\": \"bar\", \"visible\": false, \"x\": [8703.5, -6179.0, 5355.0, 323.69999999995343, -4740.799999999988, 6231.59], \"xaxis\": \"x\", \"y\": [\"Africa\", \"Northern America\", \"South America\", \"Asia\", \"Europe\", \"Oceania\"], \"yaxis\": \"y\"}, {\"name\": \"Meadows, pastures\", \"orientation\": \"h\", \"type\": \"bar\", \"visible\": false, \"x\": [8400.0, -69.79999999998836, 1256.7000000000116, 42947.89999999991, 1988.4000000000233, -15935.5], \"xaxis\": \"x\", \"y\": [\"Africa\", \"Northern America\", \"South America\", \"Asia\", \"Europe\", \"Oceania\"], \"yaxis\": \"y\"}, {\"name\": \"Forest land\", \"orientation\": \"h\", \"type\": \"bar\", \"visible\": false, \"x\": [-14147.179999999935, 245.9199999999255, -15998.63639999996, -883.9476000000723, 3212.279600000009, 326.3888000000152], \"xaxis\": \"x\", \"y\": [\"Africa\", \"Northern America\", \"South America\", \"Asia\", \"Europe\", \"Oceania\"], \"yaxis\": \"y\"}, {\"name\": \"Cropland\", \"orientation\": \"h\", \"type\": \"bar\", \"visible\": false, \"x\": [19260.869999999995, -11499.699999999983, 9450.5, -5481.160000000033, -14060.669999999984, 5426.139999999999], \"xaxis\": \"x\", \"y\": [\"Africa\", \"Northern America\", \"South America\", \"Asia\", \"Europe\", \"Oceania\"], \"yaxis\": \"y\"}, {\"name\": \"Meadows, pastures\", \"orientation\": \"h\", \"type\": \"bar\", \"visible\": false, \"x\": [15844.0, 5070.400000000023, -5279.799999999988, 29450.0, 2358.110000000015, -32084.0], \"xaxis\": \"x\", \"y\": [\"Africa\", \"Northern America\", \"South America\", \"Asia\", \"Europe\", \"Oceania\"], \"yaxis\": \"y\"}, {\"name\": \"Forest land\", \"orientation\": \"h\", \"type\": \"bar\", \"visible\": false, \"x\": [-27099.921999999904, 904.2800000000279, -33321.69149999996, 7868.663699999917, 5122.6099000000395, -285.50479999999516], \"xaxis\": \"x\", \"y\": [\"Africa\", \"Northern America\", \"South America\", \"Asia\", \"Europe\", \"Oceania\"], \"yaxis\": \"y\"}, {\"name\": \"Cropland\", \"orientation\": \"h\", \"type\": \"bar\", \"visible\": false, \"x\": [29510.70000000001, -21876.0, 21349.300000000003, -4256.099999999977, -18706.160000000033, 5445.580000000002], \"xaxis\": \"x\", \"y\": [\"Africa\", \"Northern America\", \"South America\", \"Asia\", \"Europe\", \"Oceania\"], \"yaxis\": \"y\"}, {\"name\": \"Meadows, pastures\", \"orientation\": \"h\", \"type\": \"bar\", \"visible\": false, \"x\": [22869.099999999977, 13345.200000000012, -15.599999999976717, 10292.800000000047, -161.92999999999302, -73863.0], \"xaxis\": \"x\", \"y\": [\"Africa\", \"Northern America\", \"South America\", \"Asia\", \"Europe\", \"Oceania\"], \"yaxis\": \"y\"}, {\"name\": \"Forest land\", \"orientation\": \"h\", \"type\": \"bar\", \"visible\": false, \"x\": [-39935.918399999966, 2777.7600000000093, -48795.24349999998, 17266.167299999972, 9630.787499999977, -2541.3159999999916], \"xaxis\": \"x\", \"y\": [\"Africa\", \"Northern America\", \"South America\", \"Asia\", \"Europe\", \"Oceania\"], \"yaxis\": \"y\"}, {\"name\": \"Cropland\", \"orientation\": \"h\", \"type\": \"bar\", \"visible\": false, \"x\": [44802.130000000005, -28883.399999999994, 26561.800000000003, -935.3399999999674, -19764.73000000004, 14190.750000000004], \"xaxis\": \"x\", \"y\": [\"Africa\", \"Northern America\", \"South America\", \"Asia\", \"Europe\", \"Oceania\"], \"yaxis\": \"y\"}, {\"name\": \"Meadows, pastures\", \"orientation\": \"h\", \"type\": \"bar\", \"visible\": false, \"x\": [-20253.099999999977, 14723.600000000035, 2315.0999999999767, 13081.59999999986, -1416.3099999999977, -84830.0], \"xaxis\": \"x\", \"y\": [\"Africa\", \"Northern America\", \"South America\", \"Asia\", \"Europe\", \"Oceania\"], \"yaxis\": \"y\"}, {\"name\": \"Forest land\", \"orientation\": \"h\", \"type\": \"bar\", \"visible\": false, \"x\": [-52609.87219999998, 5219.479999999981, -60706.6875, 23180.070699999924, 15667.883700000006, -4927.151399999973], \"xaxis\": \"x\", \"y\": [\"Africa\", \"Northern America\", \"South America\", \"Asia\", \"Europe\", \"Oceania\"], \"yaxis\": \"y\"}, {\"name\": \"Cropland\", \"orientation\": \"h\", \"type\": \"bar\", \"visible\": false, \"x\": [56019.880000000005, -27604.0, 28323.0, 18763.66989999998, -21825.305500000017, 13641.640000000003], \"xaxis\": \"x\", \"y\": [\"Africa\", \"Northern America\", \"South America\", \"Asia\", \"Europe\", \"Oceania\"], \"yaxis\": \"y\"}, {\"name\": \"Meadows, pastures\", \"orientation\": \"h\", \"type\": \"bar\", \"visible\": false, \"x\": [-20163.0, 11005.799999999988, 5001.400000000023, 12290.09999999986, -3785.876499999984, -132819.0], \"xaxis\": \"x\", \"y\": [\"Africa\", \"Northern America\", \"South America\", \"Asia\", \"Europe\", \"Oceania\"], \"yaxis\": \"y\"}, {\"name\": \"Forest land\", \"orientation\": \"h\", \"type\": \"bar\", \"visible\": false, \"x\": [-63953.496999999974, 6133.0, -68804.73549999995, 26345.055500000017, 17196.24450000003, -3709.588999999978], \"xaxis\": \"x\", \"y\": [\"Africa\", \"Northern America\", \"South America\", \"Asia\", \"Europe\", \"Oceania\"], \"yaxis\": \"y\"}],\n",
       "                        {\"autosize\": false, \"height\": 600, \"paper_bgcolor\": \"rgba(0,0,0,0)\", \"plot_bgcolor\": \"rgba(0,0,0,0)\", \"sliders\": [{\"active\": 1992, \"currentvalue\": {\"prefix\": \"Year: \"}, \"steps\": [{\"args\": [\"visible\", [true, true, true, false, false, false, false, false, false, false, false, false, false, false, false, false, false, false]], \"label\": \"1995\", \"method\": \"restyle\"}, {\"args\": [\"visible\", [false, false, false, true, true, true, false, false, false, false, false, false, false, false, false, false, false, false]], \"label\": \"1999\", \"method\": \"restyle\"}, {\"args\": [\"visible\", [false, false, false, false, false, false, true, true, true, false, false, false, false, false, false, false, false, false]], \"label\": \"2003\", \"method\": \"restyle\"}, {\"args\": [\"visible\", [false, false, false, false, false, false, false, false, false, true, true, true, false, false, false, false, false, false]], \"label\": \"2007\", \"method\": \"restyle\"}, {\"args\": [\"visible\", [false, false, false, false, false, false, false, false, false, false, false, false, true, true, true, false, false, false]], \"label\": \"2011\", \"method\": \"restyle\"}, {\"args\": [\"visible\", [false, false, false, false, false, false, false, false, false, false, false, false, false, false, false, true, true, true]], \"label\": \"2015\", \"method\": \"restyle\"}]}], \"template\": {\"data\": {\"bar\": [{\"error_x\": {\"color\": \"#2a3f5f\"}, \"error_y\": {\"color\": \"#2a3f5f\"}, \"marker\": {\"line\": {\"color\": \"#E5ECF6\", \"width\": 0.5}}, \"type\": \"bar\"}], \"barpolar\": [{\"marker\": {\"line\": {\"color\": \"#E5ECF6\", \"width\": 0.5}}, \"type\": \"barpolar\"}], \"carpet\": [{\"aaxis\": {\"endlinecolor\": \"#2a3f5f\", \"gridcolor\": \"white\", \"linecolor\": \"white\", \"minorgridcolor\": \"white\", \"startlinecolor\": \"#2a3f5f\"}, \"baxis\": {\"endlinecolor\": \"#2a3f5f\", \"gridcolor\": \"white\", \"linecolor\": \"white\", \"minorgridcolor\": \"white\", \"startlinecolor\": \"#2a3f5f\"}, \"type\": \"carpet\"}], \"choropleth\": [{\"colorbar\": {\"outlinewidth\": 0, \"ticks\": \"\"}, \"type\": \"choropleth\"}], \"contour\": [{\"colorbar\": {\"outlinewidth\": 0, \"ticks\": \"\"}, \"colorscale\": [[0.0, \"#0d0887\"], [0.1111111111111111, \"#46039f\"], [0.2222222222222222, \"#7201a8\"], [0.3333333333333333, \"#9c179e\"], [0.4444444444444444, \"#bd3786\"], [0.5555555555555556, \"#d8576b\"], [0.6666666666666666, \"#ed7953\"], [0.7777777777777778, \"#fb9f3a\"], [0.8888888888888888, \"#fdca26\"], [1.0, \"#f0f921\"]], \"type\": \"contour\"}], \"contourcarpet\": [{\"colorbar\": {\"outlinewidth\": 0, \"ticks\": \"\"}, \"type\": \"contourcarpet\"}], \"heatmap\": [{\"colorbar\": {\"outlinewidth\": 0, \"ticks\": \"\"}, \"colorscale\": [[0.0, \"#0d0887\"], [0.1111111111111111, \"#46039f\"], [0.2222222222222222, \"#7201a8\"], [0.3333333333333333, \"#9c179e\"], [0.4444444444444444, \"#bd3786\"], [0.5555555555555556, \"#d8576b\"], [0.6666666666666666, \"#ed7953\"], [0.7777777777777778, \"#fb9f3a\"], [0.8888888888888888, \"#fdca26\"], [1.0, \"#f0f921\"]], \"type\": \"heatmap\"}], \"heatmapgl\": [{\"colorbar\": {\"outlinewidth\": 0, \"ticks\": \"\"}, \"colorscale\": [[0.0, \"#0d0887\"], [0.1111111111111111, \"#46039f\"], [0.2222222222222222, \"#7201a8\"], [0.3333333333333333, \"#9c179e\"], [0.4444444444444444, \"#bd3786\"], [0.5555555555555556, \"#d8576b\"], [0.6666666666666666, \"#ed7953\"], [0.7777777777777778, \"#fb9f3a\"], [0.8888888888888888, \"#fdca26\"], [1.0, \"#f0f921\"]], \"type\": \"heatmapgl\"}], \"histogram\": [{\"marker\": {\"colorbar\": {\"outlinewidth\": 0, \"ticks\": \"\"}}, \"type\": \"histogram\"}], \"histogram2d\": [{\"colorbar\": {\"outlinewidth\": 0, \"ticks\": \"\"}, \"colorscale\": [[0.0, \"#0d0887\"], [0.1111111111111111, \"#46039f\"], [0.2222222222222222, \"#7201a8\"], [0.3333333333333333, \"#9c179e\"], [0.4444444444444444, \"#bd3786\"], [0.5555555555555556, \"#d8576b\"], [0.6666666666666666, \"#ed7953\"], [0.7777777777777778, \"#fb9f3a\"], [0.8888888888888888, \"#fdca26\"], [1.0, \"#f0f921\"]], \"type\": \"histogram2d\"}], \"histogram2dcontour\": [{\"colorbar\": {\"outlinewidth\": 0, \"ticks\": \"\"}, \"colorscale\": [[0.0, \"#0d0887\"], [0.1111111111111111, \"#46039f\"], [0.2222222222222222, \"#7201a8\"], [0.3333333333333333, \"#9c179e\"], [0.4444444444444444, \"#bd3786\"], [0.5555555555555556, \"#d8576b\"], [0.6666666666666666, \"#ed7953\"], [0.7777777777777778, \"#fb9f3a\"], [0.8888888888888888, \"#fdca26\"], [1.0, \"#f0f921\"]], \"type\": \"histogram2dcontour\"}], \"mesh3d\": [{\"colorbar\": {\"outlinewidth\": 0, \"ticks\": \"\"}, \"type\": \"mesh3d\"}], \"parcoords\": [{\"line\": {\"colorbar\": {\"outlinewidth\": 0, \"ticks\": \"\"}}, \"type\": \"parcoords\"}], \"pie\": [{\"automargin\": true, \"type\": \"pie\"}], \"scatter\": [{\"marker\": {\"colorbar\": {\"outlinewidth\": 0, \"ticks\": \"\"}}, \"type\": \"scatter\"}], \"scatter3d\": [{\"line\": {\"colorbar\": {\"outlinewidth\": 0, \"ticks\": \"\"}}, \"marker\": {\"colorbar\": {\"outlinewidth\": 0, \"ticks\": \"\"}}, \"type\": \"scatter3d\"}], \"scattercarpet\": [{\"marker\": {\"colorbar\": {\"outlinewidth\": 0, \"ticks\": \"\"}}, \"type\": \"scattercarpet\"}], \"scattergeo\": [{\"marker\": {\"colorbar\": {\"outlinewidth\": 0, \"ticks\": \"\"}}, \"type\": \"scattergeo\"}], \"scattergl\": [{\"marker\": {\"colorbar\": {\"outlinewidth\": 0, \"ticks\": \"\"}}, \"type\": \"scattergl\"}], \"scattermapbox\": [{\"marker\": {\"colorbar\": {\"outlinewidth\": 0, \"ticks\": \"\"}}, \"type\": \"scattermapbox\"}], \"scatterpolar\": [{\"marker\": {\"colorbar\": {\"outlinewidth\": 0, \"ticks\": \"\"}}, \"type\": \"scatterpolar\"}], \"scatterpolargl\": [{\"marker\": {\"colorbar\": {\"outlinewidth\": 0, \"ticks\": \"\"}}, \"type\": \"scatterpolargl\"}], \"scatterternary\": [{\"marker\": {\"colorbar\": {\"outlinewidth\": 0, \"ticks\": \"\"}}, \"type\": \"scatterternary\"}], \"surface\": [{\"colorbar\": {\"outlinewidth\": 0, \"ticks\": \"\"}, \"colorscale\": [[0.0, \"#0d0887\"], [0.1111111111111111, \"#46039f\"], [0.2222222222222222, \"#7201a8\"], [0.3333333333333333, \"#9c179e\"], [0.4444444444444444, \"#bd3786\"], [0.5555555555555556, \"#d8576b\"], [0.6666666666666666, \"#ed7953\"], [0.7777777777777778, \"#fb9f3a\"], [0.8888888888888888, \"#fdca26\"], [1.0, \"#f0f921\"]], \"type\": \"surface\"}], \"table\": [{\"cells\": {\"fill\": {\"color\": \"#EBF0F8\"}, \"line\": {\"color\": \"white\"}}, \"header\": {\"fill\": {\"color\": \"#C8D4E3\"}, \"line\": {\"color\": \"white\"}}, \"type\": \"table\"}]}, \"layout\": {\"annotationdefaults\": {\"arrowcolor\": \"#2a3f5f\", \"arrowhead\": 0, \"arrowwidth\": 1}, \"coloraxis\": {\"colorbar\": {\"outlinewidth\": 0, \"ticks\": \"\"}}, \"colorscale\": {\"diverging\": [[0, \"#8e0152\"], [0.1, \"#c51b7d\"], [0.2, \"#de77ae\"], [0.3, \"#f1b6da\"], [0.4, \"#fde0ef\"], [0.5, \"#f7f7f7\"], [0.6, \"#e6f5d0\"], [0.7, \"#b8e186\"], [0.8, \"#7fbc41\"], [0.9, \"#4d9221\"], [1, \"#276419\"]], \"sequential\": [[0.0, \"#0d0887\"], [0.1111111111111111, \"#46039f\"], [0.2222222222222222, \"#7201a8\"], [0.3333333333333333, \"#9c179e\"], [0.4444444444444444, \"#bd3786\"], [0.5555555555555556, \"#d8576b\"], [0.6666666666666666, \"#ed7953\"], [0.7777777777777778, \"#fb9f3a\"], [0.8888888888888888, \"#fdca26\"], [1.0, \"#f0f921\"]], \"sequentialminus\": [[0.0, \"#0d0887\"], [0.1111111111111111, \"#46039f\"], [0.2222222222222222, \"#7201a8\"], [0.3333333333333333, \"#9c179e\"], [0.4444444444444444, \"#bd3786\"], [0.5555555555555556, \"#d8576b\"], [0.6666666666666666, \"#ed7953\"], [0.7777777777777778, \"#fb9f3a\"], [0.8888888888888888, \"#fdca26\"], [1.0, \"#f0f921\"]]}, \"colorway\": [\"#636efa\", \"#EF553B\", \"#00cc96\", \"#ab63fa\", \"#FFA15A\", \"#19d3f3\", \"#FF6692\", \"#B6E880\", \"#FF97FF\", \"#FECB52\"], \"font\": {\"color\": \"#2a3f5f\"}, \"geo\": {\"bgcolor\": \"white\", \"lakecolor\": \"white\", \"landcolor\": \"#E5ECF6\", \"showlakes\": true, \"showland\": true, \"subunitcolor\": \"white\"}, \"hoverlabel\": {\"align\": \"left\"}, \"hovermode\": \"closest\", \"mapbox\": {\"style\": \"light\"}, \"paper_bgcolor\": \"white\", \"plot_bgcolor\": \"#E5ECF6\", \"polar\": {\"angularaxis\": {\"gridcolor\": \"white\", \"linecolor\": \"white\", \"ticks\": \"\"}, \"bgcolor\": \"#E5ECF6\", \"radialaxis\": {\"gridcolor\": \"white\", \"linecolor\": \"white\", \"ticks\": \"\"}}, \"scene\": {\"xaxis\": {\"backgroundcolor\": \"#E5ECF6\", \"gridcolor\": \"white\", \"gridwidth\": 2, \"linecolor\": \"white\", \"showbackground\": true, \"ticks\": \"\", \"zerolinecolor\": \"white\"}, \"yaxis\": {\"backgroundcolor\": \"#E5ECF6\", \"gridcolor\": \"white\", \"gridwidth\": 2, \"linecolor\": \"white\", \"showbackground\": true, \"ticks\": \"\", \"zerolinecolor\": \"white\"}, \"zaxis\": {\"backgroundcolor\": \"#E5ECF6\", \"gridcolor\": \"white\", \"gridwidth\": 2, \"linecolor\": \"white\", \"showbackground\": true, \"ticks\": \"\", \"zerolinecolor\": \"white\"}}, \"shapedefaults\": {\"line\": {\"color\": \"#2a3f5f\"}}, \"ternary\": {\"aaxis\": {\"gridcolor\": \"white\", \"linecolor\": \"white\", \"ticks\": \"\"}, \"baxis\": {\"gridcolor\": \"white\", \"linecolor\": \"white\", \"ticks\": \"\"}, \"bgcolor\": \"#E5ECF6\", \"caxis\": {\"gridcolor\": \"white\", \"linecolor\": \"white\", \"ticks\": \"\"}}, \"title\": {\"x\": 0.05}, \"xaxis\": {\"automargin\": true, \"gridcolor\": \"white\", \"linecolor\": \"white\", \"ticks\": \"\", \"title\": {\"standoff\": 15}, \"zerolinecolor\": \"white\", \"zerolinewidth\": 2}, \"yaxis\": {\"automargin\": true, \"gridcolor\": \"white\", \"linecolor\": \"white\", \"ticks\": \"\", \"title\": {\"standoff\": 15}, \"zerolinecolor\": \"white\", \"zerolinewidth\": 2}}}, \"width\": 700, \"xaxis\": {\"anchor\": \"y\", \"domain\": [0.0, 1.0], \"gridcolor\": \"LightGray\", \"range\": [-150000.0, 150000.0], \"showgrid\": true, \"title\": {\"text\": \"Change w.r.t. 1995 (1000 ha)\"}}, \"yaxis\": {\"anchor\": \"x\", \"domain\": [0.0, 1.0]}},\n",
       "                        {\"responsive\": true}\n",
       "                    ).then(function(){\n",
       "                            \n",
       "var gd = document.getElementById('cb1583c6-811f-4247-b214-58cbadec59fb');\n",
       "var x = new MutationObserver(function (mutations, observer) {{\n",
       "        var display = window.getComputedStyle(gd).display;\n",
       "        if (!display || display === 'none') {{\n",
       "            console.log([gd, 'removed!']);\n",
       "            Plotly.purge(gd);\n",
       "            observer.disconnect();\n",
       "        }}\n",
       "}});\n",
       "\n",
       "// Listen for the removal of the full notebook cells\n",
       "var notebookContainer = gd.closest('#notebook-container');\n",
       "if (notebookContainer) {{\n",
       "    x.observe(notebookContainer, {childList: true});\n",
       "}}\n",
       "\n",
       "// Listen for the clearing of the current output cell\n",
       "var outputEl = gd.closest('.output');\n",
       "if (outputEl) {{\n",
       "    x.observe(outputEl, {childList: true});\n",
       "}}\n",
       "\n",
       "                        })\n",
       "                };\n",
       "                });\n",
       "            </script>\n",
       "        </div>"
      ]
     },
     "metadata": {},
     "output_type": "display_data"
    },
    {
     "data": {
      "text/plain": [
       "'land_forest_vs_agriculture.html'"
      ]
     },
     "execution_count": 71,
     "metadata": {},
     "output_type": "execute_result"
    }
   ],
   "source": [
    "YEAR_MIN = 1995\n",
    "YEAR_MAX = 2015\n",
    "YEARS_BLOCKS = 4  # aggregate YEARS_BLOCKS years in the slider\n",
    "SUBPLOTS = False\n",
    "\n",
    "fig = go.Figure()\n",
    "\n",
    "if SUBPLOTS:\n",
    "    fig = py.subplots.make_subplots(\n",
    "        rows=1, \n",
    "        cols=3,\n",
    "        subplot_titles=(\"Cropland\", \"Meadows and pastures\", \"Forested Area\"),\n",
    "        shared_yaxes=True\n",
    "    )\n",
    "else:\n",
    "    fig = py.subplots.make_subplots(\n",
    "        rows=1, \n",
    "        cols=1,\n",
    "#         subplot_titles=(\"Forested and agricultural land differentials\", \" \"),\n",
    "        shared_yaxes=True\n",
    "    )\n",
    "\n",
    "agriculture_land_baseline = land_use[(land_use.Year == YEAR_MIN) & \n",
    "                                (land_use.Item.isin(AGRICULTURE_LAND_USE_ITEMS))]\n",
    "forest_land_baseline = land_use[(land_use.Year == YEAR_MIN) &\n",
    "                           (land_use.Item.isin(FOREST_LAND_USE_ITEMS))]\n",
    "\n",
    "for year in np.arange(YEAR_MIN, YEAR_MAX+1, YEARS_BLOCKS):\n",
    "    agriculture_land = land_use[(land_use.Year == year) & \n",
    "                                (land_use.Item.isin(AGRICULTURE_LAND_USE_ITEMS))]\n",
    "    forest_land = land_use[(land_use.Year == year) &\n",
    "                           (land_use.Item.isin(FOREST_LAND_USE_ITEMS))]\n",
    "    \n",
    "    # Total forest land\n",
    "    # AGRICULTURE_LAND_USE_ITEMS[0] not used...\n",
    "    \n",
    "    # Cropland\n",
    "    subplot_col = 1\n",
    "    fig.add_trace(\n",
    "        go.Bar(\n",
    "            y=agriculture_land[agriculture_land.Item.str.match(AGRICULTURE_LAND_USE_ITEMS[1])].Area.values,\n",
    "            x=agriculture_land[agriculture_land.Item.str.match(AGRICULTURE_LAND_USE_ITEMS[1])].Value.values -\n",
    "              agriculture_land_baseline[agriculture_land_baseline.Item.str.match(AGRICULTURE_LAND_USE_ITEMS[1])].Value.values,\n",
    "            name='Cropland',\n",
    "            orientation='h',\n",
    "            visible=False,\n",
    "        ),    \n",
    "        row=1,\n",
    "        col=subplot_col,\n",
    "    )\n",
    "    \n",
    "    # Land under perm. meadows and pastures\n",
    "    if SUBPLOTS:\n",
    "        subplot_col = 2\n",
    "    fig.add_trace(\n",
    "        go.Bar(\n",
    "            y=agriculture_land[agriculture_land.Item.str.match(AGRICULTURE_LAND_USE_ITEMS[2])].Area.values,\n",
    "            x=agriculture_land[agriculture_land.Item.str.match(AGRICULTURE_LAND_USE_ITEMS[2])].Value.values -\n",
    "              agriculture_land_baseline[agriculture_land_baseline.Item.str.match(AGRICULTURE_LAND_USE_ITEMS[2])].Value.values,\n",
    "            name='Meadows, pastures',\n",
    "            orientation='h',\n",
    "            visible=False,\n",
    "        ),    \n",
    "        row=1,\n",
    "        col=subplot_col,\n",
    "    )\n",
    "    \n",
    "    # Forest land\n",
    "    if SUBPLOTS:\n",
    "        subplot_col = 3\n",
    "    fig.add_trace(\n",
    "        go.Bar(\n",
    "            y=forest_land[forest_land.Item.str.match(FOREST_LAND_USE_ITEMS[0])].Area.values,\n",
    "            x=forest_land[forest_land.Item.str.match(FOREST_LAND_USE_ITEMS[0])].Value.values -\n",
    "              forest_land_baseline[forest_land_baseline.Item.str.match(FOREST_LAND_USE_ITEMS[0])].Value.values,\n",
    "            name='Forest land',\n",
    "            orientation='h',\n",
    "            visible=False,\n",
    "        ),    \n",
    "        row=1,\n",
    "        col=subplot_col,\n",
    "    )\n",
    "    \n",
    "\n",
    "# Add interactivity (slider)\n",
    "traces_number = 3    # how many categories (bars)\n",
    "\n",
    "for trace in range(traces_number):\n",
    "    fig.data[trace].visible = True\n",
    "\n",
    "steps = []\n",
    "for i in range(int(len(fig.data)/traces_number)):\n",
    "    step = dict(\n",
    "        method=\"restyle\",\n",
    "        args=[\"visible\", [False] * len(fig.data)],\n",
    "        label='{}'.format(YEARS_BLOCKS*i + YEAR_MIN),\n",
    "    )\n",
    "    for trace in range(traces_number):\n",
    "        step[\"args\"][1][i*traces_number + trace] = True\n",
    "    steps.append(step)\n",
    "\n",
    "sliders = [dict(\n",
    "    active=1992,\n",
    "    currentvalue={\"prefix\": \"Year: \"},\n",
    "#     pad={\"t\": 0},\n",
    "    steps=steps\n",
    ")]\n",
    "fig.update_layout(\n",
    "    sliders=sliders,\n",
    "    xaxis_title='Change w.r.t. 1995 (1000 ha)',\n",
    "#     barmode='stack',\n",
    "    autosize=False,\n",
    "    width=700,\n",
    "    height=600,\n",
    "    paper_bgcolor='rgba(0,0,0,0)',\n",
    "    plot_bgcolor='rgba(0,0,0,0)',\n",
    "    \n",
    ")\n",
    "fig.update_xaxes(showgrid=True, gridcolor=\"LightGray\", range=[-1.5e5, 1.5e5])\n",
    "\n",
    "fig.show()\n",
    "py.offline.plot(fig, filename='land_forest_vs_agriculture.html')"
   ]
  },
  {
   "cell_type": "code",
   "execution_count": 47,
   "metadata": {},
   "outputs": [
    {
     "data": {
      "text/plain": [
       "22                               Brazil\n",
       "84                            Indonesia\n",
       "128                             Nigeria\n",
       "118                             Myanmar\n",
       "184         United Republic of Tanzania\n",
       "195                            Zimbabwe\n",
       "20     Bolivia (Plurinational State of)\n",
       "48     Democratic Republic of the Congo\n",
       "8                             Argentina\n",
       "39                             Colombia\n",
       "Name: Area, dtype: object"
      ]
     },
     "execution_count": 47,
     "metadata": {},
     "output_type": "execute_result"
    }
   ],
   "source": [
    "top_10_deforested_countries"
   ]
  },
  {
   "cell_type": "code",
   "execution_count": 48,
   "metadata": {},
   "outputs": [
    {
     "data": {
      "text/plain": [
       "37                        China\n",
       "185    United States of America\n",
       "83                        India\n",
       "190                    Viet Nam\n",
       "165                       Spain\n",
       "62                       France\n",
       "36                        Chile\n",
       "171                    Thailand\n",
       "178                      Turkey\n",
       "90                        Italy\n",
       "Name: Area, dtype: object"
      ]
     },
     "execution_count": 48,
     "metadata": {},
     "output_type": "execute_result"
    }
   ],
   "source": [
    "top_10_reforested_countries"
   ]
  },
  {
   "cell_type": "code",
   "execution_count": 49,
   "metadata": {},
   "outputs": [
    {
     "data": {
      "text/html": [
       "<div>\n",
       "<style scoped>\n",
       "    .dataframe tbody tr th:only-of-type {\n",
       "        vertical-align: middle;\n",
       "    }\n",
       "\n",
       "    .dataframe tbody tr th {\n",
       "        vertical-align: top;\n",
       "    }\n",
       "\n",
       "    .dataframe thead th {\n",
       "        text-align: right;\n",
       "    }\n",
       "</style>\n",
       "<table border=\"1\" class=\"dataframe\">\n",
       "  <thead>\n",
       "    <tr style=\"text-align: right;\">\n",
       "      <th></th>\n",
       "      <th>Area</th>\n",
       "      <th>Forest land differential</th>\n",
       "    </tr>\n",
       "  </thead>\n",
       "  <tbody>\n",
       "    <tr>\n",
       "      <td>37</td>\n",
       "      <td>China</td>\n",
       "      <td>51180.70</td>\n",
       "    </tr>\n",
       "    <tr>\n",
       "      <td>38</td>\n",
       "      <td>China:mainland</td>\n",
       "      <td>51180.70</td>\n",
       "    </tr>\n",
       "    <tr>\n",
       "      <td>185</td>\n",
       "      <td>United States of America</td>\n",
       "      <td>7645.00</td>\n",
       "    </tr>\n",
       "    <tr>\n",
       "      <td>83</td>\n",
       "      <td>India</td>\n",
       "      <td>6743.00</td>\n",
       "    </tr>\n",
       "    <tr>\n",
       "      <td>190</td>\n",
       "      <td>Viet Nam</td>\n",
       "      <td>5410.00</td>\n",
       "    </tr>\n",
       "    <tr>\n",
       "      <td>165</td>\n",
       "      <td>Spain</td>\n",
       "      <td>4608.38</td>\n",
       "    </tr>\n",
       "    <tr>\n",
       "      <td>62</td>\n",
       "      <td>France</td>\n",
       "      <td>2553.00</td>\n",
       "    </tr>\n",
       "    <tr>\n",
       "      <td>36</td>\n",
       "      <td>Chile</td>\n",
       "      <td>2472.00</td>\n",
       "    </tr>\n",
       "    <tr>\n",
       "      <td>171</td>\n",
       "      <td>Thailand</td>\n",
       "      <td>2394.00</td>\n",
       "    </tr>\n",
       "    <tr>\n",
       "      <td>178</td>\n",
       "      <td>Turkey</td>\n",
       "      <td>2093.00</td>\n",
       "    </tr>\n",
       "    <tr>\n",
       "      <td>90</td>\n",
       "      <td>Italy</td>\n",
       "      <td>1707.00</td>\n",
       "    </tr>\n",
       "  </tbody>\n",
       "</table>\n",
       "</div>"
      ],
      "text/plain": [
       "                         Area  Forest land differential\n",
       "37                      China                  51180.70\n",
       "38             China:mainland                  51180.70\n",
       "185  United States of America                   7645.00\n",
       "83                      India                   6743.00\n",
       "190                  Viet Nam                   5410.00\n",
       "165                     Spain                   4608.38\n",
       "62                     France                   2553.00\n",
       "36                      Chile                   2472.00\n",
       "171                  Thailand                   2394.00\n",
       "178                    Turkey                   2093.00\n",
       "90                      Italy                   1707.00"
      ]
     },
     "execution_count": 49,
     "metadata": {},
     "output_type": "execute_result"
    }
   ],
   "source": [
    "deforestation_1990_2017.head(11)"
   ]
  },
  {
   "cell_type": "code",
   "execution_count": 50,
   "metadata": {},
   "outputs": [
    {
     "data": {
      "text/html": [
       "<div>\n",
       "<style scoped>\n",
       "    .dataframe tbody tr th:only-of-type {\n",
       "        vertical-align: middle;\n",
       "    }\n",
       "\n",
       "    .dataframe tbody tr th {\n",
       "        vertical-align: top;\n",
       "    }\n",
       "\n",
       "    .dataframe thead th {\n",
       "        text-align: right;\n",
       "    }\n",
       "</style>\n",
       "<table border=\"1\" class=\"dataframe\">\n",
       "  <thead>\n",
       "    <tr style=\"text-align: right;\">\n",
       "      <th></th>\n",
       "      <th>Area</th>\n",
       "      <th>Forest land differential</th>\n",
       "    </tr>\n",
       "  </thead>\n",
       "  <tbody>\n",
       "    <tr>\n",
       "      <td>39</td>\n",
       "      <td>Colombia</td>\n",
       "      <td>-5915.26</td>\n",
       "    </tr>\n",
       "    <tr>\n",
       "      <td>8</td>\n",
       "      <td>Argentina</td>\n",
       "      <td>-7681.00</td>\n",
       "    </tr>\n",
       "    <tr>\n",
       "      <td>48</td>\n",
       "      <td>Democratic Republic of the Congo</td>\n",
       "      <td>-7785.00</td>\n",
       "    </tr>\n",
       "    <tr>\n",
       "      <td>20</td>\n",
       "      <td>Bolivia (Plurinational State of)</td>\n",
       "      <td>-8031.00</td>\n",
       "    </tr>\n",
       "    <tr>\n",
       "      <td>195</td>\n",
       "      <td>Zimbabwe</td>\n",
       "      <td>-8102.00</td>\n",
       "    </tr>\n",
       "    <tr>\n",
       "      <td>184</td>\n",
       "      <td>United Republic of Tanzania</td>\n",
       "      <td>-9860.00</td>\n",
       "    </tr>\n",
       "    <tr>\n",
       "      <td>118</td>\n",
       "      <td>Myanmar</td>\n",
       "      <td>-10177.00</td>\n",
       "    </tr>\n",
       "    <tr>\n",
       "      <td>128</td>\n",
       "      <td>Nigeria</td>\n",
       "      <td>-10241.00</td>\n",
       "    </tr>\n",
       "    <tr>\n",
       "      <td>84</td>\n",
       "      <td>Indonesia</td>\n",
       "      <td>-27535.00</td>\n",
       "    </tr>\n",
       "    <tr>\n",
       "      <td>22</td>\n",
       "      <td>Brazil</td>\n",
       "      <td>-53167.00</td>\n",
       "    </tr>\n",
       "  </tbody>\n",
       "</table>\n",
       "</div>"
      ],
      "text/plain": [
       "                                 Area  Forest land differential\n",
       "39                           Colombia                  -5915.26\n",
       "8                           Argentina                  -7681.00\n",
       "48   Democratic Republic of the Congo                  -7785.00\n",
       "20   Bolivia (Plurinational State of)                  -8031.00\n",
       "195                          Zimbabwe                  -8102.00\n",
       "184       United Republic of Tanzania                  -9860.00\n",
       "118                           Myanmar                 -10177.00\n",
       "128                           Nigeria                 -10241.00\n",
       "84                          Indonesia                 -27535.00\n",
       "22                             Brazil                 -53167.00"
      ]
     },
     "execution_count": 50,
     "metadata": {},
     "output_type": "execute_result"
    }
   ],
   "source": [
    "deforestation_1990_2017.tail(10)"
   ]
  },
  {
   "cell_type": "markdown",
   "metadata": {},
   "source": [
    "## **APPENDIX: datasets summaries**"
   ]
  },
  {
   "cell_type": "markdown",
   "metadata": {},
   "source": [
    "#### Inputs_LandUse_E_All_Data_cleared.csv\n",
    "+ **Unit**: [**'1000 ha'**, 'million tonnes']\n",
    "+ **Item**: ['Country area', 'Land area', 'Agriculture', ..., **'Forestry'**, **'Forest land'**, **'Primary Forest'**, ..., **'Farm buildings & farmyards'**, 'Perm. meadows & pastures area certified organic', ...]\n",
    "+ **Element**: ['Area', 'Carbon stock in living biomass']"
   ]
  },
  {
   "cell_type": "markdown",
   "metadata": {},
   "source": [
    "#### Environment_LandUse_E_All_Data_cleared.csv\n",
    "+ **Unit**: [**'%'**]\n",
    "+ **Item**: ['Arable land', 'Land under permanent crops', 'Cropland', 'Land under perm. meadows and pastures', 'Agriculture area actually irrigated', 'Land area equipped for irrigation', 'Agricultural land', **'Forest land'**, **'Primary Forest'**, **'Planted Forest'**, **'Other naturally regenerated forest'**, 'Agriculture area under organic agric.']\n",
    "+ **Element**: ['Share in Agricultural land', **'Share in Land area'**, **'Share in Forest land'**]"
   ]
  },
  {
   "cell_type": "markdown",
   "metadata": {},
   "source": [
    "#### Environment_LandCover_E_All_Data_cleared.csv\n",
    "+ **Unit**: ['1000 ha']\n",
    "+ **Item**: ['Artificial surfaces (including urban and associated areas)', **'Herbaceous crops'**, **'Woody crops'**, 'Multiple or layered crops', **'Grassland'**, **'Tree-covered areas'**, 'Mangroves', 'Shrub-covered areas', 'Shrubs and/or herbaceous vegetation:aquatic or regularly flooded', 'Sparsely natural vegetated areas', 'Terrestrial barren land', 'Permanent snow and glaciers', 'Inland water bodies', 'Coastal water bodies and intertidal areas']\n",
    "+ **Element**: ['Area from **MODIS**', 'Area from **CCI_LC**']"
   ]
  },
  {
   "cell_type": "markdown",
   "metadata": {},
   "source": [
    "#### Production_CropsProcessed_E_All_Data_cleared.csv\n",
    "+ **Unit**: ['tonnes']\n",
    "+ **Item**: ['Cotton lint', 'Cottonseed', 'Molasses', 'Oil:cottonseed', ..., **'Oil:palm kernel'**, 'Palm kernels', 'Oil:maize']\n",
    "+ **Element**: ['Production']"
   ]
  },
  {
   "cell_type": "markdown",
   "metadata": {},
   "source": [
    "#### Production_Crops_E_All_Data_cleared.csv\n",
    "+ **Unit**: ['ha', 'hg/ha', 'tonnes']\n",
    "+ **Item**: ['Almonds:with shell', 'Anise:badian:fennel:coriander', 'Apples', ..., ..., **'Soybeans'**, ..., ..., ..., ..., 'Fruit:pome nes']\n",
    "+ **Element**: [**'Area harvested'**, **'Yield'**, **'Production'**]"
   ]
  },
  {
   "cell_type": "markdown",
   "metadata": {},
   "source": [
    "#### Environment_LivestockPatterns_E_All_Data_cleared.csv\n",
    "+ **Unit**: [**'LSU/ha'**, '% of total LSU', **'Livestock units (LSU)'**]\n",
    "+ **Item**: ['Asses', 'Camels', **'Cattle'**, 'Chickens', 'Goats', 'Horses', 'Mules', 'Sheep', 'Cattle and Buffaloes', 'Sheep and Goats', 'Equidae', **'Major livestock types'**, 'Buffaloes', 'Pigs']\n",
    "+ **Element**: ['Livestock units per agricultural land area', 'Share in total livestock', 'Stocks']"
   ]
  },
  {
   "cell_type": "markdown",
   "metadata": {},
   "source": [
    "#### Production_LivestockProcessed_E_All_Data_cleared.csv\n",
    "+ **Unit**: ['tonnes']\n",
    "+ **Item**: ['Butter and ghee:sheep milk', 'Butter:cow milk', ..., 'Cheese:buffalo milk', 'Butter of goat mlk']\n",
    "+ **Element**: ['Production']"
   ]
  },
  {
   "cell_type": "markdown",
   "metadata": {},
   "source": [
    "#### Production_LivestockPrimary_E_All_Data_cleared.csv\n",
    "+ **Unit**: ['1000 Head', '100mg/An', 'tonnes', '1000 No', **'Head'**, 'hg/An', '0.1g/An', 'hg', 'No']\n",
    "+ **Item**: ['Eggs:hen:in shell', 'Eggs:hen:in shell (number)', 'Hides:cattle:fresh', 'Honey:natural', 'Meat indigenous:camel', **'Meat indigenous:cattle'**, ..., Snails:not sea', 'Hair:horse']\n",
    "+ **Element**: ['Laying', 'Yield', 'Production', 'Producing Animals/Slaughtered', 'Yield/Carcass Weight', 'Milk Animals', 'Prod Popultn']"
   ]
  }
 ],
 "metadata": {
  "file_extension": ".py",
  "kernelspec": {
   "display_name": "Python [conda env:conda-ada] *",
   "language": "python",
   "name": "conda-env-conda-ada-py"
  },
  "language_info": {
   "codemirror_mode": {
    "name": "ipython",
    "version": 3
   },
   "file_extension": ".py",
   "mimetype": "text/x-python",
   "name": "python",
   "nbconvert_exporter": "python",
   "pygments_lexer": "ipython3",
   "version": "3.7.4"
  },
  "mimetype": "text/x-python",
  "name": "python",
  "npconvert_exporter": "python",
  "pygments_lexer": "ipython3",
  "version": 3
 },
 "nbformat": 4,
 "nbformat_minor": 4
}
