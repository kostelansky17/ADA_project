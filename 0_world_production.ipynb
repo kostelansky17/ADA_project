{
 "nbformat": 4,
 "nbformat_minor": 2,
 "metadata": {
  "language_info": {
   "name": "python",
   "codemirror_mode": {
    "name": "ipython",
    "version": 3
   },
   "version": "3.7.3"
  },
  "orig_nbformat": 2,
  "file_extension": ".py",
  "mimetype": "text/x-python",
  "name": "python",
  "npconvert_exporter": "python",
  "pygments_lexer": "ipython3",
  "version": 3
 },
 "cells": [
  {
   "cell_type": "code",
   "execution_count": 1,
   "metadata": {},
   "outputs": [],
   "source": [
    "import pandas as pd\n",
    "import plotly.graph_objects as go\n",
    "from plotly.subplots import make_subplots\n"
   ]
  },
  {
   "cell_type": "code",
   "execution_count": 162,
   "metadata": {},
   "outputs": [],
   "source": [
    "PRIMARY_FORREST_PRODUCTS = ['Roundwood', 'Sawnwood', 'Wood-based panels', 'Paper and paperboard', 'Pulpwood:round and split:all species (production)']"
   ]
  },
  {
   "cell_type": "code",
   "execution_count": 3,
   "metadata": {},
   "outputs": [],
   "source": [
    "forest_all = pd.read_csv(\"/home/martin/Documents/school/EPFL/ws/ada/disappearing_forests/data/faostat/Forestry_E_All_Data_cleared.csv\", engine='python')\n"
   ]
  },
  {
   "cell_type": "code",
   "execution_count": 161,
   "metadata": {},
   "outputs": [
    {
     "data": {
      "text/plain": "array(['Forest products (export/import)', 'Roundwood',\n       'Roundwood:coniferous (production)',\n       'Roundwood:non-coniferous (production)', 'Wood fuel',\n       'Wood fuel:coniferous', 'Wood fuel:non-coniferous',\n       'Wood fuel:all species (export/import)', 'Industrial roundwood',\n       'Industrial roundwood:coniferous',\n       'Industrial roundwood:coniferous (export/import)',\n       'Industrial roundwood:non-coniferous',\n       'Industrial roundwood:non-coniferous tropical (export/import)',\n       'Industrial roundwood:non-coniferous non-tropical (export/import)',\n       'Sawlogs and veneer logs', 'Sawlogs and veneer logs:coniferous',\n       'Sawlogs and veneer logs:non-coniferous',\n       'Other industrial roundwood',\n       'Other industrial roundwood:coniferous (production)',\n       'Other industrial roundwood:non-coniferous (production)',\n       'Wood charcoal', 'Wood chips:particles and residues',\n       'Wood chips and particles', 'Wood residues', 'Sawnwood',\n       'Sawnwood:coniferous', 'Sawnwood:non-coniferous all',\n       'Veneer sheets', 'Wood-based panels', 'Plywood',\n       'Particle board and OSB (1961-1994)', 'Particle board', 'OSB',\n       'Fibreboard', 'Hardboard', 'MDF/HDF', 'Other fibreboard',\n       'Fibreboard:compressed (1961-1994)', 'Total fibre furnish',\n       'Pulp for paper', 'Wood pulp', 'Mechanical wood pulp',\n       'Wood pulp:excluding mechanical wood pulp',\n       'Semi-chemical wood pulp', 'Chemical wood pulp',\n       'Chemical wood pulp:sulphate:bleached',\n       'Chemical wood pulp:sulphite:bleached', 'Dissolving wood pulp',\n       'Pulp from fibres other than wood', 'Recovered fibre pulp',\n       'Recovered paper', 'Paper and paperboard', 'Graphic papers',\n       'Newsprint', 'Paper and paperboard:excluding newsprint',\n       'Printing and writing papers',\n       'Printing and writing papers:uncoated:mechanical',\n       'Printing and writing papers:uncoated:wood free',\n       'Printing and writing papers:coated', 'Other paper and paperboard',\n       'Household and sanitary papers', 'Packaging paper and paperboard',\n       'Wrapping and packaging paper and paperboard', 'Case materials',\n       'Cartonboard', 'Wrapping papers',\n       'Other papers mainly for packaging',\n       'Other paper and paperboard n.e.s. (not elsewhere specified)',\n       'Pulpwood:round and split:all species (production)',\n       'Pulpwood:round and split:coniferous (production)',\n       'Pulpwood:round and split:non-coniferous (production)',\n       'Wood pellets and other agglomerates', 'Wood pellets',\n       'Chemical wood pulp:sulphate:unbleached',\n       'Chemical wood pulp:sulphite:unbleached',\n       'Pulpwood and particles (1961-1997)',\n       'Pulpwood and particles:coniferous (production:1961-1997)',\n       'Pulpwood and particles:non-coniferous (production:1961-1997)',\n       'Other industrial roundwood:all species (export/import:1961-1989)',\n       'Other agglomerates',\n       'Pulpwood:round and split:all species (export/import:1961-1989)'],\n      dtype=object)"
     },
     "execution_count": 161,
     "metadata": {},
     "output_type": "execute_result"
    }
   ],
   "source": [
    "forest_all.Item.unique()"
   ]
  },
  {
   "cell_type": "code",
   "execution_count": 163,
   "metadata": {},
   "outputs": [],
   "source": [
    "world_production = forest_all[forest_all.Element.str.match(\"Production\") & \n",
    "                                    forest_all.Area.isin([\"World\"]) &\n",
    "                                    forest_all.Item.isin(PRIMARY_FORREST_PRODUCTS)]\n"
   ]
  },
  {
   "cell_type": "code",
   "execution_count": 171,
   "metadata": {},
   "outputs": [
    {
     "data": {
      "text/plain": "array(['Paper and paperboard',\n       'Pulpwood:round and split:all species (production)', 'Roundwood',\n       'Sawnwood', 'Wood-based panels'], dtype=object)"
     },
     "execution_count": 171,
     "metadata": {},
     "output_type": "execute_result"
    }
   ],
   "source": [
    "world_production.Item.unique()"
   ]
  },
  {
   "cell_type": "code",
   "execution_count": 165,
   "metadata": {},
   "outputs": [],
   "source": [
    "world_production = world_production[world_production.Year >= 1995]\n",
    "world_production = world_production[world_production.Year <= 2015]"
   ]
  },
  {
   "cell_type": "code",
   "execution_count": 167,
   "metadata": {},
   "outputs": [],
   "source": [
    "world_production = world_production.groupby([\"Item\", \"Year\"]).Value.sum()"
   ]
  },
  {
   "cell_type": "code",
   "execution_count": 168,
   "metadata": {},
   "outputs": [],
   "source": [
    "world_production = world_production.reset_index()"
   ]
  },
  {
   "cell_type": "code",
   "execution_count": 170,
   "metadata": {},
   "outputs": [],
   "source": [
    "world_production.loc[world_production.Item.isin(['Paper and paperboard']), \"Value\"] = world_production.loc[world_production.Item.isin(['Paper and paperboard'])].Value.values * 1.2"
   ]
  },
  {
   "cell_type": "code",
   "execution_count": 172,
   "metadata": {},
   "outputs": [],
   "source": [
    "for prod in PRIMARY_FORREST_PRODUCTS:\n",
    "    year_min = world_production[world_production.Item.isin([prod])].Year.min()\n",
    "    start_prod = world_production[(world_production.Item.isin([prod])) & (world_production.Year == year_min)].Value.values[0]\n",
    "    world_production.loc[world_production.Item.isin([prod]), \"Value\"] = world_production[world_production.Item.isin([prod])].Value.values - start_prod\n",
    "\n",
    "\n"
   ]
  },
  {
   "cell_type": "code",
   "execution_count": null,
   "metadata": {},
   "outputs": [],
   "source": [
    "['Roundwood', 'Sawnwood', 'Wood-based panels', 'Paper and paperboard', 'Pulpwood:round and split:all species (production)']"
   ]
  },
  {
   "cell_type": "code",
   "execution_count": 180,
   "metadata": {},
   "outputs": [
    {
     "data": {
      "application/vnd.plotly.v1+json": {
       "config": {
        "plotlyServerURL": "https://plot.ly"
       },
       "data": [
        {
         "mode": "lines+markers",
         "name": "Roundwood",
         "type": "scatter",
         "x": [
          1995,
          1996,
          1997,
          1998,
          1999,
          2000,
          2001,
          2002,
          2003,
          2004,
          2005,
          2006,
          2007,
          2008,
          2009,
          2010,
          2011,
          2012,
          2013,
          2014,
          2015
         ],
         "y": [
          0,
          -38655714,
          34777194,
          6244326,
          59530697,
          144999479,
          62215814,
          123357772,
          179840554,
          235649544,
          271984439,
          233084975,
          270257724,
          147881343,
          43918995,
          225183807,
          292107694,
          321225223,
          370813317,
          408929092,
          396822978
         ]
        },
        {
         "mode": "lines+markers",
         "name": "Sawnwood",
         "type": "scatter",
         "x": [
          1995,
          1996,
          1997,
          1998,
          1999,
          2000,
          2001,
          2002,
          2003,
          2004,
          2005,
          2006,
          2007,
          2008,
          2009,
          2010,
          2011,
          2012,
          2013,
          2014,
          2015
         ],
         "y": [
          0,
          -4009523,
          2998552,
          -12308820,
          -1915841,
          -5509530,
          -11318875,
          1677969,
          8937579,
          34542041,
          47060945,
          55390212,
          43611079,
          -3850302,
          -46414826,
          -15120754,
          -2126569,
          14058743,
          32598693,
          48700593,
          61366477
         ]
        },
        {
         "mode": "lines+markers",
         "name": "Wood-based panels",
         "type": "scatter",
         "x": [
          1995,
          1996,
          1997,
          1998,
          1999,
          2000,
          2001,
          2002,
          2003,
          2004,
          2005,
          2006,
          2007,
          2008,
          2009,
          2010,
          2011,
          2012,
          2013,
          2014,
          2015
         ],
         "y": [
          0,
          362328,
          11165133,
          10226354,
          23684094,
          36937842,
          35023885,
          49404559,
          72706251,
          92704243,
          105904691,
          121461321,
          135117558,
          120237561,
          111986498,
          133901754,
          161662586,
          179492762,
          211123178,
          232335622,
          246065502
         ]
        },
        {
         "mode": "lines+markers",
         "name": "Paper and paperboard",
         "type": "scatter",
         "x": [
          1995,
          1996,
          1997,
          1998,
          1999,
          2000,
          2001,
          2002,
          2003,
          2004,
          2005,
          2006,
          2007,
          2008,
          2009,
          2010,
          2011,
          2012,
          2013,
          2014,
          2015
         ],
         "y": [
          0,
          2521201.2000000477,
          22903630.800000012,
          23597698.800000012,
          40349198.400000036,
          50752826.400000036,
          43970638.80000001,
          57026182.80000001,
          67903886.40000004,
          88231771.20000005,
          99524887.20000005,
          119761424.40000004,
          131832630,
          128960476.80000001,
          106019840.40000004,
          132229341.60000002,
          141442719.60000002,
          140264791.20000005,
          137545093.20000005,
          146203347.60000002,
          149044592.40000004
         ]
        },
        {
         "mode": "lines+markers",
         "name": "Pulpwood",
         "type": "scatter",
         "x": [
          1998,
          1999,
          2000,
          2001,
          2002,
          2003,
          2004,
          2005,
          2006,
          2007,
          2008,
          2009,
          2010,
          2011,
          2012,
          2013,
          2014,
          2015
         ],
         "y": [
          0,
          14048134,
          34535983,
          21572526,
          29802457,
          48839595,
          57536233,
          72199162,
          66712289,
          89812031,
          80327836,
          61125970,
          137442385,
          173096976,
          168810403,
          184643796,
          178642223,
          189933388
         ]
        }
       ],
       "layout": {
        "template": {
         "data": {
          "bar": [
           {
            "error_x": {
             "color": "#2a3f5f"
            },
            "error_y": {
             "color": "#2a3f5f"
            },
            "marker": {
             "line": {
              "color": "#E5ECF6",
              "width": 0.5
             }
            },
            "type": "bar"
           }
          ],
          "barpolar": [
           {
            "marker": {
             "line": {
              "color": "#E5ECF6",
              "width": 0.5
             }
            },
            "type": "barpolar"
           }
          ],
          "carpet": [
           {
            "aaxis": {
             "endlinecolor": "#2a3f5f",
             "gridcolor": "white",
             "linecolor": "white",
             "minorgridcolor": "white",
             "startlinecolor": "#2a3f5f"
            },
            "baxis": {
             "endlinecolor": "#2a3f5f",
             "gridcolor": "white",
             "linecolor": "white",
             "minorgridcolor": "white",
             "startlinecolor": "#2a3f5f"
            },
            "type": "carpet"
           }
          ],
          "choropleth": [
           {
            "colorbar": {
             "outlinewidth": 0,
             "ticks": ""
            },
            "type": "choropleth"
           }
          ],
          "contour": [
           {
            "colorbar": {
             "outlinewidth": 0,
             "ticks": ""
            },
            "colorscale": [
             [
              0,
              "#0d0887"
             ],
             [
              0.1111111111111111,
              "#46039f"
             ],
             [
              0.2222222222222222,
              "#7201a8"
             ],
             [
              0.3333333333333333,
              "#9c179e"
             ],
             [
              0.4444444444444444,
              "#bd3786"
             ],
             [
              0.5555555555555556,
              "#d8576b"
             ],
             [
              0.6666666666666666,
              "#ed7953"
             ],
             [
              0.7777777777777778,
              "#fb9f3a"
             ],
             [
              0.8888888888888888,
              "#fdca26"
             ],
             [
              1,
              "#f0f921"
             ]
            ],
            "type": "contour"
           }
          ],
          "contourcarpet": [
           {
            "colorbar": {
             "outlinewidth": 0,
             "ticks": ""
            },
            "type": "contourcarpet"
           }
          ],
          "heatmap": [
           {
            "colorbar": {
             "outlinewidth": 0,
             "ticks": ""
            },
            "colorscale": [
             [
              0,
              "#0d0887"
             ],
             [
              0.1111111111111111,
              "#46039f"
             ],
             [
              0.2222222222222222,
              "#7201a8"
             ],
             [
              0.3333333333333333,
              "#9c179e"
             ],
             [
              0.4444444444444444,
              "#bd3786"
             ],
             [
              0.5555555555555556,
              "#d8576b"
             ],
             [
              0.6666666666666666,
              "#ed7953"
             ],
             [
              0.7777777777777778,
              "#fb9f3a"
             ],
             [
              0.8888888888888888,
              "#fdca26"
             ],
             [
              1,
              "#f0f921"
             ]
            ],
            "type": "heatmap"
           }
          ],
          "heatmapgl": [
           {
            "colorbar": {
             "outlinewidth": 0,
             "ticks": ""
            },
            "colorscale": [
             [
              0,
              "#0d0887"
             ],
             [
              0.1111111111111111,
              "#46039f"
             ],
             [
              0.2222222222222222,
              "#7201a8"
             ],
             [
              0.3333333333333333,
              "#9c179e"
             ],
             [
              0.4444444444444444,
              "#bd3786"
             ],
             [
              0.5555555555555556,
              "#d8576b"
             ],
             [
              0.6666666666666666,
              "#ed7953"
             ],
             [
              0.7777777777777778,
              "#fb9f3a"
             ],
             [
              0.8888888888888888,
              "#fdca26"
             ],
             [
              1,
              "#f0f921"
             ]
            ],
            "type": "heatmapgl"
           }
          ],
          "histogram": [
           {
            "marker": {
             "colorbar": {
              "outlinewidth": 0,
              "ticks": ""
             }
            },
            "type": "histogram"
           }
          ],
          "histogram2d": [
           {
            "colorbar": {
             "outlinewidth": 0,
             "ticks": ""
            },
            "colorscale": [
             [
              0,
              "#0d0887"
             ],
             [
              0.1111111111111111,
              "#46039f"
             ],
             [
              0.2222222222222222,
              "#7201a8"
             ],
             [
              0.3333333333333333,
              "#9c179e"
             ],
             [
              0.4444444444444444,
              "#bd3786"
             ],
             [
              0.5555555555555556,
              "#d8576b"
             ],
             [
              0.6666666666666666,
              "#ed7953"
             ],
             [
              0.7777777777777778,
              "#fb9f3a"
             ],
             [
              0.8888888888888888,
              "#fdca26"
             ],
             [
              1,
              "#f0f921"
             ]
            ],
            "type": "histogram2d"
           }
          ],
          "histogram2dcontour": [
           {
            "colorbar": {
             "outlinewidth": 0,
             "ticks": ""
            },
            "colorscale": [
             [
              0,
              "#0d0887"
             ],
             [
              0.1111111111111111,
              "#46039f"
             ],
             [
              0.2222222222222222,
              "#7201a8"
             ],
             [
              0.3333333333333333,
              "#9c179e"
             ],
             [
              0.4444444444444444,
              "#bd3786"
             ],
             [
              0.5555555555555556,
              "#d8576b"
             ],
             [
              0.6666666666666666,
              "#ed7953"
             ],
             [
              0.7777777777777778,
              "#fb9f3a"
             ],
             [
              0.8888888888888888,
              "#fdca26"
             ],
             [
              1,
              "#f0f921"
             ]
            ],
            "type": "histogram2dcontour"
           }
          ],
          "mesh3d": [
           {
            "colorbar": {
             "outlinewidth": 0,
             "ticks": ""
            },
            "type": "mesh3d"
           }
          ],
          "parcoords": [
           {
            "line": {
             "colorbar": {
              "outlinewidth": 0,
              "ticks": ""
             }
            },
            "type": "parcoords"
           }
          ],
          "pie": [
           {
            "automargin": true,
            "type": "pie"
           }
          ],
          "scatter": [
           {
            "marker": {
             "colorbar": {
              "outlinewidth": 0,
              "ticks": ""
             }
            },
            "type": "scatter"
           }
          ],
          "scatter3d": [
           {
            "line": {
             "colorbar": {
              "outlinewidth": 0,
              "ticks": ""
             }
            },
            "marker": {
             "colorbar": {
              "outlinewidth": 0,
              "ticks": ""
             }
            },
            "type": "scatter3d"
           }
          ],
          "scattercarpet": [
           {
            "marker": {
             "colorbar": {
              "outlinewidth": 0,
              "ticks": ""
             }
            },
            "type": "scattercarpet"
           }
          ],
          "scattergeo": [
           {
            "marker": {
             "colorbar": {
              "outlinewidth": 0,
              "ticks": ""
             }
            },
            "type": "scattergeo"
           }
          ],
          "scattergl": [
           {
            "marker": {
             "colorbar": {
              "outlinewidth": 0,
              "ticks": ""
             }
            },
            "type": "scattergl"
           }
          ],
          "scattermapbox": [
           {
            "marker": {
             "colorbar": {
              "outlinewidth": 0,
              "ticks": ""
             }
            },
            "type": "scattermapbox"
           }
          ],
          "scatterpolar": [
           {
            "marker": {
             "colorbar": {
              "outlinewidth": 0,
              "ticks": ""
             }
            },
            "type": "scatterpolar"
           }
          ],
          "scatterpolargl": [
           {
            "marker": {
             "colorbar": {
              "outlinewidth": 0,
              "ticks": ""
             }
            },
            "type": "scatterpolargl"
           }
          ],
          "scatterternary": [
           {
            "marker": {
             "colorbar": {
              "outlinewidth": 0,
              "ticks": ""
             }
            },
            "type": "scatterternary"
           }
          ],
          "surface": [
           {
            "colorbar": {
             "outlinewidth": 0,
             "ticks": ""
            },
            "colorscale": [
             [
              0,
              "#0d0887"
             ],
             [
              0.1111111111111111,
              "#46039f"
             ],
             [
              0.2222222222222222,
              "#7201a8"
             ],
             [
              0.3333333333333333,
              "#9c179e"
             ],
             [
              0.4444444444444444,
              "#bd3786"
             ],
             [
              0.5555555555555556,
              "#d8576b"
             ],
             [
              0.6666666666666666,
              "#ed7953"
             ],
             [
              0.7777777777777778,
              "#fb9f3a"
             ],
             [
              0.8888888888888888,
              "#fdca26"
             ],
             [
              1,
              "#f0f921"
             ]
            ],
            "type": "surface"
           }
          ],
          "table": [
           {
            "cells": {
             "fill": {
              "color": "#EBF0F8"
             },
             "line": {
              "color": "white"
             }
            },
            "header": {
             "fill": {
              "color": "#C8D4E3"
             },
             "line": {
              "color": "white"
             }
            },
            "type": "table"
           }
          ]
         },
         "layout": {
          "annotationdefaults": {
           "arrowcolor": "#2a3f5f",
           "arrowhead": 0,
           "arrowwidth": 1
          },
          "coloraxis": {
           "colorbar": {
            "outlinewidth": 0,
            "ticks": ""
           }
          },
          "colorscale": {
           "diverging": [
            [
             0,
             "#8e0152"
            ],
            [
             0.1,
             "#c51b7d"
            ],
            [
             0.2,
             "#de77ae"
            ],
            [
             0.3,
             "#f1b6da"
            ],
            [
             0.4,
             "#fde0ef"
            ],
            [
             0.5,
             "#f7f7f7"
            ],
            [
             0.6,
             "#e6f5d0"
            ],
            [
             0.7,
             "#b8e186"
            ],
            [
             0.8,
             "#7fbc41"
            ],
            [
             0.9,
             "#4d9221"
            ],
            [
             1,
             "#276419"
            ]
           ],
           "sequential": [
            [
             0,
             "#0d0887"
            ],
            [
             0.1111111111111111,
             "#46039f"
            ],
            [
             0.2222222222222222,
             "#7201a8"
            ],
            [
             0.3333333333333333,
             "#9c179e"
            ],
            [
             0.4444444444444444,
             "#bd3786"
            ],
            [
             0.5555555555555556,
             "#d8576b"
            ],
            [
             0.6666666666666666,
             "#ed7953"
            ],
            [
             0.7777777777777778,
             "#fb9f3a"
            ],
            [
             0.8888888888888888,
             "#fdca26"
            ],
            [
             1,
             "#f0f921"
            ]
           ],
           "sequentialminus": [
            [
             0,
             "#0d0887"
            ],
            [
             0.1111111111111111,
             "#46039f"
            ],
            [
             0.2222222222222222,
             "#7201a8"
            ],
            [
             0.3333333333333333,
             "#9c179e"
            ],
            [
             0.4444444444444444,
             "#bd3786"
            ],
            [
             0.5555555555555556,
             "#d8576b"
            ],
            [
             0.6666666666666666,
             "#ed7953"
            ],
            [
             0.7777777777777778,
             "#fb9f3a"
            ],
            [
             0.8888888888888888,
             "#fdca26"
            ],
            [
             1,
             "#f0f921"
            ]
           ]
          },
          "colorway": [
           "#636efa",
           "#EF553B",
           "#00cc96",
           "#ab63fa",
           "#FFA15A",
           "#19d3f3",
           "#FF6692",
           "#B6E880",
           "#FF97FF",
           "#FECB52"
          ],
          "font": {
           "color": "#2a3f5f"
          },
          "geo": {
           "bgcolor": "white",
           "lakecolor": "white",
           "landcolor": "#E5ECF6",
           "showlakes": true,
           "showland": true,
           "subunitcolor": "white"
          },
          "hoverlabel": {
           "align": "left"
          },
          "hovermode": "closest",
          "mapbox": {
           "style": "light"
          },
          "paper_bgcolor": "white",
          "plot_bgcolor": "#E5ECF6",
          "polar": {
           "angularaxis": {
            "gridcolor": "white",
            "linecolor": "white",
            "ticks": ""
           },
           "bgcolor": "#E5ECF6",
           "radialaxis": {
            "gridcolor": "white",
            "linecolor": "white",
            "ticks": ""
           }
          },
          "scene": {
           "xaxis": {
            "backgroundcolor": "#E5ECF6",
            "gridcolor": "white",
            "gridwidth": 2,
            "linecolor": "white",
            "showbackground": true,
            "ticks": "",
            "zerolinecolor": "white"
           },
           "yaxis": {
            "backgroundcolor": "#E5ECF6",
            "gridcolor": "white",
            "gridwidth": 2,
            "linecolor": "white",
            "showbackground": true,
            "ticks": "",
            "zerolinecolor": "white"
           },
           "zaxis": {
            "backgroundcolor": "#E5ECF6",
            "gridcolor": "white",
            "gridwidth": 2,
            "linecolor": "white",
            "showbackground": true,
            "ticks": "",
            "zerolinecolor": "white"
           }
          },
          "shapedefaults": {
           "line": {
            "color": "#2a3f5f"
           }
          },
          "ternary": {
           "aaxis": {
            "gridcolor": "white",
            "linecolor": "white",
            "ticks": ""
           },
           "baxis": {
            "gridcolor": "white",
            "linecolor": "white",
            "ticks": ""
           },
           "bgcolor": "#E5ECF6",
           "caxis": {
            "gridcolor": "white",
            "linecolor": "white",
            "ticks": ""
           }
          },
          "title": {
           "x": 0.05
          },
          "xaxis": {
           "automargin": true,
           "gridcolor": "white",
           "linecolor": "white",
           "ticks": "",
           "title": {
            "standoff": 15
           },
           "zerolinecolor": "white",
           "zerolinewidth": 2
          },
          "yaxis": {
           "automargin": true,
           "gridcolor": "white",
           "linecolor": "white",
           "ticks": "",
           "title": {
            "standoff": 15
           },
           "zerolinecolor": "white",
           "zerolinewidth": 2
          }
         }
        },
        "yaxis": {
         "title": {
          "text": "Change in Production (m3)"
         }
        }
       }
      }
     },
     "metadata": {},
     "output_type": "display_data"
    }
   ],
   "source": [
    "import plotly.graph_objects as go\n",
    "\n",
    "fig = go.Figure()\n",
    "fig = go.Figure()\n",
    "fig.add_trace(go.Scatter(\n",
    "                    x=world_production[world_production.Item.isin(['Roundwood'])].Year.values, \n",
    "                    y=world_production[world_production.Item.isin(['Roundwood'])].Value.values,\n",
    "                    mode='lines+markers',\n",
    "                    name='Roundwood'))\n",
    "fig.add_trace(go.Scatter(\n",
    "                    x=world_production[world_production.Item.isin(['Sawnwood'])].Year.values, \n",
    "                    y=world_production[world_production.Item.isin(['Sawnwood'])].Value.values,\n",
    "                    mode='lines+markers',\n",
    "                    name='Sawnwood'))\n",
    "fig.add_trace(go.Scatter(\n",
    "                    x=world_production[world_production.Item.isin(['Wood-based panels'])].Year.values, \n",
    "                    y=world_production[world_production.Item.isin(['Wood-based panels'])].Value.values,\n",
    "                    mode='lines+markers',\n",
    "                    name='Wood-based panels'))\n",
    "fig.add_trace(go.Scatter(\n",
    "                    x=world_production[world_production.Item.isin(['Paper and paperboard'])].Year.values, \n",
    "                    y=world_production[world_production.Item.isin(['Paper and paperboard'])].Value.values,\n",
    "                    mode='lines+markers',\n",
    "                    name='Paper and paperboard'))\n",
    "fig.add_trace(go.Scatter(\n",
    "                    x=world_production[world_production.Item.isin(['Pulpwood:round and split:all species (production)'])].Year.values, \n",
    "                    y=world_production[world_production.Item.isin(['Pulpwood:round and split:all species (production)'])].Value.values,\n",
    "                    mode='lines+markers',\n",
    "                    name='Pulpwood'))\n",
    "\n",
    "fig.update_layout(\n",
    "    yaxis_title=\"Change in Production (m3)\"\n",
    ")\n",
    "fig.show()"
   ]
  },
  {
   "cell_type": "markdown",
   "execution_count": null,
   "metadata": {},
   "outputs": [],
   "source": [
    "## Forests as a product\n",
    "\n",
    "Wood products are integral part of our daily lives. We have been usig this material from begining of our kind, but the demand has never been this big. The production of primary wood products has increased by 20 percents in the past 20 years. And this trend doesn't seem to stop. The forests  Co2 on our planet and with every sawn tree this number decreases. The production of wood-based panel has increased by alarming 160 percent from 1995. The growth is steady every year, except the drop during econominc crisis in 2007-2009."
   ]
  },
  {
   "cell_type": "code",
   "execution_count": 181,
   "metadata": {},
   "outputs": [
    {
     "data": {
      "text/plain": "'0_world_prod.html'"
     },
     "execution_count": 181,
     "metadata": {},
     "output_type": "execute_result"
    }
   ],
   "source": [
    "# export the plot to html\n",
    "from plotly.offline import download_plotlyjs, init_notebook_mode, iplot, plot\n",
    "import plotly.graph_objs as go\n",
    "from IPython.core.display import display, HTML\n",
    "\n",
    "plot(fig, filename = '0_world_prod.html')"
   ]
  },
  {
   "cell_type": "code",
   "execution_count": null,
   "metadata": {},
   "outputs": [],
   "source": []
  }
 ]
}