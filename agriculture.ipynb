{
 "cells": [
  {
   "cell_type": "code",
   "execution_count": 3,
   "metadata": {},
   "outputs": [],
   "source": [
    "# all the necessary imports\n",
    "from bokeh.io import output_notebook, show, output_file\n",
    "from bokeh.plotting import figure\n",
    "from bokeh.models import GeoJSONDataSource, LinearColorMapper, ColorBar\n",
    "from bokeh.palettes import brewer\n",
    "from bokeh.io import curdoc, output_notebook, export_png\n",
    "from bokeh.models import Slider, HoverTool\n",
    "import pandas as pd\n",
    "import numpy as np\n",
    "import matplotlib.pyplot as plt\n",
    "import warnings\n",
    "import seaborn as sns\n",
    "from bokeh.layouts import widgetbox, row, column\n",
    "import geopandas as gpd\n",
    "import json\n",
    "import plotly as py\n",
    "import plotly.graph_objects as go\n",
    "\n",
    "warnings.filterwarnings('ignore')\n",
    "%matplotlib inline\n",
    "sns.set()"
   ]
  },
  {
   "cell_type": "markdown",
   "metadata": {},
   "source": [
    "# **Plots of area distributions from satellite data**\n",
    "In this section we used the dataset `Environment_LandCover_E_All_Data_cleared.csv` which contains two types of measurements: CCI_LC and MODIS. The land distribution is inferred from satellite images and aggregated in different (not always perfectly consistent) ways. We want to analyse **changes in different land types with respect to the \"ground level\" in 1992** (for CCI_LC, or 2001 for MODIS)."
   ]
  },
  {
   "cell_type": "code",
   "execution_count": 7,
   "metadata": {},
   "outputs": [],
   "source": [
    "env_land_cover_all = pd.read_csv(\"data/faostat/Environment_LandCover_E_All_Data_cleared.csv\", engine='python')"
   ]
  },
  {
   "cell_type": "code",
   "execution_count": 8,
   "metadata": {},
   "outputs": [],
   "source": [
    "# type of land use: comparison between different land types and deduction of \n",
    "# how the forested areas ('Tree-covered ares') transformed\n",
    "\n",
    "def plot_land_type_differentials_plotly(country, data_type):\n",
    "    \"\"\"\n",
    "    Plots the difference between the yearly surface change (increase or decrease) of different types of land,\n",
    "    compared to a ground value (1992 for CCI_LC, 2001 for MODIS)\n",
    "    :param str country:            should match with the 'Area' field\n",
    "    :param str data_type:          CCI_LC or MODIS, come from different satellite images and different aggregation criteria\n",
    "    :param int land_types_number:  number of categories plotted\n",
    "    \"\"\"\n",
    "\n",
    "    # create a DataFrame with year as only column. Years listed depend on the data_type\n",
    "    country_land_types_yearly = pd.DataFrame(env_land_cover_all[env_land_cover_all.Element.str.match('Area from ' + data_type)].Year.unique(), \n",
    "                                             columns=['Year'])\n",
    "\n",
    "    # fill the DataFrame columns: each column is a specific land type, each row is a year\n",
    "    land_types = env_land_cover_all.Item.unique()\n",
    "    for land_type in land_types:\n",
    "        selected_item_yearly = env_land_cover_all.loc[(env_land_cover_all['Item'] == land_type) &\n",
    "                                                      (env_land_cover_all.Area.str.match(country)) &\n",
    "                                                      (env_land_cover_all.Element.str.match('Area from ' + data_type)), \n",
    "                                                      'Value']\n",
    "        if selected_item_yearly.isnull().sum() == 0: # if the selected land_type is registered every year\n",
    "            country_land_types_yearly[land_type] = selected_item_yearly.values\n",
    "\n",
    "    # compute differences w.r.t. first year of measurement for every column\n",
    "    starting_year = country_land_types_yearly.iloc[0, 0]\n",
    "    country_land_types_year_diff = country_land_types_yearly - country_land_types_yearly.iloc[0, :]\n",
    "    country_land_types_year_diff['Year'] = country_land_types_year_diff['Year'] + starting_year    # restore correct year after subtraction\n",
    "\n",
    "    # set 'Year' as the new index\n",
    "    country_land_types_year_diff.set_index('Year', inplace=True)\n",
    "\n",
    "    # select classes of land type\n",
    "    selected_land_types = land_types[[1, 2, 4, 5, 7]]\n",
    "    \n",
    "    # take most important 5 land types (based on differential values) and check if they are plotted\n",
    "    top_n_land_types = country_land_types_year_diff.iloc[-1, :].abs().sort_values(ascending=False).index[0:len(selected_land_types)]\n",
    "    for land_type in top_n_land_types:\n",
    "        if land_type not in selected_land_types:\n",
    "            print(\"Warning: \" + land_type + \" was not plotted but had big differential value!\")\n",
    "            \n",
    "    # plot\n",
    "    fig = go.Figure()\n",
    "    \n",
    "    fig.add_shape(go.layout.Shape(type=\"line\", \n",
    "                                  x0=country_land_types_year_diff.index.values[0], \n",
    "                                  y0=0, \n",
    "                                  x1=country_land_types_year_diff.index.values[-1], \n",
    "                                  y1=0, \n",
    "                                  line=dict(color=\"Black\", width=1, dash=\"dashdot\",),)) # reference horizontal line\n",
    "    \n",
    "    for column_index, land_type in enumerate(country_land_types_year_diff.columns):\n",
    "        \n",
    "        # skip land types that were not selecte (cleaner plot!)\n",
    "        if land_type not in selected_land_types:\n",
    "            continue\n",
    "\n",
    "        fig.add_trace(go.Scatter(x=country_land_types_year_diff.index,\n",
    "                                 y=country_land_types_year_diff[land_type],\n",
    "                                 mode='lines',\n",
    "                                 name=land_type))\n",
    "\n",
    "    fig.update_layout(title=country + \" land use differentials (\" + data_type + \" data)\",\n",
    "                      xaxis_title='Year',\n",
    "                      yaxis_title='Differential surface w.r.t. ' + str(int(country_land_types_year_diff.index[0])) + ' value [1000 ha]')\n",
    "    \n",
    "    fig.show()"
   ]
  },
  {
   "cell_type": "code",
   "execution_count": 10,
   "metadata": {},
   "outputs": [
    {
     "name": "stdout",
     "output_type": "stream",
     "text": [
      "Warning: Inland water bodies was not plotted but had big differential value!\n"
     ]
    },
    {
     "data": {
      "application/vnd.plotly.v1+json": {
       "config": {
        "plotlyServerURL": "https://plot.ly"
       },
       "data": [
        {
         "mode": "lines",
         "name": "Herbaceous crops",
         "type": "scatter",
         "x": [
          1992,
          1993,
          1994,
          1995,
          1996,
          1997,
          1998,
          1999,
          2000,
          2001,
          2002,
          2003,
          2004,
          2005,
          2006,
          2007,
          2008,
          2009,
          2010,
          2011,
          2012,
          2013,
          2014,
          2015
         ],
         "y": [
          0,
          -328.1953000000067,
          332.2798999999941,
          4058.1492,
          4994.012899999987,
          6024.660999999993,
          7483.6149000000005,
          9722.50069999999,
          10143.094599999997,
          11165.308999999994,
          12289.222599999994,
          13722.487099999998,
          18949.34729999998,
          19213.20109999999,
          19351.372799999997,
          19034.63799999999,
          19349.947700000004,
          19646.7852,
          19554.372799999997,
          19898.05709999999,
          20110.45579999998,
          21050.545599999998,
          21874.522699999987,
          21926.39469999999
         ]
        },
        {
         "mode": "lines",
         "name": "Woody crops",
         "type": "scatter",
         "x": [
          1992,
          1993,
          1994,
          1995,
          1996,
          1997,
          1998,
          1999,
          2000,
          2001,
          2002,
          2003,
          2004,
          2005,
          2006,
          2007,
          2008,
          2009,
          2010,
          2011,
          2012,
          2013,
          2014,
          2015
         ],
         "y": [
          0,
          999.2668000000012,
          324.877199999999,
          -721.4397000000008,
          -337.9340000000011,
          -247.41430000000037,
          -100.30249999999978,
          117.5643,
          99.28429999999935,
          -188.88150000000132,
          -742.2312000000002,
          -1376.6453000000001,
          -1665.9048000000003,
          -1867.4863000000005,
          -1987.8870000000006,
          -1777.6378999999997,
          -2122.5792,
          -2416.8882000000012,
          -2411.3276000000005,
          -2737.1923000000006,
          -2964.027,
          -3940.233,
          -4890.1502,
          -4958.420600000001
         ]
        },
        {
         "mode": "lines",
         "name": "Grassland",
         "type": "scatter",
         "x": [
          1992,
          1993,
          1994,
          1995,
          1996,
          1997,
          1998,
          1999,
          2000,
          2001,
          2002,
          2003,
          2004,
          2005,
          2006,
          2007,
          2008,
          2009,
          2010,
          2011,
          2012,
          2013,
          2014,
          2015
         ],
         "y": [
          0,
          261.1962000000058,
          261.3883999999962,
          1337.6889000000083,
          1837.0385999999999,
          2387.842199999999,
          3109.7235999999975,
          4289.252900000007,
          4670.9667000000045,
          5017.613899999997,
          5330.663499999995,
          5677.976699999999,
          7961.5071000000025,
          8034.755799999999,
          8120.984400000001,
          8198.175100000008,
          8290.551099999997,
          8333.225099999996,
          8369.6544,
          8410.919900000008,
          8431.593699999998,
          8455.149399999995,
          8444.5245,
          8443.249599999996
         ]
        },
        {
         "mode": "lines",
         "name": "Tree-covered areas",
         "type": "scatter",
         "x": [
          1992,
          1993,
          1994,
          1995,
          1996,
          1997,
          1998,
          1999,
          2000,
          2001,
          2002,
          2003,
          2004,
          2005,
          2006,
          2007,
          2008,
          2009,
          2010,
          2011,
          2012,
          2013,
          2014,
          2015
         ],
         "y": [
          0,
          -2228.9017999999924,
          -2226.4199999999837,
          -6536.361600000004,
          -8603.148199999996,
          -10395.395599999989,
          -13078.877800000017,
          -16857.736199999985,
          -17249.094900000026,
          -18395.996800000023,
          -19330.267500000016,
          -20805.825100000016,
          -31013.81640000001,
          -31179.28999999998,
          -31448.114100000006,
          -31391.464500000002,
          -31540.306500000006,
          -31591.914700000023,
          -31593.8934,
          -31986.0135,
          -32044.241299999994,
          -32200.520900000003,
          -32054.1642,
          -32052.80290000001
         ]
        },
        {
         "mode": "lines",
         "name": "Shrub-covered areas",
         "type": "scatter",
         "x": [
          1992,
          1993,
          1994,
          1995,
          1996,
          1997,
          1998,
          1999,
          2000,
          2001,
          2002,
          2003,
          2004,
          2005,
          2006,
          2007,
          2008,
          2009,
          2010,
          2011,
          2012,
          2013,
          2014,
          2015
         ],
         "y": [
          0,
          387.33699999999953,
          375.5172999999777,
          458.957699999999,
          334.7715999999782,
          144.7770999999775,
          213.00069999997504,
          -33.26090000002296,
          -553.6129000000074,
          -556.4907000000239,
          -645.027700000006,
          -373.25380000000587,
          1455.3085999999894,
          1436.8859999999986,
          1554.5483999999997,
          1473.1059999999998,
          1506.5873999999894,
          1462.4895999999717,
          1499.631299999979,
          1769.1106999999902,
          1767.946499999991,
          1864.5592999999935,
          1792.8656999999948,
          1787.3571999999986
         ]
        }
       ],
       "layout": {
        "shapes": [
         {
          "line": {
           "color": "Black",
           "dash": "dashdot",
           "width": 1
          },
          "type": "line",
          "x0": 1992,
          "x1": 2015,
          "y0": 0,
          "y1": 0
         }
        ],
        "template": {
         "data": {
          "bar": [
           {
            "error_x": {
             "color": "#2a3f5f"
            },
            "error_y": {
             "color": "#2a3f5f"
            },
            "marker": {
             "line": {
              "color": "#E5ECF6",
              "width": 0.5
             }
            },
            "type": "bar"
           }
          ],
          "barpolar": [
           {
            "marker": {
             "line": {
              "color": "#E5ECF6",
              "width": 0.5
             }
            },
            "type": "barpolar"
           }
          ],
          "carpet": [
           {
            "aaxis": {
             "endlinecolor": "#2a3f5f",
             "gridcolor": "white",
             "linecolor": "white",
             "minorgridcolor": "white",
             "startlinecolor": "#2a3f5f"
            },
            "baxis": {
             "endlinecolor": "#2a3f5f",
             "gridcolor": "white",
             "linecolor": "white",
             "minorgridcolor": "white",
             "startlinecolor": "#2a3f5f"
            },
            "type": "carpet"
           }
          ],
          "choropleth": [
           {
            "colorbar": {
             "outlinewidth": 0,
             "ticks": ""
            },
            "type": "choropleth"
           }
          ],
          "contour": [
           {
            "colorbar": {
             "outlinewidth": 0,
             "ticks": ""
            },
            "colorscale": [
             [
              0,
              "#0d0887"
             ],
             [
              0.1111111111111111,
              "#46039f"
             ],
             [
              0.2222222222222222,
              "#7201a8"
             ],
             [
              0.3333333333333333,
              "#9c179e"
             ],
             [
              0.4444444444444444,
              "#bd3786"
             ],
             [
              0.5555555555555556,
              "#d8576b"
             ],
             [
              0.6666666666666666,
              "#ed7953"
             ],
             [
              0.7777777777777778,
              "#fb9f3a"
             ],
             [
              0.8888888888888888,
              "#fdca26"
             ],
             [
              1,
              "#f0f921"
             ]
            ],
            "type": "contour"
           }
          ],
          "contourcarpet": [
           {
            "colorbar": {
             "outlinewidth": 0,
             "ticks": ""
            },
            "type": "contourcarpet"
           }
          ],
          "heatmap": [
           {
            "colorbar": {
             "outlinewidth": 0,
             "ticks": ""
            },
            "colorscale": [
             [
              0,
              "#0d0887"
             ],
             [
              0.1111111111111111,
              "#46039f"
             ],
             [
              0.2222222222222222,
              "#7201a8"
             ],
             [
              0.3333333333333333,
              "#9c179e"
             ],
             [
              0.4444444444444444,
              "#bd3786"
             ],
             [
              0.5555555555555556,
              "#d8576b"
             ],
             [
              0.6666666666666666,
              "#ed7953"
             ],
             [
              0.7777777777777778,
              "#fb9f3a"
             ],
             [
              0.8888888888888888,
              "#fdca26"
             ],
             [
              1,
              "#f0f921"
             ]
            ],
            "type": "heatmap"
           }
          ],
          "heatmapgl": [
           {
            "colorbar": {
             "outlinewidth": 0,
             "ticks": ""
            },
            "colorscale": [
             [
              0,
              "#0d0887"
             ],
             [
              0.1111111111111111,
              "#46039f"
             ],
             [
              0.2222222222222222,
              "#7201a8"
             ],
             [
              0.3333333333333333,
              "#9c179e"
             ],
             [
              0.4444444444444444,
              "#bd3786"
             ],
             [
              0.5555555555555556,
              "#d8576b"
             ],
             [
              0.6666666666666666,
              "#ed7953"
             ],
             [
              0.7777777777777778,
              "#fb9f3a"
             ],
             [
              0.8888888888888888,
              "#fdca26"
             ],
             [
              1,
              "#f0f921"
             ]
            ],
            "type": "heatmapgl"
           }
          ],
          "histogram": [
           {
            "marker": {
             "colorbar": {
              "outlinewidth": 0,
              "ticks": ""
             }
            },
            "type": "histogram"
           }
          ],
          "histogram2d": [
           {
            "colorbar": {
             "outlinewidth": 0,
             "ticks": ""
            },
            "colorscale": [
             [
              0,
              "#0d0887"
             ],
             [
              0.1111111111111111,
              "#46039f"
             ],
             [
              0.2222222222222222,
              "#7201a8"
             ],
             [
              0.3333333333333333,
              "#9c179e"
             ],
             [
              0.4444444444444444,
              "#bd3786"
             ],
             [
              0.5555555555555556,
              "#d8576b"
             ],
             [
              0.6666666666666666,
              "#ed7953"
             ],
             [
              0.7777777777777778,
              "#fb9f3a"
             ],
             [
              0.8888888888888888,
              "#fdca26"
             ],
             [
              1,
              "#f0f921"
             ]
            ],
            "type": "histogram2d"
           }
          ],
          "histogram2dcontour": [
           {
            "colorbar": {
             "outlinewidth": 0,
             "ticks": ""
            },
            "colorscale": [
             [
              0,
              "#0d0887"
             ],
             [
              0.1111111111111111,
              "#46039f"
             ],
             [
              0.2222222222222222,
              "#7201a8"
             ],
             [
              0.3333333333333333,
              "#9c179e"
             ],
             [
              0.4444444444444444,
              "#bd3786"
             ],
             [
              0.5555555555555556,
              "#d8576b"
             ],
             [
              0.6666666666666666,
              "#ed7953"
             ],
             [
              0.7777777777777778,
              "#fb9f3a"
             ],
             [
              0.8888888888888888,
              "#fdca26"
             ],
             [
              1,
              "#f0f921"
             ]
            ],
            "type": "histogram2dcontour"
           }
          ],
          "mesh3d": [
           {
            "colorbar": {
             "outlinewidth": 0,
             "ticks": ""
            },
            "type": "mesh3d"
           }
          ],
          "parcoords": [
           {
            "line": {
             "colorbar": {
              "outlinewidth": 0,
              "ticks": ""
             }
            },
            "type": "parcoords"
           }
          ],
          "pie": [
           {
            "automargin": true,
            "type": "pie"
           }
          ],
          "scatter": [
           {
            "marker": {
             "colorbar": {
              "outlinewidth": 0,
              "ticks": ""
             }
            },
            "type": "scatter"
           }
          ],
          "scatter3d": [
           {
            "line": {
             "colorbar": {
              "outlinewidth": 0,
              "ticks": ""
             }
            },
            "marker": {
             "colorbar": {
              "outlinewidth": 0,
              "ticks": ""
             }
            },
            "type": "scatter3d"
           }
          ],
          "scattercarpet": [
           {
            "marker": {
             "colorbar": {
              "outlinewidth": 0,
              "ticks": ""
             }
            },
            "type": "scattercarpet"
           }
          ],
          "scattergeo": [
           {
            "marker": {
             "colorbar": {
              "outlinewidth": 0,
              "ticks": ""
             }
            },
            "type": "scattergeo"
           }
          ],
          "scattergl": [
           {
            "marker": {
             "colorbar": {
              "outlinewidth": 0,
              "ticks": ""
             }
            },
            "type": "scattergl"
           }
          ],
          "scattermapbox": [
           {
            "marker": {
             "colorbar": {
              "outlinewidth": 0,
              "ticks": ""
             }
            },
            "type": "scattermapbox"
           }
          ],
          "scatterpolar": [
           {
            "marker": {
             "colorbar": {
              "outlinewidth": 0,
              "ticks": ""
             }
            },
            "type": "scatterpolar"
           }
          ],
          "scatterpolargl": [
           {
            "marker": {
             "colorbar": {
              "outlinewidth": 0,
              "ticks": ""
             }
            },
            "type": "scatterpolargl"
           }
          ],
          "scatterternary": [
           {
            "marker": {
             "colorbar": {
              "outlinewidth": 0,
              "ticks": ""
             }
            },
            "type": "scatterternary"
           }
          ],
          "surface": [
           {
            "colorbar": {
             "outlinewidth": 0,
             "ticks": ""
            },
            "colorscale": [
             [
              0,
              "#0d0887"
             ],
             [
              0.1111111111111111,
              "#46039f"
             ],
             [
              0.2222222222222222,
              "#7201a8"
             ],
             [
              0.3333333333333333,
              "#9c179e"
             ],
             [
              0.4444444444444444,
              "#bd3786"
             ],
             [
              0.5555555555555556,
              "#d8576b"
             ],
             [
              0.6666666666666666,
              "#ed7953"
             ],
             [
              0.7777777777777778,
              "#fb9f3a"
             ],
             [
              0.8888888888888888,
              "#fdca26"
             ],
             [
              1,
              "#f0f921"
             ]
            ],
            "type": "surface"
           }
          ],
          "table": [
           {
            "cells": {
             "fill": {
              "color": "#EBF0F8"
             },
             "line": {
              "color": "white"
             }
            },
            "header": {
             "fill": {
              "color": "#C8D4E3"
             },
             "line": {
              "color": "white"
             }
            },
            "type": "table"
           }
          ]
         },
         "layout": {
          "annotationdefaults": {
           "arrowcolor": "#2a3f5f",
           "arrowhead": 0,
           "arrowwidth": 1
          },
          "coloraxis": {
           "colorbar": {
            "outlinewidth": 0,
            "ticks": ""
           }
          },
          "colorscale": {
           "diverging": [
            [
             0,
             "#8e0152"
            ],
            [
             0.1,
             "#c51b7d"
            ],
            [
             0.2,
             "#de77ae"
            ],
            [
             0.3,
             "#f1b6da"
            ],
            [
             0.4,
             "#fde0ef"
            ],
            [
             0.5,
             "#f7f7f7"
            ],
            [
             0.6,
             "#e6f5d0"
            ],
            [
             0.7,
             "#b8e186"
            ],
            [
             0.8,
             "#7fbc41"
            ],
            [
             0.9,
             "#4d9221"
            ],
            [
             1,
             "#276419"
            ]
           ],
           "sequential": [
            [
             0,
             "#0d0887"
            ],
            [
             0.1111111111111111,
             "#46039f"
            ],
            [
             0.2222222222222222,
             "#7201a8"
            ],
            [
             0.3333333333333333,
             "#9c179e"
            ],
            [
             0.4444444444444444,
             "#bd3786"
            ],
            [
             0.5555555555555556,
             "#d8576b"
            ],
            [
             0.6666666666666666,
             "#ed7953"
            ],
            [
             0.7777777777777778,
             "#fb9f3a"
            ],
            [
             0.8888888888888888,
             "#fdca26"
            ],
            [
             1,
             "#f0f921"
            ]
           ],
           "sequentialminus": [
            [
             0,
             "#0d0887"
            ],
            [
             0.1111111111111111,
             "#46039f"
            ],
            [
             0.2222222222222222,
             "#7201a8"
            ],
            [
             0.3333333333333333,
             "#9c179e"
            ],
            [
             0.4444444444444444,
             "#bd3786"
            ],
            [
             0.5555555555555556,
             "#d8576b"
            ],
            [
             0.6666666666666666,
             "#ed7953"
            ],
            [
             0.7777777777777778,
             "#fb9f3a"
            ],
            [
             0.8888888888888888,
             "#fdca26"
            ],
            [
             1,
             "#f0f921"
            ]
           ]
          },
          "colorway": [
           "#636efa",
           "#EF553B",
           "#00cc96",
           "#ab63fa",
           "#FFA15A",
           "#19d3f3",
           "#FF6692",
           "#B6E880",
           "#FF97FF",
           "#FECB52"
          ],
          "font": {
           "color": "#2a3f5f"
          },
          "geo": {
           "bgcolor": "white",
           "lakecolor": "white",
           "landcolor": "#E5ECF6",
           "showlakes": true,
           "showland": true,
           "subunitcolor": "white"
          },
          "hoverlabel": {
           "align": "left"
          },
          "hovermode": "closest",
          "mapbox": {
           "style": "light"
          },
          "paper_bgcolor": "white",
          "plot_bgcolor": "#E5ECF6",
          "polar": {
           "angularaxis": {
            "gridcolor": "white",
            "linecolor": "white",
            "ticks": ""
           },
           "bgcolor": "#E5ECF6",
           "radialaxis": {
            "gridcolor": "white",
            "linecolor": "white",
            "ticks": ""
           }
          },
          "scene": {
           "xaxis": {
            "backgroundcolor": "#E5ECF6",
            "gridcolor": "white",
            "gridwidth": 2,
            "linecolor": "white",
            "showbackground": true,
            "ticks": "",
            "zerolinecolor": "white"
           },
           "yaxis": {
            "backgroundcolor": "#E5ECF6",
            "gridcolor": "white",
            "gridwidth": 2,
            "linecolor": "white",
            "showbackground": true,
            "ticks": "",
            "zerolinecolor": "white"
           },
           "zaxis": {
            "backgroundcolor": "#E5ECF6",
            "gridcolor": "white",
            "gridwidth": 2,
            "linecolor": "white",
            "showbackground": true,
            "ticks": "",
            "zerolinecolor": "white"
           }
          },
          "shapedefaults": {
           "line": {
            "color": "#2a3f5f"
           }
          },
          "ternary": {
           "aaxis": {
            "gridcolor": "white",
            "linecolor": "white",
            "ticks": ""
           },
           "baxis": {
            "gridcolor": "white",
            "linecolor": "white",
            "ticks": ""
           },
           "bgcolor": "#E5ECF6",
           "caxis": {
            "gridcolor": "white",
            "linecolor": "white",
            "ticks": ""
           }
          },
          "title": {
           "x": 0.05
          },
          "xaxis": {
           "automargin": true,
           "gridcolor": "white",
           "linecolor": "white",
           "ticks": "",
           "title": {
            "standoff": 15
           },
           "zerolinecolor": "white",
           "zerolinewidth": 2
          },
          "yaxis": {
           "automargin": true,
           "gridcolor": "white",
           "linecolor": "white",
           "ticks": "",
           "title": {
            "standoff": 15
           },
           "zerolinecolor": "white",
           "zerolinewidth": 2
          }
         }
        },
        "title": {
         "text": "Brazil land use differentials (CCI_LC data)"
        },
        "xaxis": {
         "title": {
          "text": "Year"
         }
        },
        "yaxis": {
         "title": {
          "text": "Differential surface w.r.t. 1992 value [1000 ha]"
         }
        }
       }
      },
      "text/html": [
       "<div>\n",
       "        \n",
       "        \n",
       "            <div id=\"3e35ef4c-ae1a-4d56-b961-99226aa55c61\" class=\"plotly-graph-div\" style=\"height:525px; width:100%;\"></div>\n",
       "            <script type=\"text/javascript\">\n",
       "                require([\"plotly\"], function(Plotly) {\n",
       "                    window.PLOTLYENV=window.PLOTLYENV || {};\n",
       "                    \n",
       "                if (document.getElementById(\"3e35ef4c-ae1a-4d56-b961-99226aa55c61\")) {\n",
       "                    Plotly.newPlot(\n",
       "                        '3e35ef4c-ae1a-4d56-b961-99226aa55c61',\n",
       "                        [{\"mode\": \"lines\", \"name\": \"Herbaceous crops\", \"type\": \"scatter\", \"x\": [1992.0, 1993.0, 1994.0, 1995.0, 1996.0, 1997.0, 1998.0, 1999.0, 2000.0, 2001.0, 2002.0, 2003.0, 2004.0, 2005.0, 2006.0, 2007.0, 2008.0, 2009.0, 2010.0, 2011.0, 2012.0, 2013.0, 2014.0, 2015.0], \"y\": [0.0, -328.1953000000067, 332.2798999999941, 4058.1492, 4994.012899999987, 6024.660999999993, 7483.6149000000005, 9722.50069999999, 10143.094599999997, 11165.308999999994, 12289.222599999994, 13722.487099999998, 18949.34729999998, 19213.20109999999, 19351.372799999997, 19034.63799999999, 19349.947700000004, 19646.7852, 19554.372799999997, 19898.05709999999, 20110.45579999998, 21050.545599999998, 21874.522699999987, 21926.39469999999]}, {\"mode\": \"lines\", \"name\": \"Woody crops\", \"type\": \"scatter\", \"x\": [1992.0, 1993.0, 1994.0, 1995.0, 1996.0, 1997.0, 1998.0, 1999.0, 2000.0, 2001.0, 2002.0, 2003.0, 2004.0, 2005.0, 2006.0, 2007.0, 2008.0, 2009.0, 2010.0, 2011.0, 2012.0, 2013.0, 2014.0, 2015.0], \"y\": [0.0, 999.2668000000012, 324.877199999999, -721.4397000000008, -337.9340000000011, -247.41430000000037, -100.30249999999978, 117.5643, 99.28429999999935, -188.88150000000132, -742.2312000000002, -1376.6453000000001, -1665.9048000000003, -1867.4863000000005, -1987.8870000000006, -1777.6378999999997, -2122.5792, -2416.8882000000012, -2411.3276000000005, -2737.1923000000006, -2964.027, -3940.233, -4890.1502, -4958.420600000001]}, {\"mode\": \"lines\", \"name\": \"Grassland\", \"type\": \"scatter\", \"x\": [1992.0, 1993.0, 1994.0, 1995.0, 1996.0, 1997.0, 1998.0, 1999.0, 2000.0, 2001.0, 2002.0, 2003.0, 2004.0, 2005.0, 2006.0, 2007.0, 2008.0, 2009.0, 2010.0, 2011.0, 2012.0, 2013.0, 2014.0, 2015.0], \"y\": [0.0, 261.1962000000058, 261.3883999999962, 1337.6889000000083, 1837.0385999999999, 2387.842199999999, 3109.7235999999975, 4289.252900000007, 4670.9667000000045, 5017.613899999997, 5330.663499999995, 5677.976699999999, 7961.5071000000025, 8034.755799999999, 8120.984400000001, 8198.175100000008, 8290.551099999997, 8333.225099999996, 8369.6544, 8410.919900000008, 8431.593699999998, 8455.149399999995, 8444.5245, 8443.249599999996]}, {\"mode\": \"lines\", \"name\": \"Tree-covered areas\", \"type\": \"scatter\", \"x\": [1992.0, 1993.0, 1994.0, 1995.0, 1996.0, 1997.0, 1998.0, 1999.0, 2000.0, 2001.0, 2002.0, 2003.0, 2004.0, 2005.0, 2006.0, 2007.0, 2008.0, 2009.0, 2010.0, 2011.0, 2012.0, 2013.0, 2014.0, 2015.0], \"y\": [0.0, -2228.9017999999924, -2226.4199999999837, -6536.361600000004, -8603.148199999996, -10395.395599999989, -13078.877800000017, -16857.736199999985, -17249.094900000026, -18395.996800000023, -19330.267500000016, -20805.825100000016, -31013.81640000001, -31179.28999999998, -31448.114100000006, -31391.464500000002, -31540.306500000006, -31591.914700000023, -31593.8934, -31986.0135, -32044.241299999994, -32200.520900000003, -32054.1642, -32052.80290000001]}, {\"mode\": \"lines\", \"name\": \"Shrub-covered areas\", \"type\": \"scatter\", \"x\": [1992.0, 1993.0, 1994.0, 1995.0, 1996.0, 1997.0, 1998.0, 1999.0, 2000.0, 2001.0, 2002.0, 2003.0, 2004.0, 2005.0, 2006.0, 2007.0, 2008.0, 2009.0, 2010.0, 2011.0, 2012.0, 2013.0, 2014.0, 2015.0], \"y\": [0.0, 387.33699999999953, 375.5172999999777, 458.957699999999, 334.7715999999782, 144.7770999999775, 213.00069999997504, -33.26090000002296, -553.6129000000074, -556.4907000000239, -645.027700000006, -373.25380000000587, 1455.3085999999894, 1436.8859999999986, 1554.5483999999997, 1473.1059999999998, 1506.5873999999894, 1462.4895999999717, 1499.631299999979, 1769.1106999999902, 1767.946499999991, 1864.5592999999935, 1792.8656999999948, 1787.3571999999986]}],\n",
       "                        {\"shapes\": [{\"line\": {\"color\": \"Black\", \"dash\": \"dashdot\", \"width\": 1}, \"type\": \"line\", \"x0\": 1992.0, \"x1\": 2015.0, \"y0\": 0, \"y1\": 0}], \"template\": {\"data\": {\"bar\": [{\"error_x\": {\"color\": \"#2a3f5f\"}, \"error_y\": {\"color\": \"#2a3f5f\"}, \"marker\": {\"line\": {\"color\": \"#E5ECF6\", \"width\": 0.5}}, \"type\": \"bar\"}], \"barpolar\": [{\"marker\": {\"line\": {\"color\": \"#E5ECF6\", \"width\": 0.5}}, \"type\": \"barpolar\"}], \"carpet\": [{\"aaxis\": {\"endlinecolor\": \"#2a3f5f\", \"gridcolor\": \"white\", \"linecolor\": \"white\", \"minorgridcolor\": \"white\", \"startlinecolor\": \"#2a3f5f\"}, \"baxis\": {\"endlinecolor\": \"#2a3f5f\", \"gridcolor\": \"white\", \"linecolor\": \"white\", \"minorgridcolor\": \"white\", \"startlinecolor\": \"#2a3f5f\"}, \"type\": \"carpet\"}], \"choropleth\": [{\"colorbar\": {\"outlinewidth\": 0, \"ticks\": \"\"}, \"type\": \"choropleth\"}], \"contour\": [{\"colorbar\": {\"outlinewidth\": 0, \"ticks\": \"\"}, \"colorscale\": [[0.0, \"#0d0887\"], [0.1111111111111111, \"#46039f\"], [0.2222222222222222, \"#7201a8\"], [0.3333333333333333, \"#9c179e\"], [0.4444444444444444, \"#bd3786\"], [0.5555555555555556, \"#d8576b\"], [0.6666666666666666, \"#ed7953\"], [0.7777777777777778, \"#fb9f3a\"], [0.8888888888888888, \"#fdca26\"], [1.0, \"#f0f921\"]], \"type\": \"contour\"}], \"contourcarpet\": [{\"colorbar\": {\"outlinewidth\": 0, \"ticks\": \"\"}, \"type\": \"contourcarpet\"}], \"heatmap\": [{\"colorbar\": {\"outlinewidth\": 0, \"ticks\": \"\"}, \"colorscale\": [[0.0, \"#0d0887\"], [0.1111111111111111, \"#46039f\"], [0.2222222222222222, \"#7201a8\"], [0.3333333333333333, \"#9c179e\"], [0.4444444444444444, \"#bd3786\"], [0.5555555555555556, \"#d8576b\"], [0.6666666666666666, \"#ed7953\"], [0.7777777777777778, \"#fb9f3a\"], [0.8888888888888888, \"#fdca26\"], [1.0, \"#f0f921\"]], \"type\": \"heatmap\"}], \"heatmapgl\": [{\"colorbar\": {\"outlinewidth\": 0, \"ticks\": \"\"}, \"colorscale\": [[0.0, \"#0d0887\"], [0.1111111111111111, \"#46039f\"], [0.2222222222222222, \"#7201a8\"], [0.3333333333333333, \"#9c179e\"], [0.4444444444444444, \"#bd3786\"], [0.5555555555555556, \"#d8576b\"], [0.6666666666666666, \"#ed7953\"], [0.7777777777777778, \"#fb9f3a\"], [0.8888888888888888, \"#fdca26\"], [1.0, \"#f0f921\"]], \"type\": \"heatmapgl\"}], \"histogram\": [{\"marker\": {\"colorbar\": {\"outlinewidth\": 0, \"ticks\": \"\"}}, \"type\": \"histogram\"}], \"histogram2d\": [{\"colorbar\": {\"outlinewidth\": 0, \"ticks\": \"\"}, \"colorscale\": [[0.0, \"#0d0887\"], [0.1111111111111111, \"#46039f\"], [0.2222222222222222, \"#7201a8\"], [0.3333333333333333, \"#9c179e\"], [0.4444444444444444, \"#bd3786\"], [0.5555555555555556, \"#d8576b\"], [0.6666666666666666, \"#ed7953\"], [0.7777777777777778, \"#fb9f3a\"], [0.8888888888888888, \"#fdca26\"], [1.0, \"#f0f921\"]], \"type\": \"histogram2d\"}], \"histogram2dcontour\": [{\"colorbar\": {\"outlinewidth\": 0, \"ticks\": \"\"}, \"colorscale\": [[0.0, \"#0d0887\"], [0.1111111111111111, \"#46039f\"], [0.2222222222222222, \"#7201a8\"], [0.3333333333333333, \"#9c179e\"], [0.4444444444444444, \"#bd3786\"], [0.5555555555555556, \"#d8576b\"], [0.6666666666666666, \"#ed7953\"], [0.7777777777777778, \"#fb9f3a\"], [0.8888888888888888, \"#fdca26\"], [1.0, \"#f0f921\"]], \"type\": \"histogram2dcontour\"}], \"mesh3d\": [{\"colorbar\": {\"outlinewidth\": 0, \"ticks\": \"\"}, \"type\": \"mesh3d\"}], \"parcoords\": [{\"line\": {\"colorbar\": {\"outlinewidth\": 0, \"ticks\": \"\"}}, \"type\": \"parcoords\"}], \"pie\": [{\"automargin\": true, \"type\": \"pie\"}], \"scatter\": [{\"marker\": {\"colorbar\": {\"outlinewidth\": 0, \"ticks\": \"\"}}, \"type\": \"scatter\"}], \"scatter3d\": [{\"line\": {\"colorbar\": {\"outlinewidth\": 0, \"ticks\": \"\"}}, \"marker\": {\"colorbar\": {\"outlinewidth\": 0, \"ticks\": \"\"}}, \"type\": \"scatter3d\"}], \"scattercarpet\": [{\"marker\": {\"colorbar\": {\"outlinewidth\": 0, \"ticks\": \"\"}}, \"type\": \"scattercarpet\"}], \"scattergeo\": [{\"marker\": {\"colorbar\": {\"outlinewidth\": 0, \"ticks\": \"\"}}, \"type\": \"scattergeo\"}], \"scattergl\": [{\"marker\": {\"colorbar\": {\"outlinewidth\": 0, \"ticks\": \"\"}}, \"type\": \"scattergl\"}], \"scattermapbox\": [{\"marker\": {\"colorbar\": {\"outlinewidth\": 0, \"ticks\": \"\"}}, \"type\": \"scattermapbox\"}], \"scatterpolar\": [{\"marker\": {\"colorbar\": {\"outlinewidth\": 0, \"ticks\": \"\"}}, \"type\": \"scatterpolar\"}], \"scatterpolargl\": [{\"marker\": {\"colorbar\": {\"outlinewidth\": 0, \"ticks\": \"\"}}, \"type\": \"scatterpolargl\"}], \"scatterternary\": [{\"marker\": {\"colorbar\": {\"outlinewidth\": 0, \"ticks\": \"\"}}, \"type\": \"scatterternary\"}], \"surface\": [{\"colorbar\": {\"outlinewidth\": 0, \"ticks\": \"\"}, \"colorscale\": [[0.0, \"#0d0887\"], [0.1111111111111111, \"#46039f\"], [0.2222222222222222, \"#7201a8\"], [0.3333333333333333, \"#9c179e\"], [0.4444444444444444, \"#bd3786\"], [0.5555555555555556, \"#d8576b\"], [0.6666666666666666, \"#ed7953\"], [0.7777777777777778, \"#fb9f3a\"], [0.8888888888888888, \"#fdca26\"], [1.0, \"#f0f921\"]], \"type\": \"surface\"}], \"table\": [{\"cells\": {\"fill\": {\"color\": \"#EBF0F8\"}, \"line\": {\"color\": \"white\"}}, \"header\": {\"fill\": {\"color\": \"#C8D4E3\"}, \"line\": {\"color\": \"white\"}}, \"type\": \"table\"}]}, \"layout\": {\"annotationdefaults\": {\"arrowcolor\": \"#2a3f5f\", \"arrowhead\": 0, \"arrowwidth\": 1}, \"coloraxis\": {\"colorbar\": {\"outlinewidth\": 0, \"ticks\": \"\"}}, \"colorscale\": {\"diverging\": [[0, \"#8e0152\"], [0.1, \"#c51b7d\"], [0.2, \"#de77ae\"], [0.3, \"#f1b6da\"], [0.4, \"#fde0ef\"], [0.5, \"#f7f7f7\"], [0.6, \"#e6f5d0\"], [0.7, \"#b8e186\"], [0.8, \"#7fbc41\"], [0.9, \"#4d9221\"], [1, \"#276419\"]], \"sequential\": [[0.0, \"#0d0887\"], [0.1111111111111111, \"#46039f\"], [0.2222222222222222, \"#7201a8\"], [0.3333333333333333, \"#9c179e\"], [0.4444444444444444, \"#bd3786\"], [0.5555555555555556, \"#d8576b\"], [0.6666666666666666, \"#ed7953\"], [0.7777777777777778, \"#fb9f3a\"], [0.8888888888888888, \"#fdca26\"], [1.0, \"#f0f921\"]], \"sequentialminus\": [[0.0, \"#0d0887\"], [0.1111111111111111, \"#46039f\"], [0.2222222222222222, \"#7201a8\"], [0.3333333333333333, \"#9c179e\"], [0.4444444444444444, \"#bd3786\"], [0.5555555555555556, \"#d8576b\"], [0.6666666666666666, \"#ed7953\"], [0.7777777777777778, \"#fb9f3a\"], [0.8888888888888888, \"#fdca26\"], [1.0, \"#f0f921\"]]}, \"colorway\": [\"#636efa\", \"#EF553B\", \"#00cc96\", \"#ab63fa\", \"#FFA15A\", \"#19d3f3\", \"#FF6692\", \"#B6E880\", \"#FF97FF\", \"#FECB52\"], \"font\": {\"color\": \"#2a3f5f\"}, \"geo\": {\"bgcolor\": \"white\", \"lakecolor\": \"white\", \"landcolor\": \"#E5ECF6\", \"showlakes\": true, \"showland\": true, \"subunitcolor\": \"white\"}, \"hoverlabel\": {\"align\": \"left\"}, \"hovermode\": \"closest\", \"mapbox\": {\"style\": \"light\"}, \"paper_bgcolor\": \"white\", \"plot_bgcolor\": \"#E5ECF6\", \"polar\": {\"angularaxis\": {\"gridcolor\": \"white\", \"linecolor\": \"white\", \"ticks\": \"\"}, \"bgcolor\": \"#E5ECF6\", \"radialaxis\": {\"gridcolor\": \"white\", \"linecolor\": \"white\", \"ticks\": \"\"}}, \"scene\": {\"xaxis\": {\"backgroundcolor\": \"#E5ECF6\", \"gridcolor\": \"white\", \"gridwidth\": 2, \"linecolor\": \"white\", \"showbackground\": true, \"ticks\": \"\", \"zerolinecolor\": \"white\"}, \"yaxis\": {\"backgroundcolor\": \"#E5ECF6\", \"gridcolor\": \"white\", \"gridwidth\": 2, \"linecolor\": \"white\", \"showbackground\": true, \"ticks\": \"\", \"zerolinecolor\": \"white\"}, \"zaxis\": {\"backgroundcolor\": \"#E5ECF6\", \"gridcolor\": \"white\", \"gridwidth\": 2, \"linecolor\": \"white\", \"showbackground\": true, \"ticks\": \"\", \"zerolinecolor\": \"white\"}}, \"shapedefaults\": {\"line\": {\"color\": \"#2a3f5f\"}}, \"ternary\": {\"aaxis\": {\"gridcolor\": \"white\", \"linecolor\": \"white\", \"ticks\": \"\"}, \"baxis\": {\"gridcolor\": \"white\", \"linecolor\": \"white\", \"ticks\": \"\"}, \"bgcolor\": \"#E5ECF6\", \"caxis\": {\"gridcolor\": \"white\", \"linecolor\": \"white\", \"ticks\": \"\"}}, \"title\": {\"x\": 0.05}, \"xaxis\": {\"automargin\": true, \"gridcolor\": \"white\", \"linecolor\": \"white\", \"ticks\": \"\", \"title\": {\"standoff\": 15}, \"zerolinecolor\": \"white\", \"zerolinewidth\": 2}, \"yaxis\": {\"automargin\": true, \"gridcolor\": \"white\", \"linecolor\": \"white\", \"ticks\": \"\", \"title\": {\"standoff\": 15}, \"zerolinecolor\": \"white\", \"zerolinewidth\": 2}}}, \"title\": {\"text\": \"Brazil land use differentials (CCI_LC data)\"}, \"xaxis\": {\"title\": {\"text\": \"Year\"}}, \"yaxis\": {\"title\": {\"text\": \"Differential surface w.r.t. 1992 value [1000 ha]\"}}},\n",
       "                        {\"responsive\": true}\n",
       "                    ).then(function(){\n",
       "                            \n",
       "var gd = document.getElementById('3e35ef4c-ae1a-4d56-b961-99226aa55c61');\n",
       "var x = new MutationObserver(function (mutations, observer) {{\n",
       "        var display = window.getComputedStyle(gd).display;\n",
       "        if (!display || display === 'none') {{\n",
       "            console.log([gd, 'removed!']);\n",
       "            Plotly.purge(gd);\n",
       "            observer.disconnect();\n",
       "        }}\n",
       "}});\n",
       "\n",
       "// Listen for the removal of the full notebook cells\n",
       "var notebookContainer = gd.closest('#notebook-container');\n",
       "if (notebookContainer) {{\n",
       "    x.observe(notebookContainer, {childList: true});\n",
       "}}\n",
       "\n",
       "// Listen for the clearing of the current output cell\n",
       "var outputEl = gd.closest('.output');\n",
       "if (outputEl) {{\n",
       "    x.observe(outputEl, {childList: true});\n",
       "}}\n",
       "\n",
       "                        })\n",
       "                };\n",
       "                });\n",
       "            </script>\n",
       "        </div>"
      ]
     },
     "metadata": {},
     "output_type": "display_data"
    },
    {
     "data": {
      "application/vnd.plotly.v1+json": {
       "config": {
        "plotlyServerURL": "https://plot.ly"
       },
       "data": [
        {
         "mode": "lines",
         "name": "Herbaceous crops",
         "type": "scatter",
         "x": [
          1992,
          1993,
          1994,
          1995,
          1996,
          1997,
          1998,
          1999,
          2000,
          2001,
          2002,
          2003,
          2004,
          2005,
          2006,
          2007,
          2008,
          2009,
          2010,
          2011,
          2012,
          2013,
          2014,
          2015
         ],
         "y": [
          0,
          -477.4972999999991,
          -1686.6363999999994,
          -2000.969000000001,
          -1716.8064999999988,
          -1378.1304999999993,
          -1220.3581999999988,
          -1324.1948999999986,
          -1309.840400000001,
          -2061.2425000000003,
          -2414.8362000000016,
          -1668.0707000000002,
          -801.575499999999,
          -1444.5008000000016,
          -2470.9857999999986,
          -2563.367699999999,
          -2286.5675999999985,
          -2252.9936000000016,
          -2102.403900000001,
          -2485.0645000000004,
          -2378.158599999999,
          -2569.8076,
          -2534.3539999999994,
          -2549.9068000000007
         ]
        },
        {
         "mode": "lines",
         "name": "Woody crops",
         "type": "scatter",
         "x": [
          1992,
          1993,
          1994,
          1995,
          1996,
          1997,
          1998,
          1999,
          2000,
          2001,
          2002,
          2003,
          2004,
          2005,
          2006,
          2007,
          2008,
          2009,
          2010,
          2011,
          2012,
          2013,
          2014,
          2015
         ],
         "y": [
          0,
          453.97940000000017,
          1640.8597000000009,
          2148.0599999999995,
          1833.006800000001,
          1597.8173000000006,
          1716.2433,
          1910.8288000000011,
          1808.0465999999997,
          2389.4999000000007,
          2805.0517999999993,
          2154.755500000001,
          1350.2091,
          2215.5131999999994,
          3507.8717000000015,
          3936.3163000000004,
          3885.9273999999987,
          3825.2503000000015,
          3959.249600000001,
          4554.0735,
          4654.155499999999,
          4902.386199999999,
          4936.331100000001,
          4921.440100000002
         ]
        },
        {
         "mode": "lines",
         "name": "Grassland",
         "type": "scatter",
         "x": [
          1992,
          1993,
          1994,
          1995,
          1996,
          1997,
          1998,
          1999,
          2000,
          2001,
          2002,
          2003,
          2004,
          2005,
          2006,
          2007,
          2008,
          2009,
          2010,
          2011,
          2012,
          2013,
          2014,
          2015
         ],
         "y": [
          0,
          1.2149999999983265,
          2.370599999998376,
          55.08039999999892,
          48.38349999999991,
          80.33349999999882,
          182.61399999999958,
          218.30079999999907,
          201.77499999999964,
          151.24089999999887,
          169.39350000000013,
          198.1196,
          215.90459999999985,
          290.9416000000001,
          373.9566999999988,
          487.3233999999993,
          561.9810999999991,
          542.7386999999999,
          630.1862000000001,
          699.0910999999996,
          765.9840999999997,
          788.0463,
          808.5306999999993,
          809.7920999999988
         ]
        },
        {
         "mode": "lines",
         "name": "Tree-covered areas",
         "type": "scatter",
         "x": [
          1992,
          1993,
          1994,
          1995,
          1996,
          1997,
          1998,
          1999,
          2000,
          2001,
          2002,
          2003,
          2004,
          2005,
          2006,
          2007,
          2008,
          2009,
          2010,
          2011,
          2012,
          2013,
          2014,
          2015
         ],
         "y": [
          0,
          2.5151000000041677,
          4.646300000007614,
          -335.37549999999464,
          -332.99409999999625,
          -541.6207999999897,
          -1041.722099999999,
          -1244.9302999999927,
          -1165.2997000000032,
          -957.7790999999997,
          -1066.612500000003,
          -1229.4593000000023,
          -1332.8796999999904,
          -1710.809500000003,
          -2147.6046999999962,
          -2726.7825999999914,
          -3124.2148999999918,
          -3123.7941999999894,
          -3600.169599999994,
          -3979.762600000002,
          -4342.349199999997,
          -4496.737899999993,
          -4679.339800000002,
          -4675.914900000003
         ]
        },
        {
         "mode": "lines",
         "name": "Shrub-covered areas",
         "type": "scatter",
         "x": [
          1992,
          1993,
          1994,
          1995,
          1996,
          1997,
          1998,
          1999,
          2000,
          2001,
          2002,
          2003,
          2004,
          2005,
          2006,
          2007,
          2008,
          2009,
          2010,
          2011,
          2012,
          2013,
          2014,
          2015
         ],
         "y": [
          0,
          -1.8503000000000611,
          -3.6773000000002867,
          55.21910000000025,
          54.62780000000021,
          78.91880000000037,
          158.66640000000007,
          196.5051000000003,
          190.9310000000005,
          155.15380000000005,
          164.9291000000003,
          187.03089999999975,
          190.96699999999964,
          237.04470000000038,
          295.4831000000004,
          381.3161,
          443.9453000000003,
          444.60899999999947,
          512.8285999999998,
          566.1014000000005,
          616.2444000000005,
          629.4371000000001,
          652.0279999999993,
          649.7010999999993
         ]
        }
       ],
       "layout": {
        "shapes": [
         {
          "line": {
           "color": "Black",
           "dash": "dashdot",
           "width": 1
          },
          "type": "line",
          "x0": 1992,
          "x1": 2015,
          "y0": 0,
          "y1": 0
         }
        ],
        "template": {
         "data": {
          "bar": [
           {
            "error_x": {
             "color": "#2a3f5f"
            },
            "error_y": {
             "color": "#2a3f5f"
            },
            "marker": {
             "line": {
              "color": "#E5ECF6",
              "width": 0.5
             }
            },
            "type": "bar"
           }
          ],
          "barpolar": [
           {
            "marker": {
             "line": {
              "color": "#E5ECF6",
              "width": 0.5
             }
            },
            "type": "barpolar"
           }
          ],
          "carpet": [
           {
            "aaxis": {
             "endlinecolor": "#2a3f5f",
             "gridcolor": "white",
             "linecolor": "white",
             "minorgridcolor": "white",
             "startlinecolor": "#2a3f5f"
            },
            "baxis": {
             "endlinecolor": "#2a3f5f",
             "gridcolor": "white",
             "linecolor": "white",
             "minorgridcolor": "white",
             "startlinecolor": "#2a3f5f"
            },
            "type": "carpet"
           }
          ],
          "choropleth": [
           {
            "colorbar": {
             "outlinewidth": 0,
             "ticks": ""
            },
            "type": "choropleth"
           }
          ],
          "contour": [
           {
            "colorbar": {
             "outlinewidth": 0,
             "ticks": ""
            },
            "colorscale": [
             [
              0,
              "#0d0887"
             ],
             [
              0.1111111111111111,
              "#46039f"
             ],
             [
              0.2222222222222222,
              "#7201a8"
             ],
             [
              0.3333333333333333,
              "#9c179e"
             ],
             [
              0.4444444444444444,
              "#bd3786"
             ],
             [
              0.5555555555555556,
              "#d8576b"
             ],
             [
              0.6666666666666666,
              "#ed7953"
             ],
             [
              0.7777777777777778,
              "#fb9f3a"
             ],
             [
              0.8888888888888888,
              "#fdca26"
             ],
             [
              1,
              "#f0f921"
             ]
            ],
            "type": "contour"
           }
          ],
          "contourcarpet": [
           {
            "colorbar": {
             "outlinewidth": 0,
             "ticks": ""
            },
            "type": "contourcarpet"
           }
          ],
          "heatmap": [
           {
            "colorbar": {
             "outlinewidth": 0,
             "ticks": ""
            },
            "colorscale": [
             [
              0,
              "#0d0887"
             ],
             [
              0.1111111111111111,
              "#46039f"
             ],
             [
              0.2222222222222222,
              "#7201a8"
             ],
             [
              0.3333333333333333,
              "#9c179e"
             ],
             [
              0.4444444444444444,
              "#bd3786"
             ],
             [
              0.5555555555555556,
              "#d8576b"
             ],
             [
              0.6666666666666666,
              "#ed7953"
             ],
             [
              0.7777777777777778,
              "#fb9f3a"
             ],
             [
              0.8888888888888888,
              "#fdca26"
             ],
             [
              1,
              "#f0f921"
             ]
            ],
            "type": "heatmap"
           }
          ],
          "heatmapgl": [
           {
            "colorbar": {
             "outlinewidth": 0,
             "ticks": ""
            },
            "colorscale": [
             [
              0,
              "#0d0887"
             ],
             [
              0.1111111111111111,
              "#46039f"
             ],
             [
              0.2222222222222222,
              "#7201a8"
             ],
             [
              0.3333333333333333,
              "#9c179e"
             ],
             [
              0.4444444444444444,
              "#bd3786"
             ],
             [
              0.5555555555555556,
              "#d8576b"
             ],
             [
              0.6666666666666666,
              "#ed7953"
             ],
             [
              0.7777777777777778,
              "#fb9f3a"
             ],
             [
              0.8888888888888888,
              "#fdca26"
             ],
             [
              1,
              "#f0f921"
             ]
            ],
            "type": "heatmapgl"
           }
          ],
          "histogram": [
           {
            "marker": {
             "colorbar": {
              "outlinewidth": 0,
              "ticks": ""
             }
            },
            "type": "histogram"
           }
          ],
          "histogram2d": [
           {
            "colorbar": {
             "outlinewidth": 0,
             "ticks": ""
            },
            "colorscale": [
             [
              0,
              "#0d0887"
             ],
             [
              0.1111111111111111,
              "#46039f"
             ],
             [
              0.2222222222222222,
              "#7201a8"
             ],
             [
              0.3333333333333333,
              "#9c179e"
             ],
             [
              0.4444444444444444,
              "#bd3786"
             ],
             [
              0.5555555555555556,
              "#d8576b"
             ],
             [
              0.6666666666666666,
              "#ed7953"
             ],
             [
              0.7777777777777778,
              "#fb9f3a"
             ],
             [
              0.8888888888888888,
              "#fdca26"
             ],
             [
              1,
              "#f0f921"
             ]
            ],
            "type": "histogram2d"
           }
          ],
          "histogram2dcontour": [
           {
            "colorbar": {
             "outlinewidth": 0,
             "ticks": ""
            },
            "colorscale": [
             [
              0,
              "#0d0887"
             ],
             [
              0.1111111111111111,
              "#46039f"
             ],
             [
              0.2222222222222222,
              "#7201a8"
             ],
             [
              0.3333333333333333,
              "#9c179e"
             ],
             [
              0.4444444444444444,
              "#bd3786"
             ],
             [
              0.5555555555555556,
              "#d8576b"
             ],
             [
              0.6666666666666666,
              "#ed7953"
             ],
             [
              0.7777777777777778,
              "#fb9f3a"
             ],
             [
              0.8888888888888888,
              "#fdca26"
             ],
             [
              1,
              "#f0f921"
             ]
            ],
            "type": "histogram2dcontour"
           }
          ],
          "mesh3d": [
           {
            "colorbar": {
             "outlinewidth": 0,
             "ticks": ""
            },
            "type": "mesh3d"
           }
          ],
          "parcoords": [
           {
            "line": {
             "colorbar": {
              "outlinewidth": 0,
              "ticks": ""
             }
            },
            "type": "parcoords"
           }
          ],
          "pie": [
           {
            "automargin": true,
            "type": "pie"
           }
          ],
          "scatter": [
           {
            "marker": {
             "colorbar": {
              "outlinewidth": 0,
              "ticks": ""
             }
            },
            "type": "scatter"
           }
          ],
          "scatter3d": [
           {
            "line": {
             "colorbar": {
              "outlinewidth": 0,
              "ticks": ""
             }
            },
            "marker": {
             "colorbar": {
              "outlinewidth": 0,
              "ticks": ""
             }
            },
            "type": "scatter3d"
           }
          ],
          "scattercarpet": [
           {
            "marker": {
             "colorbar": {
              "outlinewidth": 0,
              "ticks": ""
             }
            },
            "type": "scattercarpet"
           }
          ],
          "scattergeo": [
           {
            "marker": {
             "colorbar": {
              "outlinewidth": 0,
              "ticks": ""
             }
            },
            "type": "scattergeo"
           }
          ],
          "scattergl": [
           {
            "marker": {
             "colorbar": {
              "outlinewidth": 0,
              "ticks": ""
             }
            },
            "type": "scattergl"
           }
          ],
          "scattermapbox": [
           {
            "marker": {
             "colorbar": {
              "outlinewidth": 0,
              "ticks": ""
             }
            },
            "type": "scattermapbox"
           }
          ],
          "scatterpolar": [
           {
            "marker": {
             "colorbar": {
              "outlinewidth": 0,
              "ticks": ""
             }
            },
            "type": "scatterpolar"
           }
          ],
          "scatterpolargl": [
           {
            "marker": {
             "colorbar": {
              "outlinewidth": 0,
              "ticks": ""
             }
            },
            "type": "scatterpolargl"
           }
          ],
          "scatterternary": [
           {
            "marker": {
             "colorbar": {
              "outlinewidth": 0,
              "ticks": ""
             }
            },
            "type": "scatterternary"
           }
          ],
          "surface": [
           {
            "colorbar": {
             "outlinewidth": 0,
             "ticks": ""
            },
            "colorscale": [
             [
              0,
              "#0d0887"
             ],
             [
              0.1111111111111111,
              "#46039f"
             ],
             [
              0.2222222222222222,
              "#7201a8"
             ],
             [
              0.3333333333333333,
              "#9c179e"
             ],
             [
              0.4444444444444444,
              "#bd3786"
             ],
             [
              0.5555555555555556,
              "#d8576b"
             ],
             [
              0.6666666666666666,
              "#ed7953"
             ],
             [
              0.7777777777777778,
              "#fb9f3a"
             ],
             [
              0.8888888888888888,
              "#fdca26"
             ],
             [
              1,
              "#f0f921"
             ]
            ],
            "type": "surface"
           }
          ],
          "table": [
           {
            "cells": {
             "fill": {
              "color": "#EBF0F8"
             },
             "line": {
              "color": "white"
             }
            },
            "header": {
             "fill": {
              "color": "#C8D4E3"
             },
             "line": {
              "color": "white"
             }
            },
            "type": "table"
           }
          ]
         },
         "layout": {
          "annotationdefaults": {
           "arrowcolor": "#2a3f5f",
           "arrowhead": 0,
           "arrowwidth": 1
          },
          "coloraxis": {
           "colorbar": {
            "outlinewidth": 0,
            "ticks": ""
           }
          },
          "colorscale": {
           "diverging": [
            [
             0,
             "#8e0152"
            ],
            [
             0.1,
             "#c51b7d"
            ],
            [
             0.2,
             "#de77ae"
            ],
            [
             0.3,
             "#f1b6da"
            ],
            [
             0.4,
             "#fde0ef"
            ],
            [
             0.5,
             "#f7f7f7"
            ],
            [
             0.6,
             "#e6f5d0"
            ],
            [
             0.7,
             "#b8e186"
            ],
            [
             0.8,
             "#7fbc41"
            ],
            [
             0.9,
             "#4d9221"
            ],
            [
             1,
             "#276419"
            ]
           ],
           "sequential": [
            [
             0,
             "#0d0887"
            ],
            [
             0.1111111111111111,
             "#46039f"
            ],
            [
             0.2222222222222222,
             "#7201a8"
            ],
            [
             0.3333333333333333,
             "#9c179e"
            ],
            [
             0.4444444444444444,
             "#bd3786"
            ],
            [
             0.5555555555555556,
             "#d8576b"
            ],
            [
             0.6666666666666666,
             "#ed7953"
            ],
            [
             0.7777777777777778,
             "#fb9f3a"
            ],
            [
             0.8888888888888888,
             "#fdca26"
            ],
            [
             1,
             "#f0f921"
            ]
           ],
           "sequentialminus": [
            [
             0,
             "#0d0887"
            ],
            [
             0.1111111111111111,
             "#46039f"
            ],
            [
             0.2222222222222222,
             "#7201a8"
            ],
            [
             0.3333333333333333,
             "#9c179e"
            ],
            [
             0.4444444444444444,
             "#bd3786"
            ],
            [
             0.5555555555555556,
             "#d8576b"
            ],
            [
             0.6666666666666666,
             "#ed7953"
            ],
            [
             0.7777777777777778,
             "#fb9f3a"
            ],
            [
             0.8888888888888888,
             "#fdca26"
            ],
            [
             1,
             "#f0f921"
            ]
           ]
          },
          "colorway": [
           "#636efa",
           "#EF553B",
           "#00cc96",
           "#ab63fa",
           "#FFA15A",
           "#19d3f3",
           "#FF6692",
           "#B6E880",
           "#FF97FF",
           "#FECB52"
          ],
          "font": {
           "color": "#2a3f5f"
          },
          "geo": {
           "bgcolor": "white",
           "lakecolor": "white",
           "landcolor": "#E5ECF6",
           "showlakes": true,
           "showland": true,
           "subunitcolor": "white"
          },
          "hoverlabel": {
           "align": "left"
          },
          "hovermode": "closest",
          "mapbox": {
           "style": "light"
          },
          "paper_bgcolor": "white",
          "plot_bgcolor": "#E5ECF6",
          "polar": {
           "angularaxis": {
            "gridcolor": "white",
            "linecolor": "white",
            "ticks": ""
           },
           "bgcolor": "#E5ECF6",
           "radialaxis": {
            "gridcolor": "white",
            "linecolor": "white",
            "ticks": ""
           }
          },
          "scene": {
           "xaxis": {
            "backgroundcolor": "#E5ECF6",
            "gridcolor": "white",
            "gridwidth": 2,
            "linecolor": "white",
            "showbackground": true,
            "ticks": "",
            "zerolinecolor": "white"
           },
           "yaxis": {
            "backgroundcolor": "#E5ECF6",
            "gridcolor": "white",
            "gridwidth": 2,
            "linecolor": "white",
            "showbackground": true,
            "ticks": "",
            "zerolinecolor": "white"
           },
           "zaxis": {
            "backgroundcolor": "#E5ECF6",
            "gridcolor": "white",
            "gridwidth": 2,
            "linecolor": "white",
            "showbackground": true,
            "ticks": "",
            "zerolinecolor": "white"
           }
          },
          "shapedefaults": {
           "line": {
            "color": "#2a3f5f"
           }
          },
          "ternary": {
           "aaxis": {
            "gridcolor": "white",
            "linecolor": "white",
            "ticks": ""
           },
           "baxis": {
            "gridcolor": "white",
            "linecolor": "white",
            "ticks": ""
           },
           "bgcolor": "#E5ECF6",
           "caxis": {
            "gridcolor": "white",
            "linecolor": "white",
            "ticks": ""
           }
          },
          "title": {
           "x": 0.05
          },
          "xaxis": {
           "automargin": true,
           "gridcolor": "white",
           "linecolor": "white",
           "ticks": "",
           "title": {
            "standoff": 15
           },
           "zerolinecolor": "white",
           "zerolinewidth": 2
          },
          "yaxis": {
           "automargin": true,
           "gridcolor": "white",
           "linecolor": "white",
           "ticks": "",
           "title": {
            "standoff": 15
           },
           "zerolinecolor": "white",
           "zerolinewidth": 2
          }
         }
        },
        "title": {
         "text": "Indonesia land use differentials (CCI_LC data)"
        },
        "xaxis": {
         "title": {
          "text": "Year"
         }
        },
        "yaxis": {
         "title": {
          "text": "Differential surface w.r.t. 1992 value [1000 ha]"
         }
        }
       }
      },
      "text/html": [
       "<div>\n",
       "        \n",
       "        \n",
       "            <div id=\"f7d51dfe-4a5e-4a50-81e9-f6f04954c811\" class=\"plotly-graph-div\" style=\"height:525px; width:100%;\"></div>\n",
       "            <script type=\"text/javascript\">\n",
       "                require([\"plotly\"], function(Plotly) {\n",
       "                    window.PLOTLYENV=window.PLOTLYENV || {};\n",
       "                    \n",
       "                if (document.getElementById(\"f7d51dfe-4a5e-4a50-81e9-f6f04954c811\")) {\n",
       "                    Plotly.newPlot(\n",
       "                        'f7d51dfe-4a5e-4a50-81e9-f6f04954c811',\n",
       "                        [{\"mode\": \"lines\", \"name\": \"Herbaceous crops\", \"type\": \"scatter\", \"x\": [1992.0, 1993.0, 1994.0, 1995.0, 1996.0, 1997.0, 1998.0, 1999.0, 2000.0, 2001.0, 2002.0, 2003.0, 2004.0, 2005.0, 2006.0, 2007.0, 2008.0, 2009.0, 2010.0, 2011.0, 2012.0, 2013.0, 2014.0, 2015.0], \"y\": [0.0, -477.4972999999991, -1686.6363999999994, -2000.969000000001, -1716.8064999999988, -1378.1304999999993, -1220.3581999999988, -1324.1948999999986, -1309.840400000001, -2061.2425000000003, -2414.8362000000016, -1668.0707000000002, -801.575499999999, -1444.5008000000016, -2470.9857999999986, -2563.367699999999, -2286.5675999999985, -2252.9936000000016, -2102.403900000001, -2485.0645000000004, -2378.158599999999, -2569.8076, -2534.3539999999994, -2549.9068000000007]}, {\"mode\": \"lines\", \"name\": \"Woody crops\", \"type\": \"scatter\", \"x\": [1992.0, 1993.0, 1994.0, 1995.0, 1996.0, 1997.0, 1998.0, 1999.0, 2000.0, 2001.0, 2002.0, 2003.0, 2004.0, 2005.0, 2006.0, 2007.0, 2008.0, 2009.0, 2010.0, 2011.0, 2012.0, 2013.0, 2014.0, 2015.0], \"y\": [0.0, 453.97940000000017, 1640.8597000000009, 2148.0599999999995, 1833.006800000001, 1597.8173000000006, 1716.2433, 1910.8288000000011, 1808.0465999999997, 2389.4999000000007, 2805.0517999999993, 2154.755500000001, 1350.2091, 2215.5131999999994, 3507.8717000000015, 3936.3163000000004, 3885.9273999999987, 3825.2503000000015, 3959.249600000001, 4554.0735, 4654.155499999999, 4902.386199999999, 4936.331100000001, 4921.440100000002]}, {\"mode\": \"lines\", \"name\": \"Grassland\", \"type\": \"scatter\", \"x\": [1992.0, 1993.0, 1994.0, 1995.0, 1996.0, 1997.0, 1998.0, 1999.0, 2000.0, 2001.0, 2002.0, 2003.0, 2004.0, 2005.0, 2006.0, 2007.0, 2008.0, 2009.0, 2010.0, 2011.0, 2012.0, 2013.0, 2014.0, 2015.0], \"y\": [0.0, 1.2149999999983265, 2.370599999998376, 55.08039999999892, 48.38349999999991, 80.33349999999882, 182.61399999999958, 218.30079999999907, 201.77499999999964, 151.24089999999887, 169.39350000000013, 198.1196, 215.90459999999985, 290.9416000000001, 373.9566999999988, 487.3233999999993, 561.9810999999991, 542.7386999999999, 630.1862000000001, 699.0910999999996, 765.9840999999997, 788.0463, 808.5306999999993, 809.7920999999988]}, {\"mode\": \"lines\", \"name\": \"Tree-covered areas\", \"type\": \"scatter\", \"x\": [1992.0, 1993.0, 1994.0, 1995.0, 1996.0, 1997.0, 1998.0, 1999.0, 2000.0, 2001.0, 2002.0, 2003.0, 2004.0, 2005.0, 2006.0, 2007.0, 2008.0, 2009.0, 2010.0, 2011.0, 2012.0, 2013.0, 2014.0, 2015.0], \"y\": [0.0, 2.5151000000041677, 4.646300000007614, -335.37549999999464, -332.99409999999625, -541.6207999999897, -1041.722099999999, -1244.9302999999927, -1165.2997000000032, -957.7790999999997, -1066.612500000003, -1229.4593000000023, -1332.8796999999904, -1710.809500000003, -2147.6046999999962, -2726.7825999999914, -3124.2148999999918, -3123.7941999999894, -3600.169599999994, -3979.762600000002, -4342.349199999997, -4496.737899999993, -4679.339800000002, -4675.914900000003]}, {\"mode\": \"lines\", \"name\": \"Shrub-covered areas\", \"type\": \"scatter\", \"x\": [1992.0, 1993.0, 1994.0, 1995.0, 1996.0, 1997.0, 1998.0, 1999.0, 2000.0, 2001.0, 2002.0, 2003.0, 2004.0, 2005.0, 2006.0, 2007.0, 2008.0, 2009.0, 2010.0, 2011.0, 2012.0, 2013.0, 2014.0, 2015.0], \"y\": [0.0, -1.8503000000000611, -3.6773000000002867, 55.21910000000025, 54.62780000000021, 78.91880000000037, 158.66640000000007, 196.5051000000003, 190.9310000000005, 155.15380000000005, 164.9291000000003, 187.03089999999975, 190.96699999999964, 237.04470000000038, 295.4831000000004, 381.3161, 443.9453000000003, 444.60899999999947, 512.8285999999998, 566.1014000000005, 616.2444000000005, 629.4371000000001, 652.0279999999993, 649.7010999999993]}],\n",
       "                        {\"shapes\": [{\"line\": {\"color\": \"Black\", \"dash\": \"dashdot\", \"width\": 1}, \"type\": \"line\", \"x0\": 1992.0, \"x1\": 2015.0, \"y0\": 0, \"y1\": 0}], \"template\": {\"data\": {\"bar\": [{\"error_x\": {\"color\": \"#2a3f5f\"}, \"error_y\": {\"color\": \"#2a3f5f\"}, \"marker\": {\"line\": {\"color\": \"#E5ECF6\", \"width\": 0.5}}, \"type\": \"bar\"}], \"barpolar\": [{\"marker\": {\"line\": {\"color\": \"#E5ECF6\", \"width\": 0.5}}, \"type\": \"barpolar\"}], \"carpet\": [{\"aaxis\": {\"endlinecolor\": \"#2a3f5f\", \"gridcolor\": \"white\", \"linecolor\": \"white\", \"minorgridcolor\": \"white\", \"startlinecolor\": \"#2a3f5f\"}, \"baxis\": {\"endlinecolor\": \"#2a3f5f\", \"gridcolor\": \"white\", \"linecolor\": \"white\", \"minorgridcolor\": \"white\", \"startlinecolor\": \"#2a3f5f\"}, \"type\": \"carpet\"}], \"choropleth\": [{\"colorbar\": {\"outlinewidth\": 0, \"ticks\": \"\"}, \"type\": \"choropleth\"}], \"contour\": [{\"colorbar\": {\"outlinewidth\": 0, \"ticks\": \"\"}, \"colorscale\": [[0.0, \"#0d0887\"], [0.1111111111111111, \"#46039f\"], [0.2222222222222222, \"#7201a8\"], [0.3333333333333333, \"#9c179e\"], [0.4444444444444444, \"#bd3786\"], [0.5555555555555556, \"#d8576b\"], [0.6666666666666666, \"#ed7953\"], [0.7777777777777778, \"#fb9f3a\"], [0.8888888888888888, \"#fdca26\"], [1.0, \"#f0f921\"]], \"type\": \"contour\"}], \"contourcarpet\": [{\"colorbar\": {\"outlinewidth\": 0, \"ticks\": \"\"}, \"type\": \"contourcarpet\"}], \"heatmap\": [{\"colorbar\": {\"outlinewidth\": 0, \"ticks\": \"\"}, \"colorscale\": [[0.0, \"#0d0887\"], [0.1111111111111111, \"#46039f\"], [0.2222222222222222, \"#7201a8\"], [0.3333333333333333, \"#9c179e\"], [0.4444444444444444, \"#bd3786\"], [0.5555555555555556, \"#d8576b\"], [0.6666666666666666, \"#ed7953\"], [0.7777777777777778, \"#fb9f3a\"], [0.8888888888888888, \"#fdca26\"], [1.0, \"#f0f921\"]], \"type\": \"heatmap\"}], \"heatmapgl\": [{\"colorbar\": {\"outlinewidth\": 0, \"ticks\": \"\"}, \"colorscale\": [[0.0, \"#0d0887\"], [0.1111111111111111, \"#46039f\"], [0.2222222222222222, \"#7201a8\"], [0.3333333333333333, \"#9c179e\"], [0.4444444444444444, \"#bd3786\"], [0.5555555555555556, \"#d8576b\"], [0.6666666666666666, \"#ed7953\"], [0.7777777777777778, \"#fb9f3a\"], [0.8888888888888888, \"#fdca26\"], [1.0, \"#f0f921\"]], \"type\": \"heatmapgl\"}], \"histogram\": [{\"marker\": {\"colorbar\": {\"outlinewidth\": 0, \"ticks\": \"\"}}, \"type\": \"histogram\"}], \"histogram2d\": [{\"colorbar\": {\"outlinewidth\": 0, \"ticks\": \"\"}, \"colorscale\": [[0.0, \"#0d0887\"], [0.1111111111111111, \"#46039f\"], [0.2222222222222222, \"#7201a8\"], [0.3333333333333333, \"#9c179e\"], [0.4444444444444444, \"#bd3786\"], [0.5555555555555556, \"#d8576b\"], [0.6666666666666666, \"#ed7953\"], [0.7777777777777778, \"#fb9f3a\"], [0.8888888888888888, \"#fdca26\"], [1.0, \"#f0f921\"]], \"type\": \"histogram2d\"}], \"histogram2dcontour\": [{\"colorbar\": {\"outlinewidth\": 0, \"ticks\": \"\"}, \"colorscale\": [[0.0, \"#0d0887\"], [0.1111111111111111, \"#46039f\"], [0.2222222222222222, \"#7201a8\"], [0.3333333333333333, \"#9c179e\"], [0.4444444444444444, \"#bd3786\"], [0.5555555555555556, \"#d8576b\"], [0.6666666666666666, \"#ed7953\"], [0.7777777777777778, \"#fb9f3a\"], [0.8888888888888888, \"#fdca26\"], [1.0, \"#f0f921\"]], \"type\": \"histogram2dcontour\"}], \"mesh3d\": [{\"colorbar\": {\"outlinewidth\": 0, \"ticks\": \"\"}, \"type\": \"mesh3d\"}], \"parcoords\": [{\"line\": {\"colorbar\": {\"outlinewidth\": 0, \"ticks\": \"\"}}, \"type\": \"parcoords\"}], \"pie\": [{\"automargin\": true, \"type\": \"pie\"}], \"scatter\": [{\"marker\": {\"colorbar\": {\"outlinewidth\": 0, \"ticks\": \"\"}}, \"type\": \"scatter\"}], \"scatter3d\": [{\"line\": {\"colorbar\": {\"outlinewidth\": 0, \"ticks\": \"\"}}, \"marker\": {\"colorbar\": {\"outlinewidth\": 0, \"ticks\": \"\"}}, \"type\": \"scatter3d\"}], \"scattercarpet\": [{\"marker\": {\"colorbar\": {\"outlinewidth\": 0, \"ticks\": \"\"}}, \"type\": \"scattercarpet\"}], \"scattergeo\": [{\"marker\": {\"colorbar\": {\"outlinewidth\": 0, \"ticks\": \"\"}}, \"type\": \"scattergeo\"}], \"scattergl\": [{\"marker\": {\"colorbar\": {\"outlinewidth\": 0, \"ticks\": \"\"}}, \"type\": \"scattergl\"}], \"scattermapbox\": [{\"marker\": {\"colorbar\": {\"outlinewidth\": 0, \"ticks\": \"\"}}, \"type\": \"scattermapbox\"}], \"scatterpolar\": [{\"marker\": {\"colorbar\": {\"outlinewidth\": 0, \"ticks\": \"\"}}, \"type\": \"scatterpolar\"}], \"scatterpolargl\": [{\"marker\": {\"colorbar\": {\"outlinewidth\": 0, \"ticks\": \"\"}}, \"type\": \"scatterpolargl\"}], \"scatterternary\": [{\"marker\": {\"colorbar\": {\"outlinewidth\": 0, \"ticks\": \"\"}}, \"type\": \"scatterternary\"}], \"surface\": [{\"colorbar\": {\"outlinewidth\": 0, \"ticks\": \"\"}, \"colorscale\": [[0.0, \"#0d0887\"], [0.1111111111111111, \"#46039f\"], [0.2222222222222222, \"#7201a8\"], [0.3333333333333333, \"#9c179e\"], [0.4444444444444444, \"#bd3786\"], [0.5555555555555556, \"#d8576b\"], [0.6666666666666666, \"#ed7953\"], [0.7777777777777778, \"#fb9f3a\"], [0.8888888888888888, \"#fdca26\"], [1.0, \"#f0f921\"]], \"type\": \"surface\"}], \"table\": [{\"cells\": {\"fill\": {\"color\": \"#EBF0F8\"}, \"line\": {\"color\": \"white\"}}, \"header\": {\"fill\": {\"color\": \"#C8D4E3\"}, \"line\": {\"color\": \"white\"}}, \"type\": \"table\"}]}, \"layout\": {\"annotationdefaults\": {\"arrowcolor\": \"#2a3f5f\", \"arrowhead\": 0, \"arrowwidth\": 1}, \"coloraxis\": {\"colorbar\": {\"outlinewidth\": 0, \"ticks\": \"\"}}, \"colorscale\": {\"diverging\": [[0, \"#8e0152\"], [0.1, \"#c51b7d\"], [0.2, \"#de77ae\"], [0.3, \"#f1b6da\"], [0.4, \"#fde0ef\"], [0.5, \"#f7f7f7\"], [0.6, \"#e6f5d0\"], [0.7, \"#b8e186\"], [0.8, \"#7fbc41\"], [0.9, \"#4d9221\"], [1, \"#276419\"]], \"sequential\": [[0.0, \"#0d0887\"], [0.1111111111111111, \"#46039f\"], [0.2222222222222222, \"#7201a8\"], [0.3333333333333333, \"#9c179e\"], [0.4444444444444444, \"#bd3786\"], [0.5555555555555556, \"#d8576b\"], [0.6666666666666666, \"#ed7953\"], [0.7777777777777778, \"#fb9f3a\"], [0.8888888888888888, \"#fdca26\"], [1.0, \"#f0f921\"]], \"sequentialminus\": [[0.0, \"#0d0887\"], [0.1111111111111111, \"#46039f\"], [0.2222222222222222, \"#7201a8\"], [0.3333333333333333, \"#9c179e\"], [0.4444444444444444, \"#bd3786\"], [0.5555555555555556, \"#d8576b\"], [0.6666666666666666, \"#ed7953\"], [0.7777777777777778, \"#fb9f3a\"], [0.8888888888888888, \"#fdca26\"], [1.0, \"#f0f921\"]]}, \"colorway\": [\"#636efa\", \"#EF553B\", \"#00cc96\", \"#ab63fa\", \"#FFA15A\", \"#19d3f3\", \"#FF6692\", \"#B6E880\", \"#FF97FF\", \"#FECB52\"], \"font\": {\"color\": \"#2a3f5f\"}, \"geo\": {\"bgcolor\": \"white\", \"lakecolor\": \"white\", \"landcolor\": \"#E5ECF6\", \"showlakes\": true, \"showland\": true, \"subunitcolor\": \"white\"}, \"hoverlabel\": {\"align\": \"left\"}, \"hovermode\": \"closest\", \"mapbox\": {\"style\": \"light\"}, \"paper_bgcolor\": \"white\", \"plot_bgcolor\": \"#E5ECF6\", \"polar\": {\"angularaxis\": {\"gridcolor\": \"white\", \"linecolor\": \"white\", \"ticks\": \"\"}, \"bgcolor\": \"#E5ECF6\", \"radialaxis\": {\"gridcolor\": \"white\", \"linecolor\": \"white\", \"ticks\": \"\"}}, \"scene\": {\"xaxis\": {\"backgroundcolor\": \"#E5ECF6\", \"gridcolor\": \"white\", \"gridwidth\": 2, \"linecolor\": \"white\", \"showbackground\": true, \"ticks\": \"\", \"zerolinecolor\": \"white\"}, \"yaxis\": {\"backgroundcolor\": \"#E5ECF6\", \"gridcolor\": \"white\", \"gridwidth\": 2, \"linecolor\": \"white\", \"showbackground\": true, \"ticks\": \"\", \"zerolinecolor\": \"white\"}, \"zaxis\": {\"backgroundcolor\": \"#E5ECF6\", \"gridcolor\": \"white\", \"gridwidth\": 2, \"linecolor\": \"white\", \"showbackground\": true, \"ticks\": \"\", \"zerolinecolor\": \"white\"}}, \"shapedefaults\": {\"line\": {\"color\": \"#2a3f5f\"}}, \"ternary\": {\"aaxis\": {\"gridcolor\": \"white\", \"linecolor\": \"white\", \"ticks\": \"\"}, \"baxis\": {\"gridcolor\": \"white\", \"linecolor\": \"white\", \"ticks\": \"\"}, \"bgcolor\": \"#E5ECF6\", \"caxis\": {\"gridcolor\": \"white\", \"linecolor\": \"white\", \"ticks\": \"\"}}, \"title\": {\"x\": 0.05}, \"xaxis\": {\"automargin\": true, \"gridcolor\": \"white\", \"linecolor\": \"white\", \"ticks\": \"\", \"title\": {\"standoff\": 15}, \"zerolinecolor\": \"white\", \"zerolinewidth\": 2}, \"yaxis\": {\"automargin\": true, \"gridcolor\": \"white\", \"linecolor\": \"white\", \"ticks\": \"\", \"title\": {\"standoff\": 15}, \"zerolinecolor\": \"white\", \"zerolinewidth\": 2}}}, \"title\": {\"text\": \"Indonesia land use differentials (CCI_LC data)\"}, \"xaxis\": {\"title\": {\"text\": \"Year\"}}, \"yaxis\": {\"title\": {\"text\": \"Differential surface w.r.t. 1992 value [1000 ha]\"}}},\n",
       "                        {\"responsive\": true}\n",
       "                    ).then(function(){\n",
       "                            \n",
       "var gd = document.getElementById('f7d51dfe-4a5e-4a50-81e9-f6f04954c811');\n",
       "var x = new MutationObserver(function (mutations, observer) {{\n",
       "        var display = window.getComputedStyle(gd).display;\n",
       "        if (!display || display === 'none') {{\n",
       "            console.log([gd, 'removed!']);\n",
       "            Plotly.purge(gd);\n",
       "            observer.disconnect();\n",
       "        }}\n",
       "}});\n",
       "\n",
       "// Listen for the removal of the full notebook cells\n",
       "var notebookContainer = gd.closest('#notebook-container');\n",
       "if (notebookContainer) {{\n",
       "    x.observe(notebookContainer, {childList: true});\n",
       "}}\n",
       "\n",
       "// Listen for the clearing of the current output cell\n",
       "var outputEl = gd.closest('.output');\n",
       "if (outputEl) {{\n",
       "    x.observe(outputEl, {childList: true});\n",
       "}}\n",
       "\n",
       "                        })\n",
       "                };\n",
       "                });\n",
       "            </script>\n",
       "        </div>"
      ]
     },
     "metadata": {},
     "output_type": "display_data"
    }
   ],
   "source": [
    "plot_land_type_differentials_plotly('Brazil', 'CCI_LC')\n",
    "plot_land_type_differentials_plotly('Indonesia', 'CCI_LC')"
   ]
  },
  {
   "cell_type": "markdown",
   "metadata": {},
   "source": [
    "> #### ***Explanation***\n",
    ">\n",
    "> Here we represented plots for Brazil and Indonesia (which are among the biggest deforested countries) and USA (which, instead, increased the forest land).\n",
    ">\n",
    "> + **BRAZIL**: big decrease in tree-covered areas, compensated by creation of **new grasslands and fields of herbaceous crops** (Brazil agriculture is mostly based on **sugar cane**).\n",
    "> + **INDONESIA**: in this case also herbaceous crops fields decrease to compensate the **increase of woody crops** (cultivated trees). This is linked to the main product of indonesian agriculture: **palm oil**.\n",
    "> + **UNITED STATES OF AMERICA**: in this case tree-covered areas increased **subtracting land to shrubs** and other small vegetation lands."
   ]
  },
  {
   "cell_type": "markdown",
   "metadata": {},
   "source": [
    "# **Scatterplot of forest vs agriculture land differential**\n",
    "Here we used the datasets `Production_Crops_E_All_Data_cleared.csv` and `Inputs_LandUse_E_All_Data_cleared.csv` to try to link the deforestation to the type of agriculture performet in different countires.\n",
    "\n",
    "In this part, we see the trend of agricultural areas expansion in each countries, intending to compare the result of the reduction of the forest areas."
   ]
  },
  {
   "cell_type": "code",
   "execution_count": 30,
   "metadata": {},
   "outputs": [],
   "source": [
    "# select forestation related features from Inputs_LandUse \n",
    "land_use_all = pd.read_csv(\"data/faostat/Inputs_LandUse_E_All_Data_cleared.csv\", engine='python')\n",
    "land_use = land_use_all[land_use_all.Item.isin(['Forestry']) &\n",
    "                        land_use_all.Element.str.match('Area')]\n",
    "\n",
    "# change Area USSR to Russian Federation\n",
    "land_use.Area = np.where(land_use['Area'] == 'USSR', 'Russian Federation', land_use.Area)"
   ]
  },
  {
   "cell_type": "code",
   "execution_count": 48,
   "metadata": {},
   "outputs": [],
   "source": [
    "# agricultural area (1000 ha) for each country per year\n",
    "land_use_all.Area = np.where(land_use_all['Area'] == 'USSR', 'Russian Federation', land_use_all.Area)\n",
    "land_use_ag = land_use_all[land_use_all.Item == 'Agriculture']\n",
    "land_use_ag = land_use_ag[(land_use_ag.Area.isin(FAOSTAT_countries))]\\\n",
    ".groupby([\"Area\", \"Year\"])\\\n",
    ".Value.sum().unstack(\"Year\")"
   ]
  },
  {
   "cell_type": "code",
   "execution_count": 49,
   "metadata": {},
   "outputs": [],
   "source": [
    "# expansion of agricultural areas (2017 - 1997)\n",
    "ag_areas_diff = land_use_ag.iloc[:, 56] - land_use_ag.iloc[:,36]\n",
    "ag_areas_diff = ag_areas_diff.sort_values(ascending=False)"
   ]
  },
  {
   "cell_type": "code",
   "execution_count": 50,
   "metadata": {},
   "outputs": [
    {
     "data": {
      "text/plain": [
       "Area\n",
       "Argentina       20465.00\n",
       "Indonesia       18773.00\n",
       "Saudi Arabia    14827.00\n",
       "Niger           10600.00\n",
       "Brazil           7906.36\n",
       "dtype: float64"
      ]
     },
     "execution_count": 50,
     "metadata": {},
     "output_type": "execute_result"
    }
   ],
   "source": [
    "# top 5 countries which experienced the biggest expansion of agricultural area\n",
    "ag_areas_diff.head(5)"
   ]
  },
  {
   "cell_type": "code",
   "execution_count": 51,
   "metadata": {},
   "outputs": [
    {
     "data": {
      "text/plain": [
       "<matplotlib.axes._subplots.AxesSubplot at 0x2663300c708>"
      ]
     },
     "execution_count": 51,
     "metadata": {},
     "output_type": "execute_result"
    },
    {
     "data": {
      "image/png": "[encoded data removed]",
      "text/plain": [
       "<Figure size 1080x432 with 1 Axes>"
      ]
     },
     "metadata": {
      "needs_background": "light"
     },
     "output_type": "display_data"
    }
   ],
   "source": [
    "# plot the trend of agricultural areas in the 5 nations\n",
    "land_use_ag.loc[ag_areas_diff[:5].index].T.plot.area(figsize=(15,6))"
   ]
  },
  {
   "cell_type": "code",
   "execution_count": 52,
   "metadata": {},
   "outputs": [],
   "source": [
    "# forest areas (1000 ha) for each country per year\n",
    "land_use_forest = land_use_all[land_use_all.Item == 'Forestry']\n",
    "land_use_forest = land_use_forest[(land_use_forest.Area.isin(FAOSTAT_countries))]\\\n",
    ".groupby([\"Area\", \"Year\"])\\\n",
    ".Value.sum().unstack(\"Year\")"
   ]
  },
  {
   "cell_type": "code",
   "execution_count": 53,
   "metadata": {},
   "outputs": [],
   "source": [
    "# reduction of forest areas (2017 - 1997), minus values mean reduction of forest\n",
    "forest_areas_diff = land_use_forest.iloc[:, 27] - land_use_forest.iloc[:,7]\n",
    "forest_areas_diff = forest_areas_diff.sort_values(ascending=True)"
   ]
  },
  {
   "cell_type": "code",
   "execution_count": 54,
   "metadata": {},
   "outputs": [
    {
     "data": {
      "text/plain": [
       "Area\n",
       "Brazil                        -35365.3\n",
       "Indonesia                     -14139.8\n",
       "Nigeria                        -7373.1\n",
       "Myanmar                        -7132.0\n",
       "United Republic of Tanzania    -7060.0\n",
       "dtype: float64"
      ]
     },
     "execution_count": 54,
     "metadata": {},
     "output_type": "execute_result"
    }
   ],
   "source": [
    "# top 5 countries which experienced the biggest reduction of forest area\n",
    "forest_areas_diff.head()"
   ]
  },
  {
   "cell_type": "code",
   "execution_count": 55,
   "metadata": {},
   "outputs": [
    {
     "data": {
      "text/plain": [
       "<matplotlib.axes._subplots.AxesSubplot at 0x2663c123a08>"
      ]
     },
     "execution_count": 55,
     "metadata": {},
     "output_type": "execute_result"
    },
    {
     "data": {
      "image/png": "[encoded data removed]",
      "text/plain": [
       "<Figure size 1080x432 with 1 Axes>"
      ]
     },
     "metadata": {
      "needs_background": "light"
     },
     "output_type": "display_data"
    }
   ],
   "source": [
    "# plot the trend of forest areas in the 5 nations\n",
    "land_use_forest.loc[forest_areas_diff[:5].index].T.plot.area(figsize=(15,6))"
   ]
  },
  {
   "cell_type": "code",
   "execution_count": 56,
   "metadata": {},
   "outputs": [
    {
     "data": {
      "text/html": [
       "<div>\n",
       "<style scoped>\n",
       "    .dataframe tbody tr th:only-of-type {\n",
       "        vertical-align: middle;\n",
       "    }\n",
       "\n",
       "    .dataframe tbody tr th {\n",
       "        vertical-align: top;\n",
       "    }\n",
       "\n",
       "    .dataframe thead th {\n",
       "        text-align: right;\n",
       "    }\n",
       "</style>\n",
       "<table border=\"1\" class=\"dataframe\">\n",
       "  <thead>\n",
       "    <tr style=\"text-align: right;\">\n",
       "      <th></th>\n",
       "      <th>d_ForestArea</th>\n",
       "      <th>d_AgriculturalArea</th>\n",
       "    </tr>\n",
       "  </thead>\n",
       "  <tbody>\n",
       "    <tr>\n",
       "      <td>Argentina</td>\n",
       "      <td>-5627.90</td>\n",
       "      <td>20465.00</td>\n",
       "    </tr>\n",
       "    <tr>\n",
       "      <td>Indonesia</td>\n",
       "      <td>-14139.80</td>\n",
       "      <td>18773.00</td>\n",
       "    </tr>\n",
       "    <tr>\n",
       "      <td>Saudi Arabia</td>\n",
       "      <td>0.00</td>\n",
       "      <td>14827.00</td>\n",
       "    </tr>\n",
       "    <tr>\n",
       "      <td>Niger</td>\n",
       "      <td>-371.10</td>\n",
       "      <td>10600.00</td>\n",
       "    </tr>\n",
       "    <tr>\n",
       "      <td>Brazil</td>\n",
       "      <td>-35365.30</td>\n",
       "      <td>7906.36</td>\n",
       "    </tr>\n",
       "    <tr>\n",
       "      <td>Ethiopia</td>\n",
       "      <td>-1628.70</td>\n",
       "      <td>7048.10</td>\n",
       "    </tr>\n",
       "    <tr>\n",
       "      <td>United Republic of Tanzania</td>\n",
       "      <td>-7060.00</td>\n",
       "      <td>5947.00</td>\n",
       "    </tr>\n",
       "    <tr>\n",
       "      <td>Democratic Republic of the Congo</td>\n",
       "      <td>-5605.20</td>\n",
       "      <td>5828.00</td>\n",
       "    </tr>\n",
       "    <tr>\n",
       "      <td>China:mainland</td>\n",
       "      <td>37278.77</td>\n",
       "      <td>4400.00</td>\n",
       "    </tr>\n",
       "    <tr>\n",
       "      <td>Viet Nam</td>\n",
       "      <td>3755.20</td>\n",
       "      <td>4324.80</td>\n",
       "    </tr>\n",
       "  </tbody>\n",
       "</table>\n",
       "</div>"
      ],
      "text/plain": [
       "                                  d_ForestArea  d_AgriculturalArea\n",
       "Argentina                             -5627.90            20465.00\n",
       "Indonesia                            -14139.80            18773.00\n",
       "Saudi Arabia                              0.00            14827.00\n",
       "Niger                                  -371.10            10600.00\n",
       "Brazil                               -35365.30             7906.36\n",
       "Ethiopia                              -1628.70             7048.10\n",
       "United Republic of Tanzania           -7060.00             5947.00\n",
       "Democratic Republic of the Congo      -5605.20             5828.00\n",
       "China:mainland                        37278.77             4400.00\n",
       "Viet Nam                               3755.20             4324.80"
      ]
     },
     "execution_count": 56,
     "metadata": {},
     "output_type": "execute_result"
    }
   ],
   "source": [
    "# dataframe to compare deforestation and expantion of agricultural area\n",
    "df_concat = pd.concat([forest_areas_diff, ag_areas_diff], axis=1, sort=False)\n",
    "df_concat.columns = ['d_ForestArea','d_AgriculturalArea']\n",
    "\n",
    "df_concat = df_concat.sort_values(by=['d_AgriculturalArea'], ascending=False)\n",
    "df_concat.head(10)"
   ]
  },
  {
   "cell_type": "code",
   "execution_count": 57,
   "metadata": {},
   "outputs": [
    {
     "data": {
      "image/png": "[encoded data removed]",
      "text/plain": [
       "<Figure size 432x288 with 1 Axes>"
      ]
     },
     "metadata": {
      "needs_background": "light"
     },
     "output_type": "display_data"
    }
   ],
   "source": [
    "# create plot to find correlation between deforestation and expansion of agricultural area\n",
    "fig = plt.figure()\n",
    "ax = plt.subplot()\n",
    "plt.scatter(df_concat.d_AgriculturalArea, df_concat.d_ForestArea)\n",
    "plt.axvline(x=0,color='black', linestyle='--')\n",
    "plt.axhline(y=0,color='black', linestyle='--')\n",
    "plt.show()"
   ]
  },
  {
   "cell_type": "code",
   "execution_count": 60,
   "metadata": {},
   "outputs": [
    {
     "data": {
      "text/plain": [
       "d_ForestArea          37278.77\n",
       "d_AgriculturalArea     4400.00\n",
       "Name: China:mainland, dtype: float64"
      ]
     },
     "execution_count": 60,
     "metadata": {},
     "output_type": "execute_result"
    }
   ],
   "source": [
    "# outlier 2: China:mainland\n",
    "df_concat.loc['China:mainland']"
   ]
  },
  {
   "cell_type": "markdown",
   "metadata": {},
   "source": [
    "As explained in part 1, China:mainland enlarges its forest area by its continuous tree planting activity. This seems to draw out the effect of agricultural area expansion. So, we exclude China:mainland from the scattered plot."
   ]
  },
  {
   "cell_type": "code",
   "execution_count": 61,
   "metadata": {},
   "outputs": [
    {
     "data": {
      "text/plain": [
       "(-10000, 5000)"
      ]
     },
     "execution_count": 61,
     "metadata": {},
     "output_type": "execute_result"
    },
    {
     "data": {
      "image/png": "[encoded data removed]",
      "text/plain": [
       "<Figure size 432x288 with 1 Axes>"
      ]
     },
     "metadata": {
      "needs_background": "light"
     },
     "output_type": "display_data"
    }
   ],
   "source": [
    "# reset xrange and yrange so that the outliers are excluded\n",
    "fig = plt.figure()\n",
    "ax = plt.subplot()\n",
    "plt.scatter(df_concat.d_AgriculturalArea, df_concat.d_ForestArea)\n",
    "plt.axvline(x=0,color='k', linestyle='--')\n",
    "plt.axhline(y=0,color='k', linestyle='--')\n",
    "ax.set_xlim(-20000,25000)\n",
    "ax.set_ylim(-10000,5000)"
   ]
  },
  {
   "cell_type": "markdown",
   "metadata": {},
   "source": [
    "> #### Explanation\n",
    "> - We found slightly negative correlation between expansion of agrecultural areas and forest areas. However, the conrrelation is not as stong as we expected.\n",
    "> - Considering only the expantion of agricultural areas is not enough to explain the main causes of deforestation. We need to consider other features such as timber production in the nation and planting activities as well."
   ]
  },
  {
   "cell_type": "markdown",
   "metadata": {},
   "source": [
    "# **Link between yield of agricultural land and deforestation**\n",
    "Here we try to check if agricultural yield can be used useful in classifying the countries in de- and re-foresting ones."
   ]
  },
  {
   "cell_type": "code",
   "execution_count": 16,
   "metadata": {},
   "outputs": [],
   "source": [
    "prod_crops_all = pd.read_csv(\"data/faostat/Production_Crops_E_All_Data_cleared.csv\", engine='python')"
   ]
  },
  {
   "cell_type": "code",
   "execution_count": 13,
   "metadata": {},
   "outputs": [],
   "source": [
    "# top 10 deforested countries (criterion: surface of forest losses)\n",
    "all_countries_forests_area_1990 = land_use_all[land_use_all.Item.str.match('Forestry') &   \n",
    "                                               land_use_all.Element.str.match('Area') &\n",
    "                                               (land_use_all.Year == 1990)]\n",
    "\n",
    "all_countries_forests_area_2017 = land_use_all[land_use_all.Item.str.match('Forestry') &   \n",
    "                                               land_use_all.Element.str.match('Area') &\n",
    "                                               (land_use_all.Year == 2017)]\n",
    "\n",
    "# drop aggregated rows\n",
    "all_countries_forests_area_1990 = all_countries_forests_area_1990[all_countries_forests_area_1990['Area Code'] < 5000]\n",
    "all_countries_forests_area_2017 = all_countries_forests_area_2017[all_countries_forests_area_2017['Area Code'] < 5000]\n",
    "\n",
    "# join dataframes\n",
    "deforestation_1990_2017 = all_countries_forests_area_1990.merge(all_countries_forests_area_2017, \n",
    "                                                                left_on=['Area Code', 'Area'], \n",
    "                                                                right_on=['Area Code', 'Area'])\n",
    "\n",
    "# TODO: check non joint countries because of different names\n",
    "\n",
    "# compute deforested areas\n",
    "deforestation_1990_2017.loc[:, 'Forest land differential'] = deforestation_1990_2017['Value_y'] - deforestation_1990_2017['Value_x']\n",
    "deforestation_1990_2017 = deforestation_1990_2017.loc[:, ['Area', 'Forest land differential']]\\\n",
    "                                                 .sort_values(by=['Forest land differential'], \n",
    "                                                              ascending=False)\n",
    "# TODO: drop China:mainland\n",
    "\n",
    "# extract name of top 10 countries for de- and re-forestation\n",
    "top_10_deforested_countries = deforestation_1990_2017.tail(10).sort_values(by=['Forest land differential']).Area\n",
    "top_10_reforested_countries = deforestation_1990_2017.head(11).Area\n",
    "top_10_reforested_countries = top_10_reforested_countries.drop(38) # drop China:mainland\n",
    "\n",
    "# get time series for those countries\n",
    "top_10_deforested_countries_yearly = land_use_all[land_use_all.Item.str.match('Forestry') &   \n",
    "                                                  land_use_all.Element.str.match('Area') &\n",
    "                                                  land_use_all.Area.isin(top_10_deforested_countries)]\n",
    "top_10_reforested_countries_yearly = land_use_all[land_use_all.Item.str.match('Forestry') &   \n",
    "                                                  land_use_all.Element.str.match('Area') &\n",
    "                                                  land_use_all.Area.isin(top_10_reforested_countries)]"
   ]
  },
  {
   "cell_type": "code",
   "execution_count": 14,
   "metadata": {},
   "outputs": [],
   "source": [
    "# Correlation between low yield and high deforestation.\n",
    "# The field 'Yield' in the 'Element' column of the dataframe is computed\n",
    "# as 'Production' / 'Area Harvested' and measured in hg/ha\n",
    "def yield_differences_in_top_10s(ITEM, YEAR):\n",
    "    deforested_values = prod_crops_all.loc[(prod_crops_all.Area.isin(top_10_deforested_countries)) &\n",
    "                                           (prod_crops_all.Item == ITEM) &\n",
    "                                           (prod_crops_all.Year == YEAR) &\n",
    "                                           (prod_crops_all.Element == 'Yield')]\\\n",
    "                                      .loc[:, ['Value', 'Area']]\n",
    "\n",
    "    reforested_values = prod_crops_all.loc[(prod_crops_all.Area.isin(top_10_reforested_countries)) &\n",
    "                                           (prod_crops_all.Item == ITEM) &\n",
    "                                           (prod_crops_all.Year == YEAR) &\n",
    "                                           (prod_crops_all.Element == 'Yield')]\\\n",
    "                                      .loc[:, ['Value', 'Area']]\n",
    "\n",
    "    reforested_values['Deforested'] = 0\n",
    "    reforested_values['Color'] = 'royalblue'\n",
    "    deforested_values['Deforested'] = 1\n",
    "    deforested_values['Color'] = 'orange'\n",
    "    all_values = pd.concat([deforested_values, reforested_values], axis=0)\n",
    "    all_values = all_values.sort_values(by=['Value'])\n",
    "\n",
    "    # print(ITEM + ' yield:\\n' +\n",
    "    #       str(deforested_values.Value.mean()) + ' (mean over ' + str(deforested_values.Value.count()) + ' countries in top 10 deforested)\\n' + \n",
    "    #       str(reforested_values.Value.mean()) + ' (mean over ' + str(reforested_values.Value.count()) + ' countries in top 10 reforested)')\n",
    "\n",
    "    plt.figure(figsize=(9, 6))\n",
    "    for country in all_values.Area:\n",
    "        plt.barh(country, all_values.loc[all_values.Area == country, 'Value'], color=all_values.loc[all_values.Area == country, 'Color'])\n",
    "    plt.legend(['reforested (== blue)', 'deforested (== orange)'])\n",
    "    plt.title(ITEM + ' yield in top 10 reforested and deforested countries (year ' + str(YEAR) + ')')\n",
    "    plt.gca().set_xlabel('Yield [hg/ha]')\n",
    "    plt.show()"
   ]
  },
  {
   "cell_type": "code",
   "execution_count": 17,
   "metadata": {
    "collapsed": true
   },
   "outputs": [
    {
     "data": {
      "text/plain": [
       "array(['Almonds:with shell', 'Anise:badian:fennel:coriander', 'Apples',\n",
       "       'Apricots', 'Barley', 'Berries nes', 'Cotton lint', 'Cottonseed',\n",
       "       'Figs', 'Fruit:citrus nes', 'Fruit:fresh nes', 'Fruit:stone nes',\n",
       "       'Grapes', 'Linseed', 'Maize', 'Melons:other (inc.cantaloupes)',\n",
       "       'Millet', 'Nuts:nes', 'Olives', 'Onions:dry', 'Oranges',\n",
       "       'Peaches and nectarines', 'Pears', 'Pistachios', 'Plums and sloes',\n",
       "       'Potatoes', 'Pulses:nes', 'Rice:paddy', 'Seed cotton',\n",
       "       'Sesame seed', 'Spices:nes', 'Sugar beet', 'Sugar cane',\n",
       "       'Sunflower seed', 'Vegetables:fresh nes', 'Walnuts:with shell',\n",
       "       'Watermelons', 'Wheat', 'Cereals (Rice Milled Eqv)',\n",
       "       'Cereals:Total', 'Citrus Fruit:Total', 'Coarse Grain:Total',\n",
       "       'Fibre Crops Primary', 'Fruit Primary', 'Oilcrops:Cake Equivalent',\n",
       "       'Oilcrops:Oil Equivalent', 'Pulses:Total',\n",
       "       'Roots and Tubers:Total', 'Treenuts:Total', 'Vegetables Primary',\n",
       "       'Beans:dry', 'Beans:green', 'Broad beans:horse beans:dry',\n",
       "       'Cabbages and other brassicas', 'Carrots and turnips',\n",
       "       'Cauliflowers and broccoli', 'Cherries', 'Cherries:sour',\n",
       "       'Chestnut', 'Chillies and peppers:green', 'Cucumbers and gherkins',\n",
       "       'Dates', 'Eggplants (aubergines)', 'Garlic', 'Hops',\n",
       "       'Leeks:other alliaceous vegetables', 'Lemons and limes',\n",
       "       'Lettuce and chicory', 'Mushrooms and truffles', 'Oats', 'Okra',\n",
       "       'Onions:shallots:green', 'Peas:green',\n",
       "       'Pumpkins:squash and gourds', 'Quinces', 'Rye', 'Sorghum',\n",
       "       'Soybeans', 'Spinach', 'Tangerines:mandarins:clementines:satsumas',\n",
       "       'Tobacco:unmanufactured', 'Tomatoes', 'Vegetables:leguminous nes',\n",
       "       'Vetches', 'Artichokes', 'Bananas', 'Carobs', 'Chick peas',\n",
       "       'Chillies and peppers:dry', 'Fruit:tropical fresh nes',\n",
       "       'Grapefruit (inc. pomelos)', 'Groundnuts:with shell', 'Lentils',\n",
       "       'Peas:dry', 'Rapeseed', 'Strawberries', 'Triticale', 'Cassava',\n",
       "       'Cocoa:beans', 'Coconuts', 'Maize:green', 'Pineapples',\n",
       "       'Taro (cocoyam)', 'Yams', 'Bastfibres:other',\n",
       "       'Cashew nuts:with shell', 'Castor oil seed', 'Coffee:green',\n",
       "       'Oil palm fruit', 'Oil:palm', 'Palm kernels', 'Sisal',\n",
       "       'Sweet potatoes', 'Mangoes:mangosteens:guavas', 'Asparagus',\n",
       "       'Avocados', 'Canary seed', 'Cereals:nes', 'Fibre crops nes',\n",
       "       'Flax fibre and tow', 'Lupins', 'Matï¿½', 'Oilseeds nes',\n",
       "       'Papayas', 'Peppermint', 'Safflower seed', 'String beans', 'Tea',\n",
       "       'Tung nuts', 'Hazelnuts:with shell', 'Blueberries', 'Cow peas:dry',\n",
       "       'Currants', 'Kiwi fruit', 'Mustard seed', 'Persimmons',\n",
       "       'Raspberries', 'Buckwheat', 'Gooseberries', 'Grain:mixed',\n",
       "       'Hemp tow waste', 'Poppy seed', 'Cranberries', 'Pigeon peas',\n",
       "       'Plantains and others', 'Areca nuts', 'Coir', 'Ginger', 'Jute',\n",
       "       'Rubber:natural', 'Sugar crops:nes', 'Chicory roots',\n",
       "       'Roots and tubers:nes', 'Yautia (cocoyam)', 'Fonio',\n",
       "       'Karite nuts (sheanuts)', 'Kola nuts', 'Pepper (piper spp.)',\n",
       "       'Nutmeg:mace and cardamoms', 'Brazil nuts:with shell',\n",
       "       'Pyrethrum:dried', 'Quinoa', 'Cashewapple', 'Gums:natural',\n",
       "       'Ramie', 'Hempseed', 'Melonseed', 'Bambara beans',\n",
       "       'Cinnamon (canella)', 'Cloves', 'Tallowtree seed', 'Vanilla',\n",
       "       'Agave fibres nes', 'Cassava leaves', 'Manila fibre (abaca)',\n",
       "       'Kapok fibre', 'Kapok fruit', 'Kapokseed in shell', 'Jojoba seed',\n",
       "       'Fruit:pome nes'], dtype=object)"
      ]
     },
     "execution_count": 17,
     "metadata": {},
     "output_type": "execute_result"
    }
   ],
   "source": [
    "prod_crops_all.Item.unique()"
   ]
  },
  {
   "cell_type": "code",
   "execution_count": 18,
   "metadata": {},
   "outputs": [
    {
     "data": {
      "image/png": "[encoded data removed]",
      "text/plain": [
       "<Figure size 648x432 with 1 Axes>"
      ]
     },
     "metadata": {
      "needs_background": "light"
     },
     "output_type": "display_data"
    }
   ],
   "source": [
    "yield_differences_in_top_10s('Cocoa:beans', 2000)\n",
    "# yield_differences_in_top_10s('Maize', 2000)"
   ]
  },
  {
   "cell_type": "markdown",
   "metadata": {},
   "source": [
    "> #### ***Explanation***\n",
    "> Countries that **increased their forest land** (USA, Chine, Thailand, France, Spain...) have usually a much **bigger yield**. Yield is computed as production over area harvested and it is than measured in hg/ha. This can be interpreted as: **better productivity means less need of agriculture land** to product the same quantity, alleviating the need of new lands to cultivate. Anyway **this conclusion is weak** since the clear correlation exibithed in the previous plots can be explained also by a more general cause: deforesting countries are on average less rich than the ones that increase tree coverage; **richer countries have access to better agricultural practices** that increase productivity (e.g. check for India, developing country, which has low productivity scores).\n",
    ">\n",
    "> (TODO: fix problem with the legend for the data story!)"
   ]
  },
  {
   "cell_type": "markdown",
   "metadata": {},
   "source": [
    "# **Clustering of the countries based on agricultural production share**\n",
    "In this section we want to **understand if the deforesting countries have similar agriculture styles**. **PCA** is used to classify the countries based on their agricultural production in a 2D space. A matrix containing countries (as rows) and **shares in agricultural production** of each type of product (each item is a column) is used as a representation of different agriculture styles."
   ]
  },
  {
   "cell_type": "code",
   "execution_count": 20,
   "metadata": {},
   "outputs": [],
   "source": [
    "# compute the share of each agriculture item for every country, selected year\n",
    "YEAR = 2015\n",
    "\n",
    "countries_production_total = prod_crops_all.loc[(prod_crops_all.Element == 'Production')]\\\n",
    "                                           .groupby(['Area', 'Year'])\\\n",
    "                                           .sum()\\\n",
    "                                           .rename({'Value': 'Total Yearly Production'}, axis='columns')\\\n",
    "                                           .loc[:, 'Total Yearly Production']\n",
    "\n",
    "countries_production_shares = prod_crops_all.loc[(prod_crops_all.Element == 'Production')]\\\n",
    "                                            .merge(countries_production_total, right_index=True, left_on=['Area', 'Year'])\n",
    "\n",
    "countries_production_shares['Yearly Share'] = 100 * countries_production_shares['Value'] / countries_production_shares['Total Yearly Production']\n",
    "\n",
    "# remove aggregated areas\n",
    "countries_production_shares = countries_production_shares.loc[countries_production_shares['Area Code'] < 5000]\n",
    "\n",
    "# select a single year\n",
    "shares_single_year = countries_production_shares.loc[countries_production_shares.Year == YEAR]"
   ]
  },
  {
   "cell_type": "code",
   "execution_count": 22,
   "metadata": {},
   "outputs": [],
   "source": [
    "# load agricultural share matrix from file\n",
    "production_shares_matrix = pd.read_pickle(\"./production_shares_matrix.pkl\")"
   ]
  },
  {
   "cell_type": "code",
   "execution_count": 23,
   "metadata": {
    "scrolled": true
   },
   "outputs": [
    {
     "data": {
      "text/html": [
       "<div>\n",
       "<style scoped>\n",
       "    .dataframe tbody tr th:only-of-type {\n",
       "        vertical-align: middle;\n",
       "    }\n",
       "\n",
       "    .dataframe tbody tr th {\n",
       "        vertical-align: top;\n",
       "    }\n",
       "\n",
       "    .dataframe thead th {\n",
       "        text-align: right;\n",
       "    }\n",
       "</style>\n",
       "<table border=\"1\" class=\"dataframe\">\n",
       "  <thead>\n",
       "    <tr style=\"text-align: right;\">\n",
       "      <th></th>\n",
       "      <th>Almonds:with shell</th>\n",
       "      <th>Anise:badian:fennel:coriander</th>\n",
       "      <th>Apples</th>\n",
       "      <th>Apricots</th>\n",
       "    </tr>\n",
       "  </thead>\n",
       "  <tbody>\n",
       "    <tr>\n",
       "      <td>Afghanistan</td>\n",
       "      <td>0.0976835</td>\n",
       "      <td>0.0725193</td>\n",
       "      <td>0.361521</td>\n",
       "      <td>0.353274</td>\n",
       "    </tr>\n",
       "    <tr>\n",
       "      <td>Albania</td>\n",
       "      <td>0</td>\n",
       "      <td>0</td>\n",
       "      <td>1.45978</td>\n",
       "      <td>0.0802803</td>\n",
       "    </tr>\n",
       "    <tr>\n",
       "      <td>Algeria</td>\n",
       "      <td>0.157873</td>\n",
       "      <td>0</td>\n",
       "      <td>0.931925</td>\n",
       "      <td>0.605811</td>\n",
       "    </tr>\n",
       "    <tr>\n",
       "      <td>American Samoa</td>\n",
       "      <td>0</td>\n",
       "      <td>0</td>\n",
       "      <td>0</td>\n",
       "      <td>0</td>\n",
       "    </tr>\n",
       "  </tbody>\n",
       "</table>\n",
       "</div>"
      ],
      "text/plain": [
       "               Almonds:with shell Anise:badian:fennel:coriander    Apples  \\\n",
       "Afghanistan             0.0976835                     0.0725193  0.361521   \n",
       "Albania                         0                             0   1.45978   \n",
       "Algeria                  0.157873                             0  0.931925   \n",
       "American Samoa                  0                             0         0   \n",
       "\n",
       "                 Apricots  \n",
       "Afghanistan      0.353274  \n",
       "Albania         0.0802803  \n",
       "Algeria          0.605811  \n",
       "American Samoa          0  "
      ]
     },
     "execution_count": 23,
     "metadata": {},
     "output_type": "execute_result"
    }
   ],
   "source": [
    "# show a sample of the matrix used for clustring\n",
    "production_shares_matrix.iloc[0:4, 0:4]"
   ]
  },
  {
   "cell_type": "code",
   "execution_count": 24,
   "metadata": {
    "scrolled": false
   },
   "outputs": [],
   "source": [
    "# distance between two countries in agricultural share space\n",
    "def compute_distance(country_1, country_2):\n",
    "    country_1_agricultural_share = np.array(production_shares_matrix.loc[country_1, :].values)\n",
    "    country_2_agricultural_share = np.array(production_shares_matrix.loc[country_2, :].values)\n",
    "    cosine_similarity = np.dot(country_1_agricultural_share, country_2_agricultural_share) / \\\n",
    "                        (np.linalg.norm(country_1_agricultural_share) * np.linalg.norm(country_2_agricultural_share))\n",
    "    return 1 - cosine_similarity"
   ]
  },
  {
   "cell_type": "code",
   "execution_count": 25,
   "metadata": {},
   "outputs": [],
   "source": [
    "# compute (cosine) distance matrix between top 10 re- and de-forested\n",
    "distance_matrix = np.zeros((20, 20))\n",
    "the_20_countries = top_10_reforested_countries.append(top_10_deforested_countries)\n",
    "for i, country_1 in enumerate(the_20_countries):\n",
    "    for j, country_2 in enumerate(the_20_countries):\n",
    "        distance_matrix[i, j] = compute_distance(country_1, country_2)\n",
    "distances = pd.DataFrame(data=distance_matrix,\n",
    "                         index=the_20_countries,\n",
    "                         columns=the_20_countries)\n",
    "# set 0 on diagonal (sometimes is 2e-16)\n",
    "for i in range(20):\n",
    "    distances.iloc[i, i] = 0"
   ]
  },
  {
   "cell_type": "code",
   "execution_count": 26,
   "metadata": {},
   "outputs": [],
   "source": [
    "countries_centers = pd.DataFrame([['China', 35.86166, 104.195397], \n",
    "                                  ['United States of America', 37.09024, -95.712891],\n",
    "                                  ['India', 20.593684, 78.96288],\n",
    "                                  ['Viet Nam', 14.058324, 108.277199], \n",
    "                                  ['Spain', 40.463667, -3.74922],\n",
    "                                  ['France', 46.227638, 2.213749], \n",
    "                                  ['Chile', -35.675147, -71.542969],\n",
    "                                  ['Thailand', 15.870032, 100.992541], \n",
    "                                  ['Turkey', 38.963745, 35.243322],\n",
    "                                  ['Italy', 41.87194, 12.56738], \n",
    "                                  ['Brazil', -14.235004, -51.92528], \n",
    "                                  ['Indonesia', -0.789275, 113.921327],\n",
    "                                  ['Nigeria', 9.081999, 8.675277],\n",
    "                                  ['Myanmar', 21.913965, 95.956223], \n",
    "                                  ['United Republic of Tanzania', -6.369028, 34.888822],\n",
    "                                  ['Zimbabwe', -19.015438, 29.154857], \n",
    "                                  ['Bolivia (Plurinational State of)', -16.290154, -63.588653],\n",
    "                                  ['Democratic Republic of the Congo', -4.038333, 21.758664], \n",
    "                                  ['Argentina', -38.416097, -63.616672],\n",
    "                                  ['Colombia', 4.570868, -74.297333]],\n",
    "                                 columns=['Area', 'Latitude', 'Longitude'])\n",
    "countries_centers = countries_centers.set_index('Area')"
   ]
  },
  {
   "cell_type": "code",
   "execution_count": 31,
   "metadata": {},
   "outputs": [],
   "source": [
    "# colors\n",
    "reforested_color = '#1f77b4'\n",
    "deforested_color = '#ff7f0e'\n",
    "colors = []\n",
    "for i in range(10):\n",
    "    colors.append(reforested_color)\n",
    "for i in range(10):\n",
    "    colors.append(deforested_color)\n",
    "\n",
    "# extract forest land differential and use it to define the scale of the bubbles\n",
    "top_10_reforested_sizes = deforestation_1990_2017.head(11)\\\n",
    "                                                 .drop(38)\\\n",
    "                                                 .loc[:, 'Forest land differential']\\\n",
    "                                                 .tolist()\n",
    "top_10_deforested_sizes = deforestation_1990_2017.tail(10)\\\n",
    "                                                 .sort_values(by=['Forest land differential'])\\\n",
    "                                                 .loc[:, 'Forest land differential']\\\n",
    "                                                 .tolist()\n",
    "top_10_deforested_sizes = np.abs(top_10_deforested_sizes).tolist()  # differentials for deforested are negative\n",
    "\n",
    "# rescale using \n",
    "sizes = top_10_reforested_sizes + top_10_deforested_sizes\n",
    "sizes = sizes / np.max(sizes)\n",
    "sizes = np.log(sizes + 1)\n",
    "\n",
    "# final absolute scale to match plotly parameters\n",
    "scale = 50\n",
    "for i in range(len(sizes)):\n",
    "    sizes[i] = sizes[i] * scale"
   ]
  },
  {
   "cell_type": "code",
   "execution_count": 28,
   "metadata": {
    "scrolled": false
   },
   "outputs": [
    {
     "data": {
      "application/vnd.plotly.v1+json": {
       "config": {
        "plotlyServerURL": "https://plot.ly"
       },
       "data": [
        {
         "hoverinfo": "text",
         "lat": [
          35.86166,
          37.09024,
          20.593684,
          14.058324,
          40.463667,
          46.227638,
          -35.675147,
          15.870032,
          38.963745,
          41.87194,
          -14.235004,
          -0.789275,
          9.081999,
          21.913965,
          -6.369028,
          -19.015438,
          -16.290154,
          -4.038333,
          -38.416097,
          4.570868
         ],
         "lon": [
          104.195397,
          -95.712891,
          78.96288,
          108.277199,
          -3.74922,
          2.213749,
          -71.542969,
          100.992541,
          35.243322,
          12.56738,
          -51.92528,
          113.921327,
          8.675277,
          95.956223,
          34.888822,
          29.154857,
          -63.588653,
          21.758664,
          -63.616672,
          -74.297333
         ],
         "marker": {
          "color": [
           "#1f77b4",
           "#1f77b4",
           "#1f77b4",
           "#1f77b4",
           "#1f77b4",
           "#1f77b4",
           "#1f77b4",
           "#1f77b4",
           "#1f77b4",
           "#1f77b4",
           "#ff7f0e",
           "#ff7f0e",
           "#ff7f0e",
           "#ff7f0e",
           "#ff7f0e",
           "#ff7f0e",
           "#ff7f0e",
           "#ff7f0e",
           "#ff7f0e",
           "#ff7f0e"
          ],
          "line": {
           "color": "rgba(68, 68, 68, 0)",
           "width": 3
          },
          "opacity": 1,
          "size": [
           33.714534447160574,
           6.717461739448861,
           5.970276648311063,
           4.845211247042075,
           4.156241512424634,
           2.3450622890996353,
           2.272324554129759,
           2.202180657733695,
           1.9305708182829067,
           1.5800872432526905,
           34.657359027997266,
           20.86627274933267,
           8.807606665923352,
           8.757114361708124,
           8.506265143999391,
           7.091805113675916,
           7.033830305805592,
           6.832438302054809,
           6.747052402814578,
           5.274640350895481
          ]
         },
         "mode": "markers",
         "text": [
          "China",
          "United States of America",
          "India",
          "Viet Nam",
          "Spain",
          "France",
          "Chile",
          "Thailand",
          "Turkey",
          "Italy",
          "Brazil",
          "Indonesia",
          "Nigeria",
          "Myanmar",
          "United Republic of Tanzania",
          "Zimbabwe",
          "Bolivia (Plurinational State of)",
          "Democratic Republic of the Congo",
          "Argentina",
          "Colombia"
         ],
         "type": "scattergeo"
        },
        {
         "lat": [
          35.86166,
          14.058324
         ],
         "line": {
          "color": "#1f77b4",
          "width": 1.6906167817364262
         },
         "lon": [
          104.195397,
          108.277199
         ],
         "mode": "lines",
         "opacity": 0.3,
         "type": "scattergeo"
        },
        {
         "lat": [
          35.86166,
          40.463667
         ],
         "line": {
          "color": "#1f77b4",
          "width": 2.1099374138481477
         },
         "lon": [
          104.195397,
          -3.74922
         ],
         "mode": "lines",
         "opacity": 0.3,
         "type": "scattergeo"
        },
        {
         "lat": [
          35.86166,
          38.963745
         ],
         "line": {
          "color": "#1f77b4",
          "width": 2.5588345943712283
         },
         "lon": [
          104.195397,
          35.243322
         ],
         "mode": "lines",
         "opacity": 0.3,
         "type": "scattergeo"
        },
        {
         "lat": [
          35.86166,
          41.87194
         ],
         "line": {
          "color": "#1f77b4",
          "width": 2.5945120576945593
         },
         "lon": [
          104.195397,
          12.56738
         ],
         "mode": "lines",
         "opacity": 0.3,
         "type": "scattergeo"
        },
        {
         "lat": [
          37.09024,
          46.227638
         ],
         "line": {
          "color": "#1f77b4",
          "width": 1.8632047548447073
         },
         "lon": [
          -95.712891,
          2.213749
         ],
         "mode": "lines",
         "opacity": 0.3,
         "type": "scattergeo"
        },
        {
         "lat": [
          37.09024,
          -38.416097
         ],
         "line": {
          "color": "grey",
          "width": 2.772680364763197
         },
         "lon": [
          -95.712891,
          -63.616672
         ],
         "mode": "lines",
         "opacity": 0.3,
         "type": "scattergeo"
        },
        {
         "lat": [
          20.593684,
          14.058324
         ],
         "line": {
          "color": "#1f77b4",
          "width": 1.87042814146055
         },
         "lon": [
          78.96288,
          108.277199
         ],
         "mode": "lines",
         "opacity": 0.3,
         "type": "scattergeo"
        },
        {
         "lat": [
          20.593684,
          15.870032
         ],
         "line": {
          "color": "#1f77b4",
          "width": 1.912253815082728
         },
         "lon": [
          78.96288,
          100.992541
         ],
         "mode": "lines",
         "opacity": 0.3,
         "type": "scattergeo"
        },
        {
         "lat": [
          20.593684,
          21.913965
         ],
         "line": {
          "color": "grey",
          "width": 1.699026657158856
         },
         "lon": [
          78.96288,
          95.956223
         ],
         "mode": "lines",
         "opacity": 0.3,
         "type": "scattergeo"
        },
        {
         "lat": [
          20.593684,
          -19.015438
         ],
         "line": {
          "color": "grey",
          "width": 1.6768265488326444
         },
         "lon": [
          78.96288,
          29.154857
         ],
         "mode": "lines",
         "opacity": 0.3,
         "type": "scattergeo"
        },
        {
         "lat": [
          20.593684,
          -16.290154
         ],
         "line": {
          "color": "grey",
          "width": 2.009332184637812
         },
         "lon": [
          78.96288,
          -63.588653
         ],
         "mode": "lines",
         "opacity": 0.3,
         "type": "scattergeo"
        },
        {
         "lat": [
          14.058324,
          35.86166
         ],
         "line": {
          "color": "#1f77b4",
          "width": 1.6906167817364262
         },
         "lon": [
          108.277199,
          104.195397
         ],
         "mode": "lines",
         "opacity": 0.3,
         "type": "scattergeo"
        },
        {
         "lat": [
          14.058324,
          20.593684
         ],
         "line": {
          "color": "#1f77b4",
          "width": 1.87042814146055
         },
         "lon": [
          108.277199,
          78.96288
         ],
         "mode": "lines",
         "opacity": 0.3,
         "type": "scattergeo"
        },
        {
         "lat": [
          14.058324,
          21.913965
         ],
         "line": {
          "color": "grey",
          "width": 7.611286836889073
         },
         "lon": [
          108.277199,
          95.956223
         ],
         "mode": "lines",
         "opacity": 0.3,
         "type": "scattergeo"
        },
        {
         "lat": [
          40.463667,
          35.86166
         ],
         "line": {
          "color": "#1f77b4",
          "width": 2.1099374138481477
         },
         "lon": [
          -3.74922,
          104.195397
         ],
         "mode": "lines",
         "opacity": 0.3,
         "type": "scattergeo"
        },
        {
         "lat": [
          40.463667,
          -35.675147
         ],
         "line": {
          "color": "#1f77b4",
          "width": 2.9355426752857503
         },
         "lon": [
          -3.74922,
          -71.542969
         ],
         "mode": "lines",
         "opacity": 0.3,
         "type": "scattergeo"
        },
        {
         "lat": [
          40.463667,
          38.963745
         ],
         "line": {
          "color": "#1f77b4",
          "width": 3.9902114224516754
         },
         "lon": [
          -3.74922,
          35.243322
         ],
         "mode": "lines",
         "opacity": 0.3,
         "type": "scattergeo"
        },
        {
         "lat": [
          40.463667,
          41.87194
         ],
         "line": {
          "color": "#1f77b4",
          "width": 8.570817651563258
         },
         "lon": [
          -3.74922,
          12.56738
         ],
         "mode": "lines",
         "opacity": 0.3,
         "type": "scattergeo"
        },
        {
         "lat": [
          46.227638,
          37.09024
         ],
         "line": {
          "color": "#1f77b4",
          "width": 1.8632047548447073
         },
         "lon": [
          2.213749,
          -95.712891
         ],
         "mode": "lines",
         "opacity": 0.3,
         "type": "scattergeo"
        },
        {
         "lat": [
          46.227638,
          38.963745
         ],
         "line": {
          "color": "#1f77b4",
          "width": 3.3760899756497595
         },
         "lon": [
          2.213749,
          35.243322
         ],
         "mode": "lines",
         "opacity": 0.3,
         "type": "scattergeo"
        },
        {
         "lat": [
          -35.675147,
          40.463667
         ],
         "line": {
          "color": "#1f77b4",
          "width": 2.9355426752857503
         },
         "lon": [
          -71.542969,
          -3.74922
         ],
         "mode": "lines",
         "opacity": 0.3,
         "type": "scattergeo"
        },
        {
         "lat": [
          -35.675147,
          38.963745
         ],
         "line": {
          "color": "#1f77b4",
          "width": 1.8801959157972898
         },
         "lon": [
          -71.542969,
          35.243322
         ],
         "mode": "lines",
         "opacity": 0.3,
         "type": "scattergeo"
        },
        {
         "lat": [
          -35.675147,
          41.87194
         ],
         "line": {
          "color": "#1f77b4",
          "width": 4.77428639943944
         },
         "lon": [
          -71.542969,
          12.56738
         ],
         "mode": "lines",
         "opacity": 0.3,
         "type": "scattergeo"
        },
        {
         "lat": [
          15.870032,
          20.593684
         ],
         "line": {
          "color": "#1f77b4",
          "width": 1.912253815082728
         },
         "lon": [
          100.992541,
          78.96288
         ],
         "mode": "lines",
         "opacity": 0.3,
         "type": "scattergeo"
        },
        {
         "lat": [
          15.870032,
          -14.235004
         ],
         "line": {
          "color": "grey",
          "width": 2.3236680609092133
         },
         "lon": [
          100.992541,
          -51.92528
         ],
         "mode": "lines",
         "opacity": 0.3,
         "type": "scattergeo"
        },
        {
         "lat": [
          15.870032,
          -19.015438
         ],
         "line": {
          "color": "grey",
          "width": 2.7516446169403634
         },
         "lon": [
          100.992541,
          29.154857
         ],
         "mode": "lines",
         "opacity": 0.3,
         "type": "scattergeo"
        },
        {
         "lat": [
          15.870032,
          -16.290154
         ],
         "line": {
          "color": "grey",
          "width": 1.9204428499357444
         },
         "lon": [
          100.992541,
          -63.588653
         ],
         "mode": "lines",
         "opacity": 0.3,
         "type": "scattergeo"
        },
        {
         "lat": [
          15.870032,
          4.570868
         ],
         "line": {
          "color": "grey",
          "width": 2.5378564205881737
         },
         "lon": [
          100.992541,
          -74.297333
         ],
         "mode": "lines",
         "opacity": 0.3,
         "type": "scattergeo"
        },
        {
         "lat": [
          38.963745,
          35.86166
         ],
         "line": {
          "color": "#1f77b4",
          "width": 2.5588345943712283
         },
         "lon": [
          35.243322,
          104.195397
         ],
         "mode": "lines",
         "opacity": 0.3,
         "type": "scattergeo"
        },
        {
         "lat": [
          38.963745,
          40.463667
         ],
         "line": {
          "color": "#1f77b4",
          "width": 3.9902114224516754
         },
         "lon": [
          35.243322,
          -3.74922
         ],
         "mode": "lines",
         "opacity": 0.3,
         "type": "scattergeo"
        },
        {
         "lat": [
          38.963745,
          46.227638
         ],
         "line": {
          "color": "#1f77b4",
          "width": 3.3760899756497595
         },
         "lon": [
          35.243322,
          2.213749
         ],
         "mode": "lines",
         "opacity": 0.3,
         "type": "scattergeo"
        },
        {
         "lat": [
          38.963745,
          -35.675147
         ],
         "line": {
          "color": "#1f77b4",
          "width": 1.8801959157972898
         },
         "lon": [
          35.243322,
          -71.542969
         ],
         "mode": "lines",
         "opacity": 0.3,
         "type": "scattergeo"
        },
        {
         "lat": [
          38.963745,
          41.87194
         ],
         "line": {
          "color": "#1f77b4",
          "width": 3.950967900458759
         },
         "lon": [
          35.243322,
          12.56738
         ],
         "mode": "lines",
         "opacity": 0.3,
         "type": "scattergeo"
        },
        {
         "lat": [
          41.87194,
          35.86166
         ],
         "line": {
          "color": "#1f77b4",
          "width": 2.5945120576945593
         },
         "lon": [
          12.56738,
          104.195397
         ],
         "mode": "lines",
         "opacity": 0.3,
         "type": "scattergeo"
        },
        {
         "lat": [
          41.87194,
          40.463667
         ],
         "line": {
          "color": "#1f77b4",
          "width": 8.570817651563258
         },
         "lon": [
          12.56738,
          -3.74922
         ],
         "mode": "lines",
         "opacity": 0.3,
         "type": "scattergeo"
        },
        {
         "lat": [
          41.87194,
          -35.675147
         ],
         "line": {
          "color": "#1f77b4",
          "width": 4.77428639943944
         },
         "lon": [
          12.56738,
          -71.542969
         ],
         "mode": "lines",
         "opacity": 0.3,
         "type": "scattergeo"
        },
        {
         "lat": [
          41.87194,
          38.963745
         ],
         "line": {
          "color": "#1f77b4",
          "width": 3.950967900458759
         },
         "lon": [
          12.56738,
          35.243322
         ],
         "mode": "lines",
         "opacity": 0.3,
         "type": "scattergeo"
        },
        {
         "lat": [
          -14.235004,
          15.870032
         ],
         "line": {
          "color": "grey",
          "width": 2.3236680609092133
         },
         "lon": [
          -51.92528,
          100.992541
         ],
         "mode": "lines",
         "opacity": 0.3,
         "type": "scattergeo"
        },
        {
         "lat": [
          -14.235004,
          -19.015438
         ],
         "line": {
          "color": "#ff7f0e",
          "width": 11.161269517932844
         },
         "lon": [
          -51.92528,
          29.154857
         ],
         "mode": "lines",
         "opacity": 0.3,
         "type": "scattergeo"
        },
        {
         "lat": [
          -14.235004,
          -16.290154
         ],
         "line": {
          "color": "#ff7f0e",
          "width": 3.052700333362475
         },
         "lon": [
          -51.92528,
          -63.588653
         ],
         "mode": "lines",
         "opacity": 0.3,
         "type": "scattergeo"
        },
        {
         "lat": [
          -14.235004,
          4.570868
         ],
         "line": {
          "color": "#ff7f0e",
          "width": 3.8053601963848487
         },
         "lon": [
          -51.92528,
          -74.297333
         ],
         "mode": "lines",
         "opacity": 0.3,
         "type": "scattergeo"
        },
        {
         "lat": [
          9.081999,
          -4.038333
         ],
         "line": {
          "color": "#ff7f0e",
          "width": 2.4359313123191226
         },
         "lon": [
          8.675277,
          21.758664
         ],
         "mode": "lines",
         "opacity": 0.3,
         "type": "scattergeo"
        },
        {
         "lat": [
          21.913965,
          20.593684
         ],
         "line": {
          "color": "grey",
          "width": 1.699026657158856
         },
         "lon": [
          95.956223,
          78.96288
         ],
         "mode": "lines",
         "opacity": 0.3,
         "type": "scattergeo"
        },
        {
         "lat": [
          21.913965,
          14.058324
         ],
         "line": {
          "color": "grey",
          "width": 7.611286836889073
         },
         "lon": [
          95.956223,
          108.277199
         ],
         "mode": "lines",
         "opacity": 0.3,
         "type": "scattergeo"
        },
        {
         "lat": [
          -19.015438,
          20.593684
         ],
         "line": {
          "color": "grey",
          "width": 1.6768265488326444
         },
         "lon": [
          29.154857,
          78.96288
         ],
         "mode": "lines",
         "opacity": 0.3,
         "type": "scattergeo"
        },
        {
         "lat": [
          -19.015438,
          15.870032
         ],
         "line": {
          "color": "grey",
          "width": 2.7516446169403634
         },
         "lon": [
          29.154857,
          100.992541
         ],
         "mode": "lines",
         "opacity": 0.3,
         "type": "scattergeo"
        },
        {
         "lat": [
          -19.015438,
          -14.235004
         ],
         "line": {
          "color": "#ff7f0e",
          "width": 11.161269517932844
         },
         "lon": [
          29.154857,
          -51.92528
         ],
         "mode": "lines",
         "opacity": 0.3,
         "type": "scattergeo"
        },
        {
         "lat": [
          -19.015438,
          -16.290154
         ],
         "line": {
          "color": "#ff7f0e",
          "width": 3.3573538999661534
         },
         "lon": [
          29.154857,
          -63.588653
         ],
         "mode": "lines",
         "opacity": 0.3,
         "type": "scattergeo"
        },
        {
         "lat": [
          -19.015438,
          4.570868
         ],
         "line": {
          "color": "#ff7f0e",
          "width": 3.2863159516352525
         },
         "lon": [
          29.154857,
          -74.297333
         ],
         "mode": "lines",
         "opacity": 0.3,
         "type": "scattergeo"
        },
        {
         "lat": [
          -16.290154,
          20.593684
         ],
         "line": {
          "color": "grey",
          "width": 2.009332184637812
         },
         "lon": [
          -63.588653,
          78.96288
         ],
         "mode": "lines",
         "opacity": 0.3,
         "type": "scattergeo"
        },
        {
         "lat": [
          -16.290154,
          15.870032
         ],
         "line": {
          "color": "grey",
          "width": 1.9204428499357444
         },
         "lon": [
          -63.588653,
          100.992541
         ],
         "mode": "lines",
         "opacity": 0.3,
         "type": "scattergeo"
        },
        {
         "lat": [
          -16.290154,
          -14.235004
         ],
         "line": {
          "color": "#ff7f0e",
          "width": 3.052700333362475
         },
         "lon": [
          -63.588653,
          -51.92528
         ],
         "mode": "lines",
         "opacity": 0.3,
         "type": "scattergeo"
        },
        {
         "lat": [
          -16.290154,
          -19.015438
         ],
         "line": {
          "color": "#ff7f0e",
          "width": 3.3573538999661534
         },
         "lon": [
          -63.588653,
          29.154857
         ],
         "mode": "lines",
         "opacity": 0.3,
         "type": "scattergeo"
        },
        {
         "lat": [
          -16.290154,
          4.570868
         ],
         "line": {
          "color": "#ff7f0e",
          "width": 1.8461406877319413
         },
         "lon": [
          -63.588653,
          -74.297333
         ],
         "mode": "lines",
         "opacity": 0.3,
         "type": "scattergeo"
        },
        {
         "lat": [
          -4.038333,
          9.081999
         ],
         "line": {
          "color": "#ff7f0e",
          "width": 2.4359313123191226
         },
         "lon": [
          21.758664,
          8.675277
         ],
         "mode": "lines",
         "opacity": 0.3,
         "type": "scattergeo"
        },
        {
         "lat": [
          -38.416097,
          37.09024
         ],
         "line": {
          "color": "grey",
          "width": 2.772680364763197
         },
         "lon": [
          -63.616672,
          -95.712891
         ],
         "mode": "lines",
         "opacity": 0.3,
         "type": "scattergeo"
        },
        {
         "lat": [
          4.570868,
          15.870032
         ],
         "line": {
          "color": "grey",
          "width": 2.5378564205881737
         },
         "lon": [
          -74.297333,
          100.992541
         ],
         "mode": "lines",
         "opacity": 0.3,
         "type": "scattergeo"
        },
        {
         "lat": [
          4.570868,
          -14.235004
         ],
         "line": {
          "color": "#ff7f0e",
          "width": 3.8053601963848487
         },
         "lon": [
          -74.297333,
          -51.92528
         ],
         "mode": "lines",
         "opacity": 0.3,
         "type": "scattergeo"
        },
        {
         "lat": [
          4.570868,
          -19.015438
         ],
         "line": {
          "color": "#ff7f0e",
          "width": 3.2863159516352525
         },
         "lon": [
          -74.297333,
          29.154857
         ],
         "mode": "lines",
         "opacity": 0.3,
         "type": "scattergeo"
        },
        {
         "lat": [
          4.570868,
          -16.290154
         ],
         "line": {
          "color": "#ff7f0e",
          "width": 1.8461406877319413
         },
         "lon": [
          -74.297333,
          -63.588653
         ],
         "mode": "lines",
         "opacity": 0.3,
         "type": "scattergeo"
        }
       ],
       "layout": {
        "geo": {
         "countrycolor": "rgb(204, 204, 204)",
         "landcolor": "rgb(243, 243, 243)",
         "showland": true
        },
        "legend": {
         "bgcolor": "LightSteelBlue",
         "bordercolor": "Black",
         "borderwidth": 2,
         "font": {
          "color": "black",
          "family": "sans-serif",
          "size": 12
         },
         "traceorder": "normal",
         "x": 0,
         "y": 1
        },
        "showlegend": false,
        "template": {
         "data": {
          "bar": [
           {
            "error_x": {
             "color": "#2a3f5f"
            },
            "error_y": {
             "color": "#2a3f5f"
            },
            "marker": {
             "line": {
              "color": "#E5ECF6",
              "width": 0.5
             }
            },
            "type": "bar"
           }
          ],
          "barpolar": [
           {
            "marker": {
             "line": {
              "color": "#E5ECF6",
              "width": 0.5
             }
            },
            "type": "barpolar"
           }
          ],
          "carpet": [
           {
            "aaxis": {
             "endlinecolor": "#2a3f5f",
             "gridcolor": "white",
             "linecolor": "white",
             "minorgridcolor": "white",
             "startlinecolor": "#2a3f5f"
            },
            "baxis": {
             "endlinecolor": "#2a3f5f",
             "gridcolor": "white",
             "linecolor": "white",
             "minorgridcolor": "white",
             "startlinecolor": "#2a3f5f"
            },
            "type": "carpet"
           }
          ],
          "choropleth": [
           {
            "colorbar": {
             "outlinewidth": 0,
             "ticks": ""
            },
            "type": "choropleth"
           }
          ],
          "contour": [
           {
            "colorbar": {
             "outlinewidth": 0,
             "ticks": ""
            },
            "colorscale": [
             [
              0,
              "#0d0887"
             ],
             [
              0.1111111111111111,
              "#46039f"
             ],
             [
              0.2222222222222222,
              "#7201a8"
             ],
             [
              0.3333333333333333,
              "#9c179e"
             ],
             [
              0.4444444444444444,
              "#bd3786"
             ],
             [
              0.5555555555555556,
              "#d8576b"
             ],
             [
              0.6666666666666666,
              "#ed7953"
             ],
             [
              0.7777777777777778,
              "#fb9f3a"
             ],
             [
              0.8888888888888888,
              "#fdca26"
             ],
             [
              1,
              "#f0f921"
             ]
            ],
            "type": "contour"
           }
          ],
          "contourcarpet": [
           {
            "colorbar": {
             "outlinewidth": 0,
             "ticks": ""
            },
            "type": "contourcarpet"
           }
          ],
          "heatmap": [
           {
            "colorbar": {
             "outlinewidth": 0,
             "ticks": ""
            },
            "colorscale": [
             [
              0,
              "#0d0887"
             ],
             [
              0.1111111111111111,
              "#46039f"
             ],
             [
              0.2222222222222222,
              "#7201a8"
             ],
             [
              0.3333333333333333,
              "#9c179e"
             ],
             [
              0.4444444444444444,
              "#bd3786"
             ],
             [
              0.5555555555555556,
              "#d8576b"
             ],
             [
              0.6666666666666666,
              "#ed7953"
             ],
             [
              0.7777777777777778,
              "#fb9f3a"
             ],
             [
              0.8888888888888888,
              "#fdca26"
             ],
             [
              1,
              "#f0f921"
             ]
            ],
            "type": "heatmap"
           }
          ],
          "heatmapgl": [
           {
            "colorbar": {
             "outlinewidth": 0,
             "ticks": ""
            },
            "colorscale": [
             [
              0,
              "#0d0887"
             ],
             [
              0.1111111111111111,
              "#46039f"
             ],
             [
              0.2222222222222222,
              "#7201a8"
             ],
             [
              0.3333333333333333,
              "#9c179e"
             ],
             [
              0.4444444444444444,
              "#bd3786"
             ],
             [
              0.5555555555555556,
              "#d8576b"
             ],
             [
              0.6666666666666666,
              "#ed7953"
             ],
             [
              0.7777777777777778,
              "#fb9f3a"
             ],
             [
              0.8888888888888888,
              "#fdca26"
             ],
             [
              1,
              "#f0f921"
             ]
            ],
            "type": "heatmapgl"
           }
          ],
          "histogram": [
           {
            "marker": {
             "colorbar": {
              "outlinewidth": 0,
              "ticks": ""
             }
            },
            "type": "histogram"
           }
          ],
          "histogram2d": [
           {
            "colorbar": {
             "outlinewidth": 0,
             "ticks": ""
            },
            "colorscale": [
             [
              0,
              "#0d0887"
             ],
             [
              0.1111111111111111,
              "#46039f"
             ],
             [
              0.2222222222222222,
              "#7201a8"
             ],
             [
              0.3333333333333333,
              "#9c179e"
             ],
             [
              0.4444444444444444,
              "#bd3786"
             ],
             [
              0.5555555555555556,
              "#d8576b"
             ],
             [
              0.6666666666666666,
              "#ed7953"
             ],
             [
              0.7777777777777778,
              "#fb9f3a"
             ],
             [
              0.8888888888888888,
              "#fdca26"
             ],
             [
              1,
              "#f0f921"
             ]
            ],
            "type": "histogram2d"
           }
          ],
          "histogram2dcontour": [
           {
            "colorbar": {
             "outlinewidth": 0,
             "ticks": ""
            },
            "colorscale": [
             [
              0,
              "#0d0887"
             ],
             [
              0.1111111111111111,
              "#46039f"
             ],
             [
              0.2222222222222222,
              "#7201a8"
             ],
             [
              0.3333333333333333,
              "#9c179e"
             ],
             [
              0.4444444444444444,
              "#bd3786"
             ],
             [
              0.5555555555555556,
              "#d8576b"
             ],
             [
              0.6666666666666666,
              "#ed7953"
             ],
             [
              0.7777777777777778,
              "#fb9f3a"
             ],
             [
              0.8888888888888888,
              "#fdca26"
             ],
             [
              1,
              "#f0f921"
             ]
            ],
            "type": "histogram2dcontour"
           }
          ],
          "mesh3d": [
           {
            "colorbar": {
             "outlinewidth": 0,
             "ticks": ""
            },
            "type": "mesh3d"
           }
          ],
          "parcoords": [
           {
            "line": {
             "colorbar": {
              "outlinewidth": 0,
              "ticks": ""
             }
            },
            "type": "parcoords"
           }
          ],
          "pie": [
           {
            "automargin": true,
            "type": "pie"
           }
          ],
          "scatter": [
           {
            "marker": {
             "colorbar": {
              "outlinewidth": 0,
              "ticks": ""
             }
            },
            "type": "scatter"
           }
          ],
          "scatter3d": [
           {
            "line": {
             "colorbar": {
              "outlinewidth": 0,
              "ticks": ""
             }
            },
            "marker": {
             "colorbar": {
              "outlinewidth": 0,
              "ticks": ""
             }
            },
            "type": "scatter3d"
           }
          ],
          "scattercarpet": [
           {
            "marker": {
             "colorbar": {
              "outlinewidth": 0,
              "ticks": ""
             }
            },
            "type": "scattercarpet"
           }
          ],
          "scattergeo": [
           {
            "marker": {
             "colorbar": {
              "outlinewidth": 0,
              "ticks": ""
             }
            },
            "type": "scattergeo"
           }
          ],
          "scattergl": [
           {
            "marker": {
             "colorbar": {
              "outlinewidth": 0,
              "ticks": ""
             }
            },
            "type": "scattergl"
           }
          ],
          "scattermapbox": [
           {
            "marker": {
             "colorbar": {
              "outlinewidth": 0,
              "ticks": ""
             }
            },
            "type": "scattermapbox"
           }
          ],
          "scatterpolar": [
           {
            "marker": {
             "colorbar": {
              "outlinewidth": 0,
              "ticks": ""
             }
            },
            "type": "scatterpolar"
           }
          ],
          "scatterpolargl": [
           {
            "marker": {
             "colorbar": {
              "outlinewidth": 0,
              "ticks": ""
             }
            },
            "type": "scatterpolargl"
           }
          ],
          "scatterternary": [
           {
            "marker": {
             "colorbar": {
              "outlinewidth": 0,
              "ticks": ""
             }
            },
            "type": "scatterternary"
           }
          ],
          "surface": [
           {
            "colorbar": {
             "outlinewidth": 0,
             "ticks": ""
            },
            "colorscale": [
             [
              0,
              "#0d0887"
             ],
             [
              0.1111111111111111,
              "#46039f"
             ],
             [
              0.2222222222222222,
              "#7201a8"
             ],
             [
              0.3333333333333333,
              "#9c179e"
             ],
             [
              0.4444444444444444,
              "#bd3786"
             ],
             [
              0.5555555555555556,
              "#d8576b"
             ],
             [
              0.6666666666666666,
              "#ed7953"
             ],
             [
              0.7777777777777778,
              "#fb9f3a"
             ],
             [
              0.8888888888888888,
              "#fdca26"
             ],
             [
              1,
              "#f0f921"
             ]
            ],
            "type": "surface"
           }
          ],
          "table": [
           {
            "cells": {
             "fill": {
              "color": "#EBF0F8"
             },
             "line": {
              "color": "white"
             }
            },
            "header": {
             "fill": {
              "color": "#C8D4E3"
             },
             "line": {
              "color": "white"
             }
            },
            "type": "table"
           }
          ]
         },
         "layout": {
          "annotationdefaults": {
           "arrowcolor": "#2a3f5f",
           "arrowhead": 0,
           "arrowwidth": 1
          },
          "coloraxis": {
           "colorbar": {
            "outlinewidth": 0,
            "ticks": ""
           }
          },
          "colorscale": {
           "diverging": [
            [
             0,
             "#8e0152"
            ],
            [
             0.1,
             "#c51b7d"
            ],
            [
             0.2,
             "#de77ae"
            ],
            [
             0.3,
             "#f1b6da"
            ],
            [
             0.4,
             "#fde0ef"
            ],
            [
             0.5,
             "#f7f7f7"
            ],
            [
             0.6,
             "#e6f5d0"
            ],
            [
             0.7,
             "#b8e186"
            ],
            [
             0.8,
             "#7fbc41"
            ],
            [
             0.9,
             "#4d9221"
            ],
            [
             1,
             "#276419"
            ]
           ],
           "sequential": [
            [
             0,
             "#0d0887"
            ],
            [
             0.1111111111111111,
             "#46039f"
            ],
            [
             0.2222222222222222,
             "#7201a8"
            ],
            [
             0.3333333333333333,
             "#9c179e"
            ],
            [
             0.4444444444444444,
             "#bd3786"
            ],
            [
             0.5555555555555556,
             "#d8576b"
            ],
            [
             0.6666666666666666,
             "#ed7953"
            ],
            [
             0.7777777777777778,
             "#fb9f3a"
            ],
            [
             0.8888888888888888,
             "#fdca26"
            ],
            [
             1,
             "#f0f921"
            ]
           ],
           "sequentialminus": [
            [
             0,
             "#0d0887"
            ],
            [
             0.1111111111111111,
             "#46039f"
            ],
            [
             0.2222222222222222,
             "#7201a8"
            ],
            [
             0.3333333333333333,
             "#9c179e"
            ],
            [
             0.4444444444444444,
             "#bd3786"
            ],
            [
             0.5555555555555556,
             "#d8576b"
            ],
            [
             0.6666666666666666,
             "#ed7953"
            ],
            [
             0.7777777777777778,
             "#fb9f3a"
            ],
            [
             0.8888888888888888,
             "#fdca26"
            ],
            [
             1,
             "#f0f921"
            ]
           ]
          },
          "colorway": [
           "#636efa",
           "#EF553B",
           "#00cc96",
           "#ab63fa",
           "#FFA15A",
           "#19d3f3",
           "#FF6692",
           "#B6E880",
           "#FF97FF",
           "#FECB52"
          ],
          "font": {
           "color": "#2a3f5f"
          },
          "geo": {
           "bgcolor": "white",
           "lakecolor": "white",
           "landcolor": "#E5ECF6",
           "showlakes": true,
           "showland": true,
           "subunitcolor": "white"
          },
          "hoverlabel": {
           "align": "left"
          },
          "hovermode": "closest",
          "mapbox": {
           "style": "light"
          },
          "paper_bgcolor": "white",
          "plot_bgcolor": "#E5ECF6",
          "polar": {
           "angularaxis": {
            "gridcolor": "white",
            "linecolor": "white",
            "ticks": ""
           },
           "bgcolor": "#E5ECF6",
           "radialaxis": {
            "gridcolor": "white",
            "linecolor": "white",
            "ticks": ""
           }
          },
          "scene": {
           "xaxis": {
            "backgroundcolor": "#E5ECF6",
            "gridcolor": "white",
            "gridwidth": 2,
            "linecolor": "white",
            "showbackground": true,
            "ticks": "",
            "zerolinecolor": "white"
           },
           "yaxis": {
            "backgroundcolor": "#E5ECF6",
            "gridcolor": "white",
            "gridwidth": 2,
            "linecolor": "white",
            "showbackground": true,
            "ticks": "",
            "zerolinecolor": "white"
           },
           "zaxis": {
            "backgroundcolor": "#E5ECF6",
            "gridcolor": "white",
            "gridwidth": 2,
            "linecolor": "white",
            "showbackground": true,
            "ticks": "",
            "zerolinecolor": "white"
           }
          },
          "shapedefaults": {
           "line": {
            "color": "#2a3f5f"
           }
          },
          "ternary": {
           "aaxis": {
            "gridcolor": "white",
            "linecolor": "white",
            "ticks": ""
           },
           "baxis": {
            "gridcolor": "white",
            "linecolor": "white",
            "ticks": ""
           },
           "bgcolor": "#E5ECF6",
           "caxis": {
            "gridcolor": "white",
            "linecolor": "white",
            "ticks": ""
           }
          },
          "title": {
           "x": 0.05
          },
          "xaxis": {
           "automargin": true,
           "gridcolor": "white",
           "linecolor": "white",
           "ticks": "",
           "title": {
            "standoff": 15
           },
           "zerolinecolor": "white",
           "zerolinewidth": 2
          },
          "yaxis": {
           "automargin": true,
           "gridcolor": "white",
           "linecolor": "white",
           "ticks": "",
           "title": {
            "standoff": 15
           },
           "zerolinecolor": "white",
           "zerolinewidth": 2
          }
         }
        },
        "title": {
         "text": ""
        }
       }
      },
      "text/html": [
       "<div>\n",
       "        \n",
       "        \n",
       "            <div id=\"2977e773-a894-4e40-9e75-c5cbcfc5d17b\" class=\"plotly-graph-div\" style=\"height:525px; width:100%;\"></div>\n",
       "            <script type=\"text/javascript\">\n",
       "                require([\"plotly\"], function(Plotly) {\n",
       "                    window.PLOTLYENV=window.PLOTLYENV || {};\n",
       "                    \n",
       "                if (document.getElementById(\"2977e773-a894-4e40-9e75-c5cbcfc5d17b\")) {\n",
       "                    Plotly.newPlot(\n",
       "                        '2977e773-a894-4e40-9e75-c5cbcfc5d17b',\n",
       "                        [{\"hoverinfo\": \"text\", \"lat\": [35.86166, 37.09024, 20.593684, 14.058324, 40.463667, 46.227638, -35.675147, 15.870032, 38.963745, 41.87194, -14.235004, -0.789275, 9.081999, 21.913965, -6.369028, -19.015438, -16.290154, -4.038333, -38.416097, 4.570868], \"lon\": [104.195397, -95.712891, 78.96288, 108.277199, -3.74922, 2.213749, -71.542969, 100.992541, 35.243322, 12.56738, -51.92528, 113.921327, 8.675277, 95.956223, 34.888822, 29.154857, -63.588653, 21.758664, -63.616672, -74.297333], \"marker\": {\"color\": [\"#1f77b4\", \"#1f77b4\", \"#1f77b4\", \"#1f77b4\", \"#1f77b4\", \"#1f77b4\", \"#1f77b4\", \"#1f77b4\", \"#1f77b4\", \"#1f77b4\", \"#ff7f0e\", \"#ff7f0e\", \"#ff7f0e\", \"#ff7f0e\", \"#ff7f0e\", \"#ff7f0e\", \"#ff7f0e\", \"#ff7f0e\", \"#ff7f0e\", \"#ff7f0e\"], \"line\": {\"color\": \"rgba(68, 68, 68, 0)\", \"width\": 3}, \"opacity\": 1, \"size\": [33.714534447160574, 6.717461739448861, 5.970276648311063, 4.845211247042075, 4.156241512424634, 2.3450622890996353, 2.272324554129759, 2.202180657733695, 1.9305708182829067, 1.5800872432526905, 34.657359027997266, 20.86627274933267, 8.807606665923352, 8.757114361708124, 8.506265143999391, 7.091805113675916, 7.033830305805592, 6.832438302054809, 6.747052402814578, 5.274640350895481]}, \"mode\": \"markers\", \"text\": [\"China\", \"United States of America\", \"India\", \"Viet Nam\", \"Spain\", \"France\", \"Chile\", \"Thailand\", \"Turkey\", \"Italy\", \"Brazil\", \"Indonesia\", \"Nigeria\", \"Myanmar\", \"United Republic of Tanzania\", \"Zimbabwe\", \"Bolivia (Plurinational State of)\", \"Democratic Republic of the Congo\", \"Argentina\", \"Colombia\"], \"type\": \"scattergeo\"}, {\"lat\": [35.86166, 14.058324], \"line\": {\"color\": \"#1f77b4\", \"width\": 1.6906167817364262}, \"lon\": [104.195397, 108.277199], \"mode\": \"lines\", \"opacity\": 0.3, \"type\": \"scattergeo\"}, {\"lat\": [35.86166, 40.463667], \"line\": {\"color\": \"#1f77b4\", \"width\": 2.1099374138481477}, \"lon\": [104.195397, -3.74922], \"mode\": \"lines\", \"opacity\": 0.3, \"type\": \"scattergeo\"}, {\"lat\": [35.86166, 38.963745], \"line\": {\"color\": \"#1f77b4\", \"width\": 2.5588345943712283}, \"lon\": [104.195397, 35.243322], \"mode\": \"lines\", \"opacity\": 0.3, \"type\": \"scattergeo\"}, {\"lat\": [35.86166, 41.87194], \"line\": {\"color\": \"#1f77b4\", \"width\": 2.5945120576945593}, \"lon\": [104.195397, 12.56738], \"mode\": \"lines\", \"opacity\": 0.3, \"type\": \"scattergeo\"}, {\"lat\": [37.09024, 46.227638], \"line\": {\"color\": \"#1f77b4\", \"width\": 1.8632047548447073}, \"lon\": [-95.712891, 2.213749], \"mode\": \"lines\", \"opacity\": 0.3, \"type\": \"scattergeo\"}, {\"lat\": [37.09024, -38.416097], \"line\": {\"color\": \"grey\", \"width\": 2.772680364763197}, \"lon\": [-95.712891, -63.616672], \"mode\": \"lines\", \"opacity\": 0.3, \"type\": \"scattergeo\"}, {\"lat\": [20.593684, 14.058324], \"line\": {\"color\": \"#1f77b4\", \"width\": 1.87042814146055}, \"lon\": [78.96288, 108.277199], \"mode\": \"lines\", \"opacity\": 0.3, \"type\": \"scattergeo\"}, {\"lat\": [20.593684, 15.870032], \"line\": {\"color\": \"#1f77b4\", \"width\": 1.912253815082728}, \"lon\": [78.96288, 100.992541], \"mode\": \"lines\", \"opacity\": 0.3, \"type\": \"scattergeo\"}, {\"lat\": [20.593684, 21.913965], \"line\": {\"color\": \"grey\", \"width\": 1.699026657158856}, \"lon\": [78.96288, 95.956223], \"mode\": \"lines\", \"opacity\": 0.3, \"type\": \"scattergeo\"}, {\"lat\": [20.593684, -19.015438], \"line\": {\"color\": \"grey\", \"width\": 1.6768265488326444}, \"lon\": [78.96288, 29.154857], \"mode\": \"lines\", \"opacity\": 0.3, \"type\": \"scattergeo\"}, {\"lat\": [20.593684, -16.290154], \"line\": {\"color\": \"grey\", \"width\": 2.009332184637812}, \"lon\": [78.96288, -63.588653], \"mode\": \"lines\", \"opacity\": 0.3, \"type\": \"scattergeo\"}, {\"lat\": [14.058324, 35.86166], \"line\": {\"color\": \"#1f77b4\", \"width\": 1.6906167817364262}, \"lon\": [108.277199, 104.195397], \"mode\": \"lines\", \"opacity\": 0.3, \"type\": \"scattergeo\"}, {\"lat\": [14.058324, 20.593684], \"line\": {\"color\": \"#1f77b4\", \"width\": 1.87042814146055}, \"lon\": [108.277199, 78.96288], \"mode\": \"lines\", \"opacity\": 0.3, \"type\": \"scattergeo\"}, {\"lat\": [14.058324, 21.913965], \"line\": {\"color\": \"grey\", \"width\": 7.611286836889073}, \"lon\": [108.277199, 95.956223], \"mode\": \"lines\", \"opacity\": 0.3, \"type\": \"scattergeo\"}, {\"lat\": [40.463667, 35.86166], \"line\": {\"color\": \"#1f77b4\", \"width\": 2.1099374138481477}, \"lon\": [-3.74922, 104.195397], \"mode\": \"lines\", \"opacity\": 0.3, \"type\": \"scattergeo\"}, {\"lat\": [40.463667, -35.675147], \"line\": {\"color\": \"#1f77b4\", \"width\": 2.9355426752857503}, \"lon\": [-3.74922, -71.542969], \"mode\": \"lines\", \"opacity\": 0.3, \"type\": \"scattergeo\"}, {\"lat\": [40.463667, 38.963745], \"line\": {\"color\": \"#1f77b4\", \"width\": 3.9902114224516754}, \"lon\": [-3.74922, 35.243322], \"mode\": \"lines\", \"opacity\": 0.3, \"type\": \"scattergeo\"}, {\"lat\": [40.463667, 41.87194], \"line\": {\"color\": \"#1f77b4\", \"width\": 8.570817651563258}, \"lon\": [-3.74922, 12.56738], \"mode\": \"lines\", \"opacity\": 0.3, \"type\": \"scattergeo\"}, {\"lat\": [46.227638, 37.09024], \"line\": {\"color\": \"#1f77b4\", \"width\": 1.8632047548447073}, \"lon\": [2.213749, -95.712891], \"mode\": \"lines\", \"opacity\": 0.3, \"type\": \"scattergeo\"}, {\"lat\": [46.227638, 38.963745], \"line\": {\"color\": \"#1f77b4\", \"width\": 3.3760899756497595}, \"lon\": [2.213749, 35.243322], \"mode\": \"lines\", \"opacity\": 0.3, \"type\": \"scattergeo\"}, {\"lat\": [-35.675147, 40.463667], \"line\": {\"color\": \"#1f77b4\", \"width\": 2.9355426752857503}, \"lon\": [-71.542969, -3.74922], \"mode\": \"lines\", \"opacity\": 0.3, \"type\": \"scattergeo\"}, {\"lat\": [-35.675147, 38.963745], \"line\": {\"color\": \"#1f77b4\", \"width\": 1.8801959157972898}, \"lon\": [-71.542969, 35.243322], \"mode\": \"lines\", \"opacity\": 0.3, \"type\": \"scattergeo\"}, {\"lat\": [-35.675147, 41.87194], \"line\": {\"color\": \"#1f77b4\", \"width\": 4.77428639943944}, \"lon\": [-71.542969, 12.56738], \"mode\": \"lines\", \"opacity\": 0.3, \"type\": \"scattergeo\"}, {\"lat\": [15.870032, 20.593684], \"line\": {\"color\": \"#1f77b4\", \"width\": 1.912253815082728}, \"lon\": [100.992541, 78.96288], \"mode\": \"lines\", \"opacity\": 0.3, \"type\": \"scattergeo\"}, {\"lat\": [15.870032, -14.235004], \"line\": {\"color\": \"grey\", \"width\": 2.3236680609092133}, \"lon\": [100.992541, -51.92528], \"mode\": \"lines\", \"opacity\": 0.3, \"type\": \"scattergeo\"}, {\"lat\": [15.870032, -19.015438], \"line\": {\"color\": \"grey\", \"width\": 2.7516446169403634}, \"lon\": [100.992541, 29.154857], \"mode\": \"lines\", \"opacity\": 0.3, \"type\": \"scattergeo\"}, {\"lat\": [15.870032, -16.290154], \"line\": {\"color\": \"grey\", \"width\": 1.9204428499357444}, \"lon\": [100.992541, -63.588653], \"mode\": \"lines\", \"opacity\": 0.3, \"type\": \"scattergeo\"}, {\"lat\": [15.870032, 4.570868], \"line\": {\"color\": \"grey\", \"width\": 2.5378564205881737}, \"lon\": [100.992541, -74.297333], \"mode\": \"lines\", \"opacity\": 0.3, \"type\": \"scattergeo\"}, {\"lat\": [38.963745, 35.86166], \"line\": {\"color\": \"#1f77b4\", \"width\": 2.5588345943712283}, \"lon\": [35.243322, 104.195397], \"mode\": \"lines\", \"opacity\": 0.3, \"type\": \"scattergeo\"}, {\"lat\": [38.963745, 40.463667], \"line\": {\"color\": \"#1f77b4\", \"width\": 3.9902114224516754}, \"lon\": [35.243322, -3.74922], \"mode\": \"lines\", \"opacity\": 0.3, \"type\": \"scattergeo\"}, {\"lat\": [38.963745, 46.227638], \"line\": {\"color\": \"#1f77b4\", \"width\": 3.3760899756497595}, \"lon\": [35.243322, 2.213749], \"mode\": \"lines\", \"opacity\": 0.3, \"type\": \"scattergeo\"}, {\"lat\": [38.963745, -35.675147], \"line\": {\"color\": \"#1f77b4\", \"width\": 1.8801959157972898}, \"lon\": [35.243322, -71.542969], \"mode\": \"lines\", \"opacity\": 0.3, \"type\": \"scattergeo\"}, {\"lat\": [38.963745, 41.87194], \"line\": {\"color\": \"#1f77b4\", \"width\": 3.950967900458759}, \"lon\": [35.243322, 12.56738], \"mode\": \"lines\", \"opacity\": 0.3, \"type\": \"scattergeo\"}, {\"lat\": [41.87194, 35.86166], \"line\": {\"color\": \"#1f77b4\", \"width\": 2.5945120576945593}, \"lon\": [12.56738, 104.195397], \"mode\": \"lines\", \"opacity\": 0.3, \"type\": \"scattergeo\"}, {\"lat\": [41.87194, 40.463667], \"line\": {\"color\": \"#1f77b4\", \"width\": 8.570817651563258}, \"lon\": [12.56738, -3.74922], \"mode\": \"lines\", \"opacity\": 0.3, \"type\": \"scattergeo\"}, {\"lat\": [41.87194, -35.675147], \"line\": {\"color\": \"#1f77b4\", \"width\": 4.77428639943944}, \"lon\": [12.56738, -71.542969], \"mode\": \"lines\", \"opacity\": 0.3, \"type\": \"scattergeo\"}, {\"lat\": [41.87194, 38.963745], \"line\": {\"color\": \"#1f77b4\", \"width\": 3.950967900458759}, \"lon\": [12.56738, 35.243322], \"mode\": \"lines\", \"opacity\": 0.3, \"type\": \"scattergeo\"}, {\"lat\": [-14.235004, 15.870032], \"line\": {\"color\": \"grey\", \"width\": 2.3236680609092133}, \"lon\": [-51.92528, 100.992541], \"mode\": \"lines\", \"opacity\": 0.3, \"type\": \"scattergeo\"}, {\"lat\": [-14.235004, -19.015438], \"line\": {\"color\": \"#ff7f0e\", \"width\": 11.161269517932844}, \"lon\": [-51.92528, 29.154857], \"mode\": \"lines\", \"opacity\": 0.3, \"type\": \"scattergeo\"}, {\"lat\": [-14.235004, -16.290154], \"line\": {\"color\": \"#ff7f0e\", \"width\": 3.052700333362475}, \"lon\": [-51.92528, -63.588653], \"mode\": \"lines\", \"opacity\": 0.3, \"type\": \"scattergeo\"}, {\"lat\": [-14.235004, 4.570868], \"line\": {\"color\": \"#ff7f0e\", \"width\": 3.8053601963848487}, \"lon\": [-51.92528, -74.297333], \"mode\": \"lines\", \"opacity\": 0.3, \"type\": \"scattergeo\"}, {\"lat\": [9.081999, -4.038333], \"line\": {\"color\": \"#ff7f0e\", \"width\": 2.4359313123191226}, \"lon\": [8.675277, 21.758664], \"mode\": \"lines\", \"opacity\": 0.3, \"type\": \"scattergeo\"}, {\"lat\": [21.913965, 20.593684], \"line\": {\"color\": \"grey\", \"width\": 1.699026657158856}, \"lon\": [95.956223, 78.96288], \"mode\": \"lines\", \"opacity\": 0.3, \"type\": \"scattergeo\"}, {\"lat\": [21.913965, 14.058324], \"line\": {\"color\": \"grey\", \"width\": 7.611286836889073}, \"lon\": [95.956223, 108.277199], \"mode\": \"lines\", \"opacity\": 0.3, \"type\": \"scattergeo\"}, {\"lat\": [-19.015438, 20.593684], \"line\": {\"color\": \"grey\", \"width\": 1.6768265488326444}, \"lon\": [29.154857, 78.96288], \"mode\": \"lines\", \"opacity\": 0.3, \"type\": \"scattergeo\"}, {\"lat\": [-19.015438, 15.870032], \"line\": {\"color\": \"grey\", \"width\": 2.7516446169403634}, \"lon\": [29.154857, 100.992541], \"mode\": \"lines\", \"opacity\": 0.3, \"type\": \"scattergeo\"}, {\"lat\": [-19.015438, -14.235004], \"line\": {\"color\": \"#ff7f0e\", \"width\": 11.161269517932844}, \"lon\": [29.154857, -51.92528], \"mode\": \"lines\", \"opacity\": 0.3, \"type\": \"scattergeo\"}, {\"lat\": [-19.015438, -16.290154], \"line\": {\"color\": \"#ff7f0e\", \"width\": 3.3573538999661534}, \"lon\": [29.154857, -63.588653], \"mode\": \"lines\", \"opacity\": 0.3, \"type\": \"scattergeo\"}, {\"lat\": [-19.015438, 4.570868], \"line\": {\"color\": \"#ff7f0e\", \"width\": 3.2863159516352525}, \"lon\": [29.154857, -74.297333], \"mode\": \"lines\", \"opacity\": 0.3, \"type\": \"scattergeo\"}, {\"lat\": [-16.290154, 20.593684], \"line\": {\"color\": \"grey\", \"width\": 2.009332184637812}, \"lon\": [-63.588653, 78.96288], \"mode\": \"lines\", \"opacity\": 0.3, \"type\": \"scattergeo\"}, {\"lat\": [-16.290154, 15.870032], \"line\": {\"color\": \"grey\", \"width\": 1.9204428499357444}, \"lon\": [-63.588653, 100.992541], \"mode\": \"lines\", \"opacity\": 0.3, \"type\": \"scattergeo\"}, {\"lat\": [-16.290154, -14.235004], \"line\": {\"color\": \"#ff7f0e\", \"width\": 3.052700333362475}, \"lon\": [-63.588653, -51.92528], \"mode\": \"lines\", \"opacity\": 0.3, \"type\": \"scattergeo\"}, {\"lat\": [-16.290154, -19.015438], \"line\": {\"color\": \"#ff7f0e\", \"width\": 3.3573538999661534}, \"lon\": [-63.588653, 29.154857], \"mode\": \"lines\", \"opacity\": 0.3, \"type\": \"scattergeo\"}, {\"lat\": [-16.290154, 4.570868], \"line\": {\"color\": \"#ff7f0e\", \"width\": 1.8461406877319413}, \"lon\": [-63.588653, -74.297333], \"mode\": \"lines\", \"opacity\": 0.3, \"type\": \"scattergeo\"}, {\"lat\": [-4.038333, 9.081999], \"line\": {\"color\": \"#ff7f0e\", \"width\": 2.4359313123191226}, \"lon\": [21.758664, 8.675277], \"mode\": \"lines\", \"opacity\": 0.3, \"type\": \"scattergeo\"}, {\"lat\": [-38.416097, 37.09024], \"line\": {\"color\": \"grey\", \"width\": 2.772680364763197}, \"lon\": [-63.616672, -95.712891], \"mode\": \"lines\", \"opacity\": 0.3, \"type\": \"scattergeo\"}, {\"lat\": [4.570868, 15.870032], \"line\": {\"color\": \"grey\", \"width\": 2.5378564205881737}, \"lon\": [-74.297333, 100.992541], \"mode\": \"lines\", \"opacity\": 0.3, \"type\": \"scattergeo\"}, {\"lat\": [4.570868, -14.235004], \"line\": {\"color\": \"#ff7f0e\", \"width\": 3.8053601963848487}, \"lon\": [-74.297333, -51.92528], \"mode\": \"lines\", \"opacity\": 0.3, \"type\": \"scattergeo\"}, {\"lat\": [4.570868, -19.015438], \"line\": {\"color\": \"#ff7f0e\", \"width\": 3.2863159516352525}, \"lon\": [-74.297333, 29.154857], \"mode\": \"lines\", \"opacity\": 0.3, \"type\": \"scattergeo\"}, {\"lat\": [4.570868, -16.290154], \"line\": {\"color\": \"#ff7f0e\", \"width\": 1.8461406877319413}, \"lon\": [-74.297333, -63.588653], \"mode\": \"lines\", \"opacity\": 0.3, \"type\": \"scattergeo\"}],\n",
       "                        {\"geo\": {\"countrycolor\": \"rgb(204, 204, 204)\", \"landcolor\": \"rgb(243, 243, 243)\", \"showland\": true}, \"legend\": {\"bgcolor\": \"LightSteelBlue\", \"bordercolor\": \"Black\", \"borderwidth\": 2, \"font\": {\"color\": \"black\", \"family\": \"sans-serif\", \"size\": 12}, \"traceorder\": \"normal\", \"x\": 0, \"y\": 1}, \"showlegend\": false, \"template\": {\"data\": {\"bar\": [{\"error_x\": {\"color\": \"#2a3f5f\"}, \"error_y\": {\"color\": \"#2a3f5f\"}, \"marker\": {\"line\": {\"color\": \"#E5ECF6\", \"width\": 0.5}}, \"type\": \"bar\"}], \"barpolar\": [{\"marker\": {\"line\": {\"color\": \"#E5ECF6\", \"width\": 0.5}}, \"type\": \"barpolar\"}], \"carpet\": [{\"aaxis\": {\"endlinecolor\": \"#2a3f5f\", \"gridcolor\": \"white\", \"linecolor\": \"white\", \"minorgridcolor\": \"white\", \"startlinecolor\": \"#2a3f5f\"}, \"baxis\": {\"endlinecolor\": \"#2a3f5f\", \"gridcolor\": \"white\", \"linecolor\": \"white\", \"minorgridcolor\": \"white\", \"startlinecolor\": \"#2a3f5f\"}, \"type\": \"carpet\"}], \"choropleth\": [{\"colorbar\": {\"outlinewidth\": 0, \"ticks\": \"\"}, \"type\": \"choropleth\"}], \"contour\": [{\"colorbar\": {\"outlinewidth\": 0, \"ticks\": \"\"}, \"colorscale\": [[0.0, \"#0d0887\"], [0.1111111111111111, \"#46039f\"], [0.2222222222222222, \"#7201a8\"], [0.3333333333333333, \"#9c179e\"], [0.4444444444444444, \"#bd3786\"], [0.5555555555555556, \"#d8576b\"], [0.6666666666666666, \"#ed7953\"], [0.7777777777777778, \"#fb9f3a\"], [0.8888888888888888, \"#fdca26\"], [1.0, \"#f0f921\"]], \"type\": \"contour\"}], \"contourcarpet\": [{\"colorbar\": {\"outlinewidth\": 0, \"ticks\": \"\"}, \"type\": \"contourcarpet\"}], \"heatmap\": [{\"colorbar\": {\"outlinewidth\": 0, \"ticks\": \"\"}, \"colorscale\": [[0.0, \"#0d0887\"], [0.1111111111111111, \"#46039f\"], [0.2222222222222222, \"#7201a8\"], [0.3333333333333333, \"#9c179e\"], [0.4444444444444444, \"#bd3786\"], [0.5555555555555556, \"#d8576b\"], [0.6666666666666666, \"#ed7953\"], [0.7777777777777778, \"#fb9f3a\"], [0.8888888888888888, \"#fdca26\"], [1.0, \"#f0f921\"]], \"type\": \"heatmap\"}], \"heatmapgl\": [{\"colorbar\": {\"outlinewidth\": 0, \"ticks\": \"\"}, \"colorscale\": [[0.0, \"#0d0887\"], [0.1111111111111111, \"#46039f\"], [0.2222222222222222, \"#7201a8\"], [0.3333333333333333, \"#9c179e\"], [0.4444444444444444, \"#bd3786\"], [0.5555555555555556, \"#d8576b\"], [0.6666666666666666, \"#ed7953\"], [0.7777777777777778, \"#fb9f3a\"], [0.8888888888888888, \"#fdca26\"], [1.0, \"#f0f921\"]], \"type\": \"heatmapgl\"}], \"histogram\": [{\"marker\": {\"colorbar\": {\"outlinewidth\": 0, \"ticks\": \"\"}}, \"type\": \"histogram\"}], \"histogram2d\": [{\"colorbar\": {\"outlinewidth\": 0, \"ticks\": \"\"}, \"colorscale\": [[0.0, \"#0d0887\"], [0.1111111111111111, \"#46039f\"], [0.2222222222222222, \"#7201a8\"], [0.3333333333333333, \"#9c179e\"], [0.4444444444444444, \"#bd3786\"], [0.5555555555555556, \"#d8576b\"], [0.6666666666666666, \"#ed7953\"], [0.7777777777777778, \"#fb9f3a\"], [0.8888888888888888, \"#fdca26\"], [1.0, \"#f0f921\"]], \"type\": \"histogram2d\"}], \"histogram2dcontour\": [{\"colorbar\": {\"outlinewidth\": 0, \"ticks\": \"\"}, \"colorscale\": [[0.0, \"#0d0887\"], [0.1111111111111111, \"#46039f\"], [0.2222222222222222, \"#7201a8\"], [0.3333333333333333, \"#9c179e\"], [0.4444444444444444, \"#bd3786\"], [0.5555555555555556, \"#d8576b\"], [0.6666666666666666, \"#ed7953\"], [0.7777777777777778, \"#fb9f3a\"], [0.8888888888888888, \"#fdca26\"], [1.0, \"#f0f921\"]], \"type\": \"histogram2dcontour\"}], \"mesh3d\": [{\"colorbar\": {\"outlinewidth\": 0, \"ticks\": \"\"}, \"type\": \"mesh3d\"}], \"parcoords\": [{\"line\": {\"colorbar\": {\"outlinewidth\": 0, \"ticks\": \"\"}}, \"type\": \"parcoords\"}], \"pie\": [{\"automargin\": true, \"type\": \"pie\"}], \"scatter\": [{\"marker\": {\"colorbar\": {\"outlinewidth\": 0, \"ticks\": \"\"}}, \"type\": \"scatter\"}], \"scatter3d\": [{\"line\": {\"colorbar\": {\"outlinewidth\": 0, \"ticks\": \"\"}}, \"marker\": {\"colorbar\": {\"outlinewidth\": 0, \"ticks\": \"\"}}, \"type\": \"scatter3d\"}], \"scattercarpet\": [{\"marker\": {\"colorbar\": {\"outlinewidth\": 0, \"ticks\": \"\"}}, \"type\": \"scattercarpet\"}], \"scattergeo\": [{\"marker\": {\"colorbar\": {\"outlinewidth\": 0, \"ticks\": \"\"}}, \"type\": \"scattergeo\"}], \"scattergl\": [{\"marker\": {\"colorbar\": {\"outlinewidth\": 0, \"ticks\": \"\"}}, \"type\": \"scattergl\"}], \"scattermapbox\": [{\"marker\": {\"colorbar\": {\"outlinewidth\": 0, \"ticks\": \"\"}}, \"type\": \"scattermapbox\"}], \"scatterpolar\": [{\"marker\": {\"colorbar\": {\"outlinewidth\": 0, \"ticks\": \"\"}}, \"type\": \"scatterpolar\"}], \"scatterpolargl\": [{\"marker\": {\"colorbar\": {\"outlinewidth\": 0, \"ticks\": \"\"}}, \"type\": \"scatterpolargl\"}], \"scatterternary\": [{\"marker\": {\"colorbar\": {\"outlinewidth\": 0, \"ticks\": \"\"}}, \"type\": \"scatterternary\"}], \"surface\": [{\"colorbar\": {\"outlinewidth\": 0, \"ticks\": \"\"}, \"colorscale\": [[0.0, \"#0d0887\"], [0.1111111111111111, \"#46039f\"], [0.2222222222222222, \"#7201a8\"], [0.3333333333333333, \"#9c179e\"], [0.4444444444444444, \"#bd3786\"], [0.5555555555555556, \"#d8576b\"], [0.6666666666666666, \"#ed7953\"], [0.7777777777777778, \"#fb9f3a\"], [0.8888888888888888, \"#fdca26\"], [1.0, \"#f0f921\"]], \"type\": \"surface\"}], \"table\": [{\"cells\": {\"fill\": {\"color\": \"#EBF0F8\"}, \"line\": {\"color\": \"white\"}}, \"header\": {\"fill\": {\"color\": \"#C8D4E3\"}, \"line\": {\"color\": \"white\"}}, \"type\": \"table\"}]}, \"layout\": {\"annotationdefaults\": {\"arrowcolor\": \"#2a3f5f\", \"arrowhead\": 0, \"arrowwidth\": 1}, \"coloraxis\": {\"colorbar\": {\"outlinewidth\": 0, \"ticks\": \"\"}}, \"colorscale\": {\"diverging\": [[0, \"#8e0152\"], [0.1, \"#c51b7d\"], [0.2, \"#de77ae\"], [0.3, \"#f1b6da\"], [0.4, \"#fde0ef\"], [0.5, \"#f7f7f7\"], [0.6, \"#e6f5d0\"], [0.7, \"#b8e186\"], [0.8, \"#7fbc41\"], [0.9, \"#4d9221\"], [1, \"#276419\"]], \"sequential\": [[0.0, \"#0d0887\"], [0.1111111111111111, \"#46039f\"], [0.2222222222222222, \"#7201a8\"], [0.3333333333333333, \"#9c179e\"], [0.4444444444444444, \"#bd3786\"], [0.5555555555555556, \"#d8576b\"], [0.6666666666666666, \"#ed7953\"], [0.7777777777777778, \"#fb9f3a\"], [0.8888888888888888, \"#fdca26\"], [1.0, \"#f0f921\"]], \"sequentialminus\": [[0.0, \"#0d0887\"], [0.1111111111111111, \"#46039f\"], [0.2222222222222222, \"#7201a8\"], [0.3333333333333333, \"#9c179e\"], [0.4444444444444444, \"#bd3786\"], [0.5555555555555556, \"#d8576b\"], [0.6666666666666666, \"#ed7953\"], [0.7777777777777778, \"#fb9f3a\"], [0.8888888888888888, \"#fdca26\"], [1.0, \"#f0f921\"]]}, \"colorway\": [\"#636efa\", \"#EF553B\", \"#00cc96\", \"#ab63fa\", \"#FFA15A\", \"#19d3f3\", \"#FF6692\", \"#B6E880\", \"#FF97FF\", \"#FECB52\"], \"font\": {\"color\": \"#2a3f5f\"}, \"geo\": {\"bgcolor\": \"white\", \"lakecolor\": \"white\", \"landcolor\": \"#E5ECF6\", \"showlakes\": true, \"showland\": true, \"subunitcolor\": \"white\"}, \"hoverlabel\": {\"align\": \"left\"}, \"hovermode\": \"closest\", \"mapbox\": {\"style\": \"light\"}, \"paper_bgcolor\": \"white\", \"plot_bgcolor\": \"#E5ECF6\", \"polar\": {\"angularaxis\": {\"gridcolor\": \"white\", \"linecolor\": \"white\", \"ticks\": \"\"}, \"bgcolor\": \"#E5ECF6\", \"radialaxis\": {\"gridcolor\": \"white\", \"linecolor\": \"white\", \"ticks\": \"\"}}, \"scene\": {\"xaxis\": {\"backgroundcolor\": \"#E5ECF6\", \"gridcolor\": \"white\", \"gridwidth\": 2, \"linecolor\": \"white\", \"showbackground\": true, \"ticks\": \"\", \"zerolinecolor\": \"white\"}, \"yaxis\": {\"backgroundcolor\": \"#E5ECF6\", \"gridcolor\": \"white\", \"gridwidth\": 2, \"linecolor\": \"white\", \"showbackground\": true, \"ticks\": \"\", \"zerolinecolor\": \"white\"}, \"zaxis\": {\"backgroundcolor\": \"#E5ECF6\", \"gridcolor\": \"white\", \"gridwidth\": 2, \"linecolor\": \"white\", \"showbackground\": true, \"ticks\": \"\", \"zerolinecolor\": \"white\"}}, \"shapedefaults\": {\"line\": {\"color\": \"#2a3f5f\"}}, \"ternary\": {\"aaxis\": {\"gridcolor\": \"white\", \"linecolor\": \"white\", \"ticks\": \"\"}, \"baxis\": {\"gridcolor\": \"white\", \"linecolor\": \"white\", \"ticks\": \"\"}, \"bgcolor\": \"#E5ECF6\", \"caxis\": {\"gridcolor\": \"white\", \"linecolor\": \"white\", \"ticks\": \"\"}}, \"title\": {\"x\": 0.05}, \"xaxis\": {\"automargin\": true, \"gridcolor\": \"white\", \"linecolor\": \"white\", \"ticks\": \"\", \"title\": {\"standoff\": 15}, \"zerolinecolor\": \"white\", \"zerolinewidth\": 2}, \"yaxis\": {\"automargin\": true, \"gridcolor\": \"white\", \"linecolor\": \"white\", \"ticks\": \"\", \"title\": {\"standoff\": 15}, \"zerolinecolor\": \"white\", \"zerolinewidth\": 2}}}, \"title\": {\"text\": \"\"}},\n",
       "                        {\"responsive\": true}\n",
       "                    ).then(function(){\n",
       "                            \n",
       "var gd = document.getElementById('2977e773-a894-4e40-9e75-c5cbcfc5d17b');\n",
       "var x = new MutationObserver(function (mutations, observer) {{\n",
       "        var display = window.getComputedStyle(gd).display;\n",
       "        if (!display || display === 'none') {{\n",
       "            console.log([gd, 'removed!']);\n",
       "            Plotly.purge(gd);\n",
       "            observer.disconnect();\n",
       "        }}\n",
       "}});\n",
       "\n",
       "// Listen for the removal of the full notebook cells\n",
       "var notebookContainer = gd.closest('#notebook-container');\n",
       "if (notebookContainer) {{\n",
       "    x.observe(notebookContainer, {childList: true});\n",
       "}}\n",
       "\n",
       "// Listen for the clearing of the current output cell\n",
       "var outputEl = gd.closest('.output');\n",
       "if (outputEl) {{\n",
       "    x.observe(outputEl, {childList: true});\n",
       "}}\n",
       "\n",
       "                        })\n",
       "                };\n",
       "                });\n",
       "            </script>\n",
       "        </div>"
      ]
     },
     "metadata": {},
     "output_type": "display_data"
    }
   ],
   "source": [
    "fig = go.Figure()\n",
    "\n",
    "# add bubbles representing forest land differential between 1990 and 2017 for selected countries\n",
    "fig.add_trace(go.Scattergeo(\n",
    "    lon = countries_centers['Longitude'],\n",
    "    lat = countries_centers['Latitude'],\n",
    "    hoverinfo = 'text',\n",
    "    text = countries_centers.index,\n",
    "    mode = 'markers',\n",
    "    marker = dict(\n",
    "        size = sizes,\n",
    "        color = colors,\n",
    "        opacity = 1,\n",
    "        line = dict(\n",
    "            width = 3,\n",
    "            color = 'rgba(68, 68, 68, 0)'\n",
    "        )\n",
    "    )))\n",
    "\n",
    "fig.update_layout(showlegend = True)\n",
    "\n",
    "# add connections between countries based on distance in agricultural production share\n",
    "connections = []\n",
    "for i, country_1 in enumerate(the_20_countries):\n",
    "    for j, country_2 in enumerate(the_20_countries):\n",
    "        \n",
    "        # skip diagonal\n",
    "        if country_1 == country_2:\n",
    "            continue\n",
    "            \n",
    "        # threshold for distance\n",
    "        distance = distances.loc[country_1, country_2]\n",
    "        if distance > 0.2:\n",
    "            continue\n",
    "        \n",
    "        if (country_1 in top_10_reforested_countries.tolist()) & (country_2 in top_10_reforested_countries.tolist()):\n",
    "            line_color = reforested_color\n",
    "        elif (country_1 in top_10_deforested_countries.tolist()) & (country_2 in top_10_deforested_countries.tolist()):\n",
    "            line_color = deforested_color\n",
    "        else:\n",
    "            line_color = 'grey'\n",
    "        # add connection\n",
    "        fig.add_trace(\n",
    "            go.Scattergeo(\n",
    "                lon = [countries_centers.loc[country_1].Longitude, countries_centers.loc[country_2].Longitude],\n",
    "                lat = [countries_centers.loc[country_1].Latitude, countries_centers.loc[country_2].Latitude],\n",
    "                mode = 'lines',\n",
    "                line = dict(width = 0.3/distance, color = line_color),\n",
    "                opacity = 0.3\n",
    "            )\n",
    "        )\n",
    "        \n",
    "fig.update_layout(\n",
    "    title_text = '',\n",
    "    showlegend = False,\n",
    "    geo = go.layout.Geo(\n",
    "        showland = True,\n",
    "        landcolor = 'rgb(243, 243, 243)',\n",
    "        countrycolor = 'rgb(204, 204, 204)',\n",
    "    ),\n",
    ")\n",
    "fig.update_layout(\n",
    "    legend=go.layout.Legend(\n",
    "        x=0,\n",
    "        y=1,\n",
    "        traceorder=\"normal\",\n",
    "        font=dict(\n",
    "            family=\"sans-serif\",\n",
    "            size=12,\n",
    "            color=\"black\"\n",
    "        ),\n",
    "        bgcolor=\"LightSteelBlue\",\n",
    "        bordercolor=\"Black\",\n",
    "        borderwidth=2\n",
    "    )\n",
    ")\n",
    "\n",
    "fig.show()"
   ]
  },
  {
   "cell_type": "code",
   "execution_count": 339,
   "metadata": {},
   "outputs": [
    {
     "data": {
      "text/plain": [
       "37                        China\n",
       "185    United States of America\n",
       "83                        India\n",
       "190                    Viet Nam\n",
       "165                       Spain\n",
       "62                       France\n",
       "36                        Chile\n",
       "171                    Thailand\n",
       "178                      Turkey\n",
       "90                        Italy\n",
       "Name: Area, dtype: object"
      ]
     },
     "execution_count": 339,
     "metadata": {},
     "output_type": "execute_result"
    }
   ],
   "source": [
    "top_10_reforested_countries"
   ]
  },
  {
   "cell_type": "code",
   "execution_count": 82,
   "metadata": {
    "scrolled": true
   },
   "outputs": [
    {
     "data": {
      "text/plain": [
       "22                               Brazil\n",
       "84                            Indonesia\n",
       "128                             Nigeria\n",
       "118                             Myanmar\n",
       "184         United Republic of Tanzania\n",
       "195                            Zimbabwe\n",
       "20     Bolivia (Plurinational State of)\n",
       "48     Democratic Republic of the Congo\n",
       "8                             Argentina\n",
       "39                             Colombia\n",
       "Name: Area, dtype: object"
      ]
     },
     "execution_count": 82,
     "metadata": {},
     "output_type": "execute_result"
    }
   ],
   "source": [
    "top_10_deforested_countries"
   ]
  },
  {
   "cell_type": "code",
   "execution_count": 80,
   "metadata": {},
   "outputs": [
    {
     "data": {
      "image/png": "[encoded data removed]",
      "text/plain": [
       "<Figure size 1080x720 with 1 Axes>"
      ]
     },
     "metadata": {
      "needs_background": "light"
     },
     "output_type": "display_data"
    }
   ],
   "source": [
    "from sklearn.decomposition import PCA\n",
    "\n",
    "# PCA on the whole agricultural share matrix (all countries)\n",
    "\n",
    "# matrix rows are countries, columns are products; values are shares (%) of total yearly production\n",
    "pca = PCA(n_components=2)\n",
    "principalComponents = pca.fit_transform(production_shares_matrix.values)\n",
    "principalDf = pd.DataFrame(data=principalComponents, columns=['PC1', 'PC2'])\n",
    "\n",
    "# plot results in 2D and look for clusters\n",
    "plt.figure(figsize=(15, 10))\n",
    "plt.scatter(principalDf.PC1, principalDf.PC2, marker='o', s=100)\n",
    "# add country names to the plot\n",
    "for i, country in enumerate(production_shares_matrix.index.values):\n",
    "    plt.annotate(country, (principalDf.PC1[i], principalDf.PC2[i]))\n",
    "for i, country in enumerate(production_shares_matrix.index.values):\n",
    "    plt.annotate(country, (principalDf.PC1[i], principalDf.PC2[i]))\n",
    "plt.title('Countries agriculture using the first two Principal Components')\n",
    "plt.gca().set_xlabel('Principal Component 1')\n",
    "plt.gca().set_ylabel('Principal Component 2')\n",
    "plt.legend(['Top 10 reforested', 'Top 10 deforested'])\n",
    "plt.show()"
   ]
  },
  {
   "cell_type": "code",
   "execution_count": 125,
   "metadata": {
    "scrolled": false
   },
   "outputs": [
    {
     "data": {
      "image/png": "[encoded data removed]",
      "text/plain": [
       "<Figure size 1080x720 with 1 Axes>"
      ]
     },
     "metadata": {
      "needs_background": "light"
     },
     "output_type": "display_data"
    }
   ],
   "source": [
    "from sklearn.decomposition import PCA\n",
    "\n",
    "# PCA on top 10 re- and de-forester countries\n",
    "\n",
    "# compute the reduced matrix (only 20 countries from the two top 10) before applying SVD\n",
    "reduced_production_shares_matrix = production_shares_matrix.loc[production_shares_matrix.index.isin(top_10_deforested_countries.values.tolist() + \n",
    "                                                                                                    top_10_reforested_countries.values.tolist())]\n",
    "\n",
    "# find top 10 re- and de-forester countries indices (rows) in the matrix\n",
    "reduced_deforester_indices = []\n",
    "reduced_reforester_indices = []\n",
    "for i in range(0, reduced_production_shares_matrix.shape[0]):\n",
    "    if reduced_production_shares_matrix.index[i] in top_10_deforested_countries.values:\n",
    "        reduced_deforester_indices.append(i)\n",
    "    elif reduced_production_shares_matrix.index[i] in top_10_reforested_countries.values:\n",
    "        reduced_reforester_indices.append(i)\n",
    "        \n",
    "# matrix rows are countries, columns are products; values are shares (%) of total yearly production\n",
    "pca = PCA(n_components=2)\n",
    "principalComponents = pca.fit_transform(reduced_production_shares_matrix.values)\n",
    "principalDf = pd.DataFrame(data=principalComponents, columns=['PC1', 'PC2'])\n",
    "\n",
    "# plot results in 2D and look for clusters\n",
    "plt.figure(figsize=(15, 10))\n",
    "plt.scatter(principalDf.PC1[reduced_reforester_indices], principalDf.PC2[reduced_reforester_indices], marker='o', s=200)\n",
    "plt.scatter(principalDf.PC1[reduced_deforester_indices], principalDf.PC2[reduced_deforester_indices], marker='o', s=200)\n",
    "# add country names to the plot\n",
    "for i, country in enumerate(reduced_production_shares_matrix.index.values[reduced_reforester_indices]):\n",
    "    plt.annotate(country, (principalDf.PC1[reduced_reforester_indices[i]], principalDf.PC2[reduced_reforester_indices[i]]))\n",
    "for i, country in enumerate(reduced_production_shares_matrix.index.values[reduced_deforester_indices]):\n",
    "    plt.annotate(country, (principalDf.PC1[reduced_deforester_indices[i]], principalDf.PC2[reduced_deforester_indices[i]]))\n",
    "plt.title('Countries agriculture using the first two Principal Components')\n",
    "plt.gca().set_xlabel('Principal Component 1')\n",
    "plt.gca().set_ylabel('Principal Component 2')\n",
    "plt.legend(['Top 10 reforested', 'Top 10 deforested'])\n",
    "plt.show()"
   ]
  },
  {
   "cell_type": "code",
   "execution_count": 124,
   "metadata": {},
   "outputs": [
    {
     "name": "stdout",
     "output_type": "stream",
     "text": [
      "First 5 singular values:\n",
      " [72.7103547  59.36180494 36.38818324 30.07216008 24.19752362]\n",
      "\n",
      "Variance explanation of the first 5 singular values:\n",
      " [0.41425953 0.27611766 0.10375302 0.07086132 0.04587983]\n"
     ]
    }
   ],
   "source": [
    "# first 10 singular values\n",
    "N = 5\n",
    "pca_singular_values = PCA(n_components=N)\n",
    "pca_singular_values.fit_transform(reduced_production_shares_matrix.values)\n",
    "print(\"First \" + str(N) + \" singular values:\\n\", pca_singular_values.singular_values_, end='\\n\\n')\n",
    "\n",
    "# variance explanation ratio for each singular value\n",
    "print(\"Variance explanation of the first \" + str(N) + \" singular values:\\n\", pca_singular_values.explained_variance_ratio_)"
   ]
  },
  {
   "cell_type": "markdown",
   "metadata": {},
   "source": [
    ">#### ***Explanation***\n",
    "> **PCA** is used to classify the countries based on their agricultural production in a 2D space.\n",
    "> + Pros:\n",
    ">\n",
    ">   + Simple **visual** clustering.\n",
    ">\n",
    ">   + **Deforesting countries** (orange) **have a more spread distribution** and are on average far from the blue cluster of countries that increase forest land. \n",
    ">\n",
    "> + Cons: \n",
    ">\n",
    ">   + **Lack of interpretability** since the dimensions does not have a physical meaning.\n",
    ">\n",
    ">   + The clustering in two classes is far from perfect.\n",
    ">   \n",
    ">   + The difference between the two biggest singular values and the others is not so high (the third is about half the second): **not-negligible variations are thrown away** with just 2 dimensions."
   ]
  },
  {
   "cell_type": "markdown",
   "metadata": {},
   "source": [
    "## **APPENDIX: datasets summaries**"
   ]
  },
  {
   "cell_type": "markdown",
   "metadata": {},
   "source": [
    "#### Inputs_LandUse_E_All_Data_cleared.csv\n",
    "+ **Unit**: [**'1000 ha'**, 'million tonnes']\n",
    "+ **Item**: ['Country area', 'Land area', 'Agriculture', ..., **'Forestry'**, **'Forest land'**, **'Primary Forest'**, ..., **'Farm buildings & farmyards'**, 'Perm. meadows & pastures area certified organic', ...]\n",
    "+ **Element**: ['Area', 'Carbon stock in living biomass']"
   ]
  },
  {
   "cell_type": "markdown",
   "metadata": {},
   "source": [
    "#### Environment_LandUse_E_All_Data_cleared.csv\n",
    "+ **Unit**: [**'%'**]\n",
    "+ **Item**: ['Arable land', 'Land under permanent crops', 'Cropland', 'Land under perm. meadows and pastures', 'Agriculture area actually irrigated', 'Land area equipped for irrigation', 'Agricultural land', **'Forest land'**, **'Primary Forest'**, **'Planted Forest'**, **'Other naturally regenerated forest'**, 'Agriculture area under organic agric.']\n",
    "+ **Element**: ['Share in Agricultural land', **'Share in Land area'**, **'Share in Forest land'**]"
   ]
  },
  {
   "cell_type": "markdown",
   "metadata": {},
   "source": [
    "#### Environment_LandCover_E_All_Data_cleared.csv\n",
    "+ **Unit**: ['1000 ha']\n",
    "+ **Item**: ['Artificial surfaces (including urban and associated areas)', **'Herbaceous crops'**, **'Woody crops'**, 'Multiple or layered crops', **'Grassland'**, **'Tree-covered areas'**, 'Mangroves', 'Shrub-covered areas', 'Shrubs and/or herbaceous vegetation:aquatic or regularly flooded', 'Sparsely natural vegetated areas', 'Terrestrial barren land', 'Permanent snow and glaciers', 'Inland water bodies', 'Coastal water bodies and intertidal areas']\n",
    "+ **Element**: ['Area from **MODIS**', 'Area from **CCI_LC**']"
   ]
  },
  {
   "cell_type": "markdown",
   "metadata": {},
   "source": [
    "#### Production_CropsProcessed_E_All_Data_cleared.csv\n",
    "+ **Unit**: ['tonnes']\n",
    "+ **Item**: ['Cotton lint', 'Cottonseed', 'Molasses', 'Oil:cottonseed', ..., **'Oil:palm kernel'**, 'Palm kernels', 'Oil:maize']\n",
    "+ **Element**: ['Production']"
   ]
  },
  {
   "cell_type": "markdown",
   "metadata": {},
   "source": [
    "#### Production_Crops_E_All_Data_cleared.csv\n",
    "+ **Unit**: ['ha', 'hg/ha', 'tonnes']\n",
    "+ **Item**: ['Almonds:with shell', 'Anise:badian:fennel:coriander', 'Apples', ..., ..., **'Soybeans'**, ..., ..., ..., ..., 'Fruit:pome nes']\n",
    "+ **Element**: [**'Area harvested'**, **'Yield'**, **'Production'**]"
   ]
  },
  {
   "cell_type": "markdown",
   "metadata": {},
   "source": [
    "#### Environment_LivestockPatterns_E_All_Data_cleared.csv\n",
    "+ **Unit**: [**'LSU/ha'**, '% of total LSU', **'Livestock units (LSU)'**]\n",
    "+ **Item**: ['Asses', 'Camels', **'Cattle'**, 'Chickens', 'Goats', 'Horses', 'Mules', 'Sheep', 'Cattle and Buffaloes', 'Sheep and Goats', 'Equidae', **'Major livestock types'**, 'Buffaloes', 'Pigs']\n",
    "+ **Element**: ['Livestock units per agricultural land area', 'Share in total livestock', 'Stocks']"
   ]
  },
  {
   "cell_type": "markdown",
   "metadata": {},
   "source": [
    "#### Production_LivestockProcessed_E_All_Data_cleared.csv\n",
    "+ **Unit**: ['tonnes']\n",
    "+ **Item**: ['Butter and ghee:sheep milk', 'Butter:cow milk', ..., 'Cheese:buffalo milk', 'Butter of goat mlk']\n",
    "+ **Element**: ['Production']"
   ]
  },
  {
   "cell_type": "markdown",
   "metadata": {},
   "source": [
    "#### Production_LivestockPrimary_E_All_Data_cleared.csv\n",
    "+ **Unit**: ['1000 Head', '100mg/An', 'tonnes', '1000 No', **'Head'**, 'hg/An', '0.1g/An', 'hg', 'No']\n",
    "+ **Item**: ['Eggs:hen:in shell', 'Eggs:hen:in shell (number)', 'Hides:cattle:fresh', 'Honey:natural', 'Meat indigenous:camel', **'Meat indigenous:cattle'**, ..., Snails:not sea', 'Hair:horse']\n",
    "+ **Element**: ['Laying', 'Yield', 'Production', 'Producing Animals/Slaughtered', 'Yield/Carcass Weight', 'Milk Animals', 'Prod Popultn']"
   ]
  }
 ],
 "metadata": {
  "file_extension": ".py",
  "kernelspec": {
   "display_name": "Python [conda env:conda-ada] *",
   "language": "python",
   "name": "conda-env-conda-ada-py"
  },
  "language_info": {
   "codemirror_mode": {
    "name": "ipython",
    "version": 3
   },
   "file_extension": ".py",
   "mimetype": "text/x-python",
   "name": "python",
   "nbconvert_exporter": "python",
   "pygments_lexer": "ipython3",
   "version": "3.7.4"
  },
  "mimetype": "text/x-python",
  "name": "python",
  "npconvert_exporter": "python",
  "pygments_lexer": "ipython3",
  "version": 3
 },
 "nbformat": 4,
 "nbformat_minor": 4
}
