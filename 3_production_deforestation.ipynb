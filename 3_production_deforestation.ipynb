{
 "nbformat": 4,
 "nbformat_minor": 2,
 "metadata": {
  "language_info": {
   "name": "python",
   "codemirror_mode": {
    "name": "ipython",
    "version": 3
   },
   "version": "3.7.3"
  },
  "orig_nbformat": 2,
  "file_extension": ".py",
  "mimetype": "text/x-python",
  "name": "python",
  "npconvert_exporter": "python",
  "pygments_lexer": "ipython3",
  "version": 3
 },
 "cells": [
  {
   "cell_type": "code",
   "execution_count": 19,
   "metadata": {},
   "outputs": [],
   "source": [
    "import pandas as pd\n",
    "import plotly.graph_objects as go\n",
    "from plotly.subplots import make_subplots\n",
    "\n",
    "CONTINENTS = ['Africa', 'Asia', 'Oceania', 'Europe', 'Northern America', 'South America', 'Antarctic Region']\n",
    "TOP_PRODUCERS = ['United States of America',\n",
    " 'India',\n",
    " 'China',\n",
    " 'Brazil',\n",
    " 'Russian Federation',\n",
    " 'Canada',\n",
    " 'Indonesia',\n",
    " 'Ethiopia',\n",
    " 'Democratic Republic of the Congo',\n",
    " 'Nigeria',\n",
    " 'Sweden',\n",
    " 'Chile',\n",
    " 'Finland',\n",
    " 'Germany',\n",
    " 'France',\n",
    " 'Uganda',\n",
    " 'Ghana',\n",
    " 'Mexico',\n",
    " 'Myanmar',\n",
    " 'Poland',\n",
    " 'Viet Nam',\n",
    " 'Pakistan',\n",
    " 'Thailand',\n",
    " 'Australia',\n",
    " 'New Zealand',\n",
    " 'Kenya',\n",
    " 'United Republic of Tanzania',\n",
    " 'Bangladesh',\n",
    " 'Turkey']"
   ]
  },
  {
   "cell_type": "code",
   "execution_count": 20,
   "metadata": {},
   "outputs": [],
   "source": [
    "FAOSTAT_country_data = pd.read_csv(\"/home/martin/Documents/school/EPFL/ws/ada/disappearing_forests/data/faostat/FAOSTAT_countries.csv\", engine='python')"
   ]
  },
  {
   "cell_type": "code",
   "execution_count": 21,
   "metadata": {},
   "outputs": [],
   "source": [
    "FAOSTAT_country_data = FAOSTAT_country_data[FAOSTAT_country_data.Country.isin(TOP_PRODUCERS) & FAOSTAT_country_data[\"Country Group\"].isin(CONTINENTS)]"
   ]
  },
  {
   "cell_type": "code",
   "execution_count": 22,
   "metadata": {},
   "outputs": [],
   "source": [
    "FAOSTAT_country_data = FAOSTAT_country_data[[\"Country\", \"Country Group\"]]"
   ]
  },
  {
   "cell_type": "code",
   "execution_count": 23,
   "metadata": {},
   "outputs": [],
   "source": [
    "# load datasets\n",
    "forest_all = pd.read_csv(\"/home/martin/Documents/school/EPFL/ws/ada/disappearing_forests/data/faostat/Forestry_E_All_Data_cleared.csv\", engine='python')\n",
    "\n",
    "land = pd.read_csv(\"/home/martin/Documents/school/EPFL/ws/ada/disappearing_forests/data/faostat/Inputs_LandUse_E_All_Data_cleared.csv\",engine='python')"
   ]
  },
  {
   "cell_type": "code",
   "execution_count": 24,
   "metadata": {},
   "outputs": [],
   "source": [
    "forest_area = land[land.Item.isin(['Forestry']) & \n",
    "                   land.Area.isin(TOP_PRODUCERS) & \n",
    "                   land.Year.isin([1995, 2015])][[\"Area\", \"Year\", \"Unit\", \"Value\", \"Item\"]]"
   ]
  },
  {
   "cell_type": "code",
   "execution_count": 25,
   "metadata": {},
   "outputs": [],
   "source": [
    "forest_area.loc[forest_area.Year == 1995, 'Value'] = forest_area[forest_area.Year == 1995].Value.apply(lambda x: x*-1)\n"
   ]
  },
  {
   "cell_type": "code",
   "execution_count": 26,
   "metadata": {},
   "outputs": [],
   "source": [
    "forest_area = forest_area.groupby([\"Area\"]).Value.sum().reset_index()"
   ]
  },
  {
   "cell_type": "code",
   "execution_count": 27,
   "metadata": {},
   "outputs": [],
   "source": [
    "forest_area = forest_area.merge(FAOSTAT_country_data,left_on=\"Area\", right_on=\"Country\")"
   ]
  },
  {
   "cell_type": "code",
   "execution_count": 28,
   "metadata": {},
   "outputs": [],
   "source": [
    "forest_area = forest_area.merge(country_area[[\"Area\", \"Value\"]], left_on=[\"Area\"], right_on=[\"Area\"], suffixes=('_forest', '_country'))\n",
    " "
   ]
  },
  {
   "cell_type": "code",
   "execution_count": 29,
   "metadata": {},
   "outputs": [],
   "source": [
    "forest_area[\"Decrease\"] = forest_area[\"Value_forest\"] / forest_area[\"Value_country\"] "
   ]
  },
  {
   "cell_type": "code",
   "execution_count": 30,
   "metadata": {},
   "outputs": [],
   "source": [
    "forest_area = forest_area[[\"Area\", \"Decrease\", \"Country Group\"]]"
   ]
  },
  {
   "cell_type": "code",
   "execution_count": 31,
   "metadata": {},
   "outputs": [],
   "source": [
    "forest_area = forest_area.sort_values(by=\"Decrease\")"
   ]
  },
  {
   "cell_type": "code",
   "execution_count": 64,
   "metadata": {},
   "outputs": [],
   "source": [
    "forest_area.Decrease = forest_area.Decrease.apply(lambda x: x*100)"
   ]
  },
  {
   "cell_type": "code",
   "execution_count": 69,
   "metadata": {},
   "outputs": [
    {
     "data": {
      "application/vnd.plotly.v1+json": {
       "config": {
        "plotlyServerURL": "https://plot.ly"
       },
       "data": [
        {
         "alignmentgroup": "True",
         "hoverlabel": {
          "namelength": 0
         },
         "hovertemplate": "Continent=Asia<br>Increase of forested area (% share in land area)=%{x}<br>Country=%{y}",
         "legendgroup": "Continent=Asia",
         "marker": {
          "color": "#636efa"
         },
         "name": "Continent=Asia",
         "offsetgroup": "Continent=Asia",
         "orientation": "h",
         "showlegend": true,
         "textposition": "auto",
         "type": "bar",
         "x": [
          -11.826955763460886,
          -9.38920766312357,
          -1.067077000376837,
          -0.3522319311792996,
          1.7364359214218896,
          1.8305524450613717,
          2.3078882027121663,
          12.764544274371284
         ],
         "xaxis": "x",
         "y": [
          "Myanmar",
          "Indonesia",
          "Pakistan",
          "Bangladesh",
          "Thailand",
          "India",
          "Turkey",
          "Viet Nam"
         ],
         "yaxis": "y"
        },
        {
         "alignmentgroup": "True",
         "hoverlabel": {
          "namelength": 0
         },
         "hovertemplate": "Continent=Africa<br>Increase of forested area (% share in land area)=%{x}<br>Country=%{y}",
         "legendgroup": "Continent=Africa",
         "marker": {
          "color": "#EF553B"
         },
         "name": "Continent=Africa",
         "offsetgroup": "Continent=Africa",
         "orientation": "h",
         "showlegend": true,
         "textposition": "auto",
         "type": "bar",
         "x": [
          -9.24446284413165,
          -8.868549530727346,
          -8.29726591364932,
          -2.6560221079296844,
          -1.7300552386126957,
          0.4695280596860623,
          2.38534417707722
         ],
         "xaxis": "x",
         "y": [
          "Uganda",
          "Nigeria",
          "United Republic of Tanzania",
          "Democratic Republic of the Congo",
          "Ethiopia",
          "Kenya",
          "Ghana"
         ],
         "yaxis": "y"
        },
        {
         "alignmentgroup": "True",
         "hoverlabel": {
          "namelength": 0
         },
         "hovertemplate": "Continent=South America<br>Increase of forested area (% share in land area)=%{x}<br>Country=%{y}",
         "legendgroup": "Continent=South America",
         "marker": {
          "color": "#00cc96"
         },
         "name": "Continent=South America",
         "offsetgroup": "Continent=South America",
         "orientation": "h",
         "showlegend": true,
         "textposition": "auto",
         "type": "bar",
         "x": [
          -4.750187005990063,
          2.8918285508718466
         ],
         "xaxis": "x",
         "y": [
          "Brazil",
          "Chile"
         ],
         "yaxis": "y"
        },
        {
         "alignmentgroup": "True",
         "hoverlabel": {
          "namelength": 0
         },
         "hovertemplate": "Continent=Oceania<br>Increase of forested area (% share in land area)=%{x}<br>Country=%{y}",
         "legendgroup": "Continent=Oceania",
         "marker": {
          "color": "#ab63fa"
         },
         "name": "Continent=Oceania",
         "offsetgroup": "Continent=Oceania",
         "orientation": "h",
         "showlegend": true,
         "textposition": "auto",
         "type": "bar",
         "x": [
          -0.5089637033955887,
          0.9469201748160322
         ],
         "xaxis": "x",
         "y": [
          "Australia",
          "New Zealand"
         ],
         "yaxis": "y"
        },
        {
         "alignmentgroup": "True",
         "hoverlabel": {
          "namelength": 0
         },
         "hovertemplate": "Continent=Northern America<br>Increase of forested area (% share in land area)=%{x}<br>Country=%{y}",
         "legendgroup": "Continent=Northern America",
         "marker": {
          "color": "#FFA15A"
         },
         "name": "Continent=Northern America",
         "offsetgroup": "Continent=Northern America",
         "orientation": "h",
         "showlegend": true,
         "textposition": "auto",
         "type": "bar",
         "x": [
          -0.0980287962752094,
          0.7223712329031857
         ],
         "xaxis": "x",
         "y": [
          "Canada",
          "United States of America"
         ],
         "yaxis": "y"
        },
        {
         "alignmentgroup": "True",
         "hoverlabel": {
          "namelength": 0
         },
         "hovertemplate": "Continent=Europe<br>Increase of forested area (% share in land area)=%{x}<br>Country=%{y}",
         "legendgroup": "Continent=Europe",
         "marker": {
          "color": "#19d3f3"
         },
         "name": "Continent=Europe",
         "offsetgroup": "Continent=Europe",
         "orientation": "h",
         "showlegend": true,
         "textposition": "auto",
         "type": "bar",
         "x": [
          -0.08939945913327224,
          0.17137150387358693,
          0.2574081794246927,
          0.34046174316085254,
          1.4871434053984904,
          3.8727924718669358
         ],
         "xaxis": "x",
         "y": [
          "Sweden",
          "Finland",
          "Germany",
          "Russian Federation",
          "Poland",
          "France"
         ],
         "yaxis": "y"
        }
       ],
       "layout": {
        "barmode": "relative",
        "height": 700,
        "legend": {
         "tracegroupgap": 0
        },
        "margin": {
         "t": 60
        },
        "showlegend": false,
        "template": {
         "data": {
          "bar": [
           {
            "error_x": {
             "color": "#2a3f5f"
            },
            "error_y": {
             "color": "#2a3f5f"
            },
            "marker": {
             "line": {
              "color": "#E5ECF6",
              "width": 0.5
             }
            },
            "type": "bar"
           }
          ],
          "barpolar": [
           {
            "marker": {
             "line": {
              "color": "#E5ECF6",
              "width": 0.5
             }
            },
            "type": "barpolar"
           }
          ],
          "carpet": [
           {
            "aaxis": {
             "endlinecolor": "#2a3f5f",
             "gridcolor": "white",
             "linecolor": "white",
             "minorgridcolor": "white",
             "startlinecolor": "#2a3f5f"
            },
            "baxis": {
             "endlinecolor": "#2a3f5f",
             "gridcolor": "white",
             "linecolor": "white",
             "minorgridcolor": "white",
             "startlinecolor": "#2a3f5f"
            },
            "type": "carpet"
           }
          ],
          "choropleth": [
           {
            "colorbar": {
             "outlinewidth": 0,
             "ticks": ""
            },
            "type": "choropleth"
           }
          ],
          "contour": [
           {
            "colorbar": {
             "outlinewidth": 0,
             "ticks": ""
            },
            "colorscale": [
             [
              0,
              "#0d0887"
             ],
             [
              0.1111111111111111,
              "#46039f"
             ],
             [
              0.2222222222222222,
              "#7201a8"
             ],
             [
              0.3333333333333333,
              "#9c179e"
             ],
             [
              0.4444444444444444,
              "#bd3786"
             ],
             [
              0.5555555555555556,
              "#d8576b"
             ],
             [
              0.6666666666666666,
              "#ed7953"
             ],
             [
              0.7777777777777778,
              "#fb9f3a"
             ],
             [
              0.8888888888888888,
              "#fdca26"
             ],
             [
              1,
              "#f0f921"
             ]
            ],
            "type": "contour"
           }
          ],
          "contourcarpet": [
           {
            "colorbar": {
             "outlinewidth": 0,
             "ticks": ""
            },
            "type": "contourcarpet"
           }
          ],
          "heatmap": [
           {
            "colorbar": {
             "outlinewidth": 0,
             "ticks": ""
            },
            "colorscale": [
             [
              0,
              "#0d0887"
             ],
             [
              0.1111111111111111,
              "#46039f"
             ],
             [
              0.2222222222222222,
              "#7201a8"
             ],
             [
              0.3333333333333333,
              "#9c179e"
             ],
             [
              0.4444444444444444,
              "#bd3786"
             ],
             [
              0.5555555555555556,
              "#d8576b"
             ],
             [
              0.6666666666666666,
              "#ed7953"
             ],
             [
              0.7777777777777778,
              "#fb9f3a"
             ],
             [
              0.8888888888888888,
              "#fdca26"
             ],
             [
              1,
              "#f0f921"
             ]
            ],
            "type": "heatmap"
           }
          ],
          "heatmapgl": [
           {
            "colorbar": {
             "outlinewidth": 0,
             "ticks": ""
            },
            "colorscale": [
             [
              0,
              "#0d0887"
             ],
             [
              0.1111111111111111,
              "#46039f"
             ],
             [
              0.2222222222222222,
              "#7201a8"
             ],
             [
              0.3333333333333333,
              "#9c179e"
             ],
             [
              0.4444444444444444,
              "#bd3786"
             ],
             [
              0.5555555555555556,
              "#d8576b"
             ],
             [
              0.6666666666666666,
              "#ed7953"
             ],
             [
              0.7777777777777778,
              "#fb9f3a"
             ],
             [
              0.8888888888888888,
              "#fdca26"
             ],
             [
              1,
              "#f0f921"
             ]
            ],
            "type": "heatmapgl"
           }
          ],
          "histogram": [
           {
            "marker": {
             "colorbar": {
              "outlinewidth": 0,
              "ticks": ""
             }
            },
            "type": "histogram"
           }
          ],
          "histogram2d": [
           {
            "colorbar": {
             "outlinewidth": 0,
             "ticks": ""
            },
            "colorscale": [
             [
              0,
              "#0d0887"
             ],
             [
              0.1111111111111111,
              "#46039f"
             ],
             [
              0.2222222222222222,
              "#7201a8"
             ],
             [
              0.3333333333333333,
              "#9c179e"
             ],
             [
              0.4444444444444444,
              "#bd3786"
             ],
             [
              0.5555555555555556,
              "#d8576b"
             ],
             [
              0.6666666666666666,
              "#ed7953"
             ],
             [
              0.7777777777777778,
              "#fb9f3a"
             ],
             [
              0.8888888888888888,
              "#fdca26"
             ],
             [
              1,
              "#f0f921"
             ]
            ],
            "type": "histogram2d"
           }
          ],
          "histogram2dcontour": [
           {
            "colorbar": {
             "outlinewidth": 0,
             "ticks": ""
            },
            "colorscale": [
             [
              0,
              "#0d0887"
             ],
             [
              0.1111111111111111,
              "#46039f"
             ],
             [
              0.2222222222222222,
              "#7201a8"
             ],
             [
              0.3333333333333333,
              "#9c179e"
             ],
             [
              0.4444444444444444,
              "#bd3786"
             ],
             [
              0.5555555555555556,
              "#d8576b"
             ],
             [
              0.6666666666666666,
              "#ed7953"
             ],
             [
              0.7777777777777778,
              "#fb9f3a"
             ],
             [
              0.8888888888888888,
              "#fdca26"
             ],
             [
              1,
              "#f0f921"
             ]
            ],
            "type": "histogram2dcontour"
           }
          ],
          "mesh3d": [
           {
            "colorbar": {
             "outlinewidth": 0,
             "ticks": ""
            },
            "type": "mesh3d"
           }
          ],
          "parcoords": [
           {
            "line": {
             "colorbar": {
              "outlinewidth": 0,
              "ticks": ""
             }
            },
            "type": "parcoords"
           }
          ],
          "pie": [
           {
            "automargin": true,
            "type": "pie"
           }
          ],
          "scatter": [
           {
            "marker": {
             "colorbar": {
              "outlinewidth": 0,
              "ticks": ""
             }
            },
            "type": "scatter"
           }
          ],
          "scatter3d": [
           {
            "line": {
             "colorbar": {
              "outlinewidth": 0,
              "ticks": ""
             }
            },
            "marker": {
             "colorbar": {
              "outlinewidth": 0,
              "ticks": ""
             }
            },
            "type": "scatter3d"
           }
          ],
          "scattercarpet": [
           {
            "marker": {
             "colorbar": {
              "outlinewidth": 0,
              "ticks": ""
             }
            },
            "type": "scattercarpet"
           }
          ],
          "scattergeo": [
           {
            "marker": {
             "colorbar": {
              "outlinewidth": 0,
              "ticks": ""
             }
            },
            "type": "scattergeo"
           }
          ],
          "scattergl": [
           {
            "marker": {
             "colorbar": {
              "outlinewidth": 0,
              "ticks": ""
             }
            },
            "type": "scattergl"
           }
          ],
          "scattermapbox": [
           {
            "marker": {
             "colorbar": {
              "outlinewidth": 0,
              "ticks": ""
             }
            },
            "type": "scattermapbox"
           }
          ],
          "scatterpolar": [
           {
            "marker": {
             "colorbar": {
              "outlinewidth": 0,
              "ticks": ""
             }
            },
            "type": "scatterpolar"
           }
          ],
          "scatterpolargl": [
           {
            "marker": {
             "colorbar": {
              "outlinewidth": 0,
              "ticks": ""
             }
            },
            "type": "scatterpolargl"
           }
          ],
          "scatterternary": [
           {
            "marker": {
             "colorbar": {
              "outlinewidth": 0,
              "ticks": ""
             }
            },
            "type": "scatterternary"
           }
          ],
          "surface": [
           {
            "colorbar": {
             "outlinewidth": 0,
             "ticks": ""
            },
            "colorscale": [
             [
              0,
              "#0d0887"
             ],
             [
              0.1111111111111111,
              "#46039f"
             ],
             [
              0.2222222222222222,
              "#7201a8"
             ],
             [
              0.3333333333333333,
              "#9c179e"
             ],
             [
              0.4444444444444444,
              "#bd3786"
             ],
             [
              0.5555555555555556,
              "#d8576b"
             ],
             [
              0.6666666666666666,
              "#ed7953"
             ],
             [
              0.7777777777777778,
              "#fb9f3a"
             ],
             [
              0.8888888888888888,
              "#fdca26"
             ],
             [
              1,
              "#f0f921"
             ]
            ],
            "type": "surface"
           }
          ],
          "table": [
           {
            "cells": {
             "fill": {
              "color": "#EBF0F8"
             },
             "line": {
              "color": "white"
             }
            },
            "header": {
             "fill": {
              "color": "#C8D4E3"
             },
             "line": {
              "color": "white"
             }
            },
            "type": "table"
           }
          ]
         },
         "layout": {
          "annotationdefaults": {
           "arrowcolor": "#2a3f5f",
           "arrowhead": 0,
           "arrowwidth": 1
          },
          "coloraxis": {
           "colorbar": {
            "outlinewidth": 0,
            "ticks": ""
           }
          },
          "colorscale": {
           "diverging": [
            [
             0,
             "#8e0152"
            ],
            [
             0.1,
             "#c51b7d"
            ],
            [
             0.2,
             "#de77ae"
            ],
            [
             0.3,
             "#f1b6da"
            ],
            [
             0.4,
             "#fde0ef"
            ],
            [
             0.5,
             "#f7f7f7"
            ],
            [
             0.6,
             "#e6f5d0"
            ],
            [
             0.7,
             "#b8e186"
            ],
            [
             0.8,
             "#7fbc41"
            ],
            [
             0.9,
             "#4d9221"
            ],
            [
             1,
             "#276419"
            ]
           ],
           "sequential": [
            [
             0,
             "#0d0887"
            ],
            [
             0.1111111111111111,
             "#46039f"
            ],
            [
             0.2222222222222222,
             "#7201a8"
            ],
            [
             0.3333333333333333,
             "#9c179e"
            ],
            [
             0.4444444444444444,
             "#bd3786"
            ],
            [
             0.5555555555555556,
             "#d8576b"
            ],
            [
             0.6666666666666666,
             "#ed7953"
            ],
            [
             0.7777777777777778,
             "#fb9f3a"
            ],
            [
             0.8888888888888888,
             "#fdca26"
            ],
            [
             1,
             "#f0f921"
            ]
           ],
           "sequentialminus": [
            [
             0,
             "#0d0887"
            ],
            [
             0.1111111111111111,
             "#46039f"
            ],
            [
             0.2222222222222222,
             "#7201a8"
            ],
            [
             0.3333333333333333,
             "#9c179e"
            ],
            [
             0.4444444444444444,
             "#bd3786"
            ],
            [
             0.5555555555555556,
             "#d8576b"
            ],
            [
             0.6666666666666666,
             "#ed7953"
            ],
            [
             0.7777777777777778,
             "#fb9f3a"
            ],
            [
             0.8888888888888888,
             "#fdca26"
            ],
            [
             1,
             "#f0f921"
            ]
           ]
          },
          "colorway": [
           "#636efa",
           "#EF553B",
           "#00cc96",
           "#ab63fa",
           "#FFA15A",
           "#19d3f3",
           "#FF6692",
           "#B6E880",
           "#FF97FF",
           "#FECB52"
          ],
          "font": {
           "color": "#2a3f5f"
          },
          "geo": {
           "bgcolor": "white",
           "lakecolor": "white",
           "landcolor": "#E5ECF6",
           "showlakes": true,
           "showland": true,
           "subunitcolor": "white"
          },
          "hoverlabel": {
           "align": "left"
          },
          "hovermode": "closest",
          "mapbox": {
           "style": "light"
          },
          "paper_bgcolor": "white",
          "plot_bgcolor": "#E5ECF6",
          "polar": {
           "angularaxis": {
            "gridcolor": "white",
            "linecolor": "white",
            "ticks": ""
           },
           "bgcolor": "#E5ECF6",
           "radialaxis": {
            "gridcolor": "white",
            "linecolor": "white",
            "ticks": ""
           }
          },
          "scene": {
           "xaxis": {
            "backgroundcolor": "#E5ECF6",
            "gridcolor": "white",
            "gridwidth": 2,
            "linecolor": "white",
            "showbackground": true,
            "ticks": "",
            "zerolinecolor": "white"
           },
           "yaxis": {
            "backgroundcolor": "#E5ECF6",
            "gridcolor": "white",
            "gridwidth": 2,
            "linecolor": "white",
            "showbackground": true,
            "ticks": "",
            "zerolinecolor": "white"
           },
           "zaxis": {
            "backgroundcolor": "#E5ECF6",
            "gridcolor": "white",
            "gridwidth": 2,
            "linecolor": "white",
            "showbackground": true,
            "ticks": "",
            "zerolinecolor": "white"
           }
          },
          "shapedefaults": {
           "line": {
            "color": "#2a3f5f"
           }
          },
          "ternary": {
           "aaxis": {
            "gridcolor": "white",
            "linecolor": "white",
            "ticks": ""
           },
           "baxis": {
            "gridcolor": "white",
            "linecolor": "white",
            "ticks": ""
           },
           "bgcolor": "#E5ECF6",
           "caxis": {
            "gridcolor": "white",
            "linecolor": "white",
            "ticks": ""
           }
          },
          "title": {
           "x": 0.05
          },
          "xaxis": {
           "automargin": true,
           "gridcolor": "white",
           "linecolor": "white",
           "ticks": "",
           "title": {
            "standoff": 15
           },
           "zerolinecolor": "white",
           "zerolinewidth": 2
          },
          "yaxis": {
           "automargin": true,
           "gridcolor": "white",
           "linecolor": "white",
           "ticks": "",
           "title": {
            "standoff": 15
           },
           "zerolinecolor": "white",
           "zerolinewidth": 2
          }
         }
        },
        "width": 700,
        "xaxis": {
         "anchor": "y",
         "domain": [
          0,
          1
         ],
         "title": {
          "text": "Increase of forested area (% share in land area)"
         }
        },
        "yaxis": {
         "anchor": "x",
         "domain": [
          0,
          1
         ],
         "title": {}
        }
       }
      }
     },
     "metadata": {},
     "output_type": "display_data"
    }
   ],
   "source": [
    "import plotly.express as px\n",
    "\n",
    "\n",
    "fig = px.bar(forest_area, x='Decrease', y='Area', color='Country Group', orientation='h',\n",
    "             labels={'Decrease':'Increase of forested area (% share in land area)', 'Area': 'Country', 'Country Group': \"Continent\"})\n",
    "\n",
    "fig.update_layout(\n",
    "    showlegend=False,\n",
    "    yaxis_title=None,\n",
    "    width=700,\n",
    "    height=700,\n",
    ") \n",
    "\n",
    "fig.show()"
   ]
  },
  {
   "cell_type": "markdown",
   "execution_count": 52,
   "metadata": {},
   "outputs": [
    {
     "data": {
      "text/html": "<div>\n<style scoped>\n    .dataframe tbody tr th:only-of-type {\n        vertical-align: middle;\n    }\n\n    .dataframe tbody tr th {\n        vertical-align: top;\n    }\n\n    .dataframe thead th {\n        text-align: right;\n    }\n</style>\n<table border=\"1\" class=\"dataframe\">\n  <thead>\n    <tr style=\"text-align: right;\">\n      <th></th>\n      <th>Area</th>\n      <th>Value_forest</th>\n      <th>Country</th>\n      <th>Country Group</th>\n      <th>Value_country</th>\n      <th>Decrease</th>\n    </tr>\n  </thead>\n  <tbody>\n    <tr>\n      <th>14</th>\n      <td>Myanmar</td>\n      <td>-8002.0</td>\n      <td>Myanmar</td>\n      <td>Asia</td>\n      <td>67659.0</td>\n      <td>-0.118270</td>\n    </tr>\n    <tr>\n      <th>12</th>\n      <td>Indonesia</td>\n      <td>-17967.0</td>\n      <td>Indonesia</td>\n      <td>Asia</td>\n      <td>191358.0</td>\n      <td>-0.093892</td>\n    </tr>\n    <tr>\n      <th>24</th>\n      <td>Uganda</td>\n      <td>-2233.0</td>\n      <td>Uganda</td>\n      <td>Africa</td>\n      <td>24155.0</td>\n      <td>-0.092445</td>\n    </tr>\n    <tr>\n      <th>16</th>\n      <td>Nigeria</td>\n      <td>-8192.5</td>\n      <td>Nigeria</td>\n      <td>Africa</td>\n      <td>92377.0</td>\n      <td>-0.088685</td>\n    </tr>\n    <tr>\n      <th>25</th>\n      <td>United Republic of Tanzania</td>\n      <td>-7860.0</td>\n      <td>United Republic of Tanzania</td>\n      <td>Africa</td>\n      <td>94730.0</td>\n      <td>-0.082973</td>\n    </tr>\n    <tr>\n      <th>2</th>\n      <td>Brazil</td>\n      <td>-40451.5</td>\n      <td>Brazil</td>\n      <td>South America</td>\n      <td>851577.0</td>\n      <td>-0.047502</td>\n    </tr>\n    <tr>\n      <th>5</th>\n      <td>Democratic Republic of the Congo</td>\n      <td>-6228.0</td>\n      <td>Democratic Republic of the Congo</td>\n      <td>Africa</td>\n      <td>234486.0</td>\n      <td>-0.026560</td>\n    </tr>\n    <tr>\n      <th>6</th>\n      <td>Ethiopia</td>\n      <td>-1910.5</td>\n      <td>Ethiopia</td>\n      <td>Africa</td>\n      <td>110430.0</td>\n      <td>-0.017301</td>\n    </tr>\n    <tr>\n      <th>17</th>\n      <td>Pakistan</td>\n      <td>-849.5</td>\n      <td>Pakistan</td>\n      <td>Asia</td>\n      <td>79610.0</td>\n      <td>-0.010671</td>\n    </tr>\n    <tr>\n      <th>0</th>\n      <td>Australia</td>\n      <td>-3940.0</td>\n      <td>Australia</td>\n      <td>Oceania</td>\n      <td>774122.0</td>\n      <td>-0.005090</td>\n    </tr>\n    <tr>\n      <th>1</th>\n      <td>Bangladesh</td>\n      <td>-52.0</td>\n      <td>Bangladesh</td>\n      <td>Asia</td>\n      <td>14763.0</td>\n      <td>-0.003522</td>\n    </tr>\n    <tr>\n      <th>3</th>\n      <td>Canada</td>\n      <td>-968.5</td>\n      <td>Canada</td>\n      <td>Northern America</td>\n      <td>987975.0</td>\n      <td>-0.000980</td>\n    </tr>\n    <tr>\n      <th>21</th>\n      <td>Sweden</td>\n      <td>-40.0</td>\n      <td>Sweden</td>\n      <td>Europe</td>\n      <td>44743.0</td>\n      <td>-0.000894</td>\n    </tr>\n    <tr>\n      <th>20</th>\n      <td>South Africa</td>\n      <td>0.0</td>\n      <td>South Africa</td>\n      <td>Africa</td>\n      <td>121909.0</td>\n      <td>0.000000</td>\n    </tr>\n    <tr>\n      <th>7</th>\n      <td>Finland</td>\n      <td>58.0</td>\n      <td>Finland</td>\n      <td>Europe</td>\n      <td>33844.6</td>\n      <td>0.001714</td>\n    </tr>\n    <tr>\n      <th>9</th>\n      <td>Germany</td>\n      <td>92.0</td>\n      <td>Germany</td>\n      <td>Europe</td>\n      <td>35740.9</td>\n      <td>0.002574</td>\n    </tr>\n    <tr>\n      <th>19</th>\n      <td>Russian Federation</td>\n      <td>5821.3</td>\n      <td>Russian Federation</td>\n      <td>Europe</td>\n      <td>1709825.0</td>\n      <td>0.003405</td>\n    </tr>\n    <tr>\n      <th>13</th>\n      <td>Kenya</td>\n      <td>272.5</td>\n      <td>Kenya</td>\n      <td>Africa</td>\n      <td>58037.0</td>\n      <td>0.004695</td>\n    </tr>\n    <tr>\n      <th>26</th>\n      <td>United States of America</td>\n      <td>7102.0</td>\n      <td>United States of America</td>\n      <td>Northern America</td>\n      <td>983151.0</td>\n      <td>0.007224</td>\n    </tr>\n    <tr>\n      <th>15</th>\n      <td>New Zealand</td>\n      <td>253.5</td>\n      <td>New Zealand</td>\n      <td>Oceania</td>\n      <td>26771.0</td>\n      <td>0.009469</td>\n    </tr>\n    <tr>\n      <th>18</th>\n      <td>Poland</td>\n      <td>465.0</td>\n      <td>Poland</td>\n      <td>Europe</td>\n      <td>31268.0</td>\n      <td>0.014871</td>\n    </tr>\n    <tr>\n      <th>22</th>\n      <td>Thailand</td>\n      <td>891.0</td>\n      <td>Thailand</td>\n      <td>Asia</td>\n      <td>51312.0</td>\n      <td>0.017364</td>\n    </tr>\n    <tr>\n      <th>11</th>\n      <td>India</td>\n      <td>6017.5</td>\n      <td>India</td>\n      <td>Asia</td>\n      <td>328725.9</td>\n      <td>0.018306</td>\n    </tr>\n    <tr>\n      <th>23</th>\n      <td>Turkey</td>\n      <td>1812.5</td>\n      <td>Turkey</td>\n      <td>Asia</td>\n      <td>78535.0</td>\n      <td>0.023079</td>\n    </tr>\n    <tr>\n      <th>10</th>\n      <td>Ghana</td>\n      <td>569.0</td>\n      <td>Ghana</td>\n      <td>Africa</td>\n      <td>23854.0</td>\n      <td>0.023853</td>\n    </tr>\n    <tr>\n      <th>4</th>\n      <td>Chile</td>\n      <td>2186.5</td>\n      <td>Chile</td>\n      <td>South America</td>\n      <td>75609.6</td>\n      <td>0.028918</td>\n    </tr>\n    <tr>\n      <th>8</th>\n      <td>France</td>\n      <td>2126.5</td>\n      <td>France</td>\n      <td>Europe</td>\n      <td>54908.7</td>\n      <td>0.038728</td>\n    </tr>\n    <tr>\n      <th>27</th>\n      <td>Viet Nam</td>\n      <td>4228.0</td>\n      <td>Viet Nam</td>\n      <td>Asia</td>\n      <td>33123.0</td>\n      <td>0.127645</td>\n    </tr>\n  </tbody>\n</table>\n</div>",
      "text/plain": "                                Area  Value_forest  \\\n14                           Myanmar       -8002.0   \n12                         Indonesia      -17967.0   \n24                            Uganda       -2233.0   \n16                           Nigeria       -8192.5   \n25       United Republic of Tanzania       -7860.0   \n2                             Brazil      -40451.5   \n5   Democratic Republic of the Congo       -6228.0   \n6                           Ethiopia       -1910.5   \n17                          Pakistan        -849.5   \n0                          Australia       -3940.0   \n1                         Bangladesh         -52.0   \n3                             Canada        -968.5   \n21                            Sweden         -40.0   \n20                      South Africa           0.0   \n7                            Finland          58.0   \n9                            Germany          92.0   \n19                Russian Federation        5821.3   \n13                             Kenya         272.5   \n26          United States of America        7102.0   \n15                       New Zealand         253.5   \n18                            Poland         465.0   \n22                          Thailand         891.0   \n11                             India        6017.5   \n23                            Turkey        1812.5   \n10                             Ghana         569.0   \n4                              Chile        2186.5   \n8                             France        2126.5   \n27                          Viet Nam        4228.0   \n\n                             Country     Country Group  Value_country  \\\n14                           Myanmar              Asia        67659.0   \n12                         Indonesia              Asia       191358.0   \n24                            Uganda            Africa        24155.0   \n16                           Nigeria            Africa        92377.0   \n25       United Republic of Tanzania            Africa        94730.0   \n2                             Brazil     South America       851577.0   \n5   Democratic Republic of the Congo            Africa       234486.0   \n6                           Ethiopia            Africa       110430.0   \n17                          Pakistan              Asia        79610.0   \n0                          Australia           Oceania       774122.0   \n1                         Bangladesh              Asia        14763.0   \n3                             Canada  Northern America       987975.0   \n21                            Sweden            Europe        44743.0   \n20                      South Africa            Africa       121909.0   \n7                            Finland            Europe        33844.6   \n9                            Germany            Europe        35740.9   \n19                Russian Federation            Europe      1709825.0   \n13                             Kenya            Africa        58037.0   \n26          United States of America  Northern America       983151.0   \n15                       New Zealand           Oceania        26771.0   \n18                            Poland            Europe        31268.0   \n22                          Thailand              Asia        51312.0   \n11                             India              Asia       328725.9   \n23                            Turkey              Asia        78535.0   \n10                             Ghana            Africa        23854.0   \n4                              Chile     South America        75609.6   \n8                             France            Europe        54908.7   \n27                          Viet Nam              Asia        33123.0   \n\n    Decrease  \n14 -0.118270  \n12 -0.093892  \n24 -0.092445  \n16 -0.088685  \n25 -0.082973  \n2  -0.047502  \n5  -0.026560  \n6  -0.017301  \n17 -0.010671  \n0  -0.005090  \n1  -0.003522  \n3  -0.000980  \n21 -0.000894  \n20  0.000000  \n7   0.001714  \n9   0.002574  \n19  0.003405  \n13  0.004695  \n26  0.007224  \n15  0.009469  \n18  0.014871  \n22  0.017364  \n11  0.018306  \n23  0.023079  \n10  0.023853  \n4   0.028918  \n8   0.038728  \n27  0.127645  "
     },
     "execution_count": 52,
     "metadata": {},
     "output_type": "execute_result"
    }
   ],
   "source": [
    "## Wood producers and deforestation\n",
    "\n",
    "All of therese countries lead in the production of roundwood in the world, but the effects of wood logging on the forested area are not so obvios as one could expect. All of the european natios (light blue) were able not to decrease share of the forested areas even trough the fact that this group of 6 countries (Russia, Sweden, Finland, Germany, France, Poland) produces 13% of the world roundwood. Even in USA recorded increase, while beeing the world number one in 2015. The complete opposit trend can be observed in Africa (red) where in some of the countries, forested areas have decreased by more than 8% in last 20 years. "
   ]
  },
  {
   "cell_type": "code",
   "execution_count": 70,
   "metadata": {},
   "outputs": [
    {
     "data": {
      "text/plain": "'3_production_deforestation.html'"
     },
     "execution_count": 70,
     "metadata": {},
     "output_type": "execute_result"
    }
   ],
   "source": [
    "# export the plot to html\n",
    "from plotly.offline import download_plotlyjs, init_notebook_mode, iplot, plot\n",
    "import plotly.graph_objs as go\n",
    "from IPython.core.display import display, HTML\n",
    "\n",
    "plot(fig, filename = '3_production_deforestation.html')\n"
   ]
  },
  {
   "cell_type": "code",
   "execution_count": null,
   "metadata": {},
   "outputs": [],
   "source": []
  }
 ]
}