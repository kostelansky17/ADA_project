{
 "nbformat": 4,
 "nbformat_minor": 2,
 "metadata": {
  "language_info": {
   "name": "python",
   "codemirror_mode": {
    "name": "ipython",
    "version": 3
   }
  },
  "orig_nbformat": 2,
  "file_extension": ".py",
  "mimetype": "text/x-python",
  "name": "python",
  "npconvert_exporter": "python",
  "pygments_lexer": "ipython3",
  "version": 3
 },
 "cells": [
  {
   "cell_type": "code",
   "execution_count": 1,
   "metadata": {},
   "outputs": [],
   "source": [
    "import pandas as pd\n"
   ]
  },
  {
   "cell_type": "code",
   "execution_count": 2,
   "metadata": {},
   "outputs": [],
   "source": [
    "livestock = pd.read_csv(\"data/faostat/Environment_LivestockPatterns_E_All_Data_cleared.csv\", engine='python')\n"
   ]
  },
  {
   "cell_type": "code",
   "execution_count": 3,
   "metadata": {},
   "outputs": [],
   "source": [
    "env_land_cover = pd.read_csv(\"data/faostat/Environment_LandCover_E_All_Data_cleared.csv\", engine='python')\n",
    "env_land_use = pd.read_csv(\"data/faostat/Environment_LandUse_E_All_Data_cleared.csv\", engine='python')\n"
   ]
  },
  {
   "cell_type": "code",
   "execution_count": 4,
   "metadata": {},
   "outputs": [],
   "source": [
    "for_all = pd.read_csv(\"data/faostat/Forestry_E_All_Data_cleared.csv\", engine='python')\n",
    "for_trade = pd.read_csv(\"data/faostat/Forestry_Trade_Flows_E_All_Data_cleared.csv\", engine='python')\n"
   ]
  },
  {
   "cell_type": "code",
   "execution_count": 3,
   "metadata": {},
   "outputs": [],
   "source": [
    "inp_land_use = pd.read_csv(\"data/faostat/Inputs_LandUse_E_All_Data_cleared.csv\", engine='python')\n"
   ]
  },
  {
   "cell_type": "code",
   "execution_count": 45,
   "metadata": {},
   "outputs": [
    {
     "data": {
      "text/html": "<div>\n<style scoped>\n    .dataframe tbody tr th:only-of-type {\n        vertical-align: middle;\n    }\n\n    .dataframe tbody tr th {\n        vertical-align: top;\n    }\n\n    .dataframe thead th {\n        text-align: right;\n    }\n</style>\n<table border=\"1\" class=\"dataframe\">\n  <thead>\n    <tr style=\"text-align: right;\">\n      <th></th>\n      <th>Area Code</th>\n      <th>Area</th>\n      <th>Item Code</th>\n      <th>Item</th>\n      <th>Element Code</th>\n      <th>Element</th>\n      <th>Year Code</th>\n      <th>Year</th>\n      <th>Unit</th>\n      <th>Value</th>\n      <th>Flag</th>\n    </tr>\n  </thead>\n  <tbody>\n    <tr>\n      <th>507</th>\n      <td>2</td>\n      <td>Afghanistan</td>\n      <td>6663</td>\n      <td>Forestry</td>\n      <td>5110</td>\n      <td>Area</td>\n      <td>1990</td>\n      <td>1990</td>\n      <td>1000 ha</td>\n      <td>1350.0</td>\n      <td>E</td>\n    </tr>\n    <tr>\n      <th>508</th>\n      <td>2</td>\n      <td>Afghanistan</td>\n      <td>6663</td>\n      <td>Forestry</td>\n      <td>5110</td>\n      <td>Area</td>\n      <td>1991</td>\n      <td>1991</td>\n      <td>1000 ha</td>\n      <td>1350.0</td>\n      <td>Fm</td>\n    </tr>\n    <tr>\n      <th>509</th>\n      <td>2</td>\n      <td>Afghanistan</td>\n      <td>6663</td>\n      <td>Forestry</td>\n      <td>5110</td>\n      <td>Area</td>\n      <td>1992</td>\n      <td>1992</td>\n      <td>1000 ha</td>\n      <td>1350.0</td>\n      <td>Fm</td>\n    </tr>\n    <tr>\n      <th>510</th>\n      <td>2</td>\n      <td>Afghanistan</td>\n      <td>6663</td>\n      <td>Forestry</td>\n      <td>5110</td>\n      <td>Area</td>\n      <td>1993</td>\n      <td>1993</td>\n      <td>1000 ha</td>\n      <td>1350.0</td>\n      <td>Fm</td>\n    </tr>\n    <tr>\n      <th>511</th>\n      <td>2</td>\n      <td>Afghanistan</td>\n      <td>6663</td>\n      <td>Forestry</td>\n      <td>5110</td>\n      <td>Area</td>\n      <td>1994</td>\n      <td>1994</td>\n      <td>1000 ha</td>\n      <td>1350.0</td>\n      <td>Fm</td>\n    </tr>\n  </tbody>\n</table>\n</div>",
      "text/plain": "     Area Code         Area  Item Code      Item  Element Code Element  \\\n507          2  Afghanistan       6663  Forestry          5110    Area   \n508          2  Afghanistan       6663  Forestry          5110    Area   \n509          2  Afghanistan       6663  Forestry          5110    Area   \n510          2  Afghanistan       6663  Forestry          5110    Area   \n511          2  Afghanistan       6663  Forestry          5110    Area   \n\n     Year Code  Year     Unit   Value Flag  \n507       1990  1990  1000 ha  1350.0    E  \n508       1991  1991  1000 ha  1350.0   Fm  \n509       1992  1992  1000 ha  1350.0   Fm  \n510       1993  1993  1000 ha  1350.0   Fm  \n511       1994  1994  1000 ha  1350.0   Fm  "
     },
     "execution_count": 45,
     "metadata": {},
     "output_type": "execute_result"
    }
   ],
   "source": [
    "FORESTS_LU = ['Forestry', 'Forest land', 'Primary Forest','Other naturally regenerated forest', 'Planted Forest']\n",
    "\n",
    "inp_land_use[inp_land_use.Item.isin(FORESTS_LU) & inp_land_use.Element.str.match('Area')].head()\n"
   ]
  },
  {
   "cell_type": "code",
   "execution_count": 5,
   "metadata": {},
   "outputs": [
    {
     "data": {
      "text/plain": "array(['Country area', 'Land area', 'Agriculture', 'Agricultural land',\n       'Cropland', 'Arable land', 'Land under temporary crops',\n       'Land with temporary fallow', 'Land under permanent crops',\n       'Land under perm. meadows and pastures',\n       'Perm. meadows & pastures - Nat. growing', 'Forestry',\n       'Forest land', 'Primary Forest',\n       'Other naturally regenerated forest', 'Planted Forest',\n       'Other land', 'Land area equipped for irrigation',\n       'Agriculture area actually irrigated',\n       'Agriculture area under organic agric.',\n       'Agriculture area certified organic',\n       'Land under temp. meadows and pastures', 'Inland waters',\n       'Coastal waters', 'Cropland area actually irrigated',\n       'Cropland area under organic agric.',\n       'Cropland area certified organic',\n       'Perm. meadows & pastures - Cultivated',\n       'Land used for aquaculture',\n       'Perm. meadows & pastures area actually irrig.',\n       'Land under protective cover',\n       'Perm. meadows & pastures area under organic agric.',\n       'Land area actually irrigated',\n       'Cropland area under conventional tillage',\n       'Cropland area under conservation tillage',\n       'Cropland area under zero or no tillage',\n       'Farm buildings & farmyards',\n       'Perm. meadows & pastures area certified organic',\n       'Inland waters used for aquac. or holding facilities',\n       'Exclusive Economic Zone (EEZ)',\n       'Coastal waters used for aquac. or holding facilities',\n       'Coastal waters used for capture fisheries',\n       'EEZ used for aquac. or holding facilities',\n       'Inland waters used for capture fisheries',\n       'EEZ used for capture fisheries'], dtype=object)"
     },
     "execution_count": 5,
     "metadata": {},
     "output_type": "execute_result"
    }
   ],
   "source": [
    "inp_land_use.Item.unique()\n",
    "\n"
   ]
  },
  {
   "cell_type": "code",
   "execution_count": 1,
   "metadata": {},
   "outputs": [
    {
     "ename": "NameError",
     "evalue": "name 'inp_land_use' is not defined",
     "output_type": "error",
     "traceback": [
      "\u001b[0;31m---------------------------------------------------------------------------\u001b[0m",
      "\u001b[0;31mNameError\u001b[0m                                 Traceback (most recent call last)",
      "\u001b[0;32m<ipython-input-1-ab1f5ddc86f4>\u001b[0m in \u001b[0;36m<module>\u001b[0;34m\u001b[0m\n\u001b[0;32m----> 1\u001b[0;31m \u001b[0minp_land_use\u001b[0m\u001b[0;34m[\u001b[0m\u001b[0;34m\"Item\"\u001b[0m\u001b[0;34m]\u001b[0m\u001b[0;34m.\u001b[0m\u001b[0munique\u001b[0m\u001b[0;34m(\u001b[0m\u001b[0;34m)\u001b[0m\u001b[0;34m\u001b[0m\u001b[0;34m\u001b[0m\u001b[0m\n\u001b[0m\u001b[1;32m      2\u001b[0m \u001b[0;34m\u001b[0m\u001b[0m\n",
      "\u001b[0;31mNameError\u001b[0m: name 'inp_land_use' is not defined"
     ]
    }
   ],
   "source": [
    "inp_land_use[\"Ite\"].unique()\n",
    "\n"
   ]
  },
  {
   "cell_type": "code",
   "execution_count": 17,
   "metadata": {},
   "outputs": [
    {
     "data": {
      "text/html": "<div>\n<style scoped>\n    .dataframe tbody tr th:only-of-type {\n        vertical-align: middle;\n    }\n\n    .dataframe tbody tr th {\n        vertical-align: top;\n    }\n\n    .dataframe thead th {\n        text-align: right;\n    }\n</style>\n<table border=\"1\" class=\"dataframe\">\n  <thead>\n    <tr style=\"text-align: right;\">\n      <th></th>\n      <th>Area Code</th>\n      <th>Area</th>\n      <th>Item Code</th>\n      <th>Item</th>\n      <th>Element Code</th>\n      <th>Element</th>\n      <th>Year Code</th>\n      <th>Year</th>\n      <th>Unit</th>\n      <th>Value</th>\n      <th>Flag</th>\n    </tr>\n  </thead>\n  <tbody>\n    <tr>\n      <th>563</th>\n      <td>2</td>\n      <td>Afghanistan</td>\n      <td>6646</td>\n      <td>Forest land</td>\n      <td>72151</td>\n      <td>Carbon stock in living biomass</td>\n      <td>1990</td>\n      <td>1990</td>\n      <td>million tonnes</td>\n      <td>38.3000</td>\n      <td>E</td>\n    </tr>\n    <tr>\n      <th>564</th>\n      <td>2</td>\n      <td>Afghanistan</td>\n      <td>6646</td>\n      <td>Forest land</td>\n      <td>72151</td>\n      <td>Carbon stock in living biomass</td>\n      <td>1991</td>\n      <td>1991</td>\n      <td>million tonnes</td>\n      <td>38.3000</td>\n      <td>Fm</td>\n    </tr>\n    <tr>\n      <th>565</th>\n      <td>2</td>\n      <td>Afghanistan</td>\n      <td>6646</td>\n      <td>Forest land</td>\n      <td>72151</td>\n      <td>Carbon stock in living biomass</td>\n      <td>1992</td>\n      <td>1992</td>\n      <td>million tonnes</td>\n      <td>38.3000</td>\n      <td>Fm</td>\n    </tr>\n    <tr>\n      <th>566</th>\n      <td>2</td>\n      <td>Afghanistan</td>\n      <td>6646</td>\n      <td>Forest land</td>\n      <td>72151</td>\n      <td>Carbon stock in living biomass</td>\n      <td>1993</td>\n      <td>1993</td>\n      <td>million tonnes</td>\n      <td>38.3000</td>\n      <td>Fm</td>\n    </tr>\n    <tr>\n      <th>567</th>\n      <td>2</td>\n      <td>Afghanistan</td>\n      <td>6646</td>\n      <td>Forest land</td>\n      <td>72151</td>\n      <td>Carbon stock in living biomass</td>\n      <td>1994</td>\n      <td>1994</td>\n      <td>million tonnes</td>\n      <td>38.3000</td>\n      <td>Fm</td>\n    </tr>\n    <tr>\n      <th>...</th>\n      <td>...</td>\n      <td>...</td>\n      <td>...</td>\n      <td>...</td>\n      <td>...</td>\n      <td>...</td>\n      <td>...</td>\n      <td>...</td>\n      <td>...</td>\n      <td>...</td>\n      <td>...</td>\n    </tr>\n    <tr>\n      <th>193691</th>\n      <td>5817</td>\n      <td>Net Food Importing Developing Countries</td>\n      <td>6646</td>\n      <td>Forest land</td>\n      <td>72151</td>\n      <td>Carbon stock in living biomass</td>\n      <td>2013</td>\n      <td>2013</td>\n      <td>million tonnes</td>\n      <td>71091.4625</td>\n      <td>A</td>\n    </tr>\n    <tr>\n      <th>193692</th>\n      <td>5817</td>\n      <td>Net Food Importing Developing Countries</td>\n      <td>6646</td>\n      <td>Forest land</td>\n      <td>72151</td>\n      <td>Carbon stock in living biomass</td>\n      <td>2014</td>\n      <td>2014</td>\n      <td>million tonnes</td>\n      <td>70885.2928</td>\n      <td>A</td>\n    </tr>\n    <tr>\n      <th>193693</th>\n      <td>5817</td>\n      <td>Net Food Importing Developing Countries</td>\n      <td>6646</td>\n      <td>Forest land</td>\n      <td>72151</td>\n      <td>Carbon stock in living biomass</td>\n      <td>2015</td>\n      <td>2015</td>\n      <td>million tonnes</td>\n      <td>70679.1231</td>\n      <td>A</td>\n    </tr>\n    <tr>\n      <th>193694</th>\n      <td>5817</td>\n      <td>Net Food Importing Developing Countries</td>\n      <td>6646</td>\n      <td>Forest land</td>\n      <td>72151</td>\n      <td>Carbon stock in living biomass</td>\n      <td>2016</td>\n      <td>2016</td>\n      <td>million tonnes</td>\n      <td>70679.1231</td>\n      <td>A</td>\n    </tr>\n    <tr>\n      <th>193695</th>\n      <td>5817</td>\n      <td>Net Food Importing Developing Countries</td>\n      <td>6646</td>\n      <td>Forest land</td>\n      <td>72151</td>\n      <td>Carbon stock in living biomass</td>\n      <td>2017</td>\n      <td>2017</td>\n      <td>million tonnes</td>\n      <td>70679.1231</td>\n      <td>A</td>\n    </tr>\n  </tbody>\n</table>\n<p>7270 rows × 11 columns</p>\n</div>",
      "text/plain": "        Area Code                                     Area  Item Code  \\\n563             2                              Afghanistan       6646   \n564             2                              Afghanistan       6646   \n565             2                              Afghanistan       6646   \n566             2                              Afghanistan       6646   \n567             2                              Afghanistan       6646   \n...           ...                                      ...        ...   \n193691       5817  Net Food Importing Developing Countries       6646   \n193692       5817  Net Food Importing Developing Countries       6646   \n193693       5817  Net Food Importing Developing Countries       6646   \n193694       5817  Net Food Importing Developing Countries       6646   \n193695       5817  Net Food Importing Developing Countries       6646   \n\n               Item  Element Code                         Element  Year Code  \\\n563     Forest land         72151  Carbon stock in living biomass       1990   \n564     Forest land         72151  Carbon stock in living biomass       1991   \n565     Forest land         72151  Carbon stock in living biomass       1992   \n566     Forest land         72151  Carbon stock in living biomass       1993   \n567     Forest land         72151  Carbon stock in living biomass       1994   \n...             ...           ...                             ...        ...   \n193691  Forest land         72151  Carbon stock in living biomass       2013   \n193692  Forest land         72151  Carbon stock in living biomass       2014   \n193693  Forest land         72151  Carbon stock in living biomass       2015   \n193694  Forest land         72151  Carbon stock in living biomass       2016   \n193695  Forest land         72151  Carbon stock in living biomass       2017   \n\n        Year            Unit       Value Flag  \n563     1990  million tonnes     38.3000    E  \n564     1991  million tonnes     38.3000   Fm  \n565     1992  million tonnes     38.3000   Fm  \n566     1993  million tonnes     38.3000   Fm  \n567     1994  million tonnes     38.3000   Fm  \n...      ...             ...         ...  ...  \n193691  2013  million tonnes  71091.4625    A  \n193692  2014  million tonnes  70885.2928    A  \n193693  2015  million tonnes  70679.1231    A  \n193694  2016  million tonnes  70679.1231    A  \n193695  2017  million tonnes  70679.1231    A  \n\n[7270 rows x 11 columns]"
     },
     "execution_count": 17,
     "metadata": {},
     "output_type": "execute_result"
    }
   ],
   "source": [
    "inp_land_use[inp_land_use.Unit =='million tonnes']"
   ]
  },
  {
   "cell_type": "code",
   "execution_count": null,
   "metadata": {},
   "outputs": [],
   "source": []
  },
  {
   "cell_type": "code",
   "execution_count": null,
   "metadata": {},
   "outputs": [],
   "source": []
  }
 ]
}